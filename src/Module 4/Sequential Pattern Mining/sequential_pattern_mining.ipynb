{
 "cells": [
  {
   "cell_type": "markdown",
   "metadata": {},
   "source": [
    "# Sequential Pattern Mining"
   ]
  },
  {
   "cell_type": "code",
   "execution_count": 324,
   "metadata": {},
   "outputs": [],
   "source": [
    "%matplotlib inline\n",
    "\n",
    "import os,sys,inspect\n",
    "PATH = '/Users/gaetanoantonicchio/Documents/GitHub/DataMining-2'\n",
    "sys.path.insert(0, PATH)\n",
    "\n",
    "import pandas as pd\n",
    "import numpy as np\n",
    "import matplotlib.pyplot as plt\n",
    "from fma_metadata import utils\n",
    "from tqdm import tqdm\n",
    "import warnings\n",
    "warnings.filterwarnings(\"ignore\")"
   ]
  },
  {
   "cell_type": "markdown",
   "metadata": {},
   "source": [
    "# SPM of Tags"
   ]
  },
  {
   "cell_type": "code",
   "execution_count": 387,
   "metadata": {},
   "outputs": [],
   "source": [
    "tracks = utils.load(\"/Users/gaetanoantonicchio/Desktop/dataset_DM2/fma_metadata/tracks.csv\")"
   ]
  },
  {
   "cell_type": "code",
   "execution_count": 388,
   "metadata": {},
   "outputs": [],
   "source": [
    "df = tracks['track'][['date_created', 'tags']]"
   ]
  },
  {
   "cell_type": "code",
   "execution_count": 389,
   "metadata": {},
   "outputs": [
    {
     "data": {
      "text/html": [
       "<div>\n",
       "<style scoped>\n",
       "    .dataframe tbody tr th:only-of-type {\n",
       "        vertical-align: middle;\n",
       "    }\n",
       "\n",
       "    .dataframe tbody tr th {\n",
       "        vertical-align: top;\n",
       "    }\n",
       "\n",
       "    .dataframe thead th {\n",
       "        text-align: right;\n",
       "    }\n",
       "</style>\n",
       "<table border=\"1\" class=\"dataframe\">\n",
       "  <thead>\n",
       "    <tr style=\"text-align: right;\">\n",
       "      <th></th>\n",
       "      <th>date_created</th>\n",
       "      <th>tags</th>\n",
       "    </tr>\n",
       "    <tr>\n",
       "      <th>track_id</th>\n",
       "      <th></th>\n",
       "      <th></th>\n",
       "    </tr>\n",
       "  </thead>\n",
       "  <tbody>\n",
       "    <tr>\n",
       "      <th>2</th>\n",
       "      <td>2008-11-26 01:48:12</td>\n",
       "      <td>[]</td>\n",
       "    </tr>\n",
       "    <tr>\n",
       "      <th>3</th>\n",
       "      <td>2008-11-26 01:48:14</td>\n",
       "      <td>[]</td>\n",
       "    </tr>\n",
       "    <tr>\n",
       "      <th>5</th>\n",
       "      <td>2008-11-26 01:48:20</td>\n",
       "      <td>[]</td>\n",
       "    </tr>\n",
       "    <tr>\n",
       "      <th>10</th>\n",
       "      <td>2008-11-25 17:49:06</td>\n",
       "      <td>[]</td>\n",
       "    </tr>\n",
       "    <tr>\n",
       "      <th>20</th>\n",
       "      <td>2008-11-26 01:48:56</td>\n",
       "      <td>[]</td>\n",
       "    </tr>\n",
       "  </tbody>\n",
       "</table>\n",
       "</div>"
      ],
      "text/plain": [
       "                date_created tags\n",
       "track_id                         \n",
       "2        2008-11-26 01:48:12   []\n",
       "3        2008-11-26 01:48:14   []\n",
       "5        2008-11-26 01:48:20   []\n",
       "10       2008-11-25 17:49:06   []\n",
       "20       2008-11-26 01:48:56   []"
      ]
     },
     "execution_count": 389,
     "metadata": {},
     "output_type": "execute_result"
    }
   ],
   "source": [
    "df.head()"
   ]
  },
  {
   "cell_type": "code",
   "execution_count": 390,
   "metadata": {},
   "outputs": [],
   "source": [
    "index_todrop = df[df['tags'].astype(str)=='[]'].index"
   ]
  },
  {
   "cell_type": "code",
   "execution_count": 391,
   "metadata": {},
   "outputs": [],
   "source": [
    "df.drop(index=index_todrop, axis=0, inplace=True)"
   ]
  },
  {
   "cell_type": "code",
   "execution_count": 392,
   "metadata": {},
   "outputs": [
    {
     "data": {
      "text/html": [
       "<div>\n",
       "<style scoped>\n",
       "    .dataframe tbody tr th:only-of-type {\n",
       "        vertical-align: middle;\n",
       "    }\n",
       "\n",
       "    .dataframe tbody tr th {\n",
       "        vertical-align: top;\n",
       "    }\n",
       "\n",
       "    .dataframe thead th {\n",
       "        text-align: right;\n",
       "    }\n",
       "</style>\n",
       "<table border=\"1\" class=\"dataframe\">\n",
       "  <thead>\n",
       "    <tr style=\"text-align: right;\">\n",
       "      <th></th>\n",
       "      <th>date_created</th>\n",
       "      <th>tags</th>\n",
       "    </tr>\n",
       "    <tr>\n",
       "      <th>track_id</th>\n",
       "      <th></th>\n",
       "      <th></th>\n",
       "    </tr>\n",
       "  </thead>\n",
       "  <tbody>\n",
       "    <tr>\n",
       "      <th>137</th>\n",
       "      <td>2008-11-26 01:43:42</td>\n",
       "      <td>[lafms]</td>\n",
       "    </tr>\n",
       "    <tr>\n",
       "      <th>138</th>\n",
       "      <td>2008-11-26 01:43:56</td>\n",
       "      <td>[lafms]</td>\n",
       "    </tr>\n",
       "    <tr>\n",
       "      <th>850</th>\n",
       "      <td>2008-11-26 02:22:01</td>\n",
       "      <td>[baltimore]</td>\n",
       "    </tr>\n",
       "    <tr>\n",
       "      <th>851</th>\n",
       "      <td>2008-11-26 02:22:04</td>\n",
       "      <td>[baltimore]</td>\n",
       "    </tr>\n",
       "    <tr>\n",
       "      <th>852</th>\n",
       "      <td>2008-11-26 02:22:08</td>\n",
       "      <td>[baltimore]</td>\n",
       "    </tr>\n",
       "  </tbody>\n",
       "</table>\n",
       "</div>"
      ],
      "text/plain": [
       "                date_created         tags\n",
       "track_id                                 \n",
       "137      2008-11-26 01:43:42      [lafms]\n",
       "138      2008-11-26 01:43:56      [lafms]\n",
       "850      2008-11-26 02:22:01  [baltimore]\n",
       "851      2008-11-26 02:22:04  [baltimore]\n",
       "852      2008-11-26 02:22:08  [baltimore]"
      ]
     },
     "execution_count": 392,
     "metadata": {},
     "output_type": "execute_result"
    }
   ],
   "source": [
    "df.head()"
   ]
  },
  {
   "cell_type": "code",
   "execution_count": 393,
   "metadata": {},
   "outputs": [],
   "source": [
    "artist = tracks['artist']['name']"
   ]
  },
  {
   "cell_type": "code",
   "execution_count": 394,
   "metadata": {},
   "outputs": [],
   "source": [
    "df = df.merge(artist, on='track_id')"
   ]
  },
  {
   "cell_type": "code",
   "execution_count": 395,
   "metadata": {},
   "outputs": [
    {
     "data": {
      "text/plain": [
       "Ars Sonor                          266\n",
       "Podington Bear                     232\n",
       "Jared C. Balogh                    229\n",
       "Jahzzar                            228\n",
       "Zreen Toyz                         224\n",
       "                                  ... \n",
       "Ayato & Stillborn Blues              1\n",
       "Mother Tongue                        1\n",
       "Carbo Flex                           1\n",
       "Jeremy Harley                        1\n",
       "Blaise Siwula and Sten Hostfalt      1\n",
       "Name: name, Length: 4585, dtype: int64"
      ]
     },
     "execution_count": 395,
     "metadata": {},
     "output_type": "execute_result"
    }
   ],
   "source": [
    "df['name'].value_counts()"
   ]
  },
  {
   "cell_type": "markdown",
   "metadata": {},
   "source": [
    "## Restrict SPM on \"Ars Sonor\""
   ]
  },
  {
   "cell_type": "code",
   "execution_count": 401,
   "metadata": {},
   "outputs": [],
   "source": [
    "ars_sonor_seq = df[df['name']=='Ars Sonor']\n",
    "ars_sonor_seq.set_index('date_created', inplace=True)"
   ]
  },
  {
   "cell_type": "code",
   "execution_count": 402,
   "metadata": {},
   "outputs": [],
   "source": [
    "ars_sonor_seq = ars_sonor_seq.iloc[:,:-1]"
   ]
  },
  {
   "cell_type": "code",
   "execution_count": 403,
   "metadata": {},
   "outputs": [
    {
     "data": {
      "text/html": [
       "<div>\n",
       "<style scoped>\n",
       "    .dataframe tbody tr th:only-of-type {\n",
       "        vertical-align: middle;\n",
       "    }\n",
       "\n",
       "    .dataframe tbody tr th {\n",
       "        vertical-align: top;\n",
       "    }\n",
       "\n",
       "    .dataframe thead th {\n",
       "        text-align: right;\n",
       "    }\n",
       "</style>\n",
       "<table border=\"1\" class=\"dataframe\">\n",
       "  <thead>\n",
       "    <tr style=\"text-align: right;\">\n",
       "      <th></th>\n",
       "      <th>tags</th>\n",
       "    </tr>\n",
       "    <tr>\n",
       "      <th>date_created</th>\n",
       "      <th></th>\n",
       "    </tr>\n",
       "  </thead>\n",
       "  <tbody>\n",
       "    <tr>\n",
       "      <th>2013-12-02 18:01:05</th>\n",
       "      <td>[murmure intemporel]</td>\n",
       "    </tr>\n",
       "    <tr>\n",
       "      <th>2015-04-18 16:22:11</th>\n",
       "      <td>[vladimir hirsch, union furnace, teleg, jaan p...</td>\n",
       "    </tr>\n",
       "    <tr>\n",
       "      <th>2015-11-07 11:10:18</th>\n",
       "      <td>[irina k, elizabeth veldon, suzanne k, laetiti...</td>\n",
       "    </tr>\n",
       "    <tr>\n",
       "      <th>2015-11-07 11:10:18</th>\n",
       "      <td>[irina k, elizabeth veldon, suzanne k, laetiti...</td>\n",
       "    </tr>\n",
       "    <tr>\n",
       "      <th>2015-11-07 11:10:19</th>\n",
       "      <td>[irina k, elizabeth veldon, suzanne k, laetiti...</td>\n",
       "    </tr>\n",
       "  </tbody>\n",
       "</table>\n",
       "</div>"
      ],
      "text/plain": [
       "                                                                  tags\n",
       "date_created                                                          \n",
       "2013-12-02 18:01:05                               [murmure intemporel]\n",
       "2015-04-18 16:22:11  [vladimir hirsch, union furnace, teleg, jaan p...\n",
       "2015-11-07 11:10:18  [irina k, elizabeth veldon, suzanne k, laetiti...\n",
       "2015-11-07 11:10:18  [irina k, elizabeth veldon, suzanne k, laetiti...\n",
       "2015-11-07 11:10:19  [irina k, elizabeth veldon, suzanne k, laetiti..."
      ]
     },
     "execution_count": 403,
     "metadata": {},
     "output_type": "execute_result"
    }
   ],
   "source": [
    "ars_sonor_seq.head()"
   ]
  },
  {
   "cell_type": "code",
   "execution_count": 377,
   "metadata": {},
   "outputs": [],
   "source": [
    "seq = list()\n",
    "for i in range(ars_sonor_seq.values.shape[0]):\n",
    "    for j in ars_sonor_seq.values[i]:\n",
    "        seq.append(tuple(j))"
   ]
  },
  {
   "cell_type": "code",
   "execution_count": 379,
   "metadata": {},
   "outputs": [
    {
     "data": {
      "text/plain": [
       "('irina k', 'elizabeth veldon', 'suzanne k', 'laetitia schteinberg')"
      ]
     },
     "execution_count": 379,
     "metadata": {},
     "output_type": "execute_result"
    }
   ],
   "source": [
    "seq[2]"
   ]
  },
  {
   "cell_type": "code",
   "execution_count": 380,
   "metadata": {},
   "outputs": [],
   "source": [
    "from prefixspan import PrefixSpan"
   ]
  },
  {
   "cell_type": "code",
   "execution_count": 381,
   "metadata": {},
   "outputs": [],
   "source": [
    "ps = PrefixSpan(seq)"
   ]
  },
  {
   "cell_type": "code",
   "execution_count": 386,
   "metadata": {},
   "outputs": [
    {
     "data": {
      "text/plain": [
       "[(176, ['24-bit']), (117, ['era 3b']), (91, ['era 3b', '24-bit'])]"
      ]
     },
     "execution_count": 386,
     "metadata": {},
     "output_type": "execute_result"
    }
   ],
   "source": [
    "ps.frequent(minsup=80)"
   ]
  },
  {
   "cell_type": "code",
   "execution_count": 383,
   "metadata": {},
   "outputs": [
    {
     "data": {
      "text/plain": [
       "[(176, ['24-bit']),\n",
       " (117, ['era 3b']),\n",
       " (91, ['era 3b', '24-bit']),\n",
       " (41, ['kristin e']),\n",
       " (33, ['wallenberg', '24-bit']),\n",
       " (33, ['wallenberg', 'era 3b']),\n",
       " (27, ['suzanne k']),\n",
       " (27, ['the second circle']),\n",
       " (26, ['24-bit', 'era 3b']),\n",
       " (26, ['era 2'])]"
      ]
     },
     "execution_count": 383,
     "metadata": {},
     "output_type": "execute_result"
    }
   ],
   "source": [
    "ps.topk(10, closed=True)"
   ]
  },
  {
   "cell_type": "markdown",
   "metadata": {},
   "source": [
    "# SPM of Spectral Centroids"
   ]
  },
  {
   "cell_type": "code",
   "execution_count": 2,
   "metadata": {},
   "outputs": [],
   "source": [
    "df = pd.read_csv('/Users/gaetanoantonicchio/Downloads/ts_dataset.csv')"
   ]
  },
  {
   "cell_type": "code",
   "execution_count": 3,
   "metadata": {},
   "outputs": [],
   "source": [
    "df.set_index('track_id', inplace=True)"
   ]
  },
  {
   "cell_type": "code",
   "execution_count": 4,
   "metadata": {},
   "outputs": [],
   "source": [
    "from tslearn.preprocessing import TimeSeriesScalerMeanVariance\n",
    "from tslearn.piecewise import SymbolicAggregateApproximation"
   ]
  },
  {
   "cell_type": "code",
   "execution_count": 5,
   "metadata": {},
   "outputs": [],
   "source": [
    "scaler = TimeSeriesScalerMeanVariance(mu=0., std=1.)  # Rescale time series\n",
    "norm_df = scaler.fit_transform(df)\n",
    "norm_df = norm_df.squeeze()\n",
    "df = pd.DataFrame(norm_df, index=df.index)"
   ]
  },
  {
   "cell_type": "code",
   "execution_count": 6,
   "metadata": {},
   "outputs": [
    {
     "data": {
      "text/html": [
       "<div>\n",
       "<style scoped>\n",
       "    .dataframe tbody tr th:only-of-type {\n",
       "        vertical-align: middle;\n",
       "    }\n",
       "\n",
       "    .dataframe tbody tr th {\n",
       "        vertical-align: top;\n",
       "    }\n",
       "\n",
       "    .dataframe thead th {\n",
       "        text-align: right;\n",
       "    }\n",
       "</style>\n",
       "<table border=\"1\" class=\"dataframe\">\n",
       "  <thead>\n",
       "    <tr style=\"text-align: right;\">\n",
       "      <th></th>\n",
       "      <th>0</th>\n",
       "      <th>1</th>\n",
       "      <th>2</th>\n",
       "      <th>3</th>\n",
       "      <th>4</th>\n",
       "      <th>5</th>\n",
       "      <th>6</th>\n",
       "      <th>7</th>\n",
       "      <th>8</th>\n",
       "      <th>9</th>\n",
       "      <th>...</th>\n",
       "      <th>647</th>\n",
       "      <th>648</th>\n",
       "      <th>649</th>\n",
       "      <th>650</th>\n",
       "      <th>651</th>\n",
       "      <th>652</th>\n",
       "      <th>653</th>\n",
       "      <th>654</th>\n",
       "      <th>655</th>\n",
       "      <th>656</th>\n",
       "    </tr>\n",
       "    <tr>\n",
       "      <th>track_id</th>\n",
       "      <th></th>\n",
       "      <th></th>\n",
       "      <th></th>\n",
       "      <th></th>\n",
       "      <th></th>\n",
       "      <th></th>\n",
       "      <th></th>\n",
       "      <th></th>\n",
       "      <th></th>\n",
       "      <th></th>\n",
       "      <th></th>\n",
       "      <th></th>\n",
       "      <th></th>\n",
       "      <th></th>\n",
       "      <th></th>\n",
       "      <th></th>\n",
       "      <th></th>\n",
       "      <th></th>\n",
       "      <th></th>\n",
       "      <th></th>\n",
       "      <th></th>\n",
       "    </tr>\n",
       "  </thead>\n",
       "  <tbody>\n",
       "    <tr>\n",
       "      <th>2</th>\n",
       "      <td>-0.134461</td>\n",
       "      <td>1.091443</td>\n",
       "      <td>2.611349</td>\n",
       "      <td>2.097392</td>\n",
       "      <td>0.735365</td>\n",
       "      <td>0.544687</td>\n",
       "      <td>0.961243</td>\n",
       "      <td>0.489815</td>\n",
       "      <td>0.678479</td>\n",
       "      <td>0.583783</td>\n",
       "      <td>...</td>\n",
       "      <td>1.659076</td>\n",
       "      <td>0.728619</td>\n",
       "      <td>1.144180</td>\n",
       "      <td>1.641569</td>\n",
       "      <td>1.646186</td>\n",
       "      <td>1.155188</td>\n",
       "      <td>0.243829</td>\n",
       "      <td>-1.270410</td>\n",
       "      <td>-1.418964</td>\n",
       "      <td>-1.378548</td>\n",
       "    </tr>\n",
       "    <tr>\n",
       "      <th>5</th>\n",
       "      <td>-0.915597</td>\n",
       "      <td>-0.890180</td>\n",
       "      <td>-1.271114</td>\n",
       "      <td>-1.254090</td>\n",
       "      <td>0.034274</td>\n",
       "      <td>0.782003</td>\n",
       "      <td>0.836597</td>\n",
       "      <td>-0.421936</td>\n",
       "      <td>-0.856411</td>\n",
       "      <td>-0.172586</td>\n",
       "      <td>...</td>\n",
       "      <td>0.986330</td>\n",
       "      <td>0.646999</td>\n",
       "      <td>0.348132</td>\n",
       "      <td>-0.214028</td>\n",
       "      <td>0.523669</td>\n",
       "      <td>0.599232</td>\n",
       "      <td>0.826596</td>\n",
       "      <td>1.141205</td>\n",
       "      <td>1.416961</td>\n",
       "      <td>1.107621</td>\n",
       "    </tr>\n",
       "    <tr>\n",
       "      <th>148</th>\n",
       "      <td>-1.398620</td>\n",
       "      <td>-1.179364</td>\n",
       "      <td>-0.760749</td>\n",
       "      <td>-0.668556</td>\n",
       "      <td>-0.215774</td>\n",
       "      <td>-0.222921</td>\n",
       "      <td>-0.153197</td>\n",
       "      <td>0.265194</td>\n",
       "      <td>0.854607</td>\n",
       "      <td>1.257842</td>\n",
       "      <td>...</td>\n",
       "      <td>0.799620</td>\n",
       "      <td>0.773268</td>\n",
       "      <td>0.810048</td>\n",
       "      <td>0.704623</td>\n",
       "      <td>0.624920</td>\n",
       "      <td>0.619605</td>\n",
       "      <td>0.644483</td>\n",
       "      <td>0.689480</td>\n",
       "      <td>0.706873</td>\n",
       "      <td>0.508055</td>\n",
       "    </tr>\n",
       "    <tr>\n",
       "      <th>182</th>\n",
       "      <td>0.831877</td>\n",
       "      <td>0.867620</td>\n",
       "      <td>1.211251</td>\n",
       "      <td>1.300045</td>\n",
       "      <td>1.009059</td>\n",
       "      <td>0.776468</td>\n",
       "      <td>1.445092</td>\n",
       "      <td>1.928781</td>\n",
       "      <td>2.086341</td>\n",
       "      <td>1.679941</td>\n",
       "      <td>...</td>\n",
       "      <td>-0.231961</td>\n",
       "      <td>0.177564</td>\n",
       "      <td>0.976858</td>\n",
       "      <td>1.312150</td>\n",
       "      <td>0.890539</td>\n",
       "      <td>0.194135</td>\n",
       "      <td>0.318079</td>\n",
       "      <td>0.535572</td>\n",
       "      <td>0.486992</td>\n",
       "      <td>0.594535</td>\n",
       "    </tr>\n",
       "    <tr>\n",
       "      <th>255</th>\n",
       "      <td>-0.001086</td>\n",
       "      <td>-0.109745</td>\n",
       "      <td>-0.149553</td>\n",
       "      <td>-0.249814</td>\n",
       "      <td>-0.338598</td>\n",
       "      <td>-0.294437</td>\n",
       "      <td>-0.167429</td>\n",
       "      <td>-0.541922</td>\n",
       "      <td>-0.708239</td>\n",
       "      <td>-1.260999</td>\n",
       "      <td>...</td>\n",
       "      <td>-0.579852</td>\n",
       "      <td>-1.053090</td>\n",
       "      <td>-1.056643</td>\n",
       "      <td>-0.359074</td>\n",
       "      <td>0.243012</td>\n",
       "      <td>0.159436</td>\n",
       "      <td>-0.013340</td>\n",
       "      <td>-0.244169</td>\n",
       "      <td>-0.727907</td>\n",
       "      <td>-1.238562</td>\n",
       "    </tr>\n",
       "  </tbody>\n",
       "</table>\n",
       "<p>5 rows × 657 columns</p>\n",
       "</div>"
      ],
      "text/plain": [
       "               0         1         2         3         4         5    \\\n",
       "track_id                                                               \n",
       "2        -0.134461  1.091443  2.611349  2.097392  0.735365  0.544687   \n",
       "5        -0.915597 -0.890180 -1.271114 -1.254090  0.034274  0.782003   \n",
       "148      -1.398620 -1.179364 -0.760749 -0.668556 -0.215774 -0.222921   \n",
       "182       0.831877  0.867620  1.211251  1.300045  1.009059  0.776468   \n",
       "255      -0.001086 -0.109745 -0.149553 -0.249814 -0.338598 -0.294437   \n",
       "\n",
       "               6         7         8         9    ...       647       648  \\\n",
       "track_id                                          ...                       \n",
       "2         0.961243  0.489815  0.678479  0.583783  ...  1.659076  0.728619   \n",
       "5         0.836597 -0.421936 -0.856411 -0.172586  ...  0.986330  0.646999   \n",
       "148      -0.153197  0.265194  0.854607  1.257842  ...  0.799620  0.773268   \n",
       "182       1.445092  1.928781  2.086341  1.679941  ... -0.231961  0.177564   \n",
       "255      -0.167429 -0.541922 -0.708239 -1.260999  ... -0.579852 -1.053090   \n",
       "\n",
       "               649       650       651       652       653       654  \\\n",
       "track_id                                                               \n",
       "2         1.144180  1.641569  1.646186  1.155188  0.243829 -1.270410   \n",
       "5         0.348132 -0.214028  0.523669  0.599232  0.826596  1.141205   \n",
       "148       0.810048  0.704623  0.624920  0.619605  0.644483  0.689480   \n",
       "182       0.976858  1.312150  0.890539  0.194135  0.318079  0.535572   \n",
       "255      -1.056643 -0.359074  0.243012  0.159436 -0.013340 -0.244169   \n",
       "\n",
       "               655       656  \n",
       "track_id                      \n",
       "2        -1.418964 -1.378548  \n",
       "5         1.416961  1.107621  \n",
       "148       0.706873  0.508055  \n",
       "182       0.486992  0.594535  \n",
       "255      -0.727907 -1.238562  \n",
       "\n",
       "[5 rows x 657 columns]"
      ]
     },
     "execution_count": 6,
     "metadata": {},
     "output_type": "execute_result"
    }
   ],
   "source": [
    "df.head()"
   ]
  },
  {
   "cell_type": "code",
   "execution_count": 11,
   "metadata": {},
   "outputs": [],
   "source": [
    "# add genres and artists\n",
    "genres = tracks['track']['genre_top']\n",
    "artist = tracks['artist']['name']\n",
    "df = df.merge(genres, on='track_id')\n",
    "df = df.merge(artist, on='track_id')"
   ]
  },
  {
   "cell_type": "code",
   "execution_count": 12,
   "metadata": {},
   "outputs": [],
   "source": [
    "df = df[df['genre_top']=='Hip-Hop']"
   ]
  },
  {
   "cell_type": "code",
   "execution_count": 13,
   "metadata": {},
   "outputs": [
    {
     "data": {
      "text/plain": [
       "The Impossebulls                       68\n",
       "Kellee Maize                           55\n",
       "C-Doc                                  42\n",
       "Tha Silent Partner                     33\n",
       "6th Sense                              33\n",
       "                                       ..\n",
       "Oddish                                  1\n",
       "Elemint                                 1\n",
       "K3N                                     1\n",
       "Talib Kweli                             1\n",
       "Kellee Maize & J. Glaze & Mike Cash     1\n",
       "Name: name, Length: 194, dtype: int64"
      ]
     },
     "execution_count": 13,
     "metadata": {},
     "output_type": "execute_result"
    }
   ],
   "source": [
    "df['name'].value_counts()"
   ]
  },
  {
   "cell_type": "markdown",
   "metadata": {},
   "source": [
    "## Restric SPM on \"The Impossebulls\""
   ]
  },
  {
   "cell_type": "code",
   "execution_count": 15,
   "metadata": {},
   "outputs": [],
   "source": [
    "df = df[df['name'] == 'The Impossebulls']"
   ]
  },
  {
   "cell_type": "code",
   "execution_count": 17,
   "metadata": {},
   "outputs": [],
   "source": [
    "df=df.iloc[:,:-2]"
   ]
  },
  {
   "cell_type": "code",
   "execution_count": 142,
   "metadata": {},
   "outputs": [],
   "source": [
    "# SAX transform \n",
    "n_paa_segments = 60\n",
    "n_sax_symbols = 20\n",
    "sax = SymbolicAggregateApproximation(n_segments=n_paa_segments, alphabet_size_avg=n_sax_symbols)\n",
    "ts_sax = sax.fit_transform(norm_df)"
   ]
  },
  {
   "cell_type": "code",
   "execution_count": 169,
   "metadata": {},
   "outputs": [
    {
     "data": {
      "text/plain": [
       "[<matplotlib.lines.Line2D at 0x7f98416cb220>]"
      ]
     },
     "execution_count": 169,
     "metadata": {},
     "output_type": "execute_result"
    },
    {
     "data": {
      "image/png": "[encoded data removed]",
      "text/plain": [
       "<Figure size 432x288 with 1 Axes>"
      ]
     },
     "metadata": {
      "needs_background": "light"
     },
     "output_type": "display_data"
    }
   ],
   "source": [
    "# plot first tranformed ts\n",
    "plt.plot(ts_sax_inv[0])"
   ]
  },
  {
   "cell_type": "code",
   "execution_count": 204,
   "metadata": {},
   "outputs": [
    {
     "data": {
      "text/plain": [
       "array([16,  4,  9, 13, 10, 15, 10, 11,  9, 10, 19,  5,  6, 15, 11,  8,  8,\n",
       "       10,  9,  9, 17,  6,  2, 13,  5, 15, 11, 12,  6,  9, 17, 11,  5,  6,\n",
       "        9,  4,  9, 15,  7,  8, 14,  9, 11,  8,  8, 10,  7, 14,  8,  7,  9,\n",
       "        4,  3,  5,  9,  1,  3, 11,  9, 11])"
      ]
     },
     "execution_count": 204,
     "metadata": {},
     "output_type": "execute_result"
    }
   ],
   "source": [
    "ts_sax[0]"
   ]
  },
  {
   "cell_type": "code",
   "execution_count": 215,
   "metadata": {},
   "outputs": [],
   "source": [
    "# Create a function called \"chunks\" with two arguments, l and n:\n",
    "def chunks(l, n):\n",
    "    # For item i in a range that is a length of l,\n",
    "    for i in range(0, len(l), n):\n",
    "        # Create an index range for l of n items:\n",
    "        yield tuple(l[i:i+n])"
   ]
  },
  {
   "cell_type": "code",
   "execution_count": 247,
   "metadata": {},
   "outputs": [],
   "source": [
    "# chuck a list into a list of tuples \n",
    "\n",
    "seq_lst = []\n",
    "for track_idx in range(len(ts_sax)):\n",
    "    single_sequence = []\n",
    "    \n",
    "    for seq in (chunks(ts_sax[track_idx], 2)):      #3 events per transaction\n",
    "        single_sequence.append(seq)        \n",
    "    seq_lst.append(single_sequence)  "
   ]
  },
  {
   "cell_type": "code",
   "execution_count": 248,
   "metadata": {},
   "outputs": [
    {
     "name": "stdout",
     "output_type": "stream",
     "text": [
      "[(16, 4), (9, 13), (10, 15), (10, 11), (9, 10), (19, 5), (6, 15), (11, 8), (8, 10), (9, 9), (17, 6), (2, 13), (5, 15), (11, 12), (6, 9), (17, 11), (5, 6), (9, 4), (9, 15), (7, 8), (14, 9), (11, 8), (8, 10), (7, 14), (8, 7), (9, 4), (3, 5), (9, 1), (3, 11), (9, 11)]\n"
     ]
    }
   ],
   "source": [
    "print(seq_lst[0])"
   ]
  },
  {
   "cell_type": "code",
   "execution_count": 249,
   "metadata": {},
   "outputs": [],
   "source": [
    "from prefixspan import PrefixSpan"
   ]
  },
  {
   "cell_type": "code",
   "execution_count": 407,
   "metadata": {},
   "outputs": [],
   "source": [
    "#help(PrefixSpan)"
   ]
  },
  {
   "cell_type": "code",
   "execution_count": 250,
   "metadata": {},
   "outputs": [],
   "source": [
    "ps = PrefixSpan(seq_lst)"
   ]
  },
  {
   "cell_type": "code",
   "execution_count": 251,
   "metadata": {},
   "outputs": [
    {
     "data": {
      "text/plain": [
       "[(743, [(8, 7)]),\n",
       " (728, [(7, 8)]),\n",
       " (727, [(8, 6)]),\n",
       " (726, [(7, 7)]),\n",
       " (723, [(6, 6)]),\n",
       " (716, [(9, 8)]),\n",
       " (712, [(10, 9)]),\n",
       " (710, [(8, 8)]),\n",
       " (694, [(8, 9)]),\n",
       " (692, [(5, 5)])]"
      ]
     },
     "execution_count": 251,
     "metadata": {},
     "output_type": "execute_result"
    }
   ],
   "source": [
    "ps.topk(10)"
   ]
  },
  {
   "cell_type": "code",
   "execution_count": 278,
   "metadata": {},
   "outputs": [
    {
     "data": {
      "text/plain": [
       "[(728, [(7, 8)]),\n",
       " (743, [(8, 7)]),\n",
       " (723, [(6, 6)]),\n",
       " (726, [(7, 7)]),\n",
       " (727, [(8, 6)])]"
      ]
     },
     "execution_count": 278,
     "metadata": {},
     "output_type": "execute_result"
    }
   ],
   "source": [
    "# frequent takes the number of matches not expressed in percetage.\n",
    "ps.frequent(len(seq_lst) * 0.18)         #min support  18%"
   ]
  },
  {
   "cell_type": "code",
   "execution_count": 280,
   "metadata": {},
   "outputs": [
    {
     "data": {
      "text/plain": [
       "[(639, [(10, 11)]),\n",
       " (628, [(9, 10)]),\n",
       " (587, [(11, 8)]),\n",
       " (631, [(8, 10)]),\n",
       " (683, [(9, 9)]),\n",
       " (619, [(11, 12)]),\n",
       " (570, [(6, 9)]),\n",
       " (644, [(5, 6)]),\n",
       " (728, [(7, 8)]),\n",
       " (743, [(8, 7)]),\n",
       " (601, [(9, 11)]),\n",
       " (587, [(5, 7)]),\n",
       " (631, [(5, 4)]),\n",
       " (712, [(10, 9)]),\n",
       " (594, [(12, 12)]),\n",
       " (619, [(10, 7)]),\n",
       " (624, [(6, 8)]),\n",
       " (651, [(4, 5)]),\n",
       " (560, [(5, 8)]),\n",
       " (674, [(6, 5)]),\n",
       " (694, [(8, 9)]),\n",
       " (723, [(6, 6)]),\n",
       " (621, [(4, 4)]),\n",
       " (595, [(7, 9)]),\n",
       " (674, [(10, 8)]),\n",
       " (726, [(7, 7)]),\n",
       " (631, [(11, 9)]),\n",
       " (611, [(10, 12)]),\n",
       " (727, [(8, 6)]),\n",
       " (629, [(7, 10)]),\n",
       " (692, [(5, 5)]),\n",
       " (586, [(12, 11)]),\n",
       " (716, [(9, 8)]),\n",
       " (671, [(7, 5)]),\n",
       " (710, [(8, 8)]),\n",
       " (676, [(11, 10)]),\n",
       " (661, [(6, 7)]),\n",
       " (634, [(11, 11)]),\n",
       " (679, [(9, 7)]),\n",
       " (589, [(12, 10)]),\n",
       " (578, [(9, 6)]),\n",
       " (667, [(7, 6)]),\n",
       " (681, [(10, 10)]),\n",
       " (602, [(8, 11)]),\n",
       " (561, [(13, 13)])]"
      ]
     },
     "execution_count": 280,
     "metadata": {},
     "output_type": "execute_result"
    }
   ],
   "source": [
    "ps.frequent(len(seq_lst) * 0.14)         #min support  14%"
   ]
  }
 ],
 "metadata": {
  "kernelspec": {
   "display_name": "PyCharm (DataMining-2)",
   "language": "python",
   "name": "pycharm-8ca1f8a5"
  },
  "language_info": {
   "codemirror_mode": {
    "name": "ipython",
    "version": 3
   },
   "file_extension": ".py",
   "mimetype": "text/x-python",
   "name": "python",
   "nbconvert_exporter": "python",
   "pygments_lexer": "ipython3",
   "version": "3.8.1"
  }
 },
 "nbformat": 4,
 "nbformat_minor": 4
}
