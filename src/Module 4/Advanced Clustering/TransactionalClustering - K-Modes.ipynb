{
 "cells": [
  {
   "cell_type": "markdown",
   "metadata": {},
   "source": [
    "# Transactional Clustering - K-MODES"
   ]
  },
  {
   "cell_type": "code",
   "execution_count": 56,
   "metadata": {},
   "outputs": [],
   "source": [
    "%matplotlib inline\n",
    "\n",
    "import os,sys,inspect\n",
    "PATH = '/Users/gaetanoantonicchio/Documents/GitHub/DataMining-2'\n",
    "sys.path.insert(0, PATH)\n",
    "\n",
    "import pandas as pd\n",
    "import numpy as np\n",
    "import matplotlib.pyplot as plt\n",
    "from fma_metadata import utils\n",
    "from tqdm import tqdm\n",
    "import warnings\n",
    "warnings.filterwarnings(\"ignore\")"
   ]
  },
  {
   "cell_type": "code",
   "execution_count": 57,
   "metadata": {},
   "outputs": [],
   "source": [
    "tracks = utils.load(\"/Users/gaetanoantonicchio/Desktop/dataset_DM2/fma_metadata/tracks.csv\")\n",
    "echo = utils.load(\"/Users/gaetanoantonicchio/Desktop/dataset_DM2/fma_metadata/echonest.csv\")"
   ]
  },
  {
   "cell_type": "markdown",
   "metadata": {},
   "source": [
    "### Pre-processing"
   ]
  },
  {
   "cell_type": "code",
   "execution_count": 58,
   "metadata": {},
   "outputs": [],
   "source": [
    "tracks_feat = tracks['track'][['language_code', 'license', 'listens', 'genre_top']]"
   ]
  },
  {
   "cell_type": "code",
   "execution_count": 59,
   "metadata": {},
   "outputs": [],
   "source": [
    "echo = echo['echonest']['audio_features']"
   ]
  },
  {
   "cell_type": "code",
   "execution_count": 60,
   "metadata": {},
   "outputs": [],
   "source": [
    "def assign_label_valence(i):\n",
    "    if i >= 0 and i <= 0.4:\n",
    "        return 'sad'\n",
    "    if i > 0.4:\n",
    "        return 'happy'\n",
    "    \n",
    "def assign_label_live(i):\n",
    "    if i >= 0 and i <= 0.5:\n",
    "        return 'recorded_in_studio'\n",
    "    if i > 0.5:\n",
    "        return 'live_concert'\n",
    "    \n",
    "def assign_label_dance(i):\n",
    "    if i >= 0 and i <= 0.5:\n",
    "        return 'not_danceable'\n",
    "    if i > 0.5:\n",
    "        return 'danceable'\n",
    "\n",
    "def assign_label_speech(i):\n",
    "    if i >= 0 and i <= 0.2:\n",
    "        return 'instrumental'\n",
    "    if i>0.2 and i <= 0.7:\n",
    "        return 'balaced'\n",
    "    if i > 0.7:\n",
    "        return 'spoken'\n",
    "    \n",
    "def assign_label_energy(i):\n",
    "    if i >= 0 and i <= 0.3:\n",
    "        return 'low'\n",
    "    if i > 0.3 and i <=0.6:\n",
    "        return 'medium'\n",
    "    if i > 0.6:\n",
    "        return 'high'"
   ]
  },
  {
   "cell_type": "code",
   "execution_count": 61,
   "metadata": {},
   "outputs": [],
   "source": [
    "echo['valence'] = echo['valence'].apply(assign_label_valence)\n",
    "echo['danceability'] = echo['danceability'].apply(assign_label_dance)\n",
    "echo['speechiness'] = echo['speechiness'].apply(assign_label_speech)\n",
    "echo['liveness'] = echo['liveness'].apply(assign_label_live)\n",
    "echo['energy'] = echo['energy'].apply(assign_label_energy)"
   ]
  },
  {
   "cell_type": "code",
   "execution_count": 62,
   "metadata": {},
   "outputs": [],
   "source": [
    "echo = echo[['danceability', 'energy', 'liveness', 'speechiness', 'valence']]"
   ]
  },
  {
   "cell_type": "code",
   "execution_count": 63,
   "metadata": {},
   "outputs": [
    {
     "data": {
      "text/plain": [
       "count    106574.000000\n",
       "mean       2329.353548\n",
       "std        8028.070647\n",
       "min           0.000000\n",
       "25%         292.000000\n",
       "50%         764.000000\n",
       "75%        2018.000000\n",
       "max      543252.000000\n",
       "Name: listens, dtype: float64"
      ]
     },
     "execution_count": 63,
     "metadata": {},
     "output_type": "execute_result"
    }
   ],
   "source": [
    "tracks_feat['listens'].describe()"
   ]
  },
  {
   "cell_type": "code",
   "execution_count": 64,
   "metadata": {},
   "outputs": [],
   "source": [
    "def assign_label_listens(i):\n",
    "    if i >= 0 and i <= 764:\n",
    "        return 'low_listens'\n",
    "    if i > 764 and i <=2019:\n",
    "        return 'medium_listens'\n",
    "    if i > 2019:\n",
    "        return 'high_listens'"
   ]
  },
  {
   "cell_type": "code",
   "execution_count": 65,
   "metadata": {},
   "outputs": [],
   "source": [
    "tracks_feat['listens'] = tracks_feat['listens'].apply(assign_label_listens)"
   ]
  },
  {
   "cell_type": "code",
   "execution_count": 66,
   "metadata": {},
   "outputs": [],
   "source": [
    "tracks_feat.dropna(axis=0, inplace=True)"
   ]
  },
  {
   "cell_type": "code",
   "execution_count": 67,
   "metadata": {},
   "outputs": [],
   "source": [
    "df = tracks_feat.merge(echo, on='track_id')"
   ]
  },
  {
   "cell_type": "code",
   "execution_count": 68,
   "metadata": {},
   "outputs": [],
   "source": [
    "df.dropna(axis=0, inplace=True)"
   ]
  },
  {
   "cell_type": "code",
   "execution_count": 69,
   "metadata": {},
   "outputs": [
    {
     "name": "stdout",
     "output_type": "stream",
     "text": [
      "(4784, 9)\n"
     ]
    },
    {
     "data": {
      "text/html": [
       "<div>\n",
       "<style scoped>\n",
       "    .dataframe tbody tr th:only-of-type {\n",
       "        vertical-align: middle;\n",
       "    }\n",
       "\n",
       "    .dataframe tbody tr th {\n",
       "        vertical-align: top;\n",
       "    }\n",
       "\n",
       "    .dataframe thead th {\n",
       "        text-align: right;\n",
       "    }\n",
       "</style>\n",
       "<table border=\"1\" class=\"dataframe\">\n",
       "  <thead>\n",
       "    <tr style=\"text-align: right;\">\n",
       "      <th></th>\n",
       "      <th>language_code</th>\n",
       "      <th>license</th>\n",
       "      <th>listens</th>\n",
       "      <th>genre_top</th>\n",
       "      <th>danceability</th>\n",
       "      <th>energy</th>\n",
       "      <th>liveness</th>\n",
       "      <th>speechiness</th>\n",
       "      <th>valence</th>\n",
       "    </tr>\n",
       "    <tr>\n",
       "      <th>track_id</th>\n",
       "      <th></th>\n",
       "      <th></th>\n",
       "      <th></th>\n",
       "      <th></th>\n",
       "      <th></th>\n",
       "      <th></th>\n",
       "      <th></th>\n",
       "      <th></th>\n",
       "      <th></th>\n",
       "    </tr>\n",
       "  </thead>\n",
       "  <tbody>\n",
       "    <tr>\n",
       "      <th>2</th>\n",
       "      <td>en</td>\n",
       "      <td>Attribution-NonCommercial-ShareAlike 3.0 Inter...</td>\n",
       "      <td>medium_listens</td>\n",
       "      <td>Hip-Hop</td>\n",
       "      <td>danceable</td>\n",
       "      <td>high</td>\n",
       "      <td>recorded_in_studio</td>\n",
       "      <td>instrumental</td>\n",
       "      <td>happy</td>\n",
       "    </tr>\n",
       "    <tr>\n",
       "      <th>3</th>\n",
       "      <td>en</td>\n",
       "      <td>Attribution-NonCommercial-ShareAlike 3.0 Inter...</td>\n",
       "      <td>low_listens</td>\n",
       "      <td>Hip-Hop</td>\n",
       "      <td>danceable</td>\n",
       "      <td>high</td>\n",
       "      <td>recorded_in_studio</td>\n",
       "      <td>balaced</td>\n",
       "      <td>sad</td>\n",
       "    </tr>\n",
       "    <tr>\n",
       "      <th>5</th>\n",
       "      <td>en</td>\n",
       "      <td>Attribution-NonCommercial-ShareAlike 3.0 Inter...</td>\n",
       "      <td>medium_listens</td>\n",
       "      <td>Hip-Hop</td>\n",
       "      <td>danceable</td>\n",
       "      <td>high</td>\n",
       "      <td>recorded_in_studio</td>\n",
       "      <td>instrumental</td>\n",
       "      <td>happy</td>\n",
       "    </tr>\n",
       "    <tr>\n",
       "      <th>10</th>\n",
       "      <td>en</td>\n",
       "      <td>Attribution-NonCommercial-NoDerivatives (aka M...</td>\n",
       "      <td>high_listens</td>\n",
       "      <td>Pop</td>\n",
       "      <td>danceable</td>\n",
       "      <td>high</td>\n",
       "      <td>recorded_in_studio</td>\n",
       "      <td>instrumental</td>\n",
       "      <td>happy</td>\n",
       "    </tr>\n",
       "    <tr>\n",
       "      <th>134</th>\n",
       "      <td>en</td>\n",
       "      <td>Attribution-NonCommercial-ShareAlike 3.0 Inter...</td>\n",
       "      <td>medium_listens</td>\n",
       "      <td>Hip-Hop</td>\n",
       "      <td>danceable</td>\n",
       "      <td>medium</td>\n",
       "      <td>recorded_in_studio</td>\n",
       "      <td>balaced</td>\n",
       "      <td>happy</td>\n",
       "    </tr>\n",
       "  </tbody>\n",
       "</table>\n",
       "</div>"
      ],
      "text/plain": [
       "         language_code                                            license  \\\n",
       "track_id                                                                    \n",
       "2                   en  Attribution-NonCommercial-ShareAlike 3.0 Inter...   \n",
       "3                   en  Attribution-NonCommercial-ShareAlike 3.0 Inter...   \n",
       "5                   en  Attribution-NonCommercial-ShareAlike 3.0 Inter...   \n",
       "10                  en  Attribution-NonCommercial-NoDerivatives (aka M...   \n",
       "134                 en  Attribution-NonCommercial-ShareAlike 3.0 Inter...   \n",
       "\n",
       "                 listens genre_top danceability  energy            liveness  \\\n",
       "track_id                                                                      \n",
       "2         medium_listens   Hip-Hop    danceable    high  recorded_in_studio   \n",
       "3            low_listens   Hip-Hop    danceable    high  recorded_in_studio   \n",
       "5         medium_listens   Hip-Hop    danceable    high  recorded_in_studio   \n",
       "10          high_listens       Pop    danceable    high  recorded_in_studio   \n",
       "134       medium_listens   Hip-Hop    danceable  medium  recorded_in_studio   \n",
       "\n",
       "           speechiness valence  \n",
       "track_id                        \n",
       "2         instrumental   happy  \n",
       "3              balaced     sad  \n",
       "5         instrumental   happy  \n",
       "10        instrumental   happy  \n",
       "134            balaced   happy  "
      ]
     },
     "execution_count": 69,
     "metadata": {},
     "output_type": "execute_result"
    }
   ],
   "source": [
    "print(df.shape)\n",
    "df.head()"
   ]
  },
  {
   "cell_type": "code",
   "execution_count": 70,
   "metadata": {},
   "outputs": [],
   "source": [
    "from kmodes.kmodes import KModes"
   ]
  },
  {
   "cell_type": "code",
   "execution_count": 71,
   "metadata": {},
   "outputs": [
    {
     "name": "stdout",
     "output_type": "stream",
     "text": [
      "Init: initializing centroids\n",
      "Init: initializing clusters\n",
      "Starting iterations...\n",
      "Run 1, iteration: 1/100, moves: 1114, cost: 11363.0\n",
      "Init: initializing centroids\n",
      "Init: initializing clusters\n",
      "Starting iterations...\n",
      "Run 2, iteration: 1/100, moves: 1745, cost: 11627.0\n",
      "Run 2, iteration: 2/100, moves: 23, cost: 11627.0\n",
      "Init: initializing centroids\n",
      "Init: initializing clusters\n",
      "Starting iterations...\n",
      "Run 3, iteration: 1/100, moves: 743, cost: 12757.0\n",
      "Init: initializing centroids\n",
      "Init: initializing clusters\n",
      "Starting iterations...\n",
      "Run 4, iteration: 1/100, moves: 1070, cost: 11451.0\n",
      "Init: initializing centroids\n",
      "Init: initializing clusters\n",
      "Starting iterations...\n",
      "Run 5, iteration: 1/100, moves: 1262, cost: 11562.0\n",
      "Init: initializing centroids\n",
      "Init: initializing clusters\n",
      "Starting iterations...\n",
      "Run 6, iteration: 1/100, moves: 1062, cost: 11841.0\n",
      "Run 6, iteration: 2/100, moves: 207, cost: 11841.0\n",
      "Init: initializing centroids\n",
      "Init: initializing clusters\n",
      "Starting iterations...\n",
      "Run 7, iteration: 1/100, moves: 1493, cost: 11978.0\n",
      "Run 7, iteration: 2/100, moves: 486, cost: 11841.0\n",
      "Run 7, iteration: 3/100, moves: 184, cost: 11841.0\n",
      "Init: initializing centroids\n",
      "Init: initializing clusters\n",
      "Starting iterations...\n",
      "Run 8, iteration: 1/100, moves: 760, cost: 12333.0\n",
      "Init: initializing centroids\n",
      "Init: initializing clusters\n",
      "Starting iterations...\n",
      "Run 9, iteration: 1/100, moves: 1020, cost: 11396.0\n",
      "Init: initializing centroids\n",
      "Init: initializing clusters\n",
      "Starting iterations...\n",
      "Run 10, iteration: 1/100, moves: 1676, cost: 11766.0\n",
      "Run 10, iteration: 2/100, moves: 395, cost: 11766.0\n",
      "Init: initializing centroids\n",
      "Init: initializing clusters\n",
      "Starting iterations...\n",
      "Run 11, iteration: 1/100, moves: 0, cost: 12270.0\n",
      "Init: initializing centroids\n",
      "Init: initializing clusters\n",
      "Starting iterations...\n",
      "Run 12, iteration: 1/100, moves: 0, cost: 12638.0\n",
      "Init: initializing centroids\n",
      "Init: initializing clusters\n",
      "Starting iterations...\n",
      "Run 13, iteration: 1/100, moves: 810, cost: 12007.0\n",
      "Init: initializing centroids\n",
      "Init: initializing clusters\n",
      "Starting iterations...\n",
      "Run 14, iteration: 1/100, moves: 1222, cost: 11762.0\n",
      "Run 14, iteration: 2/100, moves: 156, cost: 11762.0\n",
      "Init: initializing centroids\n",
      "Init: initializing clusters\n",
      "Starting iterations...\n",
      "Run 15, iteration: 1/100, moves: 882, cost: 11854.0\n",
      "Run 15, iteration: 2/100, moves: 715, cost: 11854.0\n",
      "Init: initializing centroids\n",
      "Init: initializing clusters\n",
      "Starting iterations...\n",
      "Run 16, iteration: 1/100, moves: 1016, cost: 12120.0\n",
      "Init: initializing centroids\n",
      "Init: initializing clusters\n",
      "Starting iterations...\n",
      "Run 17, iteration: 1/100, moves: 1541, cost: 11331.0\n",
      "Run 17, iteration: 2/100, moves: 280, cost: 11183.0\n",
      "Run 17, iteration: 3/100, moves: 66, cost: 11183.0\n",
      "Init: initializing centroids\n",
      "Init: initializing clusters\n",
      "Starting iterations...\n",
      "Run 18, iteration: 1/100, moves: 1262, cost: 12223.0\n",
      "Init: initializing centroids\n",
      "Init: initializing clusters\n",
      "Starting iterations...\n",
      "Run 19, iteration: 1/100, moves: 314, cost: 12178.0\n",
      "Init: initializing centroids\n",
      "Init: initializing clusters\n",
      "Starting iterations...\n",
      "Run 20, iteration: 1/100, moves: 1667, cost: 11183.0\n",
      "Run 20, iteration: 2/100, moves: 743, cost: 11183.0\n",
      "Init: initializing centroids\n",
      "Init: initializing clusters\n",
      "Starting iterations...\n",
      "Run 21, iteration: 1/100, moves: 2062, cost: 11692.0\n",
      "Run 21, iteration: 2/100, moves: 866, cost: 11589.0\n",
      "Run 21, iteration: 3/100, moves: 0, cost: 11589.0\n",
      "Init: initializing centroids\n",
      "Init: initializing clusters\n",
      "Starting iterations...\n",
      "Run 22, iteration: 1/100, moves: 1600, cost: 11329.0\n",
      "Run 22, iteration: 2/100, moves: 146, cost: 11329.0\n",
      "Init: initializing centroids\n",
      "Init: initializing clusters\n",
      "Starting iterations...\n",
      "Run 23, iteration: 1/100, moves: 167, cost: 12387.0\n",
      "Init: initializing centroids\n",
      "Init: initializing clusters\n",
      "Starting iterations...\n",
      "Run 24, iteration: 1/100, moves: 876, cost: 11477.0\n",
      "Run 24, iteration: 2/100, moves: 527, cost: 11477.0\n",
      "Init: initializing centroids\n",
      "Init: initializing clusters\n",
      "Starting iterations...\n",
      "Run 25, iteration: 1/100, moves: 272, cost: 11396.0\n",
      "Init: initializing centroids\n",
      "Init: initializing clusters\n",
      "Starting iterations...\n",
      "Run 26, iteration: 1/100, moves: 960, cost: 11949.0\n",
      "Init: initializing centroids\n",
      "Init: initializing clusters\n",
      "Starting iterations...\n",
      "Run 27, iteration: 1/100, moves: 1661, cost: 11558.0\n",
      "Run 27, iteration: 2/100, moves: 32, cost: 11558.0\n",
      "Init: initializing centroids\n",
      "Init: initializing clusters\n",
      "Starting iterations...\n",
      "Run 28, iteration: 1/100, moves: 1175, cost: 11398.0\n",
      "Init: initializing centroids\n",
      "Init: initializing clusters\n",
      "Starting iterations...\n",
      "Run 29, iteration: 1/100, moves: 1614, cost: 11943.0\n",
      "Run 29, iteration: 2/100, moves: 667, cost: 11943.0\n",
      "Init: initializing centroids\n",
      "Init: initializing clusters\n",
      "Starting iterations...\n",
      "Run 30, iteration: 1/100, moves: 866, cost: 11925.0\n",
      "Init: initializing centroids\n",
      "Init: initializing clusters\n",
      "Starting iterations...\n",
      "Run 31, iteration: 1/100, moves: 623, cost: 12150.0\n",
      "Init: initializing centroids\n",
      "Init: initializing clusters\n",
      "Starting iterations...\n",
      "Run 32, iteration: 1/100, moves: 740, cost: 11764.0\n",
      "Run 32, iteration: 2/100, moves: 460, cost: 11764.0\n",
      "Init: initializing centroids\n",
      "Init: initializing clusters\n",
      "Starting iterations...\n",
      "Run 33, iteration: 1/100, moves: 1071, cost: 11952.0\n",
      "Init: initializing centroids\n",
      "Init: initializing clusters\n",
      "Starting iterations...\n",
      "Run 34, iteration: 1/100, moves: 1189, cost: 12492.0\n",
      "Run 34, iteration: 2/100, moves: 135, cost: 12492.0\n",
      "Init: initializing centroids\n",
      "Init: initializing clusters\n",
      "Starting iterations...\n",
      "Run 35, iteration: 1/100, moves: 716, cost: 11601.0\n",
      "Init: initializing centroids\n",
      "Init: initializing clusters\n",
      "Starting iterations...\n",
      "Run 36, iteration: 1/100, moves: 441, cost: 12093.0\n",
      "Run 36, iteration: 2/100, moves: 149, cost: 12093.0\n",
      "Init: initializing centroids\n",
      "Init: initializing clusters\n",
      "Starting iterations...\n",
      "Run 37, iteration: 1/100, moves: 1525, cost: 11230.0\n",
      "Run 37, iteration: 2/100, moves: 239, cost: 11230.0\n",
      "Init: initializing centroids\n",
      "Init: initializing clusters\n",
      "Starting iterations...\n",
      "Run 38, iteration: 1/100, moves: 832, cost: 11975.0\n",
      "Init: initializing centroids\n",
      "Init: initializing clusters\n",
      "Starting iterations...\n",
      "Run 39, iteration: 1/100, moves: 1538, cost: 12338.0\n",
      "Init: initializing centroids\n",
      "Init: initializing clusters\n",
      "Starting iterations...\n",
      "Run 40, iteration: 1/100, moves: 881, cost: 12087.0\n",
      "Run 40, iteration: 2/100, moves: 129, cost: 12087.0\n",
      "Init: initializing centroids\n",
      "Init: initializing clusters\n",
      "Starting iterations...\n",
      "Run 41, iteration: 1/100, moves: 400, cost: 12526.0\n",
      "Init: initializing centroids\n",
      "Init: initializing clusters\n",
      "Starting iterations...\n",
      "Run 42, iteration: 1/100, moves: 1380, cost: 11966.0\n",
      "Run 42, iteration: 2/100, moves: 1549, cost: 11606.0\n",
      "Run 42, iteration: 3/100, moves: 60, cost: 11606.0\n",
      "Init: initializing centroids\n",
      "Init: initializing clusters\n",
      "Starting iterations...\n",
      "Run 43, iteration: 1/100, moves: 1464, cost: 11806.0\n",
      "Init: initializing centroids\n",
      "Init: initializing clusters\n",
      "Starting iterations...\n",
      "Run 44, iteration: 1/100, moves: 1111, cost: 11421.0\n",
      "Init: initializing centroids\n",
      "Init: initializing clusters\n",
      "Starting iterations...\n",
      "Run 45, iteration: 1/100, moves: 1510, cost: 11593.0\n",
      "Run 45, iteration: 2/100, moves: 347, cost: 11593.0\n",
      "Init: initializing centroids\n",
      "Init: initializing clusters\n",
      "Starting iterations...\n",
      "Run 46, iteration: 1/100, moves: 1856, cost: 12154.0\n",
      "Run 46, iteration: 2/100, moves: 158, cost: 12154.0\n",
      "Init: initializing centroids\n",
      "Init: initializing clusters\n",
      "Starting iterations...\n",
      "Run 47, iteration: 1/100, moves: 225, cost: 12043.0\n",
      "Init: initializing centroids\n",
      "Init: initializing clusters\n",
      "Starting iterations...\n",
      "Run 48, iteration: 1/100, moves: 952, cost: 12029.0\n",
      "Run 48, iteration: 2/100, moves: 9, cost: 12029.0\n",
      "Init: initializing centroids\n",
      "Init: initializing clusters\n",
      "Starting iterations...\n",
      "Run 49, iteration: 1/100, moves: 770, cost: 12058.0\n",
      "Init: initializing centroids\n",
      "Init: initializing clusters\n",
      "Starting iterations...\n",
      "Run 50, iteration: 1/100, moves: 666, cost: 12177.0\n",
      "Run 50, iteration: 2/100, moves: 222, cost: 12177.0\n",
      "Best run was number 17\n"
     ]
    }
   ],
   "source": [
    "km = KModes(n_clusters=3, init='Huang', n_init=50, verbose=1)\n",
    "\n",
    "clusters = km.fit_predict(df)"
   ]
  },
  {
   "cell_type": "code",
   "execution_count": 73,
   "metadata": {},
   "outputs": [
    {
     "data": {
      "text/plain": [
       "array([['en', 'Attribution-Noncommercial-Share Alike 3.0 United States',\n",
       "        'low_listens', 'Rock', 'danceable', 'medium',\n",
       "        'recorded_in_studio', 'instrumental', 'happy'],\n",
       "       ['en', 'Attribution-Noncommercial-Share Alike 3.0 United States',\n",
       "        'low_listens', 'Folk', 'not_danceable', 'low',\n",
       "        'recorded_in_studio', 'instrumental', 'sad'],\n",
       "       ['en', 'Attribution-Noncommercial-Share Alike 3.0 United States',\n",
       "        'low_listens', 'Rock', 'not_danceable', 'high',\n",
       "        'recorded_in_studio', 'instrumental', 'sad']], dtype='<U55')"
      ]
     },
     "execution_count": 73,
     "metadata": {},
     "output_type": "execute_result"
    }
   ],
   "source": [
    "km.cluster_centroids_"
   ]
  },
  {
   "cell_type": "code",
   "execution_count": 74,
   "metadata": {},
   "outputs": [
    {
     "data": {
      "text/plain": [
       "array([0, 2, 0, ..., 2, 0, 1], dtype=uint16)"
      ]
     },
     "execution_count": 74,
     "metadata": {},
     "output_type": "execute_result"
    }
   ],
   "source": [
    "km.labels_"
   ]
  },
  {
   "cell_type": "code",
   "execution_count": 75,
   "metadata": {},
   "outputs": [],
   "source": [
    "df['clusters'] = km.labels_"
   ]
  },
  {
   "cell_type": "code",
   "execution_count": 77,
   "metadata": {},
   "outputs": [
    {
     "data": {
      "image/png": "[encoded data removed]",
      "text/plain": [
       "<Figure size 504x144 with 1 Axes>"
      ]
     },
     "metadata": {
      "needs_background": "light"
     },
     "output_type": "display_data"
    }
   ],
   "source": [
    "import seaborn as sns\n",
    "\n",
    "plt.subplots(figsize = (7,2))\n",
    "sns.countplot(x=df['listens'],order=df['listens'].value_counts().index,hue=df['clusters'])\n",
    "plt.title('Listens')\n",
    "plt.show()"
   ]
  },
  {
   "cell_type": "code",
   "execution_count": 78,
   "metadata": {},
   "outputs": [
    {
     "data": {
      "image/png": "[encoded data removed]",
      "text/plain": [
       "<Figure size 504x144 with 1 Axes>"
      ]
     },
     "metadata": {
      "needs_background": "light"
     },
     "output_type": "display_data"
    }
   ],
   "source": [
    "plt.subplots(figsize = (7,2))\n",
    "sns.countplot(x=df['energy'],order=df['energy'].value_counts().index,hue=df['clusters'])\n",
    "plt.title('Energy')\n",
    "plt.show()"
   ]
  },
  {
   "cell_type": "code",
   "execution_count": 79,
   "metadata": {},
   "outputs": [
    {
     "data": {
      "image/png": "[encoded data removed]",
      "text/plain": [
       "<Figure size 504x144 with 1 Axes>"
      ]
     },
     "metadata": {
      "needs_background": "light"
     },
     "output_type": "display_data"
    }
   ],
   "source": [
    "plt.subplots(figsize = (7,2))\n",
    "sns.countplot(x=df['valence'],order=df['valence'].value_counts().index,hue=df['clusters'])\n",
    "plt.title('Emotions')\n",
    "plt.xlabel('emotion')\n",
    "plt.show()"
   ]
  },
  {
   "cell_type": "code",
   "execution_count": 80,
   "metadata": {},
   "outputs": [
    {
     "data": {
      "image/png": "[encoded data removed]",
      "text/plain": [
       "<Figure size 1440x216 with 1 Axes>"
      ]
     },
     "metadata": {
      "needs_background": "light"
     },
     "output_type": "display_data"
    }
   ],
   "source": [
    "plt.subplots(figsize = (20,3))\n",
    "sns.countplot(x=df['genre_top'],order=df['genre_top'].value_counts().index,hue=df['clusters'])\n",
    "plt.title('Genres')\n",
    "plt.xlabel('genres')\n",
    "plt.show()"
   ]
  },
  {
   "cell_type": "code",
   "execution_count": 81,
   "metadata": {},
   "outputs": [
    {
     "data": {
      "image/png": "[encoded data removed]",
      "text/plain": [
       "<Figure size 1440x216 with 1 Axes>"
      ]
     },
     "metadata": {
      "needs_background": "light"
     },
     "output_type": "display_data"
    }
   ],
   "source": [
    "plt.subplots(figsize = (20,3))\n",
    "sns.countplot(x=df['language_code'],order=df['language_code'].value_counts().index,hue=df['clusters'])\n",
    "plt.title('Language')\n",
    "plt.xlabel('language')\n",
    "plt.show()"
   ]
  },
  {
   "cell_type": "code",
   "execution_count": 82,
   "metadata": {},
   "outputs": [
    {
     "data": {
      "image/png": "[encoded data removed]",
      "text/plain": [
       "<Figure size 504x144 with 1 Axes>"
      ]
     },
     "metadata": {
      "needs_background": "light"
     },
     "output_type": "display_data"
    }
   ],
   "source": [
    "plt.subplots(figsize = (7,2))\n",
    "sns.countplot(x=df['danceability'],order=df['danceability'].value_counts().index,hue=df['clusters'])\n",
    "plt.title('Danceability')\n",
    "plt.show()"
   ]
  },
  {
   "cell_type": "code",
   "execution_count": 83,
   "metadata": {},
   "outputs": [
    {
     "data": {
      "image/png": "[encoded data removed]",
      "text/plain": [
       "<Figure size 504x144 with 1 Axes>"
      ]
     },
     "metadata": {
      "needs_background": "light"
     },
     "output_type": "display_data"
    }
   ],
   "source": [
    "plt.subplots(figsize = (7,2))\n",
    "sns.countplot(x=df['liveness'],order=df['liveness'].value_counts().index,hue=df['clusters'])\n",
    "plt.title('Location of Recording')\n",
    "plt.show()"
   ]
  },
  {
   "cell_type": "code",
   "execution_count": 84,
   "metadata": {},
   "outputs": [
    {
     "data": {
      "image/png": "[encoded data removed]",
      "text/plain": [
       "<Figure size 504x144 with 1 Axes>"
      ]
     },
     "metadata": {
      "needs_background": "light"
     },
     "output_type": "display_data"
    }
   ],
   "source": [
    "plt.subplots(figsize = (7,2))\n",
    "sns.countplot(x=df['speechiness'],order=df['speechiness'].value_counts().index,hue=df['clusters'])\n",
    "plt.title('Speechiness')\n",
    "plt.show()"
   ]
  }
 ],
 "metadata": {
  "kernelspec": {
   "display_name": "PyCharm (DataMining-2)",
   "language": "python",
   "name": "pycharm-8ca1f8a5"
  },
  "language_info": {
   "codemirror_mode": {
    "name": "ipython",
    "version": 3
   },
   "file_extension": ".py",
   "mimetype": "text/x-python",
   "name": "python",
   "nbconvert_exporter": "python",
   "pygments_lexer": "ipython3",
   "version": "3.8.1"
  }
 },
 "nbformat": 4,
 "nbformat_minor": 4
}
