<?xml version="1.0" encoding="UTF-8"?>
<!DOCTYPE plist PUBLIC "-//Apple//DTD PLIST 1.0//EN" "http://www.apple.com/DTDs/PropertyList-1.0.dtd">
<plist version="1.0">
<dict>
	<key>URL</key>
	<string>https://github.com/gaetanoantonicchio/DataMining-2/blob/main/src/Module%201/Anomaly%20Detection/anomaly_detection.ipynb</string>
</dict>
</plist>
