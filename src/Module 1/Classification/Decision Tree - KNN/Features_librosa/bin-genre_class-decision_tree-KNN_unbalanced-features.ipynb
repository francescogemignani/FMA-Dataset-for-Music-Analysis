{
 "cells": [
  {
   "cell_type": "code",
   "execution_count": 3,
   "metadata": {
    "pycharm": {
     "name": "#%%\n"
    }
   },
   "outputs": [],
   "source": [
    "import pandas as pd\n",
    "import numpy as np\n",
    "#from utility_functions import report\n",
    "\n",
    "# sklearn modules\n",
    "from sklearn import preprocessing\n",
    "from sklearn.model_selection import train_test_split, GridSearchCV\n",
    "from sklearn.tree import DecisionTreeClassifier\n",
    "from sklearn.model_selection import RepeatedKFold\n",
    "from sklearn.preprocessing import StandardScaler\n",
    "from sklearn.metrics import accuracy_score, f1_score, classification_report\n",
    "from sklearn.metrics import roc_curve, auc, roc_auc_score\n",
    "from sklearn.metrics import plot_confusion_matrix\n",
    "from sklearn.decomposition import PCA\n",
    "import seaborn as sns\n",
    "from sklearn.neighbors import KNeighborsClassifier\n",
    "from IPython.display import display\n",
    "\n",
    "import plotly.express as px\n",
    "import matplotlib.pyplot as plt\n",
    "import utils\n",
    "\n",
    "import warnings\n",
    "warnings.filterwarnings('ignore')"
   ]
  },
  {
   "cell_type": "markdown",
   "metadata": {},
   "source": [
    "# Dataset reading"
   ]
  },
  {
   "cell_type": "code",
   "execution_count": 4,
   "metadata": {
    "pycharm": {
     "name": "#%%\n"
    }
   },
   "outputs": [],
   "source": [
    "features = utils.load('/Users/samuele/University/2.DM2/fma_metadata/features.csv')"
   ]
  },
  {
   "cell_type": "code",
   "execution_count": 5,
   "metadata": {
    "pycharm": {
     "name": "#%%\n"
    }
   },
   "outputs": [
    {
     "data": {
      "text/html": [
       "<div>\n",
       "<style scoped>\n",
       "    .dataframe tbody tr th:only-of-type {\n",
       "        vertical-align: middle;\n",
       "    }\n",
       "\n",
       "    .dataframe tbody tr th {\n",
       "        vertical-align: top;\n",
       "    }\n",
       "\n",
       "    .dataframe thead th {\n",
       "        text-align: right;\n",
       "    }\n",
       "</style>\n",
       "<table border=\"1\" class=\"dataframe\">\n",
       "  <thead>\n",
       "    <tr style=\"text-align: right;\">\n",
       "      <th></th>\n",
       "      <th>track_id</th>\n",
       "      <th>genre_top</th>\n",
       "    </tr>\n",
       "  </thead>\n",
       "  <tbody>\n",
       "    <tr>\n",
       "      <th>0</th>\n",
       "      <td>2</td>\n",
       "      <td>Hip-Hop</td>\n",
       "    </tr>\n",
       "    <tr>\n",
       "      <th>1</th>\n",
       "      <td>3</td>\n",
       "      <td>Hip-Hop</td>\n",
       "    </tr>\n",
       "    <tr>\n",
       "      <th>2</th>\n",
       "      <td>5</td>\n",
       "      <td>Hip-Hop</td>\n",
       "    </tr>\n",
       "    <tr>\n",
       "      <th>3</th>\n",
       "      <td>10</td>\n",
       "      <td>Pop</td>\n",
       "    </tr>\n",
       "    <tr>\n",
       "      <th>4</th>\n",
       "      <td>134</td>\n",
       "      <td>Hip-Hop</td>\n",
       "    </tr>\n",
       "  </tbody>\n",
       "</table>\n",
       "</div>"
      ],
      "text/plain": [
       "   track_id genre_top\n",
       "0         2   Hip-Hop\n",
       "1         3   Hip-Hop\n",
       "2         5   Hip-Hop\n",
       "3        10       Pop\n",
       "4       134   Hip-Hop"
      ]
     },
     "execution_count": 5,
     "metadata": {},
     "output_type": "execute_result"
    }
   ],
   "source": [
    "gen_labels = pd.read_csv('/Users/samuele/University/2.DM2/fma_metadata/labels_genre_top.csv')\n",
    "gen_labels.head()\n",
    "#gen_labels.set_index('track_id', inplace=True)\n",
    "#gen_labels.head()"
   ]
  },
  {
   "cell_type": "markdown",
   "metadata": {},
   "source": [
    " _______________________________________________\n",
    "# Binary Classification - Rock & Jazz\n",
    "## Librosa features (All features)\n",
    "## 1. Preprocessing\n",
    " _______________________________________________"
   ]
  },
  {
   "cell_type": "code",
   "execution_count": 6,
   "metadata": {},
   "outputs": [
    {
     "data": {
      "text/html": [
       "<div>\n",
       "<style scoped>\n",
       "    .dataframe tbody tr th:only-of-type {\n",
       "        vertical-align: middle;\n",
       "    }\n",
       "\n",
       "    .dataframe tbody tr th {\n",
       "        vertical-align: top;\n",
       "    }\n",
       "\n",
       "    .dataframe thead th {\n",
       "        text-align: right;\n",
       "    }\n",
       "</style>\n",
       "<table border=\"1\" class=\"dataframe\">\n",
       "  <thead>\n",
       "    <tr style=\"text-align: right;\">\n",
       "      <th></th>\n",
       "      <th>track_id</th>\n",
       "      <th>(chroma_cens, kurtosis, 01)</th>\n",
       "      <th>(chroma_cens, kurtosis, 02)</th>\n",
       "      <th>(chroma_cens, kurtosis, 03)</th>\n",
       "      <th>(chroma_cens, kurtosis, 04)</th>\n",
       "      <th>(chroma_cens, kurtosis, 05)</th>\n",
       "      <th>(chroma_cens, kurtosis, 06)</th>\n",
       "      <th>(chroma_cens, kurtosis, 07)</th>\n",
       "      <th>(chroma_cens, kurtosis, 08)</th>\n",
       "      <th>(chroma_cens, kurtosis, 09)</th>\n",
       "      <th>...</th>\n",
       "      <th>(tonnetz, std, 05)</th>\n",
       "      <th>(tonnetz, std, 06)</th>\n",
       "      <th>(zcr, kurtosis, 01)</th>\n",
       "      <th>(zcr, max, 01)</th>\n",
       "      <th>(zcr, mean, 01)</th>\n",
       "      <th>(zcr, median, 01)</th>\n",
       "      <th>(zcr, min, 01)</th>\n",
       "      <th>(zcr, skew, 01)</th>\n",
       "      <th>(zcr, std, 01)</th>\n",
       "      <th>genre_top</th>\n",
       "    </tr>\n",
       "  </thead>\n",
       "  <tbody>\n",
       "    <tr>\n",
       "      <th>0</th>\n",
       "      <td>2</td>\n",
       "      <td>7.180653</td>\n",
       "      <td>5.230309</td>\n",
       "      <td>0.249321</td>\n",
       "      <td>1.347620</td>\n",
       "      <td>1.482478</td>\n",
       "      <td>0.531371</td>\n",
       "      <td>1.481593</td>\n",
       "      <td>2.691455</td>\n",
       "      <td>0.866868</td>\n",
       "      <td>...</td>\n",
       "      <td>0.012226</td>\n",
       "      <td>0.012111</td>\n",
       "      <td>5.758890</td>\n",
       "      <td>0.459473</td>\n",
       "      <td>0.085629</td>\n",
       "      <td>0.071289</td>\n",
       "      <td>0.0</td>\n",
       "      <td>2.089872</td>\n",
       "      <td>0.061448</td>\n",
       "      <td>Hip-Hop</td>\n",
       "    </tr>\n",
       "    <tr>\n",
       "      <th>1</th>\n",
       "      <td>3</td>\n",
       "      <td>1.888963</td>\n",
       "      <td>0.760539</td>\n",
       "      <td>0.345297</td>\n",
       "      <td>2.295201</td>\n",
       "      <td>1.654031</td>\n",
       "      <td>0.067592</td>\n",
       "      <td>1.366848</td>\n",
       "      <td>1.054094</td>\n",
       "      <td>0.108103</td>\n",
       "      <td>...</td>\n",
       "      <td>0.014212</td>\n",
       "      <td>0.017740</td>\n",
       "      <td>2.824694</td>\n",
       "      <td>0.466309</td>\n",
       "      <td>0.084578</td>\n",
       "      <td>0.063965</td>\n",
       "      <td>0.0</td>\n",
       "      <td>1.716724</td>\n",
       "      <td>0.069330</td>\n",
       "      <td>Hip-Hop</td>\n",
       "    </tr>\n",
       "    <tr>\n",
       "      <th>2</th>\n",
       "      <td>5</td>\n",
       "      <td>0.527563</td>\n",
       "      <td>-0.077654</td>\n",
       "      <td>-0.279610</td>\n",
       "      <td>0.685883</td>\n",
       "      <td>1.937570</td>\n",
       "      <td>0.880839</td>\n",
       "      <td>-0.923192</td>\n",
       "      <td>-0.927232</td>\n",
       "      <td>0.666617</td>\n",
       "      <td>...</td>\n",
       "      <td>0.012691</td>\n",
       "      <td>0.014759</td>\n",
       "      <td>6.808415</td>\n",
       "      <td>0.375000</td>\n",
       "      <td>0.053114</td>\n",
       "      <td>0.041504</td>\n",
       "      <td>0.0</td>\n",
       "      <td>2.193303</td>\n",
       "      <td>0.044861</td>\n",
       "      <td>Hip-Hop</td>\n",
       "    </tr>\n",
       "    <tr>\n",
       "      <th>3</th>\n",
       "      <td>10</td>\n",
       "      <td>3.702245</td>\n",
       "      <td>-0.291193</td>\n",
       "      <td>2.196742</td>\n",
       "      <td>-0.234449</td>\n",
       "      <td>1.367364</td>\n",
       "      <td>0.998411</td>\n",
       "      <td>1.770694</td>\n",
       "      <td>1.604566</td>\n",
       "      <td>0.521217</td>\n",
       "      <td>...</td>\n",
       "      <td>0.017952</td>\n",
       "      <td>0.013921</td>\n",
       "      <td>21.434212</td>\n",
       "      <td>0.452148</td>\n",
       "      <td>0.077515</td>\n",
       "      <td>0.071777</td>\n",
       "      <td>0.0</td>\n",
       "      <td>3.542325</td>\n",
       "      <td>0.040800</td>\n",
       "      <td>Pop</td>\n",
       "    </tr>\n",
       "    <tr>\n",
       "      <th>4</th>\n",
       "      <td>134</td>\n",
       "      <td>0.918445</td>\n",
       "      <td>0.674147</td>\n",
       "      <td>0.577818</td>\n",
       "      <td>1.281117</td>\n",
       "      <td>0.933746</td>\n",
       "      <td>0.078177</td>\n",
       "      <td>1.199204</td>\n",
       "      <td>-0.175223</td>\n",
       "      <td>0.925482</td>\n",
       "      <td>...</td>\n",
       "      <td>0.016322</td>\n",
       "      <td>0.015819</td>\n",
       "      <td>4.731087</td>\n",
       "      <td>0.419434</td>\n",
       "      <td>0.064370</td>\n",
       "      <td>0.050781</td>\n",
       "      <td>0.0</td>\n",
       "      <td>1.806106</td>\n",
       "      <td>0.054623</td>\n",
       "      <td>Hip-Hop</td>\n",
       "    </tr>\n",
       "  </tbody>\n",
       "</table>\n",
       "<p>5 rows × 520 columns</p>\n",
       "</div>"
      ],
      "text/plain": [
       "   track_id  (chroma_cens, kurtosis, 01)  (chroma_cens, kurtosis, 02)  \\\n",
       "0         2                     7.180653                     5.230309   \n",
       "1         3                     1.888963                     0.760539   \n",
       "2         5                     0.527563                    -0.077654   \n",
       "3        10                     3.702245                    -0.291193   \n",
       "4       134                     0.918445                     0.674147   \n",
       "\n",
       "   (chroma_cens, kurtosis, 03)  (chroma_cens, kurtosis, 04)  \\\n",
       "0                     0.249321                     1.347620   \n",
       "1                     0.345297                     2.295201   \n",
       "2                    -0.279610                     0.685883   \n",
       "3                     2.196742                    -0.234449   \n",
       "4                     0.577818                     1.281117   \n",
       "\n",
       "   (chroma_cens, kurtosis, 05)  (chroma_cens, kurtosis, 06)  \\\n",
       "0                     1.482478                     0.531371   \n",
       "1                     1.654031                     0.067592   \n",
       "2                     1.937570                     0.880839   \n",
       "3                     1.367364                     0.998411   \n",
       "4                     0.933746                     0.078177   \n",
       "\n",
       "   (chroma_cens, kurtosis, 07)  (chroma_cens, kurtosis, 08)  \\\n",
       "0                     1.481593                     2.691455   \n",
       "1                     1.366848                     1.054094   \n",
       "2                    -0.923192                    -0.927232   \n",
       "3                     1.770694                     1.604566   \n",
       "4                     1.199204                    -0.175223   \n",
       "\n",
       "   (chroma_cens, kurtosis, 09)  ...  (tonnetz, std, 05)  (tonnetz, std, 06)  \\\n",
       "0                     0.866868  ...            0.012226            0.012111   \n",
       "1                     0.108103  ...            0.014212            0.017740   \n",
       "2                     0.666617  ...            0.012691            0.014759   \n",
       "3                     0.521217  ...            0.017952            0.013921   \n",
       "4                     0.925482  ...            0.016322            0.015819   \n",
       "\n",
       "   (zcr, kurtosis, 01)  (zcr, max, 01)  (zcr, mean, 01)  (zcr, median, 01)  \\\n",
       "0             5.758890        0.459473         0.085629           0.071289   \n",
       "1             2.824694        0.466309         0.084578           0.063965   \n",
       "2             6.808415        0.375000         0.053114           0.041504   \n",
       "3            21.434212        0.452148         0.077515           0.071777   \n",
       "4             4.731087        0.419434         0.064370           0.050781   \n",
       "\n",
       "   (zcr, min, 01)  (zcr, skew, 01)  (zcr, std, 01)  genre_top  \n",
       "0             0.0         2.089872        0.061448    Hip-Hop  \n",
       "1             0.0         1.716724        0.069330    Hip-Hop  \n",
       "2             0.0         2.193303        0.044861    Hip-Hop  \n",
       "3             0.0         3.542325        0.040800        Pop  \n",
       "4             0.0         1.806106        0.054623    Hip-Hop  \n",
       "\n",
       "[5 rows x 520 columns]"
      ]
     },
     "execution_count": 6,
     "metadata": {},
     "output_type": "execute_result"
    }
   ],
   "source": [
    "all_features = features.merge(gen_labels, on = 'track_id')\n",
    "all_features.head()"
   ]
  },
  {
   "cell_type": "code",
   "execution_count": 7,
   "metadata": {},
   "outputs": [
    {
     "data": {
      "text/plain": [
       "track_id                       0\n",
       "(chroma_cens, kurtosis, 01)    0\n",
       "(chroma_cens, kurtosis, 02)    0\n",
       "(chroma_cens, kurtosis, 03)    0\n",
       "(chroma_cens, kurtosis, 04)    0\n",
       "                              ..\n",
       "(zcr, median, 01)              0\n",
       "(zcr, min, 01)                 0\n",
       "(zcr, skew, 01)                0\n",
       "(zcr, std, 01)                 0\n",
       "genre_top                      0\n",
       "Length: 520, dtype: int64"
      ]
     },
     "execution_count": 7,
     "metadata": {},
     "output_type": "execute_result"
    }
   ],
   "source": [
    "#delete null values\n",
    "all_features.dropna(axis=0, inplace=True)\n",
    "all_features.isnull().sum()"
   ]
  },
  {
   "cell_type": "code",
   "execution_count": 8,
   "metadata": {},
   "outputs": [
    {
     "data": {
      "text/plain": [
       "Rock    14182\n",
       "Jazz      571\n",
       "Name: genre_top, dtype: int64"
      ]
     },
     "metadata": {},
     "output_type": "display_data"
    },
    {
     "data": {
      "text/html": [
       "<div>\n",
       "<style scoped>\n",
       "    .dataframe tbody tr th:only-of-type {\n",
       "        vertical-align: middle;\n",
       "    }\n",
       "\n",
       "    .dataframe tbody tr th {\n",
       "        vertical-align: top;\n",
       "    }\n",
       "\n",
       "    .dataframe thead th {\n",
       "        text-align: right;\n",
       "    }\n",
       "</style>\n",
       "<table border=\"1\" class=\"dataframe\">\n",
       "  <thead>\n",
       "    <tr style=\"text-align: right;\">\n",
       "      <th></th>\n",
       "      <th>track_id</th>\n",
       "      <th>(chroma_cens, kurtosis, 01)</th>\n",
       "      <th>(chroma_cens, kurtosis, 02)</th>\n",
       "      <th>(chroma_cens, kurtosis, 03)</th>\n",
       "      <th>(chroma_cens, kurtosis, 04)</th>\n",
       "      <th>(chroma_cens, kurtosis, 05)</th>\n",
       "      <th>(chroma_cens, kurtosis, 06)</th>\n",
       "      <th>(chroma_cens, kurtosis, 07)</th>\n",
       "      <th>(chroma_cens, kurtosis, 08)</th>\n",
       "      <th>(chroma_cens, kurtosis, 09)</th>\n",
       "      <th>...</th>\n",
       "      <th>(tonnetz, std, 05)</th>\n",
       "      <th>(tonnetz, std, 06)</th>\n",
       "      <th>(zcr, kurtosis, 01)</th>\n",
       "      <th>(zcr, max, 01)</th>\n",
       "      <th>(zcr, mean, 01)</th>\n",
       "      <th>(zcr, median, 01)</th>\n",
       "      <th>(zcr, min, 01)</th>\n",
       "      <th>(zcr, skew, 01)</th>\n",
       "      <th>(zcr, std, 01)</th>\n",
       "      <th>genre_top</th>\n",
       "    </tr>\n",
       "  </thead>\n",
       "  <tbody>\n",
       "    <tr>\n",
       "      <th>5</th>\n",
       "      <td>135</td>\n",
       "      <td>0.978402</td>\n",
       "      <td>0.623572</td>\n",
       "      <td>1.129261</td>\n",
       "      <td>-1.043970</td>\n",
       "      <td>-1.127288</td>\n",
       "      <td>-0.032642</td>\n",
       "      <td>-0.878434</td>\n",
       "      <td>-0.916234</td>\n",
       "      <td>-0.743257</td>\n",
       "      <td>...</td>\n",
       "      <td>0.016731</td>\n",
       "      <td>0.020464</td>\n",
       "      <td>-0.038451</td>\n",
       "      <td>0.234863</td>\n",
       "      <td>0.050837</td>\n",
       "      <td>0.050781</td>\n",
       "      <td>0.003418</td>\n",
       "      <td>0.297873</td>\n",
       "      <td>0.024899</td>\n",
       "      <td>Rock</td>\n",
       "    </tr>\n",
       "    <tr>\n",
       "      <th>6</th>\n",
       "      <td>136</td>\n",
       "      <td>0.915001</td>\n",
       "      <td>-0.643476</td>\n",
       "      <td>-0.460507</td>\n",
       "      <td>-0.530701</td>\n",
       "      <td>-0.364460</td>\n",
       "      <td>-0.226860</td>\n",
       "      <td>-0.060377</td>\n",
       "      <td>-0.267673</td>\n",
       "      <td>-0.063476</td>\n",
       "      <td>...</td>\n",
       "      <td>0.017915</td>\n",
       "      <td>0.016706</td>\n",
       "      <td>0.558770</td>\n",
       "      <td>0.147461</td>\n",
       "      <td>0.036686</td>\n",
       "      <td>0.034180</td>\n",
       "      <td>0.003418</td>\n",
       "      <td>0.805020</td>\n",
       "      <td>0.016905</td>\n",
       "      <td>Rock</td>\n",
       "    </tr>\n",
       "    <tr>\n",
       "      <th>13</th>\n",
       "      <td>144</td>\n",
       "      <td>0.121207</td>\n",
       "      <td>-0.025308</td>\n",
       "      <td>0.541327</td>\n",
       "      <td>0.967687</td>\n",
       "      <td>1.082456</td>\n",
       "      <td>1.675841</td>\n",
       "      <td>1.741263</td>\n",
       "      <td>0.470098</td>\n",
       "      <td>4.051888</td>\n",
       "      <td>...</td>\n",
       "      <td>0.019886</td>\n",
       "      <td>0.018568</td>\n",
       "      <td>0.627553</td>\n",
       "      <td>0.239258</td>\n",
       "      <td>0.079759</td>\n",
       "      <td>0.078613</td>\n",
       "      <td>0.000000</td>\n",
       "      <td>0.226211</td>\n",
       "      <td>0.034378</td>\n",
       "      <td>Jazz</td>\n",
       "    </tr>\n",
       "    <tr>\n",
       "      <th>14</th>\n",
       "      <td>145</td>\n",
       "      <td>0.954054</td>\n",
       "      <td>0.315324</td>\n",
       "      <td>0.015383</td>\n",
       "      <td>-0.023933</td>\n",
       "      <td>0.086671</td>\n",
       "      <td>1.279086</td>\n",
       "      <td>1.966359</td>\n",
       "      <td>0.517441</td>\n",
       "      <td>0.372864</td>\n",
       "      <td>...</td>\n",
       "      <td>0.020350</td>\n",
       "      <td>0.016222</td>\n",
       "      <td>3.367346</td>\n",
       "      <td>0.288574</td>\n",
       "      <td>0.070751</td>\n",
       "      <td>0.067871</td>\n",
       "      <td>0.000000</td>\n",
       "      <td>1.064697</td>\n",
       "      <td>0.029904</td>\n",
       "      <td>Jazz</td>\n",
       "    </tr>\n",
       "    <tr>\n",
       "      <th>15</th>\n",
       "      <td>146</td>\n",
       "      <td>-0.763713</td>\n",
       "      <td>-0.342105</td>\n",
       "      <td>-0.273965</td>\n",
       "      <td>0.729047</td>\n",
       "      <td>-0.649717</td>\n",
       "      <td>0.109572</td>\n",
       "      <td>-0.588591</td>\n",
       "      <td>-0.141158</td>\n",
       "      <td>-0.314764</td>\n",
       "      <td>...</td>\n",
       "      <td>0.020644</td>\n",
       "      <td>0.026361</td>\n",
       "      <td>12.003415</td>\n",
       "      <td>0.472168</td>\n",
       "      <td>0.085446</td>\n",
       "      <td>0.089355</td>\n",
       "      <td>0.002441</td>\n",
       "      <td>1.567211</td>\n",
       "      <td>0.039701</td>\n",
       "      <td>Jazz</td>\n",
       "    </tr>\n",
       "  </tbody>\n",
       "</table>\n",
       "<p>5 rows × 520 columns</p>\n",
       "</div>"
      ],
      "text/plain": [
       "    track_id  (chroma_cens, kurtosis, 01)  (chroma_cens, kurtosis, 02)  \\\n",
       "5        135                     0.978402                     0.623572   \n",
       "6        136                     0.915001                    -0.643476   \n",
       "13       144                     0.121207                    -0.025308   \n",
       "14       145                     0.954054                     0.315324   \n",
       "15       146                    -0.763713                    -0.342105   \n",
       "\n",
       "    (chroma_cens, kurtosis, 03)  (chroma_cens, kurtosis, 04)  \\\n",
       "5                      1.129261                    -1.043970   \n",
       "6                     -0.460507                    -0.530701   \n",
       "13                     0.541327                     0.967687   \n",
       "14                     0.015383                    -0.023933   \n",
       "15                    -0.273965                     0.729047   \n",
       "\n",
       "    (chroma_cens, kurtosis, 05)  (chroma_cens, kurtosis, 06)  \\\n",
       "5                     -1.127288                    -0.032642   \n",
       "6                     -0.364460                    -0.226860   \n",
       "13                     1.082456                     1.675841   \n",
       "14                     0.086671                     1.279086   \n",
       "15                    -0.649717                     0.109572   \n",
       "\n",
       "    (chroma_cens, kurtosis, 07)  (chroma_cens, kurtosis, 08)  \\\n",
       "5                     -0.878434                    -0.916234   \n",
       "6                     -0.060377                    -0.267673   \n",
       "13                     1.741263                     0.470098   \n",
       "14                     1.966359                     0.517441   \n",
       "15                    -0.588591                    -0.141158   \n",
       "\n",
       "    (chroma_cens, kurtosis, 09)  ...  (tonnetz, std, 05)  (tonnetz, std, 06)  \\\n",
       "5                     -0.743257  ...            0.016731            0.020464   \n",
       "6                     -0.063476  ...            0.017915            0.016706   \n",
       "13                     4.051888  ...            0.019886            0.018568   \n",
       "14                     0.372864  ...            0.020350            0.016222   \n",
       "15                    -0.314764  ...            0.020644            0.026361   \n",
       "\n",
       "    (zcr, kurtosis, 01)  (zcr, max, 01)  (zcr, mean, 01)  (zcr, median, 01)  \\\n",
       "5             -0.038451        0.234863         0.050837           0.050781   \n",
       "6              0.558770        0.147461         0.036686           0.034180   \n",
       "13             0.627553        0.239258         0.079759           0.078613   \n",
       "14             3.367346        0.288574         0.070751           0.067871   \n",
       "15            12.003415        0.472168         0.085446           0.089355   \n",
       "\n",
       "    (zcr, min, 01)  (zcr, skew, 01)  (zcr, std, 01)  genre_top  \n",
       "5         0.003418         0.297873        0.024899       Rock  \n",
       "6         0.003418         0.805020        0.016905       Rock  \n",
       "13        0.000000         0.226211        0.034378       Jazz  \n",
       "14        0.000000         1.064697        0.029904       Jazz  \n",
       "15        0.002441         1.567211        0.039701       Jazz  \n",
       "\n",
       "[5 rows x 520 columns]"
      ]
     },
     "metadata": {},
     "output_type": "display_data"
    }
   ],
   "source": [
    "#keep only rock and jazz tracks\n",
    "genres = ['Rock', 'Jazz']\n",
    "all_features = all_features[all_features['genre_top'].isin(genres)]\n",
    "display(all_features.genre_top.value_counts())\n",
    "display(all_features.head())"
   ]
  },
  {
   "cell_type": "markdown",
   "metadata": {},
   "source": [
    "#### Selecting genres for classification"
   ]
  },
  {
   "cell_type": "code",
   "execution_count": 9,
   "metadata": {},
   "outputs": [
    {
     "name": "stdout",
     "output_type": "stream",
     "text": [
      "Legend:\n",
      "1: Rock\n",
      "0: Jazz\n"
     ]
    },
    {
     "data": {
      "text/plain": [
       "1    14182\n",
       "0      571\n",
       "Name: genre_top, dtype: int64"
      ]
     },
     "execution_count": 9,
     "metadata": {},
     "output_type": "execute_result"
    }
   ],
   "source": [
    "# encoding labels for classificaiton\n",
    "le = preprocessing.LabelEncoder()\n",
    "all_features['genre_top'] = le.fit_transform(all_features['genre_top'])\n",
    "print(f'Legend:\\n1: Rock\\n0: {genres[1]}')\n",
    "all_features.genre_top.value_counts()"
   ]
  },
  {
   "cell_type": "code",
   "execution_count": 10,
   "metadata": {},
   "outputs": [],
   "source": [
    "# Define the labels\n",
    "labels = all_features[['genre_top']]\n",
    "# labels has as index the id_track, this creates problems when plotting data after the features have been normalized.\n",
    "# we reset the index from 0 to n\n",
    "labels.reset_index(drop=True, inplace=True)\n",
    "labels = labels['genre_top']"
   ]
  },
  {
   "cell_type": "code",
   "execution_count": 11,
   "metadata": {},
   "outputs": [
    {
     "data": {
      "text/html": [
       "<div>\n",
       "<style scoped>\n",
       "    .dataframe tbody tr th:only-of-type {\n",
       "        vertical-align: middle;\n",
       "    }\n",
       "\n",
       "    .dataframe tbody tr th {\n",
       "        vertical-align: top;\n",
       "    }\n",
       "\n",
       "    .dataframe thead th {\n",
       "        text-align: right;\n",
       "    }\n",
       "</style>\n",
       "<table border=\"1\" class=\"dataframe\">\n",
       "  <thead>\n",
       "    <tr style=\"text-align: right;\">\n",
       "      <th></th>\n",
       "      <th>track_id</th>\n",
       "      <th>(chroma_cens, kurtosis, 01)</th>\n",
       "      <th>(chroma_cens, kurtosis, 02)</th>\n",
       "      <th>(chroma_cens, kurtosis, 03)</th>\n",
       "      <th>(chroma_cens, kurtosis, 04)</th>\n",
       "      <th>(chroma_cens, kurtosis, 05)</th>\n",
       "      <th>(chroma_cens, kurtosis, 06)</th>\n",
       "      <th>(chroma_cens, kurtosis, 07)</th>\n",
       "      <th>(chroma_cens, kurtosis, 08)</th>\n",
       "      <th>(chroma_cens, kurtosis, 09)</th>\n",
       "      <th>...</th>\n",
       "      <th>(tonnetz, std, 04)</th>\n",
       "      <th>(tonnetz, std, 05)</th>\n",
       "      <th>(tonnetz, std, 06)</th>\n",
       "      <th>(zcr, kurtosis, 01)</th>\n",
       "      <th>(zcr, max, 01)</th>\n",
       "      <th>(zcr, mean, 01)</th>\n",
       "      <th>(zcr, median, 01)</th>\n",
       "      <th>(zcr, min, 01)</th>\n",
       "      <th>(zcr, skew, 01)</th>\n",
       "      <th>(zcr, std, 01)</th>\n",
       "    </tr>\n",
       "  </thead>\n",
       "  <tbody>\n",
       "    <tr>\n",
       "      <th>5</th>\n",
       "      <td>135</td>\n",
       "      <td>0.978402</td>\n",
       "      <td>0.623572</td>\n",
       "      <td>1.129261</td>\n",
       "      <td>-1.043970</td>\n",
       "      <td>-1.127288</td>\n",
       "      <td>-0.032642</td>\n",
       "      <td>-0.878434</td>\n",
       "      <td>-0.916234</td>\n",
       "      <td>-0.743257</td>\n",
       "      <td>...</td>\n",
       "      <td>0.104279</td>\n",
       "      <td>0.016731</td>\n",
       "      <td>0.020464</td>\n",
       "      <td>-0.038451</td>\n",
       "      <td>0.234863</td>\n",
       "      <td>0.050837</td>\n",
       "      <td>0.050781</td>\n",
       "      <td>0.003418</td>\n",
       "      <td>0.297873</td>\n",
       "      <td>0.024899</td>\n",
       "    </tr>\n",
       "    <tr>\n",
       "      <th>6</th>\n",
       "      <td>136</td>\n",
       "      <td>0.915001</td>\n",
       "      <td>-0.643476</td>\n",
       "      <td>-0.460507</td>\n",
       "      <td>-0.530701</td>\n",
       "      <td>-0.364460</td>\n",
       "      <td>-0.226860</td>\n",
       "      <td>-0.060377</td>\n",
       "      <td>-0.267673</td>\n",
       "      <td>-0.063476</td>\n",
       "      <td>...</td>\n",
       "      <td>0.076808</td>\n",
       "      <td>0.017915</td>\n",
       "      <td>0.016706</td>\n",
       "      <td>0.558770</td>\n",
       "      <td>0.147461</td>\n",
       "      <td>0.036686</td>\n",
       "      <td>0.034180</td>\n",
       "      <td>0.003418</td>\n",
       "      <td>0.805020</td>\n",
       "      <td>0.016905</td>\n",
       "    </tr>\n",
       "    <tr>\n",
       "      <th>13</th>\n",
       "      <td>144</td>\n",
       "      <td>0.121207</td>\n",
       "      <td>-0.025308</td>\n",
       "      <td>0.541327</td>\n",
       "      <td>0.967687</td>\n",
       "      <td>1.082456</td>\n",
       "      <td>1.675841</td>\n",
       "      <td>1.741263</td>\n",
       "      <td>0.470098</td>\n",
       "      <td>4.051888</td>\n",
       "      <td>...</td>\n",
       "      <td>0.082813</td>\n",
       "      <td>0.019886</td>\n",
       "      <td>0.018568</td>\n",
       "      <td>0.627553</td>\n",
       "      <td>0.239258</td>\n",
       "      <td>0.079759</td>\n",
       "      <td>0.078613</td>\n",
       "      <td>0.000000</td>\n",
       "      <td>0.226211</td>\n",
       "      <td>0.034378</td>\n",
       "    </tr>\n",
       "    <tr>\n",
       "      <th>14</th>\n",
       "      <td>145</td>\n",
       "      <td>0.954054</td>\n",
       "      <td>0.315324</td>\n",
       "      <td>0.015383</td>\n",
       "      <td>-0.023933</td>\n",
       "      <td>0.086671</td>\n",
       "      <td>1.279086</td>\n",
       "      <td>1.966359</td>\n",
       "      <td>0.517441</td>\n",
       "      <td>0.372864</td>\n",
       "      <td>...</td>\n",
       "      <td>0.086215</td>\n",
       "      <td>0.020350</td>\n",
       "      <td>0.016222</td>\n",
       "      <td>3.367346</td>\n",
       "      <td>0.288574</td>\n",
       "      <td>0.070751</td>\n",
       "      <td>0.067871</td>\n",
       "      <td>0.000000</td>\n",
       "      <td>1.064697</td>\n",
       "      <td>0.029904</td>\n",
       "    </tr>\n",
       "    <tr>\n",
       "      <th>15</th>\n",
       "      <td>146</td>\n",
       "      <td>-0.763713</td>\n",
       "      <td>-0.342105</td>\n",
       "      <td>-0.273965</td>\n",
       "      <td>0.729047</td>\n",
       "      <td>-0.649717</td>\n",
       "      <td>0.109572</td>\n",
       "      <td>-0.588591</td>\n",
       "      <td>-0.141158</td>\n",
       "      <td>-0.314764</td>\n",
       "      <td>...</td>\n",
       "      <td>0.131701</td>\n",
       "      <td>0.020644</td>\n",
       "      <td>0.026361</td>\n",
       "      <td>12.003415</td>\n",
       "      <td>0.472168</td>\n",
       "      <td>0.085446</td>\n",
       "      <td>0.089355</td>\n",
       "      <td>0.002441</td>\n",
       "      <td>1.567211</td>\n",
       "      <td>0.039701</td>\n",
       "    </tr>\n",
       "  </tbody>\n",
       "</table>\n",
       "<p>5 rows × 519 columns</p>\n",
       "</div>"
      ],
      "text/plain": [
       "    track_id  (chroma_cens, kurtosis, 01)  (chroma_cens, kurtosis, 02)  \\\n",
       "5        135                     0.978402                     0.623572   \n",
       "6        136                     0.915001                    -0.643476   \n",
       "13       144                     0.121207                    -0.025308   \n",
       "14       145                     0.954054                     0.315324   \n",
       "15       146                    -0.763713                    -0.342105   \n",
       "\n",
       "    (chroma_cens, kurtosis, 03)  (chroma_cens, kurtosis, 04)  \\\n",
       "5                      1.129261                    -1.043970   \n",
       "6                     -0.460507                    -0.530701   \n",
       "13                     0.541327                     0.967687   \n",
       "14                     0.015383                    -0.023933   \n",
       "15                    -0.273965                     0.729047   \n",
       "\n",
       "    (chroma_cens, kurtosis, 05)  (chroma_cens, kurtosis, 06)  \\\n",
       "5                     -1.127288                    -0.032642   \n",
       "6                     -0.364460                    -0.226860   \n",
       "13                     1.082456                     1.675841   \n",
       "14                     0.086671                     1.279086   \n",
       "15                    -0.649717                     0.109572   \n",
       "\n",
       "    (chroma_cens, kurtosis, 07)  (chroma_cens, kurtosis, 08)  \\\n",
       "5                     -0.878434                    -0.916234   \n",
       "6                     -0.060377                    -0.267673   \n",
       "13                     1.741263                     0.470098   \n",
       "14                     1.966359                     0.517441   \n",
       "15                    -0.588591                    -0.141158   \n",
       "\n",
       "    (chroma_cens, kurtosis, 09)  ...  (tonnetz, std, 04)  (tonnetz, std, 05)  \\\n",
       "5                     -0.743257  ...            0.104279            0.016731   \n",
       "6                     -0.063476  ...            0.076808            0.017915   \n",
       "13                     4.051888  ...            0.082813            0.019886   \n",
       "14                     0.372864  ...            0.086215            0.020350   \n",
       "15                    -0.314764  ...            0.131701            0.020644   \n",
       "\n",
       "    (tonnetz, std, 06)  (zcr, kurtosis, 01)  (zcr, max, 01)  (zcr, mean, 01)  \\\n",
       "5             0.020464            -0.038451        0.234863         0.050837   \n",
       "6             0.016706             0.558770        0.147461         0.036686   \n",
       "13            0.018568             0.627553        0.239258         0.079759   \n",
       "14            0.016222             3.367346        0.288574         0.070751   \n",
       "15            0.026361            12.003415        0.472168         0.085446   \n",
       "\n",
       "    (zcr, median, 01)  (zcr, min, 01)  (zcr, skew, 01)  (zcr, std, 01)  \n",
       "5            0.050781        0.003418         0.297873        0.024899  \n",
       "6            0.034180        0.003418         0.805020        0.016905  \n",
       "13           0.078613        0.000000         0.226211        0.034378  \n",
       "14           0.067871        0.000000         1.064697        0.029904  \n",
       "15           0.089355        0.002441         1.567211        0.039701  \n",
       "\n",
       "[5 rows x 519 columns]"
      ]
     },
     "metadata": {},
     "output_type": "display_data"
    },
    {
     "data": {
      "text/plain": [
       "0        1\n",
       "1        1\n",
       "2        0\n",
       "3        0\n",
       "4        0\n",
       "        ..\n",
       "14748    1\n",
       "14749    1\n",
       "14750    1\n",
       "14751    1\n",
       "14752    1\n",
       "Name: genre_top, Length: 14753, dtype: int64"
      ]
     },
     "metadata": {},
     "output_type": "display_data"
    }
   ],
   "source": [
    "# detach labels from mfcc dataset\n",
    "all_features.drop('genre_top', axis=1, inplace=True)\n",
    "display(all_features.head()) \n",
    "display(labels)"
   ]
  },
  {
   "cell_type": "code",
   "execution_count": 12,
   "metadata": {},
   "outputs": [
    {
     "data": {
      "text/html": [
       "<div>\n",
       "<style scoped>\n",
       "    .dataframe tbody tr th:only-of-type {\n",
       "        vertical-align: middle;\n",
       "    }\n",
       "\n",
       "    .dataframe tbody tr th {\n",
       "        vertical-align: top;\n",
       "    }\n",
       "\n",
       "    .dataframe thead th {\n",
       "        text-align: right;\n",
       "    }\n",
       "</style>\n",
       "<table border=\"1\" class=\"dataframe\">\n",
       "  <thead>\n",
       "    <tr style=\"text-align: right;\">\n",
       "      <th></th>\n",
       "      <th>track_id</th>\n",
       "      <th>(chroma_cens, kurtosis, 01)</th>\n",
       "      <th>(chroma_cens, kurtosis, 02)</th>\n",
       "      <th>(chroma_cens, kurtosis, 03)</th>\n",
       "      <th>(chroma_cens, kurtosis, 04)</th>\n",
       "      <th>(chroma_cens, kurtosis, 05)</th>\n",
       "      <th>(chroma_cens, kurtosis, 06)</th>\n",
       "      <th>(chroma_cens, kurtosis, 07)</th>\n",
       "      <th>(chroma_cens, kurtosis, 08)</th>\n",
       "      <th>(chroma_cens, kurtosis, 09)</th>\n",
       "      <th>...</th>\n",
       "      <th>(tonnetz, std, 04)</th>\n",
       "      <th>(tonnetz, std, 05)</th>\n",
       "      <th>(tonnetz, std, 06)</th>\n",
       "      <th>(zcr, kurtosis, 01)</th>\n",
       "      <th>(zcr, max, 01)</th>\n",
       "      <th>(zcr, mean, 01)</th>\n",
       "      <th>(zcr, median, 01)</th>\n",
       "      <th>(zcr, min, 01)</th>\n",
       "      <th>(zcr, skew, 01)</th>\n",
       "      <th>(zcr, std, 01)</th>\n",
       "    </tr>\n",
       "  </thead>\n",
       "  <tbody>\n",
       "    <tr>\n",
       "      <th>5</th>\n",
       "      <td>135</td>\n",
       "      <td>0.978402</td>\n",
       "      <td>0.623572</td>\n",
       "      <td>1.129261</td>\n",
       "      <td>-1.043970</td>\n",
       "      <td>-1.127288</td>\n",
       "      <td>-0.032642</td>\n",
       "      <td>-0.878434</td>\n",
       "      <td>-0.916234</td>\n",
       "      <td>-0.743257</td>\n",
       "      <td>...</td>\n",
       "      <td>0.104279</td>\n",
       "      <td>0.016731</td>\n",
       "      <td>0.020464</td>\n",
       "      <td>-0.038451</td>\n",
       "      <td>0.234863</td>\n",
       "      <td>0.050837</td>\n",
       "      <td>0.050781</td>\n",
       "      <td>0.003418</td>\n",
       "      <td>0.297873</td>\n",
       "      <td>0.024899</td>\n",
       "    </tr>\n",
       "    <tr>\n",
       "      <th>6</th>\n",
       "      <td>136</td>\n",
       "      <td>0.915001</td>\n",
       "      <td>-0.643476</td>\n",
       "      <td>-0.460507</td>\n",
       "      <td>-0.530701</td>\n",
       "      <td>-0.364460</td>\n",
       "      <td>-0.226860</td>\n",
       "      <td>-0.060377</td>\n",
       "      <td>-0.267673</td>\n",
       "      <td>-0.063476</td>\n",
       "      <td>...</td>\n",
       "      <td>0.076808</td>\n",
       "      <td>0.017915</td>\n",
       "      <td>0.016706</td>\n",
       "      <td>0.558770</td>\n",
       "      <td>0.147461</td>\n",
       "      <td>0.036686</td>\n",
       "      <td>0.034180</td>\n",
       "      <td>0.003418</td>\n",
       "      <td>0.805020</td>\n",
       "      <td>0.016905</td>\n",
       "    </tr>\n",
       "    <tr>\n",
       "      <th>13</th>\n",
       "      <td>144</td>\n",
       "      <td>0.121207</td>\n",
       "      <td>-0.025308</td>\n",
       "      <td>0.541327</td>\n",
       "      <td>0.967687</td>\n",
       "      <td>1.082456</td>\n",
       "      <td>1.675841</td>\n",
       "      <td>1.741263</td>\n",
       "      <td>0.470098</td>\n",
       "      <td>4.051888</td>\n",
       "      <td>...</td>\n",
       "      <td>0.082813</td>\n",
       "      <td>0.019886</td>\n",
       "      <td>0.018568</td>\n",
       "      <td>0.627553</td>\n",
       "      <td>0.239258</td>\n",
       "      <td>0.079759</td>\n",
       "      <td>0.078613</td>\n",
       "      <td>0.000000</td>\n",
       "      <td>0.226211</td>\n",
       "      <td>0.034378</td>\n",
       "    </tr>\n",
       "    <tr>\n",
       "      <th>14</th>\n",
       "      <td>145</td>\n",
       "      <td>0.954054</td>\n",
       "      <td>0.315324</td>\n",
       "      <td>0.015383</td>\n",
       "      <td>-0.023933</td>\n",
       "      <td>0.086671</td>\n",
       "      <td>1.279086</td>\n",
       "      <td>1.966359</td>\n",
       "      <td>0.517441</td>\n",
       "      <td>0.372864</td>\n",
       "      <td>...</td>\n",
       "      <td>0.086215</td>\n",
       "      <td>0.020350</td>\n",
       "      <td>0.016222</td>\n",
       "      <td>3.367346</td>\n",
       "      <td>0.288574</td>\n",
       "      <td>0.070751</td>\n",
       "      <td>0.067871</td>\n",
       "      <td>0.000000</td>\n",
       "      <td>1.064697</td>\n",
       "      <td>0.029904</td>\n",
       "    </tr>\n",
       "    <tr>\n",
       "      <th>15</th>\n",
       "      <td>146</td>\n",
       "      <td>-0.763713</td>\n",
       "      <td>-0.342105</td>\n",
       "      <td>-0.273965</td>\n",
       "      <td>0.729047</td>\n",
       "      <td>-0.649717</td>\n",
       "      <td>0.109572</td>\n",
       "      <td>-0.588591</td>\n",
       "      <td>-0.141158</td>\n",
       "      <td>-0.314764</td>\n",
       "      <td>...</td>\n",
       "      <td>0.131701</td>\n",
       "      <td>0.020644</td>\n",
       "      <td>0.026361</td>\n",
       "      <td>12.003415</td>\n",
       "      <td>0.472168</td>\n",
       "      <td>0.085446</td>\n",
       "      <td>0.089355</td>\n",
       "      <td>0.002441</td>\n",
       "      <td>1.567211</td>\n",
       "      <td>0.039701</td>\n",
       "    </tr>\n",
       "  </tbody>\n",
       "</table>\n",
       "<p>5 rows × 519 columns</p>\n",
       "</div>"
      ],
      "text/plain": [
       "    track_id  (chroma_cens, kurtosis, 01)  (chroma_cens, kurtosis, 02)  \\\n",
       "5        135                     0.978402                     0.623572   \n",
       "6        136                     0.915001                    -0.643476   \n",
       "13       144                     0.121207                    -0.025308   \n",
       "14       145                     0.954054                     0.315324   \n",
       "15       146                    -0.763713                    -0.342105   \n",
       "\n",
       "    (chroma_cens, kurtosis, 03)  (chroma_cens, kurtosis, 04)  \\\n",
       "5                      1.129261                    -1.043970   \n",
       "6                     -0.460507                    -0.530701   \n",
       "13                     0.541327                     0.967687   \n",
       "14                     0.015383                    -0.023933   \n",
       "15                    -0.273965                     0.729047   \n",
       "\n",
       "    (chroma_cens, kurtosis, 05)  (chroma_cens, kurtosis, 06)  \\\n",
       "5                     -1.127288                    -0.032642   \n",
       "6                     -0.364460                    -0.226860   \n",
       "13                     1.082456                     1.675841   \n",
       "14                     0.086671                     1.279086   \n",
       "15                    -0.649717                     0.109572   \n",
       "\n",
       "    (chroma_cens, kurtosis, 07)  (chroma_cens, kurtosis, 08)  \\\n",
       "5                     -0.878434                    -0.916234   \n",
       "6                     -0.060377                    -0.267673   \n",
       "13                     1.741263                     0.470098   \n",
       "14                     1.966359                     0.517441   \n",
       "15                    -0.588591                    -0.141158   \n",
       "\n",
       "    (chroma_cens, kurtosis, 09)  ...  (tonnetz, std, 04)  (tonnetz, std, 05)  \\\n",
       "5                     -0.743257  ...            0.104279            0.016731   \n",
       "6                     -0.063476  ...            0.076808            0.017915   \n",
       "13                     4.051888  ...            0.082813            0.019886   \n",
       "14                     0.372864  ...            0.086215            0.020350   \n",
       "15                    -0.314764  ...            0.131701            0.020644   \n",
       "\n",
       "    (tonnetz, std, 06)  (zcr, kurtosis, 01)  (zcr, max, 01)  (zcr, mean, 01)  \\\n",
       "5             0.020464            -0.038451        0.234863         0.050837   \n",
       "6             0.016706             0.558770        0.147461         0.036686   \n",
       "13            0.018568             0.627553        0.239258         0.079759   \n",
       "14            0.016222             3.367346        0.288574         0.070751   \n",
       "15            0.026361            12.003415        0.472168         0.085446   \n",
       "\n",
       "    (zcr, median, 01)  (zcr, min, 01)  (zcr, skew, 01)  (zcr, std, 01)  \n",
       "5            0.050781        0.003418         0.297873        0.024899  \n",
       "6            0.034180        0.003418         0.805020        0.016905  \n",
       "13           0.078613        0.000000         0.226211        0.034378  \n",
       "14           0.067871        0.000000         1.064697        0.029904  \n",
       "15           0.089355        0.002441         1.567211        0.039701  \n",
       "\n",
       "[5 rows x 519 columns]"
      ]
     },
     "execution_count": 12,
     "metadata": {},
     "output_type": "execute_result"
    }
   ],
   "source": [
    "# normalize the dataset\n",
    "scaler = StandardScaler()\n",
    "all_scaled_features = scaler.fit_transform(all_features)\n",
    "all_features.head()"
   ]
  },
  {
   "cell_type": "markdown",
   "metadata": {},
   "source": [
    "# 2. PCA on normalized data "
   ]
  },
  {
   "cell_type": "code",
   "execution_count": 13,
   "metadata": {},
   "outputs": [
    {
     "data": {
      "text/plain": [
       "Text(0.5, 0, 'Principal Component #')"
      ]
     },
     "execution_count": 13,
     "metadata": {},
     "output_type": "execute_result"
    },
    {
     "data": {
      "image/png": "[encoded data removed]",
      "text/plain": [
       "<Figure size 432x288 with 1 Axes>"
      ]
     },
     "metadata": {
      "needs_background": "light"
     },
     "output_type": "display_data"
    }
   ],
   "source": [
    "pca = PCA()\n",
    "pca.fit(all_scaled_features)\n",
    "# get explained variance ratios from PCA using all features\n",
    "exp_variance = pca.explained_variance_ratio_\n",
    "# plot explained variance\n",
    "fig, ax= plt.subplots()\n",
    "ax.bar(range(pca.n_components_),exp_variance)\n",
    "ax.set_xlabel('Principal Component #')"
   ]
  },
  {
   "cell_type": "code",
   "execution_count": 14,
   "metadata": {},
   "outputs": [
    {
     "name": "stdout",
     "output_type": "stream",
     "text": [
      "Optimal number of components: 141\n",
      "Explained variation per principal component:\n",
      "[1.22699640e-01 5.10887693e-02 4.13638767e-02 3.34245995e-02\n",
      " 3.03956364e-02 2.86051845e-02 2.75163913e-02 2.63292213e-02\n",
      " 2.49881135e-02 2.13803438e-02 1.71327428e-02 1.63056903e-02\n",
      " 1.47029019e-02 1.39230198e-02 1.31709618e-02 1.23427206e-02\n",
      " 1.11565950e-02 1.03347115e-02 9.69070194e-03 9.65270738e-03\n",
      " 8.76200169e-03 8.54163729e-03 8.46975165e-03 8.24905015e-03\n",
      " 7.97114422e-03 7.54279782e-03 7.44648992e-03 7.11993373e-03\n",
      " 6.50165963e-03 6.31371015e-03 6.15898516e-03 5.92480858e-03\n",
      " 5.69858777e-03 5.38813879e-03 5.24647473e-03 5.15584987e-03\n",
      " 5.11420417e-03 4.98616329e-03 4.74578458e-03 4.71497283e-03\n",
      " 4.53611844e-03 4.47840424e-03 4.42660550e-03 4.32347279e-03\n",
      " 4.19194812e-03 4.13452197e-03 4.02210553e-03 3.97266070e-03\n",
      " 3.84475793e-03 3.78896325e-03 3.70180368e-03 3.66066045e-03\n",
      " 3.56088580e-03 3.49514901e-03 3.46534876e-03 3.39002529e-03\n",
      " 3.30168416e-03 3.24708669e-03 3.23068155e-03 3.14833626e-03\n",
      " 3.12000696e-03 3.07081809e-03 3.04845646e-03 2.96160583e-03\n",
      " 2.93000572e-03 2.87058170e-03 2.82459993e-03 2.77932906e-03\n",
      " 2.71641040e-03 2.70250208e-03 2.69038272e-03 2.63580454e-03\n",
      " 2.59313706e-03 2.53447292e-03 2.50735970e-03 2.49243763e-03\n",
      " 2.47446834e-03 2.40726611e-03 2.38443966e-03 2.36431694e-03\n",
      " 2.33349711e-03 2.29986871e-03 2.29789325e-03 2.24768437e-03\n",
      " 2.24255178e-03 2.20500043e-03 2.16839143e-03 2.14515974e-03\n",
      " 2.10204654e-03 2.08131155e-03 2.05398961e-03 2.04780836e-03\n",
      " 2.04275981e-03 2.01949980e-03 1.97221824e-03 1.95776216e-03\n",
      " 1.94420986e-03 1.91588170e-03 1.90619893e-03 1.87917151e-03\n",
      " 1.83937894e-03 1.83685361e-03 1.81192031e-03 1.79840876e-03\n",
      " 1.76452939e-03 1.75204156e-03 1.73204017e-03 1.71546079e-03\n",
      " 1.70710814e-03 1.67215419e-03 1.65655617e-03 1.64275530e-03\n",
      " 1.60956225e-03 1.59036404e-03 1.56128957e-03 1.54857465e-03\n",
      " 1.53325113e-03 1.50280399e-03 1.49057023e-03 1.48189408e-03\n",
      " 1.45872783e-03 1.44384161e-03 1.42234176e-03 1.41373907e-03\n",
      " 1.40769075e-03 1.39292075e-03 1.37008742e-03 1.36118870e-03\n",
      " 1.34953733e-03 1.33276879e-03 1.32901771e-03 1.29470395e-03\n",
      " 1.28204822e-03 1.26928028e-03 1.25762666e-03 1.23467375e-03\n",
      " 1.22995311e-03 1.21570394e-03 1.21240373e-03 1.20551427e-03\n",
      " 1.17928291e-03 1.16280818e-03 1.15634881e-03 1.14512189e-03\n",
      " 1.13088222e-03 1.10843547e-03 1.09651883e-03 1.07941843e-03\n",
      " 1.06201481e-03 1.04781128e-03 1.03636913e-03 1.03116322e-03\n",
      " 1.00406670e-03 9.96959839e-04 9.88373063e-04 9.86298765e-04\n",
      " 9.57751585e-04 9.52890095e-04 9.42012147e-04 9.33574999e-04\n",
      " 9.30211958e-04 9.19476507e-04 9.06124489e-04 8.98325414e-04\n",
      " 8.85848869e-04 8.75597418e-04 8.58306492e-04 8.50659449e-04\n",
      " 8.40555079e-04 8.35613637e-04 8.24421535e-04 8.18174123e-04\n",
      " 7.96647539e-04 7.93367326e-04 7.86237934e-04 7.80599592e-04\n",
      " 7.71463173e-04 7.66832277e-04 7.59097864e-04 7.44127116e-04\n",
      " 7.37732903e-04 7.32322531e-04 7.18898179e-04 7.07580184e-04\n",
      " 6.91177044e-04 6.86301945e-04 6.82600292e-04 6.78779834e-04\n",
      " 6.66752004e-04 6.58307572e-04 6.47281637e-04 6.39723843e-04\n",
      " 6.36884850e-04 6.30413991e-04 6.18636143e-04 6.10804210e-04\n",
      " 6.04939690e-04 6.03298270e-04 5.97455282e-04 5.94524864e-04\n",
      " 5.77729864e-04 5.70928987e-04 5.67131385e-04 5.61925451e-04\n",
      " 5.52631515e-04 5.51854939e-04 5.47347228e-04 5.38686073e-04\n",
      " 5.29834627e-04 5.25288500e-04 5.21103092e-04 5.18280502e-04\n",
      " 5.10664471e-04 5.02871166e-04 4.99806940e-04 4.97716901e-04\n",
      " 4.85420000e-04 4.84507510e-04 4.81896435e-04 4.79492109e-04\n",
      " 4.66643578e-04 4.62295028e-04 4.58351734e-04 4.55041277e-04\n",
      " 4.49260966e-04 4.48672440e-04 4.41325512e-04 4.37493994e-04\n",
      " 4.27272708e-04 4.24565812e-04 4.18179990e-04 4.13588864e-04\n",
      " 4.11740477e-04 4.03794490e-04 4.02428500e-04 3.98808068e-04\n",
      " 3.92648388e-04 3.91388631e-04 3.83826252e-04 3.80546189e-04\n",
      " 3.74128614e-04 3.70929790e-04 3.65279458e-04 3.59308129e-04\n",
      " 3.57622972e-04 3.50454942e-04 3.41852634e-04 3.40428180e-04\n",
      " 3.37347773e-04 3.35113128e-04 3.32387733e-04 3.29952466e-04\n",
      " 3.24858488e-04 3.23629290e-04 3.17335117e-04 3.15626940e-04\n",
      " 3.09261120e-04 3.06972594e-04 3.01316877e-04 2.94025090e-04\n",
      " 2.93063812e-04 2.87058289e-04 2.86440865e-04 2.83279175e-04\n",
      " 2.80324807e-04 2.78800007e-04 2.76289802e-04 2.73061373e-04\n",
      " 2.71195105e-04 2.69486147e-04 2.67185511e-04 2.65504978e-04\n",
      " 2.61375790e-04 2.59648217e-04 2.58205798e-04 2.56480851e-04\n",
      " 2.55335812e-04 2.51257933e-04 2.48858974e-04 2.45333089e-04\n",
      " 2.43918313e-04 2.41833910e-04 2.36959932e-04 2.36226817e-04\n",
      " 2.34187495e-04 2.30656832e-04 2.29075256e-04 2.25835716e-04\n",
      " 2.24738592e-04 2.21590807e-04 2.20527976e-04 2.18504735e-04\n",
      " 2.16997249e-04 2.14971256e-04 2.13767113e-04 2.12470369e-04\n",
      " 2.10744487e-04 2.09060788e-04 2.06661187e-04 2.05517156e-04\n",
      " 2.04667637e-04 2.02614853e-04 2.00934080e-04 1.99969148e-04\n",
      " 1.97885870e-04 1.95932319e-04 1.95111978e-04 1.94468633e-04\n",
      " 1.92744741e-04 1.91274946e-04 1.90163679e-04 1.88206736e-04\n",
      " 1.87388934e-04 1.86644416e-04 1.84766129e-04 1.82617933e-04\n",
      " 1.81580417e-04 1.80231705e-04 1.79075703e-04 1.78511337e-04\n",
      " 1.77149119e-04 1.75606645e-04 1.73146055e-04 1.72370930e-04\n",
      " 1.71459453e-04 1.69414933e-04 1.68314388e-04 1.65973103e-04\n",
      " 1.65272617e-04 1.63576738e-04 1.62639188e-04 1.61996867e-04\n",
      " 1.61092457e-04 1.59731196e-04 1.57385722e-04 1.55617043e-04\n",
      " 1.54231537e-04 1.53708588e-04 1.53114348e-04 1.51756947e-04\n",
      " 1.50574542e-04 1.49445010e-04 1.47863965e-04 1.46782693e-04\n",
      " 1.46000812e-04 1.44982255e-04 1.41908522e-04 1.41143808e-04\n",
      " 1.40176732e-04 1.38768811e-04 1.38559416e-04 1.35161339e-04\n",
      " 1.34866997e-04 1.33783706e-04 1.30431531e-04 1.30170347e-04\n",
      " 1.29742063e-04 1.28408352e-04 1.26820596e-04 1.25832448e-04\n",
      " 1.24815372e-04 1.24113874e-04 1.22424477e-04 1.20620778e-04\n",
      " 1.18960950e-04 1.18123360e-04 1.17908296e-04 1.16099091e-04\n",
      " 1.14954164e-04 1.13297239e-04 1.11822332e-04 1.11181925e-04\n",
      " 1.08813305e-04 1.07484156e-04 1.04137524e-04 1.02017189e-04\n",
      " 1.01440644e-04 9.90686632e-05 9.78697920e-05 9.50328016e-05\n",
      " 9.42722810e-05 9.21869650e-05 9.15912821e-05 9.00916067e-05\n",
      " 8.89408752e-05 8.75551716e-05 8.35946586e-05 8.31453664e-05\n",
      " 8.02790050e-05 7.78725861e-05 7.77486965e-05 7.57943019e-05\n",
      " 7.38544197e-05 7.21954053e-05 6.89978672e-05 6.83031838e-05\n",
      " 6.71710170e-05 6.29434538e-05 6.21385920e-05 6.00880727e-05\n",
      " 5.92964629e-05 5.82433022e-05 5.60320376e-05 5.52978798e-05\n",
      " 5.44620369e-05 5.41249840e-05 5.35535451e-05 5.22979768e-05\n",
      " 5.16455082e-05 5.06688682e-05 4.91525934e-05 4.90238240e-05\n",
      " 4.70507738e-05 4.60300752e-05 4.46134933e-05 4.40200649e-05\n",
      " 4.33156348e-05 4.26366016e-05 4.20961077e-05 3.99136417e-05\n",
      " 3.94822201e-05 3.79872498e-05 3.69647869e-05 3.60462505e-05\n",
      " 3.55186157e-05 3.46597606e-05 3.42205744e-05 3.37325108e-05\n",
      " 3.29534715e-05 3.23510179e-05 3.18503277e-05 3.01832583e-05\n",
      " 2.96463433e-05 2.88147245e-05 2.71957508e-05 2.63875467e-05\n",
      " 2.57888696e-05 2.35750475e-05 2.31459663e-05 2.26726002e-05\n",
      " 2.21975813e-05 2.12192262e-05 2.10036259e-05 2.07908430e-05\n",
      " 1.96027689e-05 1.93014792e-05 1.90014806e-05 1.85687913e-05\n",
      " 1.62476605e-05 1.60426780e-05 1.54892506e-05 1.53141262e-05\n",
      " 1.43991404e-05 1.41608915e-05 1.39496304e-05 1.35206133e-05\n",
      " 1.28393703e-05 1.25067880e-05 1.20443600e-05 1.16289159e-05\n",
      " 1.15543793e-05 1.13469049e-05 1.11009247e-05 1.05045574e-05\n",
      " 1.02653798e-05 9.97124441e-06 9.80096068e-06 8.42350734e-06\n",
      " 8.22543091e-06 8.11814088e-06 7.57498017e-06 7.30568329e-06\n",
      " 7.03443012e-06 6.80133152e-06 6.57246269e-06 6.39661485e-06\n",
      " 6.19064632e-06 5.93563191e-06 5.92425666e-06 5.54971964e-06\n",
      " 5.40670591e-06 5.20673989e-06 5.02793820e-06 4.88172237e-06\n",
      " 4.73861034e-06 4.50795653e-06 4.43871477e-06 4.36781197e-06\n",
      " 3.97863830e-06 3.88148810e-06 3.72051962e-06 3.65316025e-06\n",
      " 3.59594148e-06 3.29799097e-06 3.11271067e-06 2.92979134e-06\n",
      " 2.77249791e-06 2.50510481e-06 2.19631315e-06 2.16219988e-06\n",
      " 2.12346188e-06 2.09470308e-06 1.98312531e-06 1.95659480e-06\n",
      " 1.79624843e-06 1.71371438e-06 1.70347317e-06 1.60959195e-06\n",
      " 1.57239765e-06 1.53950759e-06 1.45232610e-06 1.41606899e-06\n",
      " 1.33106595e-06 9.59486294e-07 9.47154507e-07 8.13577677e-07\n",
      " 4.36280647e-07 4.17246437e-07 1.85518768e-34]\n"
     ]
    },
    {
     "data": {
      "image/png": "[encoded data removed]",
      "text/plain": [
       "<Figure size 432x288 with 1 Axes>"
      ]
     },
     "metadata": {
      "needs_background": "light"
     },
     "output_type": "display_data"
    }
   ],
   "source": [
    "# calculate the cumulative explained variance\n",
    "cum_exp_var = np.cumsum(exp_variance)\n",
    "\n",
    "# plot the cumulative explained variance and draw a dashed line at 0.9\\\n",
    "# This line indicates how much variance (information) we want to retain\n",
    "fig, ax= plt.subplots()\n",
    "ax.plot(cum_exp_var)\n",
    "ax.axhline(y=0.9, linestyle='--',color='red')\n",
    "\n",
    "# find index where cum_exp_var exceeds 0.9 and adding 1 to that index to get the num of components\n",
    "n_components = ((np.where(cum_exp_var > 0.9))[0][0])\n",
    "print(f\"Optimal number of components: {n_components}\")\n",
    "print(f\"Explained variation per principal component:\\n{pca.explained_variance_ratio_}\")\n",
    "# perform PCA with the chosen number of components and project data onto components\n",
    "pca = PCA(n_components=n_components,random_state=10)\n",
    "pca.fit(all_scaled_features)\n",
    "pca_proj = pca.transform(all_scaled_features)"
   ]
  },
  {
   "cell_type": "code",
   "execution_count": 15,
   "metadata": {},
   "outputs": [
    {
     "data": {
      "text/plain": [
       "(14753, 141)"
      ]
     },
     "execution_count": 15,
     "metadata": {},
     "output_type": "execute_result"
    }
   ],
   "source": [
    "# check number of tracks and principal components chosen\n",
    "pca_proj.shape"
   ]
  },
  {
   "cell_type": "markdown",
   "metadata": {},
   "source": [
    "### Plot PCA "
   ]
  },
  {
   "cell_type": "code",
   "execution_count": 16,
   "metadata": {},
   "outputs": [
    {
     "data": {
      "image/png": "[encoded data removed]",
      "text/plain": [
       "<Figure size 720x504 with 1 Axes>"
      ]
     },
     "metadata": {
      "needs_background": "light"
     },
     "output_type": "display_data"
    }
   ],
   "source": [
    "# generating df for plotting PCA\n",
    "df = pd.DataFrame()\n",
    "df['pca1'] = pca_proj[:,0]\n",
    "df['pca2'] = pca_proj[:,1]\n",
    "df['pca3'] = pca_proj[:,2] # for plotting in 3D\n",
    "df['genres'] = labels.apply(lambda x: \"Rock\" if x==1 else str(genres[1]))\n",
    "\n",
    "# plot scatter of PCA\n",
    "plt.figure(figsize=(10,7))\n",
    "sns.scatterplot(\n",
    "    x=\"pca1\", y=\"pca2\",\n",
    "    hue='genres',\n",
    "    palette={str(genres[1]):'blue','Rock':'red'},\n",
    "    data=df,\n",
    "    legend=\"full\",\n",
    "    alpha=0.9\n",
    ")\n",
    "plt.title(\"PCA in 2D\", fontsize= 15)\n",
    "plt.show()"
   ]
  },
  {
   "cell_type": "markdown",
   "metadata": {},
   "source": [
    "# 3. Split data for classification"
   ]
  },
  {
   "cell_type": "code",
   "execution_count": 17,
   "metadata": {},
   "outputs": [],
   "source": [
    "# shuffle and split into development set and internal test set:\n",
    "# (PCA)\n",
    "Xpca_develop, Xpca_test, y_develop_pca, y_test_pca = train_test_split(\n",
    "pca_proj, labels, test_size=0.30, random_state=42, stratify=labels)\n",
    "\n",
    "# (split without PCA)\n",
    "X_develop, X_test, y_develop, y_test = train_test_split(\n",
    "all_scaled_features, labels, test_size=0.30, random_state=42, stratify= labels)"
   ]
  },
  {
   "cell_type": "code",
   "execution_count": 18,
   "metadata": {},
   "outputs": [
    {
     "name": "stdout",
     "output_type": "stream",
     "text": [
      "____Legend____\n",
      "1: Rock\n",
      "0: Jazz\n",
      "\n",
      "***PCA***\n",
      "Development set:\n",
      "1    9927\n",
      "0     400\n",
      "Name: genre_top, dtype: int64\n",
      "\n",
      "Internal Test:\n",
      "1    4255\n",
      "0     171\n",
      "Name: genre_top, dtype: int64\n",
      "\n",
      "-----------------\n",
      "***No-PCA***\n",
      "Development set:\n",
      "1    9927\n",
      "0     400\n",
      "Name: genre_top, dtype: int64\n",
      "\n",
      "Internal Test:\n",
      "1    4255\n",
      "0     171\n",
      "Name: genre_top, dtype: int64\n"
     ]
    }
   ],
   "source": [
    "# check partition\n",
    "print(f\"____Legend____\\n1: Rock\\n0: Jazz\\n\\n***PCA***\\nDevelopment set:\\\n",
    "\\n{y_develop_pca.value_counts()}\\n\\nInternal Test:\\n{y_test_pca.value_counts()}\\n\\n\\\n",
    "-----------------\\n\\\n",
    "***No-PCA***\\nDevelopment set:\\n{y_develop.value_counts()}\\n\\nInternal Test:\\n{y_test.value_counts()}\")"
   ]
  },
  {
   "cell_type": "markdown",
   "metadata": {},
   "source": [
    "# 4. Decision Tree\n",
    "## a) without PCA "
   ]
  },
  {
   "cell_type": "code",
   "execution_count": 19,
   "metadata": {},
   "outputs": [
    {
     "name": "stdout",
     "output_type": "stream",
     "text": [
      "Fitting 50 folds for each of 176 candidates, totalling 8800 fits\n"
     ]
    },
    {
     "name": "stderr",
     "output_type": "stream",
     "text": [
      "[Parallel(n_jobs=2)]: Using backend LokyBackend with 2 concurrent workers.\n",
      "[Parallel(n_jobs=2)]: Done  46 tasks      | elapsed:   30.2s\n",
      "[Parallel(n_jobs=2)]: Done 196 tasks      | elapsed:  2.1min\n",
      "[Parallel(n_jobs=2)]: Done 446 tasks      | elapsed:  4.7min\n",
      "[Parallel(n_jobs=2)]: Done 796 tasks      | elapsed:  9.1min\n",
      "[Parallel(n_jobs=2)]: Done 1246 tasks      | elapsed: 23.2min\n",
      "[Parallel(n_jobs=2)]: Done 1796 tasks      | elapsed: 32.9min\n",
      "[Parallel(n_jobs=2)]: Done 2446 tasks      | elapsed: 46.5min\n",
      "[Parallel(n_jobs=2)]: Done 3196 tasks      | elapsed: 64.4min\n",
      "[Parallel(n_jobs=2)]: Done 4046 tasks      | elapsed: 88.2min\n",
      "[Parallel(n_jobs=2)]: Done 4996 tasks      | elapsed: 107.2min\n",
      "[Parallel(n_jobs=2)]: Done 6046 tasks      | elapsed: 128.2min\n",
      "[Parallel(n_jobs=2)]: Done 7196 tasks      | elapsed: 154.7min\n",
      "[Parallel(n_jobs=2)]: Done 8446 tasks      | elapsed: 185.6min\n",
      "[Parallel(n_jobs=2)]: Done 8800 out of 8800 | elapsed: 193.8min finished\n"
     ]
    },
    {
     "name": "stdout",
     "output_type": "stream",
     "text": [
      "best parameters:\n",
      "{'criterion': 'entropy', 'max_depth': 5, 'min_samples_leaf': 75}\n",
      "accuracy: 0.9639203756650683\n"
     ]
    },
    {
     "ename": "NameError",
     "evalue": "name 'report' is not defined",
     "output_type": "error",
     "traceback": [
      "\u001b[0;31m---------------------------------------------------------------------------\u001b[0m",
      "\u001b[0;31mNameError\u001b[0m                                 Traceback (most recent call last)",
      "\u001b[0;32m<ipython-input-19-c03340f52ccf>\u001b[0m in \u001b[0;36m<module>\u001b[0;34m\u001b[0m\n\u001b[1;32m     13\u001b[0m \u001b[0;31m# display top 3 models\u001b[0m\u001b[0;34m\u001b[0m\u001b[0;34m\u001b[0m\u001b[0;34m\u001b[0m\u001b[0m\n\u001b[1;32m     14\u001b[0m \u001b[0mprint\u001b[0m\u001b[0;34m(\u001b[0m\u001b[0;34mf\"best parameters:\\n{clf.best_params_}\\naccuracy: {clf.best_score_}\"\u001b[0m\u001b[0;34m)\u001b[0m\u001b[0;34m\u001b[0m\u001b[0;34m\u001b[0m\u001b[0m\n\u001b[0;32m---> 15\u001b[0;31m \u001b[0mreport\u001b[0m\u001b[0;34m(\u001b[0m\u001b[0mclf\u001b[0m\u001b[0;34m.\u001b[0m\u001b[0mcv_results_\u001b[0m\u001b[0;34m)\u001b[0m\u001b[0;34m\u001b[0m\u001b[0;34m\u001b[0m\u001b[0m\n\u001b[0m",
      "\u001b[0;31mNameError\u001b[0m: name 'report' is not defined"
     ]
    }
   ],
   "source": [
    "# search parameters\n",
    "param_grid = {\n",
    "               \"max_depth\": [3,4,5,6,7,8,9,10],\n",
    "               \"min_samples_leaf\": [10,15,20,25,20,35,40,45,50,55,75],\n",
    "               \"criterion\": [\"gini\", \"entropy\"]\n",
    "             }\n",
    "\n",
    "# instantiate a model\n",
    "dtc = DecisionTreeClassifier()\n",
    "rep_kfold = RepeatedKFold(n_splits=10, n_repeats=5, random_state=2652124)\n",
    "clf = GridSearchCV(dtc, cv =rep_kfold , param_grid=param_grid, n_jobs=2, verbose=True)\n",
    "clf.fit(X_develop, y_develop)\n",
    "# display top 3 models\n",
    "print(f\"best parameters:\\n{clf.best_params_}\\naccuracy: {clf.best_score_}\")\n",
    "report(clf.cv_results_)"
   ]
  },
  {
   "cell_type": "code",
   "execution_count": 21,
   "metadata": {},
   "outputs": [
    {
     "name": "stdout",
     "output_type": "stream",
     "text": [
      "Accuracy 0.9627202892001807\n",
      "F1-score [0.28571429 0.98086069]\n",
      "              precision    recall  f1-score   support\n",
      "\n",
      "           0       0.55      0.19      0.29       171\n",
      "           1       0.97      0.99      0.98      4255\n",
      "\n",
      "    accuracy                           0.96      4426\n",
      "   macro avg       0.76      0.59      0.63      4426\n",
      "weighted avg       0.95      0.96      0.95      4426\n",
      "\n"
     ]
    }
   ],
   "source": [
    "# train and fit\n",
    "dtc = DecisionTreeClassifier(criterion= 'entropy',max_depth=5, min_samples_leaf=75)\n",
    "dtc.fit(X_develop,y_develop)\n",
    "# predict on internal test set\n",
    "y_pred_dtc = dtc.predict(X_test)\n",
    "\n",
    "# display metrics\n",
    "print('Accuracy %s' % accuracy_score(y_test, y_pred_dtc))\n",
    "print('F1-score %s' % f1_score(y_test, y_pred_dtc, average=None))\n",
    "print(classification_report(y_test, y_pred_dtc))"
   ]
  },
  {
   "cell_type": "markdown",
   "metadata": {},
   "source": [
    "### ROC Curve"
   ]
  },
  {
   "cell_type": "code",
   "execution_count": 22,
   "metadata": {},
   "outputs": [
    {
     "data": {
      "image/png": "[encoded data removed]",
      "text/plain": [
       "<Figure size 432x288 with 1 Axes>"
      ]
     },
     "metadata": {
      "needs_background": "light"
     },
     "output_type": "display_data"
    }
   ],
   "source": [
    "# y_score0 --> scores of decision tree without PCA\n",
    "# fpr0, tpr0 ---> false positive and true positive of decision tree without PCA\n",
    "y_score0 = dtc.predict_proba(X_test)\n",
    "fpr0, tpr0, _ = roc_curve(y_test, y_score0[:, 1])\n",
    "\n",
    "# roc_auc0 --> ROC/AUC of decision tree without PCA\n",
    "roc_auc0 = auc(fpr0, tpr0)\n",
    "\n",
    "plt.plot(fpr0, tpr0, color='red', lw=3, label='$AUC_{without PCA}$ = %.3f' % roc_auc0)\n",
    "\n",
    "plt.plot([0, 1], [0, 1], color='black', lw=2, linestyle='--')\n",
    "plt.xlim([0.0, 1.0])\n",
    "plt.ylim([0.0, 1.05])\n",
    "plt.xlabel('False Positive Rate', fontsize=16)\n",
    "plt.ylabel('True Positive Rate', fontsize=16)\n",
    "plt.title('ROC curve - without PCA', fontsize=16)\n",
    "plt.legend(loc=\"lower right\", fontsize=14, frameon=False)\n",
    "plt.tick_params(axis='both', which='major', labelsize=16)\n",
    "plt.show()"
   ]
  },
  {
   "cell_type": "markdown",
   "metadata": {},
   "source": [
    "### Confusion matrix"
   ]
  },
  {
   "cell_type": "code",
   "execution_count": 23,
   "metadata": {},
   "outputs": [
    {
     "name": "stdout",
     "output_type": "stream",
     "text": [
      "Legend:\n",
      "0: Jazz\n",
      "1: Rock\n",
      "[[  33  138]\n",
      " [  27 4228]]\n"
     ]
    },
    {
     "data": {
      "image/png": "[encoded data removed]",
      "text/plain": [
       "<Figure size 432x288 with 2 Axes>"
      ]
     },
     "metadata": {
      "needs_background": "light"
     },
     "output_type": "display_data"
    }
   ],
   "source": [
    "# confusion matrix - Internal Test\n",
    "print(\"Legend:\\n0: Jazz\"\n",
    "      \"\\n1: Rock\")\n",
    "cm = plot_confusion_matrix(dtc,X_test,y_test,\n",
    "                            cmap = plt.cm.Blues)\n",
    "cm.ax_.set_title('Confusion Matrix - Decision tree (without PCA)')\n",
    "print(cm.confusion_matrix)\n",
    "plt.show()"
   ]
  },
  {
   "cell_type": "markdown",
   "metadata": {},
   "source": [
    "### b) with PCA "
   ]
  },
  {
   "cell_type": "code",
   "execution_count": 24,
   "metadata": {},
   "outputs": [
    {
     "name": "stdout",
     "output_type": "stream",
     "text": [
      "Fitting 50 folds for each of 176 candidates, totalling 8800 fits\n"
     ]
    },
    {
     "name": "stderr",
     "output_type": "stream",
     "text": [
      "[Parallel(n_jobs=2)]: Using backend LokyBackend with 2 concurrent workers.\n",
      "[Parallel(n_jobs=2)]: Done  46 tasks      | elapsed:    9.7s\n",
      "[Parallel(n_jobs=2)]: Done 196 tasks      | elapsed:   36.8s\n",
      "[Parallel(n_jobs=2)]: Done 446 tasks      | elapsed:  1.4min\n",
      "[Parallel(n_jobs=2)]: Done 796 tasks      | elapsed:  2.6min\n",
      "[Parallel(n_jobs=2)]: Done 1246 tasks      | elapsed:  4.6min\n",
      "[Parallel(n_jobs=2)]: Done 1796 tasks      | elapsed:  7.3min\n",
      "[Parallel(n_jobs=2)]: Done 2446 tasks      | elapsed: 11.2min\n",
      "[Parallel(n_jobs=2)]: Done 3196 tasks      | elapsed: 16.4min\n",
      "[Parallel(n_jobs=2)]: Done 4046 tasks      | elapsed: 23.1min\n",
      "[Parallel(n_jobs=2)]: Done 4996 tasks      | elapsed: 28.3min\n",
      "[Parallel(n_jobs=2)]: Done 6046 tasks      | elapsed: 34.2min\n",
      "[Parallel(n_jobs=2)]: Done 7196 tasks      | elapsed: 42.2min\n",
      "[Parallel(n_jobs=2)]: Done 8446 tasks      | elapsed: 51.4min\n",
      "[Parallel(n_jobs=2)]: Done 8800 out of 8800 | elapsed: 54.0min finished\n"
     ]
    },
    {
     "name": "stdout",
     "output_type": "stream",
     "text": [
      "best parameters:\n",
      "{'criterion': 'entropy', 'max_depth': 4, 'min_samples_leaf': 75}\n",
      "accuracy: 0.9616928941819194\n"
     ]
    },
    {
     "ename": "NameError",
     "evalue": "name 'report' is not defined",
     "output_type": "error",
     "traceback": [
      "\u001b[0;31m---------------------------------------------------------------------------\u001b[0m",
      "\u001b[0;31mNameError\u001b[0m                                 Traceback (most recent call last)",
      "\u001b[0;32m<ipython-input-24-c124292c6b9c>\u001b[0m in \u001b[0;36m<module>\u001b[0;34m\u001b[0m\n\u001b[1;32m     14\u001b[0m \u001b[0mprint\u001b[0m\u001b[0;34m(\u001b[0m\u001b[0;34mf\"best parameters:\\n{clf.best_params_}\\naccuracy: {clf.best_score_}\"\u001b[0m\u001b[0;34m)\u001b[0m\u001b[0;34m\u001b[0m\u001b[0;34m\u001b[0m\u001b[0m\n\u001b[1;32m     15\u001b[0m \u001b[0;34m\u001b[0m\u001b[0m\n\u001b[0;32m---> 16\u001b[0;31m \u001b[0mreport\u001b[0m\u001b[0;34m(\u001b[0m\u001b[0mclf\u001b[0m\u001b[0;34m.\u001b[0m\u001b[0mcv_results_\u001b[0m\u001b[0;34m)\u001b[0m\u001b[0;34m\u001b[0m\u001b[0;34m\u001b[0m\u001b[0m\n\u001b[0m",
      "\u001b[0;31mNameError\u001b[0m: name 'report' is not defined"
     ]
    }
   ],
   "source": [
    "# search parameters\n",
    "param_grid = {\n",
    "               \"max_depth\": [3,4,5,6,7,8,9,10],\n",
    "               \"min_samples_leaf\": [10,15,20,25,20,35,40,45,50,55,75],\n",
    "               \"criterion\": [\"gini\", \"entropy\"]\n",
    "             }\n",
    "\n",
    "# model\n",
    "dtc_pca = DecisionTreeClassifier()\n",
    "rep_kfold = RepeatedKFold(n_splits=10, n_repeats=5, random_state=2652124)\n",
    "clf = GridSearchCV(dtc_pca, cv =rep_kfold , param_grid=param_grid, n_jobs=2, verbose=True)\n",
    "\n",
    "clf.fit(Xpca_develop, y_develop_pca)\n",
    "print(f\"best parameters:\\n{clf.best_params_}\\naccuracy: {clf.best_score_}\")\n",
    "\n",
    "report(clf.cv_results_)"
   ]
  },
  {
   "cell_type": "code",
   "execution_count": 28,
   "metadata": {},
   "outputs": [
    {
     "name": "stdout",
     "output_type": "stream",
     "text": [
      "Accuracy 0.9627202892001807\n",
      "F1-score [0.29184549 0.98085625]\n",
      "              precision    recall  f1-score   support\n",
      "\n",
      "           0       0.55      0.20      0.29       171\n",
      "           1       0.97      0.99      0.98      4255\n",
      "\n",
      "    accuracy                           0.96      4426\n",
      "   macro avg       0.76      0.60      0.64      4426\n",
      "weighted avg       0.95      0.96      0.95      4426\n",
      "\n"
     ]
    }
   ],
   "source": [
    "dtc_pca = DecisionTreeClassifier(criterion= 'entropy',max_depth=4, min_samples_leaf= 75)\n",
    "dtc_pca.fit(Xpca_develop,y_develop_pca)\n",
    "\n",
    "y_pred_dtc_pca = dtc_pca.predict(Xpca_test)\n",
    "\n",
    "print('Accuracy %s' % accuracy_score(y_test_pca, y_pred_dtc_pca))\n",
    "print('F1-score %s' % f1_score(y_test_pca, y_pred_dtc_pca, average=None))\n",
    "print(classification_report(y_test_pca, y_pred_dtc_pca))"
   ]
  },
  {
   "cell_type": "code",
   "execution_count": 29,
   "metadata": {},
   "outputs": [
    {
     "data": {
      "image/png": "[encoded data removed]",
      "text/plain": [
       "<Figure size 432x288 with 1 Axes>"
      ]
     },
     "metadata": {
      "needs_background": "light"
     },
     "output_type": "display_data"
    }
   ],
   "source": [
    "# y_score1 --> scores of decision tree with PCA\n",
    "# fpr1, tpr1 ---> false positive and true positive of decision tree with PCA\n",
    "y_score1 = dtc_pca.predict_proba(Xpca_test)\n",
    "fpr1, tpr1, _ = roc_curve(y_test_pca, y_score1[:, 1])\n",
    "\n",
    "# roc_auc1 --> ROC/AUC of decision tree with PCA\n",
    "roc_auc1 = auc(fpr1, tpr1)\n",
    "\n",
    "plt.plot(fpr1, tpr1, color='blue', lw=3, label='$AUC_{with PCA}$ = %.3f' % roc_auc1)\n",
    "\n",
    "plt.plot([0, 1], [0, 1], color='black', lw=2, linestyle='--')\n",
    "plt.xlim([0.0, 1.0])\n",
    "plt.ylim([0.0, 1.05])\n",
    "plt.xlabel('False Positive Rate', fontsize=16)\n",
    "plt.ylabel('True Positive Rate', fontsize=16)\n",
    "plt.title('ROC curve - with PCA', fontsize=16)\n",
    "plt.legend(loc=\"lower right\", fontsize=14, frameon=False)\n",
    "plt.tick_params(axis='both', which='major', labelsize=16)\n",
    "plt.show()"
   ]
  },
  {
   "cell_type": "code",
   "execution_count": 30,
   "metadata": {},
   "outputs": [
    {
     "name": "stdout",
     "output_type": "stream",
     "text": [
      "Legend:\n",
      "0: Jazz\n",
      "1: Rock\n",
      "[[  34  137]\n",
      " [  28 4227]]\n"
     ]
    },
    {
     "data": {
      "image/png": "[encoded data removed]",
      "text/plain": [
       "<Figure size 432x288 with 2 Axes>"
      ]
     },
     "metadata": {
      "needs_background": "light"
     },
     "output_type": "display_data"
    }
   ],
   "source": [
    "# confusion matrix Decision tree with PCA\n",
    "print(\"Legend:\\n0: Jazz\\n1: Rock\")\n",
    "cm_pca = plot_confusion_matrix(dtc_pca,Xpca_test,y_test_pca,\n",
    "                            cmap = plt.cm.Blues)\n",
    "cm_pca.ax_.set_title('Confusion Matrix - Decision tree with PCA')\n",
    "print(cm_pca.confusion_matrix)\n",
    "plt.show()"
   ]
  },
  {
   "cell_type": "markdown",
   "metadata": {},
   "source": [
    "#### Comparing Decision Tree with and without PCA"
   ]
  },
  {
   "cell_type": "code",
   "execution_count": 31,
   "metadata": {},
   "outputs": [
    {
     "data": {
      "image/png": "[encoded data removed]",
      "text/plain": [
       "<Figure size 432x288 with 1 Axes>"
      ]
     },
     "metadata": {
      "needs_background": "light"
     },
     "output_type": "display_data"
    }
   ],
   "source": [
    "# ROC of decision tree without PCA\n",
    "plt.plot(fpr0, tpr0, color='red', lw=3, label='$AUC_{without PCA}$ = %.3f' % roc_auc0)\n",
    "# ROC of decision tree with PCA\n",
    "plt.plot(fpr1, tpr1, color='blue', lw=3, label='$AUC_{with PCA}$ = %.3f' % roc_auc1)\n",
    "\n",
    "plt.plot([0, 1], [0, 1], color='black', lw=2, linestyle='--')\n",
    "plt.xlim([0.0, 1.0])\n",
    "plt.ylim([0.0, 1.05])\n",
    "plt.xlabel('False Positive Rate', fontsize=16)\n",
    "plt.ylabel('True Positive Rate', fontsize=16)\n",
    "plt.title('ROC curve', fontsize=16)\n",
    "plt.legend(loc=\"lower right\", fontsize=14, frameon=False)\n",
    "plt.tick_params(axis='both', which='major', labelsize=16)\n",
    "plt.show()"
   ]
  },
  {
   "cell_type": "markdown",
   "metadata": {},
   "source": [
    "# 5. KNN\n",
    "### a. without PCA"
   ]
  },
  {
   "cell_type": "code",
   "execution_count": null,
   "metadata": {},
   "outputs": [],
   "source": [
    "# range of k to try - find a good range of k\n",
    "k_range = {\"n_neighbors\":[x for x in range(2, 50)]}\n",
    "\n",
    "knn = KNeighborsClassifier()\n",
    "rep_kfold = RepeatedKFold(n_splits=10, n_repeats=2, random_state=2652124)\n",
    "clf = GridSearchCV(knn, param_grid= k_range, cv=rep_kfold )\n",
    "clf.fit(X_develop, y_develop)\n",
    "print(f\"best parameters:\\n{clf.best_params_}\\naccuracy: {clf.best_score_}\")"
   ]
  },
  {
   "cell_type": "code",
   "execution_count": null,
   "metadata": {},
   "outputs": [],
   "source": [
    "knn =  KNeighborsClassifier(n_neighbors = 11, weights='distance')\n",
    "# retrain knn on the whole development set\n",
    "knn.fit(X_develop, y_develop)\n",
    "# predict target variable\n",
    "y_pred_knn0 = knn.predict(X_test)\n",
    "\n",
    "# display classification report\n",
    "print(classification_report(y_test, y_pred_knn0))\n",
    "print('legend:\\n0: Jazz\\n1: Rock')"
   ]
  },
  {
   "cell_type": "markdown",
   "metadata": {},
   "source": [
    "#### ROC curve"
   ]
  },
  {
   "cell_type": "code",
   "execution_count": null,
   "metadata": {},
   "outputs": [],
   "source": [
    "y_score_knn0 = knn.predict_proba(X_test)\n",
    "fpr_knn0, tpr_knn0, _ = roc_curve(y_test, y_score_knn0[:, 1])\n",
    "roc_auc_knn0 = auc(fpr_knn0, tpr_knn0)\n",
    "\n",
    "plt.plot(fpr_knn0, tpr_knn0, color='red', lw=3, label='$AUC_{KNN}$ = %.3f' % roc_auc_knn0)\n",
    "\n",
    "plt.plot([0, 1], [0, 1], color='black', lw=2, linestyle='--')\n",
    "plt.xlim([0.0, 1.0])\n",
    "plt.ylim([0.0, 1.05])\n",
    "plt.xlabel('False Positive Rate', fontsize=16)\n",
    "plt.ylabel('True Positive Rate', fontsize=16)\n",
    "plt.title('ROC curve - without PCA', fontsize=16)\n",
    "plt.legend(loc=\"lower right\", fontsize=14, frameon=False)\n",
    "plt.tick_params(axis='both', which='major', labelsize=16)\n",
    "plt.show()"
   ]
  },
  {
   "cell_type": "markdown",
   "metadata": {},
   "source": [
    "#### Confusion matrix"
   ]
  },
  {
   "cell_type": "code",
   "execution_count": null,
   "metadata": {},
   "outputs": [],
   "source": [
    "print(\"Legend:\\n0: Jazz\\n1: Rock\")\n",
    "cm_knn_pca = plot_confusion_matrix(knn_pca,Xpca_test,y_test_pca,\n",
    "                            cmap = plt.cm.Blues)\n",
    "cm_knn_pca.ax_.set_title('Confusion Matrix - KNN with PCA')\n",
    "print(cm_knn_pca.confusion_matrix)\n",
    "plt.show()"
   ]
  },
  {
   "cell_type": "markdown",
   "metadata": {},
   "source": [
    "### b. with PCA "
   ]
  },
  {
   "cell_type": "code",
   "execution_count": null,
   "metadata": {},
   "outputs": [],
   "source": [
    "# range of k to try - find a good range of k\n",
    "k_range = {\"n_neighbors\":[x for x in range(2, 50)]}\n",
    "\n",
    "knn = KNeighborsClassifier()\n",
    "rep_kfold = RepeatedKFold(n_splits=10, n_repeats=2, random_state=2652124)\n",
    "clf = GridSearchCV(knn, param_grid= k_range, cv=rep_kfold )\n",
    "clf.fit(Xpca_develop, y_develop_pca)\n",
    "print(f\"best parameters:\\n{clf.best_params_}\\naccuracy: {clf.best_score_}\")\n",
    "\n",
    "#report(clf.cv_results_)"
   ]
  },
  {
   "cell_type": "markdown",
   "metadata": {},
   "source": [
    "### Train and predict "
   ]
  },
  {
   "cell_type": "code",
   "execution_count": null,
   "metadata": {},
   "outputs": [],
   "source": [
    "knn_pca =  KNeighborsClassifier(n_neighbors = 22, weights='distance')\n",
    "# retrain knn on the whole development set\n",
    "knn_pca.fit(Xpca_develop, y_develop_pca)\n",
    "# predict target variable\n",
    "y_pred_knn1 = knn_pca.predict(Xpca_test)\n",
    "# display classification report\n",
    "print(classification_report(y_test_pca, y_pred_knn1))\n",
    "print('legend:\\n0: Jazz\\n1: Rock')"
   ]
  },
  {
   "cell_type": "markdown",
   "metadata": {},
   "source": [
    "#### ROC curve "
   ]
  },
  {
   "cell_type": "code",
   "execution_count": null,
   "metadata": {},
   "outputs": [],
   "source": [
    "y_score_knn1 = knn_pca.predict_proba(Xpca_test)\n",
    "fpr_knn1, tpr_knn1, _ = roc_curve(y_test_pca, y_score_knn1[:, 1])\n",
    "roc_auc_knn1 = auc(fpr_knn1, tpr_knn1)\n",
    "\n",
    "plt.plot(fpr_knn1, tpr_knn1, color='blue', lw=3, label='$AUC_{knnPCA}$ = %.3f' % roc_auc_knn1)\n",
    "\n",
    "plt.plot([0, 1], [0, 1], color='black', lw=2, linestyle='--')\n",
    "plt.xlim([0.0, 1.0])\n",
    "plt.ylim([0.0, 1.05])\n",
    "plt.xlabel('False Positive Rate', fontsize=16)\n",
    "plt.ylabel('True Positive Rate', fontsize=16)\n",
    "plt.title('ROC curve', fontsize=16)\n",
    "plt.legend(loc=\"lower right\", fontsize=14, frameon=False)\n",
    "plt.tick_params(axis='both', which='major', labelsize=16)\n",
    "plt.show()"
   ]
  },
  {
   "cell_type": "markdown",
   "metadata": {},
   "source": [
    "#### Confusion matrix"
   ]
  },
  {
   "cell_type": "code",
   "execution_count": null,
   "metadata": {},
   "outputs": [],
   "source": [
    "print(\"Legend:\\n0: Jazz\\n1: Rock\")\n",
    "cm_knn_pca = plot_confusion_matrix(knn_pca,Xpca_test,y_test_pca,\n",
    "                            cmap = plt.cm.Blues)\n",
    "cm_knn_pca.ax_.set_title('Confusion Matrix - KNN with PCA')\n",
    "print(cm_knn_pca.confusion_matrix)\n",
    "plt.show()"
   ]
  },
  {
   "cell_type": "markdown",
   "metadata": {},
   "source": [
    "### c. compating KNN with and without PCA "
   ]
  },
  {
   "cell_type": "code",
   "execution_count": null,
   "metadata": {},
   "outputs": [],
   "source": [
    "# ROC KNN without PCA\n",
    "plt.plot(fpr_knn0, tpr_knn0, color='red', lw=3, label='$AUC_{knn}$ = %.3f' % roc_auc_knn0)\n",
    "# ROC KNN with PCA\n",
    "plt.plot(fpr_knn1, tpr_knn1, color='blue', lw=3, label='$AUC_{knnPCA}$ = %.3f' % roc_auc_knn1)\n",
    "\n",
    "plt.plot([0, 1], [0, 1], color='black', lw=2, linestyle='--')\n",
    "plt.xlim([0.0, 1.0])\n",
    "plt.ylim([0.0, 1.05])\n",
    "plt.xlabel('False Positive Rate', fontsize=16)\n",
    "plt.ylabel('True Positive Rate', fontsize=16)\n",
    "plt.title('ROC curve with PCA', fontsize=16)\n",
    "plt.legend(loc=\"lower right\", fontsize=14, frameon=False)\n",
    "plt.tick_params(axis='both', which='major', labelsize=16)\n",
    "plt.show()"
   ]
  },
  {
   "cell_type": "markdown",
   "metadata": {},
   "source": [
    "## Compare Decision Tree and KNN best scores "
   ]
  },
  {
   "cell_type": "code",
   "execution_count": null,
   "metadata": {},
   "outputs": [],
   "source": [
    "plt.plot(fpr_knn0, tpr_knn0, color='orange', lw=3, label='$AUC_{KNN}$ = %.3f' % roc_auc_knn0)\n",
    "plt.plot(fpr0, tpr0, color='black', lw=3, label='$AUC_{DecisionTree}$ = %.3f' % roc_auc0)\n",
    "\n",
    "plt.plot([0, 1], [0, 1], color='black', lw=2, linestyle='--')\n",
    "plt.xlim([0.0, 1.0])\n",
    "plt.ylim([0.0, 1.05])\n",
    "plt.xlabel('False Positive Rate', fontsize=16)\n",
    "plt.ylabel('True Positive Rate', fontsize=16)\n",
    "plt.title('ROC curve', fontsize=16)\n",
    "plt.legend(loc=\"lower right\", fontsize=14, frameon=False)\n",
    "plt.tick_params(axis='both', which='major', labelsize=16)\n",
    "plt.show()"
   ]
  }
 ],
 "metadata": {
  "kernelspec": {
   "display_name": "Python 3",
   "language": "python",
   "name": "python3"
  },
  "language_info": {
   "codemirror_mode": {
    "name": "ipython",
    "version": 3
   },
   "file_extension": ".py",
   "mimetype": "text/x-python",
   "name": "python",
   "nbconvert_exporter": "python",
   "pygments_lexer": "ipython3",
   "version": "3.8.5"
  }
 },
 "nbformat": 4,
 "nbformat_minor": 1
}
