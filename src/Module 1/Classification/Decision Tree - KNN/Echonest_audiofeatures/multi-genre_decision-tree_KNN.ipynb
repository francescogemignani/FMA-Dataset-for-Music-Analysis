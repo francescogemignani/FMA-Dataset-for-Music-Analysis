{
 "cells": [
  {
   "cell_type": "code",
   "execution_count": 73,
   "outputs": [],
   "source": [
    "%matplotlib inline\n",
    "\n",
    "import pandas as pd\n",
    "import numpy as np\n",
    "from utility_functions import report\n",
    "\n",
    "# sklearn modules\n",
    "from sklearn import preprocessing\n",
    "from sklearn.model_selection import train_test_split, GridSearchCV, RepeatedKFold\n",
    "from sklearn.tree import DecisionTreeClassifier\n",
    "from sklearn.preprocessing import StandardScaler\n",
    "from sklearn.metrics import accuracy_score, f1_score, classification_report\n",
    "from sklearn.metrics import plot_confusion_matrix\n",
    "from sklearn.neighbors import KNeighborsClassifier\n",
    "from sklearn.decomposition import PCA\n",
    "\n",
    "import seaborn as sns\n",
    "import matplotlib.pyplot as plt\n",
    "import plotly.express as px\n",
    "\n",
    "import warnings\n",
    "warnings.filterwarnings('ignore')"
   ],
   "metadata": {
    "collapsed": false,
    "pycharm": {
     "name": "#%%\n"
    }
   }
  },
  {
   "cell_type": "markdown",
   "source": [
    " _______________________________________________\n",
    "# Multi genre Classification\n",
    "## # echonest audio features\n",
    " _______________________________________________"
   ],
   "metadata": {
    "collapsed": false,
    "pycharm": {
     "name": "#%% md\n"
    }
   }
  },
  {
   "cell_type": "markdown",
   "source": [
    "# 1. Preprocessing"
   ],
   "metadata": {
    "collapsed": false,
    "pycharm": {
     "name": "#%% md\n"
    }
   }
  },
  {
   "cell_type": "code",
   "execution_count": null,
   "outputs": [],
   "source": [
    "echo_genres = pd.read_csv('/Users/gaetanoantonicchio/Documents/GitHub/DataMining-2/Data/Dataset [cleaned]/echo_audiofeatures_genres.csv')\n",
    "echo_genres.set_index('track_id', inplace=True)\n",
    "echo_genres.head()"
   ],
   "metadata": {
    "collapsed": false,
    "pycharm": {
     "name": "#%%\n"
    }
   }
  },
  {
   "cell_type": "code",
   "execution_count": 75,
   "outputs": [
    {
     "data": {
      "text/plain": "Rock                   3892\nElectronic             2170\nHip-Hop                 910\nFolk                    874\nOld-Time / Historic     357\nPop                     346\nClassical               265\nJazz                    241\nInternational           133\nInstrumental             84\nBlues                    66\nExperimental             17\nName: genre_top, dtype: int64"
     },
     "execution_count": 75,
     "metadata": {},
     "output_type": "execute_result"
    }
   ],
   "source": [
    "echo_genres.genre_top.value_counts()"
   ],
   "metadata": {
    "collapsed": false,
    "pycharm": {
     "name": "#%%\n"
    }
   }
  },
  {
   "cell_type": "code",
   "execution_count": 76,
   "outputs": [
    {
     "data": {
      "text/plain": "          acousticness  danceability    energy  instrumentalness  liveness  \\\ntrack_id                                                                     \n2             0.416675      0.675894  0.634476          0.010628  0.177647   \n3             0.374408      0.528643  0.817461          0.001851  0.105880   \n5             0.043567      0.745566  0.701470          0.000697  0.373143   \n10            0.951670      0.658179  0.924525          0.965427  0.115474   \n134           0.452217      0.513238  0.560410          0.019443  0.096567   \n\n          speechiness    tempo   valence genre_top  \ntrack_id                                            \n2            0.159310  165.922  0.576661   Hip-Hop  \n3            0.461818  126.957  0.269240   Hip-Hop  \n5            0.124595  100.260  0.621661   Hip-Hop  \n10           0.032985  111.562  0.963590       Pop  \n134          0.525519  114.290  0.894072   Hip-Hop  ",
      "text/html": "<div>\n<style scoped>\n    .dataframe tbody tr th:only-of-type {\n        vertical-align: middle;\n    }\n\n    .dataframe tbody tr th {\n        vertical-align: top;\n    }\n\n    .dataframe thead th {\n        text-align: right;\n    }\n</style>\n<table border=\"1\" class=\"dataframe\">\n  <thead>\n    <tr style=\"text-align: right;\">\n      <th></th>\n      <th>acousticness</th>\n      <th>danceability</th>\n      <th>energy</th>\n      <th>instrumentalness</th>\n      <th>liveness</th>\n      <th>speechiness</th>\n      <th>tempo</th>\n      <th>valence</th>\n      <th>genre_top</th>\n    </tr>\n    <tr>\n      <th>track_id</th>\n      <th></th>\n      <th></th>\n      <th></th>\n      <th></th>\n      <th></th>\n      <th></th>\n      <th></th>\n      <th></th>\n      <th></th>\n    </tr>\n  </thead>\n  <tbody>\n    <tr>\n      <th>2</th>\n      <td>0.416675</td>\n      <td>0.675894</td>\n      <td>0.634476</td>\n      <td>0.010628</td>\n      <td>0.177647</td>\n      <td>0.159310</td>\n      <td>165.922</td>\n      <td>0.576661</td>\n      <td>Hip-Hop</td>\n    </tr>\n    <tr>\n      <th>3</th>\n      <td>0.374408</td>\n      <td>0.528643</td>\n      <td>0.817461</td>\n      <td>0.001851</td>\n      <td>0.105880</td>\n      <td>0.461818</td>\n      <td>126.957</td>\n      <td>0.269240</td>\n      <td>Hip-Hop</td>\n    </tr>\n    <tr>\n      <th>5</th>\n      <td>0.043567</td>\n      <td>0.745566</td>\n      <td>0.701470</td>\n      <td>0.000697</td>\n      <td>0.373143</td>\n      <td>0.124595</td>\n      <td>100.260</td>\n      <td>0.621661</td>\n      <td>Hip-Hop</td>\n    </tr>\n    <tr>\n      <th>10</th>\n      <td>0.951670</td>\n      <td>0.658179</td>\n      <td>0.924525</td>\n      <td>0.965427</td>\n      <td>0.115474</td>\n      <td>0.032985</td>\n      <td>111.562</td>\n      <td>0.963590</td>\n      <td>Pop</td>\n    </tr>\n    <tr>\n      <th>134</th>\n      <td>0.452217</td>\n      <td>0.513238</td>\n      <td>0.560410</td>\n      <td>0.019443</td>\n      <td>0.096567</td>\n      <td>0.525519</td>\n      <td>114.290</td>\n      <td>0.894072</td>\n      <td>Hip-Hop</td>\n    </tr>\n  </tbody>\n</table>\n</div>"
     },
     "execution_count": 76,
     "metadata": {},
     "output_type": "execute_result"
    }
   ],
   "source": [
    "genres_subset = ['Rock','Electronic','Hip-Hop','Folk','Old-Time / Historic','Pop',\n",
    "          'Classical','Jazz']\n",
    "# generating dataset for multiclass classification task\n",
    "echo_gen = echo_genres[echo_genres['genre_top'].isin(genres_subset)]\n",
    "echo_gen.head()"
   ],
   "metadata": {
    "collapsed": false,
    "pycharm": {
     "name": "#%%\n"
    }
   }
  },
  {
   "cell_type": "code",
   "execution_count": 77,
   "outputs": [
    {
     "data": {
      "text/plain": "(9055, 9)"
     },
     "execution_count": 77,
     "metadata": {},
     "output_type": "execute_result"
    }
   ],
   "source": [
    "echo_gen.shape"
   ],
   "metadata": {
    "collapsed": false,
    "pycharm": {
     "name": "#%%\n"
    }
   }
  },
  {
   "cell_type": "code",
   "execution_count": 78,
   "outputs": [
    {
     "data": {
      "text/plain": "                     counts  percentage (%)\nRock                   3892           42.98\nElectronic             2170           23.96\nHip-Hop                 910           10.05\nFolk                    874            9.65\nOld-Time / Historic     357            3.94\nPop                     346            3.82\nClassical               265            2.93\nJazz                    241            2.66",
      "text/html": "<div>\n<style scoped>\n    .dataframe tbody tr th:only-of-type {\n        vertical-align: middle;\n    }\n\n    .dataframe tbody tr th {\n        vertical-align: top;\n    }\n\n    .dataframe thead th {\n        text-align: right;\n    }\n</style>\n<table border=\"1\" class=\"dataframe\">\n  <thead>\n    <tr style=\"text-align: right;\">\n      <th></th>\n      <th>counts</th>\n      <th>percentage (%)</th>\n    </tr>\n  </thead>\n  <tbody>\n    <tr>\n      <th>Rock</th>\n      <td>3892</td>\n      <td>42.98</td>\n    </tr>\n    <tr>\n      <th>Electronic</th>\n      <td>2170</td>\n      <td>23.96</td>\n    </tr>\n    <tr>\n      <th>Hip-Hop</th>\n      <td>910</td>\n      <td>10.05</td>\n    </tr>\n    <tr>\n      <th>Folk</th>\n      <td>874</td>\n      <td>9.65</td>\n    </tr>\n    <tr>\n      <th>Old-Time / Historic</th>\n      <td>357</td>\n      <td>3.94</td>\n    </tr>\n    <tr>\n      <th>Pop</th>\n      <td>346</td>\n      <td>3.82</td>\n    </tr>\n    <tr>\n      <th>Classical</th>\n      <td>265</td>\n      <td>2.93</td>\n    </tr>\n    <tr>\n      <th>Jazz</th>\n      <td>241</td>\n      <td>2.66</td>\n    </tr>\n  </tbody>\n</table>\n</div>"
     },
     "execution_count": 78,
     "metadata": {},
     "output_type": "execute_result"
    }
   ],
   "source": [
    "pd.concat([echo_gen.genre_top.value_counts(),\n",
    "                round(echo_gen.genre_top.value_counts(normalize=True).mul(100),2)],axis=1, keys=('counts','percentage (%)'))"
   ],
   "metadata": {
    "collapsed": false,
    "pycharm": {
     "name": "#%%\n"
    }
   }
  },
  {
   "cell_type": "code",
   "execution_count": null,
   "outputs": [],
   "source": [
    "# encoding labels\n",
    "le = preprocessing.LabelEncoder()\n",
    "echo_gen['genre_top'] = le.fit_transform(echo_gen['genre_top'])\n",
    "print('Legend:\\n0: Classical\\n1: Electronic\\n2: Folk\\n3: Hip-Hop\\n4: Jazz\\n5: Old-Time / Historic\\n6: Pop\\n7: Rock')\n",
    "echo_gen.genre_top.value_counts()"
   ],
   "metadata": {
    "collapsed": false,
    "pycharm": {
     "name": "#%%\n"
    }
   }
  },
  {
   "cell_type": "code",
   "execution_count": null,
   "outputs": [],
   "source": [
    "# detach target col\n",
    "labels = echo_gen[['genre_top']]\n",
    "labels.reset_index(drop=True, inplace=True)\n",
    "labels = labels['genre_top']"
   ],
   "metadata": {
    "collapsed": false,
    "pycharm": {
     "name": "#%%\n"
    }
   }
  },
  {
   "cell_type": "code",
   "execution_count": null,
   "outputs": [],
   "source": [
    "echo_gen.drop('genre_top', axis=1, inplace=True)"
   ],
   "metadata": {
    "collapsed": false,
    "pycharm": {
     "name": "#%%\n"
    }
   }
  },
  {
   "cell_type": "code",
   "execution_count": null,
   "outputs": [],
   "source": [
    "# normalize the data\n",
    "scaler = StandardScaler()\n",
    "scaled_features = scaler.fit_transform(echo_gen)"
   ],
   "metadata": {
    "collapsed": false,
    "pycharm": {
     "name": "#%%\n"
    }
   }
  },
  {
   "cell_type": "markdown",
   "source": [
    "# 2. PCA on normalized data (scaled_features)\n",
    "## 2.1 Determine optimal number of components\n",
    "### a) scree-plot"
   ],
   "metadata": {
    "collapsed": false,
    "pycharm": {
     "name": "#%% md\n"
    }
   }
  },
  {
   "cell_type": "code",
   "execution_count": null,
   "outputs": [],
   "source": [
    "pca = PCA()\n",
    "pca.fit(scaled_features)\n",
    "# get explained variance ratios from PCA using all features\n",
    "exp_variance = pca.explained_variance_ratio_\n",
    "# plot explained variance\n",
    "fig, ax= plt.subplots()\n",
    "ax.bar(range(pca.n_components_),exp_variance)\n",
    "ax.set_xlabel('Principal Component #')"
   ],
   "metadata": {
    "collapsed": false,
    "pycharm": {
     "name": "#%%\n"
    }
   }
  },
  {
   "cell_type": "markdown",
   "source": [
    "### b) cumulative explained variance plot"
   ],
   "metadata": {
    "collapsed": false
   }
  },
  {
   "cell_type": "code",
   "execution_count": null,
   "outputs": [],
   "source": [
    "# calculate the cumulative explained variance\n",
    "cum_exp_var = np.cumsum(exp_variance)\n",
    "\n",
    "# plot the cumulative explained variance and draw a dashed line at 0.9\\\n",
    "# This line indicates how much variance (information) we want to retain\n",
    "fig, ax= plt.subplots()\n",
    "ax.plot(cum_exp_var)\n",
    "ax.axhline(y=0.9, linestyle='--')\n",
    "\n",
    "# find index where cum_exp_var exceeds 0.9 and adding 1 to that index to get the num of components\n",
    "n_components = ((np.where(cum_exp_var > 0.9))[0][0])\n",
    "print(f\"Optimal number of components: {n_components}\")\n",
    "print(f\"Explained variation per principal component:\\n{pca.explained_variance_ratio_}\")\n",
    "# perform PCA with the chosen number of components and project data onto components\n",
    "pca = PCA(n_components,random_state=10)\n",
    "pca.fit(scaled_features)\n",
    "pca_proj = pca.transform(scaled_features)\n"
   ],
   "metadata": {
    "collapsed": false,
    "pycharm": {
     "name": "#%%\n"
    }
   }
  },
  {
   "cell_type": "markdown",
   "source": [
    "## 2.2 Plot PCA in 2D"
   ],
   "metadata": {
    "collapsed": false
   }
  },
  {
   "cell_type": "code",
   "execution_count": null,
   "outputs": [],
   "source": [
    "# generating df for plotting PCA\n",
    "df = pd.DataFrame()\n",
    "df['pca1'] = pca_proj[:,0]\n",
    "df['pca2'] = pca_proj[:,1]\n",
    "df['pca3'] = pca_proj[:,2]\n",
    "df['genres'] = le.inverse_transform(labels)\n",
    "\n",
    "# plot scatter of PCA\n",
    "plt.figure(figsize=(10,7))\n",
    "sns.scatterplot(\n",
    "    x=\"pca1\", y=\"pca2\",\n",
    "    hue='genres',\n",
    "    data=df,\n",
    "    legend=\"full\",\n",
    "    alpha=0.9\n",
    ")\n",
    "plt.title(\"PCA in 2D\", fontsize= 15)\n",
    "plt.show()"
   ],
   "metadata": {
    "collapsed": false,
    "pycharm": {
     "name": "#%%\n"
    }
   }
  },
  {
   "cell_type": "markdown",
   "source": [
    "Rock, Classic and Hip-Hop are well separated from the others.\n",
    "Jazz instead, is very close to classical (probably due to instrumentality of the two genres), in fact\n",
    "is located on the leftmost side of the graph."
   ],
   "metadata": {
    "collapsed": false
   }
  },
  {
   "cell_type": "markdown",
   "source": [
    "### 2.3 Plot PCA in 3D"
   ],
   "metadata": {
    "collapsed": false
   }
  },
  {
   "cell_type": "code",
   "execution_count": 1,
   "outputs": [
    {
     "ename": "NameError",
     "evalue": "name 'px' is not defined",
     "output_type": "error",
     "traceback": [
      "\u001B[0;31m---------------------------------------------------------------------------\u001B[0m",
      "\u001B[0;31mNameError\u001B[0m                                 Traceback (most recent call last)",
      "\u001B[0;32m<ipython-input-1-d4564e620933>\u001B[0m in \u001B[0;36m<module>\u001B[0;34m\u001B[0m\n\u001B[1;32m      2\u001B[0m \u001B[0;31m#total_var = pca.explained_variance_ratio_.sum() * 100\u001B[0m\u001B[0;34m\u001B[0m\u001B[0;34m\u001B[0m\u001B[0;34m\u001B[0m\u001B[0m\n\u001B[1;32m      3\u001B[0m \u001B[0;34m\u001B[0m\u001B[0m\n\u001B[0;32m----> 4\u001B[0;31m fig = px.scatter_3d(\n\u001B[0m\u001B[1;32m      5\u001B[0m     \u001B[0mdf\u001B[0m\u001B[0;34m,\u001B[0m \u001B[0mx\u001B[0m\u001B[0;34m=\u001B[0m\u001B[0;34m'pca1'\u001B[0m\u001B[0;34m,\u001B[0m \u001B[0my\u001B[0m\u001B[0;34m=\u001B[0m\u001B[0;34m'pca2'\u001B[0m\u001B[0;34m,\u001B[0m \u001B[0mz\u001B[0m\u001B[0;34m=\u001B[0m\u001B[0;34m'pca3'\u001B[0m\u001B[0;34m,\u001B[0m \u001B[0mcolor\u001B[0m\u001B[0;34m=\u001B[0m\u001B[0;34m'genres'\u001B[0m\u001B[0;34m,\u001B[0m\u001B[0;34m\u001B[0m\u001B[0;34m\u001B[0m\u001B[0m\n\u001B[1;32m      6\u001B[0m     \u001B[0;31m#title=f'Total Explained Variance: {total_var:.2f}%',\u001B[0m\u001B[0;34m\u001B[0m\u001B[0;34m\u001B[0m\u001B[0;34m\u001B[0m\u001B[0m\n",
      "\u001B[0;31mNameError\u001B[0m: name 'px' is not defined"
     ]
    }
   ],
   "source": [
    "# 3D PCA\n",
    "#total_var = pca.explained_variance_ratio_.sum() * 100\n",
    "\n",
    "fig = px.scatter_3d(\n",
    "    df, x='pca1', y='pca2', z='pca3', color='genres',\n",
    "    #title=f'Total Explained Variance: {total_var:.2f}%',\n",
    "    #labels={'0': 'PC 1', '1': 'PC 2', '2': 'PC 3'}\n",
    ")\n",
    "fig.update_layout(legend=dict(\n",
    "    orientation=\"v\",\n",
    "    yanchor=\"bottom\",\n",
    "    y=1,\n",
    "    xanchor=\"right\",\n",
    "    x=0.6\n",
    "),width=700, height=700, scene_camera_eye_z=0.8)\n",
    "fig.show()"
   ],
   "metadata": {
    "collapsed": false,
    "pycharm": {
     "name": "#%%\n"
    }
   }
  },
  {
   "cell_type": "markdown",
   "source": [
    "# 3. Split data for classification"
   ],
   "metadata": {
    "collapsed": false
   }
  },
  {
   "cell_type": "code",
   "execution_count": null,
   "outputs": [],
   "source": [
    "# shuffle and split into development set and internal test set:\n",
    "# (PCA)\n",
    "Xpca_develop, Xpca_test, y_develop_pca, y_test_pca = train_test_split(\n",
    "pca_proj, labels, test_size=0.30, random_state=10)\n",
    "\n",
    "# (no PCA)\n",
    "X_develop, X_test, y_develop, y_test = train_test_split(\n",
    "scaled_features, labels, test_size=0.30, random_state=10)"
   ],
   "metadata": {
    "collapsed": false,
    "pycharm": {
     "name": "#%%\n"
    }
   }
  },
  {
   "cell_type": "code",
   "execution_count": null,
   "outputs": [],
   "source": [
    "# check partitions\n",
    "print(f\"____Legend_____\\n0: Classical\\n1: Electronic\\n2: Folk\\n3: Hip-Hop\\n4: Jazz\\n5: Old-Time / Historic\\n6: Pop\\\n",
    "\\n7: Rock'\\n\\n***PCA***\\nDevelopment set:\\n{y_develop_pca.value_counts()}\\n\\nInternal Test:\\\n",
    "\\n{y_test_pca.value_counts()}\\n\\n\\-----------------\\n\\***No-PCA***\\nDevelopment set:\\n{y_develop.value_counts()}\\n\\nInternal Test:\\n{y_test.value_counts()}\")"
   ],
   "metadata": {
    "collapsed": false,
    "pycharm": {
     "name": "#%%\n"
    }
   }
  },
  {
   "cell_type": "markdown",
   "source": [
    "# 4. Decision Tree\n",
    "### a) Unbalanced - without PCA\n",
    "#### - Validation Schema: coarse grid-search with 5 fold CV\n",
    "We adopt a 5 fold cross validation repeated 10 times and then averaged, in order to reduce the variance of the model."
   ],
   "metadata": {
    "collapsed": false
   }
  },
  {
   "cell_type": "code",
   "execution_count": 34,
   "outputs": [
    {
     "name": "stdout",
     "output_type": "stream",
     "text": [
      "Fitting 10 folds for each of 200 candidates, totalling 2000 fits\n",
      "Model with rank: 1\n",
      "Mean validation score: 0.624 (std: 0.014)\n",
      "Parameters: {'criterion': 'gini', 'max_depth': 8, 'min_samples_leaf': 45}\n",
      "\n",
      "Model with rank: 2\n",
      "Mean validation score: 0.624 (std: 0.016)\n",
      "Parameters: {'criterion': 'entropy', 'max_depth': 8, 'min_samples_leaf': 25}\n",
      "\n",
      "Model with rank: 3\n",
      "Mean validation score: 0.623 (std: 0.014)\n",
      "Parameters: {'criterion': 'gini', 'max_depth': 7, 'min_samples_leaf': 45}\n",
      "\n",
      "Model with rank: 4\n",
      "Mean validation score: 0.622 (std: 0.012)\n",
      "Parameters: {'criterion': 'entropy', 'max_depth': 10, 'min_samples_leaf': 25}\n",
      "\n",
      "Model with rank: 5\n",
      "Mean validation score: 0.621 (std: 0.015)\n",
      "Parameters: {'criterion': 'gini', 'max_depth': 10, 'min_samples_leaf': 45}\n",
      "\n",
      "Model with rank: 5\n",
      "Mean validation score: 0.621 (std: 0.015)\n",
      "Parameters: {'criterion': 'gini', 'max_depth': None, 'min_samples_leaf': 45}\n",
      "\n",
      "Model with rank: 7\n",
      "Mean validation score: 0.621 (std: 0.011)\n",
      "Parameters: {'criterion': 'entropy', 'max_depth': None, 'min_samples_leaf': 25}\n",
      "\n",
      "Model with rank: 8\n",
      "Mean validation score: 0.621 (std: 0.016)\n",
      "Parameters: {'criterion': 'entropy', 'max_depth': 10, 'min_samples_leaf': 35}\n",
      "\n",
      "Model with rank: 8\n",
      "Mean validation score: 0.621 (std: 0.016)\n",
      "Parameters: {'criterion': 'entropy', 'max_depth': None, 'min_samples_leaf': 35}\n",
      "\n",
      "Model with rank: 10\n",
      "Mean validation score: 0.621 (std: 0.015)\n",
      "Parameters: {'criterion': 'gini', 'max_depth': 9, 'min_samples_leaf': 45}\n",
      "\n"
     ]
    }
   ],
   "source": [
    "# search parameters\n",
    "param_grid = {\n",
    "               \"max_depth\": [3,4,5,6,7,8,9,10, None],\n",
    "               \"min_samples_leaf\": [25,20,35,40,45,50,55,75],\n",
    "               \"criterion\": [\"gini\", \"entropy\"]\n",
    "             }\n",
    "\n",
    "# instantiate a model\n",
    "dtc = DecisionTreeClassifier()\n",
    "rep_kfold = RepeatedKFold(n_splits=10, n_repeats=5, random_state=2652124)\n",
    "clf = GridSearchCV(dtc, cv =rep_kfold , param_grid=param_grid, n_jobs=2, verbose=True)\n",
    "clf.fit(X_develop, y_develop)\n",
    "# display top 3 models\n",
    "print(f\"best parameters:\\n{clf.best_params_}\\naccuracy: {clf.best_score_}\")\n",
    "report(clf.cv_results_)"
   ],
   "metadata": {
    "collapsed": false,
    "pycharm": {
     "name": "#%%\n"
    }
   }
  },
  {
   "cell_type": "markdown",
   "source": [
    "#### - Train and predict\n",
    "The model is retrained on the full development set.\n",
    "\n",
    "The prediction will be saved as:\n",
    "- y_pred_dtc\n",
    "\n",
    "The roc curve will be saved as:\n",
    "- roc_auc0\n",
    "\n",
    "The false and true positive rates will be saved as:\n",
    "- fpr0\n",
    "- tpr0"
   ],
   "metadata": {
    "collapsed": false
   }
  },
  {
   "cell_type": "code",
   "execution_count": null,
   "outputs": [],
   "source": [
    "# train and fit\n",
    "dtc = DecisionTreeClassifier(criterion= 'gini',max_depth=5, min_samples_leaf= 25)\n",
    "dtc.fit(X_develop,y_develop)\n",
    "# predict on internal test set\n",
    "y_pred_dtc = dtc.predict(X_test)\n",
    "\n",
    "# display metrics\n",
    "print('Accuracy %s' % accuracy_score(y_test, y_pred_dtc))\n",
    "print('F1-score %s' % f1_score(y_test, y_pred_dtc, average=None))\n",
    "print(classification_report(y_test, y_pred_dtc))"
   ],
   "metadata": {
    "collapsed": false,
    "pycharm": {
     "name": "#%%\n"
    }
   }
  },
  {
   "cell_type": "code",
   "execution_count": 49,
   "outputs": [
    {
     "name": "stdout",
     "output_type": "stream",
     "text": [
      "Legend:\n",
      "0: Classical\n",
      "1: Electronic\n",
      "2: Folk\n",
      "3: Hip-Hop\n",
      "4: Jazz\n",
      "5: Old-Time / Historic\n",
      "6: Pop\n",
      "7: Rock\n",
      "\n",
      "[[ 51   0  18   0   0   8   0   4]\n",
      " [  3 360  12  35   0   2   3 220]\n",
      " [ 12  22 101   9   0   5   3 131]\n",
      " [  0  79   2 132   0   1   0  52]\n",
      " [  6   4  10   6   0   0   0  40]\n",
      " [ 10   1   9   3   0  83   1   6]\n",
      " [  2  23  14   7   0   1   3  61]\n",
      " [  6 126  44  32   0   6  10 938]]\n"
     ]
    },
    {
     "data": {
      "text/plain": "<Figure size 432x288 with 2 Axes>",
      "image/png": "[encoded data removed]"
     },
     "metadata": {
      "needs_background": "light"
     },
     "output_type": "display_data"
    }
   ],
   "source": [
    "# confusion matrix - Internal Test\n",
    "print('Legend:\\n0: Classical\\n1: Electronic\\n2: Folk\\n3: Hip-Hop\\n4: Jazz\\n5: Old-Time / Historic\\n6: Pop\\n7: Rock\\n')\n",
    "cm = plot_confusion_matrix(dtc,X_test,y_test,\n",
    "                            cmap = plt.cm.Blues)\n",
    "cm.ax_.set_title('Confusion Matrix - Decision tree (without PCA)')\n",
    "print(cm.confusion_matrix)\n",
    "plt.show()"
   ],
   "metadata": {
    "collapsed": false,
    "pycharm": {
     "name": "#%%\n"
    }
   }
  },
  {
   "cell_type": "markdown",
   "source": [
    "### b) Unbalanced - with PCA\n",
    "#### Validation schema:  repeated 5 fold cross validation - grid search"
   ],
   "metadata": {
    "collapsed": false
   }
  },
  {
   "cell_type": "code",
   "execution_count": 50,
   "outputs": [
    {
     "name": "stdout",
     "output_type": "stream",
     "text": [
      "Fitting 10 folds for each of 200 candidates, totalling 2000 fits\n",
      "Model with rank: 1\n",
      "Mean validation score: 0.586 (std: 0.011)\n",
      "Parameters: {'criterion': 'entropy', 'max_depth': 10, 'min_samples_leaf': 35}\n",
      "\n",
      "Model with rank: 1\n",
      "Mean validation score: 0.586 (std: 0.011)\n",
      "Parameters: {'criterion': 'entropy', 'max_depth': None, 'min_samples_leaf': 35}\n",
      "\n",
      "Model with rank: 3\n",
      "Mean validation score: 0.585 (std: 0.011)\n",
      "Parameters: {'criterion': 'entropy', 'max_depth': 9, 'min_samples_leaf': 35}\n",
      "\n",
      "Model with rank: 4\n",
      "Mean validation score: 0.584 (std: 0.012)\n",
      "Parameters: {'criterion': 'entropy', 'max_depth': 8, 'min_samples_leaf': 35}\n",
      "\n",
      "Model with rank: 5\n",
      "Mean validation score: 0.584 (std: 0.019)\n",
      "Parameters: {'criterion': 'gini', 'max_depth': 7, 'min_samples_leaf': 25}\n",
      "\n",
      "Model with rank: 6\n",
      "Mean validation score: 0.584 (std: 0.019)\n",
      "Parameters: {'criterion': 'gini', 'max_depth': 8, 'min_samples_leaf': 25}\n",
      "\n",
      "Model with rank: 7\n",
      "Mean validation score: 0.583 (std: 0.013)\n",
      "Parameters: {'criterion': 'entropy', 'max_depth': 8, 'min_samples_leaf': 25}\n",
      "\n",
      "Model with rank: 8\n",
      "Mean validation score: 0.583 (std: 0.019)\n",
      "Parameters: {'criterion': 'gini', 'max_depth': 9, 'min_samples_leaf': 45}\n",
      "\n",
      "Model with rank: 9\n",
      "Mean validation score: 0.583 (std: 0.010)\n",
      "Parameters: {'criterion': 'entropy', 'max_depth': None, 'min_samples_leaf': 25}\n",
      "\n",
      "Model with rank: 10\n",
      "Mean validation score: 0.583 (std: 0.018)\n",
      "Parameters: {'criterion': 'gini', 'max_depth': 8, 'min_samples_leaf': 45}\n",
      "\n"
     ]
    }
   ],
   "source": [
    "# model\n",
    "dtc_pca = DecisionTreeClassifier()\n",
    "rep_kfold = RepeatedKFold(n_splits=10, n_repeats=5, random_state=2652124)\n",
    "clf = GridSearchCV(dtc, cv =rep_kfold , param_grid=param_grid, n_jobs=2, verbose=True)\n",
    "\n",
    "clf.fit(Xpca_develop, y_develop_pca)\n",
    "print(f\"best parameters:\\n{clf.best_params_}\\naccuracy: {clf.best_score_}\")\n",
    "report(clf.cv_results_)"
   ],
   "metadata": {
    "collapsed": false,
    "pycharm": {
     "name": "#%%\n"
    }
   }
  },
  {
   "cell_type": "markdown",
   "source": [
    "#### - Train and predict\n",
    "The model is retrained on the full development set.\n",
    "\n",
    "The prediction will be saved as:\n",
    "- y_pred_dtc_pca\n",
    "\n",
    "The roc curve will be saved as:\n",
    "- roc_auc1\n",
    "\n",
    "The false and true positive rates will be saved as:\n",
    "- fpr1\n",
    "- tpr1"
   ],
   "metadata": {
    "collapsed": false
   }
  },
  {
   "cell_type": "code",
   "execution_count": null,
   "outputs": [],
   "source": [
    "dtc_pca = DecisionTreeClassifier(criterion= 'entropy',max_depth=5, min_samples_leaf= 40)\n",
    "dtc_pca.fit(Xpca_develop,y_develop_pca)\n",
    "\n",
    "y_pred_dtc_pca = dtc_pca.predict(Xpca_test)\n",
    "\n",
    "print('Accuracy %s' % accuracy_score(y_test_pca, y_pred_dtc_pca))\n",
    "print('F1-score %s' % f1_score(y_test_pca, y_pred_dtc_pca, average=None))\n",
    "print(classification_report(y_test_pca, y_pred_dtc_pca))\n"
   ],
   "metadata": {
    "collapsed": false,
    "pycharm": {
     "name": "#%%\n"
    }
   }
  },
  {
   "cell_type": "code",
   "execution_count": 52,
   "outputs": [
    {
     "name": "stdout",
     "output_type": "stream",
     "text": [
      "Legend:\n",
      "0: Classical\n",
      "1: Electronic\n",
      "2: Folk\n",
      "3: Hip-Hop\n",
      "4: Jazz\n",
      "5: Old-Time / Historic\n",
      "6: Pop\n",
      "7: Rock\n",
      "\n",
      "[[ 37   0  25   0   0  15   0   4]\n",
      " [  5 317  26  34   0  10   0 243]\n",
      " [ 19  10  97  12   0  21   0 124]\n",
      " [  0  63   3 140   0   9   0  51]\n",
      " [  6   3  22   3   0   3   0  29]\n",
      " [  6   2  25   2   0  69   0   9]\n",
      " [  2  10  12  11   0   2   0  74]\n",
      " [  9 101  60  38   0  24   0 930]]\n"
     ]
    },
    {
     "data": {
      "text/plain": "<Figure size 432x288 with 2 Axes>",
      "image/png": "[encoded data removed]"
     },
     "metadata": {
      "needs_background": "light"
     },
     "output_type": "display_data"
    }
   ],
   "source": [
    "# confusion matrix Decision tree with PCA\n",
    "print('Legend:\\n0: Classical\\n1: Electronic\\n2: Folk\\n3: Hip-Hop\\n4: Jazz\\n5: Old-Time / Historic\\n6: Pop\\n7: Rock\\n')\n",
    "cm_pca = plot_confusion_matrix(dtc_pca,Xpca_test,y_test_pca,\n",
    "                            cmap = plt.cm.Blues)\n",
    "cm_pca.ax_.set_title('Confusion Matrix - Decision tree with PCA')\n",
    "print(cm_pca.confusion_matrix)\n",
    "plt.show()"
   ],
   "metadata": {
    "collapsed": false,
    "pycharm": {
     "name": "#%%\n"
    }
   }
  },
  {
   "cell_type": "markdown",
   "source": [
    "# 5. KNN\n",
    "### a) Unbalanced - without PCA\n",
    "#### Validation schema: coarse grid search with repeated 5 fold cross validation"
   ],
   "metadata": {
    "collapsed": false,
    "pycharm": {
     "name": "#%% md\n"
    }
   }
  },
  {
   "cell_type": "code",
   "execution_count": 60,
   "outputs": [
    {
     "name": "stderr",
     "output_type": "stream",
     "text": [
      "100%|██████████| 39/39 [00:26<00:00,  1.47it/s]\n"
     ]
    },
    {
     "name": "stdout",
     "output_type": "stream",
     "text": [
      "[0.5455980484498733, 0.5121468546453969, 0.5799948669646817, 0.5968778188088368, 0.6014509545950633, 0.6113856205241676, 0.6175430203178494, 0.6247982916461096, 0.6266927803609074, 0.6292201773139773, 0.6307957201449211, 0.6304807610846154, 0.6311091841463962, 0.6360012658164765, 0.6337928147472603, 0.6348971648701043, 0.6331621490972337, 0.6317418432081969, 0.6314276316773065, 0.6333218712156323, 0.6323754989758846, 0.6339522876891872, 0.6348989091054066, 0.634901650046596, 0.6334798490987288, 0.6345841992215726, 0.633797299923752, 0.6344289622796657, 0.6372683281753804, 0.6358482714628153, 0.6353735902841111, 0.6339550286303766, 0.6339540319244895, 0.6330081580376854, 0.6328489342722303, 0.6296948584926816, 0.6293791519029608, 0.6298520888463628, 0.6304830036728613]\n",
      "maximum score: 0.6372683281753804 for k = 29\n"
     ]
    }
   ],
   "source": [
    "# range of k to try - find a good range of k\n",
    "k_range = {\"n_neighbors\":[x for x in range(2, 50)]}\n",
    "\n",
    "knn = KNeighborsClassifier()\n",
    "rep_kfold = RepeatedKFold(n_splits=10, n_repeats=2, random_state=2652124)\n",
    "clf = GridSearchCV(knn, param_grid= k_range, cv=rep_kfold )\n",
    "clf.fit(X_develop, y_develop)\n",
    "print(f\"best parameters:\\n{clf.best_params_}\\naccuracy: {clf.best_score_}\")\n",
    "#report(clf.cv_results_)"
   ],
   "metadata": {
    "collapsed": false,
    "pycharm": {
     "name": "#%%\n"
    }
   }
  },
  {
   "cell_type": "markdown",
   "source": [
    "#### Train and predict"
   ],
   "metadata": {
    "collapsed": false,
    "pycharm": {
     "name": "#%% md\n"
    }
   }
  },
  {
   "cell_type": "code",
   "execution_count": null,
   "outputs": [],
   "source": [
    "knn =  KNeighborsClassifier(n_neighbors = 11)\n",
    "# retrain knn on the whole development set\n",
    "knn.fit(X_develop, y_develop)\n",
    "# predict target variable\n",
    "y_pred_knn0 = knn.predict(X_test)\n",
    "\n",
    "# display classification report\n",
    "print(classification_report(y_test, y_pred_knn0))\n",
    "print('legend:\\n0: Hip-Hop\\n1: Rock')"
   ],
   "metadata": {
    "collapsed": false,
    "pycharm": {
     "name": "#%%\n"
    }
   }
  },
  {
   "cell_type": "markdown",
   "source": [
    "#### Confusion matrix"
   ],
   "metadata": {
    "collapsed": false,
    "pycharm": {
     "name": "#%% md\n"
    }
   }
  },
  {
   "cell_type": "code",
   "execution_count": null,
   "outputs": [],
   "source": [
    "# confusion matrix KNN - Internal test\n",
    "print('Legend:\\n0: Classical\\n1: Electronic\\n2: Folk\\n3: Hip-Hop\\n4: Jazz\\n5: Old-Time / Historic\\n6: Pop\\n7: Rock\\n')\n",
    "cm_knn = plot_confusion_matrix(knn,X_test,y_test,\n",
    "                            cmap = plt.cm.Blues)\n",
    "cm_knn.ax_.set_title('Confusion Matrix - KNN without PCA')\n",
    "print(cm_knn.confusion_matrix)\n",
    "plt.show()"
   ],
   "metadata": {
    "collapsed": false,
    "pycharm": {
     "name": "#%%\n"
    }
   }
  },
  {
   "cell_type": "markdown",
   "source": [],
   "metadata": {
    "collapsed": false
   }
  },
  {
   "cell_type": "markdown",
   "source": [
    "### b) Unbalanced - with PCA"
   ],
   "metadata": {
    "collapsed": false,
    "pycharm": {
     "name": "#%% md\n"
    }
   }
  },
  {
   "cell_type": "markdown",
   "source": [
    "#### Validation schema: coarse grid search with repeated 5 fold cross validation"
   ],
   "metadata": {
    "collapsed": false
   }
  },
  {
   "cell_type": "code",
   "execution_count": null,
   "outputs": [],
   "source": [
    "# range of k to try - find a good range of k\n",
    "k_range = {\"n_neighbors\":[x for x in range(2, 50)]}\n",
    "\n",
    "knn = KNeighborsClassifier()\n",
    "rep_kfold = RepeatedKFold(n_splits=10, n_repeats=2, random_state=2652124)\n",
    "clf = GridSearchCV(knn, param_grid= k_range, cv=rep_kfold )\n",
    "clf.fit(Xpca_develop, y_develop_pca)\n",
    "print(f\"best parameters:\\n{clf.best_params_}\\naccuracy: {clf.best_score_}\")\n",
    "#report(clf.cv_results_)"
   ],
   "metadata": {
    "collapsed": false,
    "pycharm": {
     "name": "#%%\n"
    }
   }
  },
  {
   "cell_type": "markdown",
   "source": [
    "## 3.1.2 Prediction on Internal test set (KNN - with PCA)\n",
    "#### Train and predict"
   ],
   "metadata": {
    "collapsed": false
   }
  },
  {
   "cell_type": "code",
   "execution_count": null,
   "outputs": [],
   "source": [
    "knn_pca =  KNeighborsClassifier(n_neighbors = 22)\n",
    "# retrain knn on the whole development set\n",
    "knn_pca.fit(Xpca_develop, y_develop_pca)\n",
    "# predict target variable\n",
    "y_pred_knn1 = knn_pca.predict(Xpca_test)\n",
    "# display classification report\n",
    "print(classification_report(y_test_pca, y_pred_knn1))"
   ],
   "metadata": {
    "collapsed": false,
    "pycharm": {
     "name": "#%%\n"
    }
   }
  },
  {
   "cell_type": "markdown",
   "source": [
    "#### Confusion matrix"
   ],
   "metadata": {
    "collapsed": false,
    "pycharm": {
     "name": "#%% md\n"
    }
   }
  },
  {
   "cell_type": "code",
   "execution_count": null,
   "outputs": [],
   "source": [
    "cm_knn_pca = plot_confusion_matrix(knn_pca,Xpca_test,y_test_pca,\n",
    "                            cmap = plt.cm.Blues)\n",
    "cm_knn_pca.ax_.set_title('Confusion Matrix - KNN with PCA')\n",
    "print(cm_knn_pca.confusion_matrix)\n",
    "plt.show()"
   ],
   "metadata": {
    "collapsed": false,
    "pycharm": {
     "name": "#%%\n"
    }
   }
  }
 ],
 "metadata": {
  "kernelspec": {
   "display_name": "Python 3",
   "language": "python",
   "name": "python3"
  },
  "language_info": {
   "codemirror_mode": {
    "name": "ipython",
    "version": 2
   },
   "file_extension": ".py",
   "mimetype": "text/x-python",
   "name": "python",
   "nbconvert_exporter": "python",
   "pygments_lexer": "ipython2",
   "version": "2.7.6"
  }
 },
 "nbformat": 4,
 "nbformat_minor": 0
}