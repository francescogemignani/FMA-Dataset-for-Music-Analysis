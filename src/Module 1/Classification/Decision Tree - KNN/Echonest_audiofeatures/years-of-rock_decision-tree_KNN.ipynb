{
 "cells": [
  {
   "cell_type": "code",
   "execution_count": 1,
   "outputs": [],
   "source": [
    "%matplotlib inline\n",
    "\n",
    "import pandas as pd\n",
    "import numpy as np\n",
    "from utility_functions import report\n",
    "# sklearn modules\n",
    "from sklearn import preprocessing\n",
    "from sklearn.model_selection import train_test_split, GridSearchCV\n",
    "from sklearn.tree import DecisionTreeClassifier\n",
    "from sklearn.model_selection import StratifiedKFold\n",
    "from sklearn.preprocessing import StandardScaler, label_binarize\n",
    "from sklearn.model_selection import cross_val_score\n",
    "from sklearn.metrics import classification_report\n",
    "from sklearn.metrics import accuracy_score, f1_score, classification_report\n",
    "from sklearn.metrics import roc_curve, auc, roc_auc_score\n",
    "from sklearn.metrics import plot_confusion_matrix\n",
    "from sklearn.neighbors import KNeighborsClassifier\n",
    "\n",
    "from sklearn.decomposition import PCA\n",
    "import seaborn as sns\n",
    "import matplotlib.pyplot as plt\n",
    "import plotly.express as px\n",
    "from tqdm import tqdm\n",
    "import warnings\n",
    "warnings.filterwarnings('ignore')"
   ],
   "metadata": {
    "collapsed": false,
    "pycharm": {
     "name": "#%%\n"
    }
   }
  },
  {
   "cell_type": "code",
   "execution_count": 4,
   "outputs": [
    {
     "data": {
      "text/plain": "          acousticness  danceability    energy  instrumentalness  liveness  \\\ntrack_id                                                                     \n153           0.992477      0.235523  0.979996          0.979732  0.101517   \n154           0.974230      0.347646  0.023585          0.963730  0.092975   \n155           0.985801      0.104813  0.912310          0.973981  0.357482   \n169           0.993317      0.201312  0.722926          0.264895  0.070895   \n170           0.890402      0.284917  0.744434          0.927317  0.120801   \n\n          speechiness     tempo   valence  year  listens  duration  \ntrack_id                                                            \n153          0.029958  0.276730  0.020248  2008      424       405  \n154          0.009158  0.111624  0.021913  2008      205       319  \n155          0.068009  0.284293  0.020565  2008      197       756  \n169          0.031730  0.295199  0.014398  2008      270       144  \n170          0.069343  0.311301  0.061032  2008      122       181  ",
      "text/html": "<div>\n<style scoped>\n    .dataframe tbody tr th:only-of-type {\n        vertical-align: middle;\n    }\n\n    .dataframe tbody tr th {\n        vertical-align: top;\n    }\n\n    .dataframe thead th {\n        text-align: right;\n    }\n</style>\n<table border=\"1\" class=\"dataframe\">\n  <thead>\n    <tr style=\"text-align: right;\">\n      <th></th>\n      <th>acousticness</th>\n      <th>danceability</th>\n      <th>energy</th>\n      <th>instrumentalness</th>\n      <th>liveness</th>\n      <th>speechiness</th>\n      <th>tempo</th>\n      <th>valence</th>\n      <th>year</th>\n      <th>listens</th>\n      <th>duration</th>\n    </tr>\n    <tr>\n      <th>track_id</th>\n      <th></th>\n      <th></th>\n      <th></th>\n      <th></th>\n      <th></th>\n      <th></th>\n      <th></th>\n      <th></th>\n      <th></th>\n      <th></th>\n      <th></th>\n    </tr>\n  </thead>\n  <tbody>\n    <tr>\n      <th>153</th>\n      <td>0.992477</td>\n      <td>0.235523</td>\n      <td>0.979996</td>\n      <td>0.979732</td>\n      <td>0.101517</td>\n      <td>0.029958</td>\n      <td>0.276730</td>\n      <td>0.020248</td>\n      <td>2008</td>\n      <td>424</td>\n      <td>405</td>\n    </tr>\n    <tr>\n      <th>154</th>\n      <td>0.974230</td>\n      <td>0.347646</td>\n      <td>0.023585</td>\n      <td>0.963730</td>\n      <td>0.092975</td>\n      <td>0.009158</td>\n      <td>0.111624</td>\n      <td>0.021913</td>\n      <td>2008</td>\n      <td>205</td>\n      <td>319</td>\n    </tr>\n    <tr>\n      <th>155</th>\n      <td>0.985801</td>\n      <td>0.104813</td>\n      <td>0.912310</td>\n      <td>0.973981</td>\n      <td>0.357482</td>\n      <td>0.068009</td>\n      <td>0.284293</td>\n      <td>0.020565</td>\n      <td>2008</td>\n      <td>197</td>\n      <td>756</td>\n    </tr>\n    <tr>\n      <th>169</th>\n      <td>0.993317</td>\n      <td>0.201312</td>\n      <td>0.722926</td>\n      <td>0.264895</td>\n      <td>0.070895</td>\n      <td>0.031730</td>\n      <td>0.295199</td>\n      <td>0.014398</td>\n      <td>2008</td>\n      <td>270</td>\n      <td>144</td>\n    </tr>\n    <tr>\n      <th>170</th>\n      <td>0.890402</td>\n      <td>0.284917</td>\n      <td>0.744434</td>\n      <td>0.927317</td>\n      <td>0.120801</td>\n      <td>0.069343</td>\n      <td>0.311301</td>\n      <td>0.061032</td>\n      <td>2008</td>\n      <td>122</td>\n      <td>181</td>\n    </tr>\n  </tbody>\n</table>\n</div>"
     },
     "execution_count": 4,
     "metadata": {},
     "output_type": "execute_result"
    }
   ],
   "source": [
    "rock_df = pd.read_csv('/Users/gaetanoantonicchio/Documents/GitHub/DataMining-2/Data/Dataset [cleaned]/rock_year_df.csv')\n",
    "rock_df.set_index('track_id', inplace=True)\n",
    "rock_df.drop('genre_top',axis=1, inplace=True)\n",
    "rock_df.head()"
   ],
   "metadata": {
    "collapsed": false,
    "pycharm": {
     "name": "#%%\n"
    }
   }
  },
  {
   "cell_type": "code",
   "execution_count": 5,
   "outputs": [
    {
     "data": {
      "text/plain": "2009    1036\n2008    1005\n2010     687\n2011     606\n2012     213\n2013     142\n2014     132\n2015      71\nName: year, dtype: int64"
     },
     "execution_count": 5,
     "metadata": {},
     "output_type": "execute_result"
    }
   ],
   "source": [
    "rock_df.year.value_counts()"
   ],
   "metadata": {
    "collapsed": false,
    "pycharm": {
     "name": "#%%\n"
    }
   }
  },
  {
   "cell_type": "markdown",
   "source": [
    "# Multiclass classification : 8 years (from 2008 to 2015)"
   ],
   "metadata": {
    "collapsed": false
   }
  },
  {
   "cell_type": "code",
   "execution_count": null,
   "outputs": [],
   "source": [
    "rock_df.shape"
   ],
   "metadata": {
    "collapsed": false,
    "pycharm": {
     "name": "#%%\n"
    }
   }
  },
  {
   "cell_type": "code",
   "execution_count": null,
   "outputs": [],
   "source": [
    "pd.concat([echo_gen.genre_top.value_counts(),\n",
    "                round(echo_gen.genre_top.value_counts(normalize=True).mul(100),2)],axis=1, keys=('counts','percentage (%)'))"
   ],
   "metadata": {
    "collapsed": false,
    "pycharm": {
     "name": "#%%\n"
    }
   }
  },
  {
   "cell_type": "code",
   "execution_count": null,
   "outputs": [],
   "source": [
    "# encoding labels\n",
    "le = preprocessing.LabelEncoder()\n",
    "echo_gen['genre_top'] = le.fit_transform(echo_gen['genre_top'])\n",
    "print('Legend:\\n0: Classical\\n1: Electronic\\n2: Folk\\n3: Hip-Hop\\n4: Jazz\\n5: Old-Time / Historic\\n6: Pop\\n7: Rock')\n",
    "echo_gen.genre_top.value_counts()"
   ],
   "metadata": {
    "collapsed": false,
    "pycharm": {
     "name": "#%%\n"
    }
   }
  },
  {
   "cell_type": "code",
   "execution_count": null,
   "outputs": [],
   "source": [
    "# detach target col\n",
    "labels = echo_gen[['genre_top']]\n",
    "labels.reset_index(drop=True, inplace=True)\n",
    "labels = labels['genre_top']"
   ],
   "metadata": {
    "collapsed": false,
    "pycharm": {
     "name": "#%%\n"
    }
   }
  },
  {
   "cell_type": "code",
   "execution_count": null,
   "outputs": [],
   "source": [
    "echo_gen.drop('genre_top', axis=1, inplace=True)"
   ],
   "metadata": {
    "collapsed": false,
    "pycharm": {
     "name": "#%%\n"
    }
   }
  },
  {
   "cell_type": "code",
   "execution_count": null,
   "outputs": [],
   "source": [
    "# normalize the data\n",
    "scaler = StandardScaler()\n",
    "scaled_features = scaler.fit_transform(echo_gen)"
   ],
   "metadata": {
    "collapsed": false,
    "pycharm": {
     "name": "#%%\n"
    }
   }
  },
  {
   "cell_type": "markdown",
   "source": [
    "# 1. PCA on scaled data\n",
    "### 1.1 scree-plot"
   ],
   "metadata": {
    "collapsed": false
   }
  },
  {
   "cell_type": "code",
   "execution_count": null,
   "outputs": [],
   "source": [
    "pca = PCA()\n",
    "pca.fit(scaled_features)\n",
    "# get explained variance ratios from PCA using all features\n",
    "exp_variance = pca.explained_variance_ratio_\n",
    "# plot explained variance\n",
    "fig, ax= plt.subplots()\n",
    "ax.bar(range(pca.n_components_),exp_variance)\n",
    "ax.set_xlabel('Principal Component #')"
   ],
   "metadata": {
    "collapsed": false,
    "pycharm": {
     "name": "#%%\n"
    }
   }
  },
  {
   "cell_type": "markdown",
   "source": [
    "### 1.2 cumulative explained variance plot"
   ],
   "metadata": {
    "collapsed": false
   }
  },
  {
   "cell_type": "code",
   "execution_count": null,
   "outputs": [],
   "source": [
    "# calculate the cumulative explained variance\n",
    "cum_exp_var = np.cumsum(exp_variance)\n",
    "\n",
    "# plot the cumulative explained variance and draw a dashed line at 0.9\\\n",
    "# This line indicates how much variance (information) we want to retain\n",
    "fig, ax= plt.subplots()\n",
    "ax.plot(cum_exp_var)\n",
    "ax.axhline(y=0.9, linestyle='--')\n",
    "\n",
    "# find index where cum_exp_var exceeds 0.9 and adding 1 to that index to get the num of components\n",
    "n_components = ((np.where(cum_exp_var > 0.9))[0][0])\n",
    "print(f\"Optimal number of components: {n_components}\")\n",
    "print(f\"Explained variation per principal component:\\n{pca.explained_variance_ratio_}\")\n",
    "# perform PCA with the chosen number of components and project data onto components\n",
    "pca = PCA(n_components,random_state=10)\n",
    "pca.fit(scaled_features)\n",
    "pca_proj = pca.transform(scaled_features)"
   ],
   "metadata": {
    "collapsed": false,
    "pycharm": {
     "name": "#%%\n"
    }
   }
  },
  {
   "cell_type": "code",
   "execution_count": null,
   "outputs": [],
   "source": [],
   "metadata": {
    "collapsed": false,
    "pycharm": {
     "name": "#%%\n"
    }
   }
  },
  {
   "cell_type": "markdown",
   "source": [
    "### 1.3 plot PCA in 2D"
   ],
   "metadata": {
    "collapsed": false
   }
  },
  {
   "cell_type": "code",
   "execution_count": null,
   "outputs": [],
   "source": [
    "# generating df for plotting PCA\n",
    "df = pd.DataFrame()\n",
    "df['pca1'] = pca_proj[:,0]\n",
    "df['pca2'] = pca_proj[:,1]\n",
    "df['pca3'] = pca_proj[:,2]\n",
    "df['genres'] = le.inverse_transform(labels)\n",
    "\n",
    "# plot scatter of PCA\n",
    "plt.figure(figsize=(10,7))\n",
    "sns.scatterplot(\n",
    "    x=\"pca1\", y=\"pca2\",\n",
    "    hue='genres',\n",
    "    data=df,\n",
    "    legend=\"full\",\n",
    "    alpha=0.9\n",
    ")\n",
    "plt.title(\"PCA in 2D\", fontsize= 15)\n",
    "plt.show()"
   ],
   "metadata": {
    "collapsed": false,
    "pycharm": {
     "name": "#%%\n"
    }
   }
  },
  {
   "cell_type": "markdown",
   "source": [
    "Rock, Classic and Hip-Hop are well separated from the others.\n",
    "Jazz instead, is very close to classical (probably due to instrumentality of the two genres), in fact\n",
    "is located on the leftmost side of the graph."
   ],
   "metadata": {
    "collapsed": false
   }
  },
  {
   "cell_type": "code",
   "execution_count": null,
   "outputs": [],
   "source": [],
   "metadata": {
    "collapsed": false,
    "pycharm": {
     "name": "#%%\n"
    }
   }
  },
  {
   "cell_type": "markdown",
   "source": [
    "# 1.4 plot PCA in 3D"
   ],
   "metadata": {
    "collapsed": false
   }
  },
  {
   "cell_type": "code",
   "execution_count": null,
   "outputs": [],
   "source": [
    "# 3D PCA\n",
    "#total_var = pca.explained_variance_ratio_.sum() * 100\n",
    "\n",
    "fig = px.scatter_3d(\n",
    "    df, x='pca1', y='pca2', z='pca3', color='genres',\n",
    "    #title=f'Total Explained Variance: {total_var:.2f}%',\n",
    "    #labels={'0': 'PC 1', '1': 'PC 2', '2': 'PC 3'}\n",
    ")\n",
    "fig.update_layout(legend=dict(\n",
    "    orientation=\"v\",\n",
    "    yanchor=\"bottom\",\n",
    "    y=1,\n",
    "    xanchor=\"right\",\n",
    "    x=0.6\n",
    "),width=700, height=700, scene_camera_eye_z=0.8)\n",
    "fig.show()"
   ],
   "metadata": {
    "collapsed": false,
    "pycharm": {
     "name": "#%%\n"
    }
   }
  },
  {
   "cell_type": "code",
   "execution_count": null,
   "outputs": [],
   "source": [],
   "metadata": {
    "collapsed": false,
    "pycharm": {
     "name": "#%%\n"
    }
   }
  },
  {
   "cell_type": "markdown",
   "source": [
    "# 2. Model selection"
   ],
   "metadata": {
    "collapsed": false
   }
  },
  {
   "cell_type": "code",
   "execution_count": null,
   "outputs": [],
   "source": [
    "# shuffle and split into development set and internal test set:\n",
    "# (PCA)\n",
    "Xpca_develop, Xpca_test, y_develop_pca, y_test_pca = train_test_split(\n",
    "pca_proj, labels, test_size=0.30, random_state=10)\n",
    "\n",
    "# (no PCA)\n",
    "X_develop, X_test, y_develop, y_test = train_test_split(\n",
    "scaled_features, labels, test_size=0.30, random_state=10)"
   ],
   "metadata": {
    "collapsed": false,
    "pycharm": {
     "name": "#%%\n"
    }
   }
  },
  {
   "cell_type": "code",
   "execution_count": null,
   "outputs": [],
   "source": [
    "# check partitions\n",
    "print(f\"____Legend_____\\n0: Classical\\n1: Electronic\\n2: Folk\\n3: Hip-Hop\\n4: Jazz\\n5: Old-Time / Historic\\n6: Pop\\\n",
    "\\n7: Rock'\\n\\n***PCA***\\nDevelopment set:\\n{y_develop_pca.value_counts()}\\n\\nInternal Test:\\\n",
    "\\n{y_test_pca.value_counts()}\\n\\n\\-----------------\\n\\***No-PCA***\\nDevelopment set:\\n{y_develop.value_counts()}\\n\\nInternal Test:\\n{y_test.value_counts()}\")"
   ],
   "metadata": {
    "collapsed": false,
    "pycharm": {
     "name": "#%%\n"
    }
   }
  },
  {
   "cell_type": "markdown",
   "source": [
    "## Model Selection"
   ],
   "metadata": {
    "collapsed": false
   }
  },
  {
   "cell_type": "markdown",
   "source": [
    "# 2.1 Decision Tree -  Unbalanced - without PCA\n",
    "### 2.1.1 10 fold cross validation - grid search"
   ],
   "metadata": {
    "collapsed": false
   }
  },
  {
   "cell_type": "code",
   "execution_count": null,
   "outputs": [],
   "source": [
    "param_grid = {\n",
    "               \"max_depth\": [2,3,4,5,6,7,8,9,10, None],\n",
    "               \"min_samples_leaf\": [25,35,45,55,75,100,150,250,300,None],\n",
    "               \"criterion\": [\"gini\", \"entropy\"]\n",
    "             }\n",
    "# model\n",
    "dtc = DecisionTreeClassifier()\n",
    "stratified_cv = StratifiedKFold(n_splits=10, shuffle=True, random_state=42)\n",
    "random_search = GridSearchCV(dtc, cv =stratified_cv , param_grid=param_grid, n_jobs=2, verbose=True)\n",
    "\n",
    "random_search.fit(X_develop, y_develop)\n",
    "dtc=random_search.best_estimator_\n",
    "report(random_search.cv_results_, n_top=10)"
   ],
   "metadata": {
    "collapsed": false,
    "pycharm": {
     "name": "#%%\n"
    }
   }
  },
  {
   "cell_type": "markdown",
   "source": [
    "### 2.1.2 5 fold cross validation - grid search"
   ],
   "metadata": {
    "collapsed": false
   }
  },
  {
   "cell_type": "code",
   "execution_count": null,
   "outputs": [],
   "source": [
    "stratified_cv = StratifiedKFold(n_splits=5, shuffle=True, random_state=42)\n",
    "random_search = GridSearchCV(dtc, cv =stratified_cv , param_grid=param_grid, n_jobs=2, verbose=True)\n",
    "random_search.fit(X_develop, y_develop)\n",
    "dtc=random_search.best_estimator_\n",
    "report(random_search.cv_results_, n_top=10)"
   ],
   "metadata": {
    "collapsed": false,
    "pycharm": {
     "name": "#%%\n"
    }
   }
  },
  {
   "cell_type": "markdown",
   "source": [
    "### 2.1.3 Retrain on full development set and prediction"
   ],
   "metadata": {
    "collapsed": false
   }
  },
  {
   "cell_type": "code",
   "execution_count": null,
   "outputs": [],
   "source": [
    "dtc = DecisionTreeClassifier(criterion= 'gini',max_depth=8, min_samples_leaf= 45)\n",
    "dtc.fit(X_develop,y_develop)\n",
    "\n",
    "y_pred_dtc = dtc.predict(X_test)\n",
    "\n",
    "print('Accuracy %s' % accuracy_score(y_test, y_pred_dtc))\n",
    "print('F1-score %s' % f1_score(y_test, y_pred_dtc, average=None))\n",
    "print(classification_report(y_test, y_pred_dtc))\n",
    "\n",
    "'''\n",
    "# y_score0 --> scores of decision tree without PCA\n",
    "# fpr0, tpr0 ---> false positive and true positive of decision tree without PCA\n",
    "y_score0 = dtc.predict_proba(X_test)\n",
    "fpr0, tpr0, _ = roc_curve(y_test, y_score0[:, 1])\n",
    "\n",
    "# roc_auc0 --> ROC/AUC of decision tree without PCA\n",
    "roc_auc0 = auc(fpr0, tpr0)\n",
    "\n",
    "plt.plot(fpr0, tpr0, color='red', lw=3, label='$AUC_{without PCA}$ = %.3f' % roc_auc0)\n",
    "\n",
    "plt.plot([0, 1], [0, 1], color='black', lw=2, linestyle='--')\n",
    "plt.xlim([0.0, 1.0])\n",
    "plt.ylim([0.0, 1.05])\n",
    "plt.xlabel('False Positive Rate', fontsize=16)\n",
    "plt.ylabel('True Positive Rate', fontsize=16)\n",
    "plt.title('ROC curve - without PCA', fontsize=16)\n",
    "plt.legend(loc=\"lower right\", fontsize=14, frameon=False)\n",
    "plt.tick_params(axis='both', which='major', labelsize=16)\n",
    "plt.show()'''"
   ],
   "metadata": {
    "collapsed": false,
    "pycharm": {
     "name": "#%%\n"
    }
   }
  },
  {
   "cell_type": "code",
   "execution_count": null,
   "outputs": [],
   "source": [
    "# confusion matrix - Internal Test\n",
    "print('Legend:\\n0: Classical\\n1: Electronic\\n2: Folk\\n3: Hip-Hop\\n4: Jazz\\n5: Old-Time / Historic\\n6: Pop\\n7: Rock\\n')\n",
    "cm = plot_confusion_matrix(dtc,X_test,y_test,\n",
    "                            cmap = plt.cm.Blues)\n",
    "cm.ax_.set_title('Confusion Matrix - Decision tree (without PCA)')\n",
    "print(cm.confusion_matrix)\n",
    "plt.show()"
   ],
   "metadata": {
    "collapsed": false,
    "pycharm": {
     "name": "#%%\n"
    }
   }
  },
  {
   "cell_type": "markdown",
   "source": [
    "# 2.2 Decision Tree -  Unbalanced - with PCA\n",
    "### 2.2.1 10 fold cross validation - grid search"
   ],
   "metadata": {
    "collapsed": false
   }
  },
  {
   "cell_type": "code",
   "execution_count": null,
   "outputs": [],
   "source": [
    "# model\n",
    "dtc_pca = DecisionTreeClassifier()\n",
    "stratified_cv = StratifiedKFold(n_splits=10, shuffle=True, random_state=42)\n",
    "random_search_pca = GridSearchCV(dtc, cv =stratified_cv , param_grid=param_grid, n_jobs=2, verbose=True)\n",
    "\n",
    "random_search_pca.fit(Xpca_develop, y_develop_pca)\n",
    "dtc_pca=random_search_pca.best_estimator_\n",
    "report(random_search_pca.cv_results_, n_top=10)"
   ],
   "metadata": {
    "collapsed": false,
    "pycharm": {
     "name": "#%%\n"
    }
   }
  },
  {
   "cell_type": "markdown",
   "source": [
    "### 2.2.2 5 fold cross validation - grid search"
   ],
   "metadata": {
    "collapsed": false
   }
  },
  {
   "cell_type": "code",
   "execution_count": null,
   "outputs": [],
   "source": [
    "dtc_pca = DecisionTreeClassifier()\n",
    "stratified_cv = StratifiedKFold(n_splits=5, shuffle=True, random_state=42)\n",
    "random_search_pca = GridSearchCV(dtc, cv =stratified_cv , param_grid=param_grid, n_jobs=2, verbose=True)\n",
    "\n",
    "random_search_pca.fit(Xpca_develop, y_develop_pca)\n",
    "dtc_pca=random_search_pca.best_estimator_\n",
    "report(random_search_pca.cv_results_, n_top=10)"
   ],
   "metadata": {
    "collapsed": false,
    "pycharm": {
     "name": "#%%\n"
    }
   }
  },
  {
   "cell_type": "markdown",
   "source": [
    "### 2.2.3 Retrain on full development set and prediction"
   ],
   "metadata": {
    "collapsed": false
   }
  },
  {
   "cell_type": "code",
   "execution_count": null,
   "outputs": [],
   "source": [
    "dtc_pca = DecisionTreeClassifier(criterion= 'entropy',max_depth=10, min_samples_leaf= 35)\n",
    "dtc_pca.fit(Xpca_develop,y_develop_pca)\n",
    "\n",
    "y_pred_dtc_pca = dtc_pca.predict(Xpca_test)\n",
    "\n",
    "print('Accuracy %s' % accuracy_score(y_test_pca, y_pred_dtc_pca))\n",
    "print('F1-score %s' % f1_score(y_test_pca, y_pred_dtc_pca, average=None))\n",
    "print(classification_report(y_test_pca, y_pred_dtc_pca))\n",
    "\n",
    "'''\n",
    "# y_score1 --> scores of decision tree with PCA\n",
    "# fpr1, tpr1 ---> false positive and true positive of decision tree with PCA\n",
    "y_score1 = dtc_pca.predict_proba(Xpca_test)\n",
    "fpr1, tpr1, _ = roc_curve(y_test_pca, y_score1[:, 1])\n",
    "\n",
    "# roc_auc1 --> ROC/AUC of decision tree with PCA\n",
    "roc_auc1 = auc(fpr1, tpr1)\n",
    "\n",
    "plt.plot(fpr1, tpr1, color='blue', lw=3, label='$AUC_{with PCA}$ = %.3f' % roc_auc1)\n",
    "\n",
    "plt.plot([0, 1], [0, 1], color='black', lw=2, linestyle='--')\n",
    "plt.xlim([0.0, 1.0])\n",
    "plt.ylim([0.0, 1.05])\n",
    "plt.xlabel('False Positive Rate', fontsize=16)\n",
    "plt.ylabel('True Positive Rate', fontsize=16)\n",
    "plt.title('ROC curve - with PCA', fontsize=16)\n",
    "plt.legend(loc=\"lower right\", fontsize=14, frameon=False)\n",
    "plt.tick_params(axis='both', which='major', labelsize=16)\n",
    "plt.show() '''"
   ],
   "metadata": {
    "collapsed": false,
    "pycharm": {
     "name": "#%%\n"
    }
   }
  },
  {
   "cell_type": "code",
   "execution_count": null,
   "outputs": [],
   "source": [
    "# confusion matrix Decision tree with PCA\n",
    "print('Legend:\\n0: Classical\\n1: Electronic\\n2: Folk\\n3: Hip-Hop\\n4: Jazz\\n5: Old-Time / Historic\\n6: Pop\\n7: Rock\\n')\n",
    "cm_pca = plot_confusion_matrix(dtc_pca,Xpca_test,y_test_pca,\n",
    "                            cmap = plt.cm.Blues)\n",
    "cm_pca.ax_.set_title('Confusion Matrix - Decision tree with PCA')\n",
    "print(cm_pca.confusion_matrix)\n",
    "plt.show()"
   ],
   "metadata": {
    "collapsed": false,
    "pycharm": {
     "name": "#%%\n"
    }
   }
  },
  {
   "cell_type": "markdown",
   "source": [
    "# 2.3 Comparing ROC Decision tree (unbalanced) with and without PCA"
   ],
   "metadata": {
    "collapsed": false
   }
  },
  {
   "cell_type": "code",
   "execution_count": null,
   "outputs": [],
   "source": [
    "'''\n",
    "plt.plot(fpr0, tpr0, color='red', lw=3, label='$AUC_{without PCA}$ = %.3f' % roc_auc0)\n",
    "plt.plot(fpr1, tpr1, color='blue', lw=3, label='$AUC_{with PCA}$ = %.3f' % roc_auc1)\n",
    "\n",
    "plt.plot([0, 1], [0, 1], color='black', lw=2, linestyle='--')\n",
    "plt.xlim([0.0, 1.0])\n",
    "plt.ylim([0.0, 1.05])\n",
    "plt.xlabel('False Positive Rate', fontsize=16)\n",
    "plt.ylabel('True Positive Rate', fontsize=16)\n",
    "plt.title('ROC curve', fontsize=16)\n",
    "plt.legend(loc=\"lower right\", fontsize=14, frameon=False)\n",
    "plt.tick_params(axis='both', which='major', labelsize=16)\n",
    "plt.show()'''"
   ],
   "metadata": {
    "collapsed": false,
    "pycharm": {
     "name": "#%%\n"
    }
   }
  },
  {
   "cell_type": "markdown",
   "source": [
    "# 3.1 KNN binary class - Unbalanced (without PCA)"
   ],
   "metadata": {
    "collapsed": false
   }
  },
  {
   "cell_type": "markdown",
   "source": [
    "### 3.1.1 10 fold cross validation - grid search"
   ],
   "metadata": {
    "collapsed": false
   }
  },
  {
   "cell_type": "code",
   "execution_count": null,
   "outputs": [],
   "source": [
    "# range of k to try - find a good range of k\n",
    "k_range = range(1, 40)\n",
    "# empty list to store scores\n",
    "k_scores = []\n",
    "\n",
    "for k in tqdm(k_range):\n",
    "    # run KNeighborsClassifier with k neighbours\n",
    "    knn = KNeighborsClassifier(n_neighbors=k)\n",
    "    # obtain cross_val_score for KNeighborsClassifier with k neighbours\n",
    "    scores = cross_val_score(knn, X_develop, y_develop, cv=10, scoring='accuracy')\n",
    "    # append mean of scores for k neighbors to k_scores list\n",
    "    k_scores.append(scores.mean())\n",
    "\n",
    "print(k_scores)\n",
    "print(f\"maximum score: {max(k_scores)} for k = {k_scores.index(max(k_scores))+1}\")"
   ],
   "metadata": {
    "collapsed": false,
    "pycharm": {
     "name": "#%%\n"
    }
   }
  },
  {
   "cell_type": "code",
   "execution_count": null,
   "outputs": [],
   "source": [
    "# plot the value of K for KNN (x-axis) versus the cross-validated accuracy (y-axis)\n",
    "plt.plot(k_range, k_scores)\n",
    "plt.xlabel('K ')\n",
    "plt.ylabel('Cross-validated accuracy')"
   ],
   "metadata": {
    "collapsed": false,
    "pycharm": {
     "name": "#%%\n"
    }
   }
  },
  {
   "cell_type": "markdown",
   "source": [
    "## 3.1.2 Prediction on Internal test set (KNN - without PCA)"
   ],
   "metadata": {
    "collapsed": false
   }
  },
  {
   "cell_type": "code",
   "execution_count": null,
   "outputs": [],
   "source": [
    "X_test.shape, y_test.shape"
   ],
   "metadata": {
    "collapsed": false,
    "pycharm": {
     "name": "#%%\n"
    }
   }
  },
  {
   "cell_type": "code",
   "execution_count": null,
   "outputs": [],
   "source": [
    "knn_classifier =  KNeighborsClassifier(n_neighbors = 29)\n",
    "\n",
    "# retrain knn on the whole development set\n",
    "knn_classifier.fit(X_develop, y_develop)\n",
    "# predict target variable\n",
    "y_pred_knn0 = knn_classifier.predict(X_test)\n",
    "# display classification report\n",
    "print(classification_report(y_test, y_pred_knn0))\n",
    "print('legend:\\n0: Hip-Hop\\n1: Rock')\n",
    "\n",
    "'''\n",
    "# plot ROC curve -KNN\n",
    "y_score_knn0 = knn_classifier.predict_proba(X_test)\n",
    "fpr_knn0, tpr_knn0, _ = roc_curve(y_test, y_score_knn0[:, 1])\n",
    "roc_auc_knn0 = auc(fpr_knn0, tpr_knn0)\n",
    "\n",
    "plt.plot(fpr_knn0, tpr_knn0, color='red', lw=3, label='$AUC_{KNN}$ = %.3f' % roc_auc_knn0)\n",
    "\n",
    "plt.plot([0, 1], [0, 1], color='black', lw=2, linestyle='--')\n",
    "plt.xlim([0.0, 1.0])\n",
    "plt.ylim([0.0, 1.05])\n",
    "plt.xlabel('False Positive Rate', fontsize=16)\n",
    "plt.ylabel('True Positive Rate', fontsize=16)\n",
    "plt.title('ROC curve - without PCA', fontsize=16)\n",
    "plt.legend(loc=\"lower right\", fontsize=14, frameon=False)\n",
    "plt.tick_params(axis='both', which='major', labelsize=16)\n",
    "plt.show()'''"
   ],
   "metadata": {
    "collapsed": false,
    "pycharm": {
     "name": "#%%\n"
    }
   }
  },
  {
   "cell_type": "code",
   "execution_count": null,
   "outputs": [],
   "source": [
    "# confusion matrix KNN - Internal test\n",
    "print('Legend:\\n0: Classical\\n1: Electronic\\n2: Folk\\n3: Hip-Hop\\n4: Jazz\\n5: Old-Time / Historic\\n6: Pop\\n7: Rock\\n')\n",
    "cm_knn = plot_confusion_matrix(knn_classifier,X_test,y_test,\n",
    "                            cmap = plt.cm.Blues)\n",
    "cm_knn.ax_.set_title('Confusion Matrix - KNN without PCA')\n",
    "print(cm_knn.confusion_matrix)\n",
    "plt.show()"
   ],
   "metadata": {
    "collapsed": false,
    "pycharm": {
     "name": "#%%\n"
    }
   }
  },
  {
   "cell_type": "markdown",
   "source": [
    "# 3.2 KNN binary class - Unbalanced (with PCA)\n",
    "### 3.2.1 10 fold cross validation - grid search"
   ],
   "metadata": {
    "collapsed": false
   }
  },
  {
   "cell_type": "code",
   "execution_count": null,
   "outputs": [],
   "source": [
    "# range of k to try - find a good range of k\n",
    "k_range = range(1, 40)\n",
    "# empty list to store scores\n",
    "k_scores = []\n",
    "\n",
    "for k in tqdm(k_range):\n",
    "    # run KNeighborsClassifier with k neighbours\n",
    "    knn_pca = KNeighborsClassifier(n_neighbors=k)\n",
    "    # obtain cross_val_score for KNeighborsClassifier with k neighbours\n",
    "    scores = cross_val_score(knn_pca, Xpca_develop, y_develop_pca, cv=10, scoring='accuracy')\n",
    "    # append mean of scores for k neighbors to k_scores list\n",
    "    k_scores.append(scores.mean())\n",
    "\n",
    "print(k_scores)\n",
    "print(f\"maximum score: {max(k_scores)} for k = {k_scores.index(max(k_scores))+1}\")"
   ],
   "metadata": {
    "collapsed": false,
    "pycharm": {
     "name": "#%%\n"
    }
   }
  },
  {
   "cell_type": "code",
   "execution_count": null,
   "outputs": [],
   "source": [
    "# plot the value of K for KNN (x-axis) versus the cross-validated accuracy (y-axis)\n",
    "plt.plot(k_range, k_scores)\n",
    "plt.xlabel('K ')\n",
    "plt.ylabel('Cross-validated accuracy')"
   ],
   "metadata": {
    "collapsed": false,
    "pycharm": {
     "name": "#%%\n"
    }
   }
  },
  {
   "cell_type": "markdown",
   "source": [
    "## 3.1.2 Prediction on Internal test set (KNN - with PCA)"
   ],
   "metadata": {
    "collapsed": false
   }
  },
  {
   "cell_type": "code",
   "execution_count": null,
   "outputs": [],
   "source": [
    "knn_classifier_pca =  KNeighborsClassifier(n_neighbors = 14)\n",
    "# retrain knn on the whole development set\n",
    "knn_classifier_pca.fit(Xpca_develop, y_develop_pca)\n",
    "# predict target variable\n",
    "y_pred_knn1 = knn_classifier_pca.predict(Xpca_test)\n",
    "# display classification report\n",
    "print(classification_report(y_test_pca, y_pred_knn1))\n",
    "print('legend:\\n0: Hip-Hop\\n1: Rock')\n",
    "'''\n",
    "# plot ROC curve -KNN\n",
    "y_score_knn1 = knn_classifier_pca.predict_proba(Xpca_test)\n",
    "fpr_knn1, tpr_knn1, _ = roc_curve(y_test_pca, y_score_knn1[:, 1])\n",
    "roc_auc_knn1 = auc(fpr_knn1, tpr_knn1)\n",
    "\n",
    "plt.plot(fpr_knn1, tpr_knn1, color='blue', lw=3, label='$AUC_{knnPCA}$ = %.3f' % roc_auc_knn1)\n",
    "\n",
    "plt.plot([0, 1], [0, 1], color='black', lw=2, linestyle='--')\n",
    "plt.xlim([0.0, 1.0])\n",
    "plt.ylim([0.0, 1.05])\n",
    "plt.xlabel('False Positive Rate', fontsize=16)\n",
    "plt.ylabel('True Positive Rate', fontsize=16)\n",
    "plt.title('ROC curve', fontsize=16)\n",
    "plt.legend(loc=\"lower right\", fontsize=14, frameon=False)\n",
    "plt.tick_params(axis='both', which='major', labelsize=16)\n",
    "plt.show()'''"
   ],
   "metadata": {
    "collapsed": false,
    "pycharm": {
     "name": "#%%\n"
    }
   }
  },
  {
   "cell_type": "markdown",
   "source": [
    "# Compare KNN ROC with and without PCA"
   ],
   "metadata": {
    "collapsed": false
   }
  },
  {
   "cell_type": "code",
   "execution_count": null,
   "outputs": [],
   "source": [
    "'''\n",
    "plt.plot(fpr_knn0, tpr_knn0, color='red', lw=3, label='$AUC_{knn}$ = %.3f' % roc_auc_knn0)\n",
    "plt.plot(fpr_knn1, tpr_knn1, color='blue', lw=3, label='$AUC_{knnPCA}$ = %.3f' % roc_auc_knn1)\n",
    "\n",
    "plt.plot([0, 1], [0, 1], color='black', lw=2, linestyle='--')\n",
    "plt.xlim([0.0, 1.0])\n",
    "plt.ylim([0.0, 1.05])\n",
    "plt.xlabel('False Positive Rate', fontsize=16)\n",
    "plt.ylabel('True Positive Rate', fontsize=16)\n",
    "plt.title('ROC curve with PCA', fontsize=16)\n",
    "plt.legend(loc=\"lower right\", fontsize=14, frameon=False)\n",
    "plt.tick_params(axis='both', which='major', labelsize=16)\n",
    "plt.show()\n",
    "'''"
   ],
   "metadata": {
    "collapsed": false,
    "pycharm": {
     "name": "#%%\n"
    }
   }
  },
  {
   "cell_type": "markdown",
   "source": [
    "# Compare Decision tree and KNN (best scores)"
   ],
   "metadata": {
    "collapsed": false
   }
  },
  {
   "cell_type": "code",
   "execution_count": null,
   "outputs": [],
   "source": [
    "'''\n",
    "plt.plot(fpr_knn0, tpr_knn0, color='orange', lw=3, label='$AUC_{KNN}$ = %.3f' % roc_auc_knn0)\n",
    "plt.plot(fpr0, tpr0, color='black', lw=3, label='$AUC_{DecisionTree}$ = %.3f' % roc_auc0)\n",
    "\n",
    "plt.plot([0, 1], [0, 1], color='black', lw=2, linestyle='--')\n",
    "plt.xlim([0.0, 1.0])\n",
    "plt.ylim([0.0, 1.05])\n",
    "plt.xlabel('False Positive Rate', fontsize=16)\n",
    "plt.ylabel('True Positive Rate', fontsize=16)\n",
    "plt.title('ROC curve', fontsize=16)\n",
    "plt.legend(loc=\"lower right\", fontsize=14, frameon=False)\n",
    "plt.tick_params(axis='both', which='major', labelsize=16)\n",
    "plt.show()'''\n",
    "\n"
   ],
   "metadata": {
    "collapsed": false,
    "pycharm": {
     "name": "#%%\n"
    }
   }
  }
 ],
 "metadata": {
  "kernelspec": {
   "display_name": "Python 3",
   "language": "python",
   "name": "python3"
  },
  "language_info": {
   "codemirror_mode": {
    "name": "ipython",
    "version": 2
   },
   "file_extension": ".py",
   "mimetype": "text/x-python",
   "name": "python",
   "nbconvert_exporter": "python",
   "pygments_lexer": "ipython2",
   "version": "2.7.6"
  }
 },
 "nbformat": 4,
 "nbformat_minor": 0
}