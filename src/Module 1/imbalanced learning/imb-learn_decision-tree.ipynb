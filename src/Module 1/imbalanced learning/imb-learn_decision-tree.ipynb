{
 "cells": [
  {
   "cell_type": "code",
   "execution_count": 2,
   "outputs": [],
   "source": [
    "import pandas as pd"
   ],
   "metadata": {
    "collapsed": false,
    "pycharm": {
     "name": "#%%\n"
    }
   }
  },
  {
   "cell_type": "markdown",
   "source": [
    "# Echonest audio features - IMBALANCED LEARNING\n",
    "## 1. Premise\n",
    "The hyper-parameters and results for unbalanced classifiers are taken  from the notebooks:\n",
    "- bin-genre_decision-tree_KNN  (section 2.1)\n",
    "- multi-genre_decision-tree-KNN   (section 2.2)\n",
    "- popularity_decision-tree_KNN    (section 2.3)\n",
    "Below we report their score and AUC curve for comparing them with the balanced data.\n",
    "\n",
    "We use PCA to project the dimension of the dataset using only the first 2 principal components."
   ],
   "metadata": {
    "collapsed": false,
    "pycharm": {
     "name": "#%% md\n"
    }
   }
  },
  {
   "cell_type": "markdown",
   "source": [
    "__________________________________\n",
    "# 2.1 Binary genre - ROCK & JAZZ\n",
    "__________________________________\n",
    "## a) Import dataset"
   ],
   "metadata": {
    "collapsed": false,
    "pycharm": {
     "name": "#%% md\n"
    }
   }
  },
  {
   "cell_type": "code",
   "execution_count": 3,
   "outputs": [
    {
     "data": {
      "text/plain": "          acousticness  danceability    energy  instrumentalness  liveness  \\\ntrack_id                                                                     \n144           0.909011      0.443643  0.641997          0.924092  0.267669   \n145           0.235506      0.438672  0.487752          0.716122  0.070359   \n146           0.532019      0.417681  0.476422          0.402500  0.172105   \n147           0.778410      0.706681  0.866116          0.806703  0.104650   \n153           0.988306      0.255661  0.979774          0.973006  0.121342   \n\n          speechiness    tempo   valence genre_top  \ntrack_id                                            \n144          0.089659  128.537  0.788251      Jazz  \n145          0.047298  120.790  0.650452      Jazz  \n146          0.035361  135.468  0.682397      Jazz  \n147          0.065083  120.218  0.917613      Jazz  \n153          0.051740   90.241  0.034018      Rock  ",
      "text/html": "<div>\n<style scoped>\n    .dataframe tbody tr th:only-of-type {\n        vertical-align: middle;\n    }\n\n    .dataframe tbody tr th {\n        vertical-align: top;\n    }\n\n    .dataframe thead th {\n        text-align: right;\n    }\n</style>\n<table border=\"1\" class=\"dataframe\">\n  <thead>\n    <tr style=\"text-align: right;\">\n      <th></th>\n      <th>acousticness</th>\n      <th>danceability</th>\n      <th>energy</th>\n      <th>instrumentalness</th>\n      <th>liveness</th>\n      <th>speechiness</th>\n      <th>tempo</th>\n      <th>valence</th>\n      <th>genre_top</th>\n    </tr>\n    <tr>\n      <th>track_id</th>\n      <th></th>\n      <th></th>\n      <th></th>\n      <th></th>\n      <th></th>\n      <th></th>\n      <th></th>\n      <th></th>\n      <th></th>\n    </tr>\n  </thead>\n  <tbody>\n    <tr>\n      <th>144</th>\n      <td>0.909011</td>\n      <td>0.443643</td>\n      <td>0.641997</td>\n      <td>0.924092</td>\n      <td>0.267669</td>\n      <td>0.089659</td>\n      <td>128.537</td>\n      <td>0.788251</td>\n      <td>Jazz</td>\n    </tr>\n    <tr>\n      <th>145</th>\n      <td>0.235506</td>\n      <td>0.438672</td>\n      <td>0.487752</td>\n      <td>0.716122</td>\n      <td>0.070359</td>\n      <td>0.047298</td>\n      <td>120.790</td>\n      <td>0.650452</td>\n      <td>Jazz</td>\n    </tr>\n    <tr>\n      <th>146</th>\n      <td>0.532019</td>\n      <td>0.417681</td>\n      <td>0.476422</td>\n      <td>0.402500</td>\n      <td>0.172105</td>\n      <td>0.035361</td>\n      <td>135.468</td>\n      <td>0.682397</td>\n      <td>Jazz</td>\n    </tr>\n    <tr>\n      <th>147</th>\n      <td>0.778410</td>\n      <td>0.706681</td>\n      <td>0.866116</td>\n      <td>0.806703</td>\n      <td>0.104650</td>\n      <td>0.065083</td>\n      <td>120.218</td>\n      <td>0.917613</td>\n      <td>Jazz</td>\n    </tr>\n    <tr>\n      <th>153</th>\n      <td>0.988306</td>\n      <td>0.255661</td>\n      <td>0.979774</td>\n      <td>0.973006</td>\n      <td>0.121342</td>\n      <td>0.051740</td>\n      <td>90.241</td>\n      <td>0.034018</td>\n      <td>Rock</td>\n    </tr>\n  </tbody>\n</table>\n</div>"
     },
     "execution_count": 3,
     "metadata": {},
     "output_type": "execute_result"
    }
   ],
   "source": [
    "binclass_dataset = pd.read_csv('/Users/gaetanoantonicchio/Documents/GitHub/DataMining-2/datasets & labels [cleaned]/echo_genres.csv')\n",
    "binclass_dataset.set_index('track_id', inplace=True)\n",
    "binclass_dataset = binclass_dataset[binclass_dataset['genre_top'].isin(['Rock','Jazz'])]\n",
    "binclass_dataset.head()"
   ],
   "metadata": {
    "collapsed": false,
    "pycharm": {
     "name": "#%%\n"
    }
   }
  },
  {
   "cell_type": "code",
   "execution_count": 4,
   "outputs": [
    {
     "name": "stdout",
     "output_type": "stream",
     "text": [
      "Class distribution before balancing\n"
     ]
    },
    {
     "data": {
      "text/plain": "      counts  percentage (%)\nRock    3892           94.17\nJazz     241            5.83",
      "text/html": "<div>\n<style scoped>\n    .dataframe tbody tr th:only-of-type {\n        vertical-align: middle;\n    }\n\n    .dataframe tbody tr th {\n        vertical-align: top;\n    }\n\n    .dataframe thead th {\n        text-align: right;\n    }\n</style>\n<table border=\"1\" class=\"dataframe\">\n  <thead>\n    <tr style=\"text-align: right;\">\n      <th></th>\n      <th>counts</th>\n      <th>percentage (%)</th>\n    </tr>\n  </thead>\n  <tbody>\n    <tr>\n      <th>Rock</th>\n      <td>3892</td>\n      <td>94.17</td>\n    </tr>\n    <tr>\n      <th>Jazz</th>\n      <td>241</td>\n      <td>5.83</td>\n    </tr>\n  </tbody>\n</table>\n</div>"
     },
     "execution_count": 4,
     "metadata": {},
     "output_type": "execute_result"
    }
   ],
   "source": [
    "print('Class distribution before balancing')\n",
    "pd.concat(\n",
    "    [binclass_dataset.genre_top.value_counts(),\n",
    "                round(binclass_dataset.genre_top.value_counts(normalize=True).mul(100),2)],\n",
    "                axis=1,\n",
    "                keys=('counts','percentage (%)')\n",
    ")"
   ],
   "metadata": {
    "collapsed": false,
    "pycharm": {
     "name": "#%%\n"
    }
   }
  },
  {
   "cell_type": "markdown",
   "source": [
    "## b) Plot class distribution in 2D"
   ],
   "metadata": {
    "collapsed": false
   }
  },
  {
   "cell_type": "markdown",
   "source": [
    "## c) Imbalanced learning:\n",
    "#### c.1) Undersampling - Random"
   ],
   "metadata": {
    "collapsed": false,
    "pycharm": {
     "name": "#%% md\n"
    }
   }
  },
  {
   "cell_type": "markdown",
   "source": [
    "#### c.2) Condensed Nearest Neighbor (CNN)"
   ],
   "metadata": {
    "collapsed": false,
    "pycharm": {
     "name": "#%% md\n"
    }
   }
  },
  {
   "cell_type": "markdown",
   "source": [
    "#### c.3) Tomek's Link"
   ],
   "metadata": {
    "collapsed": false,
    "pycharm": {
     "name": "#%% md\n"
    }
   }
  },
  {
   "cell_type": "markdown",
   "source": [
    "#### c.4) Oversampling - Random"
   ],
   "metadata": {
    "collapsed": false
   }
  },
  {
   "cell_type": "markdown",
   "source": [
    "#### c.5) SMOTE"
   ],
   "metadata": {
    "collapsed": false
   }
  },
  {
   "cell_type": "markdown",
   "source": [
    "#### c.6) ADASYN"
   ],
   "metadata": {
    "collapsed": false,
    "pycharm": {
     "name": "#%% md\n"
    }
   }
  },
  {
   "cell_type": "markdown",
   "source": [
    "#### c.7) Class Weight"
   ],
   "metadata": {
    "collapsed": false,
    "pycharm": {
     "name": "#%% md\n"
    }
   }
  },
  {
   "cell_type": "markdown",
   "source": [
    "#### c.8) Ensamble (** not in the program)"
   ],
   "metadata": {
    "collapsed": false,
    "pycharm": {
     "name": "#%% md\n"
    }
   }
  },
  {
   "cell_type": "markdown",
   "source": [
    "_____________________________________________________________________________________________________________________"
   ],
   "metadata": {
    "collapsed": false,
    "pycharm": {
     "name": "#%% md\n"
    }
   }
  },
  {
   "cell_type": "markdown",
   "source": [
    "## d) Decision tree"
   ],
   "metadata": {
    "collapsed": false,
    "pycharm": {
     "name": "#%% md\n"
    }
   }
  },
  {
   "cell_type": "markdown",
   "source": [
    "### d.1) Unbalanced"
   ],
   "metadata": {
    "collapsed": false,
    "pycharm": {
     "name": "#%% md\n"
    }
   }
  },
  {
   "cell_type": "markdown",
   "source": [
    "### d.2) Balanced"
   ],
   "metadata": {
    "collapsed": false,
    "pycharm": {
     "name": "#%% md\n"
    }
   }
  },
  {
   "cell_type": "markdown",
   "source": [
    "###d.3) Compare results"
   ],
   "metadata": {
    "collapsed": false,
    "pycharm": {
     "name": "#%% md\n"
    }
   }
  },
  {
   "cell_type": "markdown",
   "source": [
    "_____________________________________________________________________________________________________________________"
   ],
   "metadata": {
    "collapsed": false,
    "pycharm": {
     "name": "#%% md\n"
    }
   }
  },
  {
   "cell_type": "markdown",
   "source": [],
   "metadata": {
    "collapsed": false,
    "pycharm": {
     "name": "#%% md\n"
    }
   }
  },
  {
   "cell_type": "markdown",
   "source": [
    "## d) KNN"
   ],
   "metadata": {
    "collapsed": false
   }
  },
  {
   "cell_type": "markdown",
   "source": [
    "### d.1) Unbalanced"
   ],
   "metadata": {
    "collapsed": false
   }
  },
  {
   "cell_type": "markdown",
   "source": [
    "### d.2) Balanced"
   ],
   "metadata": {
    "collapsed": false
   }
  },
  {
   "cell_type": "markdown",
   "source": [
    "###d.3) Compare results"
   ],
   "metadata": {
    "collapsed": false
   }
  }
 ],
 "metadata": {
  "kernelspec": {
   "display_name": "Python 3",
   "language": "python",
   "name": "python3"
  },
  "language_info": {
   "codemirror_mode": {
    "name": "ipython",
    "version": 2
   },
   "file_extension": ".py",
   "mimetype": "text/x-python",
   "name": "python",
   "nbconvert_exporter": "python",
   "pygments_lexer": "ipython2",
   "version": "2.7.6"
  }
 },
 "nbformat": 4,
 "nbformat_minor": 0
}