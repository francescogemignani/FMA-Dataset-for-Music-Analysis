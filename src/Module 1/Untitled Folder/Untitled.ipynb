{
 "cells": [
  {
   "cell_type": "code",
   "execution_count": 3,
   "metadata": {},
   "outputs": [],
   "source": [
    "%matplotlib inline\n",
    "\n",
    "import numpy as np\n",
    "import pandas as pd\n",
    "import seaborn as sns\n",
    "import matplotlib.pyplot as plt\n",
    "from sklearn import preprocessing\n",
    "from sklearn.decomposition import PCA\n",
    "from sklearn.preprocessing import StandardScaler\n",
    "import seaborn as sns\n",
    "\n",
    "#LOF\n",
    "from sklearn.neighbors import LocalOutlierFactor\n",
    "\n",
    "from collections import Counter\n",
    "from collections import defaultdict"
   ]
  },
  {
   "cell_type": "markdown",
   "metadata": {},
   "source": [
    "### Schema\n",
    "\n",
    "For detecting outliers we will not rely on just one estimator, but we will use a combination of them.<br>\n",
    "In order to reduce the dimensionality of our data, we will use a PCA projection. <br>\n",
    "After evaluating each anomaly estimator on our data, we will add a column to the original dataset indicating whether that row is an outlier or not.<br>\n",
    "After all estimator have been tested on our data, we will take a majority voting.<br> For each row of data we will consider it an outlier if the majority of the estimator agreed on that estimate."
   ]
  },
  {
   "cell_type": "code",
   "execution_count": 4,
   "metadata": {},
   "outputs": [
    {
     "data": {
      "text/html": [
       "<div>\n",
       "<style scoped>\n",
       "    .dataframe tbody tr th:only-of-type {\n",
       "        vertical-align: middle;\n",
       "    }\n",
       "\n",
       "    .dataframe tbody tr th {\n",
       "        vertical-align: top;\n",
       "    }\n",
       "\n",
       "    .dataframe thead th {\n",
       "        text-align: right;\n",
       "    }\n",
       "</style>\n",
       "<table border=\"1\" class=\"dataframe\">\n",
       "  <thead>\n",
       "    <tr style=\"text-align: right;\">\n",
       "      <th></th>\n",
       "      <th>acousticness</th>\n",
       "      <th>danceability</th>\n",
       "      <th>energy</th>\n",
       "      <th>instrumentalness</th>\n",
       "      <th>liveness</th>\n",
       "      <th>speechiness</th>\n",
       "      <th>tempo</th>\n",
       "      <th>valence</th>\n",
       "      <th>genre_top</th>\n",
       "      <th>duration</th>\n",
       "      <th>bit_rate</th>\n",
       "    </tr>\n",
       "    <tr>\n",
       "      <th>track_id</th>\n",
       "      <th></th>\n",
       "      <th></th>\n",
       "      <th></th>\n",
       "      <th></th>\n",
       "      <th></th>\n",
       "      <th></th>\n",
       "      <th></th>\n",
       "      <th></th>\n",
       "      <th></th>\n",
       "      <th></th>\n",
       "      <th></th>\n",
       "    </tr>\n",
       "  </thead>\n",
       "  <tbody>\n",
       "    <tr>\n",
       "      <th>144</th>\n",
       "      <td>0.909011</td>\n",
       "      <td>0.443643</td>\n",
       "      <td>0.641997</td>\n",
       "      <td>0.924092</td>\n",
       "      <td>0.267669</td>\n",
       "      <td>0.089659</td>\n",
       "      <td>128.537</td>\n",
       "      <td>0.788251</td>\n",
       "      <td>Jazz</td>\n",
       "      <td>82</td>\n",
       "      <td>256</td>\n",
       "    </tr>\n",
       "    <tr>\n",
       "      <th>145</th>\n",
       "      <td>0.235506</td>\n",
       "      <td>0.438672</td>\n",
       "      <td>0.487752</td>\n",
       "      <td>0.716122</td>\n",
       "      <td>0.070359</td>\n",
       "      <td>0.047298</td>\n",
       "      <td>120.790</td>\n",
       "      <td>0.650452</td>\n",
       "      <td>Jazz</td>\n",
       "      <td>326</td>\n",
       "      <td>256</td>\n",
       "    </tr>\n",
       "    <tr>\n",
       "      <th>146</th>\n",
       "      <td>0.532019</td>\n",
       "      <td>0.417681</td>\n",
       "      <td>0.476422</td>\n",
       "      <td>0.402500</td>\n",
       "      <td>0.172105</td>\n",
       "      <td>0.035361</td>\n",
       "      <td>135.468</td>\n",
       "      <td>0.682397</td>\n",
       "      <td>Jazz</td>\n",
       "      <td>354</td>\n",
       "      <td>256</td>\n",
       "    </tr>\n",
       "    <tr>\n",
       "      <th>147</th>\n",
       "      <td>0.778410</td>\n",
       "      <td>0.706681</td>\n",
       "      <td>0.866116</td>\n",
       "      <td>0.806703</td>\n",
       "      <td>0.104650</td>\n",
       "      <td>0.065083</td>\n",
       "      <td>120.218</td>\n",
       "      <td>0.917613</td>\n",
       "      <td>Jazz</td>\n",
       "      <td>232</td>\n",
       "      <td>256</td>\n",
       "    </tr>\n",
       "    <tr>\n",
       "      <th>153</th>\n",
       "      <td>0.988306</td>\n",
       "      <td>0.255661</td>\n",
       "      <td>0.979774</td>\n",
       "      <td>0.973006</td>\n",
       "      <td>0.121342</td>\n",
       "      <td>0.051740</td>\n",
       "      <td>90.241</td>\n",
       "      <td>0.034018</td>\n",
       "      <td>Rock</td>\n",
       "      <td>405</td>\n",
       "      <td>256</td>\n",
       "    </tr>\n",
       "  </tbody>\n",
       "</table>\n",
       "</div>"
      ],
      "text/plain": [
       "          acousticness  danceability    energy  instrumentalness  liveness  \\\n",
       "track_id                                                                     \n",
       "144           0.909011      0.443643  0.641997          0.924092  0.267669   \n",
       "145           0.235506      0.438672  0.487752          0.716122  0.070359   \n",
       "146           0.532019      0.417681  0.476422          0.402500  0.172105   \n",
       "147           0.778410      0.706681  0.866116          0.806703  0.104650   \n",
       "153           0.988306      0.255661  0.979774          0.973006  0.121342   \n",
       "\n",
       "          speechiness    tempo   valence genre_top  duration  bit_rate  \n",
       "track_id                                                                \n",
       "144          0.089659  128.537  0.788251      Jazz        82       256  \n",
       "145          0.047298  120.790  0.650452      Jazz       326       256  \n",
       "146          0.035361  135.468  0.682397      Jazz       354       256  \n",
       "147          0.065083  120.218  0.917613      Jazz       232       256  \n",
       "153          0.051740   90.241  0.034018      Rock       405       256  "
      ]
     },
     "execution_count": 4,
     "metadata": {},
     "output_type": "execute_result"
    }
   ],
   "source": [
    "df = pd.read_csv('/Users/gaetanoantonicchio/Documents/GitHub/DataMining-2/src/Data (cleaned)/Datasets/echo_features.csv')\n",
    "df.set_index('track_id', inplace=True)\n",
    "df.drop('listens',axis=1, inplace=True)\n",
    "df.drop('comments', axis=1, inplace=True)\n",
    "df = df[df['genre_top'].isin(['Rock','Jazz'])]\n",
    "df.head()"
   ]
  },
  {
   "cell_type": "code",
   "execution_count": 5,
   "metadata": {},
   "outputs": [
    {
     "name": "stdout",
     "output_type": "stream",
     "text": [
      "Legend:\n",
      "0: Jazz\n",
      "1: Rock\n"
     ]
    }
   ],
   "source": [
    "# Data preprocessing\n",
    "le = preprocessing.LabelEncoder()\n",
    "df['genre_top'] = le.fit_transform(df['genre_top'])\n",
    "print('Legend:\\n0: Jazz\\n1: Rock')\n",
    "# Define the labels\n",
    "labels = df[['genre_top']]\n",
    "labels.reset_index(drop=True, inplace=True)\n",
    "labels = labels[['genre_top']]"
   ]
  },
  {
   "cell_type": "code",
   "execution_count": 6,
   "metadata": {},
   "outputs": [
    {
     "data": {
      "text/plain": [
       "Index(['acousticness', 'danceability', 'energy', 'instrumentalness',\n",
       "       'liveness', 'speechiness', 'tempo', 'valence', 'genre_top', 'duration',\n",
       "       'bit_rate'],\n",
       "      dtype='object')"
      ]
     },
     "execution_count": 6,
     "metadata": {},
     "output_type": "execute_result"
    }
   ],
   "source": [
    "df.columns"
   ]
  },
  {
   "cell_type": "code",
   "execution_count": 7,
   "metadata": {},
   "outputs": [],
   "source": [
    "columnsTitles = ['acousticness', 'danceability', 'energy', 'instrumentalness',\n",
    "       'liveness', 'speechiness', 'valence', 'tempo', 'duration',\n",
    "       'bit_rate', 'genre_top']\n",
    "df = df.reindex(columns=columnsTitles)"
   ]
  },
  {
   "cell_type": "code",
   "execution_count": 8,
   "metadata": {},
   "outputs": [
    {
     "data": {
      "text/html": [
       "<div>\n",
       "<style scoped>\n",
       "    .dataframe tbody tr th:only-of-type {\n",
       "        vertical-align: middle;\n",
       "    }\n",
       "\n",
       "    .dataframe tbody tr th {\n",
       "        vertical-align: top;\n",
       "    }\n",
       "\n",
       "    .dataframe thead th {\n",
       "        text-align: right;\n",
       "    }\n",
       "</style>\n",
       "<table border=\"1\" class=\"dataframe\">\n",
       "  <thead>\n",
       "    <tr style=\"text-align: right;\">\n",
       "      <th></th>\n",
       "      <th>acousticness</th>\n",
       "      <th>danceability</th>\n",
       "      <th>energy</th>\n",
       "      <th>instrumentalness</th>\n",
       "      <th>liveness</th>\n",
       "      <th>speechiness</th>\n",
       "      <th>valence</th>\n",
       "      <th>tempo</th>\n",
       "      <th>duration</th>\n",
       "      <th>bit_rate</th>\n",
       "      <th>genre_top</th>\n",
       "    </tr>\n",
       "    <tr>\n",
       "      <th>track_id</th>\n",
       "      <th></th>\n",
       "      <th></th>\n",
       "      <th></th>\n",
       "      <th></th>\n",
       "      <th></th>\n",
       "      <th></th>\n",
       "      <th></th>\n",
       "      <th></th>\n",
       "      <th></th>\n",
       "      <th></th>\n",
       "      <th></th>\n",
       "    </tr>\n",
       "  </thead>\n",
       "  <tbody>\n",
       "    <tr>\n",
       "      <th>144</th>\n",
       "      <td>0.909011</td>\n",
       "      <td>0.443643</td>\n",
       "      <td>0.641997</td>\n",
       "      <td>0.924092</td>\n",
       "      <td>0.267669</td>\n",
       "      <td>0.089659</td>\n",
       "      <td>0.788251</td>\n",
       "      <td>128.537</td>\n",
       "      <td>82</td>\n",
       "      <td>256</td>\n",
       "      <td>0</td>\n",
       "    </tr>\n",
       "    <tr>\n",
       "      <th>145</th>\n",
       "      <td>0.235506</td>\n",
       "      <td>0.438672</td>\n",
       "      <td>0.487752</td>\n",
       "      <td>0.716122</td>\n",
       "      <td>0.070359</td>\n",
       "      <td>0.047298</td>\n",
       "      <td>0.650452</td>\n",
       "      <td>120.790</td>\n",
       "      <td>326</td>\n",
       "      <td>256</td>\n",
       "      <td>0</td>\n",
       "    </tr>\n",
       "    <tr>\n",
       "      <th>146</th>\n",
       "      <td>0.532019</td>\n",
       "      <td>0.417681</td>\n",
       "      <td>0.476422</td>\n",
       "      <td>0.402500</td>\n",
       "      <td>0.172105</td>\n",
       "      <td>0.035361</td>\n",
       "      <td>0.682397</td>\n",
       "      <td>135.468</td>\n",
       "      <td>354</td>\n",
       "      <td>256</td>\n",
       "      <td>0</td>\n",
       "    </tr>\n",
       "    <tr>\n",
       "      <th>147</th>\n",
       "      <td>0.778410</td>\n",
       "      <td>0.706681</td>\n",
       "      <td>0.866116</td>\n",
       "      <td>0.806703</td>\n",
       "      <td>0.104650</td>\n",
       "      <td>0.065083</td>\n",
       "      <td>0.917613</td>\n",
       "      <td>120.218</td>\n",
       "      <td>232</td>\n",
       "      <td>256</td>\n",
       "      <td>0</td>\n",
       "    </tr>\n",
       "    <tr>\n",
       "      <th>153</th>\n",
       "      <td>0.988306</td>\n",
       "      <td>0.255661</td>\n",
       "      <td>0.979774</td>\n",
       "      <td>0.973006</td>\n",
       "      <td>0.121342</td>\n",
       "      <td>0.051740</td>\n",
       "      <td>0.034018</td>\n",
       "      <td>90.241</td>\n",
       "      <td>405</td>\n",
       "      <td>256</td>\n",
       "      <td>1</td>\n",
       "    </tr>\n",
       "  </tbody>\n",
       "</table>\n",
       "</div>"
      ],
      "text/plain": [
       "          acousticness  danceability    energy  instrumentalness  liveness  \\\n",
       "track_id                                                                     \n",
       "144           0.909011      0.443643  0.641997          0.924092  0.267669   \n",
       "145           0.235506      0.438672  0.487752          0.716122  0.070359   \n",
       "146           0.532019      0.417681  0.476422          0.402500  0.172105   \n",
       "147           0.778410      0.706681  0.866116          0.806703  0.104650   \n",
       "153           0.988306      0.255661  0.979774          0.973006  0.121342   \n",
       "\n",
       "          speechiness   valence    tempo  duration  bit_rate  genre_top  \n",
       "track_id                                                                 \n",
       "144          0.089659  0.788251  128.537        82       256          0  \n",
       "145          0.047298  0.650452  120.790       326       256          0  \n",
       "146          0.035361  0.682397  135.468       354       256          0  \n",
       "147          0.065083  0.917613  120.218       232       256          0  \n",
       "153          0.051740  0.034018   90.241       405       256          1  "
      ]
     },
     "execution_count": 8,
     "metadata": {},
     "output_type": "execute_result"
    }
   ],
   "source": [
    "df.head()"
   ]
  },
  {
   "cell_type": "markdown",
   "metadata": {},
   "source": [
    "# Boxplot - IQR score"
   ]
  },
  {
   "cell_type": "code",
   "execution_count": 9,
   "metadata": {},
   "outputs": [],
   "source": [
    "#function that detect outliers based on IQR \n",
    "def outlier_detector(var):\n",
    "    ''' function that calculates Q1,Q3,IQR and return the number of outliers of a given variable'''\n",
    "    Q1=df[var].quantile(0.25)\n",
    "    Q3=df[var].quantile(0.75)\n",
    "    IQR=Q3-Q1\n",
    "    \n",
    "    print('{}:'.format(var))\n",
    "    print('Q1: {}\\nQ3: {}\\nIQR: {}'.format(Q1,Q3,IQR))\n",
    "    \n",
    "    lower_whisker = Q1-1.5*IQR\n",
    "    upper_whisker = Q3+1.5*IQR\n",
    "    \n",
    "    print('lower range: {}\\nupper range: {}'.format(lower_whisker,upper_whisker))\n",
    "    outliers = sum(df[var]<lower_whisker) + sum(df[var]>upper_whisker)\n",
    "    print('{} has {} potential outliers'.format(var,outliers))\n",
    "    \n",
    "\n",
    "\n",
    "    #function that removes outliers\n",
    "def outlier_remove(variable,u_whisker, l_whisker):\n",
    "    df_clean.drop(index=df[df[variable]< l_whisker].index, inplace=True)\n",
    "    df_clean.drop(index=df[df[variable]> u_whisker].index, inplace=True)\n",
    "    "
   ]
  },
  {
   "cell_type": "markdown",
   "metadata": {},
   "source": [
    "#### Acusticness - Danceability - Energy - Instrumentalness - Liveness - Speechiness - Valence"
   ]
  },
  {
   "cell_type": "code",
   "execution_count": 10,
   "metadata": {},
   "outputs": [
    {
     "data": {
      "image/png": "[encoded data removed]",
      "text/plain": [
       "<Figure size 432x288 with 1 Axes>"
      ]
     },
     "metadata": {
      "needs_background": "light"
     },
     "output_type": "display_data"
    }
   ],
   "source": [
    "sns.boxplot(data=df.iloc[:,:7])\n",
    "plt.rcParams[\"figure.figsize\"] = [15,7]\n"
   ]
  },
  {
   "cell_type": "code",
   "execution_count": 11,
   "metadata": {},
   "outputs": [
    {
     "name": "stdout",
     "output_type": "stream",
     "text": [
      "acousticness:\n",
      "Q1: 0.0943255199\n",
      "Q3: 0.8984479226\n",
      "IQR: 0.8041224026999999\n",
      "lower range: -1.1118580841499999\n",
      "upper range: 2.1046315266499995\n",
      "acousticness has 0 potential outliers\n",
      "\n",
      "\n",
      "danceability:\n",
      "Q1: 0.2718615333\n",
      "Q3: 0.5014793736\n",
      "IQR: 0.22961784029999993\n",
      "lower range: -0.07256522714999986\n",
      "upper range: 0.8459061340499998\n",
      "danceability has 11 potential outliers\n",
      "\n",
      "\n",
      "energy:\n",
      "Q1: 0.4328016497\n",
      "Q3: 0.850100651\n",
      "IQR: 0.41729900129999997\n",
      "lower range: -0.19314685224999995\n",
      "upper range: 1.47604915295\n",
      "energy has 0 potential outliers\n",
      "\n",
      "\n",
      "instrumentalness:\n",
      "Q1: 0.4706153581\n",
      "Q3: 0.9221123476\n",
      "IQR: 0.45149698950000006\n",
      "lower range: -0.2066301261500001\n",
      "upper range: 1.5993578318500001\n",
      "instrumentalness has 0 potential outliers\n",
      "\n",
      "\n",
      "liveness:\n",
      "Q1: 0.1042909085\n",
      "Q3: 0.2091967113\n",
      "IQR: 0.1049058028\n",
      "lower range: -0.0530677957\n",
      "upper range: 0.36655541550000004\n",
      "liveness has 413 potential outliers\n",
      "\n",
      "\n",
      "speechiness:\n",
      "Q1: 0.0356185229\n",
      "Q3: 0.0652800763\n",
      "IQR: 0.029661553400000006\n",
      "lower range: -0.008873807200000007\n",
      "upper range: 0.10977240640000001\n",
      "speechiness has 409 potential outliers\n",
      "\n",
      "\n",
      "valence:\n",
      "Q1: 0.1876424476\n",
      "Q3: 0.6189282944\n",
      "IQR: 0.43128584679999993\n",
      "lower range: -0.4592863225999999\n",
      "upper range: 1.2658570646\n",
      "valence has 0 potential outliers\n",
      "\n",
      "\n"
     ]
    }
   ],
   "source": [
    "for col in df.iloc[:,:7].columns:\n",
    "    outlier_detector(var=col)\n",
    "    print('\\n')"
   ]
  },
  {
   "cell_type": "markdown",
   "metadata": {},
   "source": [
    "#### Tempo - Bit Rate"
   ]
  },
  {
   "cell_type": "code",
   "execution_count": 12,
   "metadata": {},
   "outputs": [
    {
     "data": {
      "text/plain": [
       "<matplotlib.axes._subplots.AxesSubplot at 0x7fabe17c3410>"
      ]
     },
     "execution_count": 12,
     "metadata": {},
     "output_type": "execute_result"
    },
    {
     "data": {
      "image/png": "[encoded data removed]",
      "text/plain": [
       "<Figure size 1080x504 with 1 Axes>"
      ]
     },
     "metadata": {
      "needs_background": "light"
     },
     "output_type": "display_data"
    }
   ],
   "source": [
    "sns.boxplot(data=df[['tempo','bit_rate']])"
   ]
  },
  {
   "cell_type": "code",
   "execution_count": 13,
   "metadata": {},
   "outputs": [
    {
     "name": "stdout",
     "output_type": "stream",
     "text": [
      "tempo:\n",
      "Q1: 101.785\n",
      "Q3: 150.287\n",
      "IQR: 48.50200000000001\n",
      "lower range: 29.031999999999982\n",
      "upper range: 223.04000000000002\n",
      "tempo has 21 potential outliers\n",
      "\n",
      "\n",
      "bit_rate:\n",
      "Q1: 226.0\n",
      "Q3: 256.0\n",
      "IQR: 30.0\n",
      "lower range: 181.0\n",
      "upper range: 301.0\n",
      "bit_rate has 1182 potential outliers\n",
      "\n",
      "\n"
     ]
    }
   ],
   "source": [
    "for col in ['tempo','bit_rate']:\n",
    "    outlier_detector(var=col)\n",
    "    print('\\n')"
   ]
  },
  {
   "cell_type": "markdown",
   "metadata": {},
   "source": [
    "#### duration"
   ]
  },
  {
   "cell_type": "code",
   "execution_count": 14,
   "metadata": {},
   "outputs": [
    {
     "data": {
      "text/plain": [
       "<matplotlib.axes._subplots.AxesSubplot at 0x7fabe1844e10>"
      ]
     },
     "execution_count": 14,
     "metadata": {},
     "output_type": "execute_result"
    },
    {
     "data": {
      "image/png": "[encoded data removed]",
      "text/plain": [
       "<Figure size 1080x504 with 1 Axes>"
      ]
     },
     "metadata": {
      "needs_background": "light"
     },
     "output_type": "display_data"
    }
   ],
   "source": [
    "sns.boxplot(data=df[['duration']])"
   ]
  },
  {
   "cell_type": "code",
   "execution_count": 15,
   "metadata": {},
   "outputs": [
    {
     "name": "stdout",
     "output_type": "stream",
     "text": [
      "duration:\n",
      "Q1: 147.0\n",
      "Q3: 280.0\n",
      "IQR: 133.0\n",
      "lower range: -52.5\n",
      "upper range: 479.5\n",
      "duration has 226 potential outliers\n"
     ]
    }
   ],
   "source": [
    "outlier_detector(var='duration')"
   ]
  },
  {
   "cell_type": "markdown",
   "metadata": {},
   "source": [
    "# Reduce dimensionality with PCA"
   ]
  },
  {
   "cell_type": "code",
   "execution_count": 17,
   "metadata": {},
   "outputs": [
    {
     "data": {
      "text/plain": [
       "acousticness        0\n",
       "danceability        0\n",
       "energy              0\n",
       "instrumentalness    0\n",
       "liveness            0\n",
       "speechiness         0\n",
       "valence             0\n",
       "tempo               0\n",
       "duration            0\n",
       "bit_rate            0\n",
       "dtype: int64"
      ]
     },
     "execution_count": 17,
     "metadata": {},
     "output_type": "execute_result"
    }
   ],
   "source": [
    "genres = df['genre_top']\n",
    "df.drop('genre_top', axis=1, inplace=True)\n",
    "df.dropna(inplace=True)\n",
    "df.isnull().sum()"
   ]
  },
  {
   "cell_type": "code",
   "execution_count": 18,
   "metadata": {},
   "outputs": [],
   "source": [
    "scaler = StandardScaler()\n",
    "scaled_df = scaler.fit_transform(df)"
   ]
  },
  {
   "cell_type": "code",
   "execution_count": 19,
   "metadata": {},
   "outputs": [],
   "source": [
    "pca = PCA(2,random_state=42)\n",
    "pca.fit(scaled_df)\n",
    "df_pca = pca.transform(scaled_df)\n",
    "df_pca = pd.DataFrame(df_pca, columns= ['pca1', 'pca2'])"
   ]
  },
  {
   "cell_type": "code",
   "execution_count": 20,
   "metadata": {},
   "outputs": [
    {
     "data": {
      "text/plain": [
       "<matplotlib.collections.PathCollection at 0x7fabdcb6d890>"
      ]
     },
     "execution_count": 20,
     "metadata": {},
     "output_type": "execute_result"
    },
    {
     "data": {
      "image/png": "[encoded data removed]",
      "text/plain": [
       "<Figure size 1080x504 with 1 Axes>"
      ]
     },
     "metadata": {
      "needs_background": "light"
     },
     "output_type": "display_data"
    }
   ],
   "source": [
    "plt.scatter(df_pca['pca1'],df_pca['pca2'])"
   ]
  },
  {
   "cell_type": "markdown",
   "metadata": {},
   "source": [
    "# DBSCAN"
   ]
  },
  {
   "cell_type": "code",
   "execution_count": 21,
   "metadata": {},
   "outputs": [],
   "source": [
    "from sklearn.cluster import DBSCAN\n",
    "\n",
    "outlier_detection = DBSCAN(eps= .5, metric='euclidean', min_samples=15, n_jobs=-1)\n",
    "\n",
    "clusters= outlier_detection.fit_predict(df_pca)"
   ]
  },
  {
   "cell_type": "code",
   "execution_count": 41,
   "metadata": {},
   "outputs": [],
   "source": [
    "# add column with outliers label\n",
    "df['outlier_DBSCAN'] = clusters\n",
    "df['outlier_DBSCAN'] = df['outlier_DBSCAN'].apply(lambda x: 'inlier' if x==0 else 'outlier')"
   ]
  },
  {
   "cell_type": "code",
   "execution_count": 234,
   "metadata": {},
   "outputs": [
    {
     "data": {
      "text/plain": [
       "<matplotlib.axes._subplots.AxesSubplot at 0x7ffb42082910>"
      ]
     },
     "execution_count": 234,
     "metadata": {},
     "output_type": "execute_result"
    },
    {
     "data": {
      "image/png": "[encoded data removed]",
      "text/plain": [
       "<Figure size 432x288 with 1 Axes>"
      ]
     },
     "metadata": {
      "needs_background": "light"
     },
     "output_type": "display_data"
    }
   ],
   "source": [
    "from matplotlib import cm\n",
    "cmap= cm.get_cmap('Set1')\n",
    "df_pca.plot.scatter(x='pca1', y='pca2', c=clusters, cmap=cmap, colorbar=False)"
   ]
  },
  {
   "cell_type": "code",
   "execution_count": 46,
   "metadata": {},
   "outputs": [
    {
     "data": {
      "text/plain": [
       "outlier    52\n",
       "Name: outlier_DBSCAN, dtype: int64"
      ]
     },
     "execution_count": 46,
     "metadata": {},
     "output_type": "execute_result"
    }
   ],
   "source": [
    "# outlier detected\n",
    "df[df['outlier_DBSCAN'] =='outlier']['outlier_DBSCAN'].value_counts()"
   ]
  },
  {
   "cell_type": "markdown",
   "metadata": {},
   "source": [
    "# LOF"
   ]
  },
  {
   "cell_type": "code",
   "execution_count": 159,
   "metadata": {},
   "outputs": [
    {
     "data": {
      "text/plain": [
       "acousticness        0\n",
       "danceability        0\n",
       "energy              0\n",
       "instrumentalness    0\n",
       "liveness            0\n",
       "speechiness         0\n",
       "valence             0\n",
       "tempo               0\n",
       "duration            0\n",
       "bit_rate            0\n",
       "dtype: int64"
      ]
     },
     "execution_count": 159,
     "metadata": {},
     "output_type": "execute_result"
    }
   ],
   "source": [
    "genres = df['genre_top']\n",
    "df.drop('genre_top', axis=1, inplace=True)\n",
    "df.dropna(inplace=True)\n",
    "df.isnull().sum()"
   ]
  },
  {
   "cell_type": "code",
   "execution_count": 160,
   "metadata": {},
   "outputs": [],
   "source": [
    "scaler = StandardScaler()\n",
    "scaled_df = scaler.fit_transform(df)"
   ]
  },
  {
   "cell_type": "code",
   "execution_count": 173,
   "metadata": {},
   "outputs": [],
   "source": [
    "pca = PCA(2,random_state=42)\n",
    "pca.fit(scaled_df)\n",
    "df_pca = pca.transform(scaled_df)\n",
    "df_pca = pd.DataFrame(df_pca, columns= ['pca1', 'pca2'])"
   ]
  },
  {
   "cell_type": "code",
   "execution_count": 175,
   "metadata": {},
   "outputs": [
    {
     "data": {
      "text/plain": [
       "<matplotlib.collections.PathCollection at 0x7ffb3e486190>"
      ]
     },
     "execution_count": 175,
     "metadata": {},
     "output_type": "execute_result"
    },
    {
     "data": {
      "image/png": "[encoded data removed]",
      "text/plain": [
       "<Figure size 432x288 with 1 Axes>"
      ]
     },
     "metadata": {
      "needs_background": "light"
     },
     "output_type": "display_data"
    }
   ],
   "source": [
    "plt.scatter(df_pca['pca1'],df_pca['pca2'])"
   ]
  },
  {
   "cell_type": "markdown",
   "metadata": {},
   "source": [
    "# INFLO "
   ]
  },
  {
   "cell_type": "code",
   "execution_count": null,
   "metadata": {},
   "outputs": [],
   "source": []
  },
  {
   "cell_type": "code",
   "execution_count": null,
   "metadata": {},
   "outputs": [],
   "source": []
  },
  {
   "cell_type": "code",
   "execution_count": null,
   "metadata": {},
   "outputs": [],
   "source": []
  },
  {
   "cell_type": "markdown",
   "metadata": {},
   "source": [
    "# ABOD"
   ]
  },
  {
   "cell_type": "code",
   "execution_count": null,
   "metadata": {},
   "outputs": [],
   "source": []
  },
  {
   "cell_type": "code",
   "execution_count": null,
   "metadata": {},
   "outputs": [],
   "source": []
  },
  {
   "cell_type": "markdown",
   "metadata": {},
   "source": [
    "# Isolation Forest"
   ]
  },
  {
   "cell_type": "code",
   "execution_count": null,
   "metadata": {},
   "outputs": [],
   "source": []
  },
  {
   "cell_type": "code",
   "execution_count": null,
   "metadata": {},
   "outputs": [],
   "source": []
  },
  {
   "cell_type": "code",
   "execution_count": null,
   "metadata": {},
   "outputs": [],
   "source": []
  },
  {
   "cell_type": "code",
   "execution_count": null,
   "metadata": {},
   "outputs": [],
   "source": []
  },
  {
   "cell_type": "code",
   "execution_count": null,
   "metadata": {},
   "outputs": [],
   "source": []
  }
 ],
 "metadata": {
  "kernelspec": {
   "display_name": "Python 3",
   "language": "python",
   "name": "python3"
  },
  "language_info": {
   "codemirror_mode": {
    "name": "ipython",
    "version": 3
   },
   "file_extension": ".py",
   "mimetype": "text/x-python",
   "name": "python",
   "nbconvert_exporter": "python",
   "pygments_lexer": "ipython3",
   "version": "3.7.4"
  }
 },
 "nbformat": 4,
 "nbformat_minor": 2
}
