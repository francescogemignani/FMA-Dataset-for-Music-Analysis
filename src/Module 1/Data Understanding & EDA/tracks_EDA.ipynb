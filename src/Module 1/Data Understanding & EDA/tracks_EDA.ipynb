{
 "cells": [
  {
   "cell_type": "code",
   "execution_count": null,
   "metadata": {
    "collapsed": true
   },
   "outputs": [],
   "source": [
    "from IPython.display import Image\n",
    "from IPython.core.display import HTML\n",
    "Image(url= \"https://developer.spotify.com/assets/echonest-spotify.png\")"
   ]
  },
  {
   "cell_type": "code",
   "execution_count": null,
   "outputs": [],
   "source": [
    "# Need only first time\n",
    "#conda install -c conda-forge python-dotenv\n",
    "#conda install -c conda-forge pydot"
   ],
   "metadata": {
    "collapsed": false,
    "pycharm": {
     "name": "#%%\n"
    }
   }
  },
  {
   "cell_type": "code",
   "execution_count": null,
   "outputs": [],
   "source": [
    "%matplotlib inline\n",
    "import IPython.display as ipd\n",
    "import numpy as np\n",
    "import pandas as pd\n",
    "import matplotlib.pyplot as plt\n",
    "import datetime\n",
    "import plotly\n",
    "import plotly.express as px\n",
    "import plotly.io as pio\n",
    "import plotly.offline as pyo\n",
    "import seaborn as sns\n",
    "\n",
    "import sys\n",
    "import pathlib\n",
    "sys.path.insert(1, './fma_metadata/')\n",
    "from fma_metadata import utils\n",
    "\n",
    "import warnings\n",
    "warnings.filterwarnings('ignore')"
   ],
   "metadata": {
    "collapsed": false,
    "pycharm": {
     "name": "#%%\n"
    }
   }
  },
  {
   "cell_type": "markdown",
   "source": [
    "-----------------\n",
    "# Tracks EDA\n",
    "-----------------\n",
    "## 1. Load Dataset\n",
    "- tracks.csv: contains metadata about tracks, albums and artists;\n",
    "This dataset contains the following subsets:\n",
    "- tracks\n",
    "- xxxx\n",
    "- xxxx\n",
    "- xxxx"
   ],
   "metadata": {
    "collapsed": false,
    "pycharm": {
     "name": "#%% md\n"
    }
   }
  },
  {
   "cell_type": "code",
   "execution_count": null,
   "outputs": [],
   "source": [
    "# Load data\n",
    "tracks = utils.load('/Users/gaetanoantonicchio/Desktop/dataset_DM2/fma_metadata/tracks.csv')\n",
    "#tracks.shape"
   ],
   "metadata": {
    "collapsed": false,
    "pycharm": {
     "name": "#%%\n"
    }
   }
  },
  {
   "cell_type": "markdown",
   "source": [
    "## 2. Data Understanding\n",
    "------\n",
    "### Partition: Track\n",
    "-----"
   ],
   "metadata": {
    "collapsed": false
   }
  },
  {
   "cell_type": "code",
   "source": [
    "# checks percentage of available data\n",
    "print('Available data - track subset - Tracks.csv (%)')\n",
    "((abs(tracks['track'].isnull().sum()-tracks.shape[0])/tracks.shape[0])*100).round(2).sort_values(ascending=False)\n",
    "\n",
    "#### Data available (%) - tracks.csv - partition: \"album\"\n",
    "print('Available data - album subset - Tracks.csv (%)')\n",
    "((abs(tracks['album'].isnull().sum()-tracks.shape[0])/tracks.shape[0])*100).round(2).sort_values(ascending=False)\n",
    "\n",
    "#### Data available (%) - tracks.csv - partition: \"artist\"\n",
    "print('Available data - artist subset - Tracks.csv (%)')\n",
    "((abs(tracks['artist'].isnull().sum()-tracks.shape[0])/tracks.shape[0])*100).round(2).sort_values(ascending=False)"
   ],
   "metadata": {
    "collapsed": false,
    "pycharm": {
     "name": "#%%\n"
    }
   },
   "execution_count": null,
   "outputs": []
  },
  {
   "cell_type": "code",
   "execution_count": null,
   "outputs": [],
   "source": [
    "# display dataset - partition: track\n",
    "ipd.display(tracks['track'].head())\n",
    "\n"
   ],
   "metadata": {
    "collapsed": false,
    "pycharm": {
     "name": "#%%\n"
    }
   }
  }
 ],
 "metadata": {
  "kernelspec": {
   "display_name": "Python 3",
   "language": "python",
   "name": "python3"
  },
  "language_info": {
   "codemirror_mode": {
    "name": "ipython",
    "version": 2
   },
   "file_extension": ".py",
   "mimetype": "text/x-python",
   "name": "python",
   "nbconvert_exporter": "python",
   "pygments_lexer": "ipython2",
   "version": "2.7.6"
  }
 },
 "nbformat": 4,
 "nbformat_minor": 0
}