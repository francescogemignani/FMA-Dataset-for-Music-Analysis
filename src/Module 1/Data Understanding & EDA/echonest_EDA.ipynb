{
 "cells": [
  {
   "cell_type": "code",
   "execution_count": 5,
   "metadata": {
    "pycharm": {
     "name": "#%%\n"
    }
   },
   "outputs": [],
   "source": [
    "# Need only first time\n",
    "#conda install -c conda-forge python-dotenv\n",
    "#conda install -c conda-forge pydot"
   ]
  },
  {
   "cell_type": "code",
   "execution_count": 2,
   "metadata": {
    "pycharm": {
     "name": "#%%\n"
    }
   },
   "outputs": [],
   "source": [
    "%matplotlib inline\n",
    "\n",
    "import os\n",
    "\n",
    "import numpy as np\n",
    "import pandas as pd\n",
    "import matplotlib.pyplot as plt\n",
    "import plotly.express as px\n",
    "import seaborn as sns\n",
    "import plotly.graph_objects as go\n",
    "import sys\n",
    "\n",
    "sys.path.insert(1, '/Users/gaetanoantonicchio/Documents/GitHub/DataMining-2')\n",
    "from fma_metadata import utils\n",
    "\n",
    "import warnings\n",
    "warnings.filterwarnings('ignore')\n",
    "\n",
    "plt.rcParams['figure.figsize'] = (13, 5)"
   ]
  },
  {
   "cell_type": "markdown",
   "metadata": {},
   "source": [
    "-----------------\n",
    "# Echonest EDA\n",
    "-----------------\n",
    "This dataset contains metrics provided by echonest. Those are private features computed using echonest algorithms.\n",
    "The dataset has 3 main sub-datasets:\n",
    "- audio_features\n",
    "- metadata\n",
    "- social_features\n",
    "- temporal_features\n",
    "\n",
    "## 1. Load Dataset\n",
    "- echonest.csv: contains mid-level features for each track, provided by echonest;"
   ]
  },
  {
   "cell_type": "code",
   "execution_count": 3,
   "metadata": {
    "pycharm": {
     "name": "#%%\n"
    }
   },
   "outputs": [
    {
     "data": {
      "text/plain": [
       "(13129, 249)"
      ]
     },
     "execution_count": 3,
     "metadata": {},
     "output_type": "execute_result"
    }
   ],
   "source": [
    "echonest = utils.load('/Users/gaetanoantonicchio/Desktop/dataset_DM2/fma_metadata/echonest.csv')\n",
    "echonest.shape"
   ]
  },
  {
   "cell_type": "code",
   "execution_count": 4,
   "metadata": {
    "pycharm": {
     "name": "#%%\n"
    }
   },
   "outputs": [
    {
     "data": {
      "text/html": [
       "<div>\n",
       "<style scoped>\n",
       "    .dataframe tbody tr th:only-of-type {\n",
       "        vertical-align: middle;\n",
       "    }\n",
       "\n",
       "    .dataframe tbody tr th {\n",
       "        vertical-align: top;\n",
       "    }\n",
       "\n",
       "    .dataframe thead tr th {\n",
       "        text-align: left;\n",
       "    }\n",
       "\n",
       "    .dataframe thead tr:last-of-type th {\n",
       "        text-align: right;\n",
       "    }\n",
       "</style>\n",
       "<table border=\"1\" class=\"dataframe\">\n",
       "  <thead>\n",
       "    <tr>\n",
       "      <th></th>\n",
       "      <th colspan=\"21\" halign=\"left\">echonest</th>\n",
       "    </tr>\n",
       "    <tr>\n",
       "      <th></th>\n",
       "      <th colspan=\"8\" halign=\"left\">audio_features</th>\n",
       "      <th colspan=\"2\" halign=\"left\">metadata</th>\n",
       "      <th>...</th>\n",
       "      <th colspan=\"10\" halign=\"left\">temporal_features</th>\n",
       "    </tr>\n",
       "    <tr>\n",
       "      <th></th>\n",
       "      <th>acousticness</th>\n",
       "      <th>danceability</th>\n",
       "      <th>energy</th>\n",
       "      <th>instrumentalness</th>\n",
       "      <th>liveness</th>\n",
       "      <th>speechiness</th>\n",
       "      <th>tempo</th>\n",
       "      <th>valence</th>\n",
       "      <th>album_date</th>\n",
       "      <th>album_name</th>\n",
       "      <th>...</th>\n",
       "      <th>214</th>\n",
       "      <th>215</th>\n",
       "      <th>216</th>\n",
       "      <th>217</th>\n",
       "      <th>218</th>\n",
       "      <th>219</th>\n",
       "      <th>220</th>\n",
       "      <th>221</th>\n",
       "      <th>222</th>\n",
       "      <th>223</th>\n",
       "    </tr>\n",
       "    <tr>\n",
       "      <th>track_id</th>\n",
       "      <th></th>\n",
       "      <th></th>\n",
       "      <th></th>\n",
       "      <th></th>\n",
       "      <th></th>\n",
       "      <th></th>\n",
       "      <th></th>\n",
       "      <th></th>\n",
       "      <th></th>\n",
       "      <th></th>\n",
       "      <th></th>\n",
       "      <th></th>\n",
       "      <th></th>\n",
       "      <th></th>\n",
       "      <th></th>\n",
       "      <th></th>\n",
       "      <th></th>\n",
       "      <th></th>\n",
       "      <th></th>\n",
       "      <th></th>\n",
       "      <th></th>\n",
       "    </tr>\n",
       "  </thead>\n",
       "  <tbody>\n",
       "    <tr>\n",
       "      <th>2</th>\n",
       "      <td>0.416675</td>\n",
       "      <td>0.675894</td>\n",
       "      <td>0.634476</td>\n",
       "      <td>0.010628</td>\n",
       "      <td>0.177647</td>\n",
       "      <td>0.159310</td>\n",
       "      <td>165.922</td>\n",
       "      <td>0.576661</td>\n",
       "      <td>NaN</td>\n",
       "      <td>NaN</td>\n",
       "      <td>...</td>\n",
       "      <td>-1.992303</td>\n",
       "      <td>6.805694</td>\n",
       "      <td>0.233070</td>\n",
       "      <td>0.192880</td>\n",
       "      <td>0.027455</td>\n",
       "      <td>0.06408</td>\n",
       "      <td>3.67696</td>\n",
       "      <td>3.61288</td>\n",
       "      <td>13.316690</td>\n",
       "      <td>262.929749</td>\n",
       "    </tr>\n",
       "    <tr>\n",
       "      <th>3</th>\n",
       "      <td>0.374408</td>\n",
       "      <td>0.528643</td>\n",
       "      <td>0.817461</td>\n",
       "      <td>0.001851</td>\n",
       "      <td>0.105880</td>\n",
       "      <td>0.461818</td>\n",
       "      <td>126.957</td>\n",
       "      <td>0.269240</td>\n",
       "      <td>NaN</td>\n",
       "      <td>NaN</td>\n",
       "      <td>...</td>\n",
       "      <td>-1.582331</td>\n",
       "      <td>8.889308</td>\n",
       "      <td>0.258464</td>\n",
       "      <td>0.220905</td>\n",
       "      <td>0.081368</td>\n",
       "      <td>0.06413</td>\n",
       "      <td>6.08277</td>\n",
       "      <td>6.01864</td>\n",
       "      <td>16.673548</td>\n",
       "      <td>325.581085</td>\n",
       "    </tr>\n",
       "    <tr>\n",
       "      <th>5</th>\n",
       "      <td>0.043567</td>\n",
       "      <td>0.745566</td>\n",
       "      <td>0.701470</td>\n",
       "      <td>0.000697</td>\n",
       "      <td>0.373143</td>\n",
       "      <td>0.124595</td>\n",
       "      <td>100.260</td>\n",
       "      <td>0.621661</td>\n",
       "      <td>NaN</td>\n",
       "      <td>NaN</td>\n",
       "      <td>...</td>\n",
       "      <td>-2.288358</td>\n",
       "      <td>11.527109</td>\n",
       "      <td>0.256821</td>\n",
       "      <td>0.237820</td>\n",
       "      <td>0.060122</td>\n",
       "      <td>0.06014</td>\n",
       "      <td>5.92649</td>\n",
       "      <td>5.86635</td>\n",
       "      <td>16.013849</td>\n",
       "      <td>356.755737</td>\n",
       "    </tr>\n",
       "    <tr>\n",
       "      <th>10</th>\n",
       "      <td>0.951670</td>\n",
       "      <td>0.658179</td>\n",
       "      <td>0.924525</td>\n",
       "      <td>0.965427</td>\n",
       "      <td>0.115474</td>\n",
       "      <td>0.032985</td>\n",
       "      <td>111.562</td>\n",
       "      <td>0.963590</td>\n",
       "      <td>2008-03-11</td>\n",
       "      <td>Constant Hitmaker</td>\n",
       "      <td>...</td>\n",
       "      <td>-3.662988</td>\n",
       "      <td>21.508228</td>\n",
       "      <td>0.283352</td>\n",
       "      <td>0.267070</td>\n",
       "      <td>0.125704</td>\n",
       "      <td>0.08082</td>\n",
       "      <td>8.41401</td>\n",
       "      <td>8.33319</td>\n",
       "      <td>21.317064</td>\n",
       "      <td>483.403809</td>\n",
       "    </tr>\n",
       "    <tr>\n",
       "      <th>134</th>\n",
       "      <td>0.452217</td>\n",
       "      <td>0.513238</td>\n",
       "      <td>0.560410</td>\n",
       "      <td>0.019443</td>\n",
       "      <td>0.096567</td>\n",
       "      <td>0.525519</td>\n",
       "      <td>114.290</td>\n",
       "      <td>0.894072</td>\n",
       "      <td>NaN</td>\n",
       "      <td>NaN</td>\n",
       "      <td>...</td>\n",
       "      <td>-1.452696</td>\n",
       "      <td>2.356398</td>\n",
       "      <td>0.234686</td>\n",
       "      <td>0.199550</td>\n",
       "      <td>0.149332</td>\n",
       "      <td>0.06440</td>\n",
       "      <td>11.26707</td>\n",
       "      <td>11.20267</td>\n",
       "      <td>26.454180</td>\n",
       "      <td>751.147705</td>\n",
       "    </tr>\n",
       "  </tbody>\n",
       "</table>\n",
       "<p>5 rows × 249 columns</p>\n",
       "</div>"
      ],
      "text/plain": [
       "               echonest                                                    \\\n",
       "         audio_features                                                     \n",
       "           acousticness danceability    energy instrumentalness  liveness   \n",
       "track_id                                                                    \n",
       "2              0.416675     0.675894  0.634476         0.010628  0.177647   \n",
       "3              0.374408     0.528643  0.817461         0.001851  0.105880   \n",
       "5              0.043567     0.745566  0.701470         0.000697  0.373143   \n",
       "10             0.951670     0.658179  0.924525         0.965427  0.115474   \n",
       "134            0.452217     0.513238  0.560410         0.019443  0.096567   \n",
       "\n",
       "                                                                        ...  \\\n",
       "                                           metadata                     ...   \n",
       "         speechiness    tempo   valence  album_date         album_name  ...   \n",
       "track_id                                                                ...   \n",
       "2           0.159310  165.922  0.576661         NaN                NaN  ...   \n",
       "3           0.461818  126.957  0.269240         NaN                NaN  ...   \n",
       "5           0.124595  100.260  0.621661         NaN                NaN  ...   \n",
       "10          0.032985  111.562  0.963590  2008-03-11  Constant Hitmaker  ...   \n",
       "134         0.525519  114.290  0.894072         NaN                NaN  ...   \n",
       "\n",
       "                                                                              \\\n",
       "         temporal_features                                                     \n",
       "                       214        215       216       217       218      219   \n",
       "track_id                                                                       \n",
       "2                -1.992303   6.805694  0.233070  0.192880  0.027455  0.06408   \n",
       "3                -1.582331   8.889308  0.258464  0.220905  0.081368  0.06413   \n",
       "5                -2.288358  11.527109  0.256821  0.237820  0.060122  0.06014   \n",
       "10               -3.662988  21.508228  0.283352  0.267070  0.125704  0.08082   \n",
       "134              -1.452696   2.356398  0.234686  0.199550  0.149332  0.06440   \n",
       "\n",
       "                                                     \n",
       "                                                     \n",
       "               220       221        222         223  \n",
       "track_id                                             \n",
       "2          3.67696   3.61288  13.316690  262.929749  \n",
       "3          6.08277   6.01864  16.673548  325.581085  \n",
       "5          5.92649   5.86635  16.013849  356.755737  \n",
       "10         8.41401   8.33319  21.317064  483.403809  \n",
       "134       11.26707  11.20267  26.454180  751.147705  \n",
       "\n",
       "[5 rows x 249 columns]"
      ]
     },
     "execution_count": 4,
     "metadata": {},
     "output_type": "execute_result"
    }
   ],
   "source": [
    "# check dataset\n",
    "echonest.head()"
   ]
  },
  {
   "cell_type": "code",
   "execution_count": 5,
   "metadata": {},
   "outputs": [
    {
     "name": "stdout",
     "output_type": "stream",
     "text": [
      "Collecting lux\n",
      "  Downloading lux-0.8.2-py3-none-any.whl (354 kB)\n",
      "\u001b[K     |████████████████████████████████| 354 kB 2.7 MB/s eta 0:00:01\n",
      "\u001b[?25hRequirement already satisfied: jinja2 in /opt/anaconda3/lib/python3.7/site-packages (from lux) (2.11.3)\n",
      "Requirement already satisfied: python-dateutil in /opt/anaconda3/lib/python3.7/site-packages (from lux) (2.8.0)\n",
      "Collecting pyjwt\n",
      "  Downloading PyJWT-2.0.1-py3-none-any.whl (15 kB)\n",
      "Requirement already satisfied: pytz in /opt/anaconda3/lib/python3.7/site-packages (from lux) (2019.3)\n",
      "Collecting pulsar-odm\n",
      "  Downloading pulsar-odm-0.7.0.tar.gz (40 kB)\n",
      "\u001b[K     |████████████████████████████████| 40 kB 4.9 MB/s eta 0:00:011\n",
      "\u001b[?25hRequirement already satisfied: greenlet in /opt/anaconda3/lib/python3.7/site-packages (from lux) (0.4.15)\n",
      "Requirement already satisfied: MarkupSafe>=0.23 in /opt/anaconda3/lib/python3.7/site-packages (from jinja2->lux) (1.1.1)\n",
      "Requirement already satisfied: sqlalchemy in /opt/anaconda3/lib/python3.7/site-packages (from pulsar-odm->lux) (1.3.9)\n",
      "Collecting psycopg2\n",
      "  Downloading psycopg2-2.8.6.tar.gz (383 kB)\n",
      "\u001b[K     |████████████████████████████████| 383 kB 6.9 MB/s eta 0:00:01\n",
      "\u001b[31m    ERROR: Command errored out with exit status 1:\n",
      "     command: /opt/anaconda3/bin/python -c 'import sys, setuptools, tokenize; sys.argv[0] = '\"'\"'/private/var/folders/kp/8mnpmyqn13jc_xv8jsjv1tf80000gn/T/pip-install-g_okjcuv/psycopg2_ef254c0286ff4605905623056db34714/setup.py'\"'\"'; __file__='\"'\"'/private/var/folders/kp/8mnpmyqn13jc_xv8jsjv1tf80000gn/T/pip-install-g_okjcuv/psycopg2_ef254c0286ff4605905623056db34714/setup.py'\"'\"';f=getattr(tokenize, '\"'\"'open'\"'\"', open)(__file__);code=f.read().replace('\"'\"'\\r\\n'\"'\"', '\"'\"'\\n'\"'\"');f.close();exec(compile(code, __file__, '\"'\"'exec'\"'\"'))' egg_info --egg-base /private/var/folders/kp/8mnpmyqn13jc_xv8jsjv1tf80000gn/T/pip-pip-egg-info-wk22nb3f\n",
      "         cwd: /private/var/folders/kp/8mnpmyqn13jc_xv8jsjv1tf80000gn/T/pip-install-g_okjcuv/psycopg2_ef254c0286ff4605905623056db34714/\n",
      "    Complete output (23 lines):\n",
      "    running egg_info\n",
      "    creating /private/var/folders/kp/8mnpmyqn13jc_xv8jsjv1tf80000gn/T/pip-pip-egg-info-wk22nb3f/psycopg2.egg-info\n",
      "    writing /private/var/folders/kp/8mnpmyqn13jc_xv8jsjv1tf80000gn/T/pip-pip-egg-info-wk22nb3f/psycopg2.egg-info/PKG-INFO\n",
      "    writing dependency_links to /private/var/folders/kp/8mnpmyqn13jc_xv8jsjv1tf80000gn/T/pip-pip-egg-info-wk22nb3f/psycopg2.egg-info/dependency_links.txt\n",
      "    writing top-level names to /private/var/folders/kp/8mnpmyqn13jc_xv8jsjv1tf80000gn/T/pip-pip-egg-info-wk22nb3f/psycopg2.egg-info/top_level.txt\n",
      "    writing manifest file '/private/var/folders/kp/8mnpmyqn13jc_xv8jsjv1tf80000gn/T/pip-pip-egg-info-wk22nb3f/psycopg2.egg-info/SOURCES.txt'\n",
      "    \n",
      "    Error: pg_config executable not found.\n",
      "    \n",
      "    pg_config is required to build psycopg2 from source.  Please add the directory\n",
      "    containing pg_config to the $PATH or specify the full executable path with the\n",
      "    option:\n",
      "    \n",
      "        python setup.py build_ext --pg-config /path/to/pg_config build ...\n",
      "    \n",
      "    or with the pg_config option in 'setup.cfg'.\n",
      "    \n",
      "    If you prefer to avoid building psycopg2 from source, please install the PyPI\n",
      "    'psycopg2-binary' package instead.\n",
      "    \n",
      "    For further information please check the 'doc/src/install.rst' file (also at\n",
      "    <https://www.psycopg.org/docs/install.html>).\n",
      "    \n",
      "    ----------------------------------------\u001b[0m\n",
      "\u001b[33mWARNING: Discarding https://files.pythonhosted.org/packages/fd/ae/98cb7a0cbb1d748ee547b058b14604bd0e9bf285a8e0cc5d148f8a8a952e/psycopg2-2.8.6.tar.gz#sha256=fb23f6c71107c37fd667cb4ea363ddeb936b348bbd6449278eb92c189699f543 (from https://pypi.org/simple/psycopg2/) (requires-python:>=2.7,!=3.0.*,!=3.1.*,!=3.2.*,!=3.3.*). Command errored out with exit status 1: python setup.py egg_info Check the logs for full command output.\u001b[0m\n",
      "\u001b[?25h  Downloading psycopg2-2.8.5.tar.gz (380 kB)\n",
      "\u001b[K     |████████████████████████████████| 380 kB 11.1 MB/s eta 0:00:01\n",
      "\u001b[31m    ERROR: Command errored out with exit status 1:\n",
      "     command: /opt/anaconda3/bin/python -c 'import sys, setuptools, tokenize; sys.argv[0] = '\"'\"'/private/var/folders/kp/8mnpmyqn13jc_xv8jsjv1tf80000gn/T/pip-install-g_okjcuv/psycopg2_0f7570972fc6401cb8ca5d137560c091/setup.py'\"'\"'; __file__='\"'\"'/private/var/folders/kp/8mnpmyqn13jc_xv8jsjv1tf80000gn/T/pip-install-g_okjcuv/psycopg2_0f7570972fc6401cb8ca5d137560c091/setup.py'\"'\"';f=getattr(tokenize, '\"'\"'open'\"'\"', open)(__file__);code=f.read().replace('\"'\"'\\r\\n'\"'\"', '\"'\"'\\n'\"'\"');f.close();exec(compile(code, __file__, '\"'\"'exec'\"'\"'))' egg_info --egg-base /private/var/folders/kp/8mnpmyqn13jc_xv8jsjv1tf80000gn/T/pip-pip-egg-info-63yc7t7p\n",
      "         cwd: /private/var/folders/kp/8mnpmyqn13jc_xv8jsjv1tf80000gn/T/pip-install-g_okjcuv/psycopg2_0f7570972fc6401cb8ca5d137560c091/\n",
      "    Complete output (23 lines):\n",
      "    running egg_info\n",
      "    creating /private/var/folders/kp/8mnpmyqn13jc_xv8jsjv1tf80000gn/T/pip-pip-egg-info-63yc7t7p/psycopg2.egg-info\n",
      "    writing /private/var/folders/kp/8mnpmyqn13jc_xv8jsjv1tf80000gn/T/pip-pip-egg-info-63yc7t7p/psycopg2.egg-info/PKG-INFO\n",
      "    writing dependency_links to /private/var/folders/kp/8mnpmyqn13jc_xv8jsjv1tf80000gn/T/pip-pip-egg-info-63yc7t7p/psycopg2.egg-info/dependency_links.txt\n",
      "    writing top-level names to /private/var/folders/kp/8mnpmyqn13jc_xv8jsjv1tf80000gn/T/pip-pip-egg-info-63yc7t7p/psycopg2.egg-info/top_level.txt\n",
      "    writing manifest file '/private/var/folders/kp/8mnpmyqn13jc_xv8jsjv1tf80000gn/T/pip-pip-egg-info-63yc7t7p/psycopg2.egg-info/SOURCES.txt'\n",
      "    \n",
      "    Error: pg_config executable not found.\n",
      "    \n",
      "    pg_config is required to build psycopg2 from source.  Please add the directory\n",
      "    containing pg_config to the $PATH or specify the full executable path with the\n",
      "    option:\n",
      "    \n",
      "        python setup.py build_ext --pg-config /path/to/pg_config build ...\n",
      "    \n",
      "    or with the pg_config option in 'setup.cfg'.\n",
      "    \n",
      "    If you prefer to avoid building psycopg2 from source, please install the PyPI\n",
      "    'psycopg2-binary' package instead.\n",
      "    \n",
      "    For further information please check the 'doc/src/install.rst' file (also at\n",
      "    <https://www.psycopg.org/docs/install.html>).\n",
      "    \n",
      "    ----------------------------------------\u001b[0m\n",
      "\u001b[33mWARNING: Discarding https://files.pythonhosted.org/packages/a8/8f/1c5690eebf148d1d1554fc00ccf9101e134636553dbb75bdfef4f85d7647/psycopg2-2.8.5.tar.gz#sha256=f7d46240f7a1ae1dd95aab38bd74f7428d46531f69219954266d669da60c0818 (from https://pypi.org/simple/psycopg2/) (requires-python:>=2.7,!=3.0.*,!=3.1.*,!=3.2.*,!=3.3.*). Command errored out with exit status 1: python setup.py egg_info Check the logs for full command output.\u001b[0m\n",
      "\u001b[?25h  Downloading psycopg2-2.8.4.tar.gz (377 kB)\n",
      "\u001b[K     |████████████████████████████████| 377 kB 9.1 MB/s eta 0:00:01\n",
      "\u001b[31m    ERROR: Command errored out with exit status 1:\n",
      "     command: /opt/anaconda3/bin/python -c 'import sys, setuptools, tokenize; sys.argv[0] = '\"'\"'/private/var/folders/kp/8mnpmyqn13jc_xv8jsjv1tf80000gn/T/pip-install-g_okjcuv/psycopg2_3d56f917bd1340d28e406f16794d251f/setup.py'\"'\"'; __file__='\"'\"'/private/var/folders/kp/8mnpmyqn13jc_xv8jsjv1tf80000gn/T/pip-install-g_okjcuv/psycopg2_3d56f917bd1340d28e406f16794d251f/setup.py'\"'\"';f=getattr(tokenize, '\"'\"'open'\"'\"', open)(__file__);code=f.read().replace('\"'\"'\\r\\n'\"'\"', '\"'\"'\\n'\"'\"');f.close();exec(compile(code, __file__, '\"'\"'exec'\"'\"'))' egg_info --egg-base /private/var/folders/kp/8mnpmyqn13jc_xv8jsjv1tf80000gn/T/pip-pip-egg-info-kc4h7uee\n",
      "         cwd: /private/var/folders/kp/8mnpmyqn13jc_xv8jsjv1tf80000gn/T/pip-install-g_okjcuv/psycopg2_3d56f917bd1340d28e406f16794d251f/\n",
      "    Complete output (23 lines):\n",
      "    running egg_info\n",
      "    creating /private/var/folders/kp/8mnpmyqn13jc_xv8jsjv1tf80000gn/T/pip-pip-egg-info-kc4h7uee/psycopg2.egg-info\n",
      "    writing /private/var/folders/kp/8mnpmyqn13jc_xv8jsjv1tf80000gn/T/pip-pip-egg-info-kc4h7uee/psycopg2.egg-info/PKG-INFO\n",
      "    writing dependency_links to /private/var/folders/kp/8mnpmyqn13jc_xv8jsjv1tf80000gn/T/pip-pip-egg-info-kc4h7uee/psycopg2.egg-info/dependency_links.txt\n",
      "    writing top-level names to /private/var/folders/kp/8mnpmyqn13jc_xv8jsjv1tf80000gn/T/pip-pip-egg-info-kc4h7uee/psycopg2.egg-info/top_level.txt\n",
      "    writing manifest file '/private/var/folders/kp/8mnpmyqn13jc_xv8jsjv1tf80000gn/T/pip-pip-egg-info-kc4h7uee/psycopg2.egg-info/SOURCES.txt'\n",
      "    \n",
      "    Error: pg_config executable not found.\n",
      "    \n",
      "    pg_config is required to build psycopg2 from source.  Please add the directory\n",
      "    containing pg_config to the $PATH or specify the full executable path with the\n",
      "    option:\n",
      "    \n",
      "        python setup.py build_ext --pg-config /path/to/pg_config build ...\n",
      "    \n",
      "    or with the pg_config option in 'setup.cfg'.\n",
      "    \n",
      "    If you prefer to avoid building psycopg2 from source, please install the PyPI\n",
      "    'psycopg2-binary' package instead.\n",
      "    \n",
      "    For further information please check the 'doc/src/install.rst' file (also at\n",
      "    <http://initd.org/psycopg/docs/install.html>).\n",
      "    \n",
      "    ----------------------------------------\u001b[0m\n",
      "\u001b[33mWARNING: Discarding https://files.pythonhosted.org/packages/84/d7/6a93c99b5ba4d4d22daa3928b983cec66df4536ca50b22ce5dcac65e4e71/psycopg2-2.8.4.tar.gz#sha256=f898e5cc0a662a9e12bde6f931263a1bbd350cfb18e1d5336a12927851825bb6 (from https://pypi.org/simple/psycopg2/) (requires-python:>=2.7,!=3.0.*,!=3.1.*,!=3.2.*,!=3.3.*). Command errored out with exit status 1: python setup.py egg_info Check the logs for full command output.\u001b[0m\n",
      "\u001b[?25h  Downloading psycopg2-2.8.3.tar.gz (377 kB)\n"
     ]
    },
    {
     "name": "stdout",
     "output_type": "stream",
     "text": [
      "\u001b[K     |████████████████████████████████| 377 kB 10.7 MB/s eta 0:00:01\n",
      "\u001b[31m    ERROR: Command errored out with exit status 1:\n",
      "     command: /opt/anaconda3/bin/python -c 'import sys, setuptools, tokenize; sys.argv[0] = '\"'\"'/private/var/folders/kp/8mnpmyqn13jc_xv8jsjv1tf80000gn/T/pip-install-g_okjcuv/psycopg2_d906e7777f814921a63c1cfbe5a8b116/setup.py'\"'\"'; __file__='\"'\"'/private/var/folders/kp/8mnpmyqn13jc_xv8jsjv1tf80000gn/T/pip-install-g_okjcuv/psycopg2_d906e7777f814921a63c1cfbe5a8b116/setup.py'\"'\"';f=getattr(tokenize, '\"'\"'open'\"'\"', open)(__file__);code=f.read().replace('\"'\"'\\r\\n'\"'\"', '\"'\"'\\n'\"'\"');f.close();exec(compile(code, __file__, '\"'\"'exec'\"'\"'))' egg_info --egg-base /private/var/folders/kp/8mnpmyqn13jc_xv8jsjv1tf80000gn/T/pip-pip-egg-info-3t23gsaq\n",
      "         cwd: /private/var/folders/kp/8mnpmyqn13jc_xv8jsjv1tf80000gn/T/pip-install-g_okjcuv/psycopg2_d906e7777f814921a63c1cfbe5a8b116/\n",
      "    Complete output (23 lines):\n",
      "    running egg_info\n",
      "    creating /private/var/folders/kp/8mnpmyqn13jc_xv8jsjv1tf80000gn/T/pip-pip-egg-info-3t23gsaq/psycopg2.egg-info\n",
      "    writing /private/var/folders/kp/8mnpmyqn13jc_xv8jsjv1tf80000gn/T/pip-pip-egg-info-3t23gsaq/psycopg2.egg-info/PKG-INFO\n",
      "    writing dependency_links to /private/var/folders/kp/8mnpmyqn13jc_xv8jsjv1tf80000gn/T/pip-pip-egg-info-3t23gsaq/psycopg2.egg-info/dependency_links.txt\n",
      "    writing top-level names to /private/var/folders/kp/8mnpmyqn13jc_xv8jsjv1tf80000gn/T/pip-pip-egg-info-3t23gsaq/psycopg2.egg-info/top_level.txt\n",
      "    writing manifest file '/private/var/folders/kp/8mnpmyqn13jc_xv8jsjv1tf80000gn/T/pip-pip-egg-info-3t23gsaq/psycopg2.egg-info/SOURCES.txt'\n",
      "    \n",
      "    Error: pg_config executable not found.\n",
      "    \n",
      "    pg_config is required to build psycopg2 from source.  Please add the directory\n",
      "    containing pg_config to the $PATH or specify the full executable path with the\n",
      "    option:\n",
      "    \n",
      "        python setup.py build_ext --pg-config /path/to/pg_config build ...\n",
      "    \n",
      "    or with the pg_config option in 'setup.cfg'.\n",
      "    \n",
      "    If you prefer to avoid building psycopg2 from source, please install the PyPI\n",
      "    'psycopg2-binary' package instead.\n",
      "    \n",
      "    For further information please check the 'doc/src/install.rst' file (also at\n",
      "    <http://initd.org/psycopg/docs/install.html>).\n",
      "    \n",
      "    ----------------------------------------\u001b[0m\n",
      "\u001b[33mWARNING: Discarding https://files.pythonhosted.org/packages/5c/1c/6997288da181277a0c29bc39a5f9143ff20b8c99f2a7d059cfb55163e165/psycopg2-2.8.3.tar.gz#sha256=897a6e838319b4bf648a574afb6cabcb17d0488f8c7195100d48d872419f4457 (from https://pypi.org/simple/psycopg2/) (requires-python:>=2.7,!=3.0.*,!=3.1.*,!=3.2.*,!=3.3.*). Command errored out with exit status 1: python setup.py egg_info Check the logs for full command output.\u001b[0m\n",
      "\u001b[?25h  Downloading psycopg2-2.8.2.tar.gz (368 kB)\n",
      "\u001b[K     |████████████████████████████████| 368 kB 10.2 MB/s eta 0:00:01\n",
      "\u001b[31m    ERROR: Command errored out with exit status 1:\n",
      "     command: /opt/anaconda3/bin/python -c 'import sys, setuptools, tokenize; sys.argv[0] = '\"'\"'/private/var/folders/kp/8mnpmyqn13jc_xv8jsjv1tf80000gn/T/pip-install-g_okjcuv/psycopg2_889bfbcf710d48c688423f89e8333c03/setup.py'\"'\"'; __file__='\"'\"'/private/var/folders/kp/8mnpmyqn13jc_xv8jsjv1tf80000gn/T/pip-install-g_okjcuv/psycopg2_889bfbcf710d48c688423f89e8333c03/setup.py'\"'\"';f=getattr(tokenize, '\"'\"'open'\"'\"', open)(__file__);code=f.read().replace('\"'\"'\\r\\n'\"'\"', '\"'\"'\\n'\"'\"');f.close();exec(compile(code, __file__, '\"'\"'exec'\"'\"'))' egg_info --egg-base /private/var/folders/kp/8mnpmyqn13jc_xv8jsjv1tf80000gn/T/pip-pip-egg-info-_pa3g7c0\n",
      "         cwd: /private/var/folders/kp/8mnpmyqn13jc_xv8jsjv1tf80000gn/T/pip-install-g_okjcuv/psycopg2_889bfbcf710d48c688423f89e8333c03/\n",
      "    Complete output (23 lines):\n",
      "    running egg_info\n",
      "    creating /private/var/folders/kp/8mnpmyqn13jc_xv8jsjv1tf80000gn/T/pip-pip-egg-info-_pa3g7c0/psycopg2.egg-info\n",
      "    writing /private/var/folders/kp/8mnpmyqn13jc_xv8jsjv1tf80000gn/T/pip-pip-egg-info-_pa3g7c0/psycopg2.egg-info/PKG-INFO\n",
      "    writing dependency_links to /private/var/folders/kp/8mnpmyqn13jc_xv8jsjv1tf80000gn/T/pip-pip-egg-info-_pa3g7c0/psycopg2.egg-info/dependency_links.txt\n",
      "    writing top-level names to /private/var/folders/kp/8mnpmyqn13jc_xv8jsjv1tf80000gn/T/pip-pip-egg-info-_pa3g7c0/psycopg2.egg-info/top_level.txt\n",
      "    writing manifest file '/private/var/folders/kp/8mnpmyqn13jc_xv8jsjv1tf80000gn/T/pip-pip-egg-info-_pa3g7c0/psycopg2.egg-info/SOURCES.txt'\n",
      "    \n",
      "    Error: pg_config executable not found.\n",
      "    \n",
      "    pg_config is required to build psycopg2 from source.  Please add the directory\n",
      "    containing pg_config to the $PATH or specify the full executable path with the\n",
      "    option:\n",
      "    \n",
      "        python setup.py build_ext --pg-config /path/to/pg_config build ...\n",
      "    \n",
      "    or with the pg_config option in 'setup.cfg'.\n",
      "    \n",
      "    If you prefer to avoid building psycopg2 from source, please install the PyPI\n",
      "    'psycopg2-binary' package instead.\n",
      "    \n",
      "    For further information please check the 'doc/src/install.rst' file (also at\n",
      "    <http://initd.org/psycopg/docs/install.html>).\n",
      "    \n",
      "    ----------------------------------------\u001b[0m\n",
      "\u001b[33mWARNING: Discarding https://files.pythonhosted.org/packages/23/7e/93c325482c328619870b6cd09370f6dbe1148283daca65115cd63642e60f/psycopg2-2.8.2.tar.gz#sha256=5cacf21b6f813c239f100ef78a4132056f93a5940219ec25d2ef833cbeb05588 (from https://pypi.org/simple/psycopg2/) (requires-python:>=2.7,!=3.0.*,!=3.1.*,!=3.2.*,!=3.3.*). Command errored out with exit status 1: python setup.py egg_info Check the logs for full command output.\u001b[0m\n",
      "\u001b[?25h  Downloading psycopg2-2.8.1.tar.gz (367 kB)\n",
      "\u001b[K     |████████████████████████████████| 367 kB 13.3 MB/s eta 0:00:01\n",
      "\u001b[31m    ERROR: Command errored out with exit status 1:\n",
      "     command: /opt/anaconda3/bin/python -c 'import sys, setuptools, tokenize; sys.argv[0] = '\"'\"'/private/var/folders/kp/8mnpmyqn13jc_xv8jsjv1tf80000gn/T/pip-install-g_okjcuv/psycopg2_1dfd254e265b4add8d0957c399d20767/setup.py'\"'\"'; __file__='\"'\"'/private/var/folders/kp/8mnpmyqn13jc_xv8jsjv1tf80000gn/T/pip-install-g_okjcuv/psycopg2_1dfd254e265b4add8d0957c399d20767/setup.py'\"'\"';f=getattr(tokenize, '\"'\"'open'\"'\"', open)(__file__);code=f.read().replace('\"'\"'\\r\\n'\"'\"', '\"'\"'\\n'\"'\"');f.close();exec(compile(code, __file__, '\"'\"'exec'\"'\"'))' egg_info --egg-base /private/var/folders/kp/8mnpmyqn13jc_xv8jsjv1tf80000gn/T/pip-pip-egg-info-fy_sv9vh\n",
      "         cwd: /private/var/folders/kp/8mnpmyqn13jc_xv8jsjv1tf80000gn/T/pip-install-g_okjcuv/psycopg2_1dfd254e265b4add8d0957c399d20767/\n",
      "    Complete output (23 lines):\n",
      "    running egg_info\n",
      "    creating /private/var/folders/kp/8mnpmyqn13jc_xv8jsjv1tf80000gn/T/pip-pip-egg-info-fy_sv9vh/psycopg2.egg-info\n",
      "    writing /private/var/folders/kp/8mnpmyqn13jc_xv8jsjv1tf80000gn/T/pip-pip-egg-info-fy_sv9vh/psycopg2.egg-info/PKG-INFO\n",
      "    writing dependency_links to /private/var/folders/kp/8mnpmyqn13jc_xv8jsjv1tf80000gn/T/pip-pip-egg-info-fy_sv9vh/psycopg2.egg-info/dependency_links.txt\n",
      "    writing top-level names to /private/var/folders/kp/8mnpmyqn13jc_xv8jsjv1tf80000gn/T/pip-pip-egg-info-fy_sv9vh/psycopg2.egg-info/top_level.txt\n",
      "    writing manifest file '/private/var/folders/kp/8mnpmyqn13jc_xv8jsjv1tf80000gn/T/pip-pip-egg-info-fy_sv9vh/psycopg2.egg-info/SOURCES.txt'\n",
      "    \n",
      "    Error: pg_config executable not found.\n",
      "    \n",
      "    pg_config is required to build psycopg2 from source.  Please add the directory\n",
      "    containing pg_config to the $PATH or specify the full executable path with the\n",
      "    option:\n",
      "    \n",
      "        python setup.py build_ext --pg-config /path/to/pg_config build ...\n",
      "    \n",
      "    or with the pg_config option in 'setup.cfg'.\n",
      "    \n",
      "    If you prefer to avoid building psycopg2 from source, please install the PyPI\n",
      "    'psycopg2-binary' package instead.\n",
      "    \n",
      "    For further information please check the 'doc/src/install.rst' file (also at\n",
      "    <http://initd.org/psycopg/docs/install.html>).\n",
      "    \n",
      "    ----------------------------------------\u001b[0m\n",
      "\u001b[33mWARNING: Discarding https://files.pythonhosted.org/packages/52/be/f898e712f5f08131d651a62754fca82a1deb42e4e9889ad01932f770a2be/psycopg2-2.8.1.tar.gz#sha256=b4a475ce87eabc0607e068a3c704d0aa0820237ed78d493b8e2d880eb73cd7fe (from https://pypi.org/simple/psycopg2/) (requires-python:>=2.7,!=3.0.*,!=3.1.*,!=3.2.*,!=3.3.*). Command errored out with exit status 1: python setup.py egg_info Check the logs for full command output.\u001b[0m\n"
     ]
    },
    {
     "name": "stdout",
     "output_type": "stream",
     "text": [
      "\u001b[?25h  Downloading psycopg2-2.8.tar.gz (367 kB)\n",
      "\u001b[K     |████████████████████████████████| 367 kB 17.3 MB/s eta 0:00:01\n",
      "\u001b[31m    ERROR: Command errored out with exit status 1:\n",
      "     command: /opt/anaconda3/bin/python -c 'import sys, setuptools, tokenize; sys.argv[0] = '\"'\"'/private/var/folders/kp/8mnpmyqn13jc_xv8jsjv1tf80000gn/T/pip-install-g_okjcuv/psycopg2_62791ec640004e20a6fb511b59fcc674/setup.py'\"'\"'; __file__='\"'\"'/private/var/folders/kp/8mnpmyqn13jc_xv8jsjv1tf80000gn/T/pip-install-g_okjcuv/psycopg2_62791ec640004e20a6fb511b59fcc674/setup.py'\"'\"';f=getattr(tokenize, '\"'\"'open'\"'\"', open)(__file__);code=f.read().replace('\"'\"'\\r\\n'\"'\"', '\"'\"'\\n'\"'\"');f.close();exec(compile(code, __file__, '\"'\"'exec'\"'\"'))' egg_info --egg-base /private/var/folders/kp/8mnpmyqn13jc_xv8jsjv1tf80000gn/T/pip-pip-egg-info-u8vt0alb\n",
      "         cwd: /private/var/folders/kp/8mnpmyqn13jc_xv8jsjv1tf80000gn/T/pip-install-g_okjcuv/psycopg2_62791ec640004e20a6fb511b59fcc674/\n",
      "    Complete output (23 lines):\n",
      "    running egg_info\n",
      "    creating /private/var/folders/kp/8mnpmyqn13jc_xv8jsjv1tf80000gn/T/pip-pip-egg-info-u8vt0alb/psycopg2.egg-info\n",
      "    writing /private/var/folders/kp/8mnpmyqn13jc_xv8jsjv1tf80000gn/T/pip-pip-egg-info-u8vt0alb/psycopg2.egg-info/PKG-INFO\n",
      "    writing dependency_links to /private/var/folders/kp/8mnpmyqn13jc_xv8jsjv1tf80000gn/T/pip-pip-egg-info-u8vt0alb/psycopg2.egg-info/dependency_links.txt\n",
      "    writing top-level names to /private/var/folders/kp/8mnpmyqn13jc_xv8jsjv1tf80000gn/T/pip-pip-egg-info-u8vt0alb/psycopg2.egg-info/top_level.txt\n",
      "    writing manifest file '/private/var/folders/kp/8mnpmyqn13jc_xv8jsjv1tf80000gn/T/pip-pip-egg-info-u8vt0alb/psycopg2.egg-info/SOURCES.txt'\n",
      "    \n",
      "    Error: pg_config executable not found.\n",
      "    \n",
      "    pg_config is required to build psycopg2 from source.  Please add the directory\n",
      "    containing pg_config to the $PATH or specify the full executable path with the\n",
      "    option:\n",
      "    \n",
      "        python setup.py build_ext --pg-config /path/to/pg_config build ...\n",
      "    \n",
      "    or with the pg_config option in 'setup.cfg'.\n",
      "    \n",
      "    If you prefer to avoid building psycopg2 from source, please install the PyPI\n",
      "    'psycopg2-binary' package instead.\n",
      "    \n",
      "    For further information please check the 'doc/src/install.rst' file (also at\n",
      "    <http://initd.org/psycopg/docs/install.html>).\n",
      "    \n",
      "    ----------------------------------------\u001b[0m\n",
      "\u001b[33mWARNING: Discarding https://files.pythonhosted.org/packages/c7/ca/75236b17f1b951950ffc55d657c5aa408d3d0327a1b6c4c0f7cb16ef7e7b/psycopg2-2.8.tar.gz#sha256=49c5838d90e83217909db3789d30a105385b5e696ec5168cda645546c542f35a (from https://pypi.org/simple/psycopg2/) (requires-python:>=2.7,!=3.0.*,!=3.1.*,!=3.2.*,!=3.3.*). Command errored out with exit status 1: python setup.py egg_info Check the logs for full command output.\u001b[0m\n",
      "\u001b[?25h  Downloading psycopg2-2.7.7-cp37-cp37m-macosx_10_6_intel.macosx_10_9_intel.macosx_10_9_x86_64.macosx_10_10_intel.macosx_10_10_x86_64.whl (1.5 MB)\n",
      "\u001b[K     |████████████████████████████████| 1.5 MB 8.8 MB/s eta 0:00:01\n",
      "\u001b[?25hCollecting pulsar\n",
      "  Using cached pulsar-2.0.2-py3-none-any.whl (280 kB)\n",
      "Requirement already satisfied: multidict in /opt/anaconda3/lib/python3.7/site-packages (from pulsar->pulsar-odm->lux) (5.1.0)\n",
      "Requirement already satisfied: six>=1.5 in /opt/anaconda3/lib/python3.7/site-packages (from python-dateutil->lux) (1.12.0)\n",
      "Building wheels for collected packages: pulsar-odm\n",
      "  Building wheel for pulsar-odm (setup.py) ... \u001b[?25ldone\n",
      "\u001b[?25h  Created wheel for pulsar-odm: filename=pulsar_odm-0.7.0-py3-none-any.whl size=16987 sha256=11fb1a7e94471032f7972a0a8e2c762580176f3d86af32dd6b70a497487570b1\n",
      "  Stored in directory: /Users/gaetanoantonicchio/Library/Caches/pip/wheels/32/24/d8/2e559a0d244f6998e03186b4b4b4b937c6e90a5d7697b627fb\n",
      "Successfully built pulsar-odm\n",
      "Installing collected packages: pulsar, psycopg2, pyjwt, pulsar-odm, lux\n",
      "Successfully installed lux-0.8.2 psycopg2-2.7.7 pulsar-2.0.2 pulsar-odm-0.7.0 pyjwt-2.0.1\n",
      "Note: you may need to restart the kernel to use updated packages.\n"
     ]
    }
   ],
   "source": [
    "pip install lux"
   ]
  },
  {
   "cell_type": "code",
   "execution_count": 4,
   "metadata": {},
   "outputs": [
    {
     "name": "stdout",
     "output_type": "stream",
     "text": [
      "Collecting lux-api==0.2.3\n",
      "  Downloading lux-api-0.2.3.tar.gz (94 kB)\n",
      "\u001b[K     |████████████████████████████████| 94 kB 2.3 MB/s eta 0:00:01\n",
      "\u001b[?25hRequirement already satisfied: scipy>=1.3.3 in /opt/anaconda3/lib/python3.7/site-packages (from lux-api==0.2.3) (1.6.1)\n",
      "Collecting altair>=4.0.0\n",
      "  Downloading altair-4.1.0-py3-none-any.whl (727 kB)\n",
      "\u001b[K     |████████████████████████████████| 727 kB 15.2 MB/s eta 0:00:01\n",
      "\u001b[?25hRequirement already satisfied: numpy>=1.16.5 in /opt/anaconda3/lib/python3.7/site-packages (from lux-api==0.2.3) (1.17.2)\n",
      "Requirement already satisfied: pandas>=1.1.0 in /opt/anaconda3/lib/python3.7/site-packages (from lux-api==0.2.3) (1.2.2)\n",
      "Requirement already satisfied: scikit-learn>=0.22 in /opt/anaconda3/lib/python3.7/site-packages (from lux-api==0.2.3) (0.23.2)\n",
      "Requirement already satisfied: matplotlib>=3.0.0 in /opt/anaconda3/lib/python3.7/site-packages (from lux-api==0.2.3) (3.1.3)\n",
      "Collecting lux-widget>=0.1.4\n",
      "  Downloading lux-widget-0.1.4.tar.gz (2.1 MB)\n",
      "\u001b[K     |████████████████████████████████| 2.1 MB 15.8 MB/s eta 0:00:01\n",
      "\u001b[?25hRequirement already satisfied: toolz in /opt/anaconda3/lib/python3.7/site-packages (from altair>=4.0.0->lux-api==0.2.3) (0.10.0)\n",
      "Requirement already satisfied: jsonschema in /opt/anaconda3/lib/python3.7/site-packages (from altair>=4.0.0->lux-api==0.2.3) (3.0.2)\n",
      "Requirement already satisfied: jinja2 in /opt/anaconda3/lib/python3.7/site-packages (from altair>=4.0.0->lux-api==0.2.3) (2.11.3)\n",
      "Requirement already satisfied: entrypoints in /opt/anaconda3/lib/python3.7/site-packages (from altair>=4.0.0->lux-api==0.2.3) (0.3)\n",
      "Requirement already satisfied: jupyter in /opt/anaconda3/lib/python3.7/site-packages (from lux-widget>=0.1.4->lux-api==0.2.3) (1.0.0)\n",
      "Requirement already satisfied: notebook>=4.0.0 in /opt/anaconda3/lib/python3.7/site-packages (from lux-widget>=0.1.4->lux-api==0.2.3) (6.0.1)\n",
      "Requirement already satisfied: ipywidgets>=7.5.0 in /opt/anaconda3/lib/python3.7/site-packages (from lux-widget>=0.1.4->lux-api==0.2.3) (7.5.1)\n",
      "Requirement already satisfied: widgetsnbextension~=3.5.0 in /opt/anaconda3/lib/python3.7/site-packages (from ipywidgets>=7.5.0->lux-widget>=0.1.4->lux-api==0.2.3) (3.5.1)\n",
      "Requirement already satisfied: ipython>=4.0.0 in /opt/anaconda3/lib/python3.7/site-packages (from ipywidgets>=7.5.0->lux-widget>=0.1.4->lux-api==0.2.3) (7.8.0)\n",
      "Requirement already satisfied: traitlets>=4.3.1 in /opt/anaconda3/lib/python3.7/site-packages (from ipywidgets>=7.5.0->lux-widget>=0.1.4->lux-api==0.2.3) (4.3.3)\n",
      "Requirement already satisfied: ipykernel>=4.5.1 in /opt/anaconda3/lib/python3.7/site-packages (from ipywidgets>=7.5.0->lux-widget>=0.1.4->lux-api==0.2.3) (5.1.2)\n",
      "Requirement already satisfied: nbformat>=4.2.0 in /opt/anaconda3/lib/python3.7/site-packages (from ipywidgets>=7.5.0->lux-widget>=0.1.4->lux-api==0.2.3) (4.4.0)\n",
      "Requirement already satisfied: tornado>=4.2 in /opt/anaconda3/lib/python3.7/site-packages (from ipykernel>=4.5.1->ipywidgets>=7.5.0->lux-widget>=0.1.4->lux-api==0.2.3) (6.0.3)\n",
      "Requirement already satisfied: jupyter-client in /opt/anaconda3/lib/python3.7/site-packages (from ipykernel>=4.5.1->ipywidgets>=7.5.0->lux-widget>=0.1.4->lux-api==0.2.3) (5.3.3)\n",
      "Requirement already satisfied: setuptools>=18.5 in /opt/anaconda3/lib/python3.7/site-packages (from ipython>=4.0.0->ipywidgets>=7.5.0->lux-widget>=0.1.4->lux-api==0.2.3) (53.0.0)\n",
      "Requirement already satisfied: decorator in /opt/anaconda3/lib/python3.7/site-packages (from ipython>=4.0.0->ipywidgets>=7.5.0->lux-widget>=0.1.4->lux-api==0.2.3) (4.4.0)\n",
      "Requirement already satisfied: appnope in /opt/anaconda3/lib/python3.7/site-packages (from ipython>=4.0.0->ipywidgets>=7.5.0->lux-widget>=0.1.4->lux-api==0.2.3) (0.1.0)\n",
      "Requirement already satisfied: backcall in /opt/anaconda3/lib/python3.7/site-packages (from ipython>=4.0.0->ipywidgets>=7.5.0->lux-widget>=0.1.4->lux-api==0.2.3) (0.1.0)\n",
      "Requirement already satisfied: jedi>=0.10 in /opt/anaconda3/lib/python3.7/site-packages (from ipython>=4.0.0->ipywidgets>=7.5.0->lux-widget>=0.1.4->lux-api==0.2.3) (0.15.1)\n",
      "Requirement already satisfied: pygments in /opt/anaconda3/lib/python3.7/site-packages (from ipython>=4.0.0->ipywidgets>=7.5.0->lux-widget>=0.1.4->lux-api==0.2.3) (2.4.2)\n",
      "Requirement already satisfied: pexpect in /opt/anaconda3/lib/python3.7/site-packages (from ipython>=4.0.0->ipywidgets>=7.5.0->lux-widget>=0.1.4->lux-api==0.2.3) (4.7.0)\n",
      "Requirement already satisfied: prompt-toolkit<2.1.0,>=2.0.0 in /opt/anaconda3/lib/python3.7/site-packages (from ipython>=4.0.0->ipywidgets>=7.5.0->lux-widget>=0.1.4->lux-api==0.2.3) (2.0.10)\n",
      "Requirement already satisfied: pickleshare in /opt/anaconda3/lib/python3.7/site-packages (from ipython>=4.0.0->ipywidgets>=7.5.0->lux-widget>=0.1.4->lux-api==0.2.3) (0.7.5)\n",
      "Requirement already satisfied: parso>=0.5.0 in /opt/anaconda3/lib/python3.7/site-packages (from jedi>=0.10->ipython>=4.0.0->ipywidgets>=7.5.0->lux-widget>=0.1.4->lux-api==0.2.3) (0.5.1)\n",
      "Requirement already satisfied: python-dateutil>=2.1 in /opt/anaconda3/lib/python3.7/site-packages (from matplotlib>=3.0.0->lux-api==0.2.3) (2.8.0)\n",
      "Requirement already satisfied: cycler>=0.10 in /opt/anaconda3/lib/python3.7/site-packages (from matplotlib>=3.0.0->lux-api==0.2.3) (0.10.0)\n",
      "Requirement already satisfied: kiwisolver>=1.0.1 in /opt/anaconda3/lib/python3.7/site-packages (from matplotlib>=3.0.0->lux-api==0.2.3) (1.1.0)\n",
      "Requirement already satisfied: pyparsing!=2.0.4,!=2.1.2,!=2.1.6,>=2.0.1 in /opt/anaconda3/lib/python3.7/site-packages (from matplotlib>=3.0.0->lux-api==0.2.3) (2.4.2)\n",
      "Requirement already satisfied: six in /opt/anaconda3/lib/python3.7/site-packages (from cycler>=0.10->matplotlib>=3.0.0->lux-api==0.2.3) (1.12.0)\n",
      "Requirement already satisfied: ipython-genutils in /opt/anaconda3/lib/python3.7/site-packages (from nbformat>=4.2.0->ipywidgets>=7.5.0->lux-widget>=0.1.4->lux-api==0.2.3) (0.2.0)\n",
      "Requirement already satisfied: jupyter-core in /opt/anaconda3/lib/python3.7/site-packages (from nbformat>=4.2.0->ipywidgets>=7.5.0->lux-widget>=0.1.4->lux-api==0.2.3) (4.5.0)\n",
      "Requirement already satisfied: pyrsistent>=0.14.0 in /opt/anaconda3/lib/python3.7/site-packages (from jsonschema->altair>=4.0.0->lux-api==0.2.3) (0.15.4)\n",
      "Requirement already satisfied: attrs>=17.4.0 in /opt/anaconda3/lib/python3.7/site-packages (from jsonschema->altair>=4.0.0->lux-api==0.2.3) (20.3.0)\n",
      "Requirement already satisfied: nbconvert in /opt/anaconda3/lib/python3.7/site-packages (from notebook>=4.0.0->lux-widget>=0.1.4->lux-api==0.2.3) (5.6.0)\n",
      "Requirement already satisfied: pyzmq>=17 in /opt/anaconda3/lib/python3.7/site-packages (from notebook>=4.0.0->lux-widget>=0.1.4->lux-api==0.2.3) (18.1.0)\n",
      "Requirement already satisfied: prometheus-client in /opt/anaconda3/lib/python3.7/site-packages (from notebook>=4.0.0->lux-widget>=0.1.4->lux-api==0.2.3) (0.7.1)\n",
      "Requirement already satisfied: terminado>=0.8.1 in /opt/anaconda3/lib/python3.7/site-packages (from notebook>=4.0.0->lux-widget>=0.1.4->lux-api==0.2.3) (0.8.2)\n",
      "Requirement already satisfied: Send2Trash in /opt/anaconda3/lib/python3.7/site-packages (from notebook>=4.0.0->lux-widget>=0.1.4->lux-api==0.2.3) (1.5.0)\n",
      "Requirement already satisfied: pytz>=2017.3 in /opt/anaconda3/lib/python3.7/site-packages (from pandas>=1.1.0->lux-api==0.2.3) (2019.3)\n",
      "Requirement already satisfied: wcwidth in /opt/anaconda3/lib/python3.7/site-packages (from prompt-toolkit<2.1.0,>=2.0.0->ipython>=4.0.0->ipywidgets>=7.5.0->lux-widget>=0.1.4->lux-api==0.2.3) (0.1.7)\n",
      "Requirement already satisfied: joblib>=0.11 in /opt/anaconda3/lib/python3.7/site-packages (from scikit-learn>=0.22->lux-api==0.2.3) (1.0.1)\n",
      "Requirement already satisfied: threadpoolctl>=2.0.0 in /opt/anaconda3/lib/python3.7/site-packages (from scikit-learn>=0.22->lux-api==0.2.3) (2.1.0)\n",
      "Requirement already satisfied: MarkupSafe>=0.23 in /opt/anaconda3/lib/python3.7/site-packages (from jinja2->altair>=4.0.0->lux-api==0.2.3) (1.1.1)\n",
      "Requirement already satisfied: jupyter-console in /opt/anaconda3/lib/python3.7/site-packages (from jupyter->lux-widget>=0.1.4->lux-api==0.2.3) (6.0.0)\n",
      "Requirement already satisfied: qtconsole in /opt/anaconda3/lib/python3.7/site-packages (from jupyter->lux-widget>=0.1.4->lux-api==0.2.3) (4.5.5)\n",
      "Requirement already satisfied: bleach in /opt/anaconda3/lib/python3.7/site-packages (from nbconvert->notebook>=4.0.0->lux-widget>=0.1.4->lux-api==0.2.3) (3.1.0)\n",
      "Requirement already satisfied: defusedxml in /opt/anaconda3/lib/python3.7/site-packages (from nbconvert->notebook>=4.0.0->lux-widget>=0.1.4->lux-api==0.2.3) (0.6.0)\n",
      "Requirement already satisfied: mistune<2,>=0.8.1 in /opt/anaconda3/lib/python3.7/site-packages (from nbconvert->notebook>=4.0.0->lux-widget>=0.1.4->lux-api==0.2.3) (0.8.4)\n",
      "Requirement already satisfied: testpath in /opt/anaconda3/lib/python3.7/site-packages (from nbconvert->notebook>=4.0.0->lux-widget>=0.1.4->lux-api==0.2.3) (0.4.2)\n",
      "Requirement already satisfied: pandocfilters>=1.4.1 in /opt/anaconda3/lib/python3.7/site-packages (from nbconvert->notebook>=4.0.0->lux-widget>=0.1.4->lux-api==0.2.3) (1.4.2)\n"
     ]
    },
    {
     "name": "stdout",
     "output_type": "stream",
     "text": [
      "Requirement already satisfied: webencodings in /opt/anaconda3/lib/python3.7/site-packages (from bleach->nbconvert->notebook>=4.0.0->lux-widget>=0.1.4->lux-api==0.2.3) (0.5.1)\n",
      "Requirement already satisfied: ptyprocess>=0.5 in /opt/anaconda3/lib/python3.7/site-packages (from pexpect->ipython>=4.0.0->ipywidgets>=7.5.0->lux-widget>=0.1.4->lux-api==0.2.3) (0.6.0)\n",
      "Building wheels for collected packages: lux-api, lux-widget\n",
      "  Building wheel for lux-api (setup.py) ... \u001b[?25ldone\n",
      "\u001b[?25h  Created wheel for lux-api: filename=lux_api-0.2.3-py3-none-any.whl size=146693 sha256=03f7ec21ebb255557e83d7a208f8a92b8b6f2a9c29eb6e11ae8f329fc253b139\n",
      "  Stored in directory: /Users/gaetanoantonicchio/Library/Caches/pip/wheels/1f/7d/6c/188b2a11db0c9893299e592cc4d8082fa957cf73c2d13f1e8e\n",
      "  Building wheel for lux-widget (setup.py) ... \u001b[?25ldone\n",
      "\u001b[?25h  Created wheel for lux-widget: filename=lux_widget-0.1.4-py3-none-any.whl size=4294795 sha256=6ce635eb84fdc7dba024de544645983aabb5ed1716108297f0ae50f48e50dcd3\n",
      "  Stored in directory: /Users/gaetanoantonicchio/Library/Caches/pip/wheels/e7/61/3c/acb94341081e494f5591c46647ea273bbce2a804731067d13b\n",
      "Successfully built lux-api lux-widget\n",
      "Installing collected packages: lux-widget, altair, lux-api\n",
      "Successfully installed altair-4.1.0 lux-api-0.2.3 lux-widget-0.1.4\n",
      "Note: you may need to restart the kernel to use updated packages.\n"
     ]
    }
   ],
   "source": [
    "pip install lux-api==0.2.3"
   ]
  },
  {
   "cell_type": "code",
   "execution_count": 23,
   "metadata": {},
   "outputs": [
    {
     "ename": "SyntaxError",
     "evalue": "invalid syntax (<ipython-input-23-783680764391>, line 1)",
     "output_type": "error",
     "traceback": [
      "\u001b[0;36m  File \u001b[0;32m\"<ipython-input-23-783680764391>\"\u001b[0;36m, line \u001b[0;32m1\u001b[0m\n\u001b[0;31m    jupyter labextension install @jupyter-widgets/jupyterlab-manager\u001b[0m\n\u001b[0m                       ^\u001b[0m\n\u001b[0;31mSyntaxError\u001b[0m\u001b[0;31m:\u001b[0m invalid syntax\n"
     ]
    }
   ],
   "source": [
    "jupyter labextension install @jupyter-widgets/jupyterlab-manager\n",
    "jupyter labextension install luxwidget"
   ]
  },
  {
   "cell_type": "code",
   "execution_count": 6,
   "metadata": {},
   "outputs": [
    {
     "name": "stderr",
     "output_type": "stream",
     "text": [
      "/opt/anaconda3/lib/python3.7/site-packages/IPython/core/interactiveshell.py:3058: DtypeWarning: Columns (0,1,2,3,4,5,6,7,8,11,13,16,17,18,19,20,21,22,23,24,25,26,27,28,29,30,31,32,33,34,35,36,37,38,39,40,41,42,43,44,45,46,47,48,49,50,51,52,53,54,55,56,57,58,59,60,61,62,63,64,65,66,67,68,69,70,71,72,73,74,75,76,77,78,79,80,81,82,83,84,85,86,87,88,89,90,91,92,93,94,95,96,97,98,99,100,101,102,103,104,105,106,107,108,109,110,111,112,113,114,115,116,117,118,119,120,121,122,123,124,125,126,127,128,129,130,131,132,133,134,135,136,137,138,139,140,141,142,143,144,145,146,147,148,149,150,151,152,153,154,155,156,157,158,159,160,161,162,163,164,165,166,167,168,169,170,171,172,173,174,175,176,177,178,179,180,181,182,183,184,185,186,187,188,189,190,191,192,193,194,195,196,197,198,199,200,201,202,203,204,205,206,207,208,209,210,211,212,213,214,215,216,217,218,219,220,221,222,223,224,225,226,227,228,229,230,231,232,233,234,235,236,237,238,239,240,241,242,243,244,245,246,247,248,249) have mixed types.Specify dtype option on import or set low_memory=False.\n",
      "  interactivity=interactivity, compiler=compiler, result=result)\n"
     ]
    }
   ],
   "source": [
    "data =pd.read_csv('/Users/gaetanoantonicchio/Desktop/dataset_DM2/fma_metadata/echonest.csv')"
   ]
  },
  {
   "cell_type": "code",
   "execution_count": 10,
   "metadata": {},
   "outputs": [],
   "source": [
    "data.dropna(axis=0, inplace=True)"
   ]
  },
  {
   "cell_type": "code",
   "execution_count": 12,
   "metadata": {},
   "outputs": [
    {
     "data": {
      "text/html": [
       "<div>\n",
       "<style scoped>\n",
       "    .dataframe tbody tr th:only-of-type {\n",
       "        vertical-align: middle;\n",
       "    }\n",
       "\n",
       "    .dataframe tbody tr th {\n",
       "        vertical-align: top;\n",
       "    }\n",
       "\n",
       "    .dataframe thead th {\n",
       "        text-align: right;\n",
       "    }\n",
       "</style>\n",
       "<table border=\"1\" class=\"dataframe\">\n",
       "  <thead>\n",
       "    <tr style=\"text-align: right;\">\n",
       "      <th></th>\n",
       "      <th>echonest</th>\n",
       "      <th>echonest.1</th>\n",
       "    </tr>\n",
       "  </thead>\n",
       "  <tbody>\n",
       "    <tr>\n",
       "      <th>6</th>\n",
       "      <td>0.9516699648</td>\n",
       "      <td>0.6581786543</td>\n",
       "    </tr>\n",
       "    <tr>\n",
       "      <th>54</th>\n",
       "      <td>0.9337410350</td>\n",
       "      <td>0.3127198225</td>\n",
       "    </tr>\n",
       "    <tr>\n",
       "      <th>199</th>\n",
       "      <td>0.3423262003</td>\n",
       "      <td>0.1760942769</td>\n",
       "    </tr>\n",
       "    <tr>\n",
       "      <th>200</th>\n",
       "      <td>0.3049734899</td>\n",
       "      <td>0.0776074462</td>\n",
       "    </tr>\n",
       "    <tr>\n",
       "      <th>202</th>\n",
       "      <td>0.0005734873</td>\n",
       "      <td>0.2806028598</td>\n",
       "    </tr>\n",
       "    <tr>\n",
       "      <th>...</th>\n",
       "      <td>...</td>\n",
       "      <td>...</td>\n",
       "    </tr>\n",
       "    <tr>\n",
       "      <th>12765</th>\n",
       "      <td>0.735016</td>\n",
       "      <td>0.654465</td>\n",
       "    </tr>\n",
       "    <tr>\n",
       "      <th>12987</th>\n",
       "      <td>0.000004</td>\n",
       "      <td>0.303615</td>\n",
       "    </tr>\n",
       "    <tr>\n",
       "      <th>13011</th>\n",
       "      <td>0.995699</td>\n",
       "      <td>0.699354</td>\n",
       "    </tr>\n",
       "    <tr>\n",
       "      <th>13110</th>\n",
       "      <td>0.992387</td>\n",
       "      <td>0.606253</td>\n",
       "    </tr>\n",
       "    <tr>\n",
       "      <th>13131</th>\n",
       "      <td>0.993606</td>\n",
       "      <td>0.499339</td>\n",
       "    </tr>\n",
       "  </tbody>\n",
       "</table>\n",
       "<p>583 rows × 2 columns</p>\n",
       "</div>"
      ],
      "text/plain": [
       "           echonest    echonest.1\n",
       "6      0.9516699648  0.6581786543\n",
       "54     0.9337410350  0.3127198225\n",
       "199    0.3423262003  0.1760942769\n",
       "200    0.3049734899  0.0776074462\n",
       "202    0.0005734873  0.2806028598\n",
       "...             ...           ...\n",
       "12765      0.735016      0.654465\n",
       "12987      0.000004      0.303615\n",
       "13011      0.995699      0.699354\n",
       "13110      0.992387      0.606253\n",
       "13131      0.993606      0.499339\n",
       "\n",
       "[583 rows x 2 columns]"
      ]
     },
     "execution_count": 12,
     "metadata": {},
     "output_type": "execute_result"
    }
   ],
   "source": [
    "data[['echonest','echonest.1']]"
   ]
  },
  {
   "cell_type": "markdown",
   "metadata": {},
   "source": [
    "---------\n",
    "### Partition: Echonest - Audio Features\n",
    "---------\n",
    "#### 1. Data Understanding"
   ]
  },
  {
   "cell_type": "code",
   "execution_count": 9,
   "metadata": {
    "pycharm": {
     "name": "#%%\n"
    }
   },
   "outputs": [
    {
     "name": "stdout",
     "output_type": "stream",
     "text": [
      "**** Available data (%) ****\n",
      " echonest.csv - audio_features\n"
     ]
    },
    {
     "data": {
      "text/plain": [
       "acousticness        100.0\n",
       "danceability        100.0\n",
       "energy              100.0\n",
       "instrumentalness    100.0\n",
       "liveness            100.0\n",
       "speechiness         100.0\n",
       "tempo               100.0\n",
       "valence             100.0\n",
       "dtype: float64"
      ]
     },
     "execution_count": 9,
     "metadata": {},
     "output_type": "execute_result"
    }
   ],
   "source": [
    "print('**** Available data (%) ****\\n echonest.csv - audio_features')\n",
    "((abs(echonest['echonest','audio_features'].isnull().sum()-\\\n",
    "      echonest['echonest','audio_features'].shape[0])\\\n",
    "  /echonest['echonest','audio_features'].shape[0])*100).round(2).sort_values(ascending=False)"
   ]
  },
  {
   "cell_type": "markdown",
   "metadata": {
    "pycharm": {
     "name": "#%% md\n"
    }
   },
   "source": [
    "There are no missing values."
   ]
  },
  {
   "cell_type": "code",
   "execution_count": 10,
   "metadata": {
    "pycharm": {
     "name": "#%%\n"
    }
   },
   "outputs": [],
   "source": [
    "# extract dataset - partition: audio_features\n",
    "audio_features_dataset = echonest['echonest','audio_features'].copy()"
   ]
  },
  {
   "cell_type": "code",
   "execution_count": 11,
   "metadata": {
    "pycharm": {
     "name": "#%%\n"
    }
   },
   "outputs": [
    {
     "data": {
      "text/html": [
       "<div>\n",
       "<style scoped>\n",
       "    .dataframe tbody tr th:only-of-type {\n",
       "        vertical-align: middle;\n",
       "    }\n",
       "\n",
       "    .dataframe tbody tr th {\n",
       "        vertical-align: top;\n",
       "    }\n",
       "\n",
       "    .dataframe thead th {\n",
       "        text-align: right;\n",
       "    }\n",
       "</style>\n",
       "<table border=\"1\" class=\"dataframe\">\n",
       "  <thead>\n",
       "    <tr style=\"text-align: right;\">\n",
       "      <th></th>\n",
       "      <th>acousticness</th>\n",
       "      <th>danceability</th>\n",
       "      <th>energy</th>\n",
       "      <th>instrumentalness</th>\n",
       "      <th>liveness</th>\n",
       "      <th>speechiness</th>\n",
       "      <th>tempo</th>\n",
       "      <th>valence</th>\n",
       "    </tr>\n",
       "  </thead>\n",
       "  <tbody>\n",
       "    <tr>\n",
       "      <th>count</th>\n",
       "      <td>1.312900e+04</td>\n",
       "      <td>13129.000000</td>\n",
       "      <td>13129.000000</td>\n",
       "      <td>13129.000000</td>\n",
       "      <td>13129.000000</td>\n",
       "      <td>13129.000000</td>\n",
       "      <td>13129.000000</td>\n",
       "      <td>13129.000000</td>\n",
       "    </tr>\n",
       "    <tr>\n",
       "      <th>mean</th>\n",
       "      <td>5.246876e-01</td>\n",
       "      <td>0.487290</td>\n",
       "      <td>0.537516</td>\n",
       "      <td>0.640536</td>\n",
       "      <td>0.187804</td>\n",
       "      <td>0.099174</td>\n",
       "      <td>123.080061</td>\n",
       "      <td>0.439761</td>\n",
       "    </tr>\n",
       "    <tr>\n",
       "      <th>std</th>\n",
       "      <td>3.837186e-01</td>\n",
       "      <td>0.190148</td>\n",
       "      <td>0.278049</td>\n",
       "      <td>0.361430</td>\n",
       "      <td>0.158051</td>\n",
       "      <td>0.137381</td>\n",
       "      <td>35.015137</td>\n",
       "      <td>0.276028</td>\n",
       "    </tr>\n",
       "    <tr>\n",
       "      <th>min</th>\n",
       "      <td>9.035000e-07</td>\n",
       "      <td>0.051307</td>\n",
       "      <td>0.000020</td>\n",
       "      <td>0.000000</td>\n",
       "      <td>0.025297</td>\n",
       "      <td>0.022324</td>\n",
       "      <td>12.753000</td>\n",
       "      <td>0.000010</td>\n",
       "    </tr>\n",
       "    <tr>\n",
       "      <th>25%</th>\n",
       "      <td>1.037726e-01</td>\n",
       "      <td>0.344759</td>\n",
       "      <td>0.321300</td>\n",
       "      <td>0.323466</td>\n",
       "      <td>0.101406</td>\n",
       "      <td>0.036932</td>\n",
       "      <td>95.967000</td>\n",
       "      <td>0.197321</td>\n",
       "    </tr>\n",
       "    <tr>\n",
       "      <th>50%</th>\n",
       "      <td>5.739848e-01</td>\n",
       "      <td>0.485635</td>\n",
       "      <td>0.549113</td>\n",
       "      <td>0.838134</td>\n",
       "      <td>0.119002</td>\n",
       "      <td>0.049019</td>\n",
       "      <td>120.057000</td>\n",
       "      <td>0.417743</td>\n",
       "    </tr>\n",
       "    <tr>\n",
       "      <th>75%</th>\n",
       "      <td>9.207270e-01</td>\n",
       "      <td>0.629094</td>\n",
       "      <td>0.776254</td>\n",
       "      <td>0.918244</td>\n",
       "      <td>0.211041</td>\n",
       "      <td>0.085452</td>\n",
       "      <td>145.318000</td>\n",
       "      <td>0.665575</td>\n",
       "    </tr>\n",
       "    <tr>\n",
       "      <th>max</th>\n",
       "      <td>9.957965e-01</td>\n",
       "      <td>0.968645</td>\n",
       "      <td>0.999964</td>\n",
       "      <td>0.998016</td>\n",
       "      <td>0.980330</td>\n",
       "      <td>0.966177</td>\n",
       "      <td>251.072000</td>\n",
       "      <td>0.999990</td>\n",
       "    </tr>\n",
       "  </tbody>\n",
       "</table>\n",
       "</div>"
      ],
      "text/plain": [
       "       acousticness  danceability        energy  instrumentalness  \\\n",
       "count  1.312900e+04  13129.000000  13129.000000      13129.000000   \n",
       "mean   5.246876e-01      0.487290      0.537516          0.640536   \n",
       "std    3.837186e-01      0.190148      0.278049          0.361430   \n",
       "min    9.035000e-07      0.051307      0.000020          0.000000   \n",
       "25%    1.037726e-01      0.344759      0.321300          0.323466   \n",
       "50%    5.739848e-01      0.485635      0.549113          0.838134   \n",
       "75%    9.207270e-01      0.629094      0.776254          0.918244   \n",
       "max    9.957965e-01      0.968645      0.999964          0.998016   \n",
       "\n",
       "           liveness   speechiness         tempo       valence  \n",
       "count  13129.000000  13129.000000  13129.000000  13129.000000  \n",
       "mean       0.187804      0.099174    123.080061      0.439761  \n",
       "std        0.158051      0.137381     35.015137      0.276028  \n",
       "min        0.025297      0.022324     12.753000      0.000010  \n",
       "25%        0.101406      0.036932     95.967000      0.197321  \n",
       "50%        0.119002      0.049019    120.057000      0.417743  \n",
       "75%        0.211041      0.085452    145.318000      0.665575  \n",
       "max        0.980330      0.966177    251.072000      0.999990  "
      ]
     },
     "execution_count": 11,
     "metadata": {},
     "output_type": "execute_result"
    }
   ],
   "source": [
    "# general statistics\n",
    "audio_features_dataset.describe()"
   ]
  },
  {
   "cell_type": "code",
   "execution_count": 12,
   "metadata": {
    "pycharm": {
     "name": "#%%\n"
    }
   },
   "outputs": [
    {
     "name": "stdout",
     "output_type": "stream",
     "text": [
      "<class 'pandas.core.frame.DataFrame'>\n",
      "Int64Index: 13129 entries, 2 to 124911\n",
      "Data columns (total 8 columns):\n",
      " #   Column            Non-Null Count  Dtype  \n",
      "---  ------            --------------  -----  \n",
      " 0   acousticness      13129 non-null  float64\n",
      " 1   danceability      13129 non-null  float64\n",
      " 2   energy            13129 non-null  float64\n",
      " 3   instrumentalness  13129 non-null  float64\n",
      " 4   liveness          13129 non-null  float64\n",
      " 5   speechiness       13129 non-null  float64\n",
      " 6   tempo             13129 non-null  float64\n",
      " 7   valence           13129 non-null  float64\n",
      "dtypes: float64(8)\n",
      "memory usage: 923.1 KB\n"
     ]
    }
   ],
   "source": [
    "# check data type\n",
    "audio_features_dataset.info()"
   ]
  },
  {
   "cell_type": "markdown",
   "metadata": {
    "pycharm": {
     "name": "#%% md\n"
    }
   },
   "source": [
    "##### Correlation Matrix"
   ]
  },
  {
   "cell_type": "code",
   "execution_count": 13,
   "metadata": {
    "pycharm": {
     "name": "#%%\n"
    }
   },
   "outputs": [
    {
     "data": {
      "text/plain": [
       "Text(0.5, 1.0, 'Correlation matrix audio features')"
      ]
     },
     "execution_count": 13,
     "metadata": {},
     "output_type": "execute_result"
    },
    {
     "data": {
      "image/png": "[encoded data removed]",
      "text/plain": [
       "<Figure size 936x360 with 2 Axes>"
      ]
     },
     "metadata": {
      "needs_background": "light"
     },
     "output_type": "display_data"
    }
   ],
   "source": [
    "corr_audiofeat = audio_features_dataset.corr()\n",
    "sns.heatmap(corr_audiofeat)\n",
    "plt.title('Correlation matrix audio features', fontsize=18)"
   ]
  },
  {
   "cell_type": "markdown",
   "metadata": {
    "pycharm": {
     "name": "#%% md\n"
    }
   },
   "source": [
    "##### Attaching labels:$\\;\\;$ **genre_top**"
   ]
  },
  {
   "cell_type": "code",
   "execution_count": 14,
   "metadata": {
    "pycharm": {
     "name": "#%%\n"
    }
   },
   "outputs": [
    {
     "ename": "FileNotFoundError",
     "evalue": "[Errno 2] No such file or directory: '/Users/gaetanoantonicchio/Documents/GitHub/DataMining-2/Data/Labels [generated]/labels_genre_top.csv'",
     "output_type": "error",
     "traceback": [
      "\u001b[0;31m---------------------------------------------------------------------------\u001b[0m",
      "\u001b[0;31mFileNotFoundError\u001b[0m                         Traceback (most recent call last)",
      "\u001b[0;32m<ipython-input-14-e69292f2ab93>\u001b[0m in \u001b[0;36m<module>\u001b[0;34m\u001b[0m\n\u001b[1;32m      1\u001b[0m \u001b[0;31m# load labels of top_genres\u001b[0m\u001b[0;34m\u001b[0m\u001b[0;34m\u001b[0m\u001b[0;34m\u001b[0m\u001b[0m\n\u001b[0;32m----> 2\u001b[0;31m \u001b[0mgenre_labels\u001b[0m \u001b[0;34m=\u001b[0m \u001b[0mpd\u001b[0m\u001b[0;34m.\u001b[0m\u001b[0mread_csv\u001b[0m\u001b[0;34m(\u001b[0m\u001b[0;34m'/Users/gaetanoantonicchio/Documents/GitHub/DataMining-2/Data/Labels [generated]/labels_genre_top.csv'\u001b[0m\u001b[0;34m)\u001b[0m\u001b[0;34m\u001b[0m\u001b[0;34m\u001b[0m\u001b[0m\n\u001b[0m\u001b[1;32m      3\u001b[0m \u001b[0mgenre_labels\u001b[0m\u001b[0;34m.\u001b[0m\u001b[0mset_index\u001b[0m\u001b[0;34m(\u001b[0m\u001b[0;34m'track_id'\u001b[0m\u001b[0;34m,\u001b[0m \u001b[0minplace\u001b[0m\u001b[0;34m=\u001b[0m\u001b[0;32mTrue\u001b[0m\u001b[0;34m)\u001b[0m\u001b[0;34m\u001b[0m\u001b[0;34m\u001b[0m\u001b[0m\n\u001b[1;32m      4\u001b[0m \u001b[0mgenre_labels\u001b[0m\u001b[0;34m.\u001b[0m\u001b[0mhead\u001b[0m\u001b[0;34m(\u001b[0m\u001b[0;34m)\u001b[0m\u001b[0;34m\u001b[0m\u001b[0;34m\u001b[0m\u001b[0m\n\u001b[1;32m      5\u001b[0m \u001b[0;34m\u001b[0m\u001b[0m\n",
      "\u001b[0;32m/Library/Frameworks/Python.framework/Versions/3.8/lib/python3.8/site-packages/pandas/io/parsers.py\u001b[0m in \u001b[0;36mread_csv\u001b[0;34m(filepath_or_buffer, sep, delimiter, header, names, index_col, usecols, squeeze, prefix, mangle_dupe_cols, dtype, engine, converters, true_values, false_values, skipinitialspace, skiprows, skipfooter, nrows, na_values, keep_default_na, na_filter, verbose, skip_blank_lines, parse_dates, infer_datetime_format, keep_date_col, date_parser, dayfirst, cache_dates, iterator, chunksize, compression, thousands, decimal, lineterminator, quotechar, quoting, doublequote, escapechar, comment, encoding, dialect, error_bad_lines, warn_bad_lines, delim_whitespace, low_memory, memory_map, float_precision, storage_options)\u001b[0m\n\u001b[1;32m    608\u001b[0m     \u001b[0mkwds\u001b[0m\u001b[0;34m.\u001b[0m\u001b[0mupdate\u001b[0m\u001b[0;34m(\u001b[0m\u001b[0mkwds_defaults\u001b[0m\u001b[0;34m)\u001b[0m\u001b[0;34m\u001b[0m\u001b[0;34m\u001b[0m\u001b[0m\n\u001b[1;32m    609\u001b[0m \u001b[0;34m\u001b[0m\u001b[0m\n\u001b[0;32m--> 610\u001b[0;31m     \u001b[0;32mreturn\u001b[0m \u001b[0m_read\u001b[0m\u001b[0;34m(\u001b[0m\u001b[0mfilepath_or_buffer\u001b[0m\u001b[0;34m,\u001b[0m \u001b[0mkwds\u001b[0m\u001b[0;34m)\u001b[0m\u001b[0;34m\u001b[0m\u001b[0;34m\u001b[0m\u001b[0m\n\u001b[0m\u001b[1;32m    611\u001b[0m \u001b[0;34m\u001b[0m\u001b[0m\n\u001b[1;32m    612\u001b[0m \u001b[0;34m\u001b[0m\u001b[0m\n",
      "\u001b[0;32m/Library/Frameworks/Python.framework/Versions/3.8/lib/python3.8/site-packages/pandas/io/parsers.py\u001b[0m in \u001b[0;36m_read\u001b[0;34m(filepath_or_buffer, kwds)\u001b[0m\n\u001b[1;32m    460\u001b[0m \u001b[0;34m\u001b[0m\u001b[0m\n\u001b[1;32m    461\u001b[0m     \u001b[0;31m# Create the parser.\u001b[0m\u001b[0;34m\u001b[0m\u001b[0;34m\u001b[0m\u001b[0;34m\u001b[0m\u001b[0m\n\u001b[0;32m--> 462\u001b[0;31m     \u001b[0mparser\u001b[0m \u001b[0;34m=\u001b[0m \u001b[0mTextFileReader\u001b[0m\u001b[0;34m(\u001b[0m\u001b[0mfilepath_or_buffer\u001b[0m\u001b[0;34m,\u001b[0m \u001b[0;34m**\u001b[0m\u001b[0mkwds\u001b[0m\u001b[0;34m)\u001b[0m\u001b[0;34m\u001b[0m\u001b[0;34m\u001b[0m\u001b[0m\n\u001b[0m\u001b[1;32m    463\u001b[0m \u001b[0;34m\u001b[0m\u001b[0m\n\u001b[1;32m    464\u001b[0m     \u001b[0;32mif\u001b[0m \u001b[0mchunksize\u001b[0m \u001b[0;32mor\u001b[0m \u001b[0miterator\u001b[0m\u001b[0;34m:\u001b[0m\u001b[0;34m\u001b[0m\u001b[0;34m\u001b[0m\u001b[0m\n",
      "\u001b[0;32m/Library/Frameworks/Python.framework/Versions/3.8/lib/python3.8/site-packages/pandas/io/parsers.py\u001b[0m in \u001b[0;36m__init__\u001b[0;34m(self, f, engine, **kwds)\u001b[0m\n\u001b[1;32m    817\u001b[0m             \u001b[0mself\u001b[0m\u001b[0;34m.\u001b[0m\u001b[0moptions\u001b[0m\u001b[0;34m[\u001b[0m\u001b[0;34m\"has_index_names\"\u001b[0m\u001b[0;34m]\u001b[0m \u001b[0;34m=\u001b[0m \u001b[0mkwds\u001b[0m\u001b[0;34m[\u001b[0m\u001b[0;34m\"has_index_names\"\u001b[0m\u001b[0;34m]\u001b[0m\u001b[0;34m\u001b[0m\u001b[0;34m\u001b[0m\u001b[0m\n\u001b[1;32m    818\u001b[0m \u001b[0;34m\u001b[0m\u001b[0m\n\u001b[0;32m--> 819\u001b[0;31m         \u001b[0mself\u001b[0m\u001b[0;34m.\u001b[0m\u001b[0m_engine\u001b[0m \u001b[0;34m=\u001b[0m \u001b[0mself\u001b[0m\u001b[0;34m.\u001b[0m\u001b[0m_make_engine\u001b[0m\u001b[0;34m(\u001b[0m\u001b[0mself\u001b[0m\u001b[0;34m.\u001b[0m\u001b[0mengine\u001b[0m\u001b[0;34m)\u001b[0m\u001b[0;34m\u001b[0m\u001b[0;34m\u001b[0m\u001b[0m\n\u001b[0m\u001b[1;32m    820\u001b[0m \u001b[0;34m\u001b[0m\u001b[0m\n\u001b[1;32m    821\u001b[0m     \u001b[0;32mdef\u001b[0m \u001b[0mclose\u001b[0m\u001b[0;34m(\u001b[0m\u001b[0mself\u001b[0m\u001b[0;34m)\u001b[0m\u001b[0;34m:\u001b[0m\u001b[0;34m\u001b[0m\u001b[0;34m\u001b[0m\u001b[0m\n",
      "\u001b[0;32m/Library/Frameworks/Python.framework/Versions/3.8/lib/python3.8/site-packages/pandas/io/parsers.py\u001b[0m in \u001b[0;36m_make_engine\u001b[0;34m(self, engine)\u001b[0m\n\u001b[1;32m   1048\u001b[0m             )\n\u001b[1;32m   1049\u001b[0m         \u001b[0;31m# error: Too many arguments for \"ParserBase\"\u001b[0m\u001b[0;34m\u001b[0m\u001b[0;34m\u001b[0m\u001b[0;34m\u001b[0m\u001b[0m\n\u001b[0;32m-> 1050\u001b[0;31m         \u001b[0;32mreturn\u001b[0m \u001b[0mmapping\u001b[0m\u001b[0;34m[\u001b[0m\u001b[0mengine\u001b[0m\u001b[0;34m]\u001b[0m\u001b[0;34m(\u001b[0m\u001b[0mself\u001b[0m\u001b[0;34m.\u001b[0m\u001b[0mf\u001b[0m\u001b[0;34m,\u001b[0m \u001b[0;34m**\u001b[0m\u001b[0mself\u001b[0m\u001b[0;34m.\u001b[0m\u001b[0moptions\u001b[0m\u001b[0;34m)\u001b[0m  \u001b[0;31m# type: ignore[call-arg]\u001b[0m\u001b[0;34m\u001b[0m\u001b[0;34m\u001b[0m\u001b[0m\n\u001b[0m\u001b[1;32m   1051\u001b[0m \u001b[0;34m\u001b[0m\u001b[0m\n\u001b[1;32m   1052\u001b[0m     \u001b[0;32mdef\u001b[0m \u001b[0m_failover_to_python\u001b[0m\u001b[0;34m(\u001b[0m\u001b[0mself\u001b[0m\u001b[0;34m)\u001b[0m\u001b[0;34m:\u001b[0m\u001b[0;34m\u001b[0m\u001b[0;34m\u001b[0m\u001b[0m\n",
      "\u001b[0;32m/Library/Frameworks/Python.framework/Versions/3.8/lib/python3.8/site-packages/pandas/io/parsers.py\u001b[0m in \u001b[0;36m__init__\u001b[0;34m(self, src, **kwds)\u001b[0m\n\u001b[1;32m   1865\u001b[0m \u001b[0;34m\u001b[0m\u001b[0m\n\u001b[1;32m   1866\u001b[0m         \u001b[0;31m# open handles\u001b[0m\u001b[0;34m\u001b[0m\u001b[0;34m\u001b[0m\u001b[0;34m\u001b[0m\u001b[0m\n\u001b[0;32m-> 1867\u001b[0;31m         \u001b[0mself\u001b[0m\u001b[0;34m.\u001b[0m\u001b[0m_open_handles\u001b[0m\u001b[0;34m(\u001b[0m\u001b[0msrc\u001b[0m\u001b[0;34m,\u001b[0m \u001b[0mkwds\u001b[0m\u001b[0;34m)\u001b[0m\u001b[0;34m\u001b[0m\u001b[0;34m\u001b[0m\u001b[0m\n\u001b[0m\u001b[1;32m   1868\u001b[0m         \u001b[0;32massert\u001b[0m \u001b[0mself\u001b[0m\u001b[0;34m.\u001b[0m\u001b[0mhandles\u001b[0m \u001b[0;32mis\u001b[0m \u001b[0;32mnot\u001b[0m \u001b[0;32mNone\u001b[0m\u001b[0;34m\u001b[0m\u001b[0;34m\u001b[0m\u001b[0m\n\u001b[1;32m   1869\u001b[0m         \u001b[0;32mfor\u001b[0m \u001b[0mkey\u001b[0m \u001b[0;32min\u001b[0m \u001b[0;34m(\u001b[0m\u001b[0;34m\"storage_options\"\u001b[0m\u001b[0;34m,\u001b[0m \u001b[0;34m\"encoding\"\u001b[0m\u001b[0;34m,\u001b[0m \u001b[0;34m\"memory_map\"\u001b[0m\u001b[0;34m,\u001b[0m \u001b[0;34m\"compression\"\u001b[0m\u001b[0;34m)\u001b[0m\u001b[0;34m:\u001b[0m\u001b[0;34m\u001b[0m\u001b[0;34m\u001b[0m\u001b[0m\n",
      "\u001b[0;32m/Library/Frameworks/Python.framework/Versions/3.8/lib/python3.8/site-packages/pandas/io/parsers.py\u001b[0m in \u001b[0;36m_open_handles\u001b[0;34m(self, src, kwds)\u001b[0m\n\u001b[1;32m   1360\u001b[0m         \u001b[0mLet\u001b[0m \u001b[0mthe\u001b[0m \u001b[0mreaders\u001b[0m \u001b[0mopen\u001b[0m \u001b[0mIOHanldes\u001b[0m \u001b[0mafter\u001b[0m \u001b[0mthey\u001b[0m \u001b[0mare\u001b[0m \u001b[0mdone\u001b[0m \u001b[0;32mwith\u001b[0m \u001b[0mtheir\u001b[0m \u001b[0mpotential\u001b[0m \u001b[0mraises\u001b[0m\u001b[0;34m.\u001b[0m\u001b[0;34m\u001b[0m\u001b[0;34m\u001b[0m\u001b[0m\n\u001b[1;32m   1361\u001b[0m         \"\"\"\n\u001b[0;32m-> 1362\u001b[0;31m         self.handles = get_handle(\n\u001b[0m\u001b[1;32m   1363\u001b[0m             \u001b[0msrc\u001b[0m\u001b[0;34m,\u001b[0m\u001b[0;34m\u001b[0m\u001b[0;34m\u001b[0m\u001b[0m\n\u001b[1;32m   1364\u001b[0m             \u001b[0;34m\"r\"\u001b[0m\u001b[0;34m,\u001b[0m\u001b[0;34m\u001b[0m\u001b[0;34m\u001b[0m\u001b[0m\n",
      "\u001b[0;32m/Library/Frameworks/Python.framework/Versions/3.8/lib/python3.8/site-packages/pandas/io/common.py\u001b[0m in \u001b[0;36mget_handle\u001b[0;34m(path_or_buf, mode, encoding, compression, memory_map, is_text, errors, storage_options)\u001b[0m\n\u001b[1;32m    640\u001b[0m                 \u001b[0merrors\u001b[0m \u001b[0;34m=\u001b[0m \u001b[0;34m\"replace\"\u001b[0m\u001b[0;34m\u001b[0m\u001b[0;34m\u001b[0m\u001b[0m\n\u001b[1;32m    641\u001b[0m             \u001b[0;31m# Encoding\u001b[0m\u001b[0;34m\u001b[0m\u001b[0;34m\u001b[0m\u001b[0;34m\u001b[0m\u001b[0m\n\u001b[0;32m--> 642\u001b[0;31m             handle = open(\n\u001b[0m\u001b[1;32m    643\u001b[0m                 \u001b[0mhandle\u001b[0m\u001b[0;34m,\u001b[0m\u001b[0;34m\u001b[0m\u001b[0;34m\u001b[0m\u001b[0m\n\u001b[1;32m    644\u001b[0m                 \u001b[0mioargs\u001b[0m\u001b[0;34m.\u001b[0m\u001b[0mmode\u001b[0m\u001b[0;34m,\u001b[0m\u001b[0;34m\u001b[0m\u001b[0;34m\u001b[0m\u001b[0m\n",
      "\u001b[0;31mFileNotFoundError\u001b[0m: [Errno 2] No such file or directory: '/Users/gaetanoantonicchio/Documents/GitHub/DataMining-2/Data/Labels [generated]/labels_genre_top.csv'"
     ]
    }
   ],
   "source": [
    "# load labels of top_genres\n",
    "genre_labels = pd.read_csv('/Users/gaetanoantonicchio/Documents/GitHub/DataMining-2/Data/Labels [generated]/labels_genre_top.csv')\n",
    "genre_labels.set_index('track_id', inplace=True)\n",
    "genre_labels.head()"
   ]
  },
  {
   "cell_type": "code",
   "execution_count": null,
   "metadata": {
    "pycharm": {
     "name": "#%%\n"
    }
   },
   "outputs": [],
   "source": [
    "# Attach genre_labels to audio_features_dataset\n",
    "audio_features_dataset = audio_features_dataset.merge(genre_labels,on=\"track_id\")\n",
    "# display dataset\n",
    "audio_features_dataset.head()"
   ]
  },
  {
   "cell_type": "code",
   "execution_count": null,
   "metadata": {
    "pycharm": {
     "name": "#%%\n"
    }
   },
   "outputs": [],
   "source": [
    "# check for missing values in genre_top\n",
    "print(f\"Missing values in genre_top: {audio_features_dataset.genre_top.isnull().sum()}\")"
   ]
  },
  {
   "cell_type": "code",
   "execution_count": null,
   "metadata": {
    "pycharm": {
     "name": "#%%\n"
    }
   },
   "outputs": [],
   "source": [
    "# removing missing values\n",
    "audio_features_dataset.dropna(inplace=True)"
   ]
  },
  {
   "cell_type": "code",
   "execution_count": null,
   "metadata": {
    "pycharm": {
     "name": "#%%\n"
    }
   },
   "outputs": [],
   "source": [
    "# check effectiveness of drop\n",
    "audio_features_dataset.isnull().sum()"
   ]
  },
  {
   "cell_type": "markdown",
   "metadata": {
    "pycharm": {
     "name": "#%% md\n"
    }
   },
   "source": [
    "## 3. Data Visualization\n",
    "#### Audio features vs Top Genres"
   ]
  },
  {
   "cell_type": "code",
   "execution_count": null,
   "metadata": {
    "pycharm": {
     "name": "#%%\n"
    }
   },
   "outputs": [],
   "source": [
    "# normalize dataset audio_features_dataset for visualization in radar plot\n",
    "# the dataset audio_features_dataset_norm will be deleted after plotting\n",
    "audio_features_dataset_norm = audio_features_dataset.copy()\n",
    "audio_features_dataset_norm.iloc[:,0:8] = (audio_features_dataset_norm.iloc[:,0:8]\\\n",
    "                                           -audio_features_dataset_norm.iloc[:,0:8].min())\\\n",
    "                                          /(audio_features_dataset_norm.iloc[:,0:8].max()\\\n",
    "                                            -audio_features_dataset_norm.iloc[:,0:8].min())\n",
    "audio_features_dataset_norm.head()"
   ]
  },
  {
   "cell_type": "code",
   "execution_count": null,
   "metadata": {
    "pycharm": {
     "name": "#%%\n"
    }
   },
   "outputs": [],
   "source": [
    "# radar chart\n",
    "genr_lst = audio_features_dataset_norm['genre_top'].unique().tolist()\n",
    "colors = [\"red\", \"green\", \"blue\", \"goldenrod\", \"magenta\",'orange','purple',\n",
    "          'black','lightblue','coral','darkgreen','brown']\n",
    "\n",
    "for genre,color in zip(genr_lst,colors):\n",
    "    metr = audio_features_dataset_norm[audio_features_dataset_norm['genre_top']==genre].describe().loc['mean'].tolist()\n",
    "    theta=['acousticness','danceability','energy','instrumentalness',\n",
    "           'liveness', 'tempo','speechiness','valence']\n",
    "\n",
    "    fig = px.line_polar(audio_features_dataset_norm,\n",
    "                        r=metr,\n",
    "                        theta=theta,\n",
    "                        line_close=True,\n",
    "                        title=genre,\n",
    "                        color_discrete_sequence=[color])\n",
    "    fig.update_traces(fill='toself')\n",
    "    fig.update_layout(\n",
    "    title={\n",
    "        'text': genre,\n",
    "        'y':0.9,\n",
    "        'x':0.5,\n",
    "        'xanchor': 'center',\n",
    "        'yanchor': 'top'})\n",
    "\n",
    "    fig.show()"
   ]
  },
  {
   "cell_type": "markdown",
   "metadata": {
    "pycharm": {
     "name": "#%% md\n"
    }
   },
   "source": [
    "#### Box plots: Audio Features"
   ]
  },
  {
   "cell_type": "code",
   "execution_count": null,
   "metadata": {
    "pycharm": {
     "name": "#%%\n"
    }
   },
   "outputs": [],
   "source": [
    "# boxplots - echonest features\n",
    "tempo = go.Box(y=audio_features_dataset_norm['tempo'],name='tempo')\n",
    "liveness = go.Box(y=audio_features_dataset_norm['liveness'],name='liveness')\n",
    "acousticness = go.Box(y=audio_features_dataset_norm['acousticness'],name='acousticness')\n",
    "danceability = go.Box(y=audio_features_dataset_norm['danceability'],name='danceability')\n",
    "energy = go.Box(y=audio_features_dataset_norm['energy'],name='energy')\n",
    "instrumentalness = go.Box(y=audio_features_dataset_norm['instrumentalness'],name='instrumentalness')\n",
    "speechiness = go.Box(y=audio_features_dataset_norm['speechiness'],name='speechiness')\n",
    "valence = go.Box(y=audio_features_dataset_norm['valence'], name='valence')\n",
    "\n",
    "\n",
    "data = [acousticness, danceability, energy, instrumentalness, liveness, speechiness, tempo, valence]\n",
    "layout=go.Layout(title='Box-plots echonest features')\n",
    "go.Figure(data=data, layout=layout)"
   ]
  },
  {
   "cell_type": "code",
   "execution_count": null,
   "metadata": {
    "pycharm": {
     "name": "#%%\n"
    }
   },
   "outputs": [],
   "source": [
    "sns.pairplot(audio_features_dataset_norm,hue='genre_top')"
   ]
  },
  {
   "cell_type": "markdown",
   "metadata": {
    "pycharm": {
     "name": "#%% md\n"
    }
   },
   "source": [
    "-------\n",
    "## Partition: Metadata\n",
    "------"
   ]
  },
  {
   "cell_type": "code",
   "execution_count": null,
   "metadata": {
    "pycharm": {
     "name": "#%%\n"
    }
   },
   "outputs": [],
   "source": [
    "# extract dataset - partition: metadata\n",
    "metadata_echo = echonest['echonest','metadata']\n",
    "metadata_echo.head()"
   ]
  },
  {
   "cell_type": "markdown",
   "metadata": {
    "pycharm": {
     "name": "#%% md\n"
    }
   },
   "source": [
    "#### Data Understanding"
   ]
  },
  {
   "cell_type": "code",
   "execution_count": null,
   "metadata": {
    "pycharm": {
     "name": "#%%\n"
    }
   },
   "outputs": [],
   "source": [
    "#check shape\n",
    "metadata_echo.shape"
   ]
  },
  {
   "cell_type": "code",
   "execution_count": null,
   "metadata": {
    "pycharm": {
     "name": "#%%\n"
    }
   },
   "outputs": [],
   "source": [
    "# check missing values\n",
    "metadata_echo.isnull().sum()"
   ]
  },
  {
   "cell_type": "code",
   "execution_count": null,
   "metadata": {
    "pycharm": {
     "name": "#%%\n"
    }
   },
   "outputs": [],
   "source": [
    "# drop missing values\n",
    "metadata_echo.dropna(inplace=True)"
   ]
  },
  {
   "cell_type": "code",
   "execution_count": null,
   "metadata": {
    "pycharm": {
     "name": "#%%\n"
    }
   },
   "outputs": [],
   "source": [
    "# check effectiveness drop\n",
    "metadata_echo.isnull().sum()"
   ]
  },
  {
   "cell_type": "code",
   "execution_count": null,
   "metadata": {
    "pycharm": {
     "name": "#%%\n"
    }
   },
   "outputs": [],
   "source": [
    "metadata_echo.info()"
   ]
  },
  {
   "cell_type": "markdown",
   "metadata": {
    "pycharm": {
     "name": "#%% md\n"
    }
   },
   "source": [
    "#### Data Visualization"
   ]
  },
  {
   "cell_type": "code",
   "execution_count": null,
   "metadata": {
    "pycharm": {
     "name": "#%%\n"
    }
   },
   "outputs": [],
   "source": [
    "# geo-scatter plot\n",
    "fig = px.scatter_geo(metadata_echo,\n",
    "                     lat='artist_latitude',\n",
    "                    lon='artist_longitude',\n",
    "                     color=\"artist_location\", # which column to use to set the color of markers\n",
    "                     projection=\"natural earth\",\n",
    "                     title='Distribution of artists along the globe'\n",
    "                    )\n",
    "fig.show()"
   ]
  },
  {
   "cell_type": "markdown",
   "metadata": {
    "pycharm": {
     "name": "#%% md\n"
    }
   },
   "source": [
    "Majority of tracks are produced in the West part."
   ]
  },
  {
   "cell_type": "code",
   "execution_count": null,
   "metadata": {
    "pycharm": {
     "name": "#%%\n"
    }
   },
   "outputs": [],
   "source": [
    "# histogram #tracks per artist (considering all of them)\n",
    "artist_plot = px.histogram(metadata_echo, x=\"artist_name\",title='tracks per artist')\n",
    "artist_plot.show()"
   ]
  },
  {
   "cell_type": "markdown",
   "metadata": {
    "pycharm": {
     "name": "#%% md\n"
    }
   },
   "source": [
    "-------\n",
    "## Partition: Social Features\n",
    "______"
   ]
  },
  {
   "cell_type": "code",
   "execution_count": null,
   "metadata": {
    "pycharm": {
     "name": "#%%\n"
    }
   },
   "outputs": [],
   "source": [
    "# load dataset\n",
    "social_features_dataset = echonest['echonest','social_features']\n",
    "social_features_dataset.head()"
   ]
  },
  {
   "cell_type": "markdown",
   "metadata": {
    "pycharm": {
     "name": "#%% md\n"
    }
   },
   "source": [
    "### 1. Data Visualization\n",
    "#### a) Artist familiarity vs Song hotness and currency"
   ]
  },
  {
   "cell_type": "code",
   "execution_count": null,
   "metadata": {
    "pycharm": {
     "name": "#%%\n"
    }
   },
   "outputs": [],
   "source": [
    "fig, ax= plt.subplots()\n",
    "sns.scatterplot(x=social_features_dataset['artist_hotttnesss'],\n",
    "                y=social_features_dataset['song_hotttnesss'],\n",
    "                hue=social_features_dataset['song_currency'],\n",
    "                palette=\"flare\"\n",
    "                )\n",
    "ax.axhline(y=0.16, linestyle='-',color='red',label='popularity threshold')\n",
    "plt.legend()\n",
    "plt.xlabel(\"Artist Hotness\", fontsize=18)\n",
    "plt.ylabel(\"Song Hotness\", fontsize=18)"
   ]
  },
  {
   "cell_type": "markdown",
   "metadata": {
    "pycharm": {
     "name": "#%% md\n"
    }
   },
   "source": [
    "Apart from tracks with 0 **artist_hotttnesss** and 0 **song_hotttnesss**, the two variable appear to be\n",
    "positively correlated. As the artist gains familiarity among the audience, their song are considered to be hot. <br>\n",
    "Should be interesting to create a label **song popularity** that takes value **\"popular\"** if the **artist_hotttnesss >0.4**\n",
    "& **song_hotttnesss >0.15**.<br>\n",
    "The hottess songs are the ones with high **song_currency** (> 0.2) as we can see from the graph."
   ]
  },
  {
   "cell_type": "markdown",
   "metadata": {
    "pycharm": {
     "name": "#%% md\n"
    }
   },
   "source": [
    "#### b) Listens vs Song hotness"
   ]
  },
  {
   "cell_type": "code",
   "execution_count": null,
   "metadata": {
    "pycharm": {
     "name": "#%%\n"
    }
   },
   "outputs": [],
   "source": [
    "# importing data about listens from tracks.csv\n",
    "tracks = utils.load('/Users/gaetanoantonicchio/Desktop/dataset_DM2/fma_metadata/tracks.csv')\n",
    "track_listens = tracks['track'][['listens']]\n",
    "social_features_dataset=social_features_dataset.merge(track_listens, on='track_id')\n",
    "#social_features_dataset.head()"
   ]
  },
  {
   "cell_type": "code",
   "execution_count": null,
   "metadata": {
    "pycharm": {
     "name": "#%%\n"
    }
   },
   "outputs": [],
   "source": [
    "# plot relationship listens - song hotness\n",
    "fig, ax= plt.subplots()\n",
    "sns.scatterplot(x=social_features_dataset['song_hotttnesss'],\n",
    "                y=social_features_dataset['listens'],\n",
    "                hue=social_features_dataset['song_currency'],\n",
    "                palette=\"flare\"\n",
    "                )\n",
    "plt.xlabel(\"Song Hotness\", fontsize=18)\n",
    "plt.ylabel(\"#Listens\", fontsize=18)"
   ]
  },
  {
   "cell_type": "markdown",
   "metadata": {
    "pycharm": {
     "name": "#%% md\n"
    }
   },
   "source": [
    "Tracks that are both current and hot have less than 100k listens. <br>\n",
    "We can observe how songs that are not hot have more listens than current ones, probably due\n",
    "to the fact that they've been out for a longer time. <br>\n",
    "Tot number of listen doesn't appear to be a good estimator of a song popularity."
   ]
  },
  {
   "cell_type": "markdown",
   "metadata": {
    "pycharm": {
     "name": "#%% md\n"
    }
   },
   "source": [
    "## 2. Feature engineering:$\\;\\;$ Song popularity\n",
    "This label is determined by looking at the values in song_hotttnesss and artist_hotttnesss.<br><br>\n",
    "We assigned label **popular** if song_hotttnesss & artist_hotttnesss were >= 0.15 and >= 0.4 respectively, else\n",
    "we assigned the label **not popular**"
   ]
  },
  {
   "cell_type": "code",
   "execution_count": null,
   "metadata": {
    "pycharm": {
     "name": "#%%\n"
    }
   },
   "outputs": [],
   "source": [
    "# generating new label: song_popularity\n",
    "social_features_dataset['song_popularity'] = np.where( ( (social_features_dataset['song_hotttnesss'] >= 0.15) & (social_features_dataset['artist_hotttnesss'] >= 0.4 ) ), 'popular', 'not popular')"
   ]
  },
  {
   "cell_type": "code",
   "execution_count": null,
   "metadata": {
    "pycharm": {
     "name": "#%%\n"
    }
   },
   "outputs": [],
   "source": [
    "#social_features_dataset.head()"
   ]
  },
  {
   "cell_type": "code",
   "execution_count": null,
   "metadata": {
    "pycharm": {
     "name": "#%%\n"
    }
   },
   "outputs": [],
   "source": [
    "social_features_dataset.song_popularity.value_counts()"
   ]
  },
  {
   "cell_type": "code",
   "execution_count": null,
   "metadata": {
    "pycharm": {
     "name": "#%%\n"
    }
   },
   "outputs": [],
   "source": [
    "# labels\n",
    "song_popularity_labels = social_features_dataset[['song_popularity']]"
   ]
  },
  {
   "cell_type": "markdown",
   "metadata": {
    "pycharm": {
     "name": "#%% md\n"
    }
   },
   "source": [
    "## 3. Data Visualization of Echonest audio_features vs song_popularity\n",
    "**What makes a song popular? What characteristics does it have? What genre is most popular?**"
   ]
  },
  {
   "cell_type": "code",
   "execution_count": null,
   "metadata": {
    "pycharm": {
     "name": "#%%\n"
    }
   },
   "outputs": [],
   "source": [
    "audio_features_dataset_norm = audio_features_dataset_norm.merge(song_popularity_labels, on='track_id')\n",
    "audio_features_dataset_norm.head()"
   ]
  },
  {
   "cell_type": "markdown",
   "metadata": {
    "pycharm": {
     "name": "#%% md\n"
    }
   },
   "source": [
    "### a) Energy score for popular songs\n",
    "Majority of popular songs have high values for energy (> 0.7)"
   ]
  },
  {
   "cell_type": "code",
   "execution_count": null,
   "metadata": {
    "pycharm": {
     "name": "#%%\n"
    }
   },
   "outputs": [],
   "source": [
    "sns.histplot(audio_features_dataset_norm[audio_features_dataset_norm['song_popularity']=='popular'],x= 'energy',hue='song_popularity',bins=100 )"
   ]
  },
  {
   "cell_type": "markdown",
   "metadata": {
    "pycharm": {
     "name": "#%% md\n"
    }
   },
   "source": [
    "### b) Audio features vs song popularity$\\;\\;$Radar chart"
   ]
  },
  {
   "cell_type": "code",
   "execution_count": null,
   "metadata": {
    "pycharm": {
     "name": "#%%\n"
    }
   },
   "outputs": [],
   "source": [
    "metr0 = audio_features_dataset_norm[audio_features_dataset_norm['song_popularity']=='popular'].describe().loc['mean'].tolist()\n",
    "metr1 = audio_features_dataset_norm[audio_features_dataset_norm['song_popularity']=='not popular'].describe().loc['mean'].tolist()\n",
    "categories =['acousticness','danceability','energy','instrumentalness',\n",
    "           'liveness', 'tempo','speechiness','valence']\n",
    "\n",
    "fig = go.Figure()\n",
    "\n",
    "fig.add_trace(go.Scatterpolar(\n",
    "      r=metr0,\n",
    "      theta=categories,\n",
    "      fill='toself',\n",
    "      name='popular'\n",
    "))\n",
    "fig.add_trace(go.Scatterpolar(\n",
    "      r=metr1,\n",
    "      theta=categories,\n",
    "      fill='toself',\n",
    "      name='not popular'\n",
    "))\n",
    "\n",
    "fig.update_layout(\n",
    "  polar=dict(\n",
    "    radialaxis=dict(\n",
    "      visible=True,\n",
    "      range=[0, 0.7]\n",
    "    )),\n",
    "  showlegend=True\n",
    ")\n",
    "\n",
    "fig.show()"
   ]
  }
 ],
 "metadata": {
  "kernelspec": {
   "display_name": "Python 3",
   "language": "python",
   "name": "python3"
  },
  "language_info": {
   "codemirror_mode": {
    "name": "ipython",
    "version": 3
   },
   "file_extension": ".py",
   "mimetype": "text/x-python",
   "name": "python",
   "nbconvert_exporter": "python",
   "pygments_lexer": "ipython3",
   "version": "3.7.4"
  }
 },
 "nbformat": 4,
 "nbformat_minor": 1
}
