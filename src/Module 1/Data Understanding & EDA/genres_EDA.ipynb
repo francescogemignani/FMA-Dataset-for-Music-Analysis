{
 "cells": [
  {
   "cell_type": "code",
   "execution_count": 14,
   "metadata": {},
   "outputs": [
    {
     "data": {
      "text/html": "<img src=\"https://developer.spotify.com/assets/echonest-spotify.png\"/>",
      "text/plain": "<IPython.core.display.Image object>"
     },
     "execution_count": 14,
     "metadata": {},
     "output_type": "execute_result"
    }
   ],
   "source": [
    "from IPython.display import Image\n",
    "from IPython.core.display import HTML\n",
    "Image(url= \"https://developer.spotify.com/assets/echonest-spotify.png\")"
   ]
  },
  {
   "cell_type": "code",
   "execution_count": 15,
   "metadata": {
    "pycharm": {
     "name": "#%%\n"
    }
   },
   "outputs": [],
   "source": [
    "# Need only first time\n",
    "#conda install -c conda-forge python-dotenv\n",
    "#conda install -c conda-forge pydot"
   ]
  },
  {
   "cell_type": "code",
   "execution_count": 16,
   "metadata": {
    "pycharm": {
     "name": "#%%\n"
    }
   },
   "outputs": [],
   "source": [
    "%matplotlib inline\n",
    "\n",
    "import os,sys,inspect\n",
    "current_dir = os.path.dirname(os.path.abspath(inspect.getfile(inspect.currentframe())))\n",
    "parent_dir = os.path.dirname(os.path.dirname(os.path.dirname(current_dir)))\n",
    "sys.path.insert(0, parent_dir) \n",
    "\n",
    "import IPython.display as ipd\n",
    "import numpy as np\n",
    "import pandas as pd\n",
    "import matplotlib.pyplot as plt\n",
    "import datetime\n",
    "import plotly\n",
    "import plotly.express as px\n",
    "import plotly.io as pio\n",
    "import plotly.offline as pyo\n",
    "import seaborn as sns\n",
    "from fma_metadata import utils\n",
    "import sys\n",
    "import pathlib\n",
    "sys.path.insert(1, './fma_metadata/')\n",
    "from fma_metadata import utils\n",
    "\n",
    "import warnings\n",
    "warnings.filterwarnings('ignore')\n",
    "\n",
    "plt.rcParams['figure.figsize'] = (13, 5)"
   ]
  },
  {
   "cell_type": "markdown",
   "metadata": {
    "pycharm": {
     "name": "#%% md\n"
    }
   },
   "source": [
    "-----------------\n",
    "# Genres EDA\n",
    "-----------------\n",
    "## 1. Load Dataset\n",
    "- genres.csv: contains metadata about genres;"
   ]
  },
  {
   "cell_type": "code",
   "execution_count": 17,
   "metadata": {
    "pycharm": {
     "name": "#%%\n"
    }
   },
   "outputs": [
    {
     "data": {
      "text/plain": "(163, 4)"
     },
     "execution_count": 17,
     "metadata": {},
     "output_type": "execute_result"
    }
   ],
   "source": [
    "genres = utils.load('/Users/francescogemignani/Google Drive/DM2/_FMA/fma-project/fma_metadata/Dataset/genres.csv')\n",
    "genres.shape"
   ]
  },
  {
   "cell_type": "code",
   "execution_count": 18,
   "metadata": {
    "pycharm": {
     "name": "#%%\n"
    }
   },
   "outputs": [
    {
     "data": {
      "text/plain": "          #tracks  parent          title  top_level\ngenre_id                                           \n1            8693      38    Avant-Garde         38\n2            5271       0  International          2\n3            1752       0          Blues          3\n4            4126       0           Jazz          4\n5            4106       0      Classical          5",
      "text/html": "<div>\n<style scoped>\n    .dataframe tbody tr th:only-of-type {\n        vertical-align: middle;\n    }\n\n    .dataframe tbody tr th {\n        vertical-align: top;\n    }\n\n    .dataframe thead th {\n        text-align: right;\n    }\n</style>\n<table border=\"1\" class=\"dataframe\">\n  <thead>\n    <tr style=\"text-align: right;\">\n      <th></th>\n      <th>#tracks</th>\n      <th>parent</th>\n      <th>title</th>\n      <th>top_level</th>\n    </tr>\n    <tr>\n      <th>genre_id</th>\n      <th></th>\n      <th></th>\n      <th></th>\n      <th></th>\n    </tr>\n  </thead>\n  <tbody>\n    <tr>\n      <th>1</th>\n      <td>8693</td>\n      <td>38</td>\n      <td>Avant-Garde</td>\n      <td>38</td>\n    </tr>\n    <tr>\n      <th>2</th>\n      <td>5271</td>\n      <td>0</td>\n      <td>International</td>\n      <td>2</td>\n    </tr>\n    <tr>\n      <th>3</th>\n      <td>1752</td>\n      <td>0</td>\n      <td>Blues</td>\n      <td>3</td>\n    </tr>\n    <tr>\n      <th>4</th>\n      <td>4126</td>\n      <td>0</td>\n      <td>Jazz</td>\n      <td>4</td>\n    </tr>\n    <tr>\n      <th>5</th>\n      <td>4106</td>\n      <td>0</td>\n      <td>Classical</td>\n      <td>5</td>\n    </tr>\n  </tbody>\n</table>\n</div>"
     },
     "execution_count": 18,
     "metadata": {},
     "output_type": "execute_result"
    }
   ],
   "source": [
    "# check dataset\n",
    "genres.head()"
   ]
  },
  {
   "cell_type": "markdown",
   "metadata": {
    "pycharm": {
     "name": "#%% md\n"
    }
   },
   "source": [
    "## 2. Data Understanding"
   ]
  },
  {
   "cell_type": "code",
   "execution_count": 19,
   "metadata": {
    "pycharm": {
     "name": "#%%\n"
    }
   },
   "outputs": [
    {
     "name": "stdout",
     "output_type": "stream",
     "text": [
      "Available data (%) \n",
      "*** genres.csv ***\n"
     ]
    },
    {
     "data": {
      "text/plain": "#tracks      100.0\nparent       100.0\ntitle        100.0\ntop_level    100.0\ndtype: float64"
     },
     "execution_count": 19,
     "metadata": {},
     "output_type": "execute_result"
    }
   ],
   "source": [
    "# data available\n",
    "print('Available data (%) \\n*** genres.csv ***')\n",
    "((abs(genres.isnull().sum()-genres.shape[0])/genres.shape[0])*100).round(2).sort_values(ascending=False)"
   ]
  },
  {
   "cell_type": "markdown",
   "metadata": {
    "pycharm": {
     "name": "#%% md\n"
    }
   },
   "source": [
    "# TODO\n",
    "\n",
    "\n",
    "\n",
    "\n",
    "\n",
    "\n",
    "\n"
   ]
  },
  {
   "cell_type": "markdown",
   "metadata": {
    "pycharm": {
     "name": "#%% md\n"
    }
   },
   "source": [
    "## 3. Data Visualization"
   ]
  },
  {
   "cell_type": "code",
   "execution_count": 20,
   "metadata": {
    "pycharm": {
     "name": "#%%\n"
    }
   },
   "outputs": [
    {
     "name": "stdout",
     "output_type": "stream",
     "text": [
      "{2: 'International', 3: 'Blues', 4: 'Jazz', 5: 'Classical', 8: 'Old-Time / Historic', 9: 'Country', 10: 'Pop', 12: 'Rock', 13: 'Easy Listening', 14: 'Soul-RnB', 15: 'Electronic', 17: 'Folk', 20: 'Spoken', 21: 'Hip-Hop', 38: 'Experimental', 1235: 'Instrumental'}\n"
     ]
    }
   ],
   "source": [
    "# grouping genres\n",
    "rootGen_lst = genres['title'][genres['parent']== 0].tolist()\n",
    "rootTop_lev= genres['top_level'][genres['parent']== 0].tolist()\n",
    "root_gen ={}\n",
    "\n",
    "def GroupGenres(gen_lst, lev_lst, dict_out):\n",
    "    for gen,level in zip(gen_lst,lev_lst):\n",
    "        dict_out[level]=gen\n",
    "    return dict_out\n",
    "\n",
    "def GenTopGenres(x):\n",
    "    for lev in rootTop_lev:\n",
    "        for rows in x[x['top_level']==lev]:\n",
    "            x.loc[x['top_level']==lev,'title_top'] = root_gen[lev]\n",
    "\n",
    "print(GroupGenres(rootGen_lst, rootTop_lev,root_gen))\n",
    "GenTopGenres(genres)"
   ]
  },
  {
   "cell_type": "code",
   "execution_count": 21,
   "metadata": {
    "pycharm": {
     "name": "#%%\n"
    }
   },
   "outputs": [
    {
     "data": {
      "text/plain": "          #tracks  parent          title  top_level      title_top\ngenre_id                                                          \n1            8693      38    Avant-Garde         38   Experimental\n2            5271       0  International          2  International\n3            1752       0          Blues          3          Blues\n4            4126       0           Jazz          4           Jazz\n5            4106       0      Classical          5      Classical",
      "text/html": "<div>\n<style scoped>\n    .dataframe tbody tr th:only-of-type {\n        vertical-align: middle;\n    }\n\n    .dataframe tbody tr th {\n        vertical-align: top;\n    }\n\n    .dataframe thead th {\n        text-align: right;\n    }\n</style>\n<table border=\"1\" class=\"dataframe\">\n  <thead>\n    <tr style=\"text-align: right;\">\n      <th></th>\n      <th>#tracks</th>\n      <th>parent</th>\n      <th>title</th>\n      <th>top_level</th>\n      <th>title_top</th>\n    </tr>\n    <tr>\n      <th>genre_id</th>\n      <th></th>\n      <th></th>\n      <th></th>\n      <th></th>\n      <th></th>\n    </tr>\n  </thead>\n  <tbody>\n    <tr>\n      <th>1</th>\n      <td>8693</td>\n      <td>38</td>\n      <td>Avant-Garde</td>\n      <td>38</td>\n      <td>Experimental</td>\n    </tr>\n    <tr>\n      <th>2</th>\n      <td>5271</td>\n      <td>0</td>\n      <td>International</td>\n      <td>2</td>\n      <td>International</td>\n    </tr>\n    <tr>\n      <th>3</th>\n      <td>1752</td>\n      <td>0</td>\n      <td>Blues</td>\n      <td>3</td>\n      <td>Blues</td>\n    </tr>\n    <tr>\n      <th>4</th>\n      <td>4126</td>\n      <td>0</td>\n      <td>Jazz</td>\n      <td>4</td>\n      <td>Jazz</td>\n    </tr>\n    <tr>\n      <th>5</th>\n      <td>4106</td>\n      <td>0</td>\n      <td>Classical</td>\n      <td>5</td>\n      <td>Classical</td>\n    </tr>\n  </tbody>\n</table>\n</div>"
     },
     "execution_count": 21,
     "metadata": {},
     "output_type": "execute_result"
    }
   ],
   "source": [
    "genres.head()"
   ]
  },
  {
   "cell_type": "code",
   "execution_count": 22,
   "metadata": {
    "pycharm": {
     "name": "#%%\n"
    }
   },
   "outputs": [
    {
     "data": {
      "application/vnd.plotly.v1+json": {
       "config": {
        "plotlyServerURL": "https://plot.ly"
       },
       "data": [
        {
         "branchvalues": "total",
         "customdata": [
          [
           "International"
          ],
          [
           "Instrumental"
          ],
          [
           "International"
          ],
          [
           "Electronic"
          ],
          [
           "Hip-Hop"
          ],
          [
           "Classical"
          ],
          [
           "Hip-Hop"
          ],
          [
           "International"
          ],
          [
           "Rock"
          ],
          [
           "Spoken"
          ],
          [
           "Rock"
          ],
          [
           "Soul-RnB"
          ],
          [
           "Rock"
          ],
          [
           "Electronic"
          ],
          [
           "International"
          ],
          [
           "Spoken"
          ],
          [
           "Instrumental"
          ],
          [
           "Spoken"
          ],
          [
           "Easy Listening"
          ],
          [
           "International"
          ],
          [
           "Rock"
          ],
          [
           "International"
          ],
          [
           "Experimental"
          ],
          [
           "International"
          ],
          [
           "Rock"
          ],
          [
           "Jazz"
          ],
          [
           "Rock"
          ],
          [
           "Rock"
          ],
          [
           "Easy Listening"
          ],
          [
           "Rock"
          ],
          [
           "Rock"
          ],
          [
           "International"
          ],
          [
           "Instrumental"
          ],
          [
           "Hip-Hop"
          ],
          [
           "Folk"
          ],
          [
           "Instrumental"
          ],
          [
           "Folk"
          ],
          [
           "International"
          ],
          [
           "International"
          ],
          [
           "Rock"
          ],
          [
           "Electronic"
          ],
          [
           "Country"
          ],
          [
           "Hip-Hop"
          ],
          [
           "International"
          ],
          [
           "Experimental"
          ],
          [
           "Soul-RnB"
          ],
          [
           "Rock"
          ],
          [
           "Rock"
          ],
          [
           "Classical"
          ],
          [
           "Classical"
          ],
          [
           "Experimental"
          ],
          [
           "Country"
          ],
          [
           "Instrumental"
          ],
          [
           "International"
          ],
          [
           "Classical"
          ],
          [
           "Pop"
          ],
          [
           "Spoken"
          ],
          [
           "Electronic"
          ],
          [
           "Electronic"
          ],
          [
           "International"
          ],
          [
           "Rock"
          ],
          [
           "Electronic"
          ],
          [
           "International"
          ],
          [
           "Folk"
          ],
          [
           "International"
          ],
          [
           "Experimental"
          ],
          [
           "Experimental"
          ],
          [
           "International"
          ],
          [
           "International"
          ],
          [
           "Electronic"
          ],
          [
           "International"
          ],
          [
           "Spoken"
          ],
          [
           "Experimental"
          ],
          [
           "Experimental"
          ],
          [
           "Hip-Hop"
          ],
          [
           "Blues"
          ],
          [
           "Country"
          ],
          [
           "Folk"
          ],
          [
           "International"
          ],
          [
           "Electronic"
          ],
          [
           "Spoken"
          ],
          [
           "Electronic"
          ],
          [
           "Experimental"
          ],
          [
           "Spoken"
          ],
          [
           "Pop"
          ],
          [
           "Country"
          ],
          [
           "Electronic"
          ],
          [
           "Experimental"
          ],
          [
           "Rock"
          ],
          [
           "Hip-Hop"
          ],
          [
           "Spoken"
          ],
          [
           "International"
          ],
          [
           "Rock"
          ],
          [
           "Classical"
          ],
          [
           "Experimental"
          ],
          [
           "International"
          ],
          [
           "Hip-Hop"
          ],
          [
           "Hip-Hop"
          ],
          [
           "International"
          ],
          [
           "Rock"
          ],
          [
           "Rock"
          ],
          [
           "Jazz"
          ],
          [
           "Jazz"
          ],
          [
           "Electronic"
          ],
          [
           "Experimental"
          ],
          [
           "Jazz"
          ],
          [
           "Electronic"
          ],
          [
           "Experimental"
          ],
          [
           "International"
          ],
          [
           "Rock"
          ],
          [
           "Folk"
          ],
          [
           "International"
          ],
          [
           "Easy Listening"
          ],
          [
           "Rock"
          ],
          [
           "Country"
          ],
          [
           "Rock"
          ],
          [
           "Experimental"
          ],
          [
           "Easy Listening"
          ],
          [
           "Experimental"
          ],
          [
           "Electronic"
          ],
          [
           "International"
          ],
          [
           "International"
          ],
          [
           "Jazz"
          ],
          [
           "Folk"
          ],
          [
           "Soul-RnB"
          ],
          [
           "Electronic"
          ],
          [
           "Rock"
          ],
          [
           "Rock"
          ],
          [
           "Rock"
          ],
          [
           "Rock"
          ],
          [
           "International"
          ],
          [
           "Classical"
          ],
          [
           "Spoken"
          ],
          [
           "Experimental"
          ],
          [
           "International"
          ],
          [
           "Pop"
          ],
          [
           "Electronic"
          ],
          [
           "Old-Time / Historic"
          ],
          [
           "Rock"
          ],
          [
           "Spoken"
          ],
          [
           "Soul-RnB"
          ],
          [
           "Rock"
          ],
          [
           "Electronic"
          ],
          [
           "Experimental"
          ],
          [
           "Classical"
          ],
          [
           "Spoken"
          ],
          [
           "Electronic"
          ],
          [
           "Blues"
          ],
          [
           "Jazz"
          ],
          [
           "Rock"
          ],
          [
           "Experimental"
          ],
          [
           "Electronic"
          ],
          [
           "Experimental"
          ],
          [
           "Country"
          ],
          [
           "Classical"
          ],
          [
           "Spoken"
          ],
          [
           "Electronic"
          ],
          [
           "Rock"
          ],
          [
           "Jazz"
          ],
          [
           "Experimental"
          ],
          [
           "International"
          ],
          [
           "International"
          ],
          [
           "Rock"
          ],
          [
           "Blues"
          ],
          [
           "Classical"
          ],
          [
           "Country"
          ],
          [
           "Easy Listening"
          ],
          [
           "Electronic"
          ],
          [
           "Experimental"
          ],
          [
           "Folk"
          ],
          [
           "Hip-Hop"
          ],
          [
           "Instrumental"
          ],
          [
           "International"
          ],
          [
           "Jazz"
          ],
          [
           "Old-Time / Historic"
          ],
          [
           "Pop"
          ],
          [
           "Rock"
          ],
          [
           "Soul-RnB"
          ],
          [
           "Spoken"
          ]
         ],
         "domain": {
          "x": [
           0.0,
           1.0
          ],
          "y": [
           0.0,
           1.0
          ]
         },
         "hovertemplate": "labels=%{label}<br>count=%{value}<br>parent=%{parent}<br>id=%{id}<br>title_top=%{customdata[0]}<extra></extra>",
         "ids": [
          "International/African",
          "Instrumental/Soundtrack",
          "International/Reggae - Dub",
          "Electronic/Minimal Electronic",
          "Hip-Hop/Alternative Hip-Hop",
          "Classical/Opera",
          "Hip-Hop/Rap",
          "International/Reggae - Dancehall",
          "Rock/Rock",
          "Spoken/Spoken Weird",
          "Rock/Industrial",
          "Soul-RnB/Deep Funk",
          "Rock/Shoegaze",
          "Electronic/IDM",
          "International/Asia-Far East",
          "Spoken/Spoken",
          "Instrumental/Instrumental",
          "Spoken/Banter",
          "Easy Listening/Nu-Jazz",
          "International/Tango",
          "Rock/Psych-Rock",
          "International/Pacific",
          "Experimental/Novelty",
          "International/North African",
          "Rock/Noise-Rock",
          "Jazz/Big Band/Swing",
          "Rock/Surf",
          "Rock/Metal",
          "Easy Listening/Lounge",
          "Rock/Loud-Rock",
          "Rock/Lo-Fi",
          "International/Latin America",
          "Instrumental/New Age",
          "Hip-Hop/Nerdcore",
          "Folk/Psych-Folk",
          "Instrumental/Compilation",
          "Folk/Singer-Songwriter",
          "International/Romany (Gypsy)",
          "International/Salsa",
          "Rock/New Wave",
          "Electronic/Bigbeat",
          "Country/Western Swing",
          "Hip-Hop/Breakbeat",
          "International/Middle East",
          "Experimental/Musique Concrete",
          "Soul-RnB/Soul-RnB",
          "Rock/Rock Opera",
          "Rock/No Wave",
          "Classical/Chamber Music",
          "Classical/20th Century Classical",
          "Experimental/Holiday",
          "Country/Country & Western",
          "Instrumental/Ambient",
          "International/Polka",
          "Classical/Classical",
          "Pop/Synth Pop",
          "Spoken/Comedy",
          "Electronic/Chip Music",
          "Electronic/Chiptune",
          "International/Latin",
          "Rock/Black-Metal",
          "Electronic/Glitch",
          "International/Cumbia",
          "Folk/Freak-Folk",
          "International/Brazilian",
          "Experimental/Sound Effects",
          "Experimental/Sound Poetry",
          "International/South Indian Traditional",
          "International/Europe",
          "Electronic/Techno",
          "International/French",
          "Spoken/Spoken Word",
          "Experimental/Sound Collage",
          "Experimental/Noise",
          "Hip-Hop/Wonky",
          "Blues/Gospel",
          "Country/Bluegrass",
          "Folk/Folk",
          "International/Turkish",
          "Electronic/Trip-Hop",
          "Spoken/Musical Theater",
          "Electronic/Skweee",
          "Experimental/Sound Art",
          "Spoken/Interview",
          "Pop/Experimental Pop",
          "Country/Country",
          "Electronic/Electronic",
          "Experimental/Electroacoustic",
          "Rock/Electro-Punk",
          "Hip-Hop/Abstract Hip-Hop",
          "Spoken/Talk Radio",
          "International/N. Indian Traditional",
          "Rock/Sludge",
          "Classical/Symphony",
          "Experimental/Unclassifiable",
          "International/Spanish",
          "Hip-Hop/Hip-Hop Beats",
          "Hip-Hop/Hip-Hop",
          "International/International",
          "Rock/Space-Rock",
          "Rock/Garage",
          "Jazz/Jazz",
          "Jazz/Jazz: Vocal",
          "Electronic/Jungle",
          "Experimental/Kid-Friendly",
          "Jazz/Jazz: Out",
          "Electronic/House",
          "Experimental/Christmas",
          "International/Klezmer",
          "Rock/Krautrock",
          "Folk/Free-Folk",
          "International/Afrobeat",
          "Easy Listening/Easy Listening",
          "Rock/Thrash",
          "Country/Americana",
          "Rock/Post-Punk",
          "Experimental/Audio Collage",
          "Easy Listening/Easy Listening: Vocal",
          "Experimental/Drone",
          "Electronic/Chill-out",
          "International/Celtic",
          "International/Flamenco",
          "Jazz/Free-Jazz",
          "Folk/British Folk",
          "Soul-RnB/Funk",
          "Electronic/Breakcore - Hard",
          "Rock/Goth",
          "Rock/Grindcore",
          "Rock/Hardcore",
          "Rock/Indie-Rock",
          "International/Balkan",
          "Classical/Choral Music",
          "Spoken/Poetry",
          "Experimental/Field Recordings",
          "International/Fado",
          "Pop/Pop",
          "Electronic/Dubstep",
          "Old-Time / Historic/Old-Time / Historic",
          "Rock/Punk",
          "Spoken/Radio Art",
          "Soul-RnB/Disco",
          "Rock/Death-Metal",
          "Electronic/Dance",
          "Experimental/Experimental",
          "Classical/Contemporary Classical",
          "Spoken/Radio Theater",
          "Electronic/Drum & Bass",
          "Blues/Blues",
          "Jazz/Be-Bop",
          "Rock/Power-Pop",
          "Experimental/Avant-Garde",
          "Electronic/Ambient Electronic",
          "Experimental/Improv",
          "Country/Rockabilly",
          "Classical/Composed Music",
          "Spoken/Radio",
          "Electronic/Downtempo",
          "Rock/Progressive",
          "Jazz/Modern Jazz",
          "Experimental/Minimalism",
          "International/Indian",
          "International/Bollywood",
          "Rock/Post-Rock",
          "Blues",
          "Classical",
          "Country",
          "Easy Listening",
          "Electronic",
          "Experimental",
          "Folk",
          "Hip-Hop",
          "Instrumental",
          "International",
          "Jazz",
          "Old-Time / Historic",
          "Pop",
          "Rock",
          "Soul-RnB",
          "Spoken"
         ],
         "labels": [
          "African",
          "Soundtrack",
          "Reggae - Dub",
          "Minimal Electronic",
          "Alternative Hip-Hop",
          "Opera",
          "Rap",
          "Reggae - Dancehall",
          "Rock",
          "Spoken Weird",
          "Industrial",
          "Deep Funk",
          "Shoegaze",
          "IDM",
          "Asia-Far East",
          "Spoken",
          "Instrumental",
          "Banter",
          "Nu-Jazz",
          "Tango",
          "Psych-Rock",
          "Pacific",
          "Novelty",
          "North African",
          "Noise-Rock",
          "Big Band/Swing",
          "Surf",
          "Metal",
          "Lounge",
          "Loud-Rock",
          "Lo-Fi",
          "Latin America",
          "New Age",
          "Nerdcore",
          "Psych-Folk",
          "Compilation",
          "Singer-Songwriter",
          "Romany (Gypsy)",
          "Salsa",
          "New Wave",
          "Bigbeat",
          "Western Swing",
          "Breakbeat",
          "Middle East",
          "Musique Concrete",
          "Soul-RnB",
          "Rock Opera",
          "No Wave",
          "Chamber Music",
          "20th Century Classical",
          "Holiday",
          "Country & Western",
          "Ambient",
          "Polka",
          "Classical",
          "Synth Pop",
          "Comedy",
          "Chip Music",
          "Chiptune",
          "Latin",
          "Black-Metal",
          "Glitch",
          "Cumbia",
          "Freak-Folk",
          "Brazilian",
          "Sound Effects",
          "Sound Poetry",
          "South Indian Traditional",
          "Europe",
          "Techno",
          "French",
          "Spoken Word",
          "Sound Collage",
          "Noise",
          "Wonky",
          "Gospel",
          "Bluegrass",
          "Folk",
          "Turkish",
          "Trip-Hop",
          "Musical Theater",
          "Skweee",
          "Sound Art",
          "Interview",
          "Experimental Pop",
          "Country",
          "Electronic",
          "Electroacoustic",
          "Electro-Punk",
          "Abstract Hip-Hop",
          "Talk Radio",
          "N. Indian Traditional",
          "Sludge",
          "Symphony",
          "Unclassifiable",
          "Spanish",
          "Hip-Hop Beats",
          "Hip-Hop",
          "International",
          "Space-Rock",
          "Garage",
          "Jazz",
          "Jazz: Vocal",
          "Jungle",
          "Kid-Friendly",
          "Jazz: Out",
          "House",
          "Christmas",
          "Klezmer",
          "Krautrock",
          "Free-Folk",
          "Afrobeat",
          "Easy Listening",
          "Thrash",
          "Americana",
          "Post-Punk",
          "Audio Collage",
          "Easy Listening: Vocal",
          "Drone",
          "Chill-out",
          "Celtic",
          "Flamenco",
          "Free-Jazz",
          "British Folk",
          "Funk",
          "Breakcore - Hard",
          "Goth",
          "Grindcore",
          "Hardcore",
          "Indie-Rock",
          "Balkan",
          "Choral Music",
          "Poetry",
          "Field Recordings",
          "Fado",
          "Pop",
          "Dubstep",
          "Old-Time / Historic",
          "Punk",
          "Radio Art",
          "Disco",
          "Death-Metal",
          "Dance",
          "Experimental",
          "Contemporary Classical",
          "Radio Theater",
          "Drum & Bass",
          "Blues",
          "Be-Bop",
          "Power-Pop",
          "Avant-Garde",
          "Ambient Electronic",
          "Improv",
          "Rockabilly",
          "Composed Music",
          "Radio",
          "Downtempo",
          "Progressive",
          "Modern Jazz",
          "Minimalism",
          "Indian",
          "Bollywood",
          "Post-Rock",
          "Blues",
          "Classical",
          "Country",
          "Easy Listening",
          "Electronic",
          "Experimental",
          "Folk",
          "Hip-Hop",
          "Instrumental",
          "International",
          "Jazz",
          "Old-Time / Historic",
          "Pop",
          "Rock",
          "Soul-RnB",
          "Spoken"
         ],
         "marker": {
          "colors": [
           "#636efa",
           "#EF553B",
           "#636efa",
           "#00cc96",
           "#ab63fa",
           "#FFA15A",
           "#ab63fa",
           "#636efa",
           "#19d3f3",
           "#FF6692",
           "#19d3f3",
           "#B6E880",
           "#19d3f3",
           "#00cc96",
           "#636efa",
           "#FF6692",
           "#EF553B",
           "#FF6692",
           "#FF97FF",
           "#636efa",
           "#19d3f3",
           "#636efa",
           "#FECB52",
           "#636efa",
           "#19d3f3",
           "#636efa",
           "#19d3f3",
           "#19d3f3",
           "#FF97FF",
           "#19d3f3",
           "#19d3f3",
           "#636efa",
           "#EF553B",
           "#ab63fa",
           "#EF553B",
           "#EF553B",
           "#EF553B",
           "#636efa",
           "#636efa",
           "#19d3f3",
           "#00cc96",
           "#00cc96",
           "#ab63fa",
           "#636efa",
           "#FECB52",
           "#B6E880",
           "#19d3f3",
           "#19d3f3",
           "#FFA15A",
           "#FFA15A",
           "#FECB52",
           "#00cc96",
           "#EF553B",
           "#636efa",
           "#FFA15A",
           "#ab63fa",
           "#FF6692",
           "#00cc96",
           "#00cc96",
           "#636efa",
           "#19d3f3",
           "#00cc96",
           "#636efa",
           "#EF553B",
           "#636efa",
           "#FECB52",
           "#FECB52",
           "#636efa",
           "#636efa",
           "#00cc96",
           "#636efa",
           "#FF6692",
           "#FECB52",
           "#FECB52",
           "#ab63fa",
           "#FFA15A",
           "#00cc96",
           "#EF553B",
           "#636efa",
           "#00cc96",
           "#FF6692",
           "#00cc96",
           "#FECB52",
           "#FF6692",
           "#ab63fa",
           "#00cc96",
           "#00cc96",
           "#FECB52",
           "#19d3f3",
           "#ab63fa",
           "#FF6692",
           "#636efa",
           "#19d3f3",
           "#FFA15A",
           "#FECB52",
           "#636efa",
           "#ab63fa",
           "#ab63fa",
           "#636efa",
           "#19d3f3",
           "#19d3f3",
           "#636efa",
           "#636efa",
           "#00cc96",
           "#FECB52",
           "#636efa",
           "#00cc96",
           "#FECB52",
           "#636efa",
           "#19d3f3",
           "#EF553B",
           "#636efa",
           "#FF97FF",
           "#19d3f3",
           "#00cc96",
           "#19d3f3",
           "#FECB52",
           "#FF97FF",
           "#FECB52",
           "#00cc96",
           "#636efa",
           "#636efa",
           "#636efa",
           "#EF553B",
           "#B6E880",
           "#00cc96",
           "#19d3f3",
           "#19d3f3",
           "#19d3f3",
           "#19d3f3",
           "#636efa",
           "#FFA15A",
           "#FF6692",
           "#FECB52",
           "#636efa",
           "#ab63fa",
           "#00cc96",
           "#19d3f3",
           "#19d3f3",
           "#FF6692",
           "#B6E880",
           "#19d3f3",
           "#00cc96",
           "#FECB52",
           "#FFA15A",
           "#FF6692",
           "#00cc96",
           "#FFA15A",
           "#636efa",
           "#19d3f3",
           "#FECB52",
           "#00cc96",
           "#FECB52",
           "#00cc96",
           "#FFA15A",
           "#FF6692",
           "#00cc96",
           "#19d3f3",
           "#636efa",
           "#FECB52",
           "#636efa",
           "#636efa",
           "#19d3f3",
           "#FFA15A",
           "#FFA15A",
           "#00cc96",
           "#FF97FF",
           "#00cc96",
           "#FECB52",
           "#EF553B",
           "#ab63fa",
           "#EF553B",
           "#636efa",
           "#636efa",
           "#19d3f3",
           "#ab63fa",
           "#19d3f3",
           "#B6E880",
           "#FF6692"
          ]
         },
         "name": "",
         "parents": [
          "International",
          "Instrumental",
          "International",
          "Electronic",
          "Hip-Hop",
          "Classical",
          "Hip-Hop",
          "International",
          "Rock",
          "Spoken",
          "Rock",
          "Soul-RnB",
          "Rock",
          "Electronic",
          "International",
          "Spoken",
          "Instrumental",
          "Spoken",
          "Easy Listening",
          "International",
          "Rock",
          "International",
          "Experimental",
          "International",
          "Rock",
          "Jazz",
          "Rock",
          "Rock",
          "Easy Listening",
          "Rock",
          "Rock",
          "International",
          "Instrumental",
          "Hip-Hop",
          "Folk",
          "Instrumental",
          "Folk",
          "International",
          "International",
          "Rock",
          "Electronic",
          "Country",
          "Hip-Hop",
          "International",
          "Experimental",
          "Soul-RnB",
          "Rock",
          "Rock",
          "Classical",
          "Classical",
          "Experimental",
          "Country",
          "Instrumental",
          "International",
          "Classical",
          "Pop",
          "Spoken",
          "Electronic",
          "Electronic",
          "International",
          "Rock",
          "Electronic",
          "International",
          "Folk",
          "International",
          "Experimental",
          "Experimental",
          "International",
          "International",
          "Electronic",
          "International",
          "Spoken",
          "Experimental",
          "Experimental",
          "Hip-Hop",
          "Blues",
          "Country",
          "Folk",
          "International",
          "Electronic",
          "Spoken",
          "Electronic",
          "Experimental",
          "Spoken",
          "Pop",
          "Country",
          "Electronic",
          "Experimental",
          "Rock",
          "Hip-Hop",
          "Spoken",
          "International",
          "Rock",
          "Classical",
          "Experimental",
          "International",
          "Hip-Hop",
          "Hip-Hop",
          "International",
          "Rock",
          "Rock",
          "Jazz",
          "Jazz",
          "Electronic",
          "Experimental",
          "Jazz",
          "Electronic",
          "Experimental",
          "International",
          "Rock",
          "Folk",
          "International",
          "Easy Listening",
          "Rock",
          "Country",
          "Rock",
          "Experimental",
          "Easy Listening",
          "Experimental",
          "Electronic",
          "International",
          "International",
          "Jazz",
          "Folk",
          "Soul-RnB",
          "Electronic",
          "Rock",
          "Rock",
          "Rock",
          "Rock",
          "International",
          "Classical",
          "Spoken",
          "Experimental",
          "International",
          "Pop",
          "Electronic",
          "Old-Time / Historic",
          "Rock",
          "Spoken",
          "Soul-RnB",
          "Rock",
          "Electronic",
          "Experimental",
          "Classical",
          "Spoken",
          "Electronic",
          "Blues",
          "Jazz",
          "Rock",
          "Experimental",
          "Electronic",
          "Experimental",
          "Country",
          "Classical",
          "Spoken",
          "Electronic",
          "Rock",
          "Jazz",
          "Experimental",
          "International",
          "International",
          "Rock",
          "",
          "",
          "",
          "",
          "",
          "",
          "",
          "",
          "",
          "",
          "",
          "",
          "",
          "",
          "",
          ""
         ],
         "type": "sunburst",
         "values": [
          1,
          1,
          1,
          1,
          1,
          1,
          1,
          1,
          1,
          1,
          1,
          1,
          1,
          1,
          1,
          1,
          1,
          1,
          1,
          1,
          1,
          1,
          1,
          1,
          1,
          1,
          1,
          1,
          1,
          1,
          1,
          1,
          1,
          1,
          1,
          1,
          1,
          1,
          1,
          1,
          1,
          1,
          1,
          1,
          1,
          1,
          1,
          1,
          1,
          1,
          1,
          1,
          1,
          1,
          1,
          1,
          1,
          1,
          1,
          1,
          1,
          1,
          1,
          1,
          1,
          1,
          1,
          1,
          1,
          1,
          1,
          1,
          1,
          1,
          1,
          1,
          1,
          1,
          1,
          1,
          1,
          1,
          1,
          1,
          1,
          1,
          1,
          1,
          1,
          1,
          1,
          1,
          1,
          1,
          1,
          1,
          1,
          1,
          1,
          1,
          1,
          1,
          1,
          1,
          1,
          1,
          1,
          1,
          1,
          1,
          1,
          1,
          1,
          1,
          1,
          1,
          1,
          1,
          1,
          1,
          1,
          1,
          1,
          1,
          1,
          1,
          1,
          1,
          1,
          1,
          1,
          1,
          1,
          1,
          1,
          1,
          1,
          1,
          1,
          1,
          1,
          1,
          1,
          1,
          1,
          1,
          1,
          1,
          1,
          1,
          1,
          1,
          1,
          1,
          1,
          1,
          1,
          1,
          1,
          1,
          1,
          1,
          1,
          2,
          8,
          6,
          4,
          19,
          19,
          6,
          8,
          5,
          30,
          7,
          1,
          3,
          29,
          4,
          12
         ]
        }
       ],
       "layout": {
        "legend": {
         "tracegroupgap": 0
        },
        "template": {
         "data": {
          "bar": [
           {
            "error_x": {
             "color": "#2a3f5f"
            },
            "error_y": {
             "color": "#2a3f5f"
            },
            "marker": {
             "line": {
              "color": "#E5ECF6",
              "width": 0.5
             }
            },
            "type": "bar"
           }
          ],
          "barpolar": [
           {
            "marker": {
             "line": {
              "color": "#E5ECF6",
              "width": 0.5
             }
            },
            "type": "barpolar"
           }
          ],
          "carpet": [
           {
            "aaxis": {
             "endlinecolor": "#2a3f5f",
             "gridcolor": "white",
             "linecolor": "white",
             "minorgridcolor": "white",
             "startlinecolor": "#2a3f5f"
            },
            "baxis": {
             "endlinecolor": "#2a3f5f",
             "gridcolor": "white",
             "linecolor": "white",
             "minorgridcolor": "white",
             "startlinecolor": "#2a3f5f"
            },
            "type": "carpet"
           }
          ],
          "choropleth": [
           {
            "colorbar": {
             "outlinewidth": 0,
             "ticks": ""
            },
            "type": "choropleth"
           }
          ],
          "contour": [
           {
            "colorbar": {
             "outlinewidth": 0,
             "ticks": ""
            },
            "colorscale": [
             [
              0.0,
              "#0d0887"
             ],
             [
              0.1111111111111111,
              "#46039f"
             ],
             [
              0.2222222222222222,
              "#7201a8"
             ],
             [
              0.3333333333333333,
              "#9c179e"
             ],
             [
              0.4444444444444444,
              "#bd3786"
             ],
             [
              0.5555555555555556,
              "#d8576b"
             ],
             [
              0.6666666666666666,
              "#ed7953"
             ],
             [
              0.7777777777777778,
              "#fb9f3a"
             ],
             [
              0.8888888888888888,
              "#fdca26"
             ],
             [
              1.0,
              "#f0f921"
             ]
            ],
            "type": "contour"
           }
          ],
          "contourcarpet": [
           {
            "colorbar": {
             "outlinewidth": 0,
             "ticks": ""
            },
            "type": "contourcarpet"
           }
          ],
          "heatmap": [
           {
            "colorbar": {
             "outlinewidth": 0,
             "ticks": ""
            },
            "colorscale": [
             [
              0.0,
              "#0d0887"
             ],
             [
              0.1111111111111111,
              "#46039f"
             ],
             [
              0.2222222222222222,
              "#7201a8"
             ],
             [
              0.3333333333333333,
              "#9c179e"
             ],
             [
              0.4444444444444444,
              "#bd3786"
             ],
             [
              0.5555555555555556,
              "#d8576b"
             ],
             [
              0.6666666666666666,
              "#ed7953"
             ],
             [
              0.7777777777777778,
              "#fb9f3a"
             ],
             [
              0.8888888888888888,
              "#fdca26"
             ],
             [
              1.0,
              "#f0f921"
             ]
            ],
            "type": "heatmap"
           }
          ],
          "heatmapgl": [
           {
            "colorbar": {
             "outlinewidth": 0,
             "ticks": ""
            },
            "colorscale": [
             [
              0.0,
              "#0d0887"
             ],
             [
              0.1111111111111111,
              "#46039f"
             ],
             [
              0.2222222222222222,
              "#7201a8"
             ],
             [
              0.3333333333333333,
              "#9c179e"
             ],
             [
              0.4444444444444444,
              "#bd3786"
             ],
             [
              0.5555555555555556,
              "#d8576b"
             ],
             [
              0.6666666666666666,
              "#ed7953"
             ],
             [
              0.7777777777777778,
              "#fb9f3a"
             ],
             [
              0.8888888888888888,
              "#fdca26"
             ],
             [
              1.0,
              "#f0f921"
             ]
            ],
            "type": "heatmapgl"
           }
          ],
          "histogram": [
           {
            "marker": {
             "colorbar": {
              "outlinewidth": 0,
              "ticks": ""
             }
            },
            "type": "histogram"
           }
          ],
          "histogram2d": [
           {
            "colorbar": {
             "outlinewidth": 0,
             "ticks": ""
            },
            "colorscale": [
             [
              0.0,
              "#0d0887"
             ],
             [
              0.1111111111111111,
              "#46039f"
             ],
             [
              0.2222222222222222,
              "#7201a8"
             ],
             [
              0.3333333333333333,
              "#9c179e"
             ],
             [
              0.4444444444444444,
              "#bd3786"
             ],
             [
              0.5555555555555556,
              "#d8576b"
             ],
             [
              0.6666666666666666,
              "#ed7953"
             ],
             [
              0.7777777777777778,
              "#fb9f3a"
             ],
             [
              0.8888888888888888,
              "#fdca26"
             ],
             [
              1.0,
              "#f0f921"
             ]
            ],
            "type": "histogram2d"
           }
          ],
          "histogram2dcontour": [
           {
            "colorbar": {
             "outlinewidth": 0,
             "ticks": ""
            },
            "colorscale": [
             [
              0.0,
              "#0d0887"
             ],
             [
              0.1111111111111111,
              "#46039f"
             ],
             [
              0.2222222222222222,
              "#7201a8"
             ],
             [
              0.3333333333333333,
              "#9c179e"
             ],
             [
              0.4444444444444444,
              "#bd3786"
             ],
             [
              0.5555555555555556,
              "#d8576b"
             ],
             [
              0.6666666666666666,
              "#ed7953"
             ],
             [
              0.7777777777777778,
              "#fb9f3a"
             ],
             [
              0.8888888888888888,
              "#fdca26"
             ],
             [
              1.0,
              "#f0f921"
             ]
            ],
            "type": "histogram2dcontour"
           }
          ],
          "mesh3d": [
           {
            "colorbar": {
             "outlinewidth": 0,
             "ticks": ""
            },
            "type": "mesh3d"
           }
          ],
          "parcoords": [
           {
            "line": {
             "colorbar": {
              "outlinewidth": 0,
              "ticks": ""
             }
            },
            "type": "parcoords"
           }
          ],
          "pie": [
           {
            "automargin": true,
            "type": "pie"
           }
          ],
          "scatter": [
           {
            "marker": {
             "colorbar": {
              "outlinewidth": 0,
              "ticks": ""
             }
            },
            "type": "scatter"
           }
          ],
          "scatter3d": [
           {
            "line": {
             "colorbar": {
              "outlinewidth": 0,
              "ticks": ""
             }
            },
            "marker": {
             "colorbar": {
              "outlinewidth": 0,
              "ticks": ""
             }
            },
            "type": "scatter3d"
           }
          ],
          "scattercarpet": [
           {
            "marker": {
             "colorbar": {
              "outlinewidth": 0,
              "ticks": ""
             }
            },
            "type": "scattercarpet"
           }
          ],
          "scattergeo": [
           {
            "marker": {
             "colorbar": {
              "outlinewidth": 0,
              "ticks": ""
             }
            },
            "type": "scattergeo"
           }
          ],
          "scattergl": [
           {
            "marker": {
             "colorbar": {
              "outlinewidth": 0,
              "ticks": ""
             }
            },
            "type": "scattergl"
           }
          ],
          "scattermapbox": [
           {
            "marker": {
             "colorbar": {
              "outlinewidth": 0,
              "ticks": ""
             }
            },
            "type": "scattermapbox"
           }
          ],
          "scatterpolar": [
           {
            "marker": {
             "colorbar": {
              "outlinewidth": 0,
              "ticks": ""
             }
            },
            "type": "scatterpolar"
           }
          ],
          "scatterpolargl": [
           {
            "marker": {
             "colorbar": {
              "outlinewidth": 0,
              "ticks": ""
             }
            },
            "type": "scatterpolargl"
           }
          ],
          "scatterternary": [
           {
            "marker": {
             "colorbar": {
              "outlinewidth": 0,
              "ticks": ""
             }
            },
            "type": "scatterternary"
           }
          ],
          "surface": [
           {
            "colorbar": {
             "outlinewidth": 0,
             "ticks": ""
            },
            "colorscale": [
             [
              0.0,
              "#0d0887"
             ],
             [
              0.1111111111111111,
              "#46039f"
             ],
             [
              0.2222222222222222,
              "#7201a8"
             ],
             [
              0.3333333333333333,
              "#9c179e"
             ],
             [
              0.4444444444444444,
              "#bd3786"
             ],
             [
              0.5555555555555556,
              "#d8576b"
             ],
             [
              0.6666666666666666,
              "#ed7953"
             ],
             [
              0.7777777777777778,
              "#fb9f3a"
             ],
             [
              0.8888888888888888,
              "#fdca26"
             ],
             [
              1.0,
              "#f0f921"
             ]
            ],
            "type": "surface"
           }
          ],
          "table": [
           {
            "cells": {
             "fill": {
              "color": "#EBF0F8"
             },
             "line": {
              "color": "white"
             }
            },
            "header": {
             "fill": {
              "color": "#C8D4E3"
             },
             "line": {
              "color": "white"
             }
            },
            "type": "table"
           }
          ]
         },
         "layout": {
          "annotationdefaults": {
           "arrowcolor": "#2a3f5f",
           "arrowhead": 0,
           "arrowwidth": 1
          },
          "autotypenumbers": "strict",
          "coloraxis": {
           "colorbar": {
            "outlinewidth": 0,
            "ticks": ""
           }
          },
          "colorscale": {
           "diverging": [
            [
             0,
             "#8e0152"
            ],
            [
             0.1,
             "#c51b7d"
            ],
            [
             0.2,
             "#de77ae"
            ],
            [
             0.3,
             "#f1b6da"
            ],
            [
             0.4,
             "#fde0ef"
            ],
            [
             0.5,
             "#f7f7f7"
            ],
            [
             0.6,
             "#e6f5d0"
            ],
            [
             0.7,
             "#b8e186"
            ],
            [
             0.8,
             "#7fbc41"
            ],
            [
             0.9,
             "#4d9221"
            ],
            [
             1,
             "#276419"
            ]
           ],
           "sequential": [
            [
             0.0,
             "#0d0887"
            ],
            [
             0.1111111111111111,
             "#46039f"
            ],
            [
             0.2222222222222222,
             "#7201a8"
            ],
            [
             0.3333333333333333,
             "#9c179e"
            ],
            [
             0.4444444444444444,
             "#bd3786"
            ],
            [
             0.5555555555555556,
             "#d8576b"
            ],
            [
             0.6666666666666666,
             "#ed7953"
            ],
            [
             0.7777777777777778,
             "#fb9f3a"
            ],
            [
             0.8888888888888888,
             "#fdca26"
            ],
            [
             1.0,
             "#f0f921"
            ]
           ],
           "sequentialminus": [
            [
             0.0,
             "#0d0887"
            ],
            [
             0.1111111111111111,
             "#46039f"
            ],
            [
             0.2222222222222222,
             "#7201a8"
            ],
            [
             0.3333333333333333,
             "#9c179e"
            ],
            [
             0.4444444444444444,
             "#bd3786"
            ],
            [
             0.5555555555555556,
             "#d8576b"
            ],
            [
             0.6666666666666666,
             "#ed7953"
            ],
            [
             0.7777777777777778,
             "#fb9f3a"
            ],
            [
             0.8888888888888888,
             "#fdca26"
            ],
            [
             1.0,
             "#f0f921"
            ]
           ]
          },
          "colorway": [
           "#636efa",
           "#EF553B",
           "#00cc96",
           "#ab63fa",
           "#FFA15A",
           "#19d3f3",
           "#FF6692",
           "#B6E880",
           "#FF97FF",
           "#FECB52"
          ],
          "font": {
           "color": "#2a3f5f"
          },
          "geo": {
           "bgcolor": "white",
           "lakecolor": "white",
           "landcolor": "#E5ECF6",
           "showlakes": true,
           "showland": true,
           "subunitcolor": "white"
          },
          "hoverlabel": {
           "align": "left"
          },
          "hovermode": "closest",
          "mapbox": {
           "style": "light"
          },
          "paper_bgcolor": "white",
          "plot_bgcolor": "#E5ECF6",
          "polar": {
           "angularaxis": {
            "gridcolor": "white",
            "linecolor": "white",
            "ticks": ""
           },
           "bgcolor": "#E5ECF6",
           "radialaxis": {
            "gridcolor": "white",
            "linecolor": "white",
            "ticks": ""
           }
          },
          "scene": {
           "xaxis": {
            "backgroundcolor": "#E5ECF6",
            "gridcolor": "white",
            "gridwidth": 2,
            "linecolor": "white",
            "showbackground": true,
            "ticks": "",
            "zerolinecolor": "white"
           },
           "yaxis": {
            "backgroundcolor": "#E5ECF6",
            "gridcolor": "white",
            "gridwidth": 2,
            "linecolor": "white",
            "showbackground": true,
            "ticks": "",
            "zerolinecolor": "white"
           },
           "zaxis": {
            "backgroundcolor": "#E5ECF6",
            "gridcolor": "white",
            "gridwidth": 2,
            "linecolor": "white",
            "showbackground": true,
            "ticks": "",
            "zerolinecolor": "white"
           }
          },
          "shapedefaults": {
           "line": {
            "color": "#2a3f5f"
           }
          },
          "ternary": {
           "aaxis": {
            "gridcolor": "white",
            "linecolor": "white",
            "ticks": ""
           },
           "baxis": {
            "gridcolor": "white",
            "linecolor": "white",
            "ticks": ""
           },
           "bgcolor": "#E5ECF6",
           "caxis": {
            "gridcolor": "white",
            "linecolor": "white",
            "ticks": ""
           }
          },
          "title": {
           "x": 0.05
          },
          "xaxis": {
           "automargin": true,
           "gridcolor": "white",
           "linecolor": "white",
           "ticks": "",
           "title": {
            "standoff": 15
           },
           "zerolinecolor": "white",
           "zerolinewidth": 2
          },
          "yaxis": {
           "automargin": true,
           "gridcolor": "white",
           "linecolor": "white",
           "ticks": "",
           "title": {
            "standoff": 15
           },
           "zerolinecolor": "white",
           "zerolinewidth": 2
          }
         }
        },
        "title": {
         "text": "Genres parent/child"
        }
       }
      },
      "text/html": "<div>                            <div id=\"42a0fd35-8558-4410-9ae1-7d9644fef05f\" class=\"plotly-graph-div\" style=\"height:525px; width:100%;\"></div>            <script type=\"text/javascript\">                require([\"plotly\"], function(Plotly) {                    window.PLOTLYENV=window.PLOTLYENV || {};                                    if (document.getElementById(\"42a0fd35-8558-4410-9ae1-7d9644fef05f\")) {                    Plotly.newPlot(                        \"42a0fd35-8558-4410-9ae1-7d9644fef05f\",                        [{\"branchvalues\": \"total\", \"customdata\": [[\"International\"], [\"Instrumental\"], [\"International\"], [\"Electronic\"], [\"Hip-Hop\"], [\"Classical\"], [\"Hip-Hop\"], [\"International\"], [\"Rock\"], [\"Spoken\"], [\"Rock\"], [\"Soul-RnB\"], [\"Rock\"], [\"Electronic\"], [\"International\"], [\"Spoken\"], [\"Instrumental\"], [\"Spoken\"], [\"Easy Listening\"], [\"International\"], [\"Rock\"], [\"International\"], [\"Experimental\"], [\"International\"], [\"Rock\"], [\"Jazz\"], [\"Rock\"], [\"Rock\"], [\"Easy Listening\"], [\"Rock\"], [\"Rock\"], [\"International\"], [\"Instrumental\"], [\"Hip-Hop\"], [\"Folk\"], [\"Instrumental\"], [\"Folk\"], [\"International\"], [\"International\"], [\"Rock\"], [\"Electronic\"], [\"Country\"], [\"Hip-Hop\"], [\"International\"], [\"Experimental\"], [\"Soul-RnB\"], [\"Rock\"], [\"Rock\"], [\"Classical\"], [\"Classical\"], [\"Experimental\"], [\"Country\"], [\"Instrumental\"], [\"International\"], [\"Classical\"], [\"Pop\"], [\"Spoken\"], [\"Electronic\"], [\"Electronic\"], [\"International\"], [\"Rock\"], [\"Electronic\"], [\"International\"], [\"Folk\"], [\"International\"], [\"Experimental\"], [\"Experimental\"], [\"International\"], [\"International\"], [\"Electronic\"], [\"International\"], [\"Spoken\"], [\"Experimental\"], [\"Experimental\"], [\"Hip-Hop\"], [\"Blues\"], [\"Country\"], [\"Folk\"], [\"International\"], [\"Electronic\"], [\"Spoken\"], [\"Electronic\"], [\"Experimental\"], [\"Spoken\"], [\"Pop\"], [\"Country\"], [\"Electronic\"], [\"Experimental\"], [\"Rock\"], [\"Hip-Hop\"], [\"Spoken\"], [\"International\"], [\"Rock\"], [\"Classical\"], [\"Experimental\"], [\"International\"], [\"Hip-Hop\"], [\"Hip-Hop\"], [\"International\"], [\"Rock\"], [\"Rock\"], [\"Jazz\"], [\"Jazz\"], [\"Electronic\"], [\"Experimental\"], [\"Jazz\"], [\"Electronic\"], [\"Experimental\"], [\"International\"], [\"Rock\"], [\"Folk\"], [\"International\"], [\"Easy Listening\"], [\"Rock\"], [\"Country\"], [\"Rock\"], [\"Experimental\"], [\"Easy Listening\"], [\"Experimental\"], [\"Electronic\"], [\"International\"], [\"International\"], [\"Jazz\"], [\"Folk\"], [\"Soul-RnB\"], [\"Electronic\"], [\"Rock\"], [\"Rock\"], [\"Rock\"], [\"Rock\"], [\"International\"], [\"Classical\"], [\"Spoken\"], [\"Experimental\"], [\"International\"], [\"Pop\"], [\"Electronic\"], [\"Old-Time / Historic\"], [\"Rock\"], [\"Spoken\"], [\"Soul-RnB\"], [\"Rock\"], [\"Electronic\"], [\"Experimental\"], [\"Classical\"], [\"Spoken\"], [\"Electronic\"], [\"Blues\"], [\"Jazz\"], [\"Rock\"], [\"Experimental\"], [\"Electronic\"], [\"Experimental\"], [\"Country\"], [\"Classical\"], [\"Spoken\"], [\"Electronic\"], [\"Rock\"], [\"Jazz\"], [\"Experimental\"], [\"International\"], [\"International\"], [\"Rock\"], [\"Blues\"], [\"Classical\"], [\"Country\"], [\"Easy Listening\"], [\"Electronic\"], [\"Experimental\"], [\"Folk\"], [\"Hip-Hop\"], [\"Instrumental\"], [\"International\"], [\"Jazz\"], [\"Old-Time / Historic\"], [\"Pop\"], [\"Rock\"], [\"Soul-RnB\"], [\"Spoken\"]], \"domain\": {\"x\": [0.0, 1.0], \"y\": [0.0, 1.0]}, \"hovertemplate\": \"labels=%{label}<br>count=%{value}<br>parent=%{parent}<br>id=%{id}<br>title_top=%{customdata[0]}<extra></extra>\", \"ids\": [\"International/African\", \"Instrumental/Soundtrack\", \"International/Reggae - Dub\", \"Electronic/Minimal Electronic\", \"Hip-Hop/Alternative Hip-Hop\", \"Classical/Opera\", \"Hip-Hop/Rap\", \"International/Reggae - Dancehall\", \"Rock/Rock\", \"Spoken/Spoken Weird\", \"Rock/Industrial\", \"Soul-RnB/Deep Funk\", \"Rock/Shoegaze\", \"Electronic/IDM\", \"International/Asia-Far East\", \"Spoken/Spoken\", \"Instrumental/Instrumental\", \"Spoken/Banter\", \"Easy Listening/Nu-Jazz\", \"International/Tango\", \"Rock/Psych-Rock\", \"International/Pacific\", \"Experimental/Novelty\", \"International/North African\", \"Rock/Noise-Rock\", \"Jazz/Big Band/Swing\", \"Rock/Surf\", \"Rock/Metal\", \"Easy Listening/Lounge\", \"Rock/Loud-Rock\", \"Rock/Lo-Fi\", \"International/Latin America\", \"Instrumental/New Age\", \"Hip-Hop/Nerdcore\", \"Folk/Psych-Folk\", \"Instrumental/Compilation\", \"Folk/Singer-Songwriter\", \"International/Romany (Gypsy)\", \"International/Salsa\", \"Rock/New Wave\", \"Electronic/Bigbeat\", \"Country/Western Swing\", \"Hip-Hop/Breakbeat\", \"International/Middle East\", \"Experimental/Musique Concrete\", \"Soul-RnB/Soul-RnB\", \"Rock/Rock Opera\", \"Rock/No Wave\", \"Classical/Chamber Music\", \"Classical/20th Century Classical\", \"Experimental/Holiday\", \"Country/Country & Western\", \"Instrumental/Ambient\", \"International/Polka\", \"Classical/Classical\", \"Pop/Synth Pop\", \"Spoken/Comedy\", \"Electronic/Chip Music\", \"Electronic/Chiptune\", \"International/Latin\", \"Rock/Black-Metal\", \"Electronic/Glitch\", \"International/Cumbia\", \"Folk/Freak-Folk\", \"International/Brazilian\", \"Experimental/Sound Effects\", \"Experimental/Sound Poetry\", \"International/South Indian Traditional\", \"International/Europe\", \"Electronic/Techno\", \"International/French\", \"Spoken/Spoken Word\", \"Experimental/Sound Collage\", \"Experimental/Noise\", \"Hip-Hop/Wonky\", \"Blues/Gospel\", \"Country/Bluegrass\", \"Folk/Folk\", \"International/Turkish\", \"Electronic/Trip-Hop\", \"Spoken/Musical Theater\", \"Electronic/Skweee\", \"Experimental/Sound Art\", \"Spoken/Interview\", \"Pop/Experimental Pop\", \"Country/Country\", \"Electronic/Electronic\", \"Experimental/Electroacoustic\", \"Rock/Electro-Punk\", \"Hip-Hop/Abstract Hip-Hop\", \"Spoken/Talk Radio\", \"International/N. Indian Traditional\", \"Rock/Sludge\", \"Classical/Symphony\", \"Experimental/Unclassifiable\", \"International/Spanish\", \"Hip-Hop/Hip-Hop Beats\", \"Hip-Hop/Hip-Hop\", \"International/International\", \"Rock/Space-Rock\", \"Rock/Garage\", \"Jazz/Jazz\", \"Jazz/Jazz: Vocal\", \"Electronic/Jungle\", \"Experimental/Kid-Friendly\", \"Jazz/Jazz: Out\", \"Electronic/House\", \"Experimental/Christmas\", \"International/Klezmer\", \"Rock/Krautrock\", \"Folk/Free-Folk\", \"International/Afrobeat\", \"Easy Listening/Easy Listening\", \"Rock/Thrash\", \"Country/Americana\", \"Rock/Post-Punk\", \"Experimental/Audio Collage\", \"Easy Listening/Easy Listening: Vocal\", \"Experimental/Drone\", \"Electronic/Chill-out\", \"International/Celtic\", \"International/Flamenco\", \"Jazz/Free-Jazz\", \"Folk/British Folk\", \"Soul-RnB/Funk\", \"Electronic/Breakcore - Hard\", \"Rock/Goth\", \"Rock/Grindcore\", \"Rock/Hardcore\", \"Rock/Indie-Rock\", \"International/Balkan\", \"Classical/Choral Music\", \"Spoken/Poetry\", \"Experimental/Field Recordings\", \"International/Fado\", \"Pop/Pop\", \"Electronic/Dubstep\", \"Old-Time / Historic/Old-Time / Historic\", \"Rock/Punk\", \"Spoken/Radio Art\", \"Soul-RnB/Disco\", \"Rock/Death-Metal\", \"Electronic/Dance\", \"Experimental/Experimental\", \"Classical/Contemporary Classical\", \"Spoken/Radio Theater\", \"Electronic/Drum & Bass\", \"Blues/Blues\", \"Jazz/Be-Bop\", \"Rock/Power-Pop\", \"Experimental/Avant-Garde\", \"Electronic/Ambient Electronic\", \"Experimental/Improv\", \"Country/Rockabilly\", \"Classical/Composed Music\", \"Spoken/Radio\", \"Electronic/Downtempo\", \"Rock/Progressive\", \"Jazz/Modern Jazz\", \"Experimental/Minimalism\", \"International/Indian\", \"International/Bollywood\", \"Rock/Post-Rock\", \"Blues\", \"Classical\", \"Country\", \"Easy Listening\", \"Electronic\", \"Experimental\", \"Folk\", \"Hip-Hop\", \"Instrumental\", \"International\", \"Jazz\", \"Old-Time / Historic\", \"Pop\", \"Rock\", \"Soul-RnB\", \"Spoken\"], \"labels\": [\"African\", \"Soundtrack\", \"Reggae - Dub\", \"Minimal Electronic\", \"Alternative Hip-Hop\", \"Opera\", \"Rap\", \"Reggae - Dancehall\", \"Rock\", \"Spoken Weird\", \"Industrial\", \"Deep Funk\", \"Shoegaze\", \"IDM\", \"Asia-Far East\", \"Spoken\", \"Instrumental\", \"Banter\", \"Nu-Jazz\", \"Tango\", \"Psych-Rock\", \"Pacific\", \"Novelty\", \"North African\", \"Noise-Rock\", \"Big Band/Swing\", \"Surf\", \"Metal\", \"Lounge\", \"Loud-Rock\", \"Lo-Fi\", \"Latin America\", \"New Age\", \"Nerdcore\", \"Psych-Folk\", \"Compilation\", \"Singer-Songwriter\", \"Romany (Gypsy)\", \"Salsa\", \"New Wave\", \"Bigbeat\", \"Western Swing\", \"Breakbeat\", \"Middle East\", \"Musique Concrete\", \"Soul-RnB\", \"Rock Opera\", \"No Wave\", \"Chamber Music\", \"20th Century Classical\", \"Holiday\", \"Country & Western\", \"Ambient\", \"Polka\", \"Classical\", \"Synth Pop\", \"Comedy\", \"Chip Music\", \"Chiptune\", \"Latin\", \"Black-Metal\", \"Glitch\", \"Cumbia\", \"Freak-Folk\", \"Brazilian\", \"Sound Effects\", \"Sound Poetry\", \"South Indian Traditional\", \"Europe\", \"Techno\", \"French\", \"Spoken Word\", \"Sound Collage\", \"Noise\", \"Wonky\", \"Gospel\", \"Bluegrass\", \"Folk\", \"Turkish\", \"Trip-Hop\", \"Musical Theater\", \"Skweee\", \"Sound Art\", \"Interview\", \"Experimental Pop\", \"Country\", \"Electronic\", \"Electroacoustic\", \"Electro-Punk\", \"Abstract Hip-Hop\", \"Talk Radio\", \"N. Indian Traditional\", \"Sludge\", \"Symphony\", \"Unclassifiable\", \"Spanish\", \"Hip-Hop Beats\", \"Hip-Hop\", \"International\", \"Space-Rock\", \"Garage\", \"Jazz\", \"Jazz: Vocal\", \"Jungle\", \"Kid-Friendly\", \"Jazz: Out\", \"House\", \"Christmas\", \"Klezmer\", \"Krautrock\", \"Free-Folk\", \"Afrobeat\", \"Easy Listening\", \"Thrash\", \"Americana\", \"Post-Punk\", \"Audio Collage\", \"Easy Listening: Vocal\", \"Drone\", \"Chill-out\", \"Celtic\", \"Flamenco\", \"Free-Jazz\", \"British Folk\", \"Funk\", \"Breakcore - Hard\", \"Goth\", \"Grindcore\", \"Hardcore\", \"Indie-Rock\", \"Balkan\", \"Choral Music\", \"Poetry\", \"Field Recordings\", \"Fado\", \"Pop\", \"Dubstep\", \"Old-Time / Historic\", \"Punk\", \"Radio Art\", \"Disco\", \"Death-Metal\", \"Dance\", \"Experimental\", \"Contemporary Classical\", \"Radio Theater\", \"Drum & Bass\", \"Blues\", \"Be-Bop\", \"Power-Pop\", \"Avant-Garde\", \"Ambient Electronic\", \"Improv\", \"Rockabilly\", \"Composed Music\", \"Radio\", \"Downtempo\", \"Progressive\", \"Modern Jazz\", \"Minimalism\", \"Indian\", \"Bollywood\", \"Post-Rock\", \"Blues\", \"Classical\", \"Country\", \"Easy Listening\", \"Electronic\", \"Experimental\", \"Folk\", \"Hip-Hop\", \"Instrumental\", \"International\", \"Jazz\", \"Old-Time / Historic\", \"Pop\", \"Rock\", \"Soul-RnB\", \"Spoken\"], \"marker\": {\"colors\": [\"#636efa\", \"#EF553B\", \"#636efa\", \"#00cc96\", \"#ab63fa\", \"#FFA15A\", \"#ab63fa\", \"#636efa\", \"#19d3f3\", \"#FF6692\", \"#19d3f3\", \"#B6E880\", \"#19d3f3\", \"#00cc96\", \"#636efa\", \"#FF6692\", \"#EF553B\", \"#FF6692\", \"#FF97FF\", \"#636efa\", \"#19d3f3\", \"#636efa\", \"#FECB52\", \"#636efa\", \"#19d3f3\", \"#636efa\", \"#19d3f3\", \"#19d3f3\", \"#FF97FF\", \"#19d3f3\", \"#19d3f3\", \"#636efa\", \"#EF553B\", \"#ab63fa\", \"#EF553B\", \"#EF553B\", \"#EF553B\", \"#636efa\", \"#636efa\", \"#19d3f3\", \"#00cc96\", \"#00cc96\", \"#ab63fa\", \"#636efa\", \"#FECB52\", \"#B6E880\", \"#19d3f3\", \"#19d3f3\", \"#FFA15A\", \"#FFA15A\", \"#FECB52\", \"#00cc96\", \"#EF553B\", \"#636efa\", \"#FFA15A\", \"#ab63fa\", \"#FF6692\", \"#00cc96\", \"#00cc96\", \"#636efa\", \"#19d3f3\", \"#00cc96\", \"#636efa\", \"#EF553B\", \"#636efa\", \"#FECB52\", \"#FECB52\", \"#636efa\", \"#636efa\", \"#00cc96\", \"#636efa\", \"#FF6692\", \"#FECB52\", \"#FECB52\", \"#ab63fa\", \"#FFA15A\", \"#00cc96\", \"#EF553B\", \"#636efa\", \"#00cc96\", \"#FF6692\", \"#00cc96\", \"#FECB52\", \"#FF6692\", \"#ab63fa\", \"#00cc96\", \"#00cc96\", \"#FECB52\", \"#19d3f3\", \"#ab63fa\", \"#FF6692\", \"#636efa\", \"#19d3f3\", \"#FFA15A\", \"#FECB52\", \"#636efa\", \"#ab63fa\", \"#ab63fa\", \"#636efa\", \"#19d3f3\", \"#19d3f3\", \"#636efa\", \"#636efa\", \"#00cc96\", \"#FECB52\", \"#636efa\", \"#00cc96\", \"#FECB52\", \"#636efa\", \"#19d3f3\", \"#EF553B\", \"#636efa\", \"#FF97FF\", \"#19d3f3\", \"#00cc96\", \"#19d3f3\", \"#FECB52\", \"#FF97FF\", \"#FECB52\", \"#00cc96\", \"#636efa\", \"#636efa\", \"#636efa\", \"#EF553B\", \"#B6E880\", \"#00cc96\", \"#19d3f3\", \"#19d3f3\", \"#19d3f3\", \"#19d3f3\", \"#636efa\", \"#FFA15A\", \"#FF6692\", \"#FECB52\", \"#636efa\", \"#ab63fa\", \"#00cc96\", \"#19d3f3\", \"#19d3f3\", \"#FF6692\", \"#B6E880\", \"#19d3f3\", \"#00cc96\", \"#FECB52\", \"#FFA15A\", \"#FF6692\", \"#00cc96\", \"#FFA15A\", \"#636efa\", \"#19d3f3\", \"#FECB52\", \"#00cc96\", \"#FECB52\", \"#00cc96\", \"#FFA15A\", \"#FF6692\", \"#00cc96\", \"#19d3f3\", \"#636efa\", \"#FECB52\", \"#636efa\", \"#636efa\", \"#19d3f3\", \"#FFA15A\", \"#FFA15A\", \"#00cc96\", \"#FF97FF\", \"#00cc96\", \"#FECB52\", \"#EF553B\", \"#ab63fa\", \"#EF553B\", \"#636efa\", \"#636efa\", \"#19d3f3\", \"#ab63fa\", \"#19d3f3\", \"#B6E880\", \"#FF6692\"]}, \"name\": \"\", \"parents\": [\"International\", \"Instrumental\", \"International\", \"Electronic\", \"Hip-Hop\", \"Classical\", \"Hip-Hop\", \"International\", \"Rock\", \"Spoken\", \"Rock\", \"Soul-RnB\", \"Rock\", \"Electronic\", \"International\", \"Spoken\", \"Instrumental\", \"Spoken\", \"Easy Listening\", \"International\", \"Rock\", \"International\", \"Experimental\", \"International\", \"Rock\", \"Jazz\", \"Rock\", \"Rock\", \"Easy Listening\", \"Rock\", \"Rock\", \"International\", \"Instrumental\", \"Hip-Hop\", \"Folk\", \"Instrumental\", \"Folk\", \"International\", \"International\", \"Rock\", \"Electronic\", \"Country\", \"Hip-Hop\", \"International\", \"Experimental\", \"Soul-RnB\", \"Rock\", \"Rock\", \"Classical\", \"Classical\", \"Experimental\", \"Country\", \"Instrumental\", \"International\", \"Classical\", \"Pop\", \"Spoken\", \"Electronic\", \"Electronic\", \"International\", \"Rock\", \"Electronic\", \"International\", \"Folk\", \"International\", \"Experimental\", \"Experimental\", \"International\", \"International\", \"Electronic\", \"International\", \"Spoken\", \"Experimental\", \"Experimental\", \"Hip-Hop\", \"Blues\", \"Country\", \"Folk\", \"International\", \"Electronic\", \"Spoken\", \"Electronic\", \"Experimental\", \"Spoken\", \"Pop\", \"Country\", \"Electronic\", \"Experimental\", \"Rock\", \"Hip-Hop\", \"Spoken\", \"International\", \"Rock\", \"Classical\", \"Experimental\", \"International\", \"Hip-Hop\", \"Hip-Hop\", \"International\", \"Rock\", \"Rock\", \"Jazz\", \"Jazz\", \"Electronic\", \"Experimental\", \"Jazz\", \"Electronic\", \"Experimental\", \"International\", \"Rock\", \"Folk\", \"International\", \"Easy Listening\", \"Rock\", \"Country\", \"Rock\", \"Experimental\", \"Easy Listening\", \"Experimental\", \"Electronic\", \"International\", \"International\", \"Jazz\", \"Folk\", \"Soul-RnB\", \"Electronic\", \"Rock\", \"Rock\", \"Rock\", \"Rock\", \"International\", \"Classical\", \"Spoken\", \"Experimental\", \"International\", \"Pop\", \"Electronic\", \"Old-Time / Historic\", \"Rock\", \"Spoken\", \"Soul-RnB\", \"Rock\", \"Electronic\", \"Experimental\", \"Classical\", \"Spoken\", \"Electronic\", \"Blues\", \"Jazz\", \"Rock\", \"Experimental\", \"Electronic\", \"Experimental\", \"Country\", \"Classical\", \"Spoken\", \"Electronic\", \"Rock\", \"Jazz\", \"Experimental\", \"International\", \"International\", \"Rock\", \"\", \"\", \"\", \"\", \"\", \"\", \"\", \"\", \"\", \"\", \"\", \"\", \"\", \"\", \"\", \"\"], \"type\": \"sunburst\", \"values\": [1, 1, 1, 1, 1, 1, 1, 1, 1, 1, 1, 1, 1, 1, 1, 1, 1, 1, 1, 1, 1, 1, 1, 1, 1, 1, 1, 1, 1, 1, 1, 1, 1, 1, 1, 1, 1, 1, 1, 1, 1, 1, 1, 1, 1, 1, 1, 1, 1, 1, 1, 1, 1, 1, 1, 1, 1, 1, 1, 1, 1, 1, 1, 1, 1, 1, 1, 1, 1, 1, 1, 1, 1, 1, 1, 1, 1, 1, 1, 1, 1, 1, 1, 1, 1, 1, 1, 1, 1, 1, 1, 1, 1, 1, 1, 1, 1, 1, 1, 1, 1, 1, 1, 1, 1, 1, 1, 1, 1, 1, 1, 1, 1, 1, 1, 1, 1, 1, 1, 1, 1, 1, 1, 1, 1, 1, 1, 1, 1, 1, 1, 1, 1, 1, 1, 1, 1, 1, 1, 1, 1, 1, 1, 1, 1, 1, 1, 1, 1, 1, 1, 1, 1, 1, 1, 1, 1, 1, 1, 1, 1, 1, 1, 2, 8, 6, 4, 19, 19, 6, 8, 5, 30, 7, 1, 3, 29, 4, 12]}],                        {\"legend\": {\"tracegroupgap\": 0}, \"template\": {\"data\": {\"bar\": [{\"error_x\": {\"color\": \"#2a3f5f\"}, \"error_y\": {\"color\": \"#2a3f5f\"}, \"marker\": {\"line\": {\"color\": \"#E5ECF6\", \"width\": 0.5}}, \"type\": \"bar\"}], \"barpolar\": [{\"marker\": {\"line\": {\"color\": \"#E5ECF6\", \"width\": 0.5}}, \"type\": \"barpolar\"}], \"carpet\": [{\"aaxis\": {\"endlinecolor\": \"#2a3f5f\", \"gridcolor\": \"white\", \"linecolor\": \"white\", \"minorgridcolor\": \"white\", \"startlinecolor\": \"#2a3f5f\"}, \"baxis\": {\"endlinecolor\": \"#2a3f5f\", \"gridcolor\": \"white\", \"linecolor\": \"white\", \"minorgridcolor\": \"white\", \"startlinecolor\": \"#2a3f5f\"}, \"type\": \"carpet\"}], \"choropleth\": [{\"colorbar\": {\"outlinewidth\": 0, \"ticks\": \"\"}, \"type\": \"choropleth\"}], \"contour\": [{\"colorbar\": {\"outlinewidth\": 0, \"ticks\": \"\"}, \"colorscale\": [[0.0, \"#0d0887\"], [0.1111111111111111, \"#46039f\"], [0.2222222222222222, \"#7201a8\"], [0.3333333333333333, \"#9c179e\"], [0.4444444444444444, \"#bd3786\"], [0.5555555555555556, \"#d8576b\"], [0.6666666666666666, \"#ed7953\"], [0.7777777777777778, \"#fb9f3a\"], [0.8888888888888888, \"#fdca26\"], [1.0, \"#f0f921\"]], \"type\": \"contour\"}], \"contourcarpet\": [{\"colorbar\": {\"outlinewidth\": 0, \"ticks\": \"\"}, \"type\": \"contourcarpet\"}], \"heatmap\": [{\"colorbar\": {\"outlinewidth\": 0, \"ticks\": \"\"}, \"colorscale\": [[0.0, \"#0d0887\"], [0.1111111111111111, \"#46039f\"], [0.2222222222222222, \"#7201a8\"], [0.3333333333333333, \"#9c179e\"], [0.4444444444444444, \"#bd3786\"], [0.5555555555555556, \"#d8576b\"], [0.6666666666666666, \"#ed7953\"], [0.7777777777777778, \"#fb9f3a\"], [0.8888888888888888, \"#fdca26\"], [1.0, \"#f0f921\"]], \"type\": \"heatmap\"}], \"heatmapgl\": [{\"colorbar\": {\"outlinewidth\": 0, \"ticks\": \"\"}, \"colorscale\": [[0.0, \"#0d0887\"], [0.1111111111111111, \"#46039f\"], [0.2222222222222222, \"#7201a8\"], [0.3333333333333333, \"#9c179e\"], [0.4444444444444444, \"#bd3786\"], [0.5555555555555556, \"#d8576b\"], [0.6666666666666666, \"#ed7953\"], [0.7777777777777778, \"#fb9f3a\"], [0.8888888888888888, \"#fdca26\"], [1.0, \"#f0f921\"]], \"type\": \"heatmapgl\"}], \"histogram\": [{\"marker\": {\"colorbar\": {\"outlinewidth\": 0, \"ticks\": \"\"}}, \"type\": \"histogram\"}], \"histogram2d\": [{\"colorbar\": {\"outlinewidth\": 0, \"ticks\": \"\"}, \"colorscale\": [[0.0, \"#0d0887\"], [0.1111111111111111, \"#46039f\"], [0.2222222222222222, \"#7201a8\"], [0.3333333333333333, \"#9c179e\"], [0.4444444444444444, \"#bd3786\"], [0.5555555555555556, \"#d8576b\"], [0.6666666666666666, \"#ed7953\"], [0.7777777777777778, \"#fb9f3a\"], [0.8888888888888888, \"#fdca26\"], [1.0, \"#f0f921\"]], \"type\": \"histogram2d\"}], \"histogram2dcontour\": [{\"colorbar\": {\"outlinewidth\": 0, \"ticks\": \"\"}, \"colorscale\": [[0.0, \"#0d0887\"], [0.1111111111111111, \"#46039f\"], [0.2222222222222222, \"#7201a8\"], [0.3333333333333333, \"#9c179e\"], [0.4444444444444444, \"#bd3786\"], [0.5555555555555556, \"#d8576b\"], [0.6666666666666666, \"#ed7953\"], [0.7777777777777778, \"#fb9f3a\"], [0.8888888888888888, \"#fdca26\"], [1.0, \"#f0f921\"]], \"type\": \"histogram2dcontour\"}], \"mesh3d\": [{\"colorbar\": {\"outlinewidth\": 0, \"ticks\": \"\"}, \"type\": \"mesh3d\"}], \"parcoords\": [{\"line\": {\"colorbar\": {\"outlinewidth\": 0, \"ticks\": \"\"}}, \"type\": \"parcoords\"}], \"pie\": [{\"automargin\": true, \"type\": \"pie\"}], \"scatter\": [{\"marker\": {\"colorbar\": {\"outlinewidth\": 0, \"ticks\": \"\"}}, \"type\": \"scatter\"}], \"scatter3d\": [{\"line\": {\"colorbar\": {\"outlinewidth\": 0, \"ticks\": \"\"}}, \"marker\": {\"colorbar\": {\"outlinewidth\": 0, \"ticks\": \"\"}}, \"type\": \"scatter3d\"}], \"scattercarpet\": [{\"marker\": {\"colorbar\": {\"outlinewidth\": 0, \"ticks\": \"\"}}, \"type\": \"scattercarpet\"}], \"scattergeo\": [{\"marker\": {\"colorbar\": {\"outlinewidth\": 0, \"ticks\": \"\"}}, \"type\": \"scattergeo\"}], \"scattergl\": [{\"marker\": {\"colorbar\": {\"outlinewidth\": 0, \"ticks\": \"\"}}, \"type\": \"scattergl\"}], \"scattermapbox\": [{\"marker\": {\"colorbar\": {\"outlinewidth\": 0, \"ticks\": \"\"}}, \"type\": \"scattermapbox\"}], \"scatterpolar\": [{\"marker\": {\"colorbar\": {\"outlinewidth\": 0, \"ticks\": \"\"}}, \"type\": \"scatterpolar\"}], \"scatterpolargl\": [{\"marker\": {\"colorbar\": {\"outlinewidth\": 0, \"ticks\": \"\"}}, \"type\": \"scatterpolargl\"}], \"scatterternary\": [{\"marker\": {\"colorbar\": {\"outlinewidth\": 0, \"ticks\": \"\"}}, \"type\": \"scatterternary\"}], \"surface\": [{\"colorbar\": {\"outlinewidth\": 0, \"ticks\": \"\"}, \"colorscale\": [[0.0, \"#0d0887\"], [0.1111111111111111, \"#46039f\"], [0.2222222222222222, \"#7201a8\"], [0.3333333333333333, \"#9c179e\"], [0.4444444444444444, \"#bd3786\"], [0.5555555555555556, \"#d8576b\"], [0.6666666666666666, \"#ed7953\"], [0.7777777777777778, \"#fb9f3a\"], [0.8888888888888888, \"#fdca26\"], [1.0, \"#f0f921\"]], \"type\": \"surface\"}], \"table\": [{\"cells\": {\"fill\": {\"color\": \"#EBF0F8\"}, \"line\": {\"color\": \"white\"}}, \"header\": {\"fill\": {\"color\": \"#C8D4E3\"}, \"line\": {\"color\": \"white\"}}, \"type\": \"table\"}]}, \"layout\": {\"annotationdefaults\": {\"arrowcolor\": \"#2a3f5f\", \"arrowhead\": 0, \"arrowwidth\": 1}, \"autotypenumbers\": \"strict\", \"coloraxis\": {\"colorbar\": {\"outlinewidth\": 0, \"ticks\": \"\"}}, \"colorscale\": {\"diverging\": [[0, \"#8e0152\"], [0.1, \"#c51b7d\"], [0.2, \"#de77ae\"], [0.3, \"#f1b6da\"], [0.4, \"#fde0ef\"], [0.5, \"#f7f7f7\"], [0.6, \"#e6f5d0\"], [0.7, \"#b8e186\"], [0.8, \"#7fbc41\"], [0.9, \"#4d9221\"], [1, \"#276419\"]], \"sequential\": [[0.0, \"#0d0887\"], [0.1111111111111111, \"#46039f\"], [0.2222222222222222, \"#7201a8\"], [0.3333333333333333, \"#9c179e\"], [0.4444444444444444, \"#bd3786\"], [0.5555555555555556, \"#d8576b\"], [0.6666666666666666, \"#ed7953\"], [0.7777777777777778, \"#fb9f3a\"], [0.8888888888888888, \"#fdca26\"], [1.0, \"#f0f921\"]], \"sequentialminus\": [[0.0, \"#0d0887\"], [0.1111111111111111, \"#46039f\"], [0.2222222222222222, \"#7201a8\"], [0.3333333333333333, \"#9c179e\"], [0.4444444444444444, \"#bd3786\"], [0.5555555555555556, \"#d8576b\"], [0.6666666666666666, \"#ed7953\"], [0.7777777777777778, \"#fb9f3a\"], [0.8888888888888888, \"#fdca26\"], [1.0, \"#f0f921\"]]}, \"colorway\": [\"#636efa\", \"#EF553B\", \"#00cc96\", \"#ab63fa\", \"#FFA15A\", \"#19d3f3\", \"#FF6692\", \"#B6E880\", \"#FF97FF\", \"#FECB52\"], \"font\": {\"color\": \"#2a3f5f\"}, \"geo\": {\"bgcolor\": \"white\", \"lakecolor\": \"white\", \"landcolor\": \"#E5ECF6\", \"showlakes\": true, \"showland\": true, \"subunitcolor\": \"white\"}, \"hoverlabel\": {\"align\": \"left\"}, \"hovermode\": \"closest\", \"mapbox\": {\"style\": \"light\"}, \"paper_bgcolor\": \"white\", \"plot_bgcolor\": \"#E5ECF6\", \"polar\": {\"angularaxis\": {\"gridcolor\": \"white\", \"linecolor\": \"white\", \"ticks\": \"\"}, \"bgcolor\": \"#E5ECF6\", \"radialaxis\": {\"gridcolor\": \"white\", \"linecolor\": \"white\", \"ticks\": \"\"}}, \"scene\": {\"xaxis\": {\"backgroundcolor\": \"#E5ECF6\", \"gridcolor\": \"white\", \"gridwidth\": 2, \"linecolor\": \"white\", \"showbackground\": true, \"ticks\": \"\", \"zerolinecolor\": \"white\"}, \"yaxis\": {\"backgroundcolor\": \"#E5ECF6\", \"gridcolor\": \"white\", \"gridwidth\": 2, \"linecolor\": \"white\", \"showbackground\": true, \"ticks\": \"\", \"zerolinecolor\": \"white\"}, \"zaxis\": {\"backgroundcolor\": \"#E5ECF6\", \"gridcolor\": \"white\", \"gridwidth\": 2, \"linecolor\": \"white\", \"showbackground\": true, \"ticks\": \"\", \"zerolinecolor\": \"white\"}}, \"shapedefaults\": {\"line\": {\"color\": \"#2a3f5f\"}}, \"ternary\": {\"aaxis\": {\"gridcolor\": \"white\", \"linecolor\": \"white\", \"ticks\": \"\"}, \"baxis\": {\"gridcolor\": \"white\", \"linecolor\": \"white\", \"ticks\": \"\"}, \"bgcolor\": \"#E5ECF6\", \"caxis\": {\"gridcolor\": \"white\", \"linecolor\": \"white\", \"ticks\": \"\"}}, \"title\": {\"x\": 0.05}, \"xaxis\": {\"automargin\": true, \"gridcolor\": \"white\", \"linecolor\": \"white\", \"ticks\": \"\", \"title\": {\"standoff\": 15}, \"zerolinecolor\": \"white\", \"zerolinewidth\": 2}, \"yaxis\": {\"automargin\": true, \"gridcolor\": \"white\", \"linecolor\": \"white\", \"ticks\": \"\", \"title\": {\"standoff\": 15}, \"zerolinecolor\": \"white\", \"zerolinewidth\": 2}}}, \"title\": {\"text\": \"Genres parent/child\"}},                        {\"responsive\": true}                    ).then(function(){\n                            \nvar gd = document.getElementById('42a0fd35-8558-4410-9ae1-7d9644fef05f');\nvar x = new MutationObserver(function (mutations, observer) {{\n        var display = window.getComputedStyle(gd).display;\n        if (!display || display === 'none') {{\n            console.log([gd, 'removed!']);\n            Plotly.purge(gd);\n            observer.disconnect();\n        }}\n}});\n\n// Listen for the removal of the full notebook cells\nvar notebookContainer = gd.closest('#notebook-container');\nif (notebookContainer) {{\n    x.observe(notebookContainer, {childList: true});\n}}\n\n// Listen for the clearing of the current output cell\nvar outputEl = gd.closest('.output');\nif (outputEl) {{\n    x.observe(outputEl, {childList: true});\n}}\n\n                        })                };                });            </script>        </div>"
     },
     "metadata": {},
     "output_type": "display_data"
    }
   ],
   "source": [
    "fig = px.sunburst(genres, path=['title_top', 'title'], color='title_top', title='Genres parent/child')\n",
    "fig.show()"
   ]
  },
  {
   "cell_type": "markdown",
   "metadata": {
    "pycharm": {
     "name": "#%% md\n"
    }
   },
   "source": [
    "#### barchart number of tracks per genre (top)"
   ]
  },
  {
   "cell_type": "code",
   "execution_count": 23,
   "metadata": {
    "pycharm": {
     "name": "#%%\n"
    }
   },
   "outputs": [
    {
     "data": {
      "application/vnd.plotly.v1+json": {
       "config": {
        "plotlyServerURL": "https://plot.ly"
       },
       "data": [
        {
         "alignmentgroup": "True",
         "hovertemplate": "title_top=%{x}<br>#tracks=%{y}<extra></extra>",
         "legendgroup": "Experimental",
         "marker": {
          "color": "#636efa",
          "opacity": 0.9
         },
         "name": "Experimental",
         "offsetgroup": "Experimental",
         "orientation": "v",
         "showlegend": true,
         "textposition": "auto",
         "type": "bar",
         "x": [
          "Experimental",
          "Experimental",
          "Experimental",
          "Experimental",
          "Experimental",
          "Experimental",
          "Experimental",
          "Experimental",
          "Experimental",
          "Experimental",
          "Experimental",
          "Experimental",
          "Experimental",
          "Experimental",
          "Experimental",
          "Experimental",
          "Experimental",
          "Experimental",
          "Experimental"
         ],
         "xaxis": "x",
         "y": [
          8693,
          914,
          304,
          774,
          3237,
          7268,
          38154,
          6110,
          2546,
          1511,
          682,
          1916,
          2957,
          4261,
          201,
          1392,
          1414,
          268,
          72
         ],
         "yaxis": "y"
        },
        {
         "alignmentgroup": "True",
         "hovertemplate": "title_top=%{x}<br>#tracks=%{y}<extra></extra>",
         "legendgroup": "International",
         "marker": {
          "color": "#EF553B",
          "opacity": 0.9
         },
         "name": "International",
         "offsetgroup": "International",
         "orientation": "v",
         "showlegend": true,
         "textposition": "auto",
         "type": "bar",
         "x": [
          "International",
          "International",
          "International",
          "International",
          "International",
          "International",
          "International",
          "International",
          "International",
          "International",
          "International",
          "International",
          "International",
          "International",
          "International",
          "International",
          "International",
          "International",
          "International",
          "International",
          "International",
          "International",
          "International",
          "International",
          "International",
          "International",
          "International",
          "International",
          "International",
          "International"
         ],
         "xaxis": "x",
         "y": [
          5271,
          573,
          387,
          880,
          110,
          216,
          329,
          176,
          62,
          608,
          727,
          234,
          118,
          4,
          17,
          0,
          23,
          72,
          40,
          47,
          67,
          114,
          112,
          94,
          115,
          57,
          12,
          60,
          30,
          26
         ],
         "yaxis": "y"
        },
        {
         "alignmentgroup": "True",
         "hovertemplate": "title_top=%{x}<br>#tracks=%{y}<extra></extra>",
         "legendgroup": "Blues",
         "marker": {
          "color": "#00cc96",
          "opacity": 0.9
         },
         "name": "Blues",
         "offsetgroup": "Blues",
         "orientation": "v",
         "showlegend": true,
         "textposition": "auto",
         "type": "bar",
         "x": [
          "Blues",
          "Blues"
         ],
         "xaxis": "x",
         "y": [
          1752,
          66
         ],
         "yaxis": "y"
        },
        {
         "alignmentgroup": "True",
         "hovertemplate": "title_top=%{x}<br>#tracks=%{y}<extra></extra>",
         "legendgroup": "Jazz",
         "marker": {
          "color": "#ab63fa",
          "opacity": 0.9
         },
         "name": "Jazz",
         "offsetgroup": "Jazz",
         "orientation": "v",
         "showlegend": true,
         "textposition": "auto",
         "type": "bar",
         "x": [
          "Jazz",
          "Jazz",
          "Jazz",
          "Jazz",
          "Jazz",
          "Jazz",
          "Jazz"
         ],
         "xaxis": "x",
         "y": [
          4126,
          97,
          1531,
          291,
          0,
          104,
          107
         ],
         "yaxis": "y"
        },
        {
         "alignmentgroup": "True",
         "hovertemplate": "title_top=%{x}<br>#tracks=%{y}<extra></extra>",
         "legendgroup": "Classical",
         "marker": {
          "color": "#FFA15A",
          "opacity": 0.9
         },
         "name": "Classical",
         "offsetgroup": "Classical",
         "orientation": "v",
         "showlegend": true,
         "textposition": "auto",
         "type": "bar",
         "x": [
          "Classical",
          "Classical",
          "Classical",
          "Classical",
          "Classical",
          "Classical",
          "Classical",
          "Classical"
         ],
         "xaxis": "x",
         "y": [
          4106,
          292,
          630,
          161,
          170,
          216,
          25,
          1239
         ],
         "yaxis": "y"
        },
        {
         "alignmentgroup": "True",
         "hovertemplate": "title_top=%{x}<br>#tracks=%{y}<extra></extra>",
         "legendgroup": "Spoken",
         "marker": {
          "color": "#19d3f3",
          "opacity": 0.9
         },
         "name": "Spoken",
         "offsetgroup": "Spoken",
         "orientation": "v",
         "showlegend": true,
         "textposition": "auto",
         "type": "bar",
         "x": [
          "Spoken",
          "Spoken",
          "Spoken",
          "Spoken",
          "Spoken",
          "Spoken",
          "Spoken",
          "Spoken",
          "Spoken",
          "Spoken",
          "Spoken",
          "Spoken"
         ],
         "xaxis": "x",
         "y": [
          217,
          1876,
          210,
          518,
          490,
          122,
          301,
          26,
          9,
          177,
          73,
          18
         ],
         "yaxis": "y"
        },
        {
         "alignmentgroup": "True",
         "hovertemplate": "title_top=%{x}<br>#tracks=%{y}<extra></extra>",
         "legendgroup": "Old-Time / Historic",
         "marker": {
          "color": "#FF6692",
          "opacity": 0.9
         },
         "name": "Old-Time / Historic",
         "offsetgroup": "Old-Time / Historic",
         "orientation": "v",
         "showlegend": true,
         "textposition": "auto",
         "type": "bar",
         "x": [
          "Old-Time / Historic"
         ],
         "xaxis": "x",
         "y": [
          868
         ],
         "yaxis": "y"
        },
        {
         "alignmentgroup": "True",
         "hovertemplate": "title_top=%{x}<br>#tracks=%{y}<extra></extra>",
         "legendgroup": "Country",
         "marker": {
          "color": "#B6E880",
          "opacity": 0.9
         },
         "name": "Country",
         "offsetgroup": "Country",
         "orientation": "v",
         "showlegend": true,
         "textposition": "auto",
         "type": "bar",
         "x": [
          "Country",
          "Country",
          "Country",
          "Country",
          "Country",
          "Country"
         ],
         "xaxis": "x",
         "y": [
          1987,
          178,
          994,
          128,
          4,
          79
         ],
         "yaxis": "y"
        },
        {
         "alignmentgroup": "True",
         "hovertemplate": "title_top=%{x}<br>#tracks=%{y}<extra></extra>",
         "legendgroup": "Pop",
         "marker": {
          "color": "#FF97FF",
          "opacity": 0.9
         },
         "name": "Pop",
         "offsetgroup": "Pop",
         "orientation": "v",
         "showlegend": true,
         "textposition": "auto",
         "type": "bar",
         "x": [
          "Pop",
          "Pop",
          "Pop"
         ],
         "xaxis": "x",
         "y": [
          13845,
          7144,
          1835
         ],
         "yaxis": "y"
        },
        {
         "alignmentgroup": "True",
         "hovertemplate": "title_top=%{x}<br>#tracks=%{y}<extra></extra>",
         "legendgroup": "Soul-RnB",
         "marker": {
          "color": "#FECB52",
          "opacity": 0.9
         },
         "name": "Soul-RnB",
         "offsetgroup": "Soul-RnB",
         "orientation": "v",
         "showlegend": true,
         "textposition": "auto",
         "type": "bar",
         "x": [
          "Soul-RnB",
          "Soul-RnB",
          "Soul-RnB",
          "Soul-RnB"
         ],
         "xaxis": "x",
         "y": [
          367,
          1499,
          773,
          1
         ],
         "yaxis": "y"
        },
        {
         "alignmentgroup": "True",
         "hovertemplate": "title_top=%{x}<br>#tracks=%{y}<extra></extra>",
         "legendgroup": "Rock",
         "marker": {
          "color": "#636efa",
          "opacity": 0.9
         },
         "name": "Rock",
         "offsetgroup": "Rock",
         "orientation": "v",
         "showlegend": true,
         "textposition": "auto",
         "type": "bar",
         "x": [
          "Rock",
          "Rock",
          "Rock",
          "Rock",
          "Rock",
          "Rock",
          "Rock",
          "Rock",
          "Rock",
          "Rock",
          "Rock",
          "Rock",
          "Rock",
          "Rock",
          "Rock",
          "Rock",
          "Rock",
          "Rock",
          "Rock",
          "Rock",
          "Rock",
          "Rock",
          "Rock",
          "Rock",
          "Rock",
          "Rock",
          "Rock",
          "Rock",
          "Rock"
         ],
         "xaxis": "x",
         "y": [
          32923,
          9261,
          1952,
          6041,
          1498,
          688,
          2469,
          2071,
          2502,
          563,
          5432,
          2230,
          600,
          3548,
          517,
          1858,
          251,
          795,
          196,
          1419,
          1003,
          484,
          152,
          482,
          762,
          175,
          265,
          314,
          116
         ],
         "yaxis": "y"
        },
        {
         "alignmentgroup": "True",
         "hovertemplate": "title_top=%{x}<br>#tracks=%{y}<extra></extra>",
         "legendgroup": "Easy Listening",
         "marker": {
          "color": "#EF553B",
          "opacity": 0.9
         },
         "name": "Easy Listening",
         "offsetgroup": "Easy Listening",
         "orientation": "v",
         "showlegend": true,
         "textposition": "auto",
         "type": "bar",
         "x": [
          "Easy Listening",
          "Easy Listening",
          "Easy Listening",
          "Easy Listening"
         ],
         "xaxis": "x",
         "y": [
          730,
          47,
          440,
          120
         ],
         "yaxis": "y"
        },
        {
         "alignmentgroup": "True",
         "hovertemplate": "title_top=%{x}<br>#tracks=%{y}<extra></extra>",
         "legendgroup": "Electronic",
         "marker": {
          "color": "#00cc96",
          "opacity": 0.9
         },
         "name": "Electronic",
         "offsetgroup": "Electronic",
         "orientation": "v",
         "showlegend": true,
         "textposition": "auto",
         "type": "bar",
         "x": [
          "Electronic",
          "Electronic",
          "Electronic",
          "Electronic",
          "Electronic",
          "Electronic",
          "Electronic",
          "Electronic",
          "Electronic",
          "Electronic",
          "Electronic",
          "Electronic",
          "Electronic",
          "Electronic",
          "Electronic",
          "Electronic",
          "Electronic",
          "Electronic",
          "Electronic"
         ],
         "xaxis": "x",
         "y": [
          34413,
          5723,
          2140,
          1482,
          2809,
          1013,
          511,
          3472,
          1231,
          1751,
          1414,
          2208,
          500,
          823,
          189,
          1144,
          78,
          2061,
          258
         ],
         "yaxis": "y"
        },
        {
         "alignmentgroup": "True",
         "hovertemplate": "title_top=%{x}<br>#tracks=%{y}<extra></extra>",
         "legendgroup": "Folk",
         "marker": {
          "color": "#ab63fa",
          "opacity": 0.9
         },
         "name": "Folk",
         "offsetgroup": "Folk",
         "orientation": "v",
         "showlegend": true,
         "textposition": "auto",
         "type": "bar",
         "x": [
          "Folk",
          "Folk",
          "Folk",
          "Folk",
          "Folk",
          "Folk"
         ],
         "xaxis": "x",
         "y": [
          12706,
          2267,
          753,
          1289,
          4162,
          161
         ],
         "yaxis": "y"
        },
        {
         "alignmentgroup": "True",
         "hovertemplate": "title_top=%{x}<br>#tracks=%{y}<extra></extra>",
         "legendgroup": "Instrumental",
         "marker": {
          "color": "#FFA15A",
          "opacity": 0.9
         },
         "name": "Instrumental",
         "offsetgroup": "Instrumental",
         "orientation": "v",
         "showlegend": true,
         "textposition": "auto",
         "type": "bar",
         "x": [
          "Instrumental",
          "Instrumental",
          "Instrumental",
          "Instrumental",
          "Instrumental"
         ],
         "xaxis": "x",
         "y": [
          5913,
          7206,
          360,
          338,
          14938
         ],
         "yaxis": "y"
        },
        {
         "alignmentgroup": "True",
         "hovertemplate": "title_top=%{x}<br>#tracks=%{y}<extra></extra>",
         "legendgroup": "Hip-Hop",
         "marker": {
          "color": "#19d3f3",
          "opacity": 0.9
         },
         "name": "Hip-Hop",
         "offsetgroup": "Hip-Hop",
         "orientation": "v",
         "showlegend": true,
         "textposition": "auto",
         "type": "bar",
         "x": [
          "Hip-Hop",
          "Hip-Hop",
          "Hip-Hop",
          "Hip-Hop",
          "Hip-Hop",
          "Hip-Hop",
          "Hip-Hop",
          "Hip-Hop"
         ],
         "xaxis": "x",
         "y": [
          8389,
          84,
          740,
          638,
          735,
          202,
          56,
          1192
         ],
         "yaxis": "y"
        }
       ],
       "layout": {
        "barmode": "relative",
        "legend": {
         "title": {
          "text": "title_top"
         },
         "tracegroupgap": 0
        },
        "template": {
         "data": {
          "bar": [
           {
            "error_x": {
             "color": "#2a3f5f"
            },
            "error_y": {
             "color": "#2a3f5f"
            },
            "marker": {
             "line": {
              "color": "#E5ECF6",
              "width": 0.5
             }
            },
            "type": "bar"
           }
          ],
          "barpolar": [
           {
            "marker": {
             "line": {
              "color": "#E5ECF6",
              "width": 0.5
             }
            },
            "type": "barpolar"
           }
          ],
          "carpet": [
           {
            "aaxis": {
             "endlinecolor": "#2a3f5f",
             "gridcolor": "white",
             "linecolor": "white",
             "minorgridcolor": "white",
             "startlinecolor": "#2a3f5f"
            },
            "baxis": {
             "endlinecolor": "#2a3f5f",
             "gridcolor": "white",
             "linecolor": "white",
             "minorgridcolor": "white",
             "startlinecolor": "#2a3f5f"
            },
            "type": "carpet"
           }
          ],
          "choropleth": [
           {
            "colorbar": {
             "outlinewidth": 0,
             "ticks": ""
            },
            "type": "choropleth"
           }
          ],
          "contour": [
           {
            "colorbar": {
             "outlinewidth": 0,
             "ticks": ""
            },
            "colorscale": [
             [
              0.0,
              "#0d0887"
             ],
             [
              0.1111111111111111,
              "#46039f"
             ],
             [
              0.2222222222222222,
              "#7201a8"
             ],
             [
              0.3333333333333333,
              "#9c179e"
             ],
             [
              0.4444444444444444,
              "#bd3786"
             ],
             [
              0.5555555555555556,
              "#d8576b"
             ],
             [
              0.6666666666666666,
              "#ed7953"
             ],
             [
              0.7777777777777778,
              "#fb9f3a"
             ],
             [
              0.8888888888888888,
              "#fdca26"
             ],
             [
              1.0,
              "#f0f921"
             ]
            ],
            "type": "contour"
           }
          ],
          "contourcarpet": [
           {
            "colorbar": {
             "outlinewidth": 0,
             "ticks": ""
            },
            "type": "contourcarpet"
           }
          ],
          "heatmap": [
           {
            "colorbar": {
             "outlinewidth": 0,
             "ticks": ""
            },
            "colorscale": [
             [
              0.0,
              "#0d0887"
             ],
             [
              0.1111111111111111,
              "#46039f"
             ],
             [
              0.2222222222222222,
              "#7201a8"
             ],
             [
              0.3333333333333333,
              "#9c179e"
             ],
             [
              0.4444444444444444,
              "#bd3786"
             ],
             [
              0.5555555555555556,
              "#d8576b"
             ],
             [
              0.6666666666666666,
              "#ed7953"
             ],
             [
              0.7777777777777778,
              "#fb9f3a"
             ],
             [
              0.8888888888888888,
              "#fdca26"
             ],
             [
              1.0,
              "#f0f921"
             ]
            ],
            "type": "heatmap"
           }
          ],
          "heatmapgl": [
           {
            "colorbar": {
             "outlinewidth": 0,
             "ticks": ""
            },
            "colorscale": [
             [
              0.0,
              "#0d0887"
             ],
             [
              0.1111111111111111,
              "#46039f"
             ],
             [
              0.2222222222222222,
              "#7201a8"
             ],
             [
              0.3333333333333333,
              "#9c179e"
             ],
             [
              0.4444444444444444,
              "#bd3786"
             ],
             [
              0.5555555555555556,
              "#d8576b"
             ],
             [
              0.6666666666666666,
              "#ed7953"
             ],
             [
              0.7777777777777778,
              "#fb9f3a"
             ],
             [
              0.8888888888888888,
              "#fdca26"
             ],
             [
              1.0,
              "#f0f921"
             ]
            ],
            "type": "heatmapgl"
           }
          ],
          "histogram": [
           {
            "marker": {
             "colorbar": {
              "outlinewidth": 0,
              "ticks": ""
             }
            },
            "type": "histogram"
           }
          ],
          "histogram2d": [
           {
            "colorbar": {
             "outlinewidth": 0,
             "ticks": ""
            },
            "colorscale": [
             [
              0.0,
              "#0d0887"
             ],
             [
              0.1111111111111111,
              "#46039f"
             ],
             [
              0.2222222222222222,
              "#7201a8"
             ],
             [
              0.3333333333333333,
              "#9c179e"
             ],
             [
              0.4444444444444444,
              "#bd3786"
             ],
             [
              0.5555555555555556,
              "#d8576b"
             ],
             [
              0.6666666666666666,
              "#ed7953"
             ],
             [
              0.7777777777777778,
              "#fb9f3a"
             ],
             [
              0.8888888888888888,
              "#fdca26"
             ],
             [
              1.0,
              "#f0f921"
             ]
            ],
            "type": "histogram2d"
           }
          ],
          "histogram2dcontour": [
           {
            "colorbar": {
             "outlinewidth": 0,
             "ticks": ""
            },
            "colorscale": [
             [
              0.0,
              "#0d0887"
             ],
             [
              0.1111111111111111,
              "#46039f"
             ],
             [
              0.2222222222222222,
              "#7201a8"
             ],
             [
              0.3333333333333333,
              "#9c179e"
             ],
             [
              0.4444444444444444,
              "#bd3786"
             ],
             [
              0.5555555555555556,
              "#d8576b"
             ],
             [
              0.6666666666666666,
              "#ed7953"
             ],
             [
              0.7777777777777778,
              "#fb9f3a"
             ],
             [
              0.8888888888888888,
              "#fdca26"
             ],
             [
              1.0,
              "#f0f921"
             ]
            ],
            "type": "histogram2dcontour"
           }
          ],
          "mesh3d": [
           {
            "colorbar": {
             "outlinewidth": 0,
             "ticks": ""
            },
            "type": "mesh3d"
           }
          ],
          "parcoords": [
           {
            "line": {
             "colorbar": {
              "outlinewidth": 0,
              "ticks": ""
             }
            },
            "type": "parcoords"
           }
          ],
          "pie": [
           {
            "automargin": true,
            "type": "pie"
           }
          ],
          "scatter": [
           {
            "marker": {
             "colorbar": {
              "outlinewidth": 0,
              "ticks": ""
             }
            },
            "type": "scatter"
           }
          ],
          "scatter3d": [
           {
            "line": {
             "colorbar": {
              "outlinewidth": 0,
              "ticks": ""
             }
            },
            "marker": {
             "colorbar": {
              "outlinewidth": 0,
              "ticks": ""
             }
            },
            "type": "scatter3d"
           }
          ],
          "scattercarpet": [
           {
            "marker": {
             "colorbar": {
              "outlinewidth": 0,
              "ticks": ""
             }
            },
            "type": "scattercarpet"
           }
          ],
          "scattergeo": [
           {
            "marker": {
             "colorbar": {
              "outlinewidth": 0,
              "ticks": ""
             }
            },
            "type": "scattergeo"
           }
          ],
          "scattergl": [
           {
            "marker": {
             "colorbar": {
              "outlinewidth": 0,
              "ticks": ""
             }
            },
            "type": "scattergl"
           }
          ],
          "scattermapbox": [
           {
            "marker": {
             "colorbar": {
              "outlinewidth": 0,
              "ticks": ""
             }
            },
            "type": "scattermapbox"
           }
          ],
          "scatterpolar": [
           {
            "marker": {
             "colorbar": {
              "outlinewidth": 0,
              "ticks": ""
             }
            },
            "type": "scatterpolar"
           }
          ],
          "scatterpolargl": [
           {
            "marker": {
             "colorbar": {
              "outlinewidth": 0,
              "ticks": ""
             }
            },
            "type": "scatterpolargl"
           }
          ],
          "scatterternary": [
           {
            "marker": {
             "colorbar": {
              "outlinewidth": 0,
              "ticks": ""
             }
            },
            "type": "scatterternary"
           }
          ],
          "surface": [
           {
            "colorbar": {
             "outlinewidth": 0,
             "ticks": ""
            },
            "colorscale": [
             [
              0.0,
              "#0d0887"
             ],
             [
              0.1111111111111111,
              "#46039f"
             ],
             [
              0.2222222222222222,
              "#7201a8"
             ],
             [
              0.3333333333333333,
              "#9c179e"
             ],
             [
              0.4444444444444444,
              "#bd3786"
             ],
             [
              0.5555555555555556,
              "#d8576b"
             ],
             [
              0.6666666666666666,
              "#ed7953"
             ],
             [
              0.7777777777777778,
              "#fb9f3a"
             ],
             [
              0.8888888888888888,
              "#fdca26"
             ],
             [
              1.0,
              "#f0f921"
             ]
            ],
            "type": "surface"
           }
          ],
          "table": [
           {
            "cells": {
             "fill": {
              "color": "#EBF0F8"
             },
             "line": {
              "color": "white"
             }
            },
            "header": {
             "fill": {
              "color": "#C8D4E3"
             },
             "line": {
              "color": "white"
             }
            },
            "type": "table"
           }
          ]
         },
         "layout": {
          "annotationdefaults": {
           "arrowcolor": "#2a3f5f",
           "arrowhead": 0,
           "arrowwidth": 1
          },
          "autotypenumbers": "strict",
          "coloraxis": {
           "colorbar": {
            "outlinewidth": 0,
            "ticks": ""
           }
          },
          "colorscale": {
           "diverging": [
            [
             0,
             "#8e0152"
            ],
            [
             0.1,
             "#c51b7d"
            ],
            [
             0.2,
             "#de77ae"
            ],
            [
             0.3,
             "#f1b6da"
            ],
            [
             0.4,
             "#fde0ef"
            ],
            [
             0.5,
             "#f7f7f7"
            ],
            [
             0.6,
             "#e6f5d0"
            ],
            [
             0.7,
             "#b8e186"
            ],
            [
             0.8,
             "#7fbc41"
            ],
            [
             0.9,
             "#4d9221"
            ],
            [
             1,
             "#276419"
            ]
           ],
           "sequential": [
            [
             0.0,
             "#0d0887"
            ],
            [
             0.1111111111111111,
             "#46039f"
            ],
            [
             0.2222222222222222,
             "#7201a8"
            ],
            [
             0.3333333333333333,
             "#9c179e"
            ],
            [
             0.4444444444444444,
             "#bd3786"
            ],
            [
             0.5555555555555556,
             "#d8576b"
            ],
            [
             0.6666666666666666,
             "#ed7953"
            ],
            [
             0.7777777777777778,
             "#fb9f3a"
            ],
            [
             0.8888888888888888,
             "#fdca26"
            ],
            [
             1.0,
             "#f0f921"
            ]
           ],
           "sequentialminus": [
            [
             0.0,
             "#0d0887"
            ],
            [
             0.1111111111111111,
             "#46039f"
            ],
            [
             0.2222222222222222,
             "#7201a8"
            ],
            [
             0.3333333333333333,
             "#9c179e"
            ],
            [
             0.4444444444444444,
             "#bd3786"
            ],
            [
             0.5555555555555556,
             "#d8576b"
            ],
            [
             0.6666666666666666,
             "#ed7953"
            ],
            [
             0.7777777777777778,
             "#fb9f3a"
            ],
            [
             0.8888888888888888,
             "#fdca26"
            ],
            [
             1.0,
             "#f0f921"
            ]
           ]
          },
          "colorway": [
           "#636efa",
           "#EF553B",
           "#00cc96",
           "#ab63fa",
           "#FFA15A",
           "#19d3f3",
           "#FF6692",
           "#B6E880",
           "#FF97FF",
           "#FECB52"
          ],
          "font": {
           "color": "#2a3f5f"
          },
          "geo": {
           "bgcolor": "white",
           "lakecolor": "white",
           "landcolor": "#E5ECF6",
           "showlakes": true,
           "showland": true,
           "subunitcolor": "white"
          },
          "hoverlabel": {
           "align": "left"
          },
          "hovermode": "closest",
          "mapbox": {
           "style": "light"
          },
          "paper_bgcolor": "white",
          "plot_bgcolor": "#E5ECF6",
          "polar": {
           "angularaxis": {
            "gridcolor": "white",
            "linecolor": "white",
            "ticks": ""
           },
           "bgcolor": "#E5ECF6",
           "radialaxis": {
            "gridcolor": "white",
            "linecolor": "white",
            "ticks": ""
           }
          },
          "scene": {
           "xaxis": {
            "backgroundcolor": "#E5ECF6",
            "gridcolor": "white",
            "gridwidth": 2,
            "linecolor": "white",
            "showbackground": true,
            "ticks": "",
            "zerolinecolor": "white"
           },
           "yaxis": {
            "backgroundcolor": "#E5ECF6",
            "gridcolor": "white",
            "gridwidth": 2,
            "linecolor": "white",
            "showbackground": true,
            "ticks": "",
            "zerolinecolor": "white"
           },
           "zaxis": {
            "backgroundcolor": "#E5ECF6",
            "gridcolor": "white",
            "gridwidth": 2,
            "linecolor": "white",
            "showbackground": true,
            "ticks": "",
            "zerolinecolor": "white"
           }
          },
          "shapedefaults": {
           "line": {
            "color": "#2a3f5f"
           }
          },
          "ternary": {
           "aaxis": {
            "gridcolor": "white",
            "linecolor": "white",
            "ticks": ""
           },
           "baxis": {
            "gridcolor": "white",
            "linecolor": "white",
            "ticks": ""
           },
           "bgcolor": "#E5ECF6",
           "caxis": {
            "gridcolor": "white",
            "linecolor": "white",
            "ticks": ""
           }
          },
          "title": {
           "x": 0.05
          },
          "xaxis": {
           "automargin": true,
           "gridcolor": "white",
           "linecolor": "white",
           "ticks": "",
           "title": {
            "standoff": 15
           },
           "zerolinecolor": "white",
           "zerolinewidth": 2
          },
          "yaxis": {
           "automargin": true,
           "gridcolor": "white",
           "linecolor": "white",
           "ticks": "",
           "title": {
            "standoff": 15
           },
           "zerolinecolor": "white",
           "zerolinewidth": 2
          }
         }
        },
        "title": {
         "text": "#Tracks per Top Genre"
        },
        "xaxis": {
         "anchor": "y",
         "categoryarray": [
          "Experimental",
          "International",
          "Blues",
          "Jazz",
          "Classical",
          "Spoken",
          "Old-Time / Historic",
          "Country",
          "Pop",
          "Soul-RnB",
          "Rock",
          "Easy Listening",
          "Electronic",
          "Folk",
          "Instrumental",
          "Hip-Hop"
         ],
         "categoryorder": "array",
         "domain": [
          0.0,
          1.0
         ],
         "title": {
          "text": "title_top"
         }
        },
        "yaxis": {
         "anchor": "x",
         "domain": [
          0.0,
          1.0
         ],
         "title": {
          "text": "#tracks"
         }
        }
       }
      },
      "text/html": "<div>                            <div id=\"42035ffa-4a45-46bc-9889-6cf41b20006a\" class=\"plotly-graph-div\" style=\"height:525px; width:100%;\"></div>            <script type=\"text/javascript\">                require([\"plotly\"], function(Plotly) {                    window.PLOTLYENV=window.PLOTLYENV || {};                                    if (document.getElementById(\"42035ffa-4a45-46bc-9889-6cf41b20006a\")) {                    Plotly.newPlot(                        \"42035ffa-4a45-46bc-9889-6cf41b20006a\",                        [{\"alignmentgroup\": \"True\", \"hovertemplate\": \"title_top=%{x}<br>#tracks=%{y}<extra></extra>\", \"legendgroup\": \"Experimental\", \"marker\": {\"color\": \"#636efa\", \"opacity\": 0.9}, \"name\": \"Experimental\", \"offsetgroup\": \"Experimental\", \"orientation\": \"v\", \"showlegend\": true, \"textposition\": \"auto\", \"type\": \"bar\", \"x\": [\"Experimental\", \"Experimental\", \"Experimental\", \"Experimental\", \"Experimental\", \"Experimental\", \"Experimental\", \"Experimental\", \"Experimental\", \"Experimental\", \"Experimental\", \"Experimental\", \"Experimental\", \"Experimental\", \"Experimental\", \"Experimental\", \"Experimental\", \"Experimental\", \"Experimental\"], \"xaxis\": \"x\", \"y\": [8693, 914, 304, 774, 3237, 7268, 38154, 6110, 2546, 1511, 682, 1916, 2957, 4261, 201, 1392, 1414, 268, 72], \"yaxis\": \"y\"}, {\"alignmentgroup\": \"True\", \"hovertemplate\": \"title_top=%{x}<br>#tracks=%{y}<extra></extra>\", \"legendgroup\": \"International\", \"marker\": {\"color\": \"#EF553B\", \"opacity\": 0.9}, \"name\": \"International\", \"offsetgroup\": \"International\", \"orientation\": \"v\", \"showlegend\": true, \"textposition\": \"auto\", \"type\": \"bar\", \"x\": [\"International\", \"International\", \"International\", \"International\", \"International\", \"International\", \"International\", \"International\", \"International\", \"International\", \"International\", \"International\", \"International\", \"International\", \"International\", \"International\", \"International\", \"International\", \"International\", \"International\", \"International\", \"International\", \"International\", \"International\", \"International\", \"International\", \"International\", \"International\", \"International\", \"International\"], \"xaxis\": \"x\", \"y\": [5271, 573, 387, 880, 110, 216, 329, 176, 62, 608, 727, 234, 118, 4, 17, 0, 23, 72, 40, 47, 67, 114, 112, 94, 115, 57, 12, 60, 30, 26], \"yaxis\": \"y\"}, {\"alignmentgroup\": \"True\", \"hovertemplate\": \"title_top=%{x}<br>#tracks=%{y}<extra></extra>\", \"legendgroup\": \"Blues\", \"marker\": {\"color\": \"#00cc96\", \"opacity\": 0.9}, \"name\": \"Blues\", \"offsetgroup\": \"Blues\", \"orientation\": \"v\", \"showlegend\": true, \"textposition\": \"auto\", \"type\": \"bar\", \"x\": [\"Blues\", \"Blues\"], \"xaxis\": \"x\", \"y\": [1752, 66], \"yaxis\": \"y\"}, {\"alignmentgroup\": \"True\", \"hovertemplate\": \"title_top=%{x}<br>#tracks=%{y}<extra></extra>\", \"legendgroup\": \"Jazz\", \"marker\": {\"color\": \"#ab63fa\", \"opacity\": 0.9}, \"name\": \"Jazz\", \"offsetgroup\": \"Jazz\", \"orientation\": \"v\", \"showlegend\": true, \"textposition\": \"auto\", \"type\": \"bar\", \"x\": [\"Jazz\", \"Jazz\", \"Jazz\", \"Jazz\", \"Jazz\", \"Jazz\", \"Jazz\"], \"xaxis\": \"x\", \"y\": [4126, 97, 1531, 291, 0, 104, 107], \"yaxis\": \"y\"}, {\"alignmentgroup\": \"True\", \"hovertemplate\": \"title_top=%{x}<br>#tracks=%{y}<extra></extra>\", \"legendgroup\": \"Classical\", \"marker\": {\"color\": \"#FFA15A\", \"opacity\": 0.9}, \"name\": \"Classical\", \"offsetgroup\": \"Classical\", \"orientation\": \"v\", \"showlegend\": true, \"textposition\": \"auto\", \"type\": \"bar\", \"x\": [\"Classical\", \"Classical\", \"Classical\", \"Classical\", \"Classical\", \"Classical\", \"Classical\", \"Classical\"], \"xaxis\": \"x\", \"y\": [4106, 292, 630, 161, 170, 216, 25, 1239], \"yaxis\": \"y\"}, {\"alignmentgroup\": \"True\", \"hovertemplate\": \"title_top=%{x}<br>#tracks=%{y}<extra></extra>\", \"legendgroup\": \"Spoken\", \"marker\": {\"color\": \"#19d3f3\", \"opacity\": 0.9}, \"name\": \"Spoken\", \"offsetgroup\": \"Spoken\", \"orientation\": \"v\", \"showlegend\": true, \"textposition\": \"auto\", \"type\": \"bar\", \"x\": [\"Spoken\", \"Spoken\", \"Spoken\", \"Spoken\", \"Spoken\", \"Spoken\", \"Spoken\", \"Spoken\", \"Spoken\", \"Spoken\", \"Spoken\", \"Spoken\"], \"xaxis\": \"x\", \"y\": [217, 1876, 210, 518, 490, 122, 301, 26, 9, 177, 73, 18], \"yaxis\": \"y\"}, {\"alignmentgroup\": \"True\", \"hovertemplate\": \"title_top=%{x}<br>#tracks=%{y}<extra></extra>\", \"legendgroup\": \"Old-Time / Historic\", \"marker\": {\"color\": \"#FF6692\", \"opacity\": 0.9}, \"name\": \"Old-Time / Historic\", \"offsetgroup\": \"Old-Time / Historic\", \"orientation\": \"v\", \"showlegend\": true, \"textposition\": \"auto\", \"type\": \"bar\", \"x\": [\"Old-Time / Historic\"], \"xaxis\": \"x\", \"y\": [868], \"yaxis\": \"y\"}, {\"alignmentgroup\": \"True\", \"hovertemplate\": \"title_top=%{x}<br>#tracks=%{y}<extra></extra>\", \"legendgroup\": \"Country\", \"marker\": {\"color\": \"#B6E880\", \"opacity\": 0.9}, \"name\": \"Country\", \"offsetgroup\": \"Country\", \"orientation\": \"v\", \"showlegend\": true, \"textposition\": \"auto\", \"type\": \"bar\", \"x\": [\"Country\", \"Country\", \"Country\", \"Country\", \"Country\", \"Country\"], \"xaxis\": \"x\", \"y\": [1987, 178, 994, 128, 4, 79], \"yaxis\": \"y\"}, {\"alignmentgroup\": \"True\", \"hovertemplate\": \"title_top=%{x}<br>#tracks=%{y}<extra></extra>\", \"legendgroup\": \"Pop\", \"marker\": {\"color\": \"#FF97FF\", \"opacity\": 0.9}, \"name\": \"Pop\", \"offsetgroup\": \"Pop\", \"orientation\": \"v\", \"showlegend\": true, \"textposition\": \"auto\", \"type\": \"bar\", \"x\": [\"Pop\", \"Pop\", \"Pop\"], \"xaxis\": \"x\", \"y\": [13845, 7144, 1835], \"yaxis\": \"y\"}, {\"alignmentgroup\": \"True\", \"hovertemplate\": \"title_top=%{x}<br>#tracks=%{y}<extra></extra>\", \"legendgroup\": \"Soul-RnB\", \"marker\": {\"color\": \"#FECB52\", \"opacity\": 0.9}, \"name\": \"Soul-RnB\", \"offsetgroup\": \"Soul-RnB\", \"orientation\": \"v\", \"showlegend\": true, \"textposition\": \"auto\", \"type\": \"bar\", \"x\": [\"Soul-RnB\", \"Soul-RnB\", \"Soul-RnB\", \"Soul-RnB\"], \"xaxis\": \"x\", \"y\": [367, 1499, 773, 1], \"yaxis\": \"y\"}, {\"alignmentgroup\": \"True\", \"hovertemplate\": \"title_top=%{x}<br>#tracks=%{y}<extra></extra>\", \"legendgroup\": \"Rock\", \"marker\": {\"color\": \"#636efa\", \"opacity\": 0.9}, \"name\": \"Rock\", \"offsetgroup\": \"Rock\", \"orientation\": \"v\", \"showlegend\": true, \"textposition\": \"auto\", \"type\": \"bar\", \"x\": [\"Rock\", \"Rock\", \"Rock\", \"Rock\", \"Rock\", \"Rock\", \"Rock\", \"Rock\", \"Rock\", \"Rock\", \"Rock\", \"Rock\", \"Rock\", \"Rock\", \"Rock\", \"Rock\", \"Rock\", \"Rock\", \"Rock\", \"Rock\", \"Rock\", \"Rock\", \"Rock\", \"Rock\", \"Rock\", \"Rock\", \"Rock\", \"Rock\", \"Rock\"], \"xaxis\": \"x\", \"y\": [32923, 9261, 1952, 6041, 1498, 688, 2469, 2071, 2502, 563, 5432, 2230, 600, 3548, 517, 1858, 251, 795, 196, 1419, 1003, 484, 152, 482, 762, 175, 265, 314, 116], \"yaxis\": \"y\"}, {\"alignmentgroup\": \"True\", \"hovertemplate\": \"title_top=%{x}<br>#tracks=%{y}<extra></extra>\", \"legendgroup\": \"Easy Listening\", \"marker\": {\"color\": \"#EF553B\", \"opacity\": 0.9}, \"name\": \"Easy Listening\", \"offsetgroup\": \"Easy Listening\", \"orientation\": \"v\", \"showlegend\": true, \"textposition\": \"auto\", \"type\": \"bar\", \"x\": [\"Easy Listening\", \"Easy Listening\", \"Easy Listening\", \"Easy Listening\"], \"xaxis\": \"x\", \"y\": [730, 47, 440, 120], \"yaxis\": \"y\"}, {\"alignmentgroup\": \"True\", \"hovertemplate\": \"title_top=%{x}<br>#tracks=%{y}<extra></extra>\", \"legendgroup\": \"Electronic\", \"marker\": {\"color\": \"#00cc96\", \"opacity\": 0.9}, \"name\": \"Electronic\", \"offsetgroup\": \"Electronic\", \"orientation\": \"v\", \"showlegend\": true, \"textposition\": \"auto\", \"type\": \"bar\", \"x\": [\"Electronic\", \"Electronic\", \"Electronic\", \"Electronic\", \"Electronic\", \"Electronic\", \"Electronic\", \"Electronic\", \"Electronic\", \"Electronic\", \"Electronic\", \"Electronic\", \"Electronic\", \"Electronic\", \"Electronic\", \"Electronic\", \"Electronic\", \"Electronic\", \"Electronic\"], \"xaxis\": \"x\", \"y\": [34413, 5723, 2140, 1482, 2809, 1013, 511, 3472, 1231, 1751, 1414, 2208, 500, 823, 189, 1144, 78, 2061, 258], \"yaxis\": \"y\"}, {\"alignmentgroup\": \"True\", \"hovertemplate\": \"title_top=%{x}<br>#tracks=%{y}<extra></extra>\", \"legendgroup\": \"Folk\", \"marker\": {\"color\": \"#ab63fa\", \"opacity\": 0.9}, \"name\": \"Folk\", \"offsetgroup\": \"Folk\", \"orientation\": \"v\", \"showlegend\": true, \"textposition\": \"auto\", \"type\": \"bar\", \"x\": [\"Folk\", \"Folk\", \"Folk\", \"Folk\", \"Folk\", \"Folk\"], \"xaxis\": \"x\", \"y\": [12706, 2267, 753, 1289, 4162, 161], \"yaxis\": \"y\"}, {\"alignmentgroup\": \"True\", \"hovertemplate\": \"title_top=%{x}<br>#tracks=%{y}<extra></extra>\", \"legendgroup\": \"Instrumental\", \"marker\": {\"color\": \"#FFA15A\", \"opacity\": 0.9}, \"name\": \"Instrumental\", \"offsetgroup\": \"Instrumental\", \"orientation\": \"v\", \"showlegend\": true, \"textposition\": \"auto\", \"type\": \"bar\", \"x\": [\"Instrumental\", \"Instrumental\", \"Instrumental\", \"Instrumental\", \"Instrumental\"], \"xaxis\": \"x\", \"y\": [5913, 7206, 360, 338, 14938], \"yaxis\": \"y\"}, {\"alignmentgroup\": \"True\", \"hovertemplate\": \"title_top=%{x}<br>#tracks=%{y}<extra></extra>\", \"legendgroup\": \"Hip-Hop\", \"marker\": {\"color\": \"#19d3f3\", \"opacity\": 0.9}, \"name\": \"Hip-Hop\", \"offsetgroup\": \"Hip-Hop\", \"orientation\": \"v\", \"showlegend\": true, \"textposition\": \"auto\", \"type\": \"bar\", \"x\": [\"Hip-Hop\", \"Hip-Hop\", \"Hip-Hop\", \"Hip-Hop\", \"Hip-Hop\", \"Hip-Hop\", \"Hip-Hop\", \"Hip-Hop\"], \"xaxis\": \"x\", \"y\": [8389, 84, 740, 638, 735, 202, 56, 1192], \"yaxis\": \"y\"}],                        {\"barmode\": \"relative\", \"legend\": {\"title\": {\"text\": \"title_top\"}, \"tracegroupgap\": 0}, \"template\": {\"data\": {\"bar\": [{\"error_x\": {\"color\": \"#2a3f5f\"}, \"error_y\": {\"color\": \"#2a3f5f\"}, \"marker\": {\"line\": {\"color\": \"#E5ECF6\", \"width\": 0.5}}, \"type\": \"bar\"}], \"barpolar\": [{\"marker\": {\"line\": {\"color\": \"#E5ECF6\", \"width\": 0.5}}, \"type\": \"barpolar\"}], \"carpet\": [{\"aaxis\": {\"endlinecolor\": \"#2a3f5f\", \"gridcolor\": \"white\", \"linecolor\": \"white\", \"minorgridcolor\": \"white\", \"startlinecolor\": \"#2a3f5f\"}, \"baxis\": {\"endlinecolor\": \"#2a3f5f\", \"gridcolor\": \"white\", \"linecolor\": \"white\", \"minorgridcolor\": \"white\", \"startlinecolor\": \"#2a3f5f\"}, \"type\": \"carpet\"}], \"choropleth\": [{\"colorbar\": {\"outlinewidth\": 0, \"ticks\": \"\"}, \"type\": \"choropleth\"}], \"contour\": [{\"colorbar\": {\"outlinewidth\": 0, \"ticks\": \"\"}, \"colorscale\": [[0.0, \"#0d0887\"], [0.1111111111111111, \"#46039f\"], [0.2222222222222222, \"#7201a8\"], [0.3333333333333333, \"#9c179e\"], [0.4444444444444444, \"#bd3786\"], [0.5555555555555556, \"#d8576b\"], [0.6666666666666666, \"#ed7953\"], [0.7777777777777778, \"#fb9f3a\"], [0.8888888888888888, \"#fdca26\"], [1.0, \"#f0f921\"]], \"type\": \"contour\"}], \"contourcarpet\": [{\"colorbar\": {\"outlinewidth\": 0, \"ticks\": \"\"}, \"type\": \"contourcarpet\"}], \"heatmap\": [{\"colorbar\": {\"outlinewidth\": 0, \"ticks\": \"\"}, \"colorscale\": [[0.0, \"#0d0887\"], [0.1111111111111111, \"#46039f\"], [0.2222222222222222, \"#7201a8\"], [0.3333333333333333, \"#9c179e\"], [0.4444444444444444, \"#bd3786\"], [0.5555555555555556, \"#d8576b\"], [0.6666666666666666, \"#ed7953\"], [0.7777777777777778, \"#fb9f3a\"], [0.8888888888888888, \"#fdca26\"], [1.0, \"#f0f921\"]], \"type\": \"heatmap\"}], \"heatmapgl\": [{\"colorbar\": {\"outlinewidth\": 0, \"ticks\": \"\"}, \"colorscale\": [[0.0, \"#0d0887\"], [0.1111111111111111, \"#46039f\"], [0.2222222222222222, \"#7201a8\"], [0.3333333333333333, \"#9c179e\"], [0.4444444444444444, \"#bd3786\"], [0.5555555555555556, \"#d8576b\"], [0.6666666666666666, \"#ed7953\"], [0.7777777777777778, \"#fb9f3a\"], [0.8888888888888888, \"#fdca26\"], [1.0, \"#f0f921\"]], \"type\": \"heatmapgl\"}], \"histogram\": [{\"marker\": {\"colorbar\": {\"outlinewidth\": 0, \"ticks\": \"\"}}, \"type\": \"histogram\"}], \"histogram2d\": [{\"colorbar\": {\"outlinewidth\": 0, \"ticks\": \"\"}, \"colorscale\": [[0.0, \"#0d0887\"], [0.1111111111111111, \"#46039f\"], [0.2222222222222222, \"#7201a8\"], [0.3333333333333333, \"#9c179e\"], [0.4444444444444444, \"#bd3786\"], [0.5555555555555556, \"#d8576b\"], [0.6666666666666666, \"#ed7953\"], [0.7777777777777778, \"#fb9f3a\"], [0.8888888888888888, \"#fdca26\"], [1.0, \"#f0f921\"]], \"type\": \"histogram2d\"}], \"histogram2dcontour\": [{\"colorbar\": {\"outlinewidth\": 0, \"ticks\": \"\"}, \"colorscale\": [[0.0, \"#0d0887\"], [0.1111111111111111, \"#46039f\"], [0.2222222222222222, \"#7201a8\"], [0.3333333333333333, \"#9c179e\"], [0.4444444444444444, \"#bd3786\"], [0.5555555555555556, \"#d8576b\"], [0.6666666666666666, \"#ed7953\"], [0.7777777777777778, \"#fb9f3a\"], [0.8888888888888888, \"#fdca26\"], [1.0, \"#f0f921\"]], \"type\": \"histogram2dcontour\"}], \"mesh3d\": [{\"colorbar\": {\"outlinewidth\": 0, \"ticks\": \"\"}, \"type\": \"mesh3d\"}], \"parcoords\": [{\"line\": {\"colorbar\": {\"outlinewidth\": 0, \"ticks\": \"\"}}, \"type\": \"parcoords\"}], \"pie\": [{\"automargin\": true, \"type\": \"pie\"}], \"scatter\": [{\"marker\": {\"colorbar\": {\"outlinewidth\": 0, \"ticks\": \"\"}}, \"type\": \"scatter\"}], \"scatter3d\": [{\"line\": {\"colorbar\": {\"outlinewidth\": 0, \"ticks\": \"\"}}, \"marker\": {\"colorbar\": {\"outlinewidth\": 0, \"ticks\": \"\"}}, \"type\": \"scatter3d\"}], \"scattercarpet\": [{\"marker\": {\"colorbar\": {\"outlinewidth\": 0, \"ticks\": \"\"}}, \"type\": \"scattercarpet\"}], \"scattergeo\": [{\"marker\": {\"colorbar\": {\"outlinewidth\": 0, \"ticks\": \"\"}}, \"type\": \"scattergeo\"}], \"scattergl\": [{\"marker\": {\"colorbar\": {\"outlinewidth\": 0, \"ticks\": \"\"}}, \"type\": \"scattergl\"}], \"scattermapbox\": [{\"marker\": {\"colorbar\": {\"outlinewidth\": 0, \"ticks\": \"\"}}, \"type\": \"scattermapbox\"}], \"scatterpolar\": [{\"marker\": {\"colorbar\": {\"outlinewidth\": 0, \"ticks\": \"\"}}, \"type\": \"scatterpolar\"}], \"scatterpolargl\": [{\"marker\": {\"colorbar\": {\"outlinewidth\": 0, \"ticks\": \"\"}}, \"type\": \"scatterpolargl\"}], \"scatterternary\": [{\"marker\": {\"colorbar\": {\"outlinewidth\": 0, \"ticks\": \"\"}}, \"type\": \"scatterternary\"}], \"surface\": [{\"colorbar\": {\"outlinewidth\": 0, \"ticks\": \"\"}, \"colorscale\": [[0.0, \"#0d0887\"], [0.1111111111111111, \"#46039f\"], [0.2222222222222222, \"#7201a8\"], [0.3333333333333333, \"#9c179e\"], [0.4444444444444444, \"#bd3786\"], [0.5555555555555556, \"#d8576b\"], [0.6666666666666666, \"#ed7953\"], [0.7777777777777778, \"#fb9f3a\"], [0.8888888888888888, \"#fdca26\"], [1.0, \"#f0f921\"]], \"type\": \"surface\"}], \"table\": [{\"cells\": {\"fill\": {\"color\": \"#EBF0F8\"}, \"line\": {\"color\": \"white\"}}, \"header\": {\"fill\": {\"color\": \"#C8D4E3\"}, \"line\": {\"color\": \"white\"}}, \"type\": \"table\"}]}, \"layout\": {\"annotationdefaults\": {\"arrowcolor\": \"#2a3f5f\", \"arrowhead\": 0, \"arrowwidth\": 1}, \"autotypenumbers\": \"strict\", \"coloraxis\": {\"colorbar\": {\"outlinewidth\": 0, \"ticks\": \"\"}}, \"colorscale\": {\"diverging\": [[0, \"#8e0152\"], [0.1, \"#c51b7d\"], [0.2, \"#de77ae\"], [0.3, \"#f1b6da\"], [0.4, \"#fde0ef\"], [0.5, \"#f7f7f7\"], [0.6, \"#e6f5d0\"], [0.7, \"#b8e186\"], [0.8, \"#7fbc41\"], [0.9, \"#4d9221\"], [1, \"#276419\"]], \"sequential\": [[0.0, \"#0d0887\"], [0.1111111111111111, \"#46039f\"], [0.2222222222222222, \"#7201a8\"], [0.3333333333333333, \"#9c179e\"], [0.4444444444444444, \"#bd3786\"], [0.5555555555555556, \"#d8576b\"], [0.6666666666666666, \"#ed7953\"], [0.7777777777777778, \"#fb9f3a\"], [0.8888888888888888, \"#fdca26\"], [1.0, \"#f0f921\"]], \"sequentialminus\": [[0.0, \"#0d0887\"], [0.1111111111111111, \"#46039f\"], [0.2222222222222222, \"#7201a8\"], [0.3333333333333333, \"#9c179e\"], [0.4444444444444444, \"#bd3786\"], [0.5555555555555556, \"#d8576b\"], [0.6666666666666666, \"#ed7953\"], [0.7777777777777778, \"#fb9f3a\"], [0.8888888888888888, \"#fdca26\"], [1.0, \"#f0f921\"]]}, \"colorway\": [\"#636efa\", \"#EF553B\", \"#00cc96\", \"#ab63fa\", \"#FFA15A\", \"#19d3f3\", \"#FF6692\", \"#B6E880\", \"#FF97FF\", \"#FECB52\"], \"font\": {\"color\": \"#2a3f5f\"}, \"geo\": {\"bgcolor\": \"white\", \"lakecolor\": \"white\", \"landcolor\": \"#E5ECF6\", \"showlakes\": true, \"showland\": true, \"subunitcolor\": \"white\"}, \"hoverlabel\": {\"align\": \"left\"}, \"hovermode\": \"closest\", \"mapbox\": {\"style\": \"light\"}, \"paper_bgcolor\": \"white\", \"plot_bgcolor\": \"#E5ECF6\", \"polar\": {\"angularaxis\": {\"gridcolor\": \"white\", \"linecolor\": \"white\", \"ticks\": \"\"}, \"bgcolor\": \"#E5ECF6\", \"radialaxis\": {\"gridcolor\": \"white\", \"linecolor\": \"white\", \"ticks\": \"\"}}, \"scene\": {\"xaxis\": {\"backgroundcolor\": \"#E5ECF6\", \"gridcolor\": \"white\", \"gridwidth\": 2, \"linecolor\": \"white\", \"showbackground\": true, \"ticks\": \"\", \"zerolinecolor\": \"white\"}, \"yaxis\": {\"backgroundcolor\": \"#E5ECF6\", \"gridcolor\": \"white\", \"gridwidth\": 2, \"linecolor\": \"white\", \"showbackground\": true, \"ticks\": \"\", \"zerolinecolor\": \"white\"}, \"zaxis\": {\"backgroundcolor\": \"#E5ECF6\", \"gridcolor\": \"white\", \"gridwidth\": 2, \"linecolor\": \"white\", \"showbackground\": true, \"ticks\": \"\", \"zerolinecolor\": \"white\"}}, \"shapedefaults\": {\"line\": {\"color\": \"#2a3f5f\"}}, \"ternary\": {\"aaxis\": {\"gridcolor\": \"white\", \"linecolor\": \"white\", \"ticks\": \"\"}, \"baxis\": {\"gridcolor\": \"white\", \"linecolor\": \"white\", \"ticks\": \"\"}, \"bgcolor\": \"#E5ECF6\", \"caxis\": {\"gridcolor\": \"white\", \"linecolor\": \"white\", \"ticks\": \"\"}}, \"title\": {\"x\": 0.05}, \"xaxis\": {\"automargin\": true, \"gridcolor\": \"white\", \"linecolor\": \"white\", \"ticks\": \"\", \"title\": {\"standoff\": 15}, \"zerolinecolor\": \"white\", \"zerolinewidth\": 2}, \"yaxis\": {\"automargin\": true, \"gridcolor\": \"white\", \"linecolor\": \"white\", \"ticks\": \"\", \"title\": {\"standoff\": 15}, \"zerolinecolor\": \"white\", \"zerolinewidth\": 2}}}, \"title\": {\"text\": \"#Tracks per Top Genre\"}, \"xaxis\": {\"anchor\": \"y\", \"categoryarray\": [\"Experimental\", \"International\", \"Blues\", \"Jazz\", \"Classical\", \"Spoken\", \"Old-Time / Historic\", \"Country\", \"Pop\", \"Soul-RnB\", \"Rock\", \"Easy Listening\", \"Electronic\", \"Folk\", \"Instrumental\", \"Hip-Hop\"], \"categoryorder\": \"array\", \"domain\": [0.0, 1.0], \"title\": {\"text\": \"title_top\"}}, \"yaxis\": {\"anchor\": \"x\", \"domain\": [0.0, 1.0], \"title\": {\"text\": \"#tracks\"}}},                        {\"responsive\": true}                    ).then(function(){\n                            \nvar gd = document.getElementById('42035ffa-4a45-46bc-9889-6cf41b20006a');\nvar x = new MutationObserver(function (mutations, observer) {{\n        var display = window.getComputedStyle(gd).display;\n        if (!display || display === 'none') {{\n            console.log([gd, 'removed!']);\n            Plotly.purge(gd);\n            observer.disconnect();\n        }}\n}});\n\n// Listen for the removal of the full notebook cells\nvar notebookContainer = gd.closest('#notebook-container');\nif (notebookContainer) {{\n    x.observe(notebookContainer, {childList: true});\n}}\n\n// Listen for the clearing of the current output cell\nvar outputEl = gd.closest('.output');\nif (outputEl) {{\n    x.observe(outputEl, {childList: true});\n}}\n\n                        })                };                });            </script>        </div>"
     },
     "metadata": {},
     "output_type": "display_data"
    }
   ],
   "source": [
    "barchart_topgenres = px.bar(\n",
    "data_frame=genres,\n",
    "x='title_top',\n",
    "y='#tracks',\n",
    "color='title_top',\n",
    "opacity=0.9,\n",
    "orientation='v',\n",
    "barmode='relative',\n",
    "title=\"#Tracks per Top Genre\")\n",
    "barchart_topgenres"
   ]
  },
  {
   "cell_type": "markdown",
   "metadata": {
    "pycharm": {
     "name": "#%% md\n"
    }
   },
   "source": [
    "#### barchart number of tracks per genre (all)"
   ]
  },
  {
   "cell_type": "code",
   "execution_count": 24,
   "metadata": {
    "pycharm": {
     "name": "#%%\n"
    }
   },
   "outputs": [
    {
     "data": {
      "application/vnd.plotly.v1+json": {
       "config": {
        "plotlyServerURL": "https://plot.ly"
       },
       "data": [
        {
         "alignmentgroup": "True",
         "hovertemplate": "title=%{x}<br>#tracks=%{y}<extra></extra>",
         "legendgroup": "Avant-Garde",
         "marker": {
          "color": "#636efa",
          "opacity": 0.9
         },
         "name": "Avant-Garde",
         "offsetgroup": "Avant-Garde",
         "orientation": "v",
         "showlegend": true,
         "textposition": "auto",
         "type": "bar",
         "x": [
          "Avant-Garde"
         ],
         "xaxis": "x",
         "y": [
          8693
         ],
         "yaxis": "y"
        },
        {
         "alignmentgroup": "True",
         "hovertemplate": "title=%{x}<br>#tracks=%{y}<extra></extra>",
         "legendgroup": "International",
         "marker": {
          "color": "#EF553B",
          "opacity": 0.9
         },
         "name": "International",
         "offsetgroup": "International",
         "orientation": "v",
         "showlegend": true,
         "textposition": "auto",
         "type": "bar",
         "x": [
          "International"
         ],
         "xaxis": "x",
         "y": [
          5271
         ],
         "yaxis": "y"
        },
        {
         "alignmentgroup": "True",
         "hovertemplate": "title=%{x}<br>#tracks=%{y}<extra></extra>",
         "legendgroup": "Blues",
         "marker": {
          "color": "#00cc96",
          "opacity": 0.9
         },
         "name": "Blues",
         "offsetgroup": "Blues",
         "orientation": "v",
         "showlegend": true,
         "textposition": "auto",
         "type": "bar",
         "x": [
          "Blues"
         ],
         "xaxis": "x",
         "y": [
          1752
         ],
         "yaxis": "y"
        },
        {
         "alignmentgroup": "True",
         "hovertemplate": "title=%{x}<br>#tracks=%{y}<extra></extra>",
         "legendgroup": "Jazz",
         "marker": {
          "color": "#ab63fa",
          "opacity": 0.9
         },
         "name": "Jazz",
         "offsetgroup": "Jazz",
         "orientation": "v",
         "showlegend": true,
         "textposition": "auto",
         "type": "bar",
         "x": [
          "Jazz"
         ],
         "xaxis": "x",
         "y": [
          4126
         ],
         "yaxis": "y"
        },
        {
         "alignmentgroup": "True",
         "hovertemplate": "title=%{x}<br>#tracks=%{y}<extra></extra>",
         "legendgroup": "Classical",
         "marker": {
          "color": "#FFA15A",
          "opacity": 0.9
         },
         "name": "Classical",
         "offsetgroup": "Classical",
         "orientation": "v",
         "showlegend": true,
         "textposition": "auto",
         "type": "bar",
         "x": [
          "Classical"
         ],
         "xaxis": "x",
         "y": [
          4106
         ],
         "yaxis": "y"
        },
        {
         "alignmentgroup": "True",
         "hovertemplate": "title=%{x}<br>#tracks=%{y}<extra></extra>",
         "legendgroup": "Novelty",
         "marker": {
          "color": "#19d3f3",
          "opacity": 0.9
         },
         "name": "Novelty",
         "offsetgroup": "Novelty",
         "orientation": "v",
         "showlegend": true,
         "textposition": "auto",
         "type": "bar",
         "x": [
          "Novelty"
         ],
         "xaxis": "x",
         "y": [
          914
         ],
         "yaxis": "y"
        },
        {
         "alignmentgroup": "True",
         "hovertemplate": "title=%{x}<br>#tracks=%{y}<extra></extra>",
         "legendgroup": "Comedy",
         "marker": {
          "color": "#FF6692",
          "opacity": 0.9
         },
         "name": "Comedy",
         "offsetgroup": "Comedy",
         "orientation": "v",
         "showlegend": true,
         "textposition": "auto",
         "type": "bar",
         "x": [
          "Comedy"
         ],
         "xaxis": "x",
         "y": [
          217
         ],
         "yaxis": "y"
        },
        {
         "alignmentgroup": "True",
         "hovertemplate": "title=%{x}<br>#tracks=%{y}<extra></extra>",
         "legendgroup": "Old-Time / Historic",
         "marker": {
          "color": "#B6E880",
          "opacity": 0.9
         },
         "name": "Old-Time / Historic",
         "offsetgroup": "Old-Time / Historic",
         "orientation": "v",
         "showlegend": true,
         "textposition": "auto",
         "type": "bar",
         "x": [
          "Old-Time / Historic"
         ],
         "xaxis": "x",
         "y": [
          868
         ],
         "yaxis": "y"
        },
        {
         "alignmentgroup": "True",
         "hovertemplate": "title=%{x}<br>#tracks=%{y}<extra></extra>",
         "legendgroup": "Country",
         "marker": {
          "color": "#FF97FF",
          "opacity": 0.9
         },
         "name": "Country",
         "offsetgroup": "Country",
         "orientation": "v",
         "showlegend": true,
         "textposition": "auto",
         "type": "bar",
         "x": [
          "Country"
         ],
         "xaxis": "x",
         "y": [
          1987
         ],
         "yaxis": "y"
        },
        {
         "alignmentgroup": "True",
         "hovertemplate": "title=%{x}<br>#tracks=%{y}<extra></extra>",
         "legendgroup": "Pop",
         "marker": {
          "color": "#FECB52",
          "opacity": 0.9
         },
         "name": "Pop",
         "offsetgroup": "Pop",
         "orientation": "v",
         "showlegend": true,
         "textposition": "auto",
         "type": "bar",
         "x": [
          "Pop"
         ],
         "xaxis": "x",
         "y": [
          13845
         ],
         "yaxis": "y"
        },
        {
         "alignmentgroup": "True",
         "hovertemplate": "title=%{x}<br>#tracks=%{y}<extra></extra>",
         "legendgroup": "Disco",
         "marker": {
          "color": "#636efa",
          "opacity": 0.9
         },
         "name": "Disco",
         "offsetgroup": "Disco",
         "orientation": "v",
         "showlegend": true,
         "textposition": "auto",
         "type": "bar",
         "x": [
          "Disco"
         ],
         "xaxis": "x",
         "y": [
          367
         ],
         "yaxis": "y"
        },
        {
         "alignmentgroup": "True",
         "hovertemplate": "title=%{x}<br>#tracks=%{y}<extra></extra>",
         "legendgroup": "Rock",
         "marker": {
          "color": "#EF553B",
          "opacity": 0.9
         },
         "name": "Rock",
         "offsetgroup": "Rock",
         "orientation": "v",
         "showlegend": true,
         "textposition": "auto",
         "type": "bar",
         "x": [
          "Rock"
         ],
         "xaxis": "x",
         "y": [
          32923
         ],
         "yaxis": "y"
        },
        {
         "alignmentgroup": "True",
         "hovertemplate": "title=%{x}<br>#tracks=%{y}<extra></extra>",
         "legendgroup": "Easy Listening",
         "marker": {
          "color": "#00cc96",
          "opacity": 0.9
         },
         "name": "Easy Listening",
         "offsetgroup": "Easy Listening",
         "orientation": "v",
         "showlegend": true,
         "textposition": "auto",
         "type": "bar",
         "x": [
          "Easy Listening"
         ],
         "xaxis": "x",
         "y": [
          730
         ],
         "yaxis": "y"
        },
        {
         "alignmentgroup": "True",
         "hovertemplate": "title=%{x}<br>#tracks=%{y}<extra></extra>",
         "legendgroup": "Soul-RnB",
         "marker": {
          "color": "#ab63fa",
          "opacity": 0.9
         },
         "name": "Soul-RnB",
         "offsetgroup": "Soul-RnB",
         "orientation": "v",
         "showlegend": true,
         "textposition": "auto",
         "type": "bar",
         "x": [
          "Soul-RnB"
         ],
         "xaxis": "x",
         "y": [
          1499
         ],
         "yaxis": "y"
        },
        {
         "alignmentgroup": "True",
         "hovertemplate": "title=%{x}<br>#tracks=%{y}<extra></extra>",
         "legendgroup": "Electronic",
         "marker": {
          "color": "#FFA15A",
          "opacity": 0.9
         },
         "name": "Electronic",
         "offsetgroup": "Electronic",
         "orientation": "v",
         "showlegend": true,
         "textposition": "auto",
         "type": "bar",
         "x": [
          "Electronic"
         ],
         "xaxis": "x",
         "y": [
          34413
         ],
         "yaxis": "y"
        },
        {
         "alignmentgroup": "True",
         "hovertemplate": "title=%{x}<br>#tracks=%{y}<extra></extra>",
         "legendgroup": "Sound Effects",
         "marker": {
          "color": "#19d3f3",
          "opacity": 0.9
         },
         "name": "Sound Effects",
         "offsetgroup": "Sound Effects",
         "orientation": "v",
         "showlegend": true,
         "textposition": "auto",
         "type": "bar",
         "x": [
          "Sound Effects"
         ],
         "xaxis": "x",
         "y": [
          304
         ],
         "yaxis": "y"
        },
        {
         "alignmentgroup": "True",
         "hovertemplate": "title=%{x}<br>#tracks=%{y}<extra></extra>",
         "legendgroup": "Folk",
         "marker": {
          "color": "#FF6692",
          "opacity": 0.9
         },
         "name": "Folk",
         "offsetgroup": "Folk",
         "orientation": "v",
         "showlegend": true,
         "textposition": "auto",
         "type": "bar",
         "x": [
          "Folk"
         ],
         "xaxis": "x",
         "y": [
          12706
         ],
         "yaxis": "y"
        },
        {
         "alignmentgroup": "True",
         "hovertemplate": "title=%{x}<br>#tracks=%{y}<extra></extra>",
         "legendgroup": "Soundtrack",
         "marker": {
          "color": "#B6E880",
          "opacity": 0.9
         },
         "name": "Soundtrack",
         "offsetgroup": "Soundtrack",
         "orientation": "v",
         "showlegend": true,
         "textposition": "auto",
         "type": "bar",
         "x": [
          "Soundtrack"
         ],
         "xaxis": "x",
         "y": [
          5913
         ],
         "yaxis": "y"
        },
        {
         "alignmentgroup": "True",
         "hovertemplate": "title=%{x}<br>#tracks=%{y}<extra></extra>",
         "legendgroup": "Funk",
         "marker": {
          "color": "#FF97FF",
          "opacity": 0.9
         },
         "name": "Funk",
         "offsetgroup": "Funk",
         "orientation": "v",
         "showlegend": true,
         "textposition": "auto",
         "type": "bar",
         "x": [
          "Funk"
         ],
         "xaxis": "x",
         "y": [
          773
         ],
         "yaxis": "y"
        },
        {
         "alignmentgroup": "True",
         "hovertemplate": "title=%{x}<br>#tracks=%{y}<extra></extra>",
         "legendgroup": "Spoken",
         "marker": {
          "color": "#FECB52",
          "opacity": 0.9
         },
         "name": "Spoken",
         "offsetgroup": "Spoken",
         "orientation": "v",
         "showlegend": true,
         "textposition": "auto",
         "type": "bar",
         "x": [
          "Spoken"
         ],
         "xaxis": "x",
         "y": [
          1876
         ],
         "yaxis": "y"
        },
        {
         "alignmentgroup": "True",
         "hovertemplate": "title=%{x}<br>#tracks=%{y}<extra></extra>",
         "legendgroup": "Hip-Hop",
         "marker": {
          "color": "#636efa",
          "opacity": 0.9
         },
         "name": "Hip-Hop",
         "offsetgroup": "Hip-Hop",
         "orientation": "v",
         "showlegend": true,
         "textposition": "auto",
         "type": "bar",
         "x": [
          "Hip-Hop"
         ],
         "xaxis": "x",
         "y": [
          8389
         ],
         "yaxis": "y"
        },
        {
         "alignmentgroup": "True",
         "hovertemplate": "title=%{x}<br>#tracks=%{y}<extra></extra>",
         "legendgroup": "Audio Collage",
         "marker": {
          "color": "#EF553B",
          "opacity": 0.9
         },
         "name": "Audio Collage",
         "offsetgroup": "Audio Collage",
         "orientation": "v",
         "showlegend": true,
         "textposition": "auto",
         "type": "bar",
         "x": [
          "Audio Collage"
         ],
         "xaxis": "x",
         "y": [
          774
         ],
         "yaxis": "y"
        },
        {
         "alignmentgroup": "True",
         "hovertemplate": "title=%{x}<br>#tracks=%{y}<extra></extra>",
         "legendgroup": "Punk",
         "marker": {
          "color": "#00cc96",
          "opacity": 0.9
         },
         "name": "Punk",
         "offsetgroup": "Punk",
         "orientation": "v",
         "showlegend": true,
         "textposition": "auto",
         "type": "bar",
         "x": [
          "Punk"
         ],
         "xaxis": "x",
         "y": [
          9261
         ],
         "yaxis": "y"
        },
        {
         "alignmentgroup": "True",
         "hovertemplate": "title=%{x}<br>#tracks=%{y}<extra></extra>",
         "legendgroup": "Post-Rock",
         "marker": {
          "color": "#ab63fa",
          "opacity": 0.9
         },
         "name": "Post-Rock",
         "offsetgroup": "Post-Rock",
         "orientation": "v",
         "showlegend": true,
         "textposition": "auto",
         "type": "bar",
         "x": [
          "Post-Rock"
         ],
         "xaxis": "x",
         "y": [
          1952
         ],
         "yaxis": "y"
        },
        {
         "alignmentgroup": "True",
         "hovertemplate": "title=%{x}<br>#tracks=%{y}<extra></extra>",
         "legendgroup": "Lo-Fi",
         "marker": {
          "color": "#FFA15A",
          "opacity": 0.9
         },
         "name": "Lo-Fi",
         "offsetgroup": "Lo-Fi",
         "orientation": "v",
         "showlegend": true,
         "textposition": "auto",
         "type": "bar",
         "x": [
          "Lo-Fi"
         ],
         "xaxis": "x",
         "y": [
          6041
         ],
         "yaxis": "y"
        },
        {
         "alignmentgroup": "True",
         "hovertemplate": "title=%{x}<br>#tracks=%{y}<extra></extra>",
         "legendgroup": "Field Recordings",
         "marker": {
          "color": "#19d3f3",
          "opacity": 0.9
         },
         "name": "Field Recordings",
         "offsetgroup": "Field Recordings",
         "orientation": "v",
         "showlegend": true,
         "textposition": "auto",
         "type": "bar",
         "x": [
          "Field Recordings"
         ],
         "xaxis": "x",
         "y": [
          3237
         ],
         "yaxis": "y"
        },
        {
         "alignmentgroup": "True",
         "hovertemplate": "title=%{x}<br>#tracks=%{y}<extra></extra>",
         "legendgroup": "Metal",
         "marker": {
          "color": "#FF6692",
          "opacity": 0.9
         },
         "name": "Metal",
         "offsetgroup": "Metal",
         "orientation": "v",
         "showlegend": true,
         "textposition": "auto",
         "type": "bar",
         "x": [
          "Metal"
         ],
         "xaxis": "x",
         "y": [
          1498
         ],
         "yaxis": "y"
        },
        {
         "alignmentgroup": "True",
         "hovertemplate": "title=%{x}<br>#tracks=%{y}<extra></extra>",
         "legendgroup": "Noise",
         "marker": {
          "color": "#B6E880",
          "opacity": 0.9
         },
         "name": "Noise",
         "offsetgroup": "Noise",
         "orientation": "v",
         "showlegend": true,
         "textposition": "auto",
         "type": "bar",
         "x": [
          "Noise"
         ],
         "xaxis": "x",
         "y": [
          7268
         ],
         "yaxis": "y"
        },
        {
         "alignmentgroup": "True",
         "hovertemplate": "title=%{x}<br>#tracks=%{y}<extra></extra>",
         "legendgroup": "Psych-Folk",
         "marker": {
          "color": "#FF97FF",
          "opacity": 0.9
         },
         "name": "Psych-Folk",
         "offsetgroup": "Psych-Folk",
         "orientation": "v",
         "showlegend": true,
         "textposition": "auto",
         "type": "bar",
         "x": [
          "Psych-Folk"
         ],
         "xaxis": "x",
         "y": [
          2267
         ],
         "yaxis": "y"
        },
        {
         "alignmentgroup": "True",
         "hovertemplate": "title=%{x}<br>#tracks=%{y}<extra></extra>",
         "legendgroup": "Krautrock",
         "marker": {
          "color": "#FECB52",
          "opacity": 0.9
         },
         "name": "Krautrock",
         "offsetgroup": "Krautrock",
         "orientation": "v",
         "showlegend": true,
         "textposition": "auto",
         "type": "bar",
         "x": [
          "Krautrock"
         ],
         "xaxis": "x",
         "y": [
          688
         ],
         "yaxis": "y"
        },
        {
         "alignmentgroup": "True",
         "hovertemplate": "title=%{x}<br>#tracks=%{y}<extra></extra>",
         "legendgroup": "Jazz: Vocal",
         "marker": {
          "color": "#636efa",
          "opacity": 0.9
         },
         "name": "Jazz: Vocal",
         "offsetgroup": "Jazz: Vocal",
         "orientation": "v",
         "showlegend": true,
         "textposition": "auto",
         "type": "bar",
         "x": [
          "Jazz: Vocal"
         ],
         "xaxis": "x",
         "y": [
          97
         ],
         "yaxis": "y"
        },
        {
         "alignmentgroup": "True",
         "hovertemplate": "title=%{x}<br>#tracks=%{y}<extra></extra>",
         "legendgroup": "Experimental",
         "marker": {
          "color": "#EF553B",
          "opacity": 0.9
         },
         "name": "Experimental",
         "offsetgroup": "Experimental",
         "orientation": "v",
         "showlegend": true,
         "textposition": "auto",
         "type": "bar",
         "x": [
          "Experimental"
         ],
         "xaxis": "x",
         "y": [
          38154
         ],
         "yaxis": "y"
        },
        {
         "alignmentgroup": "True",
         "hovertemplate": "title=%{x}<br>#tracks=%{y}<extra></extra>",
         "legendgroup": "Electroacoustic",
         "marker": {
          "color": "#00cc96",
          "opacity": 0.9
         },
         "name": "Electroacoustic",
         "offsetgroup": "Electroacoustic",
         "orientation": "v",
         "showlegend": true,
         "textposition": "auto",
         "type": "bar",
         "x": [
          "Electroacoustic"
         ],
         "xaxis": "x",
         "y": [
          6110
         ],
         "yaxis": "y"
        },
        {
         "alignmentgroup": "True",
         "hovertemplate": "title=%{x}<br>#tracks=%{y}<extra></extra>",
         "legendgroup": "Ambient Electronic",
         "marker": {
          "color": "#ab63fa",
          "opacity": 0.9
         },
         "name": "Ambient Electronic",
         "offsetgroup": "Ambient Electronic",
         "orientation": "v",
         "showlegend": true,
         "textposition": "auto",
         "type": "bar",
         "x": [
          "Ambient Electronic"
         ],
         "xaxis": "x",
         "y": [
          5723
         ],
         "yaxis": "y"
        },
        {
         "alignmentgroup": "True",
         "hovertemplate": "title=%{x}<br>#tracks=%{y}<extra></extra>",
         "legendgroup": "Radio Art",
         "marker": {
          "color": "#FFA15A",
          "opacity": 0.9
         },
         "name": "Radio Art",
         "offsetgroup": "Radio Art",
         "orientation": "v",
         "showlegend": true,
         "textposition": "auto",
         "type": "bar",
         "x": [
          "Radio Art"
         ],
         "xaxis": "x",
         "y": [
          210
         ],
         "yaxis": "y"
        },
        {
         "alignmentgroup": "True",
         "hovertemplate": "title=%{x}<br>#tracks=%{y}<extra></extra>",
         "legendgroup": "Loud-Rock",
         "marker": {
          "color": "#19d3f3",
          "opacity": 0.9
         },
         "name": "Loud-Rock",
         "offsetgroup": "Loud-Rock",
         "orientation": "v",
         "showlegend": true,
         "textposition": "auto",
         "type": "bar",
         "x": [
          "Loud-Rock"
         ],
         "xaxis": "x",
         "y": [
          2469
         ],
         "yaxis": "y"
        },
        {
         "alignmentgroup": "True",
         "hovertemplate": "title=%{x}<br>#tracks=%{y}<extra></extra>",
         "legendgroup": "Latin America",
         "marker": {
          "color": "#FF6692",
          "opacity": 0.9
         },
         "name": "Latin America",
         "offsetgroup": "Latin America",
         "orientation": "v",
         "showlegend": true,
         "textposition": "auto",
         "type": "bar",
         "x": [
          "Latin America"
         ],
         "xaxis": "x",
         "y": [
          573
         ],
         "yaxis": "y"
        },
        {
         "alignmentgroup": "True",
         "hovertemplate": "title=%{x}<br>#tracks=%{y}<extra></extra>",
         "legendgroup": "Drone",
         "marker": {
          "color": "#B6E880",
          "opacity": 0.9
         },
         "name": "Drone",
         "offsetgroup": "Drone",
         "orientation": "v",
         "showlegend": true,
         "textposition": "auto",
         "type": "bar",
         "x": [
          "Drone"
         ],
         "xaxis": "x",
         "y": [
          2546
         ],
         "yaxis": "y"
        },
        {
         "alignmentgroup": "True",
         "hovertemplate": "title=%{x}<br>#tracks=%{y}<extra></extra>",
         "legendgroup": "Free-Folk",
         "marker": {
          "color": "#FF97FF",
          "opacity": 0.9
         },
         "name": "Free-Folk",
         "offsetgroup": "Free-Folk",
         "orientation": "v",
         "showlegend": true,
         "textposition": "auto",
         "type": "bar",
         "x": [
          "Free-Folk"
         ],
         "xaxis": "x",
         "y": [
          753
         ],
         "yaxis": "y"
        },
        {
         "alignmentgroup": "True",
         "hovertemplate": "title=%{x}<br>#tracks=%{y}<extra></extra>",
         "legendgroup": "Noise-Rock",
         "marker": {
          "color": "#FECB52",
          "opacity": 0.9
         },
         "name": "Noise-Rock",
         "offsetgroup": "Noise-Rock",
         "orientation": "v",
         "showlegend": true,
         "textposition": "auto",
         "type": "bar",
         "x": [
          "Noise-Rock"
         ],
         "xaxis": "x",
         "y": [
          2071
         ],
         "yaxis": "y"
        },
        {
         "alignmentgroup": "True",
         "hovertemplate": "title=%{x}<br>#tracks=%{y}<extra></extra>",
         "legendgroup": "Psych-Rock",
         "marker": {
          "color": "#636efa",
          "opacity": 0.9
         },
         "name": "Psych-Rock",
         "offsetgroup": "Psych-Rock",
         "orientation": "v",
         "showlegend": true,
         "textposition": "auto",
         "type": "bar",
         "x": [
          "Psych-Rock"
         ],
         "xaxis": "x",
         "y": [
          2502
         ],
         "yaxis": "y"
        },
        {
         "alignmentgroup": "True",
         "hovertemplate": "title=%{x}<br>#tracks=%{y}<extra></extra>",
         "legendgroup": "Bluegrass",
         "marker": {
          "color": "#EF553B",
          "opacity": 0.9
         },
         "name": "Bluegrass",
         "offsetgroup": "Bluegrass",
         "orientation": "v",
         "showlegend": true,
         "textposition": "auto",
         "type": "bar",
         "x": [
          "Bluegrass"
         ],
         "xaxis": "x",
         "y": [
          178
         ],
         "yaxis": "y"
        },
        {
         "alignmentgroup": "True",
         "hovertemplate": "title=%{x}<br>#tracks=%{y}<extra></extra>",
         "legendgroup": "Electro-Punk",
         "marker": {
          "color": "#00cc96",
          "opacity": 0.9
         },
         "name": "Electro-Punk",
         "offsetgroup": "Electro-Punk",
         "orientation": "v",
         "showlegend": true,
         "textposition": "auto",
         "type": "bar",
         "x": [
          "Electro-Punk"
         ],
         "xaxis": "x",
         "y": [
          563
         ],
         "yaxis": "y"
        },
        {
         "alignmentgroup": "True",
         "hovertemplate": "title=%{x}<br>#tracks=%{y}<extra></extra>",
         "legendgroup": "Radio",
         "marker": {
          "color": "#ab63fa",
          "opacity": 0.9
         },
         "name": "Radio",
         "offsetgroup": "Radio",
         "orientation": "v",
         "showlegend": true,
         "textposition": "auto",
         "type": "bar",
         "x": [
          "Radio"
         ],
         "xaxis": "x",
         "y": [
          518
         ],
         "yaxis": "y"
        },
        {
         "alignmentgroup": "True",
         "hovertemplate": "title=%{x}<br>#tracks=%{y}<extra></extra>",
         "legendgroup": "Indie-Rock",
         "marker": {
          "color": "#FFA15A",
          "opacity": 0.9
         },
         "name": "Indie-Rock",
         "offsetgroup": "Indie-Rock",
         "orientation": "v",
         "showlegend": true,
         "textposition": "auto",
         "type": "bar",
         "x": [
          "Indie-Rock"
         ],
         "xaxis": "x",
         "y": [
          5432
         ],
         "yaxis": "y"
        },
        {
         "alignmentgroup": "True",
         "hovertemplate": "title=%{x}<br>#tracks=%{y}<extra></extra>",
         "legendgroup": "Industrial",
         "marker": {
          "color": "#19d3f3",
          "opacity": 0.9
         },
         "name": "Industrial",
         "offsetgroup": "Industrial",
         "orientation": "v",
         "showlegend": true,
         "textposition": "auto",
         "type": "bar",
         "x": [
          "Industrial"
         ],
         "xaxis": "x",
         "y": [
          2230
         ],
         "yaxis": "y"
        },
        {
         "alignmentgroup": "True",
         "hovertemplate": "title=%{x}<br>#tracks=%{y}<extra></extra>",
         "legendgroup": "No Wave",
         "marker": {
          "color": "#FF6692",
          "opacity": 0.9
         },
         "name": "No Wave",
         "offsetgroup": "No Wave",
         "orientation": "v",
         "showlegend": true,
         "textposition": "auto",
         "type": "bar",
         "x": [
          "No Wave"
         ],
         "xaxis": "x",
         "y": [
          600
         ],
         "yaxis": "y"
        },
        {
         "alignmentgroup": "True",
         "hovertemplate": "title=%{x}<br>#tracks=%{y}<extra></extra>",
         "legendgroup": "Free-Jazz",
         "marker": {
          "color": "#B6E880",
          "opacity": 0.9
         },
         "name": "Free-Jazz",
         "offsetgroup": "Free-Jazz",
         "orientation": "v",
         "showlegend": true,
         "textposition": "auto",
         "type": "bar",
         "x": [
          "Free-Jazz"
         ],
         "xaxis": "x",
         "y": [
          1531
         ],
         "yaxis": "y"
        },
        {
         "alignmentgroup": "True",
         "hovertemplate": "title=%{x}<br>#tracks=%{y}<extra></extra>",
         "legendgroup": "Experimental Pop",
         "marker": {
          "color": "#FF97FF",
          "opacity": 0.9
         },
         "name": "Experimental Pop",
         "offsetgroup": "Experimental Pop",
         "orientation": "v",
         "showlegend": true,
         "textposition": "auto",
         "type": "bar",
         "x": [
          "Experimental Pop"
         ],
         "xaxis": "x",
         "y": [
          7144
         ],
         "yaxis": "y"
        },
        {
         "alignmentgroup": "True",
         "hovertemplate": "title=%{x}<br>#tracks=%{y}<extra></extra>",
         "legendgroup": "French",
         "marker": {
          "color": "#FECB52",
          "opacity": 0.9
         },
         "name": "French",
         "offsetgroup": "French",
         "orientation": "v",
         "showlegend": true,
         "textposition": "auto",
         "type": "bar",
         "x": [
          "French"
         ],
         "xaxis": "x",
         "y": [
          387
         ],
         "yaxis": "y"
        },
        {
         "alignmentgroup": "True",
         "hovertemplate": "title=%{x}<br>#tracks=%{y}<extra></extra>",
         "legendgroup": "Reggae - Dub",
         "marker": {
          "color": "#636efa",
          "opacity": 0.9
         },
         "name": "Reggae - Dub",
         "offsetgroup": "Reggae - Dub",
         "orientation": "v",
         "showlegend": true,
         "textposition": "auto",
         "type": "bar",
         "x": [
          "Reggae - Dub"
         ],
         "xaxis": "x",
         "y": [
          880
         ],
         "yaxis": "y"
        },
        {
         "alignmentgroup": "True",
         "hovertemplate": "title=%{x}<br>#tracks=%{y}<extra></extra>",
         "legendgroup": "Afrobeat",
         "marker": {
          "color": "#EF553B",
          "opacity": 0.9
         },
         "name": "Afrobeat",
         "offsetgroup": "Afrobeat",
         "orientation": "v",
         "showlegend": true,
         "textposition": "auto",
         "type": "bar",
         "x": [
          "Afrobeat"
         ],
         "xaxis": "x",
         "y": [
          110
         ],
         "yaxis": "y"
        },
        {
         "alignmentgroup": "True",
         "hovertemplate": "title=%{x}<br>#tracks=%{y}<extra></extra>",
         "legendgroup": "Nerdcore",
         "marker": {
          "color": "#00cc96",
          "opacity": 0.9
         },
         "name": "Nerdcore",
         "offsetgroup": "Nerdcore",
         "orientation": "v",
         "showlegend": true,
         "textposition": "auto",
         "type": "bar",
         "x": [
          "Nerdcore"
         ],
         "xaxis": "x",
         "y": [
          84
         ],
         "yaxis": "y"
        },
        {
         "alignmentgroup": "True",
         "hovertemplate": "title=%{x}<br>#tracks=%{y}<extra></extra>",
         "legendgroup": "Garage",
         "marker": {
          "color": "#ab63fa",
          "opacity": 0.9
         },
         "name": "Garage",
         "offsetgroup": "Garage",
         "orientation": "v",
         "showlegend": true,
         "textposition": "auto",
         "type": "bar",
         "x": [
          "Garage"
         ],
         "xaxis": "x",
         "y": [
          3548
         ],
         "yaxis": "y"
        },
        {
         "alignmentgroup": "True",
         "hovertemplate": "title=%{x}<br>#tracks=%{y}<extra></extra>",
         "legendgroup": "Indian",
         "marker": {
          "color": "#FFA15A",
          "opacity": 0.9
         },
         "name": "Indian",
         "offsetgroup": "Indian",
         "orientation": "v",
         "showlegend": true,
         "textposition": "auto",
         "type": "bar",
         "x": [
          "Indian"
         ],
         "xaxis": "x",
         "y": [
          216
         ],
         "yaxis": "y"
        },
        {
         "alignmentgroup": "True",
         "hovertemplate": "title=%{x}<br>#tracks=%{y}<extra></extra>",
         "legendgroup": "New Wave",
         "marker": {
          "color": "#19d3f3",
          "opacity": 0.9
         },
         "name": "New Wave",
         "offsetgroup": "New Wave",
         "orientation": "v",
         "showlegend": true,
         "textposition": "auto",
         "type": "bar",
         "x": [
          "New Wave"
         ],
         "xaxis": "x",
         "y": [
          517
         ],
         "yaxis": "y"
        },
        {
         "alignmentgroup": "True",
         "hovertemplate": "title=%{x}<br>#tracks=%{y}<extra></extra>",
         "legendgroup": "Post-Punk",
         "marker": {
          "color": "#FF6692",
          "opacity": 0.9
         },
         "name": "Post-Punk",
         "offsetgroup": "Post-Punk",
         "orientation": "v",
         "showlegend": true,
         "textposition": "auto",
         "type": "bar",
         "x": [
          "Post-Punk"
         ],
         "xaxis": "x",
         "y": [
          1858
         ],
         "yaxis": "y"
        },
        {
         "alignmentgroup": "True",
         "hovertemplate": "title=%{x}<br>#tracks=%{y}<extra></extra>",
         "legendgroup": "Sludge",
         "marker": {
          "color": "#B6E880",
          "opacity": 0.9
         },
         "name": "Sludge",
         "offsetgroup": "Sludge",
         "orientation": "v",
         "showlegend": true,
         "textposition": "auto",
         "type": "bar",
         "x": [
          "Sludge"
         ],
         "xaxis": "x",
         "y": [
          251
         ],
         "yaxis": "y"
        },
        {
         "alignmentgroup": "True",
         "hovertemplate": "title=%{x}<br>#tracks=%{y}<extra></extra>",
         "legendgroup": "African",
         "marker": {
          "color": "#FF97FF",
          "opacity": 0.9
         },
         "name": "African",
         "offsetgroup": "African",
         "orientation": "v",
         "showlegend": true,
         "textposition": "auto",
         "type": "bar",
         "x": [
          "African"
         ],
         "xaxis": "x",
         "y": [
          329
         ],
         "yaxis": "y"
        },
        {
         "alignmentgroup": "True",
         "hovertemplate": "title=%{x}<br>#tracks=%{y}<extra></extra>",
         "legendgroup": "Freak-Folk",
         "marker": {
          "color": "#FECB52",
          "opacity": 0.9
         },
         "name": "Freak-Folk",
         "offsetgroup": "Freak-Folk",
         "orientation": "v",
         "showlegend": true,
         "textposition": "auto",
         "type": "bar",
         "x": [
          "Freak-Folk"
         ],
         "xaxis": "x",
         "y": [
          1289
         ],
         "yaxis": "y"
        },
        {
         "alignmentgroup": "True",
         "hovertemplate": "title=%{x}<br>#tracks=%{y}<extra></extra>",
         "legendgroup": "Jazz: Out",
         "marker": {
          "color": "#636efa",
          "opacity": 0.9
         },
         "name": "Jazz: Out",
         "offsetgroup": "Jazz: Out",
         "orientation": "v",
         "showlegend": true,
         "textposition": "auto",
         "type": "bar",
         "x": [
          "Jazz: Out"
         ],
         "xaxis": "x",
         "y": [
          291
         ],
         "yaxis": "y"
        },
        {
         "alignmentgroup": "True",
         "hovertemplate": "title=%{x}<br>#tracks=%{y}<extra></extra>",
         "legendgroup": "Progressive",
         "marker": {
          "color": "#EF553B",
          "opacity": 0.9
         },
         "name": "Progressive",
         "offsetgroup": "Progressive",
         "orientation": "v",
         "showlegend": true,
         "textposition": "auto",
         "type": "bar",
         "x": [
          "Progressive"
         ],
         "xaxis": "x",
         "y": [
          795
         ],
         "yaxis": "y"
        },
        {
         "alignmentgroup": "True",
         "hovertemplate": "title=%{x}<br>#tracks=%{y}<extra></extra>",
         "legendgroup": "Alternative Hip-Hop",
         "marker": {
          "color": "#00cc96",
          "opacity": 0.9
         },
         "name": "Alternative Hip-Hop",
         "offsetgroup": "Alternative Hip-Hop",
         "orientation": "v",
         "showlegend": true,
         "textposition": "auto",
         "type": "bar",
         "x": [
          "Alternative Hip-Hop"
         ],
         "xaxis": "x",
         "y": [
          740
         ],
         "yaxis": "y"
        },
        {
         "alignmentgroup": "True",
         "hovertemplate": "title=%{x}<br>#tracks=%{y}<extra></extra>",
         "legendgroup": "Death-Metal",
         "marker": {
          "color": "#ab63fa",
          "opacity": 0.9
         },
         "name": "Death-Metal",
         "offsetgroup": "Death-Metal",
         "orientation": "v",
         "showlegend": true,
         "textposition": "auto",
         "type": "bar",
         "x": [
          "Death-Metal"
         ],
         "xaxis": "x",
         "y": [
          196
         ],
         "yaxis": "y"
        },
        {
         "alignmentgroup": "True",
         "hovertemplate": "title=%{x}<br>#tracks=%{y}<extra></extra>",
         "legendgroup": "Middle East",
         "marker": {
          "color": "#FFA15A",
          "opacity": 0.9
         },
         "name": "Middle East",
         "offsetgroup": "Middle East",
         "orientation": "v",
         "showlegend": true,
         "textposition": "auto",
         "type": "bar",
         "x": [
          "Middle East"
         ],
         "xaxis": "x",
         "y": [
          176
         ],
         "yaxis": "y"
        },
        {
         "alignmentgroup": "True",
         "hovertemplate": "title=%{x}<br>#tracks=%{y}<extra></extra>",
         "legendgroup": "Singer-Songwriter",
         "marker": {
          "color": "#19d3f3",
          "opacity": 0.9
         },
         "name": "Singer-Songwriter",
         "offsetgroup": "Singer-Songwriter",
         "orientation": "v",
         "showlegend": true,
         "textposition": "auto",
         "type": "bar",
         "x": [
          "Singer-Songwriter"
         ],
         "xaxis": "x",
         "y": [
          4162
         ],
         "yaxis": "y"
        },
        {
         "alignmentgroup": "True",
         "hovertemplate": "title=%{x}<br>#tracks=%{y}<extra></extra>",
         "legendgroup": "Ambient",
         "marker": {
          "color": "#FF6692",
          "opacity": 0.9
         },
         "name": "Ambient",
         "offsetgroup": "Ambient",
         "orientation": "v",
         "showlegend": true,
         "textposition": "auto",
         "type": "bar",
         "x": [
          "Ambient"
         ],
         "xaxis": "x",
         "y": [
          7206
         ],
         "yaxis": "y"
        },
        {
         "alignmentgroup": "True",
         "hovertemplate": "title=%{x}<br>#tracks=%{y}<extra></extra>",
         "legendgroup": "Hardcore",
         "marker": {
          "color": "#B6E880",
          "opacity": 0.9
         },
         "name": "Hardcore",
         "offsetgroup": "Hardcore",
         "orientation": "v",
         "showlegend": true,
         "textposition": "auto",
         "type": "bar",
         "x": [
          "Hardcore"
         ],
         "xaxis": "x",
         "y": [
          1419
         ],
         "yaxis": "y"
        },
        {
         "alignmentgroup": "True",
         "hovertemplate": "title=%{x}<br>#tracks=%{y}<extra></extra>",
         "legendgroup": "Power-Pop",
         "marker": {
          "color": "#FF97FF",
          "opacity": 0.9
         },
         "name": "Power-Pop",
         "offsetgroup": "Power-Pop",
         "orientation": "v",
         "showlegend": true,
         "textposition": "auto",
         "type": "bar",
         "x": [
          "Power-Pop"
         ],
         "xaxis": "x",
         "y": [
          1003
         ],
         "yaxis": "y"
        },
        {
         "alignmentgroup": "True",
         "hovertemplate": "title=%{x}<br>#tracks=%{y}<extra></extra>",
         "legendgroup": "Space-Rock",
         "marker": {
          "color": "#FECB52",
          "opacity": 0.9
         },
         "name": "Space-Rock",
         "offsetgroup": "Space-Rock",
         "orientation": "v",
         "showlegend": true,
         "textposition": "auto",
         "type": "bar",
         "x": [
          "Space-Rock"
         ],
         "xaxis": "x",
         "y": [
          484
         ],
         "yaxis": "y"
        },
        {
         "alignmentgroup": "True",
         "hovertemplate": "title=%{x}<br>#tracks=%{y}<extra></extra>",
         "legendgroup": "Polka",
         "marker": {
          "color": "#636efa",
          "opacity": 0.9
         },
         "name": "Polka",
         "offsetgroup": "Polka",
         "orientation": "v",
         "showlegend": true,
         "textposition": "auto",
         "type": "bar",
         "x": [
          "Polka"
         ],
         "xaxis": "x",
         "y": [
          62
         ],
         "yaxis": "y"
        },
        {
         "alignmentgroup": "True",
         "hovertemplate": "title=%{x}<br>#tracks=%{y}<extra></extra>",
         "legendgroup": "Balkan",
         "marker": {
          "color": "#EF553B",
          "opacity": 0.9
         },
         "name": "Balkan",
         "offsetgroup": "Balkan",
         "orientation": "v",
         "showlegend": true,
         "textposition": "auto",
         "type": "bar",
         "x": [
          "Balkan"
         ],
         "xaxis": "x",
         "y": [
          608
         ],
         "yaxis": "y"
        },
        {
         "alignmentgroup": "True",
         "hovertemplate": "title=%{x}<br>#tracks=%{y}<extra></extra>",
         "legendgroup": "Unclassifiable",
         "marker": {
          "color": "#00cc96",
          "opacity": 0.9
         },
         "name": "Unclassifiable",
         "offsetgroup": "Unclassifiable",
         "orientation": "v",
         "showlegend": true,
         "textposition": "auto",
         "type": "bar",
         "x": [
          "Unclassifiable"
         ],
         "xaxis": "x",
         "y": [
          1511
         ],
         "yaxis": "y"
        },
        {
         "alignmentgroup": "True",
         "hovertemplate": "title=%{x}<br>#tracks=%{y}<extra></extra>",
         "legendgroup": "Europe",
         "marker": {
          "color": "#ab63fa",
          "opacity": 0.9
         },
         "name": "Europe",
         "offsetgroup": "Europe",
         "orientation": "v",
         "showlegend": true,
         "textposition": "auto",
         "type": "bar",
         "x": [
          "Europe"
         ],
         "xaxis": "x",
         "y": [
          727
         ],
         "yaxis": "y"
        },
        {
         "alignmentgroup": "True",
         "hovertemplate": "title=%{x}<br>#tracks=%{y}<extra></extra>",
         "legendgroup": "Americana",
         "marker": {
          "color": "#FFA15A",
          "opacity": 0.9
         },
         "name": "Americana",
         "offsetgroup": "Americana",
         "orientation": "v",
         "showlegend": true,
         "textposition": "auto",
         "type": "bar",
         "x": [
          "Americana"
         ],
         "xaxis": "x",
         "y": [
          994
         ],
         "yaxis": "y"
        },
        {
         "alignmentgroup": "True",
         "hovertemplate": "title=%{x}<br>#tracks=%{y}<extra></extra>",
         "legendgroup": "Spoken Weird",
         "marker": {
          "color": "#19d3f3",
          "opacity": 0.9
         },
         "name": "Spoken Weird",
         "offsetgroup": "Spoken Weird",
         "orientation": "v",
         "showlegend": true,
         "textposition": "auto",
         "type": "bar",
         "x": [
          "Spoken Weird"
         ],
         "xaxis": "x",
         "y": [
          490
         ],
         "yaxis": "y"
        },
        {
         "alignmentgroup": "True",
         "hovertemplate": "title=%{x}<br>#tracks=%{y}<extra></extra>",
         "legendgroup": "Interview",
         "marker": {
          "color": "#FF6692",
          "opacity": 0.9
         },
         "name": "Interview",
         "offsetgroup": "Interview",
         "orientation": "v",
         "showlegend": true,
         "textposition": "auto",
         "type": "bar",
         "x": [
          "Interview"
         ],
         "xaxis": "x",
         "y": [
          122
         ],
         "yaxis": "y"
        },
        {
         "alignmentgroup": "True",
         "hovertemplate": "title=%{x}<br>#tracks=%{y}<extra></extra>",
         "legendgroup": "Black-Metal",
         "marker": {
          "color": "#B6E880",
          "opacity": 0.9
         },
         "name": "Black-Metal",
         "offsetgroup": "Black-Metal",
         "orientation": "v",
         "showlegend": true,
         "textposition": "auto",
         "type": "bar",
         "x": [
          "Black-Metal"
         ],
         "xaxis": "x",
         "y": [
          152
         ],
         "yaxis": "y"
        },
        {
         "alignmentgroup": "True",
         "hovertemplate": "title=%{x}<br>#tracks=%{y}<extra></extra>",
         "legendgroup": "Rockabilly",
         "marker": {
          "color": "#FF97FF",
          "opacity": 0.9
         },
         "name": "Rockabilly",
         "offsetgroup": "Rockabilly",
         "orientation": "v",
         "showlegend": true,
         "textposition": "auto",
         "type": "bar",
         "x": [
          "Rockabilly"
         ],
         "xaxis": "x",
         "y": [
          128
         ],
         "yaxis": "y"
        },
        {
         "alignmentgroup": "True",
         "hovertemplate": "title=%{x}<br>#tracks=%{y}<extra></extra>",
         "legendgroup": "Easy Listening: Vocal",
         "marker": {
          "color": "#FECB52",
          "opacity": 0.9
         },
         "name": "Easy Listening: Vocal",
         "offsetgroup": "Easy Listening: Vocal",
         "orientation": "v",
         "showlegend": true,
         "textposition": "auto",
         "type": "bar",
         "x": [
          "Easy Listening: Vocal"
         ],
         "xaxis": "x",
         "y": [
          47
         ],
         "yaxis": "y"
        },
        {
         "alignmentgroup": "True",
         "hovertemplate": "title=%{x}<br>#tracks=%{y}<extra></extra>",
         "legendgroup": "Brazilian",
         "marker": {
          "color": "#636efa",
          "opacity": 0.9
         },
         "name": "Brazilian",
         "offsetgroup": "Brazilian",
         "orientation": "v",
         "showlegend": true,
         "textposition": "auto",
         "type": "bar",
         "x": [
          "Brazilian"
         ],
         "xaxis": "x",
         "y": [
          234
         ],
         "yaxis": "y"
        },
        {
         "alignmentgroup": "True",
         "hovertemplate": "title=%{x}<br>#tracks=%{y}<extra></extra>",
         "legendgroup": "Asia-Far East",
         "marker": {
          "color": "#EF553B",
          "opacity": 0.9
         },
         "name": "Asia-Far East",
         "offsetgroup": "Asia-Far East",
         "orientation": "v",
         "showlegend": true,
         "textposition": "auto",
         "type": "bar",
         "x": [
          "Asia-Far East"
         ],
         "xaxis": "x",
         "y": [
          118
         ],
         "yaxis": "y"
        },
        {
         "alignmentgroup": "True",
         "hovertemplate": "title=%{x}<br>#tracks=%{y}<extra></extra>",
         "legendgroup": "N. Indian Traditional",
         "marker": {
          "color": "#00cc96",
          "opacity": 0.9
         },
         "name": "N. Indian Traditional",
         "offsetgroup": "N. Indian Traditional",
         "orientation": "v",
         "showlegend": true,
         "textposition": "auto",
         "type": "bar",
         "x": [
          "N. Indian Traditional"
         ],
         "xaxis": "x",
         "y": [
          4
         ],
         "yaxis": "y"
        },
        {
         "alignmentgroup": "True",
         "hovertemplate": "title=%{x}<br>#tracks=%{y}<extra></extra>",
         "legendgroup": "South Indian Traditional",
         "marker": {
          "color": "#ab63fa",
          "opacity": 0.9
         },
         "name": "South Indian Traditional",
         "offsetgroup": "South Indian Traditional",
         "orientation": "v",
         "showlegend": true,
         "textposition": "auto",
         "type": "bar",
         "x": [
          "South Indian Traditional"
         ],
         "xaxis": "x",
         "y": [
          17
         ],
         "yaxis": "y"
        },
        {
         "alignmentgroup": "True",
         "hovertemplate": "title=%{x}<br>#tracks=%{y}<extra></extra>",
         "legendgroup": "Bollywood",
         "marker": {
          "color": "#FFA15A",
          "opacity": 0.9
         },
         "name": "Bollywood",
         "offsetgroup": "Bollywood",
         "orientation": "v",
         "showlegend": true,
         "textposition": "auto",
         "type": "bar",
         "x": [
          "Bollywood"
         ],
         "xaxis": "x",
         "y": [
          0
         ],
         "yaxis": "y"
        },
        {
         "alignmentgroup": "True",
         "hovertemplate": "title=%{x}<br>#tracks=%{y}<extra></extra>",
         "legendgroup": "Pacific",
         "marker": {
          "color": "#19d3f3",
          "opacity": 0.9
         },
         "name": "Pacific",
         "offsetgroup": "Pacific",
         "orientation": "v",
         "showlegend": true,
         "textposition": "auto",
         "type": "bar",
         "x": [
          "Pacific"
         ],
         "xaxis": "x",
         "y": [
          23
         ],
         "yaxis": "y"
        },
        {
         "alignmentgroup": "True",
         "hovertemplate": "title=%{x}<br>#tracks=%{y}<extra></extra>",
         "legendgroup": "Celtic",
         "marker": {
          "color": "#FF6692",
          "opacity": 0.9
         },
         "name": "Celtic",
         "offsetgroup": "Celtic",
         "orientation": "v",
         "showlegend": true,
         "textposition": "auto",
         "type": "bar",
         "x": [
          "Celtic"
         ],
         "xaxis": "x",
         "y": [
          72
         ],
         "yaxis": "y"
        },
        {
         "alignmentgroup": "True",
         "hovertemplate": "title=%{x}<br>#tracks=%{y}<extra></extra>",
         "legendgroup": "Be-Bop",
         "marker": {
          "color": "#B6E880",
          "opacity": 0.9
         },
         "name": "Be-Bop",
         "offsetgroup": "Be-Bop",
         "orientation": "v",
         "showlegend": true,
         "textposition": "auto",
         "type": "bar",
         "x": [
          "Be-Bop"
         ],
         "xaxis": "x",
         "y": [
          0
         ],
         "yaxis": "y"
        },
        {
         "alignmentgroup": "True",
         "hovertemplate": "title=%{x}<br>#tracks=%{y}<extra></extra>",
         "legendgroup": "Big Band/Swing",
         "marker": {
          "color": "#FF97FF",
          "opacity": 0.9
         },
         "name": "Big Band/Swing",
         "offsetgroup": "Big Band/Swing",
         "orientation": "v",
         "showlegend": true,
         "textposition": "auto",
         "type": "bar",
         "x": [
          "Big Band/Swing"
         ],
         "xaxis": "x",
         "y": [
          104
         ],
         "yaxis": "y"
        },
        {
         "alignmentgroup": "True",
         "hovertemplate": "title=%{x}<br>#tracks=%{y}<extra></extra>",
         "legendgroup": "British Folk",
         "marker": {
          "color": "#FECB52",
          "opacity": 0.9
         },
         "name": "British Folk",
         "offsetgroup": "British Folk",
         "orientation": "v",
         "showlegend": true,
         "textposition": "auto",
         "type": "bar",
         "x": [
          "British Folk"
         ],
         "xaxis": "x",
         "y": [
          161
         ],
         "yaxis": "y"
        },
        {
         "alignmentgroup": "True",
         "hovertemplate": "title=%{x}<br>#tracks=%{y}<extra></extra>",
         "legendgroup": "Techno",
         "marker": {
          "color": "#636efa",
          "opacity": 0.9
         },
         "name": "Techno",
         "offsetgroup": "Techno",
         "orientation": "v",
         "showlegend": true,
         "textposition": "auto",
         "type": "bar",
         "x": [
          "Techno"
         ],
         "xaxis": "x",
         "y": [
          2140
         ],
         "yaxis": "y"
        },
        {
         "alignmentgroup": "True",
         "hovertemplate": "title=%{x}<br>#tracks=%{y}<extra></extra>",
         "legendgroup": "House",
         "marker": {
          "color": "#EF553B",
          "opacity": 0.9
         },
         "name": "House",
         "offsetgroup": "House",
         "orientation": "v",
         "showlegend": true,
         "textposition": "auto",
         "type": "bar",
         "x": [
          "House"
         ],
         "xaxis": "x",
         "y": [
          1482
         ],
         "yaxis": "y"
        },
        {
         "alignmentgroup": "True",
         "hovertemplate": "title=%{x}<br>#tracks=%{y}<extra></extra>",
         "legendgroup": "Glitch",
         "marker": {
          "color": "#00cc96",
          "opacity": 0.9
         },
         "name": "Glitch",
         "offsetgroup": "Glitch",
         "orientation": "v",
         "showlegend": true,
         "textposition": "auto",
         "type": "bar",
         "x": [
          "Glitch"
         ],
         "xaxis": "x",
         "y": [
          2809
         ],
         "yaxis": "y"
        },
        {
         "alignmentgroup": "True",
         "hovertemplate": "title=%{x}<br>#tracks=%{y}<extra></extra>",
         "legendgroup": "Minimal Electronic",
         "marker": {
          "color": "#ab63fa",
          "opacity": 0.9
         },
         "name": "Minimal Electronic",
         "offsetgroup": "Minimal Electronic",
         "orientation": "v",
         "showlegend": true,
         "textposition": "auto",
         "type": "bar",
         "x": [
          "Minimal Electronic"
         ],
         "xaxis": "x",
         "y": [
          1013
         ],
         "yaxis": "y"
        },
        {
         "alignmentgroup": "True",
         "hovertemplate": "title=%{x}<br>#tracks=%{y}<extra></extra>",
         "legendgroup": "Breakcore - Hard",
         "marker": {
          "color": "#FFA15A",
          "opacity": 0.9
         },
         "name": "Breakcore - Hard",
         "offsetgroup": "Breakcore - Hard",
         "orientation": "v",
         "showlegend": true,
         "textposition": "auto",
         "type": "bar",
         "x": [
          "Breakcore - Hard"
         ],
         "xaxis": "x",
         "y": [
          511
         ],
         "yaxis": "y"
        },
        {
         "alignmentgroup": "True",
         "hovertemplate": "title=%{x}<br>#tracks=%{y}<extra></extra>",
         "legendgroup": "Sound Poetry",
         "marker": {
          "color": "#19d3f3",
          "opacity": 0.9
         },
         "name": "Sound Poetry",
         "offsetgroup": "Sound Poetry",
         "orientation": "v",
         "showlegend": true,
         "textposition": "auto",
         "type": "bar",
         "x": [
          "Sound Poetry"
         ],
         "xaxis": "x",
         "y": [
          682
         ],
         "yaxis": "y"
        },
        {
         "alignmentgroup": "True",
         "hovertemplate": "title=%{x}<br>#tracks=%{y}<extra></extra>",
         "legendgroup": "20th Century Classical",
         "marker": {
          "color": "#FF6692",
          "opacity": 0.9
         },
         "name": "20th Century Classical",
         "offsetgroup": "20th Century Classical",
         "orientation": "v",
         "showlegend": true,
         "textposition": "auto",
         "type": "bar",
         "x": [
          "20th Century Classical"
         ],
         "xaxis": "x",
         "y": [
          292
         ],
         "yaxis": "y"
        },
        {
         "alignmentgroup": "True",
         "hovertemplate": "title=%{x}<br>#tracks=%{y}<extra></extra>",
         "legendgroup": "Poetry",
         "marker": {
          "color": "#B6E880",
          "opacity": 0.9
         },
         "name": "Poetry",
         "offsetgroup": "Poetry",
         "orientation": "v",
         "showlegend": true,
         "textposition": "auto",
         "type": "bar",
         "x": [
          "Poetry"
         ],
         "xaxis": "x",
         "y": [
          301
         ],
         "yaxis": "y"
        },
        {
         "alignmentgroup": "True",
         "hovertemplate": "title=%{x}<br>#tracks=%{y}<extra></extra>",
         "legendgroup": "Talk Radio",
         "marker": {
          "color": "#FF97FF",
          "opacity": 0.9
         },
         "name": "Talk Radio",
         "offsetgroup": "Talk Radio",
         "orientation": "v",
         "showlegend": true,
         "textposition": "auto",
         "type": "bar",
         "x": [
          "Talk Radio"
         ],
         "xaxis": "x",
         "y": [
          26
         ],
         "yaxis": "y"
        },
        {
         "alignmentgroup": "True",
         "hovertemplate": "title=%{x}<br>#tracks=%{y}<extra></extra>",
         "legendgroup": "North African",
         "marker": {
          "color": "#FECB52",
          "opacity": 0.9
         },
         "name": "North African",
         "offsetgroup": "North African",
         "orientation": "v",
         "showlegend": true,
         "textposition": "auto",
         "type": "bar",
         "x": [
          "North African"
         ],
         "xaxis": "x",
         "y": [
          40
         ],
         "yaxis": "y"
        },
        {
         "alignmentgroup": "True",
         "hovertemplate": "title=%{x}<br>#tracks=%{y}<extra></extra>",
         "legendgroup": "Sound Collage",
         "marker": {
          "color": "#636efa",
          "opacity": 0.9
         },
         "name": "Sound Collage",
         "offsetgroup": "Sound Collage",
         "orientation": "v",
         "showlegend": true,
         "textposition": "auto",
         "type": "bar",
         "x": [
          "Sound Collage"
         ],
         "xaxis": "x",
         "y": [
          1916
         ],
         "yaxis": "y"
        },
        {
         "alignmentgroup": "True",
         "hovertemplate": "title=%{x}<br>#tracks=%{y}<extra></extra>",
         "legendgroup": "Flamenco",
         "marker": {
          "color": "#EF553B",
          "opacity": 0.9
         },
         "name": "Flamenco",
         "offsetgroup": "Flamenco",
         "orientation": "v",
         "showlegend": true,
         "textposition": "auto",
         "type": "bar",
         "x": [
          "Flamenco"
         ],
         "xaxis": "x",
         "y": [
          47
         ],
         "yaxis": "y"
        },
        {
         "alignmentgroup": "True",
         "hovertemplate": "title=%{x}<br>#tracks=%{y}<extra></extra>",
         "legendgroup": "IDM",
         "marker": {
          "color": "#00cc96",
          "opacity": 0.9
         },
         "name": "IDM",
         "offsetgroup": "IDM",
         "orientation": "v",
         "showlegend": true,
         "textposition": "auto",
         "type": "bar",
         "x": [
          "IDM"
         ],
         "xaxis": "x",
         "y": [
          3472
         ],
         "yaxis": "y"
        },
        {
         "alignmentgroup": "True",
         "hovertemplate": "title=%{x}<br>#tracks=%{y}<extra></extra>",
         "legendgroup": "Chiptune",
         "marker": {
          "color": "#ab63fa",
          "opacity": 0.9
         },
         "name": "Chiptune",
         "offsetgroup": "Chiptune",
         "orientation": "v",
         "showlegend": true,
         "textposition": "auto",
         "type": "bar",
         "x": [
          "Chiptune"
         ],
         "xaxis": "x",
         "y": [
          1231
         ],
         "yaxis": "y"
        },
        {
         "alignmentgroup": "True",
         "hovertemplate": "title=%{x}<br>#tracks=%{y}<extra></extra>",
         "legendgroup": "Musique Concrete",
         "marker": {
          "color": "#FFA15A",
          "opacity": 0.9
         },
         "name": "Musique Concrete",
         "offsetgroup": "Musique Concrete",
         "orientation": "v",
         "showlegend": true,
         "textposition": "auto",
         "type": "bar",
         "x": [
          "Musique Concrete"
         ],
         "xaxis": "x",
         "y": [
          2957
         ],
         "yaxis": "y"
        },
        {
         "alignmentgroup": "True",
         "hovertemplate": "title=%{x}<br>#tracks=%{y}<extra></extra>",
         "legendgroup": "Improv",
         "marker": {
          "color": "#19d3f3",
          "opacity": 0.9
         },
         "name": "Improv",
         "offsetgroup": "Improv",
         "orientation": "v",
         "showlegend": true,
         "textposition": "auto",
         "type": "bar",
         "x": [
          "Improv"
         ],
         "xaxis": "x",
         "y": [
          4261
         ],
         "yaxis": "y"
        },
        {
         "alignmentgroup": "True",
         "hovertemplate": "title=%{x}<br>#tracks=%{y}<extra></extra>",
         "legendgroup": "New Age",
         "marker": {
          "color": "#FF6692",
          "opacity": 0.9
         },
         "name": "New Age",
         "offsetgroup": "New Age",
         "orientation": "v",
         "showlegend": true,
         "textposition": "auto",
         "type": "bar",
         "x": [
          "New Age"
         ],
         "xaxis": "x",
         "y": [
          360
         ],
         "yaxis": "y"
        },
        {
         "alignmentgroup": "True",
         "hovertemplate": "title=%{x}<br>#tracks=%{y}<extra></extra>",
         "legendgroup": "Trip-Hop",
         "marker": {
          "color": "#B6E880",
          "opacity": 0.9
         },
         "name": "Trip-Hop",
         "offsetgroup": "Trip-Hop",
         "orientation": "v",
         "showlegend": true,
         "textposition": "auto",
         "type": "bar",
         "x": [
          "Trip-Hop"
         ],
         "xaxis": "x",
         "y": [
          1751
         ],
         "yaxis": "y"
        },
        {
         "alignmentgroup": "True",
         "hovertemplate": "title=%{x}<br>#tracks=%{y}<extra></extra>",
         "legendgroup": "Dance",
         "marker": {
          "color": "#FF97FF",
          "opacity": 0.9
         },
         "name": "Dance",
         "offsetgroup": "Dance",
         "orientation": "v",
         "showlegend": true,
         "textposition": "auto",
         "type": "bar",
         "x": [
          "Dance"
         ],
         "xaxis": "x",
         "y": [
          1414
         ],
         "yaxis": "y"
        },
        {
         "alignmentgroup": "True",
         "hovertemplate": "title=%{x}<br>#tracks=%{y}<extra></extra>",
         "legendgroup": "Chip Music",
         "marker": {
          "color": "#FECB52",
          "opacity": 0.9
         },
         "name": "Chip Music",
         "offsetgroup": "Chip Music",
         "orientation": "v",
         "showlegend": true,
         "textposition": "auto",
         "type": "bar",
         "x": [
          "Chip Music"
         ],
         "xaxis": "x",
         "y": [
          2208
         ],
         "yaxis": "y"
        },
        {
         "alignmentgroup": "True",
         "hovertemplate": "title=%{x}<br>#tracks=%{y}<extra></extra>",
         "legendgroup": "Lounge",
         "marker": {
          "color": "#636efa",
          "opacity": 0.9
         },
         "name": "Lounge",
         "offsetgroup": "Lounge",
         "orientation": "v",
         "showlegend": true,
         "textposition": "auto",
         "type": "bar",
         "x": [
          "Lounge"
         ],
         "xaxis": "x",
         "y": [
          440
         ],
         "yaxis": "y"
        },
        {
         "alignmentgroup": "True",
         "hovertemplate": "title=%{x}<br>#tracks=%{y}<extra></extra>",
         "legendgroup": "Goth",
         "marker": {
          "color": "#EF553B",
          "opacity": 0.9
         },
         "name": "Goth",
         "offsetgroup": "Goth",
         "orientation": "v",
         "showlegend": true,
         "textposition": "auto",
         "type": "bar",
         "x": [
          "Goth"
         ],
         "xaxis": "x",
         "y": [
          482
         ],
         "yaxis": "y"
        },
        {
         "alignmentgroup": "True",
         "hovertemplate": "title=%{x}<br>#tracks=%{y}<extra></extra>",
         "legendgroup": "Composed Music",
         "marker": {
          "color": "#00cc96",
          "opacity": 0.9
         },
         "name": "Composed Music",
         "offsetgroup": "Composed Music",
         "orientation": "v",
         "showlegend": true,
         "textposition": "auto",
         "type": "bar",
         "x": [
          "Composed Music"
         ],
         "xaxis": "x",
         "y": [
          630
         ],
         "yaxis": "y"
        },
        {
         "alignmentgroup": "True",
         "hovertemplate": "title=%{x}<br>#tracks=%{y}<extra></extra>",
         "legendgroup": "Drum & Bass",
         "marker": {
          "color": "#ab63fa",
          "opacity": 0.9
         },
         "name": "Drum & Bass",
         "offsetgroup": "Drum & Bass",
         "orientation": "v",
         "showlegend": true,
         "textposition": "auto",
         "type": "bar",
         "x": [
          "Drum & Bass"
         ],
         "xaxis": "x",
         "y": [
          500
         ],
         "yaxis": "y"
        },
        {
         "alignmentgroup": "True",
         "hovertemplate": "title=%{x}<br>#tracks=%{y}<extra></extra>",
         "legendgroup": "Shoegaze",
         "marker": {
          "color": "#FFA15A",
          "opacity": 0.9
         },
         "name": "Shoegaze",
         "offsetgroup": "Shoegaze",
         "orientation": "v",
         "showlegend": true,
         "textposition": "auto",
         "type": "bar",
         "x": [
          "Shoegaze"
         ],
         "xaxis": "x",
         "y": [
          762
         ],
         "yaxis": "y"
        },
        {
         "alignmentgroup": "True",
         "hovertemplate": "title=%{x}<br>#tracks=%{y}<extra></extra>",
         "legendgroup": "Kid-Friendly",
         "marker": {
          "color": "#19d3f3",
          "opacity": 0.9
         },
         "name": "Kid-Friendly",
         "offsetgroup": "Kid-Friendly",
         "orientation": "v",
         "showlegend": true,
         "textposition": "auto",
         "type": "bar",
         "x": [
          "Kid-Friendly"
         ],
         "xaxis": "x",
         "y": [
          201
         ],
         "yaxis": "y"
        },
        {
         "alignmentgroup": "True",
         "hovertemplate": "title=%{x}<br>#tracks=%{y}<extra></extra>",
         "legendgroup": "Thrash",
         "marker": {
          "color": "#FF6692",
          "opacity": 0.9
         },
         "name": "Thrash",
         "offsetgroup": "Thrash",
         "orientation": "v",
         "showlegend": true,
         "textposition": "auto",
         "type": "bar",
         "x": [
          "Thrash"
         ],
         "xaxis": "x",
         "y": [
          175
         ],
         "yaxis": "y"
        },
        {
         "alignmentgroup": "True",
         "hovertemplate": "title=%{x}<br>#tracks=%{y}<extra></extra>",
         "legendgroup": "Synth Pop",
         "marker": {
          "color": "#B6E880",
          "opacity": 0.9
         },
         "name": "Synth Pop",
         "offsetgroup": "Synth Pop",
         "orientation": "v",
         "showlegend": true,
         "textposition": "auto",
         "type": "bar",
         "x": [
          "Synth Pop"
         ],
         "xaxis": "x",
         "y": [
          1835
         ],
         "yaxis": "y"
        },
        {
         "alignmentgroup": "True",
         "hovertemplate": "title=%{x}<br>#tracks=%{y}<extra></extra>",
         "legendgroup": "Banter",
         "marker": {
          "color": "#FF97FF",
          "opacity": 0.9
         },
         "name": "Banter",
         "offsetgroup": "Banter",
         "orientation": "v",
         "showlegend": true,
         "textposition": "auto",
         "type": "bar",
         "x": [
          "Banter"
         ],
         "xaxis": "x",
         "y": [
          9
         ],
         "yaxis": "y"
        },
        {
         "alignmentgroup": "True",
         "hovertemplate": "title=%{x}<br>#tracks=%{y}<extra></extra>",
         "legendgroup": "Deep Funk",
         "marker": {
          "color": "#FECB52",
          "opacity": 0.9
         },
         "name": "Deep Funk",
         "offsetgroup": "Deep Funk",
         "orientation": "v",
         "showlegend": true,
         "textposition": "auto",
         "type": "bar",
         "x": [
          "Deep Funk"
         ],
         "xaxis": "x",
         "y": [
          1
         ],
         "yaxis": "y"
        },
        {
         "alignmentgroup": "True",
         "hovertemplate": "title=%{x}<br>#tracks=%{y}<extra></extra>",
         "legendgroup": "Spoken Word",
         "marker": {
          "color": "#636efa",
          "opacity": 0.9
         },
         "name": "Spoken Word",
         "offsetgroup": "Spoken Word",
         "orientation": "v",
         "showlegend": true,
         "textposition": "auto",
         "type": "bar",
         "x": [
          "Spoken Word"
         ],
         "xaxis": "x",
         "y": [
          177
         ],
         "yaxis": "y"
        },
        {
         "alignmentgroup": "True",
         "hovertemplate": "title=%{x}<br>#tracks=%{y}<extra></extra>",
         "legendgroup": "Chill-out",
         "marker": {
          "color": "#EF553B",
          "opacity": 0.9
         },
         "name": "Chill-out",
         "offsetgroup": "Chill-out",
         "orientation": "v",
         "showlegend": true,
         "textposition": "auto",
         "type": "bar",
         "x": [
          "Chill-out"
         ],
         "xaxis": "x",
         "y": [
          823
         ],
         "yaxis": "y"
        },
        {
         "alignmentgroup": "True",
         "hovertemplate": "title=%{x}<br>#tracks=%{y}<extra></extra>",
         "legendgroup": "Bigbeat",
         "marker": {
          "color": "#00cc96",
          "opacity": 0.9
         },
         "name": "Bigbeat",
         "offsetgroup": "Bigbeat",
         "orientation": "v",
         "showlegend": true,
         "textposition": "auto",
         "type": "bar",
         "x": [
          "Bigbeat"
         ],
         "xaxis": "x",
         "y": [
          189
         ],
         "yaxis": "y"
        },
        {
         "alignmentgroup": "True",
         "hovertemplate": "title=%{x}<br>#tracks=%{y}<extra></extra>",
         "legendgroup": "Surf",
         "marker": {
          "color": "#ab63fa",
          "opacity": 0.9
         },
         "name": "Surf",
         "offsetgroup": "Surf",
         "orientation": "v",
         "showlegend": true,
         "textposition": "auto",
         "type": "bar",
         "x": [
          "Surf"
         ],
         "xaxis": "x",
         "y": [
          265
         ],
         "yaxis": "y"
        },
        {
         "alignmentgroup": "True",
         "hovertemplate": "title=%{x}<br>#tracks=%{y}<extra></extra>",
         "legendgroup": "Radio Theater",
         "marker": {
          "color": "#FFA15A",
          "opacity": 0.9
         },
         "name": "Radio Theater",
         "offsetgroup": "Radio Theater",
         "orientation": "v",
         "showlegend": true,
         "textposition": "auto",
         "type": "bar",
         "x": [
          "Radio Theater"
         ],
         "xaxis": "x",
         "y": [
          73
         ],
         "yaxis": "y"
        },
        {
         "alignmentgroup": "True",
         "hovertemplate": "title=%{x}<br>#tracks=%{y}<extra></extra>",
         "legendgroup": "Grindcore",
         "marker": {
          "color": "#19d3f3",
          "opacity": 0.9
         },
         "name": "Grindcore",
         "offsetgroup": "Grindcore",
         "orientation": "v",
         "showlegend": true,
         "textposition": "auto",
         "type": "bar",
         "x": [
          "Grindcore"
         ],
         "xaxis": "x",
         "y": [
          314
         ],
         "yaxis": "y"
        },
        {
         "alignmentgroup": "True",
         "hovertemplate": "title=%{x}<br>#tracks=%{y}<extra></extra>",
         "legendgroup": "Rock Opera",
         "marker": {
          "color": "#FF6692",
          "opacity": 0.9
         },
         "name": "Rock Opera",
         "offsetgroup": "Rock Opera",
         "orientation": "v",
         "showlegend": true,
         "textposition": "auto",
         "type": "bar",
         "x": [
          "Rock Opera"
         ],
         "xaxis": "x",
         "y": [
          116
         ],
         "yaxis": "y"
        },
        {
         "alignmentgroup": "True",
         "hovertemplate": "title=%{x}<br>#tracks=%{y}<extra></extra>",
         "legendgroup": "Opera",
         "marker": {
          "color": "#B6E880",
          "opacity": 0.9
         },
         "name": "Opera",
         "offsetgroup": "Opera",
         "orientation": "v",
         "showlegend": true,
         "textposition": "auto",
         "type": "bar",
         "x": [
          "Opera"
         ],
         "xaxis": "x",
         "y": [
          161
         ],
         "yaxis": "y"
        },
        {
         "alignmentgroup": "True",
         "hovertemplate": "title=%{x}<br>#tracks=%{y}<extra></extra>",
         "legendgroup": "Chamber Music",
         "marker": {
          "color": "#FF97FF",
          "opacity": 0.9
         },
         "name": "Chamber Music",
         "offsetgroup": "Chamber Music",
         "orientation": "v",
         "showlegend": true,
         "textposition": "auto",
         "type": "bar",
         "x": [
          "Chamber Music"
         ],
         "xaxis": "x",
         "y": [
          170
         ],
         "yaxis": "y"
        },
        {
         "alignmentgroup": "True",
         "hovertemplate": "title=%{x}<br>#tracks=%{y}<extra></extra>",
         "legendgroup": "Choral Music",
         "marker": {
          "color": "#FECB52",
          "opacity": 0.9
         },
         "name": "Choral Music",
         "offsetgroup": "Choral Music",
         "orientation": "v",
         "showlegend": true,
         "textposition": "auto",
         "type": "bar",
         "x": [
          "Choral Music"
         ],
         "xaxis": "x",
         "y": [
          216
         ],
         "yaxis": "y"
        },
        {
         "alignmentgroup": "True",
         "hovertemplate": "title=%{x}<br>#tracks=%{y}<extra></extra>",
         "legendgroup": "Symphony",
         "marker": {
          "color": "#636efa",
          "opacity": 0.9
         },
         "name": "Symphony",
         "offsetgroup": "Symphony",
         "orientation": "v",
         "showlegend": true,
         "textposition": "auto",
         "type": "bar",
         "x": [
          "Symphony"
         ],
         "xaxis": "x",
         "y": [
          25
         ],
         "yaxis": "y"
        },
        {
         "alignmentgroup": "True",
         "hovertemplate": "title=%{x}<br>#tracks=%{y}<extra></extra>",
         "legendgroup": "Minimalism",
         "marker": {
          "color": "#EF553B",
          "opacity": 0.9
         },
         "name": "Minimalism",
         "offsetgroup": "Minimalism",
         "orientation": "v",
         "showlegend": true,
         "textposition": "auto",
         "type": "bar",
         "x": [
          "Minimalism"
         ],
         "xaxis": "x",
         "y": [
          1392
         ],
         "yaxis": "y"
        },
        {
         "alignmentgroup": "True",
         "hovertemplate": "title=%{x}<br>#tracks=%{y}<extra></extra>",
         "legendgroup": "Musical Theater",
         "marker": {
          "color": "#00cc96",
          "opacity": 0.9
         },
         "name": "Musical Theater",
         "offsetgroup": "Musical Theater",
         "orientation": "v",
         "showlegend": true,
         "textposition": "auto",
         "type": "bar",
         "x": [
          "Musical Theater"
         ],
         "xaxis": "x",
         "y": [
          18
         ],
         "yaxis": "y"
        },
        {
         "alignmentgroup": "True",
         "hovertemplate": "title=%{x}<br>#tracks=%{y}<extra></extra>",
         "legendgroup": "Dubstep",
         "marker": {
          "color": "#ab63fa",
          "opacity": 0.9
         },
         "name": "Dubstep",
         "offsetgroup": "Dubstep",
         "orientation": "v",
         "showlegend": true,
         "textposition": "auto",
         "type": "bar",
         "x": [
          "Dubstep"
         ],
         "xaxis": "x",
         "y": [
          1144
         ],
         "yaxis": "y"
        },
        {
         "alignmentgroup": "True",
         "hovertemplate": "title=%{x}<br>#tracks=%{y}<extra></extra>",
         "legendgroup": "Skweee",
         "marker": {
          "color": "#FFA15A",
          "opacity": 0.9
         },
         "name": "Skweee",
         "offsetgroup": "Skweee",
         "orientation": "v",
         "showlegend": true,
         "textposition": "auto",
         "type": "bar",
         "x": [
          "Skweee"
         ],
         "xaxis": "x",
         "y": [
          78
         ],
         "yaxis": "y"
        },
        {
         "alignmentgroup": "True",
         "hovertemplate": "title=%{x}<br>#tracks=%{y}<extra></extra>",
         "legendgroup": "Western Swing",
         "marker": {
          "color": "#19d3f3",
          "opacity": 0.9
         },
         "name": "Western Swing",
         "offsetgroup": "Western Swing",
         "orientation": "v",
         "showlegend": true,
         "textposition": "auto",
         "type": "bar",
         "x": [
          "Western Swing"
         ],
         "xaxis": "x",
         "y": [
          4
         ],
         "yaxis": "y"
        },
        {
         "alignmentgroup": "True",
         "hovertemplate": "title=%{x}<br>#tracks=%{y}<extra></extra>",
         "legendgroup": "Downtempo",
         "marker": {
          "color": "#FF6692",
          "opacity": 0.9
         },
         "name": "Downtempo",
         "offsetgroup": "Downtempo",
         "orientation": "v",
         "showlegend": true,
         "textposition": "auto",
         "type": "bar",
         "x": [
          "Downtempo"
         ],
         "xaxis": "x",
         "y": [
          2061
         ],
         "yaxis": "y"
        },
        {
         "alignmentgroup": "True",
         "hovertemplate": "title=%{x}<br>#tracks=%{y}<extra></extra>",
         "legendgroup": "Cumbia",
         "marker": {
          "color": "#B6E880",
          "opacity": 0.9
         },
         "name": "Cumbia",
         "offsetgroup": "Cumbia",
         "orientation": "v",
         "showlegend": true,
         "textposition": "auto",
         "type": "bar",
         "x": [
          "Cumbia"
         ],
         "xaxis": "x",
         "y": [
          67
         ],
         "yaxis": "y"
        },
        {
         "alignmentgroup": "True",
         "hovertemplate": "title=%{x}<br>#tracks=%{y}<extra></extra>",
         "legendgroup": "Latin",
         "marker": {
          "color": "#FF97FF",
          "opacity": 0.9
         },
         "name": "Latin",
         "offsetgroup": "Latin",
         "orientation": "v",
         "showlegend": true,
         "textposition": "auto",
         "type": "bar",
         "x": [
          "Latin"
         ],
         "xaxis": "x",
         "y": [
          114
         ],
         "yaxis": "y"
        },
        {
         "alignmentgroup": "True",
         "hovertemplate": "title=%{x}<br>#tracks=%{y}<extra></extra>",
         "legendgroup": "Sound Art",
         "marker": {
          "color": "#FECB52",
          "opacity": 0.9
         },
         "name": "Sound Art",
         "offsetgroup": "Sound Art",
         "orientation": "v",
         "showlegend": true,
         "textposition": "auto",
         "type": "bar",
         "x": [
          "Sound Art"
         ],
         "xaxis": "x",
         "y": [
          1414
         ],
         "yaxis": "y"
        },
        {
         "alignmentgroup": "True",
         "hovertemplate": "title=%{x}<br>#tracks=%{y}<extra></extra>",
         "legendgroup": "Romany (Gypsy)",
         "marker": {
          "color": "#636efa",
          "opacity": 0.9
         },
         "name": "Romany (Gypsy)",
         "offsetgroup": "Romany (Gypsy)",
         "orientation": "v",
         "showlegend": true,
         "textposition": "auto",
         "type": "bar",
         "x": [
          "Romany (Gypsy)"
         ],
         "xaxis": "x",
         "y": [
          112
         ],
         "yaxis": "y"
        },
        {
         "alignmentgroup": "True",
         "hovertemplate": "title=%{x}<br>#tracks=%{y}<extra></extra>",
         "legendgroup": "Compilation",
         "marker": {
          "color": "#EF553B",
          "opacity": 0.9
         },
         "name": "Compilation",
         "offsetgroup": "Compilation",
         "orientation": "v",
         "showlegend": true,
         "textposition": "auto",
         "type": "bar",
         "x": [
          "Compilation"
         ],
         "xaxis": "x",
         "y": [
          338
         ],
         "yaxis": "y"
        },
        {
         "alignmentgroup": "True",
         "hovertemplate": "title=%{x}<br>#tracks=%{y}<extra></extra>",
         "legendgroup": "Rap",
         "marker": {
          "color": "#00cc96",
          "opacity": 0.9
         },
         "name": "Rap",
         "offsetgroup": "Rap",
         "orientation": "v",
         "showlegend": true,
         "textposition": "auto",
         "type": "bar",
         "x": [
          "Rap"
         ],
         "xaxis": "x",
         "y": [
          638
         ],
         "yaxis": "y"
        },
        {
         "alignmentgroup": "True",
         "hovertemplate": "title=%{x}<br>#tracks=%{y}<extra></extra>",
         "legendgroup": "Breakbeat",
         "marker": {
          "color": "#ab63fa",
          "opacity": 0.9
         },
         "name": "Breakbeat",
         "offsetgroup": "Breakbeat",
         "orientation": "v",
         "showlegend": true,
         "textposition": "auto",
         "type": "bar",
         "x": [
          "Breakbeat"
         ],
         "xaxis": "x",
         "y": [
          735
         ],
         "yaxis": "y"
        },
        {
         "alignmentgroup": "True",
         "hovertemplate": "title=%{x}<br>#tracks=%{y}<extra></extra>",
         "legendgroup": "Gospel",
         "marker": {
          "color": "#FFA15A",
          "opacity": 0.9
         },
         "name": "Gospel",
         "offsetgroup": "Gospel",
         "orientation": "v",
         "showlegend": true,
         "textposition": "auto",
         "type": "bar",
         "x": [
          "Gospel"
         ],
         "xaxis": "x",
         "y": [
          66
         ],
         "yaxis": "y"
        },
        {
         "alignmentgroup": "True",
         "hovertemplate": "title=%{x}<br>#tracks=%{y}<extra></extra>",
         "legendgroup": "Abstract Hip-Hop",
         "marker": {
          "color": "#19d3f3",
          "opacity": 0.9
         },
         "name": "Abstract Hip-Hop",
         "offsetgroup": "Abstract Hip-Hop",
         "orientation": "v",
         "showlegend": true,
         "textposition": "auto",
         "type": "bar",
         "x": [
          "Abstract Hip-Hop"
         ],
         "xaxis": "x",
         "y": [
          202
         ],
         "yaxis": "y"
        },
        {
         "alignmentgroup": "True",
         "hovertemplate": "title=%{x}<br>#tracks=%{y}<extra></extra>",
         "legendgroup": "Reggae - Dancehall",
         "marker": {
          "color": "#FF6692",
          "opacity": 0.9
         },
         "name": "Reggae - Dancehall",
         "offsetgroup": "Reggae - Dancehall",
         "orientation": "v",
         "showlegend": true,
         "textposition": "auto",
         "type": "bar",
         "x": [
          "Reggae - Dancehall"
         ],
         "xaxis": "x",
         "y": [
          94
         ],
         "yaxis": "y"
        },
        {
         "alignmentgroup": "True",
         "hovertemplate": "title=%{x}<br>#tracks=%{y}<extra></extra>",
         "legendgroup": "Spanish",
         "marker": {
          "color": "#B6E880",
          "opacity": 0.9
         },
         "name": "Spanish",
         "offsetgroup": "Spanish",
         "orientation": "v",
         "showlegend": true,
         "textposition": "auto",
         "type": "bar",
         "x": [
          "Spanish"
         ],
         "xaxis": "x",
         "y": [
          115
         ],
         "yaxis": "y"
        },
        {
         "alignmentgroup": "True",
         "hovertemplate": "title=%{x}<br>#tracks=%{y}<extra></extra>",
         "legendgroup": "Country & Western",
         "marker": {
          "color": "#FF97FF",
          "opacity": 0.9
         },
         "name": "Country & Western",
         "offsetgroup": "Country & Western",
         "orientation": "v",
         "showlegend": true,
         "textposition": "auto",
         "type": "bar",
         "x": [
          "Country & Western"
         ],
         "xaxis": "x",
         "y": [
          79
         ],
         "yaxis": "y"
        },
        {
         "alignmentgroup": "True",
         "hovertemplate": "title=%{x}<br>#tracks=%{y}<extra></extra>",
         "legendgroup": "Contemporary Classical",
         "marker": {
          "color": "#FECB52",
          "opacity": 0.9
         },
         "name": "Contemporary Classical",
         "offsetgroup": "Contemporary Classical",
         "orientation": "v",
         "showlegend": true,
         "textposition": "auto",
         "type": "bar",
         "x": [
          "Contemporary Classical"
         ],
         "xaxis": "x",
         "y": [
          1239
         ],
         "yaxis": "y"
        },
        {
         "alignmentgroup": "True",
         "hovertemplate": "title=%{x}<br>#tracks=%{y}<extra></extra>",
         "legendgroup": "Wonky",
         "marker": {
          "color": "#636efa",
          "opacity": 0.9
         },
         "name": "Wonky",
         "offsetgroup": "Wonky",
         "orientation": "v",
         "showlegend": true,
         "textposition": "auto",
         "type": "bar",
         "x": [
          "Wonky"
         ],
         "xaxis": "x",
         "y": [
          56
         ],
         "yaxis": "y"
        },
        {
         "alignmentgroup": "True",
         "hovertemplate": "title=%{x}<br>#tracks=%{y}<extra></extra>",
         "legendgroup": "Jungle",
         "marker": {
          "color": "#EF553B",
          "opacity": 0.9
         },
         "name": "Jungle",
         "offsetgroup": "Jungle",
         "orientation": "v",
         "showlegend": true,
         "textposition": "auto",
         "type": "bar",
         "x": [
          "Jungle"
         ],
         "xaxis": "x",
         "y": [
          258
         ],
         "yaxis": "y"
        },
        {
         "alignmentgroup": "True",
         "hovertemplate": "title=%{x}<br>#tracks=%{y}<extra></extra>",
         "legendgroup": "Klezmer",
         "marker": {
          "color": "#00cc96",
          "opacity": 0.9
         },
         "name": "Klezmer",
         "offsetgroup": "Klezmer",
         "orientation": "v",
         "showlegend": true,
         "textposition": "auto",
         "type": "bar",
         "x": [
          "Klezmer"
         ],
         "xaxis": "x",
         "y": [
          57
         ],
         "yaxis": "y"
        },
        {
         "alignmentgroup": "True",
         "hovertemplate": "title=%{x}<br>#tracks=%{y}<extra></extra>",
         "legendgroup": "Holiday",
         "marker": {
          "color": "#ab63fa",
          "opacity": 0.9
         },
         "name": "Holiday",
         "offsetgroup": "Holiday",
         "orientation": "v",
         "showlegend": true,
         "textposition": "auto",
         "type": "bar",
         "x": [
          "Holiday"
         ],
         "xaxis": "x",
         "y": [
          268
         ],
         "yaxis": "y"
        },
        {
         "alignmentgroup": "True",
         "hovertemplate": "title=%{x}<br>#tracks=%{y}<extra></extra>",
         "legendgroup": "Salsa",
         "marker": {
          "color": "#FFA15A",
          "opacity": 0.9
         },
         "name": "Salsa",
         "offsetgroup": "Salsa",
         "orientation": "v",
         "showlegend": true,
         "textposition": "auto",
         "type": "bar",
         "x": [
          "Salsa"
         ],
         "xaxis": "x",
         "y": [
          12
         ],
         "yaxis": "y"
        },
        {
         "alignmentgroup": "True",
         "hovertemplate": "title=%{x}<br>#tracks=%{y}<extra></extra>",
         "legendgroup": "Nu-Jazz",
         "marker": {
          "color": "#19d3f3",
          "opacity": 0.9
         },
         "name": "Nu-Jazz",
         "offsetgroup": "Nu-Jazz",
         "orientation": "v",
         "showlegend": true,
         "textposition": "auto",
         "type": "bar",
         "x": [
          "Nu-Jazz"
         ],
         "xaxis": "x",
         "y": [
          120
         ],
         "yaxis": "y"
        },
        {
         "alignmentgroup": "True",
         "hovertemplate": "title=%{x}<br>#tracks=%{y}<extra></extra>",
         "legendgroup": "Hip-Hop Beats",
         "marker": {
          "color": "#FF6692",
          "opacity": 0.9
         },
         "name": "Hip-Hop Beats",
         "offsetgroup": "Hip-Hop Beats",
         "orientation": "v",
         "showlegend": true,
         "textposition": "auto",
         "type": "bar",
         "x": [
          "Hip-Hop Beats"
         ],
         "xaxis": "x",
         "y": [
          1192
         ],
         "yaxis": "y"
        },
        {
         "alignmentgroup": "True",
         "hovertemplate": "title=%{x}<br>#tracks=%{y}<extra></extra>",
         "legendgroup": "Modern Jazz",
         "marker": {
          "color": "#B6E880",
          "opacity": 0.9
         },
         "name": "Modern Jazz",
         "offsetgroup": "Modern Jazz",
         "orientation": "v",
         "showlegend": true,
         "textposition": "auto",
         "type": "bar",
         "x": [
          "Modern Jazz"
         ],
         "xaxis": "x",
         "y": [
          107
         ],
         "yaxis": "y"
        },
        {
         "alignmentgroup": "True",
         "hovertemplate": "title=%{x}<br>#tracks=%{y}<extra></extra>",
         "legendgroup": "Turkish",
         "marker": {
          "color": "#FF97FF",
          "opacity": 0.9
         },
         "name": "Turkish",
         "offsetgroup": "Turkish",
         "orientation": "v",
         "showlegend": true,
         "textposition": "auto",
         "type": "bar",
         "x": [
          "Turkish"
         ],
         "xaxis": "x",
         "y": [
          60
         ],
         "yaxis": "y"
        },
        {
         "alignmentgroup": "True",
         "hovertemplate": "title=%{x}<br>#tracks=%{y}<extra></extra>",
         "legendgroup": "Tango",
         "marker": {
          "color": "#FECB52",
          "opacity": 0.9
         },
         "name": "Tango",
         "offsetgroup": "Tango",
         "orientation": "v",
         "showlegend": true,
         "textposition": "auto",
         "type": "bar",
         "x": [
          "Tango"
         ],
         "xaxis": "x",
         "y": [
          30
         ],
         "yaxis": "y"
        },
        {
         "alignmentgroup": "True",
         "hovertemplate": "title=%{x}<br>#tracks=%{y}<extra></extra>",
         "legendgroup": "Fado",
         "marker": {
          "color": "#636efa",
          "opacity": 0.9
         },
         "name": "Fado",
         "offsetgroup": "Fado",
         "orientation": "v",
         "showlegend": true,
         "textposition": "auto",
         "type": "bar",
         "x": [
          "Fado"
         ],
         "xaxis": "x",
         "y": [
          26
         ],
         "yaxis": "y"
        },
        {
         "alignmentgroup": "True",
         "hovertemplate": "title=%{x}<br>#tracks=%{y}<extra></extra>",
         "legendgroup": "Christmas",
         "marker": {
          "color": "#EF553B",
          "opacity": 0.9
         },
         "name": "Christmas",
         "offsetgroup": "Christmas",
         "orientation": "v",
         "showlegend": true,
         "textposition": "auto",
         "type": "bar",
         "x": [
          "Christmas"
         ],
         "xaxis": "x",
         "y": [
          72
         ],
         "yaxis": "y"
        },
        {
         "alignmentgroup": "True",
         "hovertemplate": "title=%{x}<br>#tracks=%{y}<extra></extra>",
         "legendgroup": "Instrumental",
         "marker": {
          "color": "#00cc96",
          "opacity": 0.9
         },
         "name": "Instrumental",
         "offsetgroup": "Instrumental",
         "orientation": "v",
         "showlegend": true,
         "textposition": "auto",
         "type": "bar",
         "x": [
          "Instrumental"
         ],
         "xaxis": "x",
         "y": [
          14938
         ],
         "yaxis": "y"
        }
       ],
       "layout": {
        "barmode": "relative",
        "legend": {
         "title": {
          "text": "title"
         },
         "tracegroupgap": 0
        },
        "template": {
         "data": {
          "bar": [
           {
            "error_x": {
             "color": "#2a3f5f"
            },
            "error_y": {
             "color": "#2a3f5f"
            },
            "marker": {
             "line": {
              "color": "#E5ECF6",
              "width": 0.5
             }
            },
            "type": "bar"
           }
          ],
          "barpolar": [
           {
            "marker": {
             "line": {
              "color": "#E5ECF6",
              "width": 0.5
             }
            },
            "type": "barpolar"
           }
          ],
          "carpet": [
           {
            "aaxis": {
             "endlinecolor": "#2a3f5f",
             "gridcolor": "white",
             "linecolor": "white",
             "minorgridcolor": "white",
             "startlinecolor": "#2a3f5f"
            },
            "baxis": {
             "endlinecolor": "#2a3f5f",
             "gridcolor": "white",
             "linecolor": "white",
             "minorgridcolor": "white",
             "startlinecolor": "#2a3f5f"
            },
            "type": "carpet"
           }
          ],
          "choropleth": [
           {
            "colorbar": {
             "outlinewidth": 0,
             "ticks": ""
            },
            "type": "choropleth"
           }
          ],
          "contour": [
           {
            "colorbar": {
             "outlinewidth": 0,
             "ticks": ""
            },
            "colorscale": [
             [
              0.0,
              "#0d0887"
             ],
             [
              0.1111111111111111,
              "#46039f"
             ],
             [
              0.2222222222222222,
              "#7201a8"
             ],
             [
              0.3333333333333333,
              "#9c179e"
             ],
             [
              0.4444444444444444,
              "#bd3786"
             ],
             [
              0.5555555555555556,
              "#d8576b"
             ],
             [
              0.6666666666666666,
              "#ed7953"
             ],
             [
              0.7777777777777778,
              "#fb9f3a"
             ],
             [
              0.8888888888888888,
              "#fdca26"
             ],
             [
              1.0,
              "#f0f921"
             ]
            ],
            "type": "contour"
           }
          ],
          "contourcarpet": [
           {
            "colorbar": {
             "outlinewidth": 0,
             "ticks": ""
            },
            "type": "contourcarpet"
           }
          ],
          "heatmap": [
           {
            "colorbar": {
             "outlinewidth": 0,
             "ticks": ""
            },
            "colorscale": [
             [
              0.0,
              "#0d0887"
             ],
             [
              0.1111111111111111,
              "#46039f"
             ],
             [
              0.2222222222222222,
              "#7201a8"
             ],
             [
              0.3333333333333333,
              "#9c179e"
             ],
             [
              0.4444444444444444,
              "#bd3786"
             ],
             [
              0.5555555555555556,
              "#d8576b"
             ],
             [
              0.6666666666666666,
              "#ed7953"
             ],
             [
              0.7777777777777778,
              "#fb9f3a"
             ],
             [
              0.8888888888888888,
              "#fdca26"
             ],
             [
              1.0,
              "#f0f921"
             ]
            ],
            "type": "heatmap"
           }
          ],
          "heatmapgl": [
           {
            "colorbar": {
             "outlinewidth": 0,
             "ticks": ""
            },
            "colorscale": [
             [
              0.0,
              "#0d0887"
             ],
             [
              0.1111111111111111,
              "#46039f"
             ],
             [
              0.2222222222222222,
              "#7201a8"
             ],
             [
              0.3333333333333333,
              "#9c179e"
             ],
             [
              0.4444444444444444,
              "#bd3786"
             ],
             [
              0.5555555555555556,
              "#d8576b"
             ],
             [
              0.6666666666666666,
              "#ed7953"
             ],
             [
              0.7777777777777778,
              "#fb9f3a"
             ],
             [
              0.8888888888888888,
              "#fdca26"
             ],
             [
              1.0,
              "#f0f921"
             ]
            ],
            "type": "heatmapgl"
           }
          ],
          "histogram": [
           {
            "marker": {
             "colorbar": {
              "outlinewidth": 0,
              "ticks": ""
             }
            },
            "type": "histogram"
           }
          ],
          "histogram2d": [
           {
            "colorbar": {
             "outlinewidth": 0,
             "ticks": ""
            },
            "colorscale": [
             [
              0.0,
              "#0d0887"
             ],
             [
              0.1111111111111111,
              "#46039f"
             ],
             [
              0.2222222222222222,
              "#7201a8"
             ],
             [
              0.3333333333333333,
              "#9c179e"
             ],
             [
              0.4444444444444444,
              "#bd3786"
             ],
             [
              0.5555555555555556,
              "#d8576b"
             ],
             [
              0.6666666666666666,
              "#ed7953"
             ],
             [
              0.7777777777777778,
              "#fb9f3a"
             ],
             [
              0.8888888888888888,
              "#fdca26"
             ],
             [
              1.0,
              "#f0f921"
             ]
            ],
            "type": "histogram2d"
           }
          ],
          "histogram2dcontour": [
           {
            "colorbar": {
             "outlinewidth": 0,
             "ticks": ""
            },
            "colorscale": [
             [
              0.0,
              "#0d0887"
             ],
             [
              0.1111111111111111,
              "#46039f"
             ],
             [
              0.2222222222222222,
              "#7201a8"
             ],
             [
              0.3333333333333333,
              "#9c179e"
             ],
             [
              0.4444444444444444,
              "#bd3786"
             ],
             [
              0.5555555555555556,
              "#d8576b"
             ],
             [
              0.6666666666666666,
              "#ed7953"
             ],
             [
              0.7777777777777778,
              "#fb9f3a"
             ],
             [
              0.8888888888888888,
              "#fdca26"
             ],
             [
              1.0,
              "#f0f921"
             ]
            ],
            "type": "histogram2dcontour"
           }
          ],
          "mesh3d": [
           {
            "colorbar": {
             "outlinewidth": 0,
             "ticks": ""
            },
            "type": "mesh3d"
           }
          ],
          "parcoords": [
           {
            "line": {
             "colorbar": {
              "outlinewidth": 0,
              "ticks": ""
             }
            },
            "type": "parcoords"
           }
          ],
          "pie": [
           {
            "automargin": true,
            "type": "pie"
           }
          ],
          "scatter": [
           {
            "marker": {
             "colorbar": {
              "outlinewidth": 0,
              "ticks": ""
             }
            },
            "type": "scatter"
           }
          ],
          "scatter3d": [
           {
            "line": {
             "colorbar": {
              "outlinewidth": 0,
              "ticks": ""
             }
            },
            "marker": {
             "colorbar": {
              "outlinewidth": 0,
              "ticks": ""
             }
            },
            "type": "scatter3d"
           }
          ],
          "scattercarpet": [
           {
            "marker": {
             "colorbar": {
              "outlinewidth": 0,
              "ticks": ""
             }
            },
            "type": "scattercarpet"
           }
          ],
          "scattergeo": [
           {
            "marker": {
             "colorbar": {
              "outlinewidth": 0,
              "ticks": ""
             }
            },
            "type": "scattergeo"
           }
          ],
          "scattergl": [
           {
            "marker": {
             "colorbar": {
              "outlinewidth": 0,
              "ticks": ""
             }
            },
            "type": "scattergl"
           }
          ],
          "scattermapbox": [
           {
            "marker": {
             "colorbar": {
              "outlinewidth": 0,
              "ticks": ""
             }
            },
            "type": "scattermapbox"
           }
          ],
          "scatterpolar": [
           {
            "marker": {
             "colorbar": {
              "outlinewidth": 0,
              "ticks": ""
             }
            },
            "type": "scatterpolar"
           }
          ],
          "scatterpolargl": [
           {
            "marker": {
             "colorbar": {
              "outlinewidth": 0,
              "ticks": ""
             }
            },
            "type": "scatterpolargl"
           }
          ],
          "scatterternary": [
           {
            "marker": {
             "colorbar": {
              "outlinewidth": 0,
              "ticks": ""
             }
            },
            "type": "scatterternary"
           }
          ],
          "surface": [
           {
            "colorbar": {
             "outlinewidth": 0,
             "ticks": ""
            },
            "colorscale": [
             [
              0.0,
              "#0d0887"
             ],
             [
              0.1111111111111111,
              "#46039f"
             ],
             [
              0.2222222222222222,
              "#7201a8"
             ],
             [
              0.3333333333333333,
              "#9c179e"
             ],
             [
              0.4444444444444444,
              "#bd3786"
             ],
             [
              0.5555555555555556,
              "#d8576b"
             ],
             [
              0.6666666666666666,
              "#ed7953"
             ],
             [
              0.7777777777777778,
              "#fb9f3a"
             ],
             [
              0.8888888888888888,
              "#fdca26"
             ],
             [
              1.0,
              "#f0f921"
             ]
            ],
            "type": "surface"
           }
          ],
          "table": [
           {
            "cells": {
             "fill": {
              "color": "#EBF0F8"
             },
             "line": {
              "color": "white"
             }
            },
            "header": {
             "fill": {
              "color": "#C8D4E3"
             },
             "line": {
              "color": "white"
             }
            },
            "type": "table"
           }
          ]
         },
         "layout": {
          "annotationdefaults": {
           "arrowcolor": "#2a3f5f",
           "arrowhead": 0,
           "arrowwidth": 1
          },
          "autotypenumbers": "strict",
          "coloraxis": {
           "colorbar": {
            "outlinewidth": 0,
            "ticks": ""
           }
          },
          "colorscale": {
           "diverging": [
            [
             0,
             "#8e0152"
            ],
            [
             0.1,
             "#c51b7d"
            ],
            [
             0.2,
             "#de77ae"
            ],
            [
             0.3,
             "#f1b6da"
            ],
            [
             0.4,
             "#fde0ef"
            ],
            [
             0.5,
             "#f7f7f7"
            ],
            [
             0.6,
             "#e6f5d0"
            ],
            [
             0.7,
             "#b8e186"
            ],
            [
             0.8,
             "#7fbc41"
            ],
            [
             0.9,
             "#4d9221"
            ],
            [
             1,
             "#276419"
            ]
           ],
           "sequential": [
            [
             0.0,
             "#0d0887"
            ],
            [
             0.1111111111111111,
             "#46039f"
            ],
            [
             0.2222222222222222,
             "#7201a8"
            ],
            [
             0.3333333333333333,
             "#9c179e"
            ],
            [
             0.4444444444444444,
             "#bd3786"
            ],
            [
             0.5555555555555556,
             "#d8576b"
            ],
            [
             0.6666666666666666,
             "#ed7953"
            ],
            [
             0.7777777777777778,
             "#fb9f3a"
            ],
            [
             0.8888888888888888,
             "#fdca26"
            ],
            [
             1.0,
             "#f0f921"
            ]
           ],
           "sequentialminus": [
            [
             0.0,
             "#0d0887"
            ],
            [
             0.1111111111111111,
             "#46039f"
            ],
            [
             0.2222222222222222,
             "#7201a8"
            ],
            [
             0.3333333333333333,
             "#9c179e"
            ],
            [
             0.4444444444444444,
             "#bd3786"
            ],
            [
             0.5555555555555556,
             "#d8576b"
            ],
            [
             0.6666666666666666,
             "#ed7953"
            ],
            [
             0.7777777777777778,
             "#fb9f3a"
            ],
            [
             0.8888888888888888,
             "#fdca26"
            ],
            [
             1.0,
             "#f0f921"
            ]
           ]
          },
          "colorway": [
           "#636efa",
           "#EF553B",
           "#00cc96",
           "#ab63fa",
           "#FFA15A",
           "#19d3f3",
           "#FF6692",
           "#B6E880",
           "#FF97FF",
           "#FECB52"
          ],
          "font": {
           "color": "#2a3f5f"
          },
          "geo": {
           "bgcolor": "white",
           "lakecolor": "white",
           "landcolor": "#E5ECF6",
           "showlakes": true,
           "showland": true,
           "subunitcolor": "white"
          },
          "hoverlabel": {
           "align": "left"
          },
          "hovermode": "closest",
          "mapbox": {
           "style": "light"
          },
          "paper_bgcolor": "white",
          "plot_bgcolor": "#E5ECF6",
          "polar": {
           "angularaxis": {
            "gridcolor": "white",
            "linecolor": "white",
            "ticks": ""
           },
           "bgcolor": "#E5ECF6",
           "radialaxis": {
            "gridcolor": "white",
            "linecolor": "white",
            "ticks": ""
           }
          },
          "scene": {
           "xaxis": {
            "backgroundcolor": "#E5ECF6",
            "gridcolor": "white",
            "gridwidth": 2,
            "linecolor": "white",
            "showbackground": true,
            "ticks": "",
            "zerolinecolor": "white"
           },
           "yaxis": {
            "backgroundcolor": "#E5ECF6",
            "gridcolor": "white",
            "gridwidth": 2,
            "linecolor": "white",
            "showbackground": true,
            "ticks": "",
            "zerolinecolor": "white"
           },
           "zaxis": {
            "backgroundcolor": "#E5ECF6",
            "gridcolor": "white",
            "gridwidth": 2,
            "linecolor": "white",
            "showbackground": true,
            "ticks": "",
            "zerolinecolor": "white"
           }
          },
          "shapedefaults": {
           "line": {
            "color": "#2a3f5f"
           }
          },
          "ternary": {
           "aaxis": {
            "gridcolor": "white",
            "linecolor": "white",
            "ticks": ""
           },
           "baxis": {
            "gridcolor": "white",
            "linecolor": "white",
            "ticks": ""
           },
           "bgcolor": "#E5ECF6",
           "caxis": {
            "gridcolor": "white",
            "linecolor": "white",
            "ticks": ""
           }
          },
          "title": {
           "x": 0.05
          },
          "xaxis": {
           "automargin": true,
           "gridcolor": "white",
           "linecolor": "white",
           "ticks": "",
           "title": {
            "standoff": 15
           },
           "zerolinecolor": "white",
           "zerolinewidth": 2
          },
          "yaxis": {
           "automargin": true,
           "gridcolor": "white",
           "linecolor": "white",
           "ticks": "",
           "title": {
            "standoff": 15
           },
           "zerolinecolor": "white",
           "zerolinewidth": 2
          }
         }
        },
        "title": {
         "text": "#Tracks per Genre"
        },
        "xaxis": {
         "anchor": "y",
         "categoryarray": [
          "Avant-Garde",
          "International",
          "Blues",
          "Jazz",
          "Classical",
          "Novelty",
          "Comedy",
          "Old-Time / Historic",
          "Country",
          "Pop",
          "Disco",
          "Rock",
          "Easy Listening",
          "Soul-RnB",
          "Electronic",
          "Sound Effects",
          "Folk",
          "Soundtrack",
          "Funk",
          "Spoken",
          "Hip-Hop",
          "Audio Collage",
          "Punk",
          "Post-Rock",
          "Lo-Fi",
          "Field Recordings",
          "Metal",
          "Noise",
          "Psych-Folk",
          "Krautrock",
          "Jazz: Vocal",
          "Experimental",
          "Electroacoustic",
          "Ambient Electronic",
          "Radio Art",
          "Loud-Rock",
          "Latin America",
          "Drone",
          "Free-Folk",
          "Noise-Rock",
          "Psych-Rock",
          "Bluegrass",
          "Electro-Punk",
          "Radio",
          "Indie-Rock",
          "Industrial",
          "No Wave",
          "Free-Jazz",
          "Experimental Pop",
          "French",
          "Reggae - Dub",
          "Afrobeat",
          "Nerdcore",
          "Garage",
          "Indian",
          "New Wave",
          "Post-Punk",
          "Sludge",
          "African",
          "Freak-Folk",
          "Jazz: Out",
          "Progressive",
          "Alternative Hip-Hop",
          "Death-Metal",
          "Middle East",
          "Singer-Songwriter",
          "Ambient",
          "Hardcore",
          "Power-Pop",
          "Space-Rock",
          "Polka",
          "Balkan",
          "Unclassifiable",
          "Europe",
          "Americana",
          "Spoken Weird",
          "Interview",
          "Black-Metal",
          "Rockabilly",
          "Easy Listening: Vocal",
          "Brazilian",
          "Asia-Far East",
          "N. Indian Traditional",
          "South Indian Traditional",
          "Bollywood",
          "Pacific",
          "Celtic",
          "Be-Bop",
          "Big Band/Swing",
          "British Folk",
          "Techno",
          "House",
          "Glitch",
          "Minimal Electronic",
          "Breakcore - Hard",
          "Sound Poetry",
          "20th Century Classical",
          "Poetry",
          "Talk Radio",
          "North African",
          "Sound Collage",
          "Flamenco",
          "IDM",
          "Chiptune",
          "Musique Concrete",
          "Improv",
          "New Age",
          "Trip-Hop",
          "Dance",
          "Chip Music",
          "Lounge",
          "Goth",
          "Composed Music",
          "Drum & Bass",
          "Shoegaze",
          "Kid-Friendly",
          "Thrash",
          "Synth Pop",
          "Banter",
          "Deep Funk",
          "Spoken Word",
          "Chill-out",
          "Bigbeat",
          "Surf",
          "Radio Theater",
          "Grindcore",
          "Rock Opera",
          "Opera",
          "Chamber Music",
          "Choral Music",
          "Symphony",
          "Minimalism",
          "Musical Theater",
          "Dubstep",
          "Skweee",
          "Western Swing",
          "Downtempo",
          "Cumbia",
          "Latin",
          "Sound Art",
          "Romany (Gypsy)",
          "Compilation",
          "Rap",
          "Breakbeat",
          "Gospel",
          "Abstract Hip-Hop",
          "Reggae - Dancehall",
          "Spanish",
          "Country & Western",
          "Contemporary Classical",
          "Wonky",
          "Jungle",
          "Klezmer",
          "Holiday",
          "Salsa",
          "Nu-Jazz",
          "Hip-Hop Beats",
          "Modern Jazz",
          "Turkish",
          "Tango",
          "Fado",
          "Christmas",
          "Instrumental"
         ],
         "categoryorder": "array",
         "domain": [
          0.0,
          1.0
         ],
         "title": {
          "text": "title"
         }
        },
        "yaxis": {
         "anchor": "x",
         "domain": [
          0.0,
          1.0
         ],
         "title": {
          "text": "#tracks"
         }
        }
       }
      },
      "text/html": "<div>                            <div id=\"b75877ed-dbbd-4f94-b0e1-3c342bb303c0\" class=\"plotly-graph-div\" style=\"height:525px; width:100%;\"></div>            <script type=\"text/javascript\">                require([\"plotly\"], function(Plotly) {                    window.PLOTLYENV=window.PLOTLYENV || {};                                    if (document.getElementById(\"b75877ed-dbbd-4f94-b0e1-3c342bb303c0\")) {                    Plotly.newPlot(                        \"b75877ed-dbbd-4f94-b0e1-3c342bb303c0\",                        [{\"alignmentgroup\": \"True\", \"hovertemplate\": \"title=%{x}<br>#tracks=%{y}<extra></extra>\", \"legendgroup\": \"Avant-Garde\", \"marker\": {\"color\": \"#636efa\", \"opacity\": 0.9}, \"name\": \"Avant-Garde\", \"offsetgroup\": \"Avant-Garde\", \"orientation\": \"v\", \"showlegend\": true, \"textposition\": \"auto\", \"type\": \"bar\", \"x\": [\"Avant-Garde\"], \"xaxis\": \"x\", \"y\": [8693], \"yaxis\": \"y\"}, {\"alignmentgroup\": \"True\", \"hovertemplate\": \"title=%{x}<br>#tracks=%{y}<extra></extra>\", \"legendgroup\": \"International\", \"marker\": {\"color\": \"#EF553B\", \"opacity\": 0.9}, \"name\": \"International\", \"offsetgroup\": \"International\", \"orientation\": \"v\", \"showlegend\": true, \"textposition\": \"auto\", \"type\": \"bar\", \"x\": [\"International\"], \"xaxis\": \"x\", \"y\": [5271], \"yaxis\": \"y\"}, {\"alignmentgroup\": \"True\", \"hovertemplate\": \"title=%{x}<br>#tracks=%{y}<extra></extra>\", \"legendgroup\": \"Blues\", \"marker\": {\"color\": \"#00cc96\", \"opacity\": 0.9}, \"name\": \"Blues\", \"offsetgroup\": \"Blues\", \"orientation\": \"v\", \"showlegend\": true, \"textposition\": \"auto\", \"type\": \"bar\", \"x\": [\"Blues\"], \"xaxis\": \"x\", \"y\": [1752], \"yaxis\": \"y\"}, {\"alignmentgroup\": \"True\", \"hovertemplate\": \"title=%{x}<br>#tracks=%{y}<extra></extra>\", \"legendgroup\": \"Jazz\", \"marker\": {\"color\": \"#ab63fa\", \"opacity\": 0.9}, \"name\": \"Jazz\", \"offsetgroup\": \"Jazz\", \"orientation\": \"v\", \"showlegend\": true, \"textposition\": \"auto\", \"type\": \"bar\", \"x\": [\"Jazz\"], \"xaxis\": \"x\", \"y\": [4126], \"yaxis\": \"y\"}, {\"alignmentgroup\": \"True\", \"hovertemplate\": \"title=%{x}<br>#tracks=%{y}<extra></extra>\", \"legendgroup\": \"Classical\", \"marker\": {\"color\": \"#FFA15A\", \"opacity\": 0.9}, \"name\": \"Classical\", \"offsetgroup\": \"Classical\", \"orientation\": \"v\", \"showlegend\": true, \"textposition\": \"auto\", \"type\": \"bar\", \"x\": [\"Classical\"], \"xaxis\": \"x\", \"y\": [4106], \"yaxis\": \"y\"}, {\"alignmentgroup\": \"True\", \"hovertemplate\": \"title=%{x}<br>#tracks=%{y}<extra></extra>\", \"legendgroup\": \"Novelty\", \"marker\": {\"color\": \"#19d3f3\", \"opacity\": 0.9}, \"name\": \"Novelty\", \"offsetgroup\": \"Novelty\", \"orientation\": \"v\", \"showlegend\": true, \"textposition\": \"auto\", \"type\": \"bar\", \"x\": [\"Novelty\"], \"xaxis\": \"x\", \"y\": [914], \"yaxis\": \"y\"}, {\"alignmentgroup\": \"True\", \"hovertemplate\": \"title=%{x}<br>#tracks=%{y}<extra></extra>\", \"legendgroup\": \"Comedy\", \"marker\": {\"color\": \"#FF6692\", \"opacity\": 0.9}, \"name\": \"Comedy\", \"offsetgroup\": \"Comedy\", \"orientation\": \"v\", \"showlegend\": true, \"textposition\": \"auto\", \"type\": \"bar\", \"x\": [\"Comedy\"], \"xaxis\": \"x\", \"y\": [217], \"yaxis\": \"y\"}, {\"alignmentgroup\": \"True\", \"hovertemplate\": \"title=%{x}<br>#tracks=%{y}<extra></extra>\", \"legendgroup\": \"Old-Time / Historic\", \"marker\": {\"color\": \"#B6E880\", \"opacity\": 0.9}, \"name\": \"Old-Time / Historic\", \"offsetgroup\": \"Old-Time / Historic\", \"orientation\": \"v\", \"showlegend\": true, \"textposition\": \"auto\", \"type\": \"bar\", \"x\": [\"Old-Time / Historic\"], \"xaxis\": \"x\", \"y\": [868], \"yaxis\": \"y\"}, {\"alignmentgroup\": \"True\", \"hovertemplate\": \"title=%{x}<br>#tracks=%{y}<extra></extra>\", \"legendgroup\": \"Country\", \"marker\": {\"color\": \"#FF97FF\", \"opacity\": 0.9}, \"name\": \"Country\", \"offsetgroup\": \"Country\", \"orientation\": \"v\", \"showlegend\": true, \"textposition\": \"auto\", \"type\": \"bar\", \"x\": [\"Country\"], \"xaxis\": \"x\", \"y\": [1987], \"yaxis\": \"y\"}, {\"alignmentgroup\": \"True\", \"hovertemplate\": \"title=%{x}<br>#tracks=%{y}<extra></extra>\", \"legendgroup\": \"Pop\", \"marker\": {\"color\": \"#FECB52\", \"opacity\": 0.9}, \"name\": \"Pop\", \"offsetgroup\": \"Pop\", \"orientation\": \"v\", \"showlegend\": true, \"textposition\": \"auto\", \"type\": \"bar\", \"x\": [\"Pop\"], \"xaxis\": \"x\", \"y\": [13845], \"yaxis\": \"y\"}, {\"alignmentgroup\": \"True\", \"hovertemplate\": \"title=%{x}<br>#tracks=%{y}<extra></extra>\", \"legendgroup\": \"Disco\", \"marker\": {\"color\": \"#636efa\", \"opacity\": 0.9}, \"name\": \"Disco\", \"offsetgroup\": \"Disco\", \"orientation\": \"v\", \"showlegend\": true, \"textposition\": \"auto\", \"type\": \"bar\", \"x\": [\"Disco\"], \"xaxis\": \"x\", \"y\": [367], \"yaxis\": \"y\"}, {\"alignmentgroup\": \"True\", \"hovertemplate\": \"title=%{x}<br>#tracks=%{y}<extra></extra>\", \"legendgroup\": \"Rock\", \"marker\": {\"color\": \"#EF553B\", \"opacity\": 0.9}, \"name\": \"Rock\", \"offsetgroup\": \"Rock\", \"orientation\": \"v\", \"showlegend\": true, \"textposition\": \"auto\", \"type\": \"bar\", \"x\": [\"Rock\"], \"xaxis\": \"x\", \"y\": [32923], \"yaxis\": \"y\"}, {\"alignmentgroup\": \"True\", \"hovertemplate\": \"title=%{x}<br>#tracks=%{y}<extra></extra>\", \"legendgroup\": \"Easy Listening\", \"marker\": {\"color\": \"#00cc96\", \"opacity\": 0.9}, \"name\": \"Easy Listening\", \"offsetgroup\": \"Easy Listening\", \"orientation\": \"v\", \"showlegend\": true, \"textposition\": \"auto\", \"type\": \"bar\", \"x\": [\"Easy Listening\"], \"xaxis\": \"x\", \"y\": [730], \"yaxis\": \"y\"}, {\"alignmentgroup\": \"True\", \"hovertemplate\": \"title=%{x}<br>#tracks=%{y}<extra></extra>\", \"legendgroup\": \"Soul-RnB\", \"marker\": {\"color\": \"#ab63fa\", \"opacity\": 0.9}, \"name\": \"Soul-RnB\", \"offsetgroup\": \"Soul-RnB\", \"orientation\": \"v\", \"showlegend\": true, \"textposition\": \"auto\", \"type\": \"bar\", \"x\": [\"Soul-RnB\"], \"xaxis\": \"x\", \"y\": [1499], \"yaxis\": \"y\"}, {\"alignmentgroup\": \"True\", \"hovertemplate\": \"title=%{x}<br>#tracks=%{y}<extra></extra>\", \"legendgroup\": \"Electronic\", \"marker\": {\"color\": \"#FFA15A\", \"opacity\": 0.9}, \"name\": \"Electronic\", \"offsetgroup\": \"Electronic\", \"orientation\": \"v\", \"showlegend\": true, \"textposition\": \"auto\", \"type\": \"bar\", \"x\": [\"Electronic\"], \"xaxis\": \"x\", \"y\": [34413], \"yaxis\": \"y\"}, {\"alignmentgroup\": \"True\", \"hovertemplate\": \"title=%{x}<br>#tracks=%{y}<extra></extra>\", \"legendgroup\": \"Sound Effects\", \"marker\": {\"color\": \"#19d3f3\", \"opacity\": 0.9}, \"name\": \"Sound Effects\", \"offsetgroup\": \"Sound Effects\", \"orientation\": \"v\", \"showlegend\": true, \"textposition\": \"auto\", \"type\": \"bar\", \"x\": [\"Sound Effects\"], \"xaxis\": \"x\", \"y\": [304], \"yaxis\": \"y\"}, {\"alignmentgroup\": \"True\", \"hovertemplate\": \"title=%{x}<br>#tracks=%{y}<extra></extra>\", \"legendgroup\": \"Folk\", \"marker\": {\"color\": \"#FF6692\", \"opacity\": 0.9}, \"name\": \"Folk\", \"offsetgroup\": \"Folk\", \"orientation\": \"v\", \"showlegend\": true, \"textposition\": \"auto\", \"type\": \"bar\", \"x\": [\"Folk\"], \"xaxis\": \"x\", \"y\": [12706], \"yaxis\": \"y\"}, {\"alignmentgroup\": \"True\", \"hovertemplate\": \"title=%{x}<br>#tracks=%{y}<extra></extra>\", \"legendgroup\": \"Soundtrack\", \"marker\": {\"color\": \"#B6E880\", \"opacity\": 0.9}, \"name\": \"Soundtrack\", \"offsetgroup\": \"Soundtrack\", \"orientation\": \"v\", \"showlegend\": true, \"textposition\": \"auto\", \"type\": \"bar\", \"x\": [\"Soundtrack\"], \"xaxis\": \"x\", \"y\": [5913], \"yaxis\": \"y\"}, {\"alignmentgroup\": \"True\", \"hovertemplate\": \"title=%{x}<br>#tracks=%{y}<extra></extra>\", \"legendgroup\": \"Funk\", \"marker\": {\"color\": \"#FF97FF\", \"opacity\": 0.9}, \"name\": \"Funk\", \"offsetgroup\": \"Funk\", \"orientation\": \"v\", \"showlegend\": true, \"textposition\": \"auto\", \"type\": \"bar\", \"x\": [\"Funk\"], \"xaxis\": \"x\", \"y\": [773], \"yaxis\": \"y\"}, {\"alignmentgroup\": \"True\", \"hovertemplate\": \"title=%{x}<br>#tracks=%{y}<extra></extra>\", \"legendgroup\": \"Spoken\", \"marker\": {\"color\": \"#FECB52\", \"opacity\": 0.9}, \"name\": \"Spoken\", \"offsetgroup\": \"Spoken\", \"orientation\": \"v\", \"showlegend\": true, \"textposition\": \"auto\", \"type\": \"bar\", \"x\": [\"Spoken\"], \"xaxis\": \"x\", \"y\": [1876], \"yaxis\": \"y\"}, {\"alignmentgroup\": \"True\", \"hovertemplate\": \"title=%{x}<br>#tracks=%{y}<extra></extra>\", \"legendgroup\": \"Hip-Hop\", \"marker\": {\"color\": \"#636efa\", \"opacity\": 0.9}, \"name\": \"Hip-Hop\", \"offsetgroup\": \"Hip-Hop\", \"orientation\": \"v\", \"showlegend\": true, \"textposition\": \"auto\", \"type\": \"bar\", \"x\": [\"Hip-Hop\"], \"xaxis\": \"x\", \"y\": [8389], \"yaxis\": \"y\"}, {\"alignmentgroup\": \"True\", \"hovertemplate\": \"title=%{x}<br>#tracks=%{y}<extra></extra>\", \"legendgroup\": \"Audio Collage\", \"marker\": {\"color\": \"#EF553B\", \"opacity\": 0.9}, \"name\": \"Audio Collage\", \"offsetgroup\": \"Audio Collage\", \"orientation\": \"v\", \"showlegend\": true, \"textposition\": \"auto\", \"type\": \"bar\", \"x\": [\"Audio Collage\"], \"xaxis\": \"x\", \"y\": [774], \"yaxis\": \"y\"}, {\"alignmentgroup\": \"True\", \"hovertemplate\": \"title=%{x}<br>#tracks=%{y}<extra></extra>\", \"legendgroup\": \"Punk\", \"marker\": {\"color\": \"#00cc96\", \"opacity\": 0.9}, \"name\": \"Punk\", \"offsetgroup\": \"Punk\", \"orientation\": \"v\", \"showlegend\": true, \"textposition\": \"auto\", \"type\": \"bar\", \"x\": [\"Punk\"], \"xaxis\": \"x\", \"y\": [9261], \"yaxis\": \"y\"}, {\"alignmentgroup\": \"True\", \"hovertemplate\": \"title=%{x}<br>#tracks=%{y}<extra></extra>\", \"legendgroup\": \"Post-Rock\", \"marker\": {\"color\": \"#ab63fa\", \"opacity\": 0.9}, \"name\": \"Post-Rock\", \"offsetgroup\": \"Post-Rock\", \"orientation\": \"v\", \"showlegend\": true, \"textposition\": \"auto\", \"type\": \"bar\", \"x\": [\"Post-Rock\"], \"xaxis\": \"x\", \"y\": [1952], \"yaxis\": \"y\"}, {\"alignmentgroup\": \"True\", \"hovertemplate\": \"title=%{x}<br>#tracks=%{y}<extra></extra>\", \"legendgroup\": \"Lo-Fi\", \"marker\": {\"color\": \"#FFA15A\", \"opacity\": 0.9}, \"name\": \"Lo-Fi\", \"offsetgroup\": \"Lo-Fi\", \"orientation\": \"v\", \"showlegend\": true, \"textposition\": \"auto\", \"type\": \"bar\", \"x\": [\"Lo-Fi\"], \"xaxis\": \"x\", \"y\": [6041], \"yaxis\": \"y\"}, {\"alignmentgroup\": \"True\", \"hovertemplate\": \"title=%{x}<br>#tracks=%{y}<extra></extra>\", \"legendgroup\": \"Field Recordings\", \"marker\": {\"color\": \"#19d3f3\", \"opacity\": 0.9}, \"name\": \"Field Recordings\", \"offsetgroup\": \"Field Recordings\", \"orientation\": \"v\", \"showlegend\": true, \"textposition\": \"auto\", \"type\": \"bar\", \"x\": [\"Field Recordings\"], \"xaxis\": \"x\", \"y\": [3237], \"yaxis\": \"y\"}, {\"alignmentgroup\": \"True\", \"hovertemplate\": \"title=%{x}<br>#tracks=%{y}<extra></extra>\", \"legendgroup\": \"Metal\", \"marker\": {\"color\": \"#FF6692\", \"opacity\": 0.9}, \"name\": \"Metal\", \"offsetgroup\": \"Metal\", \"orientation\": \"v\", \"showlegend\": true, \"textposition\": \"auto\", \"type\": \"bar\", \"x\": [\"Metal\"], \"xaxis\": \"x\", \"y\": [1498], \"yaxis\": \"y\"}, {\"alignmentgroup\": \"True\", \"hovertemplate\": \"title=%{x}<br>#tracks=%{y}<extra></extra>\", \"legendgroup\": \"Noise\", \"marker\": {\"color\": \"#B6E880\", \"opacity\": 0.9}, \"name\": \"Noise\", \"offsetgroup\": \"Noise\", \"orientation\": \"v\", \"showlegend\": true, \"textposition\": \"auto\", \"type\": \"bar\", \"x\": [\"Noise\"], \"xaxis\": \"x\", \"y\": [7268], \"yaxis\": \"y\"}, {\"alignmentgroup\": \"True\", \"hovertemplate\": \"title=%{x}<br>#tracks=%{y}<extra></extra>\", \"legendgroup\": \"Psych-Folk\", \"marker\": {\"color\": \"#FF97FF\", \"opacity\": 0.9}, \"name\": \"Psych-Folk\", \"offsetgroup\": \"Psych-Folk\", \"orientation\": \"v\", \"showlegend\": true, \"textposition\": \"auto\", \"type\": \"bar\", \"x\": [\"Psych-Folk\"], \"xaxis\": \"x\", \"y\": [2267], \"yaxis\": \"y\"}, {\"alignmentgroup\": \"True\", \"hovertemplate\": \"title=%{x}<br>#tracks=%{y}<extra></extra>\", \"legendgroup\": \"Krautrock\", \"marker\": {\"color\": \"#FECB52\", \"opacity\": 0.9}, \"name\": \"Krautrock\", \"offsetgroup\": \"Krautrock\", \"orientation\": \"v\", \"showlegend\": true, \"textposition\": \"auto\", \"type\": \"bar\", \"x\": [\"Krautrock\"], \"xaxis\": \"x\", \"y\": [688], \"yaxis\": \"y\"}, {\"alignmentgroup\": \"True\", \"hovertemplate\": \"title=%{x}<br>#tracks=%{y}<extra></extra>\", \"legendgroup\": \"Jazz: Vocal\", \"marker\": {\"color\": \"#636efa\", \"opacity\": 0.9}, \"name\": \"Jazz: Vocal\", \"offsetgroup\": \"Jazz: Vocal\", \"orientation\": \"v\", \"showlegend\": true, \"textposition\": \"auto\", \"type\": \"bar\", \"x\": [\"Jazz: Vocal\"], \"xaxis\": \"x\", \"y\": [97], \"yaxis\": \"y\"}, {\"alignmentgroup\": \"True\", \"hovertemplate\": \"title=%{x}<br>#tracks=%{y}<extra></extra>\", \"legendgroup\": \"Experimental\", \"marker\": {\"color\": \"#EF553B\", \"opacity\": 0.9}, \"name\": \"Experimental\", \"offsetgroup\": \"Experimental\", \"orientation\": \"v\", \"showlegend\": true, \"textposition\": \"auto\", \"type\": \"bar\", \"x\": [\"Experimental\"], \"xaxis\": \"x\", \"y\": [38154], \"yaxis\": \"y\"}, {\"alignmentgroup\": \"True\", \"hovertemplate\": \"title=%{x}<br>#tracks=%{y}<extra></extra>\", \"legendgroup\": \"Electroacoustic\", \"marker\": {\"color\": \"#00cc96\", \"opacity\": 0.9}, \"name\": \"Electroacoustic\", \"offsetgroup\": \"Electroacoustic\", \"orientation\": \"v\", \"showlegend\": true, \"textposition\": \"auto\", \"type\": \"bar\", \"x\": [\"Electroacoustic\"], \"xaxis\": \"x\", \"y\": [6110], \"yaxis\": \"y\"}, {\"alignmentgroup\": \"True\", \"hovertemplate\": \"title=%{x}<br>#tracks=%{y}<extra></extra>\", \"legendgroup\": \"Ambient Electronic\", \"marker\": {\"color\": \"#ab63fa\", \"opacity\": 0.9}, \"name\": \"Ambient Electronic\", \"offsetgroup\": \"Ambient Electronic\", \"orientation\": \"v\", \"showlegend\": true, \"textposition\": \"auto\", \"type\": \"bar\", \"x\": [\"Ambient Electronic\"], \"xaxis\": \"x\", \"y\": [5723], \"yaxis\": \"y\"}, {\"alignmentgroup\": \"True\", \"hovertemplate\": \"title=%{x}<br>#tracks=%{y}<extra></extra>\", \"legendgroup\": \"Radio Art\", \"marker\": {\"color\": \"#FFA15A\", \"opacity\": 0.9}, \"name\": \"Radio Art\", \"offsetgroup\": \"Radio Art\", \"orientation\": \"v\", \"showlegend\": true, \"textposition\": \"auto\", \"type\": \"bar\", \"x\": [\"Radio Art\"], \"xaxis\": \"x\", \"y\": [210], \"yaxis\": \"y\"}, {\"alignmentgroup\": \"True\", \"hovertemplate\": \"title=%{x}<br>#tracks=%{y}<extra></extra>\", \"legendgroup\": \"Loud-Rock\", \"marker\": {\"color\": \"#19d3f3\", \"opacity\": 0.9}, \"name\": \"Loud-Rock\", \"offsetgroup\": \"Loud-Rock\", \"orientation\": \"v\", \"showlegend\": true, \"textposition\": \"auto\", \"type\": \"bar\", \"x\": [\"Loud-Rock\"], \"xaxis\": \"x\", \"y\": [2469], \"yaxis\": \"y\"}, {\"alignmentgroup\": \"True\", \"hovertemplate\": \"title=%{x}<br>#tracks=%{y}<extra></extra>\", \"legendgroup\": \"Latin America\", \"marker\": {\"color\": \"#FF6692\", \"opacity\": 0.9}, \"name\": \"Latin America\", \"offsetgroup\": \"Latin America\", \"orientation\": \"v\", \"showlegend\": true, \"textposition\": \"auto\", \"type\": \"bar\", \"x\": [\"Latin America\"], \"xaxis\": \"x\", \"y\": [573], \"yaxis\": \"y\"}, {\"alignmentgroup\": \"True\", \"hovertemplate\": \"title=%{x}<br>#tracks=%{y}<extra></extra>\", \"legendgroup\": \"Drone\", \"marker\": {\"color\": \"#B6E880\", \"opacity\": 0.9}, \"name\": \"Drone\", \"offsetgroup\": \"Drone\", \"orientation\": \"v\", \"showlegend\": true, \"textposition\": \"auto\", \"type\": \"bar\", \"x\": [\"Drone\"], \"xaxis\": \"x\", \"y\": [2546], \"yaxis\": \"y\"}, {\"alignmentgroup\": \"True\", \"hovertemplate\": \"title=%{x}<br>#tracks=%{y}<extra></extra>\", \"legendgroup\": \"Free-Folk\", \"marker\": {\"color\": \"#FF97FF\", \"opacity\": 0.9}, \"name\": \"Free-Folk\", \"offsetgroup\": \"Free-Folk\", \"orientation\": \"v\", \"showlegend\": true, \"textposition\": \"auto\", \"type\": \"bar\", \"x\": [\"Free-Folk\"], \"xaxis\": \"x\", \"y\": [753], \"yaxis\": \"y\"}, {\"alignmentgroup\": \"True\", \"hovertemplate\": \"title=%{x}<br>#tracks=%{y}<extra></extra>\", \"legendgroup\": \"Noise-Rock\", \"marker\": {\"color\": \"#FECB52\", \"opacity\": 0.9}, \"name\": \"Noise-Rock\", \"offsetgroup\": \"Noise-Rock\", \"orientation\": \"v\", \"showlegend\": true, \"textposition\": \"auto\", \"type\": \"bar\", \"x\": [\"Noise-Rock\"], \"xaxis\": \"x\", \"y\": [2071], \"yaxis\": \"y\"}, {\"alignmentgroup\": \"True\", \"hovertemplate\": \"title=%{x}<br>#tracks=%{y}<extra></extra>\", \"legendgroup\": \"Psych-Rock\", \"marker\": {\"color\": \"#636efa\", \"opacity\": 0.9}, \"name\": \"Psych-Rock\", \"offsetgroup\": \"Psych-Rock\", \"orientation\": \"v\", \"showlegend\": true, \"textposition\": \"auto\", \"type\": \"bar\", \"x\": [\"Psych-Rock\"], \"xaxis\": \"x\", \"y\": [2502], \"yaxis\": \"y\"}, {\"alignmentgroup\": \"True\", \"hovertemplate\": \"title=%{x}<br>#tracks=%{y}<extra></extra>\", \"legendgroup\": \"Bluegrass\", \"marker\": {\"color\": \"#EF553B\", \"opacity\": 0.9}, \"name\": \"Bluegrass\", \"offsetgroup\": \"Bluegrass\", \"orientation\": \"v\", \"showlegend\": true, \"textposition\": \"auto\", \"type\": \"bar\", \"x\": [\"Bluegrass\"], \"xaxis\": \"x\", \"y\": [178], \"yaxis\": \"y\"}, {\"alignmentgroup\": \"True\", \"hovertemplate\": \"title=%{x}<br>#tracks=%{y}<extra></extra>\", \"legendgroup\": \"Electro-Punk\", \"marker\": {\"color\": \"#00cc96\", \"opacity\": 0.9}, \"name\": \"Electro-Punk\", \"offsetgroup\": \"Electro-Punk\", \"orientation\": \"v\", \"showlegend\": true, \"textposition\": \"auto\", \"type\": \"bar\", \"x\": [\"Electro-Punk\"], \"xaxis\": \"x\", \"y\": [563], \"yaxis\": \"y\"}, {\"alignmentgroup\": \"True\", \"hovertemplate\": \"title=%{x}<br>#tracks=%{y}<extra></extra>\", \"legendgroup\": \"Radio\", \"marker\": {\"color\": \"#ab63fa\", \"opacity\": 0.9}, \"name\": \"Radio\", \"offsetgroup\": \"Radio\", \"orientation\": \"v\", \"showlegend\": true, \"textposition\": \"auto\", \"type\": \"bar\", \"x\": [\"Radio\"], \"xaxis\": \"x\", \"y\": [518], \"yaxis\": \"y\"}, {\"alignmentgroup\": \"True\", \"hovertemplate\": \"title=%{x}<br>#tracks=%{y}<extra></extra>\", \"legendgroup\": \"Indie-Rock\", \"marker\": {\"color\": \"#FFA15A\", \"opacity\": 0.9}, \"name\": \"Indie-Rock\", \"offsetgroup\": \"Indie-Rock\", \"orientation\": \"v\", \"showlegend\": true, \"textposition\": \"auto\", \"type\": \"bar\", \"x\": [\"Indie-Rock\"], \"xaxis\": \"x\", \"y\": [5432], \"yaxis\": \"y\"}, {\"alignmentgroup\": \"True\", \"hovertemplate\": \"title=%{x}<br>#tracks=%{y}<extra></extra>\", \"legendgroup\": \"Industrial\", \"marker\": {\"color\": \"#19d3f3\", \"opacity\": 0.9}, \"name\": \"Industrial\", \"offsetgroup\": \"Industrial\", \"orientation\": \"v\", \"showlegend\": true, \"textposition\": \"auto\", \"type\": \"bar\", \"x\": [\"Industrial\"], \"xaxis\": \"x\", \"y\": [2230], \"yaxis\": \"y\"}, {\"alignmentgroup\": \"True\", \"hovertemplate\": \"title=%{x}<br>#tracks=%{y}<extra></extra>\", \"legendgroup\": \"No Wave\", \"marker\": {\"color\": \"#FF6692\", \"opacity\": 0.9}, \"name\": \"No Wave\", \"offsetgroup\": \"No Wave\", \"orientation\": \"v\", \"showlegend\": true, \"textposition\": \"auto\", \"type\": \"bar\", \"x\": [\"No Wave\"], \"xaxis\": \"x\", \"y\": [600], \"yaxis\": \"y\"}, {\"alignmentgroup\": \"True\", \"hovertemplate\": \"title=%{x}<br>#tracks=%{y}<extra></extra>\", \"legendgroup\": \"Free-Jazz\", \"marker\": {\"color\": \"#B6E880\", \"opacity\": 0.9}, \"name\": \"Free-Jazz\", \"offsetgroup\": \"Free-Jazz\", \"orientation\": \"v\", \"showlegend\": true, \"textposition\": \"auto\", \"type\": \"bar\", \"x\": [\"Free-Jazz\"], \"xaxis\": \"x\", \"y\": [1531], \"yaxis\": \"y\"}, {\"alignmentgroup\": \"True\", \"hovertemplate\": \"title=%{x}<br>#tracks=%{y}<extra></extra>\", \"legendgroup\": \"Experimental Pop\", \"marker\": {\"color\": \"#FF97FF\", \"opacity\": 0.9}, \"name\": \"Experimental Pop\", \"offsetgroup\": \"Experimental Pop\", \"orientation\": \"v\", \"showlegend\": true, \"textposition\": \"auto\", \"type\": \"bar\", \"x\": [\"Experimental Pop\"], \"xaxis\": \"x\", \"y\": [7144], \"yaxis\": \"y\"}, {\"alignmentgroup\": \"True\", \"hovertemplate\": \"title=%{x}<br>#tracks=%{y}<extra></extra>\", \"legendgroup\": \"French\", \"marker\": {\"color\": \"#FECB52\", \"opacity\": 0.9}, \"name\": \"French\", \"offsetgroup\": \"French\", \"orientation\": \"v\", \"showlegend\": true, \"textposition\": \"auto\", \"type\": \"bar\", \"x\": [\"French\"], \"xaxis\": \"x\", \"y\": [387], \"yaxis\": \"y\"}, {\"alignmentgroup\": \"True\", \"hovertemplate\": \"title=%{x}<br>#tracks=%{y}<extra></extra>\", \"legendgroup\": \"Reggae - Dub\", \"marker\": {\"color\": \"#636efa\", \"opacity\": 0.9}, \"name\": \"Reggae - Dub\", \"offsetgroup\": \"Reggae - Dub\", \"orientation\": \"v\", \"showlegend\": true, \"textposition\": \"auto\", \"type\": \"bar\", \"x\": [\"Reggae - Dub\"], \"xaxis\": \"x\", \"y\": [880], \"yaxis\": \"y\"}, {\"alignmentgroup\": \"True\", \"hovertemplate\": \"title=%{x}<br>#tracks=%{y}<extra></extra>\", \"legendgroup\": \"Afrobeat\", \"marker\": {\"color\": \"#EF553B\", \"opacity\": 0.9}, \"name\": \"Afrobeat\", \"offsetgroup\": \"Afrobeat\", \"orientation\": \"v\", \"showlegend\": true, \"textposition\": \"auto\", \"type\": \"bar\", \"x\": [\"Afrobeat\"], \"xaxis\": \"x\", \"y\": [110], \"yaxis\": \"y\"}, {\"alignmentgroup\": \"True\", \"hovertemplate\": \"title=%{x}<br>#tracks=%{y}<extra></extra>\", \"legendgroup\": \"Nerdcore\", \"marker\": {\"color\": \"#00cc96\", \"opacity\": 0.9}, \"name\": \"Nerdcore\", \"offsetgroup\": \"Nerdcore\", \"orientation\": \"v\", \"showlegend\": true, \"textposition\": \"auto\", \"type\": \"bar\", \"x\": [\"Nerdcore\"], \"xaxis\": \"x\", \"y\": [84], \"yaxis\": \"y\"}, {\"alignmentgroup\": \"True\", \"hovertemplate\": \"title=%{x}<br>#tracks=%{y}<extra></extra>\", \"legendgroup\": \"Garage\", \"marker\": {\"color\": \"#ab63fa\", \"opacity\": 0.9}, \"name\": \"Garage\", \"offsetgroup\": \"Garage\", \"orientation\": \"v\", \"showlegend\": true, \"textposition\": \"auto\", \"type\": \"bar\", \"x\": [\"Garage\"], \"xaxis\": \"x\", \"y\": [3548], \"yaxis\": \"y\"}, {\"alignmentgroup\": \"True\", \"hovertemplate\": \"title=%{x}<br>#tracks=%{y}<extra></extra>\", \"legendgroup\": \"Indian\", \"marker\": {\"color\": \"#FFA15A\", \"opacity\": 0.9}, \"name\": \"Indian\", \"offsetgroup\": \"Indian\", \"orientation\": \"v\", \"showlegend\": true, \"textposition\": \"auto\", \"type\": \"bar\", \"x\": [\"Indian\"], \"xaxis\": \"x\", \"y\": [216], \"yaxis\": \"y\"}, {\"alignmentgroup\": \"True\", \"hovertemplate\": \"title=%{x}<br>#tracks=%{y}<extra></extra>\", \"legendgroup\": \"New Wave\", \"marker\": {\"color\": \"#19d3f3\", \"opacity\": 0.9}, \"name\": \"New Wave\", \"offsetgroup\": \"New Wave\", \"orientation\": \"v\", \"showlegend\": true, \"textposition\": \"auto\", \"type\": \"bar\", \"x\": [\"New Wave\"], \"xaxis\": \"x\", \"y\": [517], \"yaxis\": \"y\"}, {\"alignmentgroup\": \"True\", \"hovertemplate\": \"title=%{x}<br>#tracks=%{y}<extra></extra>\", \"legendgroup\": \"Post-Punk\", \"marker\": {\"color\": \"#FF6692\", \"opacity\": 0.9}, \"name\": \"Post-Punk\", \"offsetgroup\": \"Post-Punk\", \"orientation\": \"v\", \"showlegend\": true, \"textposition\": \"auto\", \"type\": \"bar\", \"x\": [\"Post-Punk\"], \"xaxis\": \"x\", \"y\": [1858], \"yaxis\": \"y\"}, {\"alignmentgroup\": \"True\", \"hovertemplate\": \"title=%{x}<br>#tracks=%{y}<extra></extra>\", \"legendgroup\": \"Sludge\", \"marker\": {\"color\": \"#B6E880\", \"opacity\": 0.9}, \"name\": \"Sludge\", \"offsetgroup\": \"Sludge\", \"orientation\": \"v\", \"showlegend\": true, \"textposition\": \"auto\", \"type\": \"bar\", \"x\": [\"Sludge\"], \"xaxis\": \"x\", \"y\": [251], \"yaxis\": \"y\"}, {\"alignmentgroup\": \"True\", \"hovertemplate\": \"title=%{x}<br>#tracks=%{y}<extra></extra>\", \"legendgroup\": \"African\", \"marker\": {\"color\": \"#FF97FF\", \"opacity\": 0.9}, \"name\": \"African\", \"offsetgroup\": \"African\", \"orientation\": \"v\", \"showlegend\": true, \"textposition\": \"auto\", \"type\": \"bar\", \"x\": [\"African\"], \"xaxis\": \"x\", \"y\": [329], \"yaxis\": \"y\"}, {\"alignmentgroup\": \"True\", \"hovertemplate\": \"title=%{x}<br>#tracks=%{y}<extra></extra>\", \"legendgroup\": \"Freak-Folk\", \"marker\": {\"color\": \"#FECB52\", \"opacity\": 0.9}, \"name\": \"Freak-Folk\", \"offsetgroup\": \"Freak-Folk\", \"orientation\": \"v\", \"showlegend\": true, \"textposition\": \"auto\", \"type\": \"bar\", \"x\": [\"Freak-Folk\"], \"xaxis\": \"x\", \"y\": [1289], \"yaxis\": \"y\"}, {\"alignmentgroup\": \"True\", \"hovertemplate\": \"title=%{x}<br>#tracks=%{y}<extra></extra>\", \"legendgroup\": \"Jazz: Out\", \"marker\": {\"color\": \"#636efa\", \"opacity\": 0.9}, \"name\": \"Jazz: Out\", \"offsetgroup\": \"Jazz: Out\", \"orientation\": \"v\", \"showlegend\": true, \"textposition\": \"auto\", \"type\": \"bar\", \"x\": [\"Jazz: Out\"], \"xaxis\": \"x\", \"y\": [291], \"yaxis\": \"y\"}, {\"alignmentgroup\": \"True\", \"hovertemplate\": \"title=%{x}<br>#tracks=%{y}<extra></extra>\", \"legendgroup\": \"Progressive\", \"marker\": {\"color\": \"#EF553B\", \"opacity\": 0.9}, \"name\": \"Progressive\", \"offsetgroup\": \"Progressive\", \"orientation\": \"v\", \"showlegend\": true, \"textposition\": \"auto\", \"type\": \"bar\", \"x\": [\"Progressive\"], \"xaxis\": \"x\", \"y\": [795], \"yaxis\": \"y\"}, {\"alignmentgroup\": \"True\", \"hovertemplate\": \"title=%{x}<br>#tracks=%{y}<extra></extra>\", \"legendgroup\": \"Alternative Hip-Hop\", \"marker\": {\"color\": \"#00cc96\", \"opacity\": 0.9}, \"name\": \"Alternative Hip-Hop\", \"offsetgroup\": \"Alternative Hip-Hop\", \"orientation\": \"v\", \"showlegend\": true, \"textposition\": \"auto\", \"type\": \"bar\", \"x\": [\"Alternative Hip-Hop\"], \"xaxis\": \"x\", \"y\": [740], \"yaxis\": \"y\"}, {\"alignmentgroup\": \"True\", \"hovertemplate\": \"title=%{x}<br>#tracks=%{y}<extra></extra>\", \"legendgroup\": \"Death-Metal\", \"marker\": {\"color\": \"#ab63fa\", \"opacity\": 0.9}, \"name\": \"Death-Metal\", \"offsetgroup\": \"Death-Metal\", \"orientation\": \"v\", \"showlegend\": true, \"textposition\": \"auto\", \"type\": \"bar\", \"x\": [\"Death-Metal\"], \"xaxis\": \"x\", \"y\": [196], \"yaxis\": \"y\"}, {\"alignmentgroup\": \"True\", \"hovertemplate\": \"title=%{x}<br>#tracks=%{y}<extra></extra>\", \"legendgroup\": \"Middle East\", \"marker\": {\"color\": \"#FFA15A\", \"opacity\": 0.9}, \"name\": \"Middle East\", \"offsetgroup\": \"Middle East\", \"orientation\": \"v\", \"showlegend\": true, \"textposition\": \"auto\", \"type\": \"bar\", \"x\": [\"Middle East\"], \"xaxis\": \"x\", \"y\": [176], \"yaxis\": \"y\"}, {\"alignmentgroup\": \"True\", \"hovertemplate\": \"title=%{x}<br>#tracks=%{y}<extra></extra>\", \"legendgroup\": \"Singer-Songwriter\", \"marker\": {\"color\": \"#19d3f3\", \"opacity\": 0.9}, \"name\": \"Singer-Songwriter\", \"offsetgroup\": \"Singer-Songwriter\", \"orientation\": \"v\", \"showlegend\": true, \"textposition\": \"auto\", \"type\": \"bar\", \"x\": [\"Singer-Songwriter\"], \"xaxis\": \"x\", \"y\": [4162], \"yaxis\": \"y\"}, {\"alignmentgroup\": \"True\", \"hovertemplate\": \"title=%{x}<br>#tracks=%{y}<extra></extra>\", \"legendgroup\": \"Ambient\", \"marker\": {\"color\": \"#FF6692\", \"opacity\": 0.9}, \"name\": \"Ambient\", \"offsetgroup\": \"Ambient\", \"orientation\": \"v\", \"showlegend\": true, \"textposition\": \"auto\", \"type\": \"bar\", \"x\": [\"Ambient\"], \"xaxis\": \"x\", \"y\": [7206], \"yaxis\": \"y\"}, {\"alignmentgroup\": \"True\", \"hovertemplate\": \"title=%{x}<br>#tracks=%{y}<extra></extra>\", \"legendgroup\": \"Hardcore\", \"marker\": {\"color\": \"#B6E880\", \"opacity\": 0.9}, \"name\": \"Hardcore\", \"offsetgroup\": \"Hardcore\", \"orientation\": \"v\", \"showlegend\": true, \"textposition\": \"auto\", \"type\": \"bar\", \"x\": [\"Hardcore\"], \"xaxis\": \"x\", \"y\": [1419], \"yaxis\": \"y\"}, {\"alignmentgroup\": \"True\", \"hovertemplate\": \"title=%{x}<br>#tracks=%{y}<extra></extra>\", \"legendgroup\": \"Power-Pop\", \"marker\": {\"color\": \"#FF97FF\", \"opacity\": 0.9}, \"name\": \"Power-Pop\", \"offsetgroup\": \"Power-Pop\", \"orientation\": \"v\", \"showlegend\": true, \"textposition\": \"auto\", \"type\": \"bar\", \"x\": [\"Power-Pop\"], \"xaxis\": \"x\", \"y\": [1003], \"yaxis\": \"y\"}, {\"alignmentgroup\": \"True\", \"hovertemplate\": \"title=%{x}<br>#tracks=%{y}<extra></extra>\", \"legendgroup\": \"Space-Rock\", \"marker\": {\"color\": \"#FECB52\", \"opacity\": 0.9}, \"name\": \"Space-Rock\", \"offsetgroup\": \"Space-Rock\", \"orientation\": \"v\", \"showlegend\": true, \"textposition\": \"auto\", \"type\": \"bar\", \"x\": [\"Space-Rock\"], \"xaxis\": \"x\", \"y\": [484], \"yaxis\": \"y\"}, {\"alignmentgroup\": \"True\", \"hovertemplate\": \"title=%{x}<br>#tracks=%{y}<extra></extra>\", \"legendgroup\": \"Polka\", \"marker\": {\"color\": \"#636efa\", \"opacity\": 0.9}, \"name\": \"Polka\", \"offsetgroup\": \"Polka\", \"orientation\": \"v\", \"showlegend\": true, \"textposition\": \"auto\", \"type\": \"bar\", \"x\": [\"Polka\"], \"xaxis\": \"x\", \"y\": [62], \"yaxis\": \"y\"}, {\"alignmentgroup\": \"True\", \"hovertemplate\": \"title=%{x}<br>#tracks=%{y}<extra></extra>\", \"legendgroup\": \"Balkan\", \"marker\": {\"color\": \"#EF553B\", \"opacity\": 0.9}, \"name\": \"Balkan\", \"offsetgroup\": \"Balkan\", \"orientation\": \"v\", \"showlegend\": true, \"textposition\": \"auto\", \"type\": \"bar\", \"x\": [\"Balkan\"], \"xaxis\": \"x\", \"y\": [608], \"yaxis\": \"y\"}, {\"alignmentgroup\": \"True\", \"hovertemplate\": \"title=%{x}<br>#tracks=%{y}<extra></extra>\", \"legendgroup\": \"Unclassifiable\", \"marker\": {\"color\": \"#00cc96\", \"opacity\": 0.9}, \"name\": \"Unclassifiable\", \"offsetgroup\": \"Unclassifiable\", \"orientation\": \"v\", \"showlegend\": true, \"textposition\": \"auto\", \"type\": \"bar\", \"x\": [\"Unclassifiable\"], \"xaxis\": \"x\", \"y\": [1511], \"yaxis\": \"y\"}, {\"alignmentgroup\": \"True\", \"hovertemplate\": \"title=%{x}<br>#tracks=%{y}<extra></extra>\", \"legendgroup\": \"Europe\", \"marker\": {\"color\": \"#ab63fa\", \"opacity\": 0.9}, \"name\": \"Europe\", \"offsetgroup\": \"Europe\", \"orientation\": \"v\", \"showlegend\": true, \"textposition\": \"auto\", \"type\": \"bar\", \"x\": [\"Europe\"], \"xaxis\": \"x\", \"y\": [727], \"yaxis\": \"y\"}, {\"alignmentgroup\": \"True\", \"hovertemplate\": \"title=%{x}<br>#tracks=%{y}<extra></extra>\", \"legendgroup\": \"Americana\", \"marker\": {\"color\": \"#FFA15A\", \"opacity\": 0.9}, \"name\": \"Americana\", \"offsetgroup\": \"Americana\", \"orientation\": \"v\", \"showlegend\": true, \"textposition\": \"auto\", \"type\": \"bar\", \"x\": [\"Americana\"], \"xaxis\": \"x\", \"y\": [994], \"yaxis\": \"y\"}, {\"alignmentgroup\": \"True\", \"hovertemplate\": \"title=%{x}<br>#tracks=%{y}<extra></extra>\", \"legendgroup\": \"Spoken Weird\", \"marker\": {\"color\": \"#19d3f3\", \"opacity\": 0.9}, \"name\": \"Spoken Weird\", \"offsetgroup\": \"Spoken Weird\", \"orientation\": \"v\", \"showlegend\": true, \"textposition\": \"auto\", \"type\": \"bar\", \"x\": [\"Spoken Weird\"], \"xaxis\": \"x\", \"y\": [490], \"yaxis\": \"y\"}, {\"alignmentgroup\": \"True\", \"hovertemplate\": \"title=%{x}<br>#tracks=%{y}<extra></extra>\", \"legendgroup\": \"Interview\", \"marker\": {\"color\": \"#FF6692\", \"opacity\": 0.9}, \"name\": \"Interview\", \"offsetgroup\": \"Interview\", \"orientation\": \"v\", \"showlegend\": true, \"textposition\": \"auto\", \"type\": \"bar\", \"x\": [\"Interview\"], \"xaxis\": \"x\", \"y\": [122], \"yaxis\": \"y\"}, {\"alignmentgroup\": \"True\", \"hovertemplate\": \"title=%{x}<br>#tracks=%{y}<extra></extra>\", \"legendgroup\": \"Black-Metal\", \"marker\": {\"color\": \"#B6E880\", \"opacity\": 0.9}, \"name\": \"Black-Metal\", \"offsetgroup\": \"Black-Metal\", \"orientation\": \"v\", \"showlegend\": true, \"textposition\": \"auto\", \"type\": \"bar\", \"x\": [\"Black-Metal\"], \"xaxis\": \"x\", \"y\": [152], \"yaxis\": \"y\"}, {\"alignmentgroup\": \"True\", \"hovertemplate\": \"title=%{x}<br>#tracks=%{y}<extra></extra>\", \"legendgroup\": \"Rockabilly\", \"marker\": {\"color\": \"#FF97FF\", \"opacity\": 0.9}, \"name\": \"Rockabilly\", \"offsetgroup\": \"Rockabilly\", \"orientation\": \"v\", \"showlegend\": true, \"textposition\": \"auto\", \"type\": \"bar\", \"x\": [\"Rockabilly\"], \"xaxis\": \"x\", \"y\": [128], \"yaxis\": \"y\"}, {\"alignmentgroup\": \"True\", \"hovertemplate\": \"title=%{x}<br>#tracks=%{y}<extra></extra>\", \"legendgroup\": \"Easy Listening: Vocal\", \"marker\": {\"color\": \"#FECB52\", \"opacity\": 0.9}, \"name\": \"Easy Listening: Vocal\", \"offsetgroup\": \"Easy Listening: Vocal\", \"orientation\": \"v\", \"showlegend\": true, \"textposition\": \"auto\", \"type\": \"bar\", \"x\": [\"Easy Listening: Vocal\"], \"xaxis\": \"x\", \"y\": [47], \"yaxis\": \"y\"}, {\"alignmentgroup\": \"True\", \"hovertemplate\": \"title=%{x}<br>#tracks=%{y}<extra></extra>\", \"legendgroup\": \"Brazilian\", \"marker\": {\"color\": \"#636efa\", \"opacity\": 0.9}, \"name\": \"Brazilian\", \"offsetgroup\": \"Brazilian\", \"orientation\": \"v\", \"showlegend\": true, \"textposition\": \"auto\", \"type\": \"bar\", \"x\": [\"Brazilian\"], \"xaxis\": \"x\", \"y\": [234], \"yaxis\": \"y\"}, {\"alignmentgroup\": \"True\", \"hovertemplate\": \"title=%{x}<br>#tracks=%{y}<extra></extra>\", \"legendgroup\": \"Asia-Far East\", \"marker\": {\"color\": \"#EF553B\", \"opacity\": 0.9}, \"name\": \"Asia-Far East\", \"offsetgroup\": \"Asia-Far East\", \"orientation\": \"v\", \"showlegend\": true, \"textposition\": \"auto\", \"type\": \"bar\", \"x\": [\"Asia-Far East\"], \"xaxis\": \"x\", \"y\": [118], \"yaxis\": \"y\"}, {\"alignmentgroup\": \"True\", \"hovertemplate\": \"title=%{x}<br>#tracks=%{y}<extra></extra>\", \"legendgroup\": \"N. Indian Traditional\", \"marker\": {\"color\": \"#00cc96\", \"opacity\": 0.9}, \"name\": \"N. Indian Traditional\", \"offsetgroup\": \"N. Indian Traditional\", \"orientation\": \"v\", \"showlegend\": true, \"textposition\": \"auto\", \"type\": \"bar\", \"x\": [\"N. Indian Traditional\"], \"xaxis\": \"x\", \"y\": [4], \"yaxis\": \"y\"}, {\"alignmentgroup\": \"True\", \"hovertemplate\": \"title=%{x}<br>#tracks=%{y}<extra></extra>\", \"legendgroup\": \"South Indian Traditional\", \"marker\": {\"color\": \"#ab63fa\", \"opacity\": 0.9}, \"name\": \"South Indian Traditional\", \"offsetgroup\": \"South Indian Traditional\", \"orientation\": \"v\", \"showlegend\": true, \"textposition\": \"auto\", \"type\": \"bar\", \"x\": [\"South Indian Traditional\"], \"xaxis\": \"x\", \"y\": [17], \"yaxis\": \"y\"}, {\"alignmentgroup\": \"True\", \"hovertemplate\": \"title=%{x}<br>#tracks=%{y}<extra></extra>\", \"legendgroup\": \"Bollywood\", \"marker\": {\"color\": \"#FFA15A\", \"opacity\": 0.9}, \"name\": \"Bollywood\", \"offsetgroup\": \"Bollywood\", \"orientation\": \"v\", \"showlegend\": true, \"textposition\": \"auto\", \"type\": \"bar\", \"x\": [\"Bollywood\"], \"xaxis\": \"x\", \"y\": [0], \"yaxis\": \"y\"}, {\"alignmentgroup\": \"True\", \"hovertemplate\": \"title=%{x}<br>#tracks=%{y}<extra></extra>\", \"legendgroup\": \"Pacific\", \"marker\": {\"color\": \"#19d3f3\", \"opacity\": 0.9}, \"name\": \"Pacific\", \"offsetgroup\": \"Pacific\", \"orientation\": \"v\", \"showlegend\": true, \"textposition\": \"auto\", \"type\": \"bar\", \"x\": [\"Pacific\"], \"xaxis\": \"x\", \"y\": [23], \"yaxis\": \"y\"}, {\"alignmentgroup\": \"True\", \"hovertemplate\": \"title=%{x}<br>#tracks=%{y}<extra></extra>\", \"legendgroup\": \"Celtic\", \"marker\": {\"color\": \"#FF6692\", \"opacity\": 0.9}, \"name\": \"Celtic\", \"offsetgroup\": \"Celtic\", \"orientation\": \"v\", \"showlegend\": true, \"textposition\": \"auto\", \"type\": \"bar\", \"x\": [\"Celtic\"], \"xaxis\": \"x\", \"y\": [72], \"yaxis\": \"y\"}, {\"alignmentgroup\": \"True\", \"hovertemplate\": \"title=%{x}<br>#tracks=%{y}<extra></extra>\", \"legendgroup\": \"Be-Bop\", \"marker\": {\"color\": \"#B6E880\", \"opacity\": 0.9}, \"name\": \"Be-Bop\", \"offsetgroup\": \"Be-Bop\", \"orientation\": \"v\", \"showlegend\": true, \"textposition\": \"auto\", \"type\": \"bar\", \"x\": [\"Be-Bop\"], \"xaxis\": \"x\", \"y\": [0], \"yaxis\": \"y\"}, {\"alignmentgroup\": \"True\", \"hovertemplate\": \"title=%{x}<br>#tracks=%{y}<extra></extra>\", \"legendgroup\": \"Big Band/Swing\", \"marker\": {\"color\": \"#FF97FF\", \"opacity\": 0.9}, \"name\": \"Big Band/Swing\", \"offsetgroup\": \"Big Band/Swing\", \"orientation\": \"v\", \"showlegend\": true, \"textposition\": \"auto\", \"type\": \"bar\", \"x\": [\"Big Band/Swing\"], \"xaxis\": \"x\", \"y\": [104], \"yaxis\": \"y\"}, {\"alignmentgroup\": \"True\", \"hovertemplate\": \"title=%{x}<br>#tracks=%{y}<extra></extra>\", \"legendgroup\": \"British Folk\", \"marker\": {\"color\": \"#FECB52\", \"opacity\": 0.9}, \"name\": \"British Folk\", \"offsetgroup\": \"British Folk\", \"orientation\": \"v\", \"showlegend\": true, \"textposition\": \"auto\", \"type\": \"bar\", \"x\": [\"British Folk\"], \"xaxis\": \"x\", \"y\": [161], \"yaxis\": \"y\"}, {\"alignmentgroup\": \"True\", \"hovertemplate\": \"title=%{x}<br>#tracks=%{y}<extra></extra>\", \"legendgroup\": \"Techno\", \"marker\": {\"color\": \"#636efa\", \"opacity\": 0.9}, \"name\": \"Techno\", \"offsetgroup\": \"Techno\", \"orientation\": \"v\", \"showlegend\": true, \"textposition\": \"auto\", \"type\": \"bar\", \"x\": [\"Techno\"], \"xaxis\": \"x\", \"y\": [2140], \"yaxis\": \"y\"}, {\"alignmentgroup\": \"True\", \"hovertemplate\": \"title=%{x}<br>#tracks=%{y}<extra></extra>\", \"legendgroup\": \"House\", \"marker\": {\"color\": \"#EF553B\", \"opacity\": 0.9}, \"name\": \"House\", \"offsetgroup\": \"House\", \"orientation\": \"v\", \"showlegend\": true, \"textposition\": \"auto\", \"type\": \"bar\", \"x\": [\"House\"], \"xaxis\": \"x\", \"y\": [1482], \"yaxis\": \"y\"}, {\"alignmentgroup\": \"True\", \"hovertemplate\": \"title=%{x}<br>#tracks=%{y}<extra></extra>\", \"legendgroup\": \"Glitch\", \"marker\": {\"color\": \"#00cc96\", \"opacity\": 0.9}, \"name\": \"Glitch\", \"offsetgroup\": \"Glitch\", \"orientation\": \"v\", \"showlegend\": true, \"textposition\": \"auto\", \"type\": \"bar\", \"x\": [\"Glitch\"], \"xaxis\": \"x\", \"y\": [2809], \"yaxis\": \"y\"}, {\"alignmentgroup\": \"True\", \"hovertemplate\": \"title=%{x}<br>#tracks=%{y}<extra></extra>\", \"legendgroup\": \"Minimal Electronic\", \"marker\": {\"color\": \"#ab63fa\", \"opacity\": 0.9}, \"name\": \"Minimal Electronic\", \"offsetgroup\": \"Minimal Electronic\", \"orientation\": \"v\", \"showlegend\": true, \"textposition\": \"auto\", \"type\": \"bar\", \"x\": [\"Minimal Electronic\"], \"xaxis\": \"x\", \"y\": [1013], \"yaxis\": \"y\"}, {\"alignmentgroup\": \"True\", \"hovertemplate\": \"title=%{x}<br>#tracks=%{y}<extra></extra>\", \"legendgroup\": \"Breakcore - Hard\", \"marker\": {\"color\": \"#FFA15A\", \"opacity\": 0.9}, \"name\": \"Breakcore - Hard\", \"offsetgroup\": \"Breakcore - Hard\", \"orientation\": \"v\", \"showlegend\": true, \"textposition\": \"auto\", \"type\": \"bar\", \"x\": [\"Breakcore - Hard\"], \"xaxis\": \"x\", \"y\": [511], \"yaxis\": \"y\"}, {\"alignmentgroup\": \"True\", \"hovertemplate\": \"title=%{x}<br>#tracks=%{y}<extra></extra>\", \"legendgroup\": \"Sound Poetry\", \"marker\": {\"color\": \"#19d3f3\", \"opacity\": 0.9}, \"name\": \"Sound Poetry\", \"offsetgroup\": \"Sound Poetry\", \"orientation\": \"v\", \"showlegend\": true, \"textposition\": \"auto\", \"type\": \"bar\", \"x\": [\"Sound Poetry\"], \"xaxis\": \"x\", \"y\": [682], \"yaxis\": \"y\"}, {\"alignmentgroup\": \"True\", \"hovertemplate\": \"title=%{x}<br>#tracks=%{y}<extra></extra>\", \"legendgroup\": \"20th Century Classical\", \"marker\": {\"color\": \"#FF6692\", \"opacity\": 0.9}, \"name\": \"20th Century Classical\", \"offsetgroup\": \"20th Century Classical\", \"orientation\": \"v\", \"showlegend\": true, \"textposition\": \"auto\", \"type\": \"bar\", \"x\": [\"20th Century Classical\"], \"xaxis\": \"x\", \"y\": [292], \"yaxis\": \"y\"}, {\"alignmentgroup\": \"True\", \"hovertemplate\": \"title=%{x}<br>#tracks=%{y}<extra></extra>\", \"legendgroup\": \"Poetry\", \"marker\": {\"color\": \"#B6E880\", \"opacity\": 0.9}, \"name\": \"Poetry\", \"offsetgroup\": \"Poetry\", \"orientation\": \"v\", \"showlegend\": true, \"textposition\": \"auto\", \"type\": \"bar\", \"x\": [\"Poetry\"], \"xaxis\": \"x\", \"y\": [301], \"yaxis\": \"y\"}, {\"alignmentgroup\": \"True\", \"hovertemplate\": \"title=%{x}<br>#tracks=%{y}<extra></extra>\", \"legendgroup\": \"Talk Radio\", \"marker\": {\"color\": \"#FF97FF\", \"opacity\": 0.9}, \"name\": \"Talk Radio\", \"offsetgroup\": \"Talk Radio\", \"orientation\": \"v\", \"showlegend\": true, \"textposition\": \"auto\", \"type\": \"bar\", \"x\": [\"Talk Radio\"], \"xaxis\": \"x\", \"y\": [26], \"yaxis\": \"y\"}, {\"alignmentgroup\": \"True\", \"hovertemplate\": \"title=%{x}<br>#tracks=%{y}<extra></extra>\", \"legendgroup\": \"North African\", \"marker\": {\"color\": \"#FECB52\", \"opacity\": 0.9}, \"name\": \"North African\", \"offsetgroup\": \"North African\", \"orientation\": \"v\", \"showlegend\": true, \"textposition\": \"auto\", \"type\": \"bar\", \"x\": [\"North African\"], \"xaxis\": \"x\", \"y\": [40], \"yaxis\": \"y\"}, {\"alignmentgroup\": \"True\", \"hovertemplate\": \"title=%{x}<br>#tracks=%{y}<extra></extra>\", \"legendgroup\": \"Sound Collage\", \"marker\": {\"color\": \"#636efa\", \"opacity\": 0.9}, \"name\": \"Sound Collage\", \"offsetgroup\": \"Sound Collage\", \"orientation\": \"v\", \"showlegend\": true, \"textposition\": \"auto\", \"type\": \"bar\", \"x\": [\"Sound Collage\"], \"xaxis\": \"x\", \"y\": [1916], \"yaxis\": \"y\"}, {\"alignmentgroup\": \"True\", \"hovertemplate\": \"title=%{x}<br>#tracks=%{y}<extra></extra>\", \"legendgroup\": \"Flamenco\", \"marker\": {\"color\": \"#EF553B\", \"opacity\": 0.9}, \"name\": \"Flamenco\", \"offsetgroup\": \"Flamenco\", \"orientation\": \"v\", \"showlegend\": true, \"textposition\": \"auto\", \"type\": \"bar\", \"x\": [\"Flamenco\"], \"xaxis\": \"x\", \"y\": [47], \"yaxis\": \"y\"}, {\"alignmentgroup\": \"True\", \"hovertemplate\": \"title=%{x}<br>#tracks=%{y}<extra></extra>\", \"legendgroup\": \"IDM\", \"marker\": {\"color\": \"#00cc96\", \"opacity\": 0.9}, \"name\": \"IDM\", \"offsetgroup\": \"IDM\", \"orientation\": \"v\", \"showlegend\": true, \"textposition\": \"auto\", \"type\": \"bar\", \"x\": [\"IDM\"], \"xaxis\": \"x\", \"y\": [3472], \"yaxis\": \"y\"}, {\"alignmentgroup\": \"True\", \"hovertemplate\": \"title=%{x}<br>#tracks=%{y}<extra></extra>\", \"legendgroup\": \"Chiptune\", \"marker\": {\"color\": \"#ab63fa\", \"opacity\": 0.9}, \"name\": \"Chiptune\", \"offsetgroup\": \"Chiptune\", \"orientation\": \"v\", \"showlegend\": true, \"textposition\": \"auto\", \"type\": \"bar\", \"x\": [\"Chiptune\"], \"xaxis\": \"x\", \"y\": [1231], \"yaxis\": \"y\"}, {\"alignmentgroup\": \"True\", \"hovertemplate\": \"title=%{x}<br>#tracks=%{y}<extra></extra>\", \"legendgroup\": \"Musique Concrete\", \"marker\": {\"color\": \"#FFA15A\", \"opacity\": 0.9}, \"name\": \"Musique Concrete\", \"offsetgroup\": \"Musique Concrete\", \"orientation\": \"v\", \"showlegend\": true, \"textposition\": \"auto\", \"type\": \"bar\", \"x\": [\"Musique Concrete\"], \"xaxis\": \"x\", \"y\": [2957], \"yaxis\": \"y\"}, {\"alignmentgroup\": \"True\", \"hovertemplate\": \"title=%{x}<br>#tracks=%{y}<extra></extra>\", \"legendgroup\": \"Improv\", \"marker\": {\"color\": \"#19d3f3\", \"opacity\": 0.9}, \"name\": \"Improv\", \"offsetgroup\": \"Improv\", \"orientation\": \"v\", \"showlegend\": true, \"textposition\": \"auto\", \"type\": \"bar\", \"x\": [\"Improv\"], \"xaxis\": \"x\", \"y\": [4261], \"yaxis\": \"y\"}, {\"alignmentgroup\": \"True\", \"hovertemplate\": \"title=%{x}<br>#tracks=%{y}<extra></extra>\", \"legendgroup\": \"New Age\", \"marker\": {\"color\": \"#FF6692\", \"opacity\": 0.9}, \"name\": \"New Age\", \"offsetgroup\": \"New Age\", \"orientation\": \"v\", \"showlegend\": true, \"textposition\": \"auto\", \"type\": \"bar\", \"x\": [\"New Age\"], \"xaxis\": \"x\", \"y\": [360], \"yaxis\": \"y\"}, {\"alignmentgroup\": \"True\", \"hovertemplate\": \"title=%{x}<br>#tracks=%{y}<extra></extra>\", \"legendgroup\": \"Trip-Hop\", \"marker\": {\"color\": \"#B6E880\", \"opacity\": 0.9}, \"name\": \"Trip-Hop\", \"offsetgroup\": \"Trip-Hop\", \"orientation\": \"v\", \"showlegend\": true, \"textposition\": \"auto\", \"type\": \"bar\", \"x\": [\"Trip-Hop\"], \"xaxis\": \"x\", \"y\": [1751], \"yaxis\": \"y\"}, {\"alignmentgroup\": \"True\", \"hovertemplate\": \"title=%{x}<br>#tracks=%{y}<extra></extra>\", \"legendgroup\": \"Dance\", \"marker\": {\"color\": \"#FF97FF\", \"opacity\": 0.9}, \"name\": \"Dance\", \"offsetgroup\": \"Dance\", \"orientation\": \"v\", \"showlegend\": true, \"textposition\": \"auto\", \"type\": \"bar\", \"x\": [\"Dance\"], \"xaxis\": \"x\", \"y\": [1414], \"yaxis\": \"y\"}, {\"alignmentgroup\": \"True\", \"hovertemplate\": \"title=%{x}<br>#tracks=%{y}<extra></extra>\", \"legendgroup\": \"Chip Music\", \"marker\": {\"color\": \"#FECB52\", \"opacity\": 0.9}, \"name\": \"Chip Music\", \"offsetgroup\": \"Chip Music\", \"orientation\": \"v\", \"showlegend\": true, \"textposition\": \"auto\", \"type\": \"bar\", \"x\": [\"Chip Music\"], \"xaxis\": \"x\", \"y\": [2208], \"yaxis\": \"y\"}, {\"alignmentgroup\": \"True\", \"hovertemplate\": \"title=%{x}<br>#tracks=%{y}<extra></extra>\", \"legendgroup\": \"Lounge\", \"marker\": {\"color\": \"#636efa\", \"opacity\": 0.9}, \"name\": \"Lounge\", \"offsetgroup\": \"Lounge\", \"orientation\": \"v\", \"showlegend\": true, \"textposition\": \"auto\", \"type\": \"bar\", \"x\": [\"Lounge\"], \"xaxis\": \"x\", \"y\": [440], \"yaxis\": \"y\"}, {\"alignmentgroup\": \"True\", \"hovertemplate\": \"title=%{x}<br>#tracks=%{y}<extra></extra>\", \"legendgroup\": \"Goth\", \"marker\": {\"color\": \"#EF553B\", \"opacity\": 0.9}, \"name\": \"Goth\", \"offsetgroup\": \"Goth\", \"orientation\": \"v\", \"showlegend\": true, \"textposition\": \"auto\", \"type\": \"bar\", \"x\": [\"Goth\"], \"xaxis\": \"x\", \"y\": [482], \"yaxis\": \"y\"}, {\"alignmentgroup\": \"True\", \"hovertemplate\": \"title=%{x}<br>#tracks=%{y}<extra></extra>\", \"legendgroup\": \"Composed Music\", \"marker\": {\"color\": \"#00cc96\", \"opacity\": 0.9}, \"name\": \"Composed Music\", \"offsetgroup\": \"Composed Music\", \"orientation\": \"v\", \"showlegend\": true, \"textposition\": \"auto\", \"type\": \"bar\", \"x\": [\"Composed Music\"], \"xaxis\": \"x\", \"y\": [630], \"yaxis\": \"y\"}, {\"alignmentgroup\": \"True\", \"hovertemplate\": \"title=%{x}<br>#tracks=%{y}<extra></extra>\", \"legendgroup\": \"Drum & Bass\", \"marker\": {\"color\": \"#ab63fa\", \"opacity\": 0.9}, \"name\": \"Drum & Bass\", \"offsetgroup\": \"Drum & Bass\", \"orientation\": \"v\", \"showlegend\": true, \"textposition\": \"auto\", \"type\": \"bar\", \"x\": [\"Drum & Bass\"], \"xaxis\": \"x\", \"y\": [500], \"yaxis\": \"y\"}, {\"alignmentgroup\": \"True\", \"hovertemplate\": \"title=%{x}<br>#tracks=%{y}<extra></extra>\", \"legendgroup\": \"Shoegaze\", \"marker\": {\"color\": \"#FFA15A\", \"opacity\": 0.9}, \"name\": \"Shoegaze\", \"offsetgroup\": \"Shoegaze\", \"orientation\": \"v\", \"showlegend\": true, \"textposition\": \"auto\", \"type\": \"bar\", \"x\": [\"Shoegaze\"], \"xaxis\": \"x\", \"y\": [762], \"yaxis\": \"y\"}, {\"alignmentgroup\": \"True\", \"hovertemplate\": \"title=%{x}<br>#tracks=%{y}<extra></extra>\", \"legendgroup\": \"Kid-Friendly\", \"marker\": {\"color\": \"#19d3f3\", \"opacity\": 0.9}, \"name\": \"Kid-Friendly\", \"offsetgroup\": \"Kid-Friendly\", \"orientation\": \"v\", \"showlegend\": true, \"textposition\": \"auto\", \"type\": \"bar\", \"x\": [\"Kid-Friendly\"], \"xaxis\": \"x\", \"y\": [201], \"yaxis\": \"y\"}, {\"alignmentgroup\": \"True\", \"hovertemplate\": \"title=%{x}<br>#tracks=%{y}<extra></extra>\", \"legendgroup\": \"Thrash\", \"marker\": {\"color\": \"#FF6692\", \"opacity\": 0.9}, \"name\": \"Thrash\", \"offsetgroup\": \"Thrash\", \"orientation\": \"v\", \"showlegend\": true, \"textposition\": \"auto\", \"type\": \"bar\", \"x\": [\"Thrash\"], \"xaxis\": \"x\", \"y\": [175], \"yaxis\": \"y\"}, {\"alignmentgroup\": \"True\", \"hovertemplate\": \"title=%{x}<br>#tracks=%{y}<extra></extra>\", \"legendgroup\": \"Synth Pop\", \"marker\": {\"color\": \"#B6E880\", \"opacity\": 0.9}, \"name\": \"Synth Pop\", \"offsetgroup\": \"Synth Pop\", \"orientation\": \"v\", \"showlegend\": true, \"textposition\": \"auto\", \"type\": \"bar\", \"x\": [\"Synth Pop\"], \"xaxis\": \"x\", \"y\": [1835], \"yaxis\": \"y\"}, {\"alignmentgroup\": \"True\", \"hovertemplate\": \"title=%{x}<br>#tracks=%{y}<extra></extra>\", \"legendgroup\": \"Banter\", \"marker\": {\"color\": \"#FF97FF\", \"opacity\": 0.9}, \"name\": \"Banter\", \"offsetgroup\": \"Banter\", \"orientation\": \"v\", \"showlegend\": true, \"textposition\": \"auto\", \"type\": \"bar\", \"x\": [\"Banter\"], \"xaxis\": \"x\", \"y\": [9], \"yaxis\": \"y\"}, {\"alignmentgroup\": \"True\", \"hovertemplate\": \"title=%{x}<br>#tracks=%{y}<extra></extra>\", \"legendgroup\": \"Deep Funk\", \"marker\": {\"color\": \"#FECB52\", \"opacity\": 0.9}, \"name\": \"Deep Funk\", \"offsetgroup\": \"Deep Funk\", \"orientation\": \"v\", \"showlegend\": true, \"textposition\": \"auto\", \"type\": \"bar\", \"x\": [\"Deep Funk\"], \"xaxis\": \"x\", \"y\": [1], \"yaxis\": \"y\"}, {\"alignmentgroup\": \"True\", \"hovertemplate\": \"title=%{x}<br>#tracks=%{y}<extra></extra>\", \"legendgroup\": \"Spoken Word\", \"marker\": {\"color\": \"#636efa\", \"opacity\": 0.9}, \"name\": \"Spoken Word\", \"offsetgroup\": \"Spoken Word\", \"orientation\": \"v\", \"showlegend\": true, \"textposition\": \"auto\", \"type\": \"bar\", \"x\": [\"Spoken Word\"], \"xaxis\": \"x\", \"y\": [177], \"yaxis\": \"y\"}, {\"alignmentgroup\": \"True\", \"hovertemplate\": \"title=%{x}<br>#tracks=%{y}<extra></extra>\", \"legendgroup\": \"Chill-out\", \"marker\": {\"color\": \"#EF553B\", \"opacity\": 0.9}, \"name\": \"Chill-out\", \"offsetgroup\": \"Chill-out\", \"orientation\": \"v\", \"showlegend\": true, \"textposition\": \"auto\", \"type\": \"bar\", \"x\": [\"Chill-out\"], \"xaxis\": \"x\", \"y\": [823], \"yaxis\": \"y\"}, {\"alignmentgroup\": \"True\", \"hovertemplate\": \"title=%{x}<br>#tracks=%{y}<extra></extra>\", \"legendgroup\": \"Bigbeat\", \"marker\": {\"color\": \"#00cc96\", \"opacity\": 0.9}, \"name\": \"Bigbeat\", \"offsetgroup\": \"Bigbeat\", \"orientation\": \"v\", \"showlegend\": true, \"textposition\": \"auto\", \"type\": \"bar\", \"x\": [\"Bigbeat\"], \"xaxis\": \"x\", \"y\": [189], \"yaxis\": \"y\"}, {\"alignmentgroup\": \"True\", \"hovertemplate\": \"title=%{x}<br>#tracks=%{y}<extra></extra>\", \"legendgroup\": \"Surf\", \"marker\": {\"color\": \"#ab63fa\", \"opacity\": 0.9}, \"name\": \"Surf\", \"offsetgroup\": \"Surf\", \"orientation\": \"v\", \"showlegend\": true, \"textposition\": \"auto\", \"type\": \"bar\", \"x\": [\"Surf\"], \"xaxis\": \"x\", \"y\": [265], \"yaxis\": \"y\"}, {\"alignmentgroup\": \"True\", \"hovertemplate\": \"title=%{x}<br>#tracks=%{y}<extra></extra>\", \"legendgroup\": \"Radio Theater\", \"marker\": {\"color\": \"#FFA15A\", \"opacity\": 0.9}, \"name\": \"Radio Theater\", \"offsetgroup\": \"Radio Theater\", \"orientation\": \"v\", \"showlegend\": true, \"textposition\": \"auto\", \"type\": \"bar\", \"x\": [\"Radio Theater\"], \"xaxis\": \"x\", \"y\": [73], \"yaxis\": \"y\"}, {\"alignmentgroup\": \"True\", \"hovertemplate\": \"title=%{x}<br>#tracks=%{y}<extra></extra>\", \"legendgroup\": \"Grindcore\", \"marker\": {\"color\": \"#19d3f3\", \"opacity\": 0.9}, \"name\": \"Grindcore\", \"offsetgroup\": \"Grindcore\", \"orientation\": \"v\", \"showlegend\": true, \"textposition\": \"auto\", \"type\": \"bar\", \"x\": [\"Grindcore\"], \"xaxis\": \"x\", \"y\": [314], \"yaxis\": \"y\"}, {\"alignmentgroup\": \"True\", \"hovertemplate\": \"title=%{x}<br>#tracks=%{y}<extra></extra>\", \"legendgroup\": \"Rock Opera\", \"marker\": {\"color\": \"#FF6692\", \"opacity\": 0.9}, \"name\": \"Rock Opera\", \"offsetgroup\": \"Rock Opera\", \"orientation\": \"v\", \"showlegend\": true, \"textposition\": \"auto\", \"type\": \"bar\", \"x\": [\"Rock Opera\"], \"xaxis\": \"x\", \"y\": [116], \"yaxis\": \"y\"}, {\"alignmentgroup\": \"True\", \"hovertemplate\": \"title=%{x}<br>#tracks=%{y}<extra></extra>\", \"legendgroup\": \"Opera\", \"marker\": {\"color\": \"#B6E880\", \"opacity\": 0.9}, \"name\": \"Opera\", \"offsetgroup\": \"Opera\", \"orientation\": \"v\", \"showlegend\": true, \"textposition\": \"auto\", \"type\": \"bar\", \"x\": [\"Opera\"], \"xaxis\": \"x\", \"y\": [161], \"yaxis\": \"y\"}, {\"alignmentgroup\": \"True\", \"hovertemplate\": \"title=%{x}<br>#tracks=%{y}<extra></extra>\", \"legendgroup\": \"Chamber Music\", \"marker\": {\"color\": \"#FF97FF\", \"opacity\": 0.9}, \"name\": \"Chamber Music\", \"offsetgroup\": \"Chamber Music\", \"orientation\": \"v\", \"showlegend\": true, \"textposition\": \"auto\", \"type\": \"bar\", \"x\": [\"Chamber Music\"], \"xaxis\": \"x\", \"y\": [170], \"yaxis\": \"y\"}, {\"alignmentgroup\": \"True\", \"hovertemplate\": \"title=%{x}<br>#tracks=%{y}<extra></extra>\", \"legendgroup\": \"Choral Music\", \"marker\": {\"color\": \"#FECB52\", \"opacity\": 0.9}, \"name\": \"Choral Music\", \"offsetgroup\": \"Choral Music\", \"orientation\": \"v\", \"showlegend\": true, \"textposition\": \"auto\", \"type\": \"bar\", \"x\": [\"Choral Music\"], \"xaxis\": \"x\", \"y\": [216], \"yaxis\": \"y\"}, {\"alignmentgroup\": \"True\", \"hovertemplate\": \"title=%{x}<br>#tracks=%{y}<extra></extra>\", \"legendgroup\": \"Symphony\", \"marker\": {\"color\": \"#636efa\", \"opacity\": 0.9}, \"name\": \"Symphony\", \"offsetgroup\": \"Symphony\", \"orientation\": \"v\", \"showlegend\": true, \"textposition\": \"auto\", \"type\": \"bar\", \"x\": [\"Symphony\"], \"xaxis\": \"x\", \"y\": [25], \"yaxis\": \"y\"}, {\"alignmentgroup\": \"True\", \"hovertemplate\": \"title=%{x}<br>#tracks=%{y}<extra></extra>\", \"legendgroup\": \"Minimalism\", \"marker\": {\"color\": \"#EF553B\", \"opacity\": 0.9}, \"name\": \"Minimalism\", \"offsetgroup\": \"Minimalism\", \"orientation\": \"v\", \"showlegend\": true, \"textposition\": \"auto\", \"type\": \"bar\", \"x\": [\"Minimalism\"], \"xaxis\": \"x\", \"y\": [1392], \"yaxis\": \"y\"}, {\"alignmentgroup\": \"True\", \"hovertemplate\": \"title=%{x}<br>#tracks=%{y}<extra></extra>\", \"legendgroup\": \"Musical Theater\", \"marker\": {\"color\": \"#00cc96\", \"opacity\": 0.9}, \"name\": \"Musical Theater\", \"offsetgroup\": \"Musical Theater\", \"orientation\": \"v\", \"showlegend\": true, \"textposition\": \"auto\", \"type\": \"bar\", \"x\": [\"Musical Theater\"], \"xaxis\": \"x\", \"y\": [18], \"yaxis\": \"y\"}, {\"alignmentgroup\": \"True\", \"hovertemplate\": \"title=%{x}<br>#tracks=%{y}<extra></extra>\", \"legendgroup\": \"Dubstep\", \"marker\": {\"color\": \"#ab63fa\", \"opacity\": 0.9}, \"name\": \"Dubstep\", \"offsetgroup\": \"Dubstep\", \"orientation\": \"v\", \"showlegend\": true, \"textposition\": \"auto\", \"type\": \"bar\", \"x\": [\"Dubstep\"], \"xaxis\": \"x\", \"y\": [1144], \"yaxis\": \"y\"}, {\"alignmentgroup\": \"True\", \"hovertemplate\": \"title=%{x}<br>#tracks=%{y}<extra></extra>\", \"legendgroup\": \"Skweee\", \"marker\": {\"color\": \"#FFA15A\", \"opacity\": 0.9}, \"name\": \"Skweee\", \"offsetgroup\": \"Skweee\", \"orientation\": \"v\", \"showlegend\": true, \"textposition\": \"auto\", \"type\": \"bar\", \"x\": [\"Skweee\"], \"xaxis\": \"x\", \"y\": [78], \"yaxis\": \"y\"}, {\"alignmentgroup\": \"True\", \"hovertemplate\": \"title=%{x}<br>#tracks=%{y}<extra></extra>\", \"legendgroup\": \"Western Swing\", \"marker\": {\"color\": \"#19d3f3\", \"opacity\": 0.9}, \"name\": \"Western Swing\", \"offsetgroup\": \"Western Swing\", \"orientation\": \"v\", \"showlegend\": true, \"textposition\": \"auto\", \"type\": \"bar\", \"x\": [\"Western Swing\"], \"xaxis\": \"x\", \"y\": [4], \"yaxis\": \"y\"}, {\"alignmentgroup\": \"True\", \"hovertemplate\": \"title=%{x}<br>#tracks=%{y}<extra></extra>\", \"legendgroup\": \"Downtempo\", \"marker\": {\"color\": \"#FF6692\", \"opacity\": 0.9}, \"name\": \"Downtempo\", \"offsetgroup\": \"Downtempo\", \"orientation\": \"v\", \"showlegend\": true, \"textposition\": \"auto\", \"type\": \"bar\", \"x\": [\"Downtempo\"], \"xaxis\": \"x\", \"y\": [2061], \"yaxis\": \"y\"}, {\"alignmentgroup\": \"True\", \"hovertemplate\": \"title=%{x}<br>#tracks=%{y}<extra></extra>\", \"legendgroup\": \"Cumbia\", \"marker\": {\"color\": \"#B6E880\", \"opacity\": 0.9}, \"name\": \"Cumbia\", \"offsetgroup\": \"Cumbia\", \"orientation\": \"v\", \"showlegend\": true, \"textposition\": \"auto\", \"type\": \"bar\", \"x\": [\"Cumbia\"], \"xaxis\": \"x\", \"y\": [67], \"yaxis\": \"y\"}, {\"alignmentgroup\": \"True\", \"hovertemplate\": \"title=%{x}<br>#tracks=%{y}<extra></extra>\", \"legendgroup\": \"Latin\", \"marker\": {\"color\": \"#FF97FF\", \"opacity\": 0.9}, \"name\": \"Latin\", \"offsetgroup\": \"Latin\", \"orientation\": \"v\", \"showlegend\": true, \"textposition\": \"auto\", \"type\": \"bar\", \"x\": [\"Latin\"], \"xaxis\": \"x\", \"y\": [114], \"yaxis\": \"y\"}, {\"alignmentgroup\": \"True\", \"hovertemplate\": \"title=%{x}<br>#tracks=%{y}<extra></extra>\", \"legendgroup\": \"Sound Art\", \"marker\": {\"color\": \"#FECB52\", \"opacity\": 0.9}, \"name\": \"Sound Art\", \"offsetgroup\": \"Sound Art\", \"orientation\": \"v\", \"showlegend\": true, \"textposition\": \"auto\", \"type\": \"bar\", \"x\": [\"Sound Art\"], \"xaxis\": \"x\", \"y\": [1414], \"yaxis\": \"y\"}, {\"alignmentgroup\": \"True\", \"hovertemplate\": \"title=%{x}<br>#tracks=%{y}<extra></extra>\", \"legendgroup\": \"Romany (Gypsy)\", \"marker\": {\"color\": \"#636efa\", \"opacity\": 0.9}, \"name\": \"Romany (Gypsy)\", \"offsetgroup\": \"Romany (Gypsy)\", \"orientation\": \"v\", \"showlegend\": true, \"textposition\": \"auto\", \"type\": \"bar\", \"x\": [\"Romany (Gypsy)\"], \"xaxis\": \"x\", \"y\": [112], \"yaxis\": \"y\"}, {\"alignmentgroup\": \"True\", \"hovertemplate\": \"title=%{x}<br>#tracks=%{y}<extra></extra>\", \"legendgroup\": \"Compilation\", \"marker\": {\"color\": \"#EF553B\", \"opacity\": 0.9}, \"name\": \"Compilation\", \"offsetgroup\": \"Compilation\", \"orientation\": \"v\", \"showlegend\": true, \"textposition\": \"auto\", \"type\": \"bar\", \"x\": [\"Compilation\"], \"xaxis\": \"x\", \"y\": [338], \"yaxis\": \"y\"}, {\"alignmentgroup\": \"True\", \"hovertemplate\": \"title=%{x}<br>#tracks=%{y}<extra></extra>\", \"legendgroup\": \"Rap\", \"marker\": {\"color\": \"#00cc96\", \"opacity\": 0.9}, \"name\": \"Rap\", \"offsetgroup\": \"Rap\", \"orientation\": \"v\", \"showlegend\": true, \"textposition\": \"auto\", \"type\": \"bar\", \"x\": [\"Rap\"], \"xaxis\": \"x\", \"y\": [638], \"yaxis\": \"y\"}, {\"alignmentgroup\": \"True\", \"hovertemplate\": \"title=%{x}<br>#tracks=%{y}<extra></extra>\", \"legendgroup\": \"Breakbeat\", \"marker\": {\"color\": \"#ab63fa\", \"opacity\": 0.9}, \"name\": \"Breakbeat\", \"offsetgroup\": \"Breakbeat\", \"orientation\": \"v\", \"showlegend\": true, \"textposition\": \"auto\", \"type\": \"bar\", \"x\": [\"Breakbeat\"], \"xaxis\": \"x\", \"y\": [735], \"yaxis\": \"y\"}, {\"alignmentgroup\": \"True\", \"hovertemplate\": \"title=%{x}<br>#tracks=%{y}<extra></extra>\", \"legendgroup\": \"Gospel\", \"marker\": {\"color\": \"#FFA15A\", \"opacity\": 0.9}, \"name\": \"Gospel\", \"offsetgroup\": \"Gospel\", \"orientation\": \"v\", \"showlegend\": true, \"textposition\": \"auto\", \"type\": \"bar\", \"x\": [\"Gospel\"], \"xaxis\": \"x\", \"y\": [66], \"yaxis\": \"y\"}, {\"alignmentgroup\": \"True\", \"hovertemplate\": \"title=%{x}<br>#tracks=%{y}<extra></extra>\", \"legendgroup\": \"Abstract Hip-Hop\", \"marker\": {\"color\": \"#19d3f3\", \"opacity\": 0.9}, \"name\": \"Abstract Hip-Hop\", \"offsetgroup\": \"Abstract Hip-Hop\", \"orientation\": \"v\", \"showlegend\": true, \"textposition\": \"auto\", \"type\": \"bar\", \"x\": [\"Abstract Hip-Hop\"], \"xaxis\": \"x\", \"y\": [202], \"yaxis\": \"y\"}, {\"alignmentgroup\": \"True\", \"hovertemplate\": \"title=%{x}<br>#tracks=%{y}<extra></extra>\", \"legendgroup\": \"Reggae - Dancehall\", \"marker\": {\"color\": \"#FF6692\", \"opacity\": 0.9}, \"name\": \"Reggae - Dancehall\", \"offsetgroup\": \"Reggae - Dancehall\", \"orientation\": \"v\", \"showlegend\": true, \"textposition\": \"auto\", \"type\": \"bar\", \"x\": [\"Reggae - Dancehall\"], \"xaxis\": \"x\", \"y\": [94], \"yaxis\": \"y\"}, {\"alignmentgroup\": \"True\", \"hovertemplate\": \"title=%{x}<br>#tracks=%{y}<extra></extra>\", \"legendgroup\": \"Spanish\", \"marker\": {\"color\": \"#B6E880\", \"opacity\": 0.9}, \"name\": \"Spanish\", \"offsetgroup\": \"Spanish\", \"orientation\": \"v\", \"showlegend\": true, \"textposition\": \"auto\", \"type\": \"bar\", \"x\": [\"Spanish\"], \"xaxis\": \"x\", \"y\": [115], \"yaxis\": \"y\"}, {\"alignmentgroup\": \"True\", \"hovertemplate\": \"title=%{x}<br>#tracks=%{y}<extra></extra>\", \"legendgroup\": \"Country & Western\", \"marker\": {\"color\": \"#FF97FF\", \"opacity\": 0.9}, \"name\": \"Country & Western\", \"offsetgroup\": \"Country & Western\", \"orientation\": \"v\", \"showlegend\": true, \"textposition\": \"auto\", \"type\": \"bar\", \"x\": [\"Country & Western\"], \"xaxis\": \"x\", \"y\": [79], \"yaxis\": \"y\"}, {\"alignmentgroup\": \"True\", \"hovertemplate\": \"title=%{x}<br>#tracks=%{y}<extra></extra>\", \"legendgroup\": \"Contemporary Classical\", \"marker\": {\"color\": \"#FECB52\", \"opacity\": 0.9}, \"name\": \"Contemporary Classical\", \"offsetgroup\": \"Contemporary Classical\", \"orientation\": \"v\", \"showlegend\": true, \"textposition\": \"auto\", \"type\": \"bar\", \"x\": [\"Contemporary Classical\"], \"xaxis\": \"x\", \"y\": [1239], \"yaxis\": \"y\"}, {\"alignmentgroup\": \"True\", \"hovertemplate\": \"title=%{x}<br>#tracks=%{y}<extra></extra>\", \"legendgroup\": \"Wonky\", \"marker\": {\"color\": \"#636efa\", \"opacity\": 0.9}, \"name\": \"Wonky\", \"offsetgroup\": \"Wonky\", \"orientation\": \"v\", \"showlegend\": true, \"textposition\": \"auto\", \"type\": \"bar\", \"x\": [\"Wonky\"], \"xaxis\": \"x\", \"y\": [56], \"yaxis\": \"y\"}, {\"alignmentgroup\": \"True\", \"hovertemplate\": \"title=%{x}<br>#tracks=%{y}<extra></extra>\", \"legendgroup\": \"Jungle\", \"marker\": {\"color\": \"#EF553B\", \"opacity\": 0.9}, \"name\": \"Jungle\", \"offsetgroup\": \"Jungle\", \"orientation\": \"v\", \"showlegend\": true, \"textposition\": \"auto\", \"type\": \"bar\", \"x\": [\"Jungle\"], \"xaxis\": \"x\", \"y\": [258], \"yaxis\": \"y\"}, {\"alignmentgroup\": \"True\", \"hovertemplate\": \"title=%{x}<br>#tracks=%{y}<extra></extra>\", \"legendgroup\": \"Klezmer\", \"marker\": {\"color\": \"#00cc96\", \"opacity\": 0.9}, \"name\": \"Klezmer\", \"offsetgroup\": \"Klezmer\", \"orientation\": \"v\", \"showlegend\": true, \"textposition\": \"auto\", \"type\": \"bar\", \"x\": [\"Klezmer\"], \"xaxis\": \"x\", \"y\": [57], \"yaxis\": \"y\"}, {\"alignmentgroup\": \"True\", \"hovertemplate\": \"title=%{x}<br>#tracks=%{y}<extra></extra>\", \"legendgroup\": \"Holiday\", \"marker\": {\"color\": \"#ab63fa\", \"opacity\": 0.9}, \"name\": \"Holiday\", \"offsetgroup\": \"Holiday\", \"orientation\": \"v\", \"showlegend\": true, \"textposition\": \"auto\", \"type\": \"bar\", \"x\": [\"Holiday\"], \"xaxis\": \"x\", \"y\": [268], \"yaxis\": \"y\"}, {\"alignmentgroup\": \"True\", \"hovertemplate\": \"title=%{x}<br>#tracks=%{y}<extra></extra>\", \"legendgroup\": \"Salsa\", \"marker\": {\"color\": \"#FFA15A\", \"opacity\": 0.9}, \"name\": \"Salsa\", \"offsetgroup\": \"Salsa\", \"orientation\": \"v\", \"showlegend\": true, \"textposition\": \"auto\", \"type\": \"bar\", \"x\": [\"Salsa\"], \"xaxis\": \"x\", \"y\": [12], \"yaxis\": \"y\"}, {\"alignmentgroup\": \"True\", \"hovertemplate\": \"title=%{x}<br>#tracks=%{y}<extra></extra>\", \"legendgroup\": \"Nu-Jazz\", \"marker\": {\"color\": \"#19d3f3\", \"opacity\": 0.9}, \"name\": \"Nu-Jazz\", \"offsetgroup\": \"Nu-Jazz\", \"orientation\": \"v\", \"showlegend\": true, \"textposition\": \"auto\", \"type\": \"bar\", \"x\": [\"Nu-Jazz\"], \"xaxis\": \"x\", \"y\": [120], \"yaxis\": \"y\"}, {\"alignmentgroup\": \"True\", \"hovertemplate\": \"title=%{x}<br>#tracks=%{y}<extra></extra>\", \"legendgroup\": \"Hip-Hop Beats\", \"marker\": {\"color\": \"#FF6692\", \"opacity\": 0.9}, \"name\": \"Hip-Hop Beats\", \"offsetgroup\": \"Hip-Hop Beats\", \"orientation\": \"v\", \"showlegend\": true, \"textposition\": \"auto\", \"type\": \"bar\", \"x\": [\"Hip-Hop Beats\"], \"xaxis\": \"x\", \"y\": [1192], \"yaxis\": \"y\"}, {\"alignmentgroup\": \"True\", \"hovertemplate\": \"title=%{x}<br>#tracks=%{y}<extra></extra>\", \"legendgroup\": \"Modern Jazz\", \"marker\": {\"color\": \"#B6E880\", \"opacity\": 0.9}, \"name\": \"Modern Jazz\", \"offsetgroup\": \"Modern Jazz\", \"orientation\": \"v\", \"showlegend\": true, \"textposition\": \"auto\", \"type\": \"bar\", \"x\": [\"Modern Jazz\"], \"xaxis\": \"x\", \"y\": [107], \"yaxis\": \"y\"}, {\"alignmentgroup\": \"True\", \"hovertemplate\": \"title=%{x}<br>#tracks=%{y}<extra></extra>\", \"legendgroup\": \"Turkish\", \"marker\": {\"color\": \"#FF97FF\", \"opacity\": 0.9}, \"name\": \"Turkish\", \"offsetgroup\": \"Turkish\", \"orientation\": \"v\", \"showlegend\": true, \"textposition\": \"auto\", \"type\": \"bar\", \"x\": [\"Turkish\"], \"xaxis\": \"x\", \"y\": [60], \"yaxis\": \"y\"}, {\"alignmentgroup\": \"True\", \"hovertemplate\": \"title=%{x}<br>#tracks=%{y}<extra></extra>\", \"legendgroup\": \"Tango\", \"marker\": {\"color\": \"#FECB52\", \"opacity\": 0.9}, \"name\": \"Tango\", \"offsetgroup\": \"Tango\", \"orientation\": \"v\", \"showlegend\": true, \"textposition\": \"auto\", \"type\": \"bar\", \"x\": [\"Tango\"], \"xaxis\": \"x\", \"y\": [30], \"yaxis\": \"y\"}, {\"alignmentgroup\": \"True\", \"hovertemplate\": \"title=%{x}<br>#tracks=%{y}<extra></extra>\", \"legendgroup\": \"Fado\", \"marker\": {\"color\": \"#636efa\", \"opacity\": 0.9}, \"name\": \"Fado\", \"offsetgroup\": \"Fado\", \"orientation\": \"v\", \"showlegend\": true, \"textposition\": \"auto\", \"type\": \"bar\", \"x\": [\"Fado\"], \"xaxis\": \"x\", \"y\": [26], \"yaxis\": \"y\"}, {\"alignmentgroup\": \"True\", \"hovertemplate\": \"title=%{x}<br>#tracks=%{y}<extra></extra>\", \"legendgroup\": \"Christmas\", \"marker\": {\"color\": \"#EF553B\", \"opacity\": 0.9}, \"name\": \"Christmas\", \"offsetgroup\": \"Christmas\", \"orientation\": \"v\", \"showlegend\": true, \"textposition\": \"auto\", \"type\": \"bar\", \"x\": [\"Christmas\"], \"xaxis\": \"x\", \"y\": [72], \"yaxis\": \"y\"}, {\"alignmentgroup\": \"True\", \"hovertemplate\": \"title=%{x}<br>#tracks=%{y}<extra></extra>\", \"legendgroup\": \"Instrumental\", \"marker\": {\"color\": \"#00cc96\", \"opacity\": 0.9}, \"name\": \"Instrumental\", \"offsetgroup\": \"Instrumental\", \"orientation\": \"v\", \"showlegend\": true, \"textposition\": \"auto\", \"type\": \"bar\", \"x\": [\"Instrumental\"], \"xaxis\": \"x\", \"y\": [14938], \"yaxis\": \"y\"}],                        {\"barmode\": \"relative\", \"legend\": {\"title\": {\"text\": \"title\"}, \"tracegroupgap\": 0}, \"template\": {\"data\": {\"bar\": [{\"error_x\": {\"color\": \"#2a3f5f\"}, \"error_y\": {\"color\": \"#2a3f5f\"}, \"marker\": {\"line\": {\"color\": \"#E5ECF6\", \"width\": 0.5}}, \"type\": \"bar\"}], \"barpolar\": [{\"marker\": {\"line\": {\"color\": \"#E5ECF6\", \"width\": 0.5}}, \"type\": \"barpolar\"}], \"carpet\": [{\"aaxis\": {\"endlinecolor\": \"#2a3f5f\", \"gridcolor\": \"white\", \"linecolor\": \"white\", \"minorgridcolor\": \"white\", \"startlinecolor\": \"#2a3f5f\"}, \"baxis\": {\"endlinecolor\": \"#2a3f5f\", \"gridcolor\": \"white\", \"linecolor\": \"white\", \"minorgridcolor\": \"white\", \"startlinecolor\": \"#2a3f5f\"}, \"type\": \"carpet\"}], \"choropleth\": [{\"colorbar\": {\"outlinewidth\": 0, \"ticks\": \"\"}, \"type\": \"choropleth\"}], \"contour\": [{\"colorbar\": {\"outlinewidth\": 0, \"ticks\": \"\"}, \"colorscale\": [[0.0, \"#0d0887\"], [0.1111111111111111, \"#46039f\"], [0.2222222222222222, \"#7201a8\"], [0.3333333333333333, \"#9c179e\"], [0.4444444444444444, \"#bd3786\"], [0.5555555555555556, \"#d8576b\"], [0.6666666666666666, \"#ed7953\"], [0.7777777777777778, \"#fb9f3a\"], [0.8888888888888888, \"#fdca26\"], [1.0, \"#f0f921\"]], \"type\": \"contour\"}], \"contourcarpet\": [{\"colorbar\": {\"outlinewidth\": 0, \"ticks\": \"\"}, \"type\": \"contourcarpet\"}], \"heatmap\": [{\"colorbar\": {\"outlinewidth\": 0, \"ticks\": \"\"}, \"colorscale\": [[0.0, \"#0d0887\"], [0.1111111111111111, \"#46039f\"], [0.2222222222222222, \"#7201a8\"], [0.3333333333333333, \"#9c179e\"], [0.4444444444444444, \"#bd3786\"], [0.5555555555555556, \"#d8576b\"], [0.6666666666666666, \"#ed7953\"], [0.7777777777777778, \"#fb9f3a\"], [0.8888888888888888, \"#fdca26\"], [1.0, \"#f0f921\"]], \"type\": \"heatmap\"}], \"heatmapgl\": [{\"colorbar\": {\"outlinewidth\": 0, \"ticks\": \"\"}, \"colorscale\": [[0.0, \"#0d0887\"], [0.1111111111111111, \"#46039f\"], [0.2222222222222222, \"#7201a8\"], [0.3333333333333333, \"#9c179e\"], [0.4444444444444444, \"#bd3786\"], [0.5555555555555556, \"#d8576b\"], [0.6666666666666666, \"#ed7953\"], [0.7777777777777778, \"#fb9f3a\"], [0.8888888888888888, \"#fdca26\"], [1.0, \"#f0f921\"]], \"type\": \"heatmapgl\"}], \"histogram\": [{\"marker\": {\"colorbar\": {\"outlinewidth\": 0, \"ticks\": \"\"}}, \"type\": \"histogram\"}], \"histogram2d\": [{\"colorbar\": {\"outlinewidth\": 0, \"ticks\": \"\"}, \"colorscale\": [[0.0, \"#0d0887\"], [0.1111111111111111, \"#46039f\"], [0.2222222222222222, \"#7201a8\"], [0.3333333333333333, \"#9c179e\"], [0.4444444444444444, \"#bd3786\"], [0.5555555555555556, \"#d8576b\"], [0.6666666666666666, \"#ed7953\"], [0.7777777777777778, \"#fb9f3a\"], [0.8888888888888888, \"#fdca26\"], [1.0, \"#f0f921\"]], \"type\": \"histogram2d\"}], \"histogram2dcontour\": [{\"colorbar\": {\"outlinewidth\": 0, \"ticks\": \"\"}, \"colorscale\": [[0.0, \"#0d0887\"], [0.1111111111111111, \"#46039f\"], [0.2222222222222222, \"#7201a8\"], [0.3333333333333333, \"#9c179e\"], [0.4444444444444444, \"#bd3786\"], [0.5555555555555556, \"#d8576b\"], [0.6666666666666666, \"#ed7953\"], [0.7777777777777778, \"#fb9f3a\"], [0.8888888888888888, \"#fdca26\"], [1.0, \"#f0f921\"]], \"type\": \"histogram2dcontour\"}], \"mesh3d\": [{\"colorbar\": {\"outlinewidth\": 0, \"ticks\": \"\"}, \"type\": \"mesh3d\"}], \"parcoords\": [{\"line\": {\"colorbar\": {\"outlinewidth\": 0, \"ticks\": \"\"}}, \"type\": \"parcoords\"}], \"pie\": [{\"automargin\": true, \"type\": \"pie\"}], \"scatter\": [{\"marker\": {\"colorbar\": {\"outlinewidth\": 0, \"ticks\": \"\"}}, \"type\": \"scatter\"}], \"scatter3d\": [{\"line\": {\"colorbar\": {\"outlinewidth\": 0, \"ticks\": \"\"}}, \"marker\": {\"colorbar\": {\"outlinewidth\": 0, \"ticks\": \"\"}}, \"type\": \"scatter3d\"}], \"scattercarpet\": [{\"marker\": {\"colorbar\": {\"outlinewidth\": 0, \"ticks\": \"\"}}, \"type\": \"scattercarpet\"}], \"scattergeo\": [{\"marker\": {\"colorbar\": {\"outlinewidth\": 0, \"ticks\": \"\"}}, \"type\": \"scattergeo\"}], \"scattergl\": [{\"marker\": {\"colorbar\": {\"outlinewidth\": 0, \"ticks\": \"\"}}, \"type\": \"scattergl\"}], \"scattermapbox\": [{\"marker\": {\"colorbar\": {\"outlinewidth\": 0, \"ticks\": \"\"}}, \"type\": \"scattermapbox\"}], \"scatterpolar\": [{\"marker\": {\"colorbar\": {\"outlinewidth\": 0, \"ticks\": \"\"}}, \"type\": \"scatterpolar\"}], \"scatterpolargl\": [{\"marker\": {\"colorbar\": {\"outlinewidth\": 0, \"ticks\": \"\"}}, \"type\": \"scatterpolargl\"}], \"scatterternary\": [{\"marker\": {\"colorbar\": {\"outlinewidth\": 0, \"ticks\": \"\"}}, \"type\": \"scatterternary\"}], \"surface\": [{\"colorbar\": {\"outlinewidth\": 0, \"ticks\": \"\"}, \"colorscale\": [[0.0, \"#0d0887\"], [0.1111111111111111, \"#46039f\"], [0.2222222222222222, \"#7201a8\"], [0.3333333333333333, \"#9c179e\"], [0.4444444444444444, \"#bd3786\"], [0.5555555555555556, \"#d8576b\"], [0.6666666666666666, \"#ed7953\"], [0.7777777777777778, \"#fb9f3a\"], [0.8888888888888888, \"#fdca26\"], [1.0, \"#f0f921\"]], \"type\": \"surface\"}], \"table\": [{\"cells\": {\"fill\": {\"color\": \"#EBF0F8\"}, \"line\": {\"color\": \"white\"}}, \"header\": {\"fill\": {\"color\": \"#C8D4E3\"}, \"line\": {\"color\": \"white\"}}, \"type\": \"table\"}]}, \"layout\": {\"annotationdefaults\": {\"arrowcolor\": \"#2a3f5f\", \"arrowhead\": 0, \"arrowwidth\": 1}, \"autotypenumbers\": \"strict\", \"coloraxis\": {\"colorbar\": {\"outlinewidth\": 0, \"ticks\": \"\"}}, \"colorscale\": {\"diverging\": [[0, \"#8e0152\"], [0.1, \"#c51b7d\"], [0.2, \"#de77ae\"], [0.3, \"#f1b6da\"], [0.4, \"#fde0ef\"], [0.5, \"#f7f7f7\"], [0.6, \"#e6f5d0\"], [0.7, \"#b8e186\"], [0.8, \"#7fbc41\"], [0.9, \"#4d9221\"], [1, \"#276419\"]], \"sequential\": [[0.0, \"#0d0887\"], [0.1111111111111111, \"#46039f\"], [0.2222222222222222, \"#7201a8\"], [0.3333333333333333, \"#9c179e\"], [0.4444444444444444, \"#bd3786\"], [0.5555555555555556, \"#d8576b\"], [0.6666666666666666, \"#ed7953\"], [0.7777777777777778, \"#fb9f3a\"], [0.8888888888888888, \"#fdca26\"], [1.0, \"#f0f921\"]], \"sequentialminus\": [[0.0, \"#0d0887\"], [0.1111111111111111, \"#46039f\"], [0.2222222222222222, \"#7201a8\"], [0.3333333333333333, \"#9c179e\"], [0.4444444444444444, \"#bd3786\"], [0.5555555555555556, \"#d8576b\"], [0.6666666666666666, \"#ed7953\"], [0.7777777777777778, \"#fb9f3a\"], [0.8888888888888888, \"#fdca26\"], [1.0, \"#f0f921\"]]}, \"colorway\": [\"#636efa\", \"#EF553B\", \"#00cc96\", \"#ab63fa\", \"#FFA15A\", \"#19d3f3\", \"#FF6692\", \"#B6E880\", \"#FF97FF\", \"#FECB52\"], \"font\": {\"color\": \"#2a3f5f\"}, \"geo\": {\"bgcolor\": \"white\", \"lakecolor\": \"white\", \"landcolor\": \"#E5ECF6\", \"showlakes\": true, \"showland\": true, \"subunitcolor\": \"white\"}, \"hoverlabel\": {\"align\": \"left\"}, \"hovermode\": \"closest\", \"mapbox\": {\"style\": \"light\"}, \"paper_bgcolor\": \"white\", \"plot_bgcolor\": \"#E5ECF6\", \"polar\": {\"angularaxis\": {\"gridcolor\": \"white\", \"linecolor\": \"white\", \"ticks\": \"\"}, \"bgcolor\": \"#E5ECF6\", \"radialaxis\": {\"gridcolor\": \"white\", \"linecolor\": \"white\", \"ticks\": \"\"}}, \"scene\": {\"xaxis\": {\"backgroundcolor\": \"#E5ECF6\", \"gridcolor\": \"white\", \"gridwidth\": 2, \"linecolor\": \"white\", \"showbackground\": true, \"ticks\": \"\", \"zerolinecolor\": \"white\"}, \"yaxis\": {\"backgroundcolor\": \"#E5ECF6\", \"gridcolor\": \"white\", \"gridwidth\": 2, \"linecolor\": \"white\", \"showbackground\": true, \"ticks\": \"\", \"zerolinecolor\": \"white\"}, \"zaxis\": {\"backgroundcolor\": \"#E5ECF6\", \"gridcolor\": \"white\", \"gridwidth\": 2, \"linecolor\": \"white\", \"showbackground\": true, \"ticks\": \"\", \"zerolinecolor\": \"white\"}}, \"shapedefaults\": {\"line\": {\"color\": \"#2a3f5f\"}}, \"ternary\": {\"aaxis\": {\"gridcolor\": \"white\", \"linecolor\": \"white\", \"ticks\": \"\"}, \"baxis\": {\"gridcolor\": \"white\", \"linecolor\": \"white\", \"ticks\": \"\"}, \"bgcolor\": \"#E5ECF6\", \"caxis\": {\"gridcolor\": \"white\", \"linecolor\": \"white\", \"ticks\": \"\"}}, \"title\": {\"x\": 0.05}, \"xaxis\": {\"automargin\": true, \"gridcolor\": \"white\", \"linecolor\": \"white\", \"ticks\": \"\", \"title\": {\"standoff\": 15}, \"zerolinecolor\": \"white\", \"zerolinewidth\": 2}, \"yaxis\": {\"automargin\": true, \"gridcolor\": \"white\", \"linecolor\": \"white\", \"ticks\": \"\", \"title\": {\"standoff\": 15}, \"zerolinecolor\": \"white\", \"zerolinewidth\": 2}}}, \"title\": {\"text\": \"#Tracks per Genre\"}, \"xaxis\": {\"anchor\": \"y\", \"categoryarray\": [\"Avant-Garde\", \"International\", \"Blues\", \"Jazz\", \"Classical\", \"Novelty\", \"Comedy\", \"Old-Time / Historic\", \"Country\", \"Pop\", \"Disco\", \"Rock\", \"Easy Listening\", \"Soul-RnB\", \"Electronic\", \"Sound Effects\", \"Folk\", \"Soundtrack\", \"Funk\", \"Spoken\", \"Hip-Hop\", \"Audio Collage\", \"Punk\", \"Post-Rock\", \"Lo-Fi\", \"Field Recordings\", \"Metal\", \"Noise\", \"Psych-Folk\", \"Krautrock\", \"Jazz: Vocal\", \"Experimental\", \"Electroacoustic\", \"Ambient Electronic\", \"Radio Art\", \"Loud-Rock\", \"Latin America\", \"Drone\", \"Free-Folk\", \"Noise-Rock\", \"Psych-Rock\", \"Bluegrass\", \"Electro-Punk\", \"Radio\", \"Indie-Rock\", \"Industrial\", \"No Wave\", \"Free-Jazz\", \"Experimental Pop\", \"French\", \"Reggae - Dub\", \"Afrobeat\", \"Nerdcore\", \"Garage\", \"Indian\", \"New Wave\", \"Post-Punk\", \"Sludge\", \"African\", \"Freak-Folk\", \"Jazz: Out\", \"Progressive\", \"Alternative Hip-Hop\", \"Death-Metal\", \"Middle East\", \"Singer-Songwriter\", \"Ambient\", \"Hardcore\", \"Power-Pop\", \"Space-Rock\", \"Polka\", \"Balkan\", \"Unclassifiable\", \"Europe\", \"Americana\", \"Spoken Weird\", \"Interview\", \"Black-Metal\", \"Rockabilly\", \"Easy Listening: Vocal\", \"Brazilian\", \"Asia-Far East\", \"N. Indian Traditional\", \"South Indian Traditional\", \"Bollywood\", \"Pacific\", \"Celtic\", \"Be-Bop\", \"Big Band/Swing\", \"British Folk\", \"Techno\", \"House\", \"Glitch\", \"Minimal Electronic\", \"Breakcore - Hard\", \"Sound Poetry\", \"20th Century Classical\", \"Poetry\", \"Talk Radio\", \"North African\", \"Sound Collage\", \"Flamenco\", \"IDM\", \"Chiptune\", \"Musique Concrete\", \"Improv\", \"New Age\", \"Trip-Hop\", \"Dance\", \"Chip Music\", \"Lounge\", \"Goth\", \"Composed Music\", \"Drum & Bass\", \"Shoegaze\", \"Kid-Friendly\", \"Thrash\", \"Synth Pop\", \"Banter\", \"Deep Funk\", \"Spoken Word\", \"Chill-out\", \"Bigbeat\", \"Surf\", \"Radio Theater\", \"Grindcore\", \"Rock Opera\", \"Opera\", \"Chamber Music\", \"Choral Music\", \"Symphony\", \"Minimalism\", \"Musical Theater\", \"Dubstep\", \"Skweee\", \"Western Swing\", \"Downtempo\", \"Cumbia\", \"Latin\", \"Sound Art\", \"Romany (Gypsy)\", \"Compilation\", \"Rap\", \"Breakbeat\", \"Gospel\", \"Abstract Hip-Hop\", \"Reggae - Dancehall\", \"Spanish\", \"Country & Western\", \"Contemporary Classical\", \"Wonky\", \"Jungle\", \"Klezmer\", \"Holiday\", \"Salsa\", \"Nu-Jazz\", \"Hip-Hop Beats\", \"Modern Jazz\", \"Turkish\", \"Tango\", \"Fado\", \"Christmas\", \"Instrumental\"], \"categoryorder\": \"array\", \"domain\": [0.0, 1.0], \"title\": {\"text\": \"title\"}}, \"yaxis\": {\"anchor\": \"x\", \"domain\": [0.0, 1.0], \"title\": {\"text\": \"#tracks\"}}},                        {\"responsive\": true}                    ).then(function(){\n                            \nvar gd = document.getElementById('b75877ed-dbbd-4f94-b0e1-3c342bb303c0');\nvar x = new MutationObserver(function (mutations, observer) {{\n        var display = window.getComputedStyle(gd).display;\n        if (!display || display === 'none') {{\n            console.log([gd, 'removed!']);\n            Plotly.purge(gd);\n            observer.disconnect();\n        }}\n}});\n\n// Listen for the removal of the full notebook cells\nvar notebookContainer = gd.closest('#notebook-container');\nif (notebookContainer) {{\n    x.observe(notebookContainer, {childList: true});\n}}\n\n// Listen for the clearing of the current output cell\nvar outputEl = gd.closest('.output');\nif (outputEl) {{\n    x.observe(outputEl, {childList: true});\n}}\n\n                        })                };                });            </script>        </div>"
     },
     "metadata": {},
     "output_type": "display_data"
    }
   ],
   "source": [
    "barchart_tracks_all_genre = px.bar(\n",
    "data_frame=genres,\n",
    "x='title',\n",
    "y='#tracks',\n",
    "color='title',\n",
    "opacity=0.9,\n",
    "orientation='v',\n",
    "barmode='relative',\n",
    "title=\"#Tracks per Genre\")\n",
    "barchart_tracks_all_genre"
   ]
  },
  {
   "cell_type": "code",
   "metadata": {
    "pycharm": {
     "name": "#%%\n"
    }
   },
   "source": [
    "genres.head()\n"
   ],
   "execution_count": 12,
   "outputs": [
    {
     "data": {
      "text/plain": "          #tracks  parent          title  top_level      title_top\ngenre_id                                                          \n1            8693      38    Avant-Garde         38   Experimental\n2            5271       0  International          2  International\n3            1752       0          Blues          3          Blues\n4            4126       0           Jazz          4           Jazz\n5            4106       0      Classical          5      Classical",
      "text/html": "<div>\n<style scoped>\n    .dataframe tbody tr th:only-of-type {\n        vertical-align: middle;\n    }\n\n    .dataframe tbody tr th {\n        vertical-align: top;\n    }\n\n    .dataframe thead th {\n        text-align: right;\n    }\n</style>\n<table border=\"1\" class=\"dataframe\">\n  <thead>\n    <tr style=\"text-align: right;\">\n      <th></th>\n      <th>#tracks</th>\n      <th>parent</th>\n      <th>title</th>\n      <th>top_level</th>\n      <th>title_top</th>\n    </tr>\n    <tr>\n      <th>genre_id</th>\n      <th></th>\n      <th></th>\n      <th></th>\n      <th></th>\n      <th></th>\n    </tr>\n  </thead>\n  <tbody>\n    <tr>\n      <th>1</th>\n      <td>8693</td>\n      <td>38</td>\n      <td>Avant-Garde</td>\n      <td>38</td>\n      <td>Experimental</td>\n    </tr>\n    <tr>\n      <th>2</th>\n      <td>5271</td>\n      <td>0</td>\n      <td>International</td>\n      <td>2</td>\n      <td>International</td>\n    </tr>\n    <tr>\n      <th>3</th>\n      <td>1752</td>\n      <td>0</td>\n      <td>Blues</td>\n      <td>3</td>\n      <td>Blues</td>\n    </tr>\n    <tr>\n      <th>4</th>\n      <td>4126</td>\n      <td>0</td>\n      <td>Jazz</td>\n      <td>4</td>\n      <td>Jazz</td>\n    </tr>\n    <tr>\n      <th>5</th>\n      <td>4106</td>\n      <td>0</td>\n      <td>Classical</td>\n      <td>5</td>\n      <td>Classical</td>\n    </tr>\n  </tbody>\n</table>\n</div>"
     },
     "execution_count": 12,
     "metadata": {},
     "output_type": "execute_result"
    }
   ]
  },
  {
   "cell_type": "code",
   "source": [
    "a =genres['title'].unique()\n",
    "print(a)\n",
    "print(len(a))\n"
   ],
   "metadata": {
    "collapsed": false,
    "pycharm": {
     "name": "#%%\n"
    }
   },
   "execution_count": 38,
   "outputs": [
    {
     "name": "stdout",
     "output_type": "stream",
     "text": [
      "['Avant-Garde' 'International' 'Blues' 'Jazz' 'Classical' 'Novelty'\n",
      " 'Comedy' 'Old-Time / Historic' 'Country' 'Pop' 'Disco' 'Rock'\n",
      " 'Easy Listening' 'Soul-RnB' 'Electronic' 'Sound Effects' 'Folk'\n",
      " 'Soundtrack' 'Funk' 'Spoken' 'Hip-Hop' 'Audio Collage' 'Punk' 'Post-Rock'\n",
      " 'Lo-Fi' 'Field Recordings' 'Metal' 'Noise' 'Psych-Folk' 'Krautrock'\n",
      " 'Jazz: Vocal' 'Experimental' 'Electroacoustic' 'Ambient Electronic'\n",
      " 'Radio Art' 'Loud-Rock' 'Latin America' 'Drone' 'Free-Folk' 'Noise-Rock'\n",
      " 'Psych-Rock' 'Bluegrass' 'Electro-Punk' 'Radio' 'Indie-Rock' 'Industrial'\n",
      " 'No Wave' 'Free-Jazz' 'Experimental Pop' 'French' 'Reggae - Dub'\n",
      " 'Afrobeat' 'Nerdcore' 'Garage' 'Indian' 'New Wave' 'Post-Punk' 'Sludge'\n",
      " 'African' 'Freak-Folk' 'Jazz: Out' 'Progressive' 'Alternative Hip-Hop'\n",
      " 'Death-Metal' 'Middle East' 'Singer-Songwriter' 'Ambient' 'Hardcore'\n",
      " 'Power-Pop' 'Space-Rock' 'Polka' 'Balkan' 'Unclassifiable' 'Europe'\n",
      " 'Americana' 'Spoken Weird' 'Interview' 'Black-Metal' 'Rockabilly'\n",
      " 'Easy Listening: Vocal' 'Brazilian' 'Asia-Far East'\n",
      " 'N. Indian Traditional' 'South Indian Traditional' 'Bollywood' 'Pacific'\n",
      " 'Celtic' 'Be-Bop' 'Big Band/Swing' 'British Folk' 'Techno' 'House'\n",
      " 'Glitch' 'Minimal Electronic' 'Breakcore - Hard' 'Sound Poetry'\n",
      " '20th Century Classical' 'Poetry' 'Talk Radio' 'North African'\n",
      " 'Sound Collage' 'Flamenco' 'IDM' 'Chiptune' 'Musique Concrete' 'Improv'\n",
      " 'New Age' 'Trip-Hop' 'Dance' 'Chip Music' 'Lounge' 'Goth'\n",
      " 'Composed Music' 'Drum & Bass' 'Shoegaze' 'Kid-Friendly' 'Thrash'\n",
      " 'Synth Pop' 'Banter' 'Deep Funk' 'Spoken Word' 'Chill-out' 'Bigbeat'\n",
      " 'Surf' 'Radio Theater' 'Grindcore' 'Rock Opera' 'Opera' 'Chamber Music'\n",
      " 'Choral Music' 'Symphony' 'Minimalism' 'Musical Theater' 'Dubstep'\n",
      " 'Skweee' 'Western Swing' 'Downtempo' 'Cumbia' 'Latin' 'Sound Art'\n",
      " 'Romany (Gypsy)' 'Compilation' 'Rap' 'Breakbeat' 'Gospel'\n",
      " 'Abstract Hip-Hop' 'Reggae - Dancehall' 'Spanish' 'Country & Western'\n",
      " 'Contemporary Classical' 'Wonky' 'Jungle' 'Klezmer' 'Holiday' 'Salsa'\n",
      " 'Nu-Jazz' 'Hip-Hop Beats' 'Modern Jazz' 'Turkish' 'Tango' 'Fado'\n",
      " 'Christmas' 'Instrumental']\n",
      "163\n"
     ]
    }
   ]
  },
  {
   "cell_type": "markdown",
   "source": [
    "##### 1. top genres+genre - numero tracce\n",
    "##### 2. top_genre-numero tracce\n",
    "##### 3. top genre & genres -bitrate\n",
    "##### top genre+genre - dancability\n",
    "##### 4. top 10 genres ever existed, last 10 years, 80-90-2000\n",
    "##### 4. top 10 genres summer time\n",
    "##### 4. top 10 genres last 10 by popularity\n",
    "\n",
    "\n",
    "\n",
    "\n"
   ],
   "metadata": {
    "collapsed": false,
    "pycharm": {
     "name": "#%% md\n"
    }
   }
  }
 ],
 "metadata": {
  "kernelspec": {
   "display_name": "Python 3",
   "language": "python",
   "name": "python3"
  },
  "language_info": {
   "codemirror_mode": {
    "name": "ipython",
    "version": 3
   },
   "file_extension": ".py",
   "mimetype": "text/x-python",
   "name": "python",
   "nbconvert_exporter": "python",
   "pygments_lexer": "ipython3",
   "version": "3.8.5"
  }
 },
 "nbformat": 4,
 "nbformat_minor": 1
}