{
 "cells": [
  {
   "cell_type": "code",
   "execution_count": null,
   "metadata": {
    "collapsed": true
   },
   "outputs": [],
   "source": [
    "from IPython.display import Image\n",
    "from IPython.core.display import HTML\n",
    "Image(url= \"https://developer.spotify.com/assets/echonest-spotify.png\")"
   ]
  },
  {
   "cell_type": "code",
   "execution_count": null,
   "outputs": [],
   "source": [
    "# Need only first time\n",
    "#conda install -c conda-forge python-dotenv\n",
    "#conda install -c conda-forge pydot"
   ],
   "metadata": {
    "collapsed": false,
    "pycharm": {
     "name": "#%%\n"
    }
   }
  },
  {
   "cell_type": "code",
   "execution_count": null,
   "outputs": [],
   "source": [
    "%matplotlib inline\n",
    "\n",
    "import os\n",
    "\n",
    "import IPython.display as ipd\n",
    "import numpy as np\n",
    "import pandas as pd\n",
    "import matplotlib.pyplot as plt\n",
    "import datetime\n",
    "import plotly\n",
    "import plotly.express as px\n",
    "import plotly.io as pio\n",
    "import plotly.offline as pyo\n",
    "import seaborn as sns\n",
    "\n",
    "import sys\n",
    "import pathlib\n",
    "sys.path.insert(1, './fma_metadata/')\n",
    "from fma_metadata import utils\n",
    "\n",
    "import warnings\n",
    "warnings.filterwarnings('ignore')\n",
    "\n",
    "plt.rcParams['figure.figsize'] = (13, 5)"
   ],
   "metadata": {
    "collapsed": false,
    "pycharm": {
     "name": "#%%\n"
    }
   }
  },
  {
   "cell_type": "markdown",
   "source": [
    "-----------------\n",
    "# Features EDA\n",
    "-----------------\n",
    "## 1. Load Dataset\n",
    "- features.csv: contains high-level features extracted directly from the audio files;\n",
    "#### Features' description:\n",
    "1. <b>zcr</b>:  Zero-Crossing-Rate is the rate at which a signal changes from positive to zero to negative or from negative to zero to positive --> useful for classifying percussive sounds.\n",
    "\n",
    "2. <b>tonnetz</b>:  is a conceptual lattice diagram representing tonal space; Tonnetz can be used to show traditional harmonic relationships in European classical music;\n",
    "\n",
    "3. <b>chroma_cens</b>:  relates to the twelve different pitch classes; are a powerful tool for analyzing music whose pitches can be meaningfully categorized --> MAIN CHARACT: they capture harmonic and melodic characteristics of music, while being robust to changes in timbre and instrumentation;\n",
    "\n",
    "4. <b>spectral_bandwidth</b>: is the wavelength interval over which the magnitude of all spectral components is equal to or greater than a specified fraction of the magnitude of the component having the maximum value;\n",
    "\n",
    "5.  <b>spectral_centroid</b>: is a measure used in digital signal processing to characterise a spectrum. It indicates where the center of mass of the spectrum is located. Perceptually, it has a robust connection with the impression of brightness of a sound;\n",
    "\n",
    "6. <b>spectral roll-off</b>: The roll-off frequency is defined as the frequency under which some percentage (cutoff) of the total energy of the spectrum is contained. The roll-off frequency can be used to distinguish between harmonic (below roll-off) and noisy sounds (above roll-off);\n",
    "\n",
    "7. <b>spectral_contrast </b>: is defined as the decibel difference between peaks and valleys in the spectrum.\n",
    "\n",
    "8. <b>MFCC </b> The mel frequency cepstral coefficients (MFCCs) of a signal are a small set of features (usually about 10-20) which concisely describe the overall shape of a spectral envelope. In MIR, it is often used to describe timbre.\n"
   ],
   "metadata": {
    "collapsed": false,
    "pycharm": {
     "name": "#%% md\n"
    }
   }
  },
  {
   "cell_type": "code",
   "execution_count": null,
   "outputs": [],
   "source": [
    "features = utils.load('/Users/gaetanoantonicchio/Desktop/dataset_DM2/fma_metadata/features.csv')\n",
    "#features.head()"
   ],
   "metadata": {
    "collapsed": false,
    "pycharm": {
     "name": "#%%\n"
    }
   }
  },
  {
   "cell_type": "code",
   "execution_count": null,
   "outputs": [],
   "source": [
    "# check percentage of data available\n",
    "print('*** Available data (%) *** \\n features.csv (%)')\n",
    "((abs(features.isnull().sum()-features.shape[0])/features.shape[0])*100).round(2).sort_values(ascending=False)"
   ],
   "metadata": {
    "collapsed": false,
    "pycharm": {
     "name": "#%%\n"
    }
   }
  },
  {
   "cell_type": "code",
   "execution_count": null,
   "outputs": [],
   "source": [
    "# check missing values\n",
    "\n"
   ],
   "metadata": {
    "collapsed": false,
    "pycharm": {
     "name": "#%%\n"
    }
   }
  }
 ],
 "metadata": {
  "kernelspec": {
   "display_name": "Python 3",
   "language": "python",
   "name": "python3"
  },
  "language_info": {
   "codemirror_mode": {
    "name": "ipython",
    "version": 2
   },
   "file_extension": ".py",
   "mimetype": "text/x-python",
   "name": "python",
   "nbconvert_exporter": "python",
   "pygments_lexer": "ipython2",
   "version": "2.7.6"
  }
 },
 "nbformat": 4,
 "nbformat_minor": 0
}