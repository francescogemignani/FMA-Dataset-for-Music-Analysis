{
 "cells": [
  {
   "cell_type": "code",
   "execution_count": 1,
   "metadata": {
    "collapsed": true
   },
   "outputs": [],
   "source": [
    "%matplotlib inline\n",
    "\n",
    "import os\n",
    "\n",
    "import numpy as np\n",
    "import pandas as pd\n",
    "import matplotlib.pyplot as plt\n",
    "import datetime\n",
    "import plotly\n",
    "import plotly.express as px\n",
    "import plotly.io as pio\n",
    "import plotly.offline as pyo\n",
    "import seaborn as sns\n",
    "import plotly.graph_objects as go\n",
    "from sklearn.decomposition import PCA\n",
    "import sys\n",
    "import pathlib\n",
    "from plotly.subplots import make_subplots\n",
    "from sklearn.preprocessing import StandardScaler\n",
    "\n",
    "sys.path.insert(1, './fma_metadata/')\n",
    "from fma_metadata import utils\n",
    "\n",
    "import warnings\n",
    "warnings.filterwarnings('ignore')\n",
    "\n",
    "plt.rcParams['figure.figsize'] = (13, 5)"
   ]
  },
  {
   "cell_type": "code",
   "execution_count": 2,
   "outputs": [],
   "source": [
    "# loading datasets\n",
    "echonest = utils.load('/Users/gaetanoantonicchio/Desktop/dataset_DM2/fma_metadata/echonest.csv')\n",
    "tracks = utils.load('/Users/gaetanoantonicchio/Desktop/dataset_DM2/fma_metadata/tracks.csv')"
   ],
   "metadata": {
    "collapsed": false,
    "pycharm": {
     "name": "#%%\n"
    }
   }
  },
  {
   "cell_type": "code",
   "execution_count": 14,
   "outputs": [
    {
     "data": {
      "text/plain": "         genre_top\ntrack_id          \n135           Rock\n136           Rock\n151           Rock\n152           Rock\n153           Rock\n...            ...\n155315        Rock\n155316        Rock\n155317        Rock\n155318        Rock\n155319        Rock\n\n[14182 rows x 1 columns]",
      "text/html": "<div>\n<style scoped>\n    .dataframe tbody tr th:only-of-type {\n        vertical-align: middle;\n    }\n\n    .dataframe tbody tr th {\n        vertical-align: top;\n    }\n\n    .dataframe thead th {\n        text-align: right;\n    }\n</style>\n<table border=\"1\" class=\"dataframe\">\n  <thead>\n    <tr style=\"text-align: right;\">\n      <th></th>\n      <th>genre_top</th>\n    </tr>\n    <tr>\n      <th>track_id</th>\n      <th></th>\n    </tr>\n  </thead>\n  <tbody>\n    <tr>\n      <th>135</th>\n      <td>Rock</td>\n    </tr>\n    <tr>\n      <th>136</th>\n      <td>Rock</td>\n    </tr>\n    <tr>\n      <th>151</th>\n      <td>Rock</td>\n    </tr>\n    <tr>\n      <th>152</th>\n      <td>Rock</td>\n    </tr>\n    <tr>\n      <th>153</th>\n      <td>Rock</td>\n    </tr>\n    <tr>\n      <th>...</th>\n      <td>...</td>\n    </tr>\n    <tr>\n      <th>155315</th>\n      <td>Rock</td>\n    </tr>\n    <tr>\n      <th>155316</th>\n      <td>Rock</td>\n    </tr>\n    <tr>\n      <th>155317</th>\n      <td>Rock</td>\n    </tr>\n    <tr>\n      <th>155318</th>\n      <td>Rock</td>\n    </tr>\n    <tr>\n      <th>155319</th>\n      <td>Rock</td>\n    </tr>\n  </tbody>\n</table>\n<p>14182 rows × 1 columns</p>\n</div>"
     },
     "execution_count": 14,
     "metadata": {},
     "output_type": "execute_result"
    }
   ],
   "source": [
    "rock_genre = tracks['track'][['genre_top']][tracks['track']['genre_top'] == 'Rock']\n",
    "echonest_fatures = echonest['echonest','audio_features'].merge(rock_genre,on='track_id')"
   ],
   "metadata": {
    "collapsed": false,
    "pycharm": {
     "name": "#%%\n"
    }
   }
  }
 ],
 "metadata": {
  "kernelspec": {
   "display_name": "Python 3",
   "language": "python",
   "name": "python3"
  },
  "language_info": {
   "codemirror_mode": {
    "name": "ipython",
    "version": 2
   },
   "file_extension": ".py",
   "mimetype": "text/x-python",
   "name": "python",
   "nbconvert_exporter": "python",
   "pygments_lexer": "ipython2",
   "version": "2.7.6"
  }
 },
 "nbformat": 4,
 "nbformat_minor": 0
}