{
 "cells": [
  {
   "cell_type": "code",
   "execution_count": 67,
   "metadata": {},
   "outputs": [],
   "source": [
    "%matplotlib inline\n",
    "\n",
    "import numpy as np\n",
    "import pandas as pd\n",
    "import matplotlib.pyplot as plt\n",
    "\n",
    "from sklearn import preprocessing\n",
    "from sklearn.model_selection import train_test_split, cross_val_score, GridSearchCV, StratifiedKFold\n",
    "from sklearn.metrics import accuracy_score, f1_score, classification_report, precision_score, recall_score\n",
    "from sklearn.metrics import roc_curve, auc, roc_auc_score\n",
    "from sklearn.metrics import plot_confusion_matrix\n",
    "\n",
    "from collections import defaultdict"
   ]
  },
  {
   "cell_type": "markdown",
   "metadata": {},
   "source": [
    "# Data Preparation"
   ]
  },
  {
   "cell_type": "code",
   "execution_count": 87,
   "metadata": {},
   "outputs": [
    {
     "data": {
      "text/html": [
       "<div>\n",
       "<style scoped>\n",
       "    .dataframe tbody tr th:only-of-type {\n",
       "        vertical-align: middle;\n",
       "    }\n",
       "\n",
       "    .dataframe tbody tr th {\n",
       "        vertical-align: top;\n",
       "    }\n",
       "\n",
       "    .dataframe thead th {\n",
       "        text-align: right;\n",
       "    }\n",
       "</style>\n",
       "<table border=\"1\" class=\"dataframe\">\n",
       "  <thead>\n",
       "    <tr style=\"text-align: right;\">\n",
       "      <th></th>\n",
       "      <th>track_id</th>\n",
       "      <th>acousticness</th>\n",
       "      <th>danceability</th>\n",
       "      <th>energy</th>\n",
       "      <th>instrumentalness</th>\n",
       "      <th>liveness</th>\n",
       "      <th>speechiness</th>\n",
       "      <th>valence</th>\n",
       "      <th>tempo</th>\n",
       "      <th>duration</th>\n",
       "      <th>bit_rate</th>\n",
       "    </tr>\n",
       "  </thead>\n",
       "  <tbody>\n",
       "    <tr>\n",
       "      <th>0</th>\n",
       "      <td>144</td>\n",
       "      <td>0.909011</td>\n",
       "      <td>0.443643</td>\n",
       "      <td>0.641997</td>\n",
       "      <td>0.924092</td>\n",
       "      <td>0.267669</td>\n",
       "      <td>0.089659</td>\n",
       "      <td>0.788251</td>\n",
       "      <td>128.537</td>\n",
       "      <td>82</td>\n",
       "      <td>256000</td>\n",
       "    </tr>\n",
       "    <tr>\n",
       "      <th>1</th>\n",
       "      <td>145</td>\n",
       "      <td>0.235506</td>\n",
       "      <td>0.438672</td>\n",
       "      <td>0.487752</td>\n",
       "      <td>0.716122</td>\n",
       "      <td>0.070359</td>\n",
       "      <td>0.047298</td>\n",
       "      <td>0.650452</td>\n",
       "      <td>120.790</td>\n",
       "      <td>326</td>\n",
       "      <td>256000</td>\n",
       "    </tr>\n",
       "    <tr>\n",
       "      <th>2</th>\n",
       "      <td>146</td>\n",
       "      <td>0.532019</td>\n",
       "      <td>0.417681</td>\n",
       "      <td>0.476422</td>\n",
       "      <td>0.402500</td>\n",
       "      <td>0.172105</td>\n",
       "      <td>0.035361</td>\n",
       "      <td>0.682397</td>\n",
       "      <td>135.468</td>\n",
       "      <td>354</td>\n",
       "      <td>256000</td>\n",
       "    </tr>\n",
       "    <tr>\n",
       "      <th>3</th>\n",
       "      <td>147</td>\n",
       "      <td>0.778410</td>\n",
       "      <td>0.706681</td>\n",
       "      <td>0.866116</td>\n",
       "      <td>0.806703</td>\n",
       "      <td>0.104650</td>\n",
       "      <td>0.065083</td>\n",
       "      <td>0.917613</td>\n",
       "      <td>120.218</td>\n",
       "      <td>232</td>\n",
       "      <td>256000</td>\n",
       "    </tr>\n",
       "    <tr>\n",
       "      <th>4</th>\n",
       "      <td>153</td>\n",
       "      <td>0.988306</td>\n",
       "      <td>0.255661</td>\n",
       "      <td>0.979774</td>\n",
       "      <td>0.973006</td>\n",
       "      <td>0.121342</td>\n",
       "      <td>0.051740</td>\n",
       "      <td>0.034018</td>\n",
       "      <td>90.241</td>\n",
       "      <td>405</td>\n",
       "      <td>256000</td>\n",
       "    </tr>\n",
       "  </tbody>\n",
       "</table>\n",
       "</div>"
      ],
      "text/plain": [
       "   track_id  acousticness  danceability    energy  instrumentalness  liveness  \\\n",
       "0       144      0.909011      0.443643  0.641997          0.924092  0.267669   \n",
       "1       145      0.235506      0.438672  0.487752          0.716122  0.070359   \n",
       "2       146      0.532019      0.417681  0.476422          0.402500  0.172105   \n",
       "3       147      0.778410      0.706681  0.866116          0.806703  0.104650   \n",
       "4       153      0.988306      0.255661  0.979774          0.973006  0.121342   \n",
       "\n",
       "   speechiness   valence    tempo  duration  bit_rate  \n",
       "0     0.089659  0.788251  128.537        82    256000  \n",
       "1     0.047298  0.650452  120.790       326    256000  \n",
       "2     0.035361  0.682397  135.468       354    256000  \n",
       "3     0.065083  0.917613  120.218       232    256000  \n",
       "4     0.051740  0.034018   90.241       405    256000  "
      ]
     },
     "execution_count": 87,
     "metadata": {},
     "output_type": "execute_result"
    }
   ],
   "source": [
    "df = pd.read_csv('/Users/samuele/University/2.DM2/fma_metadata/echo_no_outlier.csv')\n",
    "df.head()"
   ]
  },
  {
   "cell_type": "code",
   "execution_count": 88,
   "metadata": {},
   "outputs": [
    {
     "data": {
      "text/html": [
       "<div>\n",
       "<style scoped>\n",
       "    .dataframe tbody tr th:only-of-type {\n",
       "        vertical-align: middle;\n",
       "    }\n",
       "\n",
       "    .dataframe tbody tr th {\n",
       "        vertical-align: top;\n",
       "    }\n",
       "\n",
       "    .dataframe thead th {\n",
       "        text-align: right;\n",
       "    }\n",
       "</style>\n",
       "<table border=\"1\" class=\"dataframe\">\n",
       "  <thead>\n",
       "    <tr style=\"text-align: right;\">\n",
       "      <th></th>\n",
       "      <th>acousticness</th>\n",
       "      <th>danceability</th>\n",
       "      <th>energy</th>\n",
       "      <th>instrumentalness</th>\n",
       "      <th>liveness</th>\n",
       "      <th>speechiness</th>\n",
       "      <th>valence</th>\n",
       "      <th>tempo</th>\n",
       "      <th>duration</th>\n",
       "      <th>bit_rate</th>\n",
       "      <th>genre_top</th>\n",
       "    </tr>\n",
       "    <tr>\n",
       "      <th>track_id</th>\n",
       "      <th></th>\n",
       "      <th></th>\n",
       "      <th></th>\n",
       "      <th></th>\n",
       "      <th></th>\n",
       "      <th></th>\n",
       "      <th></th>\n",
       "      <th></th>\n",
       "      <th></th>\n",
       "      <th></th>\n",
       "      <th></th>\n",
       "    </tr>\n",
       "  </thead>\n",
       "  <tbody>\n",
       "    <tr>\n",
       "      <th>144</th>\n",
       "      <td>0.909011</td>\n",
       "      <td>0.443643</td>\n",
       "      <td>0.641997</td>\n",
       "      <td>0.924092</td>\n",
       "      <td>0.267669</td>\n",
       "      <td>0.089659</td>\n",
       "      <td>0.788251</td>\n",
       "      <td>128.537</td>\n",
       "      <td>82</td>\n",
       "      <td>256000</td>\n",
       "      <td>Jazz</td>\n",
       "    </tr>\n",
       "    <tr>\n",
       "      <th>145</th>\n",
       "      <td>0.235506</td>\n",
       "      <td>0.438672</td>\n",
       "      <td>0.487752</td>\n",
       "      <td>0.716122</td>\n",
       "      <td>0.070359</td>\n",
       "      <td>0.047298</td>\n",
       "      <td>0.650452</td>\n",
       "      <td>120.790</td>\n",
       "      <td>326</td>\n",
       "      <td>256000</td>\n",
       "      <td>Jazz</td>\n",
       "    </tr>\n",
       "    <tr>\n",
       "      <th>146</th>\n",
       "      <td>0.532019</td>\n",
       "      <td>0.417681</td>\n",
       "      <td>0.476422</td>\n",
       "      <td>0.402500</td>\n",
       "      <td>0.172105</td>\n",
       "      <td>0.035361</td>\n",
       "      <td>0.682397</td>\n",
       "      <td>135.468</td>\n",
       "      <td>354</td>\n",
       "      <td>256000</td>\n",
       "      <td>Jazz</td>\n",
       "    </tr>\n",
       "    <tr>\n",
       "      <th>147</th>\n",
       "      <td>0.778410</td>\n",
       "      <td>0.706681</td>\n",
       "      <td>0.866116</td>\n",
       "      <td>0.806703</td>\n",
       "      <td>0.104650</td>\n",
       "      <td>0.065083</td>\n",
       "      <td>0.917613</td>\n",
       "      <td>120.218</td>\n",
       "      <td>232</td>\n",
       "      <td>256000</td>\n",
       "      <td>Jazz</td>\n",
       "    </tr>\n",
       "    <tr>\n",
       "      <th>153</th>\n",
       "      <td>0.988306</td>\n",
       "      <td>0.255661</td>\n",
       "      <td>0.979774</td>\n",
       "      <td>0.973006</td>\n",
       "      <td>0.121342</td>\n",
       "      <td>0.051740</td>\n",
       "      <td>0.034018</td>\n",
       "      <td>90.241</td>\n",
       "      <td>405</td>\n",
       "      <td>256000</td>\n",
       "      <td>Rock</td>\n",
       "    </tr>\n",
       "  </tbody>\n",
       "</table>\n",
       "</div>"
      ],
      "text/plain": [
       "          acousticness  danceability    energy  instrumentalness  liveness  \\\n",
       "track_id                                                                     \n",
       "144           0.909011      0.443643  0.641997          0.924092  0.267669   \n",
       "145           0.235506      0.438672  0.487752          0.716122  0.070359   \n",
       "146           0.532019      0.417681  0.476422          0.402500  0.172105   \n",
       "147           0.778410      0.706681  0.866116          0.806703  0.104650   \n",
       "153           0.988306      0.255661  0.979774          0.973006  0.121342   \n",
       "\n",
       "          speechiness   valence    tempo  duration  bit_rate genre_top  \n",
       "track_id                                                                \n",
       "144          0.089659  0.788251  128.537        82    256000      Jazz  \n",
       "145          0.047298  0.650452  120.790       326    256000      Jazz  \n",
       "146          0.035361  0.682397  135.468       354    256000      Jazz  \n",
       "147          0.065083  0.917613  120.218       232    256000      Jazz  \n",
       "153          0.051740  0.034018   90.241       405    256000      Rock  "
      ]
     },
     "execution_count": 88,
     "metadata": {},
     "output_type": "execute_result"
    }
   ],
   "source": [
    "genre = pd.read_csv('/Users/samuele/University/2.DM2/fma_metadata/labels_genre_top.csv')\n",
    "df = df.merge(genre, on='track_id')\n",
    "df.set_index('track_id', inplace=True)\n",
    "df.head()"
   ]
  },
  {
   "cell_type": "code",
   "execution_count": 77,
   "metadata": {},
   "outputs": [
    {
     "name": "stdout",
     "output_type": "stream",
     "text": [
      "legend:\n",
      "0: Jazz\n",
      "1: Rock\n"
     ]
    },
    {
     "data": {
      "text/plain": [
       "1    3891\n",
       "0     241\n",
       "Name: genre_top, dtype: int64"
      ]
     },
     "execution_count": 77,
     "metadata": {},
     "output_type": "execute_result"
    }
   ],
   "source": [
    "# encoding labels\n",
    "le = preprocessing.LabelEncoder()\n",
    "df['genre_top'] = le.fit_transform(df['genre_top'])\n",
    "print('legend:\\n0: Jazz\\n1: Rock')\n",
    "df.genre_top.value_counts()"
   ]
  },
  {
   "cell_type": "code",
   "execution_count": 89,
   "metadata": {},
   "outputs": [
    {
     "data": {
      "text/html": [
       "<div>\n",
       "<style scoped>\n",
       "    .dataframe tbody tr th:only-of-type {\n",
       "        vertical-align: middle;\n",
       "    }\n",
       "\n",
       "    .dataframe tbody tr th {\n",
       "        vertical-align: top;\n",
       "    }\n",
       "\n",
       "    .dataframe thead th {\n",
       "        text-align: right;\n",
       "    }\n",
       "</style>\n",
       "<table border=\"1\" class=\"dataframe\">\n",
       "  <thead>\n",
       "    <tr style=\"text-align: right;\">\n",
       "      <th></th>\n",
       "      <th>acousticness</th>\n",
       "      <th>danceability</th>\n",
       "      <th>energy</th>\n",
       "      <th>instrumentalness</th>\n",
       "      <th>liveness</th>\n",
       "      <th>speechiness</th>\n",
       "      <th>valence</th>\n",
       "      <th>tempo</th>\n",
       "      <th>duration</th>\n",
       "      <th>bit_rate</th>\n",
       "      <th>genre_top</th>\n",
       "    </tr>\n",
       "    <tr>\n",
       "      <th>track_id</th>\n",
       "      <th></th>\n",
       "      <th></th>\n",
       "      <th></th>\n",
       "      <th></th>\n",
       "      <th></th>\n",
       "      <th></th>\n",
       "      <th></th>\n",
       "      <th></th>\n",
       "      <th></th>\n",
       "      <th></th>\n",
       "      <th></th>\n",
       "    </tr>\n",
       "  </thead>\n",
       "  <tbody>\n",
       "    <tr>\n",
       "      <th>144</th>\n",
       "      <td>0.909011</td>\n",
       "      <td>0.443643</td>\n",
       "      <td>0.641997</td>\n",
       "      <td>0.924092</td>\n",
       "      <td>0.267669</td>\n",
       "      <td>0.089659</td>\n",
       "      <td>0.788251</td>\n",
       "      <td>128.537</td>\n",
       "      <td>82</td>\n",
       "      <td>256000</td>\n",
       "      <td>Jazz</td>\n",
       "    </tr>\n",
       "    <tr>\n",
       "      <th>145</th>\n",
       "      <td>0.235506</td>\n",
       "      <td>0.438672</td>\n",
       "      <td>0.487752</td>\n",
       "      <td>0.716122</td>\n",
       "      <td>0.070359</td>\n",
       "      <td>0.047298</td>\n",
       "      <td>0.650452</td>\n",
       "      <td>120.790</td>\n",
       "      <td>326</td>\n",
       "      <td>256000</td>\n",
       "      <td>Jazz</td>\n",
       "    </tr>\n",
       "    <tr>\n",
       "      <th>146</th>\n",
       "      <td>0.532019</td>\n",
       "      <td>0.417681</td>\n",
       "      <td>0.476422</td>\n",
       "      <td>0.402500</td>\n",
       "      <td>0.172105</td>\n",
       "      <td>0.035361</td>\n",
       "      <td>0.682397</td>\n",
       "      <td>135.468</td>\n",
       "      <td>354</td>\n",
       "      <td>256000</td>\n",
       "      <td>Jazz</td>\n",
       "    </tr>\n",
       "    <tr>\n",
       "      <th>147</th>\n",
       "      <td>0.778410</td>\n",
       "      <td>0.706681</td>\n",
       "      <td>0.866116</td>\n",
       "      <td>0.806703</td>\n",
       "      <td>0.104650</td>\n",
       "      <td>0.065083</td>\n",
       "      <td>0.917613</td>\n",
       "      <td>120.218</td>\n",
       "      <td>232</td>\n",
       "      <td>256000</td>\n",
       "      <td>Jazz</td>\n",
       "    </tr>\n",
       "    <tr>\n",
       "      <th>153</th>\n",
       "      <td>0.988306</td>\n",
       "      <td>0.255661</td>\n",
       "      <td>0.979774</td>\n",
       "      <td>0.973006</td>\n",
       "      <td>0.121342</td>\n",
       "      <td>0.051740</td>\n",
       "      <td>0.034018</td>\n",
       "      <td>90.241</td>\n",
       "      <td>405</td>\n",
       "      <td>256000</td>\n",
       "      <td>Rock</td>\n",
       "    </tr>\n",
       "  </tbody>\n",
       "</table>\n",
       "</div>"
      ],
      "text/plain": [
       "          acousticness  danceability    energy  instrumentalness  liveness  \\\n",
       "track_id                                                                     \n",
       "144           0.909011      0.443643  0.641997          0.924092  0.267669   \n",
       "145           0.235506      0.438672  0.487752          0.716122  0.070359   \n",
       "146           0.532019      0.417681  0.476422          0.402500  0.172105   \n",
       "147           0.778410      0.706681  0.866116          0.806703  0.104650   \n",
       "153           0.988306      0.255661  0.979774          0.973006  0.121342   \n",
       "\n",
       "          speechiness   valence    tempo  duration  bit_rate genre_top  \n",
       "track_id                                                                \n",
       "144          0.089659  0.788251  128.537        82    256000      Jazz  \n",
       "145          0.047298  0.650452  120.790       326    256000      Jazz  \n",
       "146          0.035361  0.682397  135.468       354    256000      Jazz  \n",
       "147          0.065083  0.917613  120.218       232    256000      Jazz  \n",
       "153          0.051740  0.034018   90.241       405    256000      Rock  "
      ]
     },
     "execution_count": 89,
     "metadata": {},
     "output_type": "execute_result"
    }
   ],
   "source": [
    "df.head()"
   ]
  },
  {
   "cell_type": "markdown",
   "metadata": {},
   "source": [
    "# Data Partitioning"
   ]
  },
  {
   "cell_type": "code",
   "execution_count": 60,
   "metadata": {},
   "outputs": [],
   "source": [
    "attributes = [col for col in df.columns if col != 'genre_top']\n",
    "\n",
    "train, test = train_test_split(df, test_size=.33, random_state=42)\n",
    "\n",
    "X_test = df[attributes]\n",
    "y_test = df['genre_top']\n",
    "#X_train, X_test, y_train, y_test = train_test_split(X, y, test_size=0.3, random_state=100, stratify=y)"
   ]
  },
  {
   "cell_type": "code",
   "execution_count": 90,
   "metadata": {},
   "outputs": [
    {
     "data": {
      "text/plain": [
       "array([False, False, False, ..., False, False, False])"
      ]
     },
     "execution_count": 90,
     "metadata": {},
     "output_type": "execute_result"
    }
   ],
   "source": [
    "# encoding labels\n",
    "le = preprocessing.LabelEncoder()\n",
    "y_test_enc = ~le.fit_transform(test['genre_top']).astype('bool')\n",
    "y_test_enc"
   ]
  },
  {
   "cell_type": "code",
   "execution_count": 61,
   "metadata": {},
   "outputs": [
    {
     "data": {
      "text/plain": [
       "Rock    3891\n",
       "Jazz     241\n",
       "Name: genre_top, dtype: int64"
      ]
     },
     "execution_count": 61,
     "metadata": {},
     "output_type": "execute_result"
    }
   ],
   "source": [
    "df['genre_top'].value_counts()"
   ]
  },
  {
   "cell_type": "markdown",
   "metadata": {},
   "source": [
    "# RIPPER"
   ]
  },
  {
   "cell_type": "markdown",
   "metadata": {},
   "source": [
    "https://github.com/imoscovitz/wittgenstein"
   ]
  },
  {
   "cell_type": "code",
   "execution_count": 62,
   "metadata": {},
   "outputs": [],
   "source": [
    "import wittgenstein as lw"
   ]
  },
  {
   "cell_type": "code",
   "execution_count": 63,
   "metadata": {},
   "outputs": [],
   "source": [
    "clf = lw.RIPPER(random_state=42)\n",
    "clf.fit(train, class_feat='genre_top', pos_class='Jazz')"
   ]
  },
  {
   "cell_type": "code",
   "execution_count": 64,
   "metadata": {},
   "outputs": [
    {
     "name": "stdout",
     "output_type": "stream",
     "text": [
      "[[energy=0.0-0.24 ^ duration=311-405 ^ liveness=0.11-0.11] V\n",
      "[energy=0.0-0.24 ^ danceability=0.3-0.34 ^ tempo=29.09-85.47] V\n",
      "[energy=0.0-0.24 ^ instrumentalness=0.88-0.91] V\n",
      "[tempo=29.09-85.47 ^ acousticness=0.97-1.0 ^ energy=0.0-0.24 ^ bit_rate=256000-320000] V\n",
      "[energy=0.0-0.24 ^ instrumentalness=0.91-0.93 ^ duration=311-405] V\n",
      "[duration=405-3033 ^ speechiness=0.11-0.96 ^ instrumentalness=0.25-0.63] V\n",
      "[tempo=29.09-85.47 ^ speechiness=0.11-0.96 ^ duration=311-405] V\n",
      "[duration=405-3033 ^ energy=0.24-0.39 ^ bit_rate=-1-160000] V\n",
      "[energy=0.0-0.24 ^ bit_rate=256000-320000 ^ duration=104-134 ^ instrumentalness=0.95-0.99] V\n",
      "[tempo=29.09-85.47 ^ bit_rate=-1-160000 ^ energy=0.24-0.39] V\n",
      "[duration=405-3033 ^ energy=0.39-0.49 ^ valence=0.3-0.39] V\n",
      "[speechiness=0.11-0.96 ^ bit_rate=160000-192000 ^ danceability=0.38-0.43] V\n",
      "[energy=0.49-0.58 ^ tempo=170.88-250.06 ^ duration=311-405]]\n"
     ]
    }
   ],
   "source": [
    "clf.out_model()"
   ]
  },
  {
   "cell_type": "code",
   "execution_count": 92,
   "metadata": {},
   "outputs": [
    {
     "name": "stdout",
     "output_type": "stream",
     "text": [
      "              precision    recall  f1-score   support\n",
      "\n",
      "       False       0.95      0.98      0.96      1288\n",
      "        True       0.33      0.20      0.25        76\n",
      "\n",
      "    accuracy                           0.93      1364\n",
      "   macro avg       0.64      0.59      0.61      1364\n",
      "weighted avg       0.92      0.93      0.92      1364\n",
      "\n"
     ]
    }
   ],
   "source": [
    "y_predicted = clf.predict(test)\n",
    "\n",
    "print(classification_report(y_test_enc, y_predicted))"
   ]
  },
  {
   "cell_type": "code",
   "execution_count": 95,
   "metadata": {},
   "outputs": [
    {
     "name": "stdout",
     "output_type": "stream",
     "text": [
      "[[energy=0.0-0.24 ^ duration=311-405 ^ liveness=0.11-0.11] V\n",
      "[energy=0.0-0.24 ^ danceability=0.3-0.34 ^ tempo=29.09-85.47] V\n",
      "[energy=0.0-0.24 ^ instrumentalness=0.88-0.91] V\n",
      "[tempo=29.09-85.47 ^ acousticness=0.97-1.0 ^ energy=0.0-0.24 ^ bit_rate=256000-320000] V\n",
      "[energy=0.0-0.24 ^ instrumentalness=0.91-0.93 ^ duration=311-405] V\n",
      "[duration=405-3033 ^ speechiness=0.11-0.96 ^ instrumentalness=0.25-0.63] V\n",
      "[tempo=29.09-85.47 ^ speechiness=0.11-0.96 ^ duration=311-405] V\n",
      "[duration=405-3033 ^ energy=0.24-0.39 ^ bit_rate=-1-160000] V\n",
      "[energy=0.0-0.24 ^ bit_rate=256000-320000 ^ duration=104-134 ^ instrumentalness=0.95-0.99] V\n",
      "[tempo=29.09-85.47 ^ bit_rate=-1-160000 ^ energy=0.24-0.39] V\n",
      "[duration=405-3033 ^ energy=0.39-0.49 ^ valence=0.3-0.39] V\n",
      "[speechiness=0.11-0.96 ^ bit_rate=160000-192000 ^ danceability=0.38-0.43] V\n",
      "[energy=0.49-0.58 ^ tempo=170.88-250.06 ^ duration=311-405]]\n"
     ]
    }
   ],
   "source": [
    "clf.out_model()"
   ]
  },
  {
   "cell_type": "code",
   "execution_count": 97,
   "metadata": {},
   "outputs": [
    {
     "name": "stderr",
     "output_type": "stream",
     "text": [
      "base.py: .predict_proba: RuntimeWarning: \n",
      "Some examples lacked any rule with sufficient sample size to predict_proba: [1891, 1895, 2654]\n",
      " Consider running recalibrate_proba with smaller param min_samples, or set require_min_samples=False\n",
      "\n"
     ]
    },
    {
     "data": {
      "image/png": "[encoded data removed]",
      "text/plain": [
       "<Figure size 576x360 with 1 Axes>"
      ]
     },
     "metadata": {
      "needs_background": "light"
     },
     "output_type": "display_data"
    }
   ],
   "source": [
    "plt.figure(figsize=(8,5))\n",
    "\n",
    "# y_score0 --> scores of decision tree without PCA\n",
    "# fpr0, tpr0 ---> false positive and true positive of decision tree without PCA\n",
    "y_score0 = clf.predict_proba(X_test)\n",
    "fpr0, tpr0, _ = roc_curve(y_test, y_score0[:, 1], pos_label='Jazz')\n",
    "\n",
    "# roc_auc0 --> ROC/AUC of decision tree without PCA\n",
    "roc_auc0 = auc(fpr0, tpr0)\n",
    "\n",
    "plt.plot(fpr0, tpr0, color='red', lw=2, label='Decision Tree$\\;$(AUC = %.3f)' % roc_auc0)\n",
    "\n",
    "plt.plot([0, 1], [0, 1], color='black', lw=2, linestyle='--')\n",
    "plt.xlim([0.0, 1.0])\n",
    "plt.ylim([0.0, 1.05])\n",
    "plt.xlabel('False Positive Rate', fontsize=16)\n",
    "plt.ylabel('True Positive Rate', fontsize=16)\n",
    "plt.title('ROC curve - without PCA', fontsize=16)\n",
    "plt.legend(loc=\"lower right\", fontsize=14, frameon=False)\n",
    "plt.tick_params(axis='both', which='major', labelsize=16)\n",
    "plt.show()"
   ]
  },
  {
   "cell_type": "code",
   "execution_count": null,
   "metadata": {},
   "outputs": [],
   "source": []
  },
  {
   "cell_type": "code",
   "execution_count": null,
   "metadata": {},
   "outputs": [],
   "source": []
  },
  {
   "cell_type": "code",
   "execution_count": null,
   "metadata": {},
   "outputs": [],
   "source": []
  }
 ],
 "metadata": {
  "kernelspec": {
   "display_name": "Python 3",
   "language": "python",
   "name": "python3"
  },
  "language_info": {
   "codemirror_mode": {
    "name": "ipython",
    "version": 3
   },
   "file_extension": ".py",
   "mimetype": "text/x-python",
   "name": "python",
   "nbconvert_exporter": "python",
   "pygments_lexer": "ipython3",
   "version": "3.8.5"
  }
 },
 "nbformat": 4,
 "nbformat_minor": 2
}
