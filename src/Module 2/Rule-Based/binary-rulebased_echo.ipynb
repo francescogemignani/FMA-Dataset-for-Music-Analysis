{
 "cells": [
  {
   "cell_type": "code",
   "execution_count": 2,
   "metadata": {},
   "outputs": [],
   "source": [
    "%matplotlib inline\n",
    "\n",
    "import numpy as np\n",
    "import pandas as pd\n",
    "import matplotlib.pyplot as plt\n",
    "\n",
    "from sklearn import preprocessing\n",
    "from sklearn.model_selection import train_test_split, cross_val_score, GridSearchCV, StratifiedKFold\n",
    "from sklearn.metrics import accuracy_score, f1_score, classification_report, precision_score, recall_score\n",
    "from sklearn.metrics import roc_curve, auc, roc_auc_score\n",
    "from sklearn.metrics import plot_confusion_matrix\n",
    "\n",
    "from collections import defaultdict"
   ]
  },
  {
   "cell_type": "markdown",
   "metadata": {},
   "source": [
    "# Data Preparation"
   ]
  },
  {
   "cell_type": "code",
   "execution_count": 3,
   "metadata": {},
   "outputs": [
    {
     "data": {
      "text/html": [
       "<div>\n",
       "<style scoped>\n",
       "    .dataframe tbody tr th:only-of-type {\n",
       "        vertical-align: middle;\n",
       "    }\n",
       "\n",
       "    .dataframe tbody tr th {\n",
       "        vertical-align: top;\n",
       "    }\n",
       "\n",
       "    .dataframe thead th {\n",
       "        text-align: right;\n",
       "    }\n",
       "</style>\n",
       "<table border=\"1\" class=\"dataframe\">\n",
       "  <thead>\n",
       "    <tr style=\"text-align: right;\">\n",
       "      <th></th>\n",
       "      <th>acousticness</th>\n",
       "      <th>danceability</th>\n",
       "      <th>energy</th>\n",
       "      <th>instrumentalness</th>\n",
       "      <th>liveness</th>\n",
       "      <th>speechiness</th>\n",
       "      <th>valence</th>\n",
       "      <th>tempo</th>\n",
       "      <th>duration</th>\n",
       "      <th>bit_rate</th>\n",
       "      <th>genre_top</th>\n",
       "    </tr>\n",
       "    <tr>\n",
       "      <th>track_id</th>\n",
       "      <th></th>\n",
       "      <th></th>\n",
       "      <th></th>\n",
       "      <th></th>\n",
       "      <th></th>\n",
       "      <th></th>\n",
       "      <th></th>\n",
       "      <th></th>\n",
       "      <th></th>\n",
       "      <th></th>\n",
       "      <th></th>\n",
       "    </tr>\n",
       "  </thead>\n",
       "  <tbody>\n",
       "    <tr>\n",
       "      <th>10</th>\n",
       "      <td>0.951670</td>\n",
       "      <td>0.658179</td>\n",
       "      <td>0.924525</td>\n",
       "      <td>0.965427</td>\n",
       "      <td>0.115474</td>\n",
       "      <td>0.032985</td>\n",
       "      <td>0.963590</td>\n",
       "      <td>111.562</td>\n",
       "      <td>161</td>\n",
       "      <td>192</td>\n",
       "      <td>Pop</td>\n",
       "    </tr>\n",
       "    <tr>\n",
       "      <th>213</th>\n",
       "      <td>0.933741</td>\n",
       "      <td>0.312720</td>\n",
       "      <td>0.340999</td>\n",
       "      <td>0.919242</td>\n",
       "      <td>0.082976</td>\n",
       "      <td>0.032745</td>\n",
       "      <td>0.043054</td>\n",
       "      <td>142.499</td>\n",
       "      <td>247</td>\n",
       "      <td>256</td>\n",
       "      <td>Pop</td>\n",
       "    </tr>\n",
       "    <tr>\n",
       "      <th>384</th>\n",
       "      <td>0.444822</td>\n",
       "      <td>0.561166</td>\n",
       "      <td>0.700912</td>\n",
       "      <td>0.817286</td>\n",
       "      <td>0.111111</td>\n",
       "      <td>0.036441</td>\n",
       "      <td>0.344763</td>\n",
       "      <td>91.077</td>\n",
       "      <td>249</td>\n",
       "      <td>256</td>\n",
       "      <td>Electronic</td>\n",
       "    </tr>\n",
       "    <tr>\n",
       "      <th>386</th>\n",
       "      <td>0.436375</td>\n",
       "      <td>0.585549</td>\n",
       "      <td>0.782927</td>\n",
       "      <td>0.894428</td>\n",
       "      <td>0.142187</td>\n",
       "      <td>0.047893</td>\n",
       "      <td>0.301543</td>\n",
       "      <td>130.464</td>\n",
       "      <td>357</td>\n",
       "      <td>256</td>\n",
       "      <td>Electronic</td>\n",
       "    </tr>\n",
       "    <tr>\n",
       "      <th>387</th>\n",
       "      <td>0.464508</td>\n",
       "      <td>0.493599</td>\n",
       "      <td>0.552749</td>\n",
       "      <td>0.736318</td>\n",
       "      <td>0.110117</td>\n",
       "      <td>0.055116</td>\n",
       "      <td>0.221480</td>\n",
       "      <td>136.255</td>\n",
       "      <td>326</td>\n",
       "      <td>256</td>\n",
       "      <td>Electronic</td>\n",
       "    </tr>\n",
       "  </tbody>\n",
       "</table>\n",
       "</div>"
      ],
      "text/plain": [
       "          acousticness  danceability    energy  instrumentalness  liveness  \\\n",
       "track_id                                                                     \n",
       "10            0.951670      0.658179  0.924525          0.965427  0.115474   \n",
       "213           0.933741      0.312720  0.340999          0.919242  0.082976   \n",
       "384           0.444822      0.561166  0.700912          0.817286  0.111111   \n",
       "386           0.436375      0.585549  0.782927          0.894428  0.142187   \n",
       "387           0.464508      0.493599  0.552749          0.736318  0.110117   \n",
       "\n",
       "          speechiness   valence    tempo  duration  bit_rate   genre_top  \n",
       "track_id                                                                  \n",
       "10           0.032985  0.963590  111.562       161       192         Pop  \n",
       "213          0.032745  0.043054  142.499       247       256         Pop  \n",
       "384          0.036441  0.344763   91.077       249       256  Electronic  \n",
       "386          0.047893  0.301543  130.464       357       256  Electronic  \n",
       "387          0.055116  0.221480  136.255       326       256  Electronic  "
      ]
     },
     "execution_count": 3,
     "metadata": {},
     "output_type": "execute_result"
    }
   ],
   "source": [
    "df = pd.read_csv('/Users/samuele/University/2.DM2/fma_metadata/echo_popelec.csv')\n",
    "df.set_index('track_id', inplace=True)\n",
    "df.head()"
   ]
  },
  {
   "cell_type": "markdown",
   "metadata": {},
   "source": [
    "# Data Partitioning"
   ]
  },
  {
   "cell_type": "code",
   "execution_count": 4,
   "metadata": {},
   "outputs": [],
   "source": [
    "attributes = [col for col in df.columns if col != 'genre_top']\n",
    "\n",
    "train, test = train_test_split(df, test_size=.33, random_state=42)\n",
    "\n",
    "X_test = df[attributes]\n",
    "y_test = df['genre_top']\n",
    "#X_train, X_test, y_train, y_test = train_test_split(X, y, test_size=0.3, random_state=100, stratify=y)"
   ]
  },
  {
   "cell_type": "code",
   "execution_count": 5,
   "metadata": {},
   "outputs": [],
   "source": [
    "# encoding labels\n",
    "le = preprocessing.LabelEncoder()\n",
    "y_test_enc = ~le.fit_transform(test['genre_top']).astype('bool')"
   ]
  },
  {
   "cell_type": "code",
   "execution_count": 6,
   "metadata": {},
   "outputs": [
    {
     "data": {
      "text/plain": [
       "Electronic    2049\n",
       "Pop            337\n",
       "Name: genre_top, dtype: int64"
      ]
     },
     "execution_count": 6,
     "metadata": {},
     "output_type": "execute_result"
    }
   ],
   "source": [
    "df['genre_top'].value_counts()"
   ]
  },
  {
   "cell_type": "markdown",
   "metadata": {},
   "source": [
    "# RIPPER"
   ]
  },
  {
   "cell_type": "markdown",
   "metadata": {},
   "source": [
    "https://github.com/imoscovitz/wittgenstein"
   ]
  },
  {
   "cell_type": "code",
   "execution_count": 7,
   "metadata": {},
   "outputs": [],
   "source": [
    "import wittgenstein as lw"
   ]
  },
  {
   "cell_type": "code",
   "execution_count": 8,
   "metadata": {},
   "outputs": [
    {
     "name": "stdout",
     "output_type": "stream",
     "text": [
      "prune_size:  0.1\n",
      "              precision    recall  f1-score   support\n",
      "\n",
      "       False       0.28      0.59      0.38       119\n",
      "        True       0.91      0.73      0.81       669\n",
      "\n",
      "    accuracy                           0.71       788\n",
      "   macro avg       0.59      0.66      0.59       788\n",
      "weighted avg       0.81      0.71      0.74       788\n",
      "\n",
      "prune_size:  0.2\n",
      "              precision    recall  f1-score   support\n",
      "\n",
      "       False       0.31      0.55      0.40       119\n",
      "        True       0.91      0.78      0.84       669\n",
      "\n",
      "    accuracy                           0.75       788\n",
      "   macro avg       0.61      0.67      0.62       788\n",
      "weighted avg       0.82      0.75      0.77       788\n",
      "\n",
      "prune_size:  0.3\n",
      "              precision    recall  f1-score   support\n",
      "\n",
      "       False       0.31      0.64      0.42       119\n",
      "        True       0.92      0.75      0.82       669\n",
      "\n",
      "    accuracy                           0.73       788\n",
      "   macro avg       0.61      0.69      0.62       788\n",
      "weighted avg       0.83      0.73      0.76       788\n",
      "\n",
      "prune_size:  0.4\n",
      "              precision    recall  f1-score   support\n",
      "\n",
      "       False       0.27      0.63      0.38       119\n",
      "        True       0.91      0.69      0.79       669\n",
      "\n",
      "    accuracy                           0.68       788\n",
      "   macro avg       0.59      0.66      0.58       788\n",
      "weighted avg       0.82      0.68      0.73       788\n",
      "\n",
      "prune_size:  0.5\n",
      "              precision    recall  f1-score   support\n",
      "\n",
      "       False       0.25      0.66      0.37       119\n",
      "        True       0.91      0.66      0.76       669\n",
      "\n",
      "    accuracy                           0.66       788\n",
      "   macro avg       0.58      0.66      0.56       788\n",
      "weighted avg       0.81      0.66      0.70       788\n",
      "\n",
      "prune_size:  0.6\n",
      "              precision    recall  f1-score   support\n",
      "\n",
      "       False       0.33      0.55      0.42       119\n",
      "        True       0.91      0.80      0.85       669\n",
      "\n",
      "    accuracy                           0.76       788\n",
      "   macro avg       0.62      0.68      0.63       788\n",
      "weighted avg       0.82      0.76      0.79       788\n",
      "\n",
      "prune_size:  0.7\n",
      "              precision    recall  f1-score   support\n",
      "\n",
      "       False       0.32      0.61      0.41       119\n",
      "        True       0.92      0.77      0.83       669\n",
      "\n",
      "    accuracy                           0.74       788\n",
      "   macro avg       0.62      0.69      0.62       788\n",
      "weighted avg       0.83      0.74      0.77       788\n",
      "\n",
      "prune_size:  0.8\n",
      "              precision    recall  f1-score   support\n",
      "\n",
      "       False       0.26      0.55      0.35       119\n",
      "        True       0.90      0.72      0.80       669\n",
      "\n",
      "    accuracy                           0.70       788\n",
      "   macro avg       0.58      0.64      0.58       788\n",
      "weighted avg       0.80      0.70      0.74       788\n",
      "\n",
      "prune_size:  0.9\n",
      "              precision    recall  f1-score   support\n",
      "\n",
      "       False       0.24      0.63      0.35       119\n",
      "        True       0.91      0.65      0.75       669\n",
      "\n",
      "    accuracy                           0.64       788\n",
      "   macro avg       0.57      0.64      0.55       788\n",
      "weighted avg       0.81      0.64      0.69       788\n",
      "\n",
      "prune_size:  1\n",
      "              precision    recall  f1-score   support\n",
      "\n",
      "       False       0.15      1.00      0.26       119\n",
      "        True       0.00      0.00      0.00       669\n",
      "\n",
      "    accuracy                           0.15       788\n",
      "   macro avg       0.08      0.50      0.13       788\n",
      "weighted avg       0.02      0.15      0.04       788\n",
      "\n"
     ]
    },
    {
     "name": "stderr",
     "output_type": "stream",
     "text": [
      "ripper.py: .fit | base.py: ._check_allpos_allneg: RuntimeWarning: \n",
      "Ruleset is empty. All predictions it makes with method .predict will be negative. It may be untrained or was trained on a dataset split lacking positive examples.\n",
      "\n",
      "base.py: .predict | base.py: ._check_allpos_allneg: RuntimeWarning: \n",
      "Ruleset is empty. All predictions it makes with method .predict will be negative. It may be untrained or was trained on a dataset split lacking positive examples.\n",
      "\n",
      "/Users/samuele/opt/anaconda3/lib/python3.8/site-packages/sklearn/metrics/_classification.py:1245: UndefinedMetricWarning: Precision and F-score are ill-defined and being set to 0.0 in labels with no predicted samples. Use `zero_division` parameter to control this behavior.\n",
      "  _warn_prf(average, modifier, msg_start, len(result))\n",
      "/Users/samuele/opt/anaconda3/lib/python3.8/site-packages/sklearn/metrics/_classification.py:1245: UndefinedMetricWarning: Precision and F-score are ill-defined and being set to 0.0 in labels with no predicted samples. Use `zero_division` parameter to control this behavior.\n",
      "  _warn_prf(average, modifier, msg_start, len(result))\n",
      "/Users/samuele/opt/anaconda3/lib/python3.8/site-packages/sklearn/metrics/_classification.py:1245: UndefinedMetricWarning: Precision and F-score are ill-defined and being set to 0.0 in labels with no predicted samples. Use `zero_division` parameter to control this behavior.\n",
      "  _warn_prf(average, modifier, msg_start, len(result))\n"
     ]
    }
   ],
   "source": [
    "for pr in [0.1, 0.2, 0.3, 0.4, 0.5, 0.6, 0.7, 0.8, 0.9, 1]: \n",
    "        clf = lw.RIPPER(random_state=42, prune_size=pr)\n",
    "        clf.fit(train, class_feat='genre_top', pos_class='Electronic')\n",
    "        y_predicted = clf.predict(test)\n",
    "        print(\"prune_size: \", pr)\n",
    "        print(classification_report(y_test_enc, y_predicted))"
   ]
  },
  {
   "cell_type": "code",
   "execution_count": 9,
   "metadata": {},
   "outputs": [],
   "source": [
    "clf = lw.RIPPER(random_state=42, prune_size=0.6)\n",
    "clf.fit(train, class_feat='genre_top', pos_class='Electronic')"
   ]
  },
  {
   "cell_type": "code",
   "execution_count": 10,
   "metadata": {},
   "outputs": [
    {
     "name": "stdout",
     "output_type": "stream",
     "text": [
      "              precision    recall  f1-score   support\n",
      "\n",
      "       False       0.33      0.55      0.42       119\n",
      "        True       0.91      0.80      0.85       669\n",
      "\n",
      "    accuracy                           0.76       788\n",
      "   macro avg       0.62      0.68      0.63       788\n",
      "weighted avg       0.82      0.76      0.79       788\n",
      "\n"
     ]
    }
   ],
   "source": [
    "y_predicted = clf.predict(test)\n",
    "print(classification_report(y_test_enc, y_predicted))"
   ]
  },
  {
   "cell_type": "code",
   "execution_count": 11,
   "metadata": {},
   "outputs": [
    {
     "name": "stdout",
     "output_type": "stream",
     "text": [
      "[[bit_rate=160-192 ^ duration=33-121] V\n",
      "[valence=0.02-0.06] V\n",
      "[instrumentalness=0.93-0.95 ^ bit_rate=256-320] V\n",
      "[bit_rate=160-192] V\n",
      "[speechiness=0.08-0.12] V\n",
      "[speechiness=0.2-0.65] V\n",
      "[speechiness=0.07-0.08] V\n",
      "[speechiness=0.12-0.2] V\n",
      "[instrumentalness=0.86-0.89] V\n",
      "[instrumentalness=0.83-0.86] V\n",
      "[instrumentalness=0.76-0.83] V\n",
      "[tempo=85.28-93.94] V\n",
      "[energy=0.94-1.0]]\n"
     ]
    }
   ],
   "source": [
    "clf.out_model()"
   ]
  },
  {
   "cell_type": "code",
   "execution_count": 12,
   "metadata": {},
   "outputs": [
    {
     "data": {
      "image/png": "[encoded data removed]",
      "text/plain": [
       "<Figure size 432x216 with 1 Axes>"
      ]
     },
     "metadata": {
      "needs_background": "light"
     },
     "output_type": "display_data"
    }
   ],
   "source": [
    "plt.figure(figsize=(6,3))\n",
    "\n",
    "# y_score0 --> scores of decision tree without PCA\n",
    "# fpr0, tpr0 ---> false positive and true positive of decision tree without PCA\n",
    "y_score0 = clf.predict_proba(X_test)\n",
    "fpr0, tpr0, _ = roc_curve(y_test, y_score0[:, 1], pos_label='Electronic')\n",
    "\n",
    "# roc_auc0 --> ROC/AUC of decision tree without PCA\n",
    "roc_auc0 = auc(fpr0, tpr0)\n",
    "\n",
    "plt.plot(fpr0, tpr0, color='royalblue', lw=2, label='Decision Tree$\\;$(AUC = %.3f)' % roc_auc0)\n",
    "\n",
    "plt.plot([0, 1], [0, 1], color='red', lw=2, linestyle='--')\n",
    "plt.xlim([0.0, 1.0])\n",
    "plt.ylim([0.0, 1.05])\n",
    "plt.xlabel('False Positive Rate', fontsize=12)\n",
    "plt.ylabel('True Positive Rate', fontsize=12)\n",
    "plt.title('AUC(ROC curve) - Decision Tree', fontsize=12)\n",
    "plt.legend(loc=\"lower right\", fontsize=12, frameon=False)\n",
    "plt.tick_params(axis='both', which='major', labelsize=16)\n",
    "plt.show()"
   ]
  },
  {
   "cell_type": "code",
   "execution_count": 13,
   "metadata": {},
   "outputs": [
    {
     "name": "stdout",
     "output_type": "stream",
     "text": [
      "Legend:\n",
      "True: Jazz\n",
      "False: Rock\n",
      "[[ 66  53]\n",
      " [133 536]]\n"
     ]
    },
    {
     "data": {
      "image/png": "[encoded data removed]",
      "text/plain": [
       "<Figure size 432x288 with 2 Axes>"
      ]
     },
     "metadata": {
      "needs_background": "light"
     },
     "output_type": "display_data"
    }
   ],
   "source": [
    "print(\"Legend:\\nTrue: Jazz\"\n",
    "      \"\\nFalse: Rock\")\n",
    "cm = plot_confusion_matrix(clf,test,y_test_enc,\n",
    "                            cmap = plt.cm.Blues)\n",
    "cm.ax_.set_title('Confusion Matrix - Decision tree (without PCA)')\n",
    "print(cm.confusion_matrix)\n",
    "plt.show()"
   ]
  },
  {
   "cell_type": "markdown",
   "metadata": {},
   "source": [
    "# IREP"
   ]
  },
  {
   "cell_type": "code",
   "execution_count": 14,
   "metadata": {},
   "outputs": [
    {
     "name": "stdout",
     "output_type": "stream",
     "text": [
      "\n",
      "prune_size:  0.1\n",
      "              precision    recall  f1-score   support\n",
      "\n",
      "       False       0.31      0.61      0.41       119\n",
      "        True       0.92      0.76      0.83       669\n",
      "\n",
      "    accuracy                           0.74       788\n",
      "   macro avg       0.61      0.68      0.62       788\n",
      "weighted avg       0.82      0.74      0.77       788\n",
      "\n",
      "\n",
      "prune_size:  0.2\n",
      "              precision    recall  f1-score   support\n",
      "\n",
      "       False       0.47      0.35      0.40       119\n",
      "        True       0.89      0.93      0.91       669\n",
      "\n",
      "    accuracy                           0.84       788\n",
      "   macro avg       0.68      0.64      0.66       788\n",
      "weighted avg       0.83      0.84      0.83       788\n",
      "\n",
      "\n",
      "prune_size:  0.3\n",
      "              precision    recall  f1-score   support\n",
      "\n",
      "       False       0.44      0.27      0.34       119\n",
      "        True       0.88      0.94      0.91       669\n",
      "\n",
      "    accuracy                           0.84       788\n",
      "   macro avg       0.66      0.60      0.62       788\n",
      "weighted avg       0.81      0.84      0.82       788\n",
      "\n",
      "\n",
      "prune_size:  0.4\n",
      "              precision    recall  f1-score   support\n",
      "\n",
      "       False       0.47      0.32      0.38       119\n",
      "        True       0.89      0.94      0.91       669\n",
      "\n",
      "    accuracy                           0.84       788\n",
      "   macro avg       0.68      0.63      0.64       788\n",
      "weighted avg       0.82      0.84      0.83       788\n",
      "\n",
      "\n",
      "prune_size:  0.5\n",
      "              precision    recall  f1-score   support\n",
      "\n",
      "       False       0.68      0.18      0.28       119\n",
      "        True       0.87      0.99      0.92       669\n",
      "\n",
      "    accuracy                           0.86       788\n",
      "   macro avg       0.77      0.58      0.60       788\n",
      "weighted avg       0.84      0.86      0.83       788\n",
      "\n",
      "\n",
      "prune_size:  0.6\n",
      "              precision    recall  f1-score   support\n",
      "\n",
      "       False       0.54      0.24      0.34       119\n",
      "        True       0.88      0.96      0.92       669\n",
      "\n",
      "    accuracy                           0.85       788\n",
      "   macro avg       0.71      0.60      0.63       788\n",
      "weighted avg       0.83      0.85      0.83       788\n",
      "\n",
      "\n",
      "prune_size:  0.7\n",
      "              precision    recall  f1-score   support\n",
      "\n",
      "       False       0.46      0.32      0.38       119\n",
      "        True       0.89      0.93      0.91       669\n",
      "\n",
      "    accuracy                           0.84       788\n",
      "   macro avg       0.67      0.63      0.64       788\n",
      "weighted avg       0.82      0.84      0.83       788\n",
      "\n",
      "\n",
      "prune_size:  0.8\n",
      "              precision    recall  f1-score   support\n",
      "\n",
      "       False       0.27      0.05      0.09       119\n",
      "        True       0.85      0.98      0.91       669\n",
      "\n",
      "    accuracy                           0.84       788\n",
      "   macro avg       0.56      0.51      0.50       788\n",
      "weighted avg       0.76      0.84      0.79       788\n",
      "\n",
      "\n",
      "prune_size:  0.9\n",
      "              precision    recall  f1-score   support\n",
      "\n",
      "       False       0.00      0.00      0.00       119\n",
      "        True       0.85      1.00      0.92       669\n",
      "\n",
      "    accuracy                           0.85       788\n",
      "   macro avg       0.42      0.50      0.46       788\n",
      "weighted avg       0.72      0.85      0.78       788\n",
      "\n"
     ]
    },
    {
     "name": "stderr",
     "output_type": "stream",
     "text": [
      "/Users/samuele/opt/anaconda3/lib/python3.8/site-packages/sklearn/metrics/_classification.py:1245: UndefinedMetricWarning: Precision and F-score are ill-defined and being set to 0.0 in labels with no predicted samples. Use `zero_division` parameter to control this behavior.\n",
      "  _warn_prf(average, modifier, msg_start, len(result))\n",
      "/Users/samuele/opt/anaconda3/lib/python3.8/site-packages/sklearn/metrics/_classification.py:1245: UndefinedMetricWarning: Precision and F-score are ill-defined and being set to 0.0 in labels with no predicted samples. Use `zero_division` parameter to control this behavior.\n",
      "  _warn_prf(average, modifier, msg_start, len(result))\n",
      "/Users/samuele/opt/anaconda3/lib/python3.8/site-packages/sklearn/metrics/_classification.py:1245: UndefinedMetricWarning: Precision and F-score are ill-defined and being set to 0.0 in labels with no predicted samples. Use `zero_division` parameter to control this behavior.\n",
      "  _warn_prf(average, modifier, msg_start, len(result))\n"
     ]
    },
    {
     "name": "stdout",
     "output_type": "stream",
     "text": [
      "\n",
      "prune_size:  1\n",
      "              precision    recall  f1-score   support\n",
      "\n",
      "       False       0.00      0.00      0.00       119\n",
      "        True       0.85      1.00      0.92       669\n",
      "\n",
      "    accuracy                           0.85       788\n",
      "   macro avg       0.42      0.50      0.46       788\n",
      "weighted avg       0.72      0.85      0.78       788\n",
      "\n"
     ]
    },
    {
     "name": "stderr",
     "output_type": "stream",
     "text": [
      "irep.py: .fit | base.py: ._check_allpos_allneg: RuntimeWarning: \n",
      "Ruleset is universal. All predictions it makes with method .predict will be positive. It may be untrained or was trained on a dataset split lacking negative examples.\n",
      "\n",
      "base.py: .predict | base.py: ._check_allpos_allneg: RuntimeWarning: \n",
      "Ruleset is universal. All predictions it makes with method .predict will be positive. It may be untrained or was trained on a dataset split lacking negative examples.\n",
      "\n",
      "/Users/samuele/opt/anaconda3/lib/python3.8/site-packages/sklearn/metrics/_classification.py:1245: UndefinedMetricWarning: Precision and F-score are ill-defined and being set to 0.0 in labels with no predicted samples. Use `zero_division` parameter to control this behavior.\n",
      "  _warn_prf(average, modifier, msg_start, len(result))\n",
      "/Users/samuele/opt/anaconda3/lib/python3.8/site-packages/sklearn/metrics/_classification.py:1245: UndefinedMetricWarning: Precision and F-score are ill-defined and being set to 0.0 in labels with no predicted samples. Use `zero_division` parameter to control this behavior.\n",
      "  _warn_prf(average, modifier, msg_start, len(result))\n",
      "/Users/samuele/opt/anaconda3/lib/python3.8/site-packages/sklearn/metrics/_classification.py:1245: UndefinedMetricWarning: Precision and F-score are ill-defined and being set to 0.0 in labels with no predicted samples. Use `zero_division` parameter to control this behavior.\n",
      "  _warn_prf(average, modifier, msg_start, len(result))\n"
     ]
    }
   ],
   "source": [
    "for pr in [0.1, 0.2, 0.3, 0.4, 0.5, 0.6, 0.7, 0.8, 0.9, 1]: \n",
    "        irep_clf = lw.IREP(random_state=42, prune_size=pr)\n",
    "        irep_clf.fit(train, class_feat='genre_top', pos_class='Electronic')\n",
    "        y_predicted = irep_clf.predict(test)\n",
    "        print(\"\\nprune_size: \", pr)\n",
    "        print(classification_report(y_test_enc, y_predicted))"
   ]
  },
  {
   "cell_type": "code",
   "execution_count": 19,
   "metadata": {},
   "outputs": [],
   "source": [
    "irep_clf = lw.IREP(random_state=42, prune_size=0.1)\n",
    "irep_clf.fit(train, class_feat='genre_top', pos_class='Electronic')"
   ]
  },
  {
   "cell_type": "code",
   "execution_count": 20,
   "metadata": {},
   "outputs": [],
   "source": [
    "y_predicted = irep_clf.predict(test)"
   ]
  },
  {
   "cell_type": "code",
   "execution_count": 21,
   "metadata": {},
   "outputs": [
    {
     "name": "stdout",
     "output_type": "stream",
     "text": [
      "              precision    recall  f1-score   support\n",
      "\n",
      "       False       0.31      0.61      0.41       119\n",
      "        True       0.92      0.76      0.83       669\n",
      "\n",
      "    accuracy                           0.74       788\n",
      "   macro avg       0.61      0.68      0.62       788\n",
      "weighted avg       0.82      0.74      0.77       788\n",
      "\n"
     ]
    }
   ],
   "source": [
    "print(classification_report(y_test_enc, y_predicted))"
   ]
  },
  {
   "cell_type": "code",
   "execution_count": 22,
   "metadata": {},
   "outputs": [
    {
     "name": "stdout",
     "output_type": "stream",
     "text": [
      "[[bit_rate=160-192] V\n",
      "[instrumentalness=0.93-0.95] V\n",
      "[instrumentalness=0.83-0.86] V\n",
      "[valence=0.02-0.06] V\n",
      "[energy=0.94-1.0] V\n",
      "[speechiness=0.07-0.08] V\n",
      "[speechiness=0.12-0.2] V\n",
      "[speechiness=0.08-0.12] V\n",
      "[speechiness=0.2-0.65] V\n",
      "[instrumentalness=0.86-0.89]]\n"
     ]
    }
   ],
   "source": [
    "irep_clf.out_model()"
   ]
  },
  {
   "cell_type": "code",
   "execution_count": 25,
   "metadata": {},
   "outputs": [
    {
     "data": {
      "image/png": "[encoded data removed]",
      "text/plain": [
       "<Figure size 432x216 with 1 Axes>"
      ]
     },
     "metadata": {
      "needs_background": "light"
     },
     "output_type": "display_data"
    }
   ],
   "source": [
    "plt.figure(figsize=(6,3))\n",
    "\n",
    "# y_score0 --> scores of decision tree without PCA\n",
    "# fpr0, tpr0 ---> false positive and true positive of decision tree without PCA\n",
    "y_score0 = irep_clf.predict_proba(X_test)\n",
    "fpr0, tpr0, _ = roc_curve(y_test, y_score0[:, 1], pos_label='Electronic')\n",
    "\n",
    "# roc_auc0 --> ROC/AUC of decision tree without PCA\n",
    "roc_auc0 = auc(fpr0, tpr0)\n",
    "\n",
    "plt.plot(fpr0, tpr0, color='royalblue', lw=2, label='Decision Tree$\\;$(AUC = %.3f)' % roc_auc0)\n",
    "\n",
    "plt.plot([0, 1], [0, 1], color='red', lw=2, linestyle='--')\n",
    "plt.xlim([0.0, 1.0])\n",
    "plt.ylim([0.0, 1.05])\n",
    "plt.xlabel('False Positive Rate', fontsize=12)\n",
    "plt.ylabel('True Positive Rate', fontsize=12)\n",
    "plt.title('AUC(ROC curve) - Decision Tree', fontsize=12)\n",
    "plt.legend(loc=\"lower right\", fontsize=12, frameon=False)\n",
    "plt.tick_params(axis='both', which='major', labelsize=16)\n",
    "plt.show()"
   ]
  },
  {
   "cell_type": "code",
   "execution_count": 26,
   "metadata": {},
   "outputs": [
    {
     "name": "stdout",
     "output_type": "stream",
     "text": [
      "Legend:\n",
      "True: Jazz\n",
      "False: Rock\n",
      "[[ 72  47]\n",
      " [159 510]]\n"
     ]
    },
    {
     "data": {
      "image/png": "[encoded data removed]",
      "text/plain": [
       "<Figure size 432x288 with 2 Axes>"
      ]
     },
     "metadata": {
      "needs_background": "light"
     },
     "output_type": "display_data"
    }
   ],
   "source": [
    "print(\"Legend:\\nTrue: Jazz\"\n",
    "      \"\\nFalse: Rock\")\n",
    "cm = plot_confusion_matrix(irep_clf,test,y_test_enc,\n",
    "                            cmap = plt.cm.Blues)\n",
    "cm.ax_.set_title('Confusion Matrix - Decision tree (without PCA)')\n",
    "print(cm.confusion_matrix)\n",
    "plt.show()"
   ]
  },
  {
   "cell_type": "code",
   "execution_count": null,
   "metadata": {},
   "outputs": [],
   "source": []
  }
 ],
 "metadata": {
  "kernelspec": {
   "display_name": "Python 3",
   "language": "python",
   "name": "python3"
  },
  "language_info": {
   "codemirror_mode": {
    "name": "ipython",
    "version": 3
   },
   "file_extension": ".py",
   "mimetype": "text/x-python",
   "name": "python",
   "nbconvert_exporter": "python",
   "pygments_lexer": "ipython3",
   "version": "3.8.5"
  }
 },
 "nbformat": 4,
 "nbformat_minor": 2
}
