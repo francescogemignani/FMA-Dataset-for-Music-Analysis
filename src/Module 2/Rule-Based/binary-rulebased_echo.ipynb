{
 "cells": [
  {
   "cell_type": "code",
   "execution_count": 1,
   "metadata": {},
   "outputs": [],
   "source": [
    "%matplotlib inline\n",
    "\n",
    "import numpy as np\n",
    "import pandas as pd\n",
    "import matplotlib.pyplot as plt\n",
    "import seaborn as sns\n",
    "\n",
    "from sklearn import preprocessing\n",
    "from sklearn.model_selection import train_test_split, cross_val_score, GridSearchCV, StratifiedKFold\n",
    "from sklearn.metrics import accuracy_score, f1_score, classification_report, precision_score, recall_score\n",
    "from sklearn.metrics import roc_curve, auc, roc_auc_score, confusion_matrix\n",
    "from sklearn.metrics import plot_confusion_matrix\n",
    "from IPython.display import display\n",
    "\n",
    "from collections import defaultdict"
   ]
  },
  {
   "cell_type": "code",
   "execution_count": 2,
   "metadata": {},
   "outputs": [],
   "source": [
    "# utility function\n",
    "def make_confusion_matrix( cfm, title):\n",
    "    group_names = ['TN','FP','FN','TP']\n",
    "\n",
    "    group_counts = [\"{0:0.0f}\".format(value) for value in\n",
    "                cfm.flatten()]\n",
    "\n",
    "    group_percentages = [\"{0:.2%}\".format(value) for value in\n",
    "                     cfm.flatten()/np.sum(cf_matrix)]\n",
    "\n",
    "    labels = [f\"{v1}\\n{v2}\\n{v3}\" for v1, v2, v3 in\n",
    "          zip(group_names,group_counts,group_percentages)]\n",
    "\n",
    "    labels = np.asarray(labels).reshape(2,2)\n",
    "    plt.title(title)\n",
    "    \n",
    "    sns.heatmap(cfm, annot=labels, fmt=\"\", cmap='Blues')\n",
    "    plt.ylabel('True Label', fontsize=12)\n",
    "    plt.xlabel('Predicted',fontsize=12)\n",
    "    \n",
    "\n",
    "def plot_roc_curve(y_test, prediction, name_model):\n",
    "    test_fpr, test_tpr, te_thresholds = roc_curve(y_test, prediction)\n",
    "\n",
    "    plt.grid()\n",
    "    auc_score = round(auc(test_fpr, test_tpr),2)\n",
    "    plt.plot(test_fpr, test_tpr, label=f\"{name_model} - AUC =\"+ str(auc_score))\n",
    "    plt.plot([0,1],[0,1],'r--')\n",
    "    plt.legend()\n",
    "    plt.xlabel(\"True Positive Rate\")\n",
    "    plt.ylabel(\"False Positive Rate\")\n",
    "    plt.title(f\" AUC(ROC curve) - {name_model}\")\n",
    "    plt.grid(color='black', linestyle='', linewidth=0.5)\n",
    "    plt.show()"
   ]
  },
  {
   "cell_type": "markdown",
   "metadata": {},
   "source": [
    "# Data Preparation"
   ]
  },
  {
   "cell_type": "code",
   "execution_count": 3,
   "metadata": {},
   "outputs": [
    {
     "data": {
      "text/html": [
       "<div>\n",
       "<style scoped>\n",
       "    .dataframe tbody tr th:only-of-type {\n",
       "        vertical-align: middle;\n",
       "    }\n",
       "\n",
       "    .dataframe tbody tr th {\n",
       "        vertical-align: top;\n",
       "    }\n",
       "\n",
       "    .dataframe thead th {\n",
       "        text-align: right;\n",
       "    }\n",
       "</style>\n",
       "<table border=\"1\" class=\"dataframe\">\n",
       "  <thead>\n",
       "    <tr style=\"text-align: right;\">\n",
       "      <th></th>\n",
       "      <th>acousticness</th>\n",
       "      <th>danceability</th>\n",
       "      <th>energy</th>\n",
       "      <th>instrumentalness</th>\n",
       "      <th>liveness</th>\n",
       "      <th>speechiness</th>\n",
       "      <th>valence</th>\n",
       "      <th>tempo</th>\n",
       "      <th>duration</th>\n",
       "      <th>bit_rate</th>\n",
       "      <th>genre_top</th>\n",
       "    </tr>\n",
       "    <tr>\n",
       "      <th>track_id</th>\n",
       "      <th></th>\n",
       "      <th></th>\n",
       "      <th></th>\n",
       "      <th></th>\n",
       "      <th></th>\n",
       "      <th></th>\n",
       "      <th></th>\n",
       "      <th></th>\n",
       "      <th></th>\n",
       "      <th></th>\n",
       "      <th></th>\n",
       "    </tr>\n",
       "  </thead>\n",
       "  <tbody>\n",
       "    <tr>\n",
       "      <th>10</th>\n",
       "      <td>0.951670</td>\n",
       "      <td>0.658179</td>\n",
       "      <td>0.924525</td>\n",
       "      <td>0.965427</td>\n",
       "      <td>0.115474</td>\n",
       "      <td>0.032985</td>\n",
       "      <td>0.963590</td>\n",
       "      <td>111.562</td>\n",
       "      <td>161</td>\n",
       "      <td>192</td>\n",
       "      <td>Pop</td>\n",
       "    </tr>\n",
       "    <tr>\n",
       "      <th>213</th>\n",
       "      <td>0.933741</td>\n",
       "      <td>0.312720</td>\n",
       "      <td>0.340999</td>\n",
       "      <td>0.919242</td>\n",
       "      <td>0.082976</td>\n",
       "      <td>0.032745</td>\n",
       "      <td>0.043054</td>\n",
       "      <td>142.499</td>\n",
       "      <td>247</td>\n",
       "      <td>256</td>\n",
       "      <td>Pop</td>\n",
       "    </tr>\n",
       "    <tr>\n",
       "      <th>384</th>\n",
       "      <td>0.444822</td>\n",
       "      <td>0.561166</td>\n",
       "      <td>0.700912</td>\n",
       "      <td>0.817286</td>\n",
       "      <td>0.111111</td>\n",
       "      <td>0.036441</td>\n",
       "      <td>0.344763</td>\n",
       "      <td>91.077</td>\n",
       "      <td>249</td>\n",
       "      <td>256</td>\n",
       "      <td>Electronic</td>\n",
       "    </tr>\n",
       "    <tr>\n",
       "      <th>386</th>\n",
       "      <td>0.436375</td>\n",
       "      <td>0.585549</td>\n",
       "      <td>0.782927</td>\n",
       "      <td>0.894428</td>\n",
       "      <td>0.142187</td>\n",
       "      <td>0.047893</td>\n",
       "      <td>0.301543</td>\n",
       "      <td>130.464</td>\n",
       "      <td>357</td>\n",
       "      <td>256</td>\n",
       "      <td>Electronic</td>\n",
       "    </tr>\n",
       "    <tr>\n",
       "      <th>387</th>\n",
       "      <td>0.464508</td>\n",
       "      <td>0.493599</td>\n",
       "      <td>0.552749</td>\n",
       "      <td>0.736318</td>\n",
       "      <td>0.110117</td>\n",
       "      <td>0.055116</td>\n",
       "      <td>0.221480</td>\n",
       "      <td>136.255</td>\n",
       "      <td>326</td>\n",
       "      <td>256</td>\n",
       "      <td>Electronic</td>\n",
       "    </tr>\n",
       "  </tbody>\n",
       "</table>\n",
       "</div>"
      ],
      "text/plain": [
       "          acousticness  danceability    energy  instrumentalness  liveness  \\\n",
       "track_id                                                                     \n",
       "10            0.951670      0.658179  0.924525          0.965427  0.115474   \n",
       "213           0.933741      0.312720  0.340999          0.919242  0.082976   \n",
       "384           0.444822      0.561166  0.700912          0.817286  0.111111   \n",
       "386           0.436375      0.585549  0.782927          0.894428  0.142187   \n",
       "387           0.464508      0.493599  0.552749          0.736318  0.110117   \n",
       "\n",
       "          speechiness   valence    tempo  duration  bit_rate   genre_top  \n",
       "track_id                                                                  \n",
       "10           0.032985  0.963590  111.562       161       192         Pop  \n",
       "213          0.032745  0.043054  142.499       247       256         Pop  \n",
       "384          0.036441  0.344763   91.077       249       256  Electronic  \n",
       "386          0.047893  0.301543  130.464       357       256  Electronic  \n",
       "387          0.055116  0.221480  136.255       326       256  Electronic  "
      ]
     },
     "metadata": {},
     "output_type": "display_data"
    },
    {
     "data": {
      "text/plain": [
       "Electronic    2049\n",
       "Pop            337\n",
       "Name: genre_top, dtype: int64"
      ]
     },
     "metadata": {},
     "output_type": "display_data"
    }
   ],
   "source": [
    "df = pd.read_csv('/Users/samuele/University/2.DM2/fma_metadata/echo_popelec.csv')\n",
    "df.set_index('track_id', inplace=True)\n",
    "display(df.head())\n",
    "display(df['genre_top'].value_counts())"
   ]
  },
  {
   "cell_type": "markdown",
   "metadata": {},
   "source": [
    "# Data Partitioning"
   ]
  },
  {
   "cell_type": "code",
   "execution_count": 6,
   "metadata": {},
   "outputs": [],
   "source": [
    "attributes = [col for col in df.columns if col != 'genre_top']\n",
    "\n",
    "X = df[attributes]\n",
    "y = df['genre_top']\n",
    "X_train, X_test, y_train, y_test = train_test_split(X, y, test_size=0.3, random_state=100)"
   ]
  },
  {
   "cell_type": "code",
   "execution_count": 7,
   "metadata": {},
   "outputs": [],
   "source": [
    "# encoding labels\n",
    "le = preprocessing.LabelEncoder()\n",
    "y_test_enc = ~le.fit_transform(y_test).astype('bool')"
   ]
  },
  {
   "cell_type": "code",
   "execution_count": 9,
   "metadata": {},
   "outputs": [
    {
     "data": {
      "text/plain": [
       "Electronic    2049\n",
       "Pop            337\n",
       "Name: genre_top, dtype: int64"
      ]
     },
     "execution_count": 9,
     "metadata": {},
     "output_type": "execute_result"
    }
   ],
   "source": [
    "df['genre_top'].value_counts()"
   ]
  },
  {
   "cell_type": "markdown",
   "metadata": {},
   "source": [
    "# RIPPER\n",
    "## Pop - Electronic classifier"
   ]
  },
  {
   "cell_type": "markdown",
   "metadata": {},
   "source": [
    "https://github.com/imoscovitz/wittgenstein"
   ]
  },
  {
   "cell_type": "code",
   "execution_count": 10,
   "metadata": {},
   "outputs": [],
   "source": [
    "import wittgenstein as lw"
   ]
  },
  {
   "cell_type": "code",
   "execution_count": 16,
   "metadata": {},
   "outputs": [
    {
     "name": "stdout",
     "output_type": "stream",
     "text": [
      "prune_size:  0.1\n",
      "              precision    recall  f1-score   support\n",
      "\n",
      "       False       0.31      0.55      0.39       100\n",
      "        True       0.92      0.80      0.85       616\n",
      "\n",
      "    accuracy                           0.76       716\n",
      "   macro avg       0.61      0.67      0.62       716\n",
      "weighted avg       0.83      0.76      0.79       716\n",
      "\n",
      "prune_size:  0.2\n",
      "              precision    recall  f1-score   support\n",
      "\n",
      "       False       0.27      0.72      0.40       100\n",
      "        True       0.94      0.69      0.80       616\n",
      "\n",
      "    accuracy                           0.69       716\n",
      "   macro avg       0.61      0.70      0.60       716\n",
      "weighted avg       0.85      0.69      0.74       716\n",
      "\n",
      "prune_size:  0.3\n",
      "              precision    recall  f1-score   support\n",
      "\n",
      "       False       0.20      0.84      0.33       100\n",
      "        True       0.95      0.46      0.62       616\n",
      "\n",
      "    accuracy                           0.52       716\n",
      "   macro avg       0.57      0.65      0.47       716\n",
      "weighted avg       0.84      0.52      0.58       716\n",
      "\n",
      "prune_size:  0.4\n",
      "              precision    recall  f1-score   support\n",
      "\n",
      "       False       0.23      0.81      0.36       100\n",
      "        True       0.95      0.56      0.70       616\n",
      "\n",
      "    accuracy                           0.59       716\n",
      "   macro avg       0.59      0.69      0.53       716\n",
      "weighted avg       0.85      0.59      0.66       716\n",
      "\n",
      "prune_size:  0.5\n",
      "              precision    recall  f1-score   support\n",
      "\n",
      "       False       0.18      0.89      0.30       100\n",
      "        True       0.95      0.33      0.49       616\n",
      "\n",
      "    accuracy                           0.41       716\n",
      "   macro avg       0.56      0.61      0.39       716\n",
      "weighted avg       0.84      0.41      0.46       716\n",
      "\n",
      "prune_size:  0.6\n",
      "              precision    recall  f1-score   support\n",
      "\n",
      "       False       0.26      0.67      0.37       100\n",
      "        True       0.93      0.69      0.79       616\n",
      "\n",
      "    accuracy                           0.68       716\n",
      "   macro avg       0.59      0.68      0.58       716\n",
      "weighted avg       0.83      0.68      0.73       716\n",
      "\n",
      "prune_size:  0.7\n",
      "              precision    recall  f1-score   support\n",
      "\n",
      "       False       0.29      0.63      0.40       100\n",
      "        True       0.93      0.75      0.83       616\n",
      "\n",
      "    accuracy                           0.73       716\n",
      "   macro avg       0.61      0.69      0.61       716\n",
      "weighted avg       0.84      0.73      0.77       716\n",
      "\n",
      "prune_size:  0.8\n",
      "              precision    recall  f1-score   support\n",
      "\n",
      "       False       0.39      0.41      0.40       100\n",
      "        True       0.90      0.89      0.90       616\n",
      "\n",
      "    accuracy                           0.83       716\n",
      "   macro avg       0.65      0.65      0.65       716\n",
      "weighted avg       0.83      0.83      0.83       716\n",
      "\n",
      "prune_size:  0.9\n",
      "              precision    recall  f1-score   support\n",
      "\n",
      "       False       0.17      0.83      0.29       100\n",
      "        True       0.93      0.36      0.52       616\n",
      "\n",
      "    accuracy                           0.42       716\n",
      "   macro avg       0.55      0.59      0.40       716\n",
      "weighted avg       0.82      0.42      0.49       716\n",
      "\n",
      "prune_size:  1\n",
      "              precision    recall  f1-score   support\n",
      "\n",
      "       False       0.14      1.00      0.25       100\n",
      "        True       0.00      0.00      0.00       616\n",
      "\n",
      "    accuracy                           0.14       716\n",
      "   macro avg       0.07      0.50      0.12       716\n",
      "weighted avg       0.02      0.14      0.03       716\n",
      "\n"
     ]
    },
    {
     "name": "stderr",
     "output_type": "stream",
     "text": [
      "ripper.py: .fit | base.py: ._check_allpos_allneg: RuntimeWarning: \n",
      "Ruleset is empty. All predictions it makes with method .predict will be negative. It may be untrained or was trained on a dataset split lacking positive examples.\n",
      "\n",
      "base.py: .predict | base.py: ._check_allpos_allneg: RuntimeWarning: \n",
      "Ruleset is empty. All predictions it makes with method .predict will be negative. It may be untrained or was trained on a dataset split lacking positive examples.\n",
      "\n",
      "/Users/samuele/opt/anaconda3/lib/python3.8/site-packages/sklearn/metrics/_classification.py:1245: UndefinedMetricWarning: Precision and F-score are ill-defined and being set to 0.0 in labels with no predicted samples. Use `zero_division` parameter to control this behavior.\n",
      "  _warn_prf(average, modifier, msg_start, len(result))\n",
      "/Users/samuele/opt/anaconda3/lib/python3.8/site-packages/sklearn/metrics/_classification.py:1245: UndefinedMetricWarning: Precision and F-score are ill-defined and being set to 0.0 in labels with no predicted samples. Use `zero_division` parameter to control this behavior.\n",
      "  _warn_prf(average, modifier, msg_start, len(result))\n",
      "/Users/samuele/opt/anaconda3/lib/python3.8/site-packages/sklearn/metrics/_classification.py:1245: UndefinedMetricWarning: Precision and F-score are ill-defined and being set to 0.0 in labels with no predicted samples. Use `zero_division` parameter to control this behavior.\n",
      "  _warn_prf(average, modifier, msg_start, len(result))\n"
     ]
    }
   ],
   "source": [
    "for pr in [0.1, 0.2, 0.3, 0.4, 0.5, 0.6, 0.7, 0.8, 0.9, 1]: \n",
    "        clf = lw.RIPPER(random_state=42, prune_size=pr)\n",
    "        clf.fit(X_train, y_train, class_feat='genre_top', pos_class='Electronic')\n",
    "        y_predicted = clf.predict(X_test)\n",
    "        print(\"prune_size: \", pr)\n",
    "        print(classification_report(y_test_enc, y_predicted))"
   ]
  },
  {
   "cell_type": "code",
   "execution_count": 18,
   "metadata": {},
   "outputs": [],
   "source": [
    "clf = lw.RIPPER(random_state=42, prune_size=0.1)\n",
    "clf.fit(X_train, y_train, class_feat='genre_top', pos_class='Electronic')"
   ]
  },
  {
   "cell_type": "code",
   "execution_count": 19,
   "metadata": {},
   "outputs": [
    {
     "name": "stdout",
     "output_type": "stream",
     "text": [
      "              precision    recall  f1-score   support\n",
      "\n",
      "       False       0.31      0.55      0.39       100\n",
      "        True       0.92      0.80      0.85       616\n",
      "\n",
      "    accuracy                           0.76       716\n",
      "   macro avg       0.61      0.67      0.62       716\n",
      "weighted avg       0.83      0.76      0.79       716\n",
      "\n"
     ]
    }
   ],
   "source": [
    "y_predicted = clf.predict(X_test)\n",
    "print(classification_report(y_test_enc, y_predicted))"
   ]
  },
  {
   "cell_type": "code",
   "execution_count": 20,
   "metadata": {},
   "outputs": [
    {
     "name": "stdout",
     "output_type": "stream",
     "text": [
      "[[bit_rate=160-192 ^ acousticness=0.22-0.36] V\n",
      "[duration=418-900] V\n",
      "[bit_rate=160-192] V\n",
      "[valence=0.01-0.05] V\n",
      "[speechiness=0.2-0.65] V\n",
      "[speechiness=0.11-0.2] V\n",
      "[speechiness=0.07-0.08] V\n",
      "[speechiness=0.08-0.11] V\n",
      "[instrumentalness=0.93-0.95] V\n",
      "[valence=0.05-0.13] V\n",
      "[instrumentalness=0.76-0.83] V\n",
      "[instrumentalness=0.83-0.86] V\n",
      "[bit_rate=256-320 ^ energy=0.54-0.63]]\n"
     ]
    }
   ],
   "source": [
    "clf.out_model()"
   ]
  },
  {
   "cell_type": "code",
   "execution_count": 21,
   "metadata": {},
   "outputs": [
    {
     "data": {
      "image/png": "[encoded data removed]",
      "text/plain": [
       "<Figure size 432x288 with 1 Axes>"
      ]
     },
     "metadata": {
      "needs_background": "light"
     },
     "output_type": "display_data"
    }
   ],
   "source": [
    "plot_roc_curve(y_test_enc, y_predicted, 'RIPPER')"
   ]
  },
  {
   "cell_type": "code",
   "execution_count": 22,
   "metadata": {},
   "outputs": [
    {
     "data": {
      "image/png": "[encoded data removed]",
      "text/plain": [
       "<Figure size 432x288 with 2 Axes>"
      ]
     },
     "metadata": {
      "needs_background": "light"
     },
     "output_type": "display_data"
    }
   ],
   "source": [
    "cf_matrix = confusion_matrix(y_test_enc, y_predicted)\n",
    "make_confusion_matrix(cf_matrix, 'RIPPER')"
   ]
  },
  {
   "cell_type": "markdown",
   "metadata": {},
   "source": [
    "# IREP"
   ]
  },
  {
   "cell_type": "code",
   "execution_count": 24,
   "metadata": {},
   "outputs": [
    {
     "name": "stdout",
     "output_type": "stream",
     "text": [
      "\n",
      "prune_size:  0.1\n",
      "              precision    recall  f1-score   support\n",
      "\n",
      "       False       0.36      0.54      0.43       100\n",
      "        True       0.92      0.84      0.88       616\n",
      "\n",
      "    accuracy                           0.80       716\n",
      "   macro avg       0.64      0.69      0.66       716\n",
      "weighted avg       0.84      0.80      0.82       716\n",
      "\n",
      "\n",
      "prune_size:  0.2\n",
      "              precision    recall  f1-score   support\n",
      "\n",
      "       False       0.36      0.48      0.41       100\n",
      "        True       0.91      0.86      0.88       616\n",
      "\n",
      "    accuracy                           0.81       716\n",
      "   macro avg       0.63      0.67      0.65       716\n",
      "weighted avg       0.83      0.81      0.82       716\n",
      "\n",
      "\n",
      "prune_size:  0.3\n",
      "              precision    recall  f1-score   support\n",
      "\n",
      "       False       0.51      0.25      0.34       100\n",
      "        True       0.89      0.96      0.92       616\n",
      "\n",
      "    accuracy                           0.86       716\n",
      "   macro avg       0.70      0.61      0.63       716\n",
      "weighted avg       0.83      0.86      0.84       716\n",
      "\n",
      "\n",
      "prune_size:  0.4\n",
      "              precision    recall  f1-score   support\n",
      "\n",
      "       False       0.46      0.18      0.26       100\n",
      "        True       0.88      0.97      0.92       616\n",
      "\n",
      "    accuracy                           0.86       716\n",
      "   macro avg       0.67      0.57      0.59       716\n",
      "weighted avg       0.82      0.86      0.83       716\n",
      "\n",
      "\n",
      "prune_size:  0.5\n",
      "              precision    recall  f1-score   support\n",
      "\n",
      "       False       0.42      0.14      0.21       100\n",
      "        True       0.87      0.97      0.92       616\n",
      "\n",
      "    accuracy                           0.85       716\n",
      "   macro avg       0.65      0.55      0.56       716\n",
      "weighted avg       0.81      0.85      0.82       716\n",
      "\n",
      "\n",
      "prune_size:  0.6\n",
      "              precision    recall  f1-score   support\n",
      "\n",
      "       False       0.24      0.12      0.16       100\n",
      "        True       0.87      0.94      0.90       616\n",
      "\n",
      "    accuracy                           0.82       716\n",
      "   macro avg       0.55      0.53      0.53       716\n",
      "weighted avg       0.78      0.82      0.80       716\n",
      "\n",
      "\n",
      "prune_size:  0.7\n",
      "              precision    recall  f1-score   support\n",
      "\n",
      "       False       0.27      0.07      0.11       100\n",
      "        True       0.87      0.97      0.91       616\n",
      "\n",
      "    accuracy                           0.84       716\n",
      "   macro avg       0.57      0.52      0.51       716\n",
      "weighted avg       0.78      0.84      0.80       716\n",
      "\n",
      "\n",
      "prune_size:  0.8\n",
      "              precision    recall  f1-score   support\n",
      "\n",
      "       False       0.42      0.19      0.26       100\n",
      "        True       0.88      0.96      0.92       616\n",
      "\n",
      "    accuracy                           0.85       716\n",
      "   macro avg       0.65      0.57      0.59       716\n",
      "weighted avg       0.82      0.85      0.83       716\n",
      "\n",
      "\n",
      "prune_size:  0.9\n",
      "              precision    recall  f1-score   support\n",
      "\n",
      "       False       0.56      0.05      0.09       100\n",
      "        True       0.87      0.99      0.93       616\n",
      "\n",
      "    accuracy                           0.86       716\n",
      "   macro avg       0.71      0.52      0.51       716\n",
      "weighted avg       0.82      0.86      0.81       716\n",
      "\n",
      "\n",
      "prune_size:  1\n",
      "              precision    recall  f1-score   support\n",
      "\n",
      "       False       0.00      0.00      0.00       100\n",
      "        True       0.86      1.00      0.92       616\n",
      "\n",
      "    accuracy                           0.86       716\n",
      "   macro avg       0.43      0.50      0.46       716\n",
      "weighted avg       0.74      0.86      0.80       716\n",
      "\n"
     ]
    },
    {
     "name": "stderr",
     "output_type": "stream",
     "text": [
      "irep.py: .fit | base.py: ._check_allpos_allneg: RuntimeWarning: \n",
      "Ruleset is universal. All predictions it makes with method .predict will be positive. It may be untrained or was trained on a dataset split lacking negative examples.\n",
      "\n",
      "base.py: .predict | base.py: ._check_allpos_allneg: RuntimeWarning: \n",
      "Ruleset is universal. All predictions it makes with method .predict will be positive. It may be untrained or was trained on a dataset split lacking negative examples.\n",
      "\n",
      "/Users/samuele/opt/anaconda3/lib/python3.8/site-packages/sklearn/metrics/_classification.py:1245: UndefinedMetricWarning: Precision and F-score are ill-defined and being set to 0.0 in labels with no predicted samples. Use `zero_division` parameter to control this behavior.\n",
      "  _warn_prf(average, modifier, msg_start, len(result))\n",
      "/Users/samuele/opt/anaconda3/lib/python3.8/site-packages/sklearn/metrics/_classification.py:1245: UndefinedMetricWarning: Precision and F-score are ill-defined and being set to 0.0 in labels with no predicted samples. Use `zero_division` parameter to control this behavior.\n",
      "  _warn_prf(average, modifier, msg_start, len(result))\n",
      "/Users/samuele/opt/anaconda3/lib/python3.8/site-packages/sklearn/metrics/_classification.py:1245: UndefinedMetricWarning: Precision and F-score are ill-defined and being set to 0.0 in labels with no predicted samples. Use `zero_division` parameter to control this behavior.\n",
      "  _warn_prf(average, modifier, msg_start, len(result))\n"
     ]
    }
   ],
   "source": [
    "for pr in [0.1, 0.2, 0.3, 0.4, 0.5, 0.6, 0.7, 0.8, 0.9, 1]: \n",
    "        irep_clf = lw.IREP(random_state=42, prune_size=pr)\n",
    "        irep_clf.fit(X_train, y_train, class_feat='genre_top', pos_class='Electronic')\n",
    "        y_predicted = irep_clf.predict(X_test)\n",
    "        print(\"\\nprune_size: \", pr)\n",
    "        print(classification_report(y_test_enc, y_predicted))"
   ]
  },
  {
   "cell_type": "code",
   "execution_count": 26,
   "metadata": {},
   "outputs": [],
   "source": [
    "irep_clf = lw.IREP(random_state=42, prune_size=0.1)\n",
    "irep_clf.fit(X_train, y_train, class_feat='genre_top', pos_class='Electronic')"
   ]
  },
  {
   "cell_type": "code",
   "execution_count": 27,
   "metadata": {},
   "outputs": [],
   "source": [
    "y_predicted = irep_clf.predict(X_test)"
   ]
  },
  {
   "cell_type": "code",
   "execution_count": 28,
   "metadata": {},
   "outputs": [
    {
     "name": "stdout",
     "output_type": "stream",
     "text": [
      "              precision    recall  f1-score   support\n",
      "\n",
      "       False       0.36      0.54      0.43       100\n",
      "        True       0.92      0.84      0.88       616\n",
      "\n",
      "    accuracy                           0.80       716\n",
      "   macro avg       0.64      0.69      0.66       716\n",
      "weighted avg       0.84      0.80      0.82       716\n",
      "\n"
     ]
    }
   ],
   "source": [
    "print(classification_report(y_test_enc, y_predicted))"
   ]
  },
  {
   "cell_type": "code",
   "execution_count": 29,
   "metadata": {},
   "outputs": [
    {
     "name": "stdout",
     "output_type": "stream",
     "text": [
      "[[bit_rate=160-192] V\n",
      "[duration=418-900] V\n",
      "[duration=328-418] V\n",
      "[instrumentalness=0.93-0.95] V\n",
      "[tempo=85.0-93.32] V\n",
      "[energy=0.94-1.0] V\n",
      "[instrumentalness=0.83-0.86] V\n",
      "[speechiness=0.11-0.2] V\n",
      "[speechiness=0.2-0.65] V\n",
      "[speechiness=0.07-0.08] V\n",
      "[speechiness=0.06-0.07] V\n",
      "[speechiness=0.08-0.11] V\n",
      "[speechiness=0.04-0.05]]\n"
     ]
    }
   ],
   "source": [
    "irep_clf.out_model()"
   ]
  },
  {
   "cell_type": "code",
   "execution_count": 30,
   "metadata": {},
   "outputs": [
    {
     "data": {
      "image/png": "[encoded data removed]",
      "text/plain": [
       "<Figure size 432x288 with 1 Axes>"
      ]
     },
     "metadata": {
      "needs_background": "light"
     },
     "output_type": "display_data"
    }
   ],
   "source": [
    "plot_roc_curve(y_test_enc, y_predicted, 'IREP')"
   ]
  },
  {
   "cell_type": "code",
   "execution_count": 31,
   "metadata": {},
   "outputs": [
    {
     "data": {
      "image/png": "[encoded data removed]",
      "text/plain": [
       "<Figure size 432x288 with 2 Axes>"
      ]
     },
     "metadata": {
      "needs_background": "light"
     },
     "output_type": "display_data"
    }
   ],
   "source": [
    "cf_matrix = confusion_matrix(y_test_enc, y_predicted)\n",
    "make_confusion_matrix(cf_matrix, 'IREP')"
   ]
  },
  {
   "cell_type": "code",
   "execution_count": null,
   "metadata": {},
   "outputs": [],
   "source": []
  },
  {
   "cell_type": "markdown",
   "metadata": {},
   "source": [
    "# Electronic - Classical classifier"
   ]
  },
  {
   "cell_type": "code",
   "execution_count": 38,
   "metadata": {},
   "outputs": [
    {
     "data": {
      "text/html": [
       "<div>\n",
       "<style scoped>\n",
       "    .dataframe tbody tr th:only-of-type {\n",
       "        vertical-align: middle;\n",
       "    }\n",
       "\n",
       "    .dataframe tbody tr th {\n",
       "        vertical-align: top;\n",
       "    }\n",
       "\n",
       "    .dataframe thead th {\n",
       "        text-align: right;\n",
       "    }\n",
       "</style>\n",
       "<table border=\"1\" class=\"dataframe\">\n",
       "  <thead>\n",
       "    <tr style=\"text-align: right;\">\n",
       "      <th></th>\n",
       "      <th>acousticness</th>\n",
       "      <th>danceability</th>\n",
       "      <th>energy</th>\n",
       "      <th>instrumentalness</th>\n",
       "      <th>liveness</th>\n",
       "      <th>speechiness</th>\n",
       "      <th>valence</th>\n",
       "      <th>tempo</th>\n",
       "      <th>duration</th>\n",
       "      <th>bit_rate</th>\n",
       "      <th>genre_top</th>\n",
       "    </tr>\n",
       "    <tr>\n",
       "      <th>track_id</th>\n",
       "      <th></th>\n",
       "      <th></th>\n",
       "      <th></th>\n",
       "      <th></th>\n",
       "      <th></th>\n",
       "      <th></th>\n",
       "      <th></th>\n",
       "      <th></th>\n",
       "      <th></th>\n",
       "      <th></th>\n",
       "      <th></th>\n",
       "    </tr>\n",
       "  </thead>\n",
       "  <tbody>\n",
       "    <tr>\n",
       "      <th>384</th>\n",
       "      <td>0.444822</td>\n",
       "      <td>0.561166</td>\n",
       "      <td>0.700912</td>\n",
       "      <td>0.817286</td>\n",
       "      <td>0.111111</td>\n",
       "      <td>0.036441</td>\n",
       "      <td>0.344763</td>\n",
       "      <td>91.077</td>\n",
       "      <td>249</td>\n",
       "      <td>256</td>\n",
       "      <td>Electronic</td>\n",
       "    </tr>\n",
       "    <tr>\n",
       "      <th>386</th>\n",
       "      <td>0.436375</td>\n",
       "      <td>0.585549</td>\n",
       "      <td>0.782927</td>\n",
       "      <td>0.894428</td>\n",
       "      <td>0.142187</td>\n",
       "      <td>0.047893</td>\n",
       "      <td>0.301543</td>\n",
       "      <td>130.464</td>\n",
       "      <td>357</td>\n",
       "      <td>256</td>\n",
       "      <td>Electronic</td>\n",
       "    </tr>\n",
       "    <tr>\n",
       "      <th>387</th>\n",
       "      <td>0.464508</td>\n",
       "      <td>0.493599</td>\n",
       "      <td>0.552749</td>\n",
       "      <td>0.736318</td>\n",
       "      <td>0.110117</td>\n",
       "      <td>0.055116</td>\n",
       "      <td>0.221480</td>\n",
       "      <td>136.255</td>\n",
       "      <td>326</td>\n",
       "      <td>256</td>\n",
       "      <td>Electronic</td>\n",
       "    </tr>\n",
       "    <tr>\n",
       "      <th>396</th>\n",
       "      <td>0.844582</td>\n",
       "      <td>0.144217</td>\n",
       "      <td>0.627557</td>\n",
       "      <td>0.868801</td>\n",
       "      <td>0.386048</td>\n",
       "      <td>0.091710</td>\n",
       "      <td>0.031676</td>\n",
       "      <td>94.035</td>\n",
       "      <td>1137</td>\n",
       "      <td>256</td>\n",
       "      <td>Electronic</td>\n",
       "    </tr>\n",
       "    <tr>\n",
       "      <th>397</th>\n",
       "      <td>0.625136</td>\n",
       "      <td>0.219944</td>\n",
       "      <td>0.167367</td>\n",
       "      <td>0.764413</td>\n",
       "      <td>0.349105</td>\n",
       "      <td>0.055938</td>\n",
       "      <td>0.093487</td>\n",
       "      <td>74.391</td>\n",
       "      <td>240</td>\n",
       "      <td>256</td>\n",
       "      <td>Electronic</td>\n",
       "    </tr>\n",
       "  </tbody>\n",
       "</table>\n",
       "</div>"
      ],
      "text/plain": [
       "          acousticness  danceability    energy  instrumentalness  liveness  \\\n",
       "track_id                                                                     \n",
       "384           0.444822      0.561166  0.700912          0.817286  0.111111   \n",
       "386           0.436375      0.585549  0.782927          0.894428  0.142187   \n",
       "387           0.464508      0.493599  0.552749          0.736318  0.110117   \n",
       "396           0.844582      0.144217  0.627557          0.868801  0.386048   \n",
       "397           0.625136      0.219944  0.167367          0.764413  0.349105   \n",
       "\n",
       "          speechiness   valence    tempo  duration  bit_rate   genre_top  \n",
       "track_id                                                                  \n",
       "384          0.036441  0.344763   91.077       249       256  Electronic  \n",
       "386          0.047893  0.301543  130.464       357       256  Electronic  \n",
       "387          0.055116  0.221480  136.255       326       256  Electronic  \n",
       "396          0.091710  0.031676   94.035      1137       256  Electronic  \n",
       "397          0.055938  0.093487   74.391       240       256  Electronic  "
      ]
     },
     "metadata": {},
     "output_type": "display_data"
    },
    {
     "data": {
      "text/plain": [
       "(2266, 11)"
      ]
     },
     "metadata": {},
     "output_type": "display_data"
    },
    {
     "data": {
      "text/plain": [
       "Electronic    2058\n",
       "Classical      208\n",
       "Name: genre_top, dtype: int64"
      ]
     },
     "metadata": {},
     "output_type": "display_data"
    }
   ],
   "source": [
    "df = pd.read_csv('/Users/samuele/University/2.DM2/fma_metadata/echo_eleclass_noout.csv')\n",
    "df.set_index('track_id', inplace=True)\n",
    "display(df.head())\n",
    "display(df.shape)\n",
    "display(df['genre_top'].value_counts())"
   ]
  },
  {
   "cell_type": "markdown",
   "metadata": {},
   "source": [
    "# Data Partitioning"
   ]
  },
  {
   "cell_type": "code",
   "execution_count": 43,
   "metadata": {},
   "outputs": [],
   "source": [
    "attributes = [col for col in df.columns if col != 'genre_top']\n",
    "\n",
    "X = df[attributes]\n",
    "y = df['genre_top']\n",
    "X_train, X_test, y_train, y_test = train_test_split(X, y, test_size=0.3, random_state=100, stratify=y)"
   ]
  },
  {
   "cell_type": "code",
   "execution_count": 44,
   "metadata": {},
   "outputs": [],
   "source": [
    "# encoding labels\n",
    "le = preprocessing.LabelEncoder()\n",
    "y_test_enc = ~le.fit_transform(y_test).astype('bool')"
   ]
  },
  {
   "cell_type": "code",
   "execution_count": 46,
   "metadata": {},
   "outputs": [
    {
     "data": {
      "text/plain": [
       "Electronic    2058\n",
       "Classical      208\n",
       "Name: genre_top, dtype: int64"
      ]
     },
     "execution_count": 46,
     "metadata": {},
     "output_type": "execute_result"
    }
   ],
   "source": [
    "df['genre_top'].value_counts()"
   ]
  },
  {
   "cell_type": "markdown",
   "metadata": {},
   "source": [
    "# RIPPER"
   ]
  },
  {
   "cell_type": "code",
   "execution_count": 47,
   "metadata": {},
   "outputs": [
    {
     "name": "stdout",
     "output_type": "stream",
     "text": [
      "prune_size:  0.1\n",
      "              precision    recall  f1-score   support\n",
      "\n",
      "       False       0.98      0.98      0.98       618\n",
      "        True       0.81      0.82      0.82        62\n",
      "\n",
      "    accuracy                           0.97       680\n",
      "   macro avg       0.90      0.90      0.90       680\n",
      "weighted avg       0.97      0.97      0.97       680\n",
      "\n",
      "prune_size:  0.2\n",
      "              precision    recall  f1-score   support\n",
      "\n",
      "       False       0.98      0.98      0.98       618\n",
      "        True       0.79      0.84      0.81        62\n",
      "\n",
      "    accuracy                           0.96       680\n",
      "   macro avg       0.89      0.91      0.90       680\n",
      "weighted avg       0.97      0.96      0.97       680\n",
      "\n",
      "prune_size:  0.3\n",
      "              precision    recall  f1-score   support\n",
      "\n",
      "       False       0.98      0.98      0.98       618\n",
      "        True       0.78      0.81      0.79        62\n",
      "\n",
      "    accuracy                           0.96       680\n",
      "   macro avg       0.88      0.89      0.89       680\n",
      "weighted avg       0.96      0.96      0.96       680\n",
      "\n",
      "prune_size:  0.4\n",
      "              precision    recall  f1-score   support\n",
      "\n",
      "       False       0.99      0.98      0.98       618\n",
      "        True       0.82      0.89      0.85        62\n",
      "\n",
      "    accuracy                           0.97       680\n",
      "   macro avg       0.90      0.93      0.92       680\n",
      "weighted avg       0.97      0.97      0.97       680\n",
      "\n",
      "prune_size:  0.5\n",
      "              precision    recall  f1-score   support\n",
      "\n",
      "       False       0.98      0.98      0.98       618\n",
      "        True       0.77      0.79      0.78        62\n",
      "\n",
      "    accuracy                           0.96       680\n",
      "   macro avg       0.87      0.88      0.88       680\n",
      "weighted avg       0.96      0.96      0.96       680\n",
      "\n",
      "prune_size:  0.6\n",
      "              precision    recall  f1-score   support\n",
      "\n",
      "       False       0.98      0.98      0.98       618\n",
      "        True       0.77      0.81      0.79        62\n",
      "\n",
      "    accuracy                           0.96       680\n",
      "   macro avg       0.87      0.89      0.88       680\n",
      "weighted avg       0.96      0.96      0.96       680\n",
      "\n",
      "prune_size:  0.7\n",
      "              precision    recall  f1-score   support\n",
      "\n",
      "       False       0.98      0.99      0.99       618\n",
      "        True       0.87      0.84      0.85        62\n",
      "\n",
      "    accuracy                           0.97       680\n",
      "   macro avg       0.93      0.91      0.92       680\n",
      "weighted avg       0.97      0.97      0.97       680\n",
      "\n",
      "prune_size:  0.8\n",
      "              precision    recall  f1-score   support\n",
      "\n",
      "       False       0.98      0.98      0.98       618\n",
      "        True       0.81      0.76      0.78        62\n",
      "\n",
      "    accuracy                           0.96       680\n",
      "   macro avg       0.89      0.87      0.88       680\n",
      "weighted avg       0.96      0.96      0.96       680\n",
      "\n",
      "prune_size:  0.9\n",
      "              precision    recall  f1-score   support\n",
      "\n",
      "       False       0.99      0.97      0.98       618\n",
      "        True       0.76      0.89      0.82        62\n",
      "\n",
      "    accuracy                           0.96       680\n",
      "   macro avg       0.88      0.93      0.90       680\n",
      "weighted avg       0.97      0.96      0.97       680\n",
      "\n",
      "prune_size:  1\n",
      "              precision    recall  f1-score   support\n",
      "\n",
      "       False       0.91      1.00      0.95       618\n",
      "        True       0.00      0.00      0.00        62\n",
      "\n",
      "    accuracy                           0.91       680\n",
      "   macro avg       0.45      0.50      0.48       680\n",
      "weighted avg       0.83      0.91      0.87       680\n",
      "\n"
     ]
    },
    {
     "name": "stderr",
     "output_type": "stream",
     "text": [
      "ripper.py: .fit | base.py: ._check_allpos_allneg: RuntimeWarning: \n",
      "Ruleset is empty. All predictions it makes with method .predict will be negative. It may be untrained or was trained on a dataset split lacking positive examples.\n",
      "\n",
      "base.py: .predict | base.py: ._check_allpos_allneg: RuntimeWarning: \n",
      "Ruleset is empty. All predictions it makes with method .predict will be negative. It may be untrained or was trained on a dataset split lacking positive examples.\n",
      "\n",
      "/Users/samuele/opt/anaconda3/lib/python3.8/site-packages/sklearn/metrics/_classification.py:1245: UndefinedMetricWarning: Precision and F-score are ill-defined and being set to 0.0 in labels with no predicted samples. Use `zero_division` parameter to control this behavior.\n",
      "  _warn_prf(average, modifier, msg_start, len(result))\n",
      "/Users/samuele/opt/anaconda3/lib/python3.8/site-packages/sklearn/metrics/_classification.py:1245: UndefinedMetricWarning: Precision and F-score are ill-defined and being set to 0.0 in labels with no predicted samples. Use `zero_division` parameter to control this behavior.\n",
      "  _warn_prf(average, modifier, msg_start, len(result))\n",
      "/Users/samuele/opt/anaconda3/lib/python3.8/site-packages/sklearn/metrics/_classification.py:1245: UndefinedMetricWarning: Precision and F-score are ill-defined and being set to 0.0 in labels with no predicted samples. Use `zero_division` parameter to control this behavior.\n",
      "  _warn_prf(average, modifier, msg_start, len(result))\n"
     ]
    }
   ],
   "source": [
    "for pr in [0.1, 0.2, 0.3, 0.4, 0.5, 0.6, 0.7, 0.8, 0.9, 1]: \n",
    "        clf = lw.RIPPER(random_state=42, prune_size=pr)\n",
    "        clf.fit(X_train, y_train, pos_class='Classical')\n",
    "        y_predicted = clf.predict(X_test)\n",
    "        print(\"prune_size: \", pr)\n",
    "        print(classification_report(y_test_enc, y_predicted))"
   ]
  },
  {
   "cell_type": "code",
   "execution_count": 48,
   "metadata": {},
   "outputs": [],
   "source": [
    "clf = lw.RIPPER(random_state=42, prune_size=0.4)\n",
    "clf.fit(X_train, y_train, pos_class='Classical')"
   ]
  },
  {
   "cell_type": "code",
   "execution_count": 50,
   "metadata": {},
   "outputs": [
    {
     "name": "stdout",
     "output_type": "stream",
     "text": [
      "              precision    recall  f1-score   support\n",
      "\n",
      "       False       0.99      0.98      0.98       618\n",
      "        True       0.82      0.89      0.85        62\n",
      "\n",
      "    accuracy                           0.97       680\n",
      "   macro avg       0.90      0.93      0.92       680\n",
      "weighted avg       0.97      0.97      0.97       680\n",
      "\n"
     ]
    }
   ],
   "source": [
    "y_predicted = clf.predict(X_test)\n",
    "print(classification_report(y_test_enc, y_predicted))"
   ]
  },
  {
   "cell_type": "code",
   "execution_count": 51,
   "metadata": {},
   "outputs": [
    {
     "name": "stdout",
     "output_type": "stream",
     "text": [
      "[[acousticness=0.99-1.0 ^ energy=0.0-0.09] V\n",
      "[acousticness=0.99-1.0 ^ energy=0.09-0.28] V\n",
      "[acousticness=0.89-0.99 ^ energy=0.0-0.09 ^ duration=118-155] V\n",
      "[acousticness=0.89-0.99 ^ energy=0.0-0.09] V\n",
      "[acousticness=0.89-0.99 ^ danceability=0.26-0.37 ^ tempo=150.06-173.93] V\n",
      "[danceability=0.06-0.26 ^ liveness=0.34-0.94 ^ tempo=100.01-111.99] V\n",
      "[acousticness=0.89-0.99 ^ danceability=0.37-0.45 ^ tempo=82.56-90.28] V\n",
      "[acousticness=0.89-0.99 ^ duration=303-348 ^ danceability=0.06-0.26] V\n",
      "[acousticness=0.99-1.0 ^ danceability=0.37-0.45]]\n"
     ]
    }
   ],
   "source": [
    "clf.out_model()"
   ]
  },
  {
   "cell_type": "code",
   "execution_count": 52,
   "metadata": {},
   "outputs": [
    {
     "data": {
      "image/png": "[encoded data removed]",
      "text/plain": [
       "<Figure size 432x288 with 1 Axes>"
      ]
     },
     "metadata": {
      "needs_background": "light"
     },
     "output_type": "display_data"
    }
   ],
   "source": [
    "plot_roc_curve(y_test_enc, y_predicted, 'RIPPER')"
   ]
  },
  {
   "cell_type": "code",
   "execution_count": 53,
   "metadata": {},
   "outputs": [
    {
     "data": {
      "image/png": "[encoded data removed]",
      "text/plain": [
       "<Figure size 432x288 with 2 Axes>"
      ]
     },
     "metadata": {
      "needs_background": "light"
     },
     "output_type": "display_data"
    }
   ],
   "source": [
    "cf_matrix = confusion_matrix(y_test_enc, y_predicted)\n",
    "make_confusion_matrix(cf_matrix, 'RIPPER')"
   ]
  },
  {
   "cell_type": "markdown",
   "metadata": {},
   "source": [
    "# IREP"
   ]
  },
  {
   "cell_type": "code",
   "execution_count": 54,
   "metadata": {},
   "outputs": [
    {
     "name": "stdout",
     "output_type": "stream",
     "text": [
      "\n",
      "prune_size:  0.1\n",
      "              precision    recall  f1-score   support\n",
      "\n",
      "       False       0.98      0.98      0.98       618\n",
      "        True       0.81      0.77      0.79        62\n",
      "\n",
      "    accuracy                           0.96       680\n",
      "   macro avg       0.90      0.88      0.89       680\n",
      "weighted avg       0.96      0.96      0.96       680\n",
      "\n",
      "\n",
      "prune_size:  0.2\n",
      "              precision    recall  f1-score   support\n",
      "\n",
      "       False       0.98      0.98      0.98       618\n",
      "        True       0.81      0.77      0.79        62\n",
      "\n",
      "    accuracy                           0.96       680\n",
      "   macro avg       0.90      0.88      0.89       680\n",
      "weighted avg       0.96      0.96      0.96       680\n",
      "\n",
      "\n",
      "prune_size:  0.3\n",
      "              precision    recall  f1-score   support\n",
      "\n",
      "       False       0.99      0.98      0.98       618\n",
      "        True       0.79      0.87      0.83        62\n",
      "\n",
      "    accuracy                           0.97       680\n",
      "   macro avg       0.89      0.92      0.91       680\n",
      "weighted avg       0.97      0.97      0.97       680\n",
      "\n",
      "\n",
      "prune_size:  0.4\n",
      "              precision    recall  f1-score   support\n",
      "\n",
      "       False       0.99      0.98      0.98       618\n",
      "        True       0.79      0.87      0.83        62\n",
      "\n",
      "    accuracy                           0.97       680\n",
      "   macro avg       0.89      0.92      0.91       680\n",
      "weighted avg       0.97      0.97      0.97       680\n",
      "\n",
      "\n",
      "prune_size:  0.5\n",
      "              precision    recall  f1-score   support\n",
      "\n",
      "       False       0.99      0.98      0.98       618\n",
      "        True       0.79      0.87      0.83        62\n",
      "\n",
      "    accuracy                           0.97       680\n",
      "   macro avg       0.89      0.92      0.91       680\n",
      "weighted avg       0.97      0.97      0.97       680\n",
      "\n",
      "\n",
      "prune_size:  0.6\n",
      "              precision    recall  f1-score   support\n",
      "\n",
      "       False       0.99      0.98      0.98       618\n",
      "        True       0.79      0.87      0.83        62\n",
      "\n",
      "    accuracy                           0.97       680\n",
      "   macro avg       0.89      0.92      0.91       680\n",
      "weighted avg       0.97      0.97      0.97       680\n",
      "\n",
      "\n",
      "prune_size:  0.7\n",
      "              precision    recall  f1-score   support\n",
      "\n",
      "       False       0.99      0.98      0.98       618\n",
      "        True       0.79      0.87      0.83        62\n",
      "\n",
      "    accuracy                           0.97       680\n",
      "   macro avg       0.89      0.92      0.91       680\n",
      "weighted avg       0.97      0.97      0.97       680\n",
      "\n",
      "\n",
      "prune_size:  0.8\n",
      "              precision    recall  f1-score   support\n",
      "\n",
      "       False       0.98      0.98      0.98       618\n",
      "        True       0.81      0.76      0.78        62\n",
      "\n",
      "    accuracy                           0.96       680\n",
      "   macro avg       0.89      0.87      0.88       680\n",
      "weighted avg       0.96      0.96      0.96       680\n",
      "\n",
      "\n",
      "prune_size:  0.9\n",
      "              precision    recall  f1-score   support\n",
      "\n",
      "       False       0.97      0.98      0.98       618\n",
      "        True       0.81      0.74      0.77        62\n",
      "\n",
      "    accuracy                           0.96       680\n",
      "   macro avg       0.89      0.86      0.88       680\n",
      "weighted avg       0.96      0.96      0.96       680\n",
      "\n",
      "\n",
      "prune_size:  1\n",
      "              precision    recall  f1-score   support\n",
      "\n",
      "       False       0.91      1.00      0.95       618\n",
      "        True       0.00      0.00      0.00        62\n",
      "\n",
      "    accuracy                           0.91       680\n",
      "   macro avg       0.45      0.50      0.48       680\n",
      "weighted avg       0.83      0.91      0.87       680\n",
      "\n"
     ]
    },
    {
     "name": "stderr",
     "output_type": "stream",
     "text": [
      "irep.py: .fit | base.py: ._check_allpos_allneg: RuntimeWarning: \n",
      "Ruleset is empty. All predictions it makes with method .predict will be negative. It may be untrained or was trained on a dataset split lacking positive examples.\n",
      "\n",
      "base.py: .predict | base.py: ._check_allpos_allneg: RuntimeWarning: \n",
      "Ruleset is empty. All predictions it makes with method .predict will be negative. It may be untrained or was trained on a dataset split lacking positive examples.\n",
      "\n",
      "/Users/samuele/opt/anaconda3/lib/python3.8/site-packages/sklearn/metrics/_classification.py:1245: UndefinedMetricWarning: Precision and F-score are ill-defined and being set to 0.0 in labels with no predicted samples. Use `zero_division` parameter to control this behavior.\n",
      "  _warn_prf(average, modifier, msg_start, len(result))\n",
      "/Users/samuele/opt/anaconda3/lib/python3.8/site-packages/sklearn/metrics/_classification.py:1245: UndefinedMetricWarning: Precision and F-score are ill-defined and being set to 0.0 in labels with no predicted samples. Use `zero_division` parameter to control this behavior.\n",
      "  _warn_prf(average, modifier, msg_start, len(result))\n",
      "/Users/samuele/opt/anaconda3/lib/python3.8/site-packages/sklearn/metrics/_classification.py:1245: UndefinedMetricWarning: Precision and F-score are ill-defined and being set to 0.0 in labels with no predicted samples. Use `zero_division` parameter to control this behavior.\n",
      "  _warn_prf(average, modifier, msg_start, len(result))\n"
     ]
    }
   ],
   "source": [
    "for pr in [0.1, 0.2, 0.3, 0.4, 0.5, 0.6, 0.7, 0.8, 0.9, 1]: \n",
    "        irep_clf = lw.IREP(random_state=42, prune_size=pr)\n",
    "        clf.fit(X_train, y_train, pos_class='Classical')\n",
    "        irep_clf.fit(X_train, y_train, class_feat='genre_top', pos_class='Classical')\n",
    "        y_predicted = irep_clf.predict(X_test)\n",
    "        print(\"\\nprune_size: \", pr)\n",
    "        print(classification_report(y_test_enc, y_predicted))"
   ]
  },
  {
   "cell_type": "code",
   "execution_count": 55,
   "metadata": {},
   "outputs": [],
   "source": [
    "irep_clf = lw.IREP(random_state=42, prune_size=0.3)\n",
    "irep_clf.fit(X_train, y_train, class_feat='genre_top', pos_class='Classical')"
   ]
  },
  {
   "cell_type": "code",
   "execution_count": 57,
   "metadata": {},
   "outputs": [],
   "source": [
    "y_predicted = irep_clf.predict(X_test)"
   ]
  },
  {
   "cell_type": "code",
   "execution_count": 58,
   "metadata": {},
   "outputs": [
    {
     "name": "stdout",
     "output_type": "stream",
     "text": [
      "              precision    recall  f1-score   support\n",
      "\n",
      "       False       0.99      0.98      0.98       618\n",
      "        True       0.79      0.87      0.83        62\n",
      "\n",
      "    accuracy                           0.97       680\n",
      "   macro avg       0.89      0.92      0.91       680\n",
      "weighted avg       0.97      0.97      0.97       680\n",
      "\n"
     ]
    }
   ],
   "source": [
    "print(classification_report(y_test_enc, y_predicted))"
   ]
  },
  {
   "cell_type": "code",
   "execution_count": 59,
   "metadata": {},
   "outputs": [
    {
     "name": "stdout",
     "output_type": "stream",
     "text": [
      "[[acousticness=0.99-1.0] V\n",
      "[acousticness=0.89-0.99 ^ energy=0.0-0.09]]\n"
     ]
    }
   ],
   "source": [
    "irep_clf.out_model()"
   ]
  },
  {
   "cell_type": "code",
   "execution_count": 60,
   "metadata": {},
   "outputs": [
    {
     "data": {
      "image/png": "[encoded data removed]",
      "text/plain": [
       "<Figure size 432x288 with 1 Axes>"
      ]
     },
     "metadata": {
      "needs_background": "light"
     },
     "output_type": "display_data"
    }
   ],
   "source": [
    "plot_roc_curve(y_test_enc, y_predicted, 'IREP')"
   ]
  },
  {
   "cell_type": "code",
   "execution_count": 61,
   "metadata": {},
   "outputs": [
    {
     "data": {
      "image/png": "[encoded data removed]",
      "text/plain": [
       "<Figure size 432x288 with 2 Axes>"
      ]
     },
     "metadata": {
      "needs_background": "light"
     },
     "output_type": "display_data"
    }
   ],
   "source": [
    "cf_matrix = confusion_matrix(y_test_enc, y_predicted)\n",
    "make_confusion_matrix(cf_matrix, 'IREP')"
   ]
  },
  {
   "cell_type": "code",
   "execution_count": 63,
   "metadata": {},
   "outputs": [
    {
     "ename": "TypeError",
     "evalue": "Labels in y_true and y_pred should be of the same type. Got y_true=['Classical' 'Electronic'] and y_pred=[False  True]. Make sure that the predictions provided by the classifier coincides with the true labels.",
     "output_type": "error",
     "traceback": [
      "\u001b[0;31m---------------------------------------------------------------------------\u001b[0m",
      "\u001b[0;31mTypeError\u001b[0m                                 Traceback (most recent call last)",
      "\u001b[0;32m~/opt/anaconda3/lib/python3.8/site-packages/sklearn/metrics/_classification.py\u001b[0m in \u001b[0;36m_check_targets\u001b[0;34m(y_true, y_pred)\u001b[0m\n\u001b[1;32m    106\u001b[0m             \u001b[0;32mtry\u001b[0m\u001b[0;34m:\u001b[0m\u001b[0;34m\u001b[0m\u001b[0;34m\u001b[0m\u001b[0m\n\u001b[0;32m--> 107\u001b[0;31m                 \u001b[0munique_values\u001b[0m \u001b[0;34m=\u001b[0m \u001b[0mnp\u001b[0m\u001b[0;34m.\u001b[0m\u001b[0munion1d\u001b[0m\u001b[0;34m(\u001b[0m\u001b[0my_true\u001b[0m\u001b[0;34m,\u001b[0m \u001b[0my_pred\u001b[0m\u001b[0;34m)\u001b[0m\u001b[0;34m\u001b[0m\u001b[0;34m\u001b[0m\u001b[0m\n\u001b[0m\u001b[1;32m    108\u001b[0m             \u001b[0;32mexcept\u001b[0m \u001b[0mTypeError\u001b[0m \u001b[0;32mas\u001b[0m \u001b[0me\u001b[0m\u001b[0;34m:\u001b[0m\u001b[0;34m\u001b[0m\u001b[0;34m\u001b[0m\u001b[0m\n",
      "\u001b[0;32m<__array_function__ internals>\u001b[0m in \u001b[0;36munion1d\u001b[0;34m(*args, **kwargs)\u001b[0m\n",
      "\u001b[0;32m~/opt/anaconda3/lib/python3.8/site-packages/numpy/lib/arraysetops.py\u001b[0m in \u001b[0;36munion1d\u001b[0;34m(ar1, ar2)\u001b[0m\n\u001b[1;32m    748\u001b[0m     \"\"\"\n\u001b[0;32m--> 749\u001b[0;31m     \u001b[0;32mreturn\u001b[0m \u001b[0munique\u001b[0m\u001b[0;34m(\u001b[0m\u001b[0mnp\u001b[0m\u001b[0;34m.\u001b[0m\u001b[0mconcatenate\u001b[0m\u001b[0;34m(\u001b[0m\u001b[0;34m(\u001b[0m\u001b[0mar1\u001b[0m\u001b[0;34m,\u001b[0m \u001b[0mar2\u001b[0m\u001b[0;34m)\u001b[0m\u001b[0;34m,\u001b[0m \u001b[0maxis\u001b[0m\u001b[0;34m=\u001b[0m\u001b[0;32mNone\u001b[0m\u001b[0;34m)\u001b[0m\u001b[0;34m)\u001b[0m\u001b[0;34m\u001b[0m\u001b[0;34m\u001b[0m\u001b[0m\n\u001b[0m\u001b[1;32m    750\u001b[0m \u001b[0;34m\u001b[0m\u001b[0m\n",
      "\u001b[0;32m<__array_function__ internals>\u001b[0m in \u001b[0;36munique\u001b[0;34m(*args, **kwargs)\u001b[0m\n",
      "\u001b[0;32m~/opt/anaconda3/lib/python3.8/site-packages/numpy/lib/arraysetops.py\u001b[0m in \u001b[0;36munique\u001b[0;34m(ar, return_index, return_inverse, return_counts, axis)\u001b[0m\n\u001b[1;32m    260\u001b[0m     \u001b[0;32mif\u001b[0m \u001b[0maxis\u001b[0m \u001b[0;32mis\u001b[0m \u001b[0;32mNone\u001b[0m\u001b[0;34m:\u001b[0m\u001b[0;34m\u001b[0m\u001b[0;34m\u001b[0m\u001b[0m\n\u001b[0;32m--> 261\u001b[0;31m         \u001b[0mret\u001b[0m \u001b[0;34m=\u001b[0m \u001b[0m_unique1d\u001b[0m\u001b[0;34m(\u001b[0m\u001b[0mar\u001b[0m\u001b[0;34m,\u001b[0m \u001b[0mreturn_index\u001b[0m\u001b[0;34m,\u001b[0m \u001b[0mreturn_inverse\u001b[0m\u001b[0;34m,\u001b[0m \u001b[0mreturn_counts\u001b[0m\u001b[0;34m)\u001b[0m\u001b[0;34m\u001b[0m\u001b[0;34m\u001b[0m\u001b[0m\n\u001b[0m\u001b[1;32m    262\u001b[0m         \u001b[0;32mreturn\u001b[0m \u001b[0m_unpack_tuple\u001b[0m\u001b[0;34m(\u001b[0m\u001b[0mret\u001b[0m\u001b[0;34m)\u001b[0m\u001b[0;34m\u001b[0m\u001b[0;34m\u001b[0m\u001b[0m\n",
      "\u001b[0;32m~/opt/anaconda3/lib/python3.8/site-packages/numpy/lib/arraysetops.py\u001b[0m in \u001b[0;36m_unique1d\u001b[0;34m(ar, return_index, return_inverse, return_counts)\u001b[0m\n\u001b[1;32m    321\u001b[0m     \u001b[0;32melse\u001b[0m\u001b[0;34m:\u001b[0m\u001b[0;34m\u001b[0m\u001b[0;34m\u001b[0m\u001b[0m\n\u001b[0;32m--> 322\u001b[0;31m         \u001b[0mar\u001b[0m\u001b[0;34m.\u001b[0m\u001b[0msort\u001b[0m\u001b[0;34m(\u001b[0m\u001b[0;34m)\u001b[0m\u001b[0;34m\u001b[0m\u001b[0;34m\u001b[0m\u001b[0m\n\u001b[0m\u001b[1;32m    323\u001b[0m         \u001b[0maux\u001b[0m \u001b[0;34m=\u001b[0m \u001b[0mar\u001b[0m\u001b[0;34m\u001b[0m\u001b[0;34m\u001b[0m\u001b[0m\n",
      "\u001b[0;31mTypeError\u001b[0m: '<' not supported between instances of 'bool' and 'str'",
      "\nThe above exception was the direct cause of the following exception:\n",
      "\u001b[0;31mTypeError\u001b[0m                                 Traceback (most recent call last)",
      "\u001b[0;32m<ipython-input-63-261a802a4589>\u001b[0m in \u001b[0;36m<module>\u001b[0;34m\u001b[0m\n\u001b[1;32m      1\u001b[0m \u001b[0my_predicted\u001b[0m \u001b[0;34m=\u001b[0m \u001b[0mirep_clf\u001b[0m\u001b[0;34m.\u001b[0m\u001b[0mpredict\u001b[0m\u001b[0;34m(\u001b[0m\u001b[0mX_train\u001b[0m\u001b[0;34m)\u001b[0m\u001b[0;34m\u001b[0m\u001b[0;34m\u001b[0m\u001b[0m\n\u001b[0;32m----> 2\u001b[0;31m \u001b[0mprint\u001b[0m\u001b[0;34m(\u001b[0m\u001b[0mclassification_report\u001b[0m\u001b[0;34m(\u001b[0m\u001b[0my_train\u001b[0m\u001b[0;34m,\u001b[0m \u001b[0my_predicted\u001b[0m\u001b[0;34m)\u001b[0m\u001b[0;34m)\u001b[0m\u001b[0;34m\u001b[0m\u001b[0;34m\u001b[0m\u001b[0m\n\u001b[0m",
      "\u001b[0;32m~/opt/anaconda3/lib/python3.8/site-packages/sklearn/utils/validation.py\u001b[0m in \u001b[0;36minner_f\u001b[0;34m(*args, **kwargs)\u001b[0m\n\u001b[1;32m     61\u001b[0m             \u001b[0mextra_args\u001b[0m \u001b[0;34m=\u001b[0m \u001b[0mlen\u001b[0m\u001b[0;34m(\u001b[0m\u001b[0margs\u001b[0m\u001b[0;34m)\u001b[0m \u001b[0;34m-\u001b[0m \u001b[0mlen\u001b[0m\u001b[0;34m(\u001b[0m\u001b[0mall_args\u001b[0m\u001b[0;34m)\u001b[0m\u001b[0;34m\u001b[0m\u001b[0;34m\u001b[0m\u001b[0m\n\u001b[1;32m     62\u001b[0m             \u001b[0;32mif\u001b[0m \u001b[0mextra_args\u001b[0m \u001b[0;34m<=\u001b[0m \u001b[0;36m0\u001b[0m\u001b[0;34m:\u001b[0m\u001b[0;34m\u001b[0m\u001b[0;34m\u001b[0m\u001b[0m\n\u001b[0;32m---> 63\u001b[0;31m                 \u001b[0;32mreturn\u001b[0m \u001b[0mf\u001b[0m\u001b[0;34m(\u001b[0m\u001b[0;34m*\u001b[0m\u001b[0margs\u001b[0m\u001b[0;34m,\u001b[0m \u001b[0;34m**\u001b[0m\u001b[0mkwargs\u001b[0m\u001b[0;34m)\u001b[0m\u001b[0;34m\u001b[0m\u001b[0;34m\u001b[0m\u001b[0m\n\u001b[0m\u001b[1;32m     64\u001b[0m \u001b[0;34m\u001b[0m\u001b[0m\n\u001b[1;32m     65\u001b[0m             \u001b[0;31m# extra_args > 0\u001b[0m\u001b[0;34m\u001b[0m\u001b[0;34m\u001b[0m\u001b[0;34m\u001b[0m\u001b[0m\n",
      "\u001b[0;32m~/opt/anaconda3/lib/python3.8/site-packages/sklearn/metrics/_classification.py\u001b[0m in \u001b[0;36mclassification_report\u001b[0;34m(y_true, y_pred, labels, target_names, sample_weight, digits, output_dict, zero_division)\u001b[0m\n\u001b[1;32m   1964\u001b[0m     \"\"\"\n\u001b[1;32m   1965\u001b[0m \u001b[0;34m\u001b[0m\u001b[0m\n\u001b[0;32m-> 1966\u001b[0;31m     \u001b[0my_type\u001b[0m\u001b[0;34m,\u001b[0m \u001b[0my_true\u001b[0m\u001b[0;34m,\u001b[0m \u001b[0my_pred\u001b[0m \u001b[0;34m=\u001b[0m \u001b[0m_check_targets\u001b[0m\u001b[0;34m(\u001b[0m\u001b[0my_true\u001b[0m\u001b[0;34m,\u001b[0m \u001b[0my_pred\u001b[0m\u001b[0;34m)\u001b[0m\u001b[0;34m\u001b[0m\u001b[0;34m\u001b[0m\u001b[0m\n\u001b[0m\u001b[1;32m   1967\u001b[0m \u001b[0;34m\u001b[0m\u001b[0m\n\u001b[1;32m   1968\u001b[0m     \u001b[0;32mif\u001b[0m \u001b[0mlabels\u001b[0m \u001b[0;32mis\u001b[0m \u001b[0;32mNone\u001b[0m\u001b[0;34m:\u001b[0m\u001b[0;34m\u001b[0m\u001b[0;34m\u001b[0m\u001b[0m\n",
      "\u001b[0;32m~/opt/anaconda3/lib/python3.8/site-packages/sklearn/metrics/_classification.py\u001b[0m in \u001b[0;36m_check_targets\u001b[0;34m(y_true, y_pred)\u001b[0m\n\u001b[1;32m    111\u001b[0m                 \u001b[0;31m# `y_pred` given by the classifier will also be encoded with\u001b[0m\u001b[0;34m\u001b[0m\u001b[0;34m\u001b[0m\u001b[0;34m\u001b[0m\u001b[0m\n\u001b[1;32m    112\u001b[0m                 \u001b[0;31m# strings. So we raise a meaningful error\u001b[0m\u001b[0;34m\u001b[0m\u001b[0;34m\u001b[0m\u001b[0;34m\u001b[0m\u001b[0m\n\u001b[0;32m--> 113\u001b[0;31m                 raise TypeError(\n\u001b[0m\u001b[1;32m    114\u001b[0m                     \u001b[0;34mf\"Labels in y_true and y_pred should be of the same type. \"\u001b[0m\u001b[0;34m\u001b[0m\u001b[0;34m\u001b[0m\u001b[0m\n\u001b[1;32m    115\u001b[0m                     \u001b[0;34mf\"Got y_true={np.unique(y_true)} and \"\u001b[0m\u001b[0;34m\u001b[0m\u001b[0;34m\u001b[0m\u001b[0m\n",
      "\u001b[0;31mTypeError\u001b[0m: Labels in y_true and y_pred should be of the same type. Got y_true=['Classical' 'Electronic'] and y_pred=[False  True]. Make sure that the predictions provided by the classifier coincides with the true labels."
     ]
    }
   ],
   "source": [
    "y_predicted = irep_clf.predict(X_train)\n",
    "print(classification_report(y_train, y_predicted))"
   ]
  },
  {
   "cell_type": "code",
   "execution_count": null,
   "metadata": {},
   "outputs": [],
   "source": []
  }
 ],
 "metadata": {
  "kernelspec": {
   "display_name": "Python 3",
   "language": "python",
   "name": "python3"
  },
  "language_info": {
   "codemirror_mode": {
    "name": "ipython",
    "version": 3
   },
   "file_extension": ".py",
   "mimetype": "text/x-python",
   "name": "python",
   "nbconvert_exporter": "python",
   "pygments_lexer": "ipython3",
   "version": "3.8.5"
  }
 },
 "nbformat": 4,
 "nbformat_minor": 2
}
