{
 "cells": [
  {
   "cell_type": "code",
   "execution_count": 50,
   "metadata": {},
   "outputs": [],
   "source": [
    "%matplotlib inline\n",
    "\n",
    "import numpy as np\n",
    "import pandas as pd\n",
    "import matplotlib.pyplot as plt\n",
    "\n",
    "from sklearn import preprocessing\n",
    "from sklearn.model_selection import train_test_split, cross_val_score, GridSearchCV, StratifiedKFold\n",
    "from sklearn.metrics import accuracy_score, f1_score, classification_report, precision_score, recall_score\n",
    "from sklearn.metrics import roc_curve, auc, roc_auc_score\n",
    "from sklearn.metrics import plot_confusion_matrix\n",
    "\n",
    "from collections import defaultdict"
   ]
  },
  {
   "cell_type": "markdown",
   "metadata": {},
   "source": [
    "# Data Preparation"
   ]
  },
  {
   "cell_type": "code",
   "execution_count": 51,
   "metadata": {},
   "outputs": [
    {
     "data": {
      "text/html": [
       "<div>\n",
       "<style scoped>\n",
       "    .dataframe tbody tr th:only-of-type {\n",
       "        vertical-align: middle;\n",
       "    }\n",
       "\n",
       "    .dataframe tbody tr th {\n",
       "        vertical-align: top;\n",
       "    }\n",
       "\n",
       "    .dataframe thead th {\n",
       "        text-align: right;\n",
       "    }\n",
       "</style>\n",
       "<table border=\"1\" class=\"dataframe\">\n",
       "  <thead>\n",
       "    <tr style=\"text-align: right;\">\n",
       "      <th></th>\n",
       "      <th>track_id</th>\n",
       "      <th>acousticness</th>\n",
       "      <th>danceability</th>\n",
       "      <th>energy</th>\n",
       "      <th>instrumentalness</th>\n",
       "      <th>liveness</th>\n",
       "      <th>speechiness</th>\n",
       "      <th>valence</th>\n",
       "      <th>tempo</th>\n",
       "      <th>duration</th>\n",
       "      <th>bit_rate</th>\n",
       "      <th>genre_top</th>\n",
       "    </tr>\n",
       "  </thead>\n",
       "  <tbody>\n",
       "    <tr>\n",
       "      <th>0</th>\n",
       "      <td>145</td>\n",
       "      <td>0.235506</td>\n",
       "      <td>0.438672</td>\n",
       "      <td>0.487752</td>\n",
       "      <td>0.716122</td>\n",
       "      <td>0.070359</td>\n",
       "      <td>0.047298</td>\n",
       "      <td>0.650452</td>\n",
       "      <td>120.790</td>\n",
       "      <td>326</td>\n",
       "      <td>256</td>\n",
       "      <td>Jazz</td>\n",
       "    </tr>\n",
       "    <tr>\n",
       "      <th>1</th>\n",
       "      <td>146</td>\n",
       "      <td>0.532019</td>\n",
       "      <td>0.417681</td>\n",
       "      <td>0.476422</td>\n",
       "      <td>0.402500</td>\n",
       "      <td>0.172105</td>\n",
       "      <td>0.035361</td>\n",
       "      <td>0.682397</td>\n",
       "      <td>135.468</td>\n",
       "      <td>354</td>\n",
       "      <td>256</td>\n",
       "      <td>Jazz</td>\n",
       "    </tr>\n",
       "    <tr>\n",
       "      <th>2</th>\n",
       "      <td>147</td>\n",
       "      <td>0.778410</td>\n",
       "      <td>0.706681</td>\n",
       "      <td>0.866116</td>\n",
       "      <td>0.806703</td>\n",
       "      <td>0.104650</td>\n",
       "      <td>0.065083</td>\n",
       "      <td>0.917613</td>\n",
       "      <td>120.218</td>\n",
       "      <td>232</td>\n",
       "      <td>256</td>\n",
       "      <td>Jazz</td>\n",
       "    </tr>\n",
       "    <tr>\n",
       "      <th>3</th>\n",
       "      <td>153</td>\n",
       "      <td>0.988306</td>\n",
       "      <td>0.255661</td>\n",
       "      <td>0.979774</td>\n",
       "      <td>0.973006</td>\n",
       "      <td>0.121342</td>\n",
       "      <td>0.051740</td>\n",
       "      <td>0.034018</td>\n",
       "      <td>90.241</td>\n",
       "      <td>405</td>\n",
       "      <td>256</td>\n",
       "      <td>Rock</td>\n",
       "    </tr>\n",
       "    <tr>\n",
       "      <th>4</th>\n",
       "      <td>154</td>\n",
       "      <td>0.970135</td>\n",
       "      <td>0.352946</td>\n",
       "      <td>0.023852</td>\n",
       "      <td>0.957113</td>\n",
       "      <td>0.113261</td>\n",
       "      <td>0.032177</td>\n",
       "      <td>0.035632</td>\n",
       "      <td>53.758</td>\n",
       "      <td>319</td>\n",
       "      <td>256</td>\n",
       "      <td>Rock</td>\n",
       "    </tr>\n",
       "  </tbody>\n",
       "</table>\n",
       "</div>"
      ],
      "text/plain": [
       "   track_id  acousticness  danceability    energy  instrumentalness  liveness  \\\n",
       "0       145      0.235506      0.438672  0.487752          0.716122  0.070359   \n",
       "1       146      0.532019      0.417681  0.476422          0.402500  0.172105   \n",
       "2       147      0.778410      0.706681  0.866116          0.806703  0.104650   \n",
       "3       153      0.988306      0.255661  0.979774          0.973006  0.121342   \n",
       "4       154      0.970135      0.352946  0.023852          0.957113  0.113261   \n",
       "\n",
       "   speechiness   valence    tempo  duration  bit_rate genre_top  \n",
       "0     0.047298  0.650452  120.790       326       256      Jazz  \n",
       "1     0.035361  0.682397  135.468       354       256      Jazz  \n",
       "2     0.065083  0.917613  120.218       232       256      Jazz  \n",
       "3     0.051740  0.034018   90.241       405       256      Rock  \n",
       "4     0.032177  0.035632   53.758       319       256      Rock  "
      ]
     },
     "execution_count": 51,
     "metadata": {},
     "output_type": "execute_result"
    }
   ],
   "source": [
    "df = pd.read_csv('/Users/samuele/University/2.DM2/fma_metadata/echo_outlierfree.csv')\n",
    "df.head()"
   ]
  },
  {
   "cell_type": "code",
   "execution_count": 52,
   "metadata": {
    "scrolled": true
   },
   "outputs": [
    {
     "data": {
      "text/html": [
       "<div>\n",
       "<style scoped>\n",
       "    .dataframe tbody tr th:only-of-type {\n",
       "        vertical-align: middle;\n",
       "    }\n",
       "\n",
       "    .dataframe tbody tr th {\n",
       "        vertical-align: top;\n",
       "    }\n",
       "\n",
       "    .dataframe thead th {\n",
       "        text-align: right;\n",
       "    }\n",
       "</style>\n",
       "<table border=\"1\" class=\"dataframe\">\n",
       "  <thead>\n",
       "    <tr style=\"text-align: right;\">\n",
       "      <th></th>\n",
       "      <th>track_id</th>\n",
       "      <th>acousticness</th>\n",
       "      <th>danceability</th>\n",
       "      <th>energy</th>\n",
       "      <th>instrumentalness</th>\n",
       "      <th>liveness</th>\n",
       "      <th>speechiness</th>\n",
       "      <th>valence</th>\n",
       "      <th>tempo</th>\n",
       "      <th>duration</th>\n",
       "      <th>bit_rate</th>\n",
       "      <th>genre_top</th>\n",
       "    </tr>\n",
       "  </thead>\n",
       "  <tbody>\n",
       "    <tr>\n",
       "      <th>0</th>\n",
       "      <td>145</td>\n",
       "      <td>0.235506</td>\n",
       "      <td>0.438672</td>\n",
       "      <td>0.487752</td>\n",
       "      <td>0.716122</td>\n",
       "      <td>0.070359</td>\n",
       "      <td>0.047298</td>\n",
       "      <td>0.650452</td>\n",
       "      <td>120.790</td>\n",
       "      <td>326</td>\n",
       "      <td>256</td>\n",
       "      <td>Jazz</td>\n",
       "    </tr>\n",
       "    <tr>\n",
       "      <th>1</th>\n",
       "      <td>146</td>\n",
       "      <td>0.532019</td>\n",
       "      <td>0.417681</td>\n",
       "      <td>0.476422</td>\n",
       "      <td>0.402500</td>\n",
       "      <td>0.172105</td>\n",
       "      <td>0.035361</td>\n",
       "      <td>0.682397</td>\n",
       "      <td>135.468</td>\n",
       "      <td>354</td>\n",
       "      <td>256</td>\n",
       "      <td>Jazz</td>\n",
       "    </tr>\n",
       "    <tr>\n",
       "      <th>2</th>\n",
       "      <td>147</td>\n",
       "      <td>0.778410</td>\n",
       "      <td>0.706681</td>\n",
       "      <td>0.866116</td>\n",
       "      <td>0.806703</td>\n",
       "      <td>0.104650</td>\n",
       "      <td>0.065083</td>\n",
       "      <td>0.917613</td>\n",
       "      <td>120.218</td>\n",
       "      <td>232</td>\n",
       "      <td>256</td>\n",
       "      <td>Jazz</td>\n",
       "    </tr>\n",
       "    <tr>\n",
       "      <th>3</th>\n",
       "      <td>153</td>\n",
       "      <td>0.988306</td>\n",
       "      <td>0.255661</td>\n",
       "      <td>0.979774</td>\n",
       "      <td>0.973006</td>\n",
       "      <td>0.121342</td>\n",
       "      <td>0.051740</td>\n",
       "      <td>0.034018</td>\n",
       "      <td>90.241</td>\n",
       "      <td>405</td>\n",
       "      <td>256</td>\n",
       "      <td>Rock</td>\n",
       "    </tr>\n",
       "    <tr>\n",
       "      <th>4</th>\n",
       "      <td>154</td>\n",
       "      <td>0.970135</td>\n",
       "      <td>0.352946</td>\n",
       "      <td>0.023852</td>\n",
       "      <td>0.957113</td>\n",
       "      <td>0.113261</td>\n",
       "      <td>0.032177</td>\n",
       "      <td>0.035632</td>\n",
       "      <td>53.758</td>\n",
       "      <td>319</td>\n",
       "      <td>256</td>\n",
       "      <td>Rock</td>\n",
       "    </tr>\n",
       "  </tbody>\n",
       "</table>\n",
       "</div>"
      ],
      "text/plain": [
       "   track_id  acousticness  danceability    energy  instrumentalness  liveness  \\\n",
       "0       145      0.235506      0.438672  0.487752          0.716122  0.070359   \n",
       "1       146      0.532019      0.417681  0.476422          0.402500  0.172105   \n",
       "2       147      0.778410      0.706681  0.866116          0.806703  0.104650   \n",
       "3       153      0.988306      0.255661  0.979774          0.973006  0.121342   \n",
       "4       154      0.970135      0.352946  0.023852          0.957113  0.113261   \n",
       "\n",
       "   speechiness   valence    tempo  duration  bit_rate genre_top  \n",
       "0     0.047298  0.650452  120.790       326       256      Jazz  \n",
       "1     0.035361  0.682397  135.468       354       256      Jazz  \n",
       "2     0.065083  0.917613  120.218       232       256      Jazz  \n",
       "3     0.051740  0.034018   90.241       405       256      Rock  \n",
       "4     0.032177  0.035632   53.758       319       256      Rock  "
      ]
     },
     "execution_count": 52,
     "metadata": {},
     "output_type": "execute_result"
    }
   ],
   "source": [
    "df.head()"
   ]
  },
  {
   "cell_type": "markdown",
   "metadata": {},
   "source": [
    "# Data Partitioning"
   ]
  },
  {
   "cell_type": "code",
   "execution_count": 53,
   "metadata": {},
   "outputs": [],
   "source": [
    "attributes = [col for col in df.columns if col != 'genre_top']\n",
    "\n",
    "train, test = train_test_split(df, test_size=.33, random_state=42)\n",
    "\n",
    "X_test = df[attributes]\n",
    "y_test = df['genre_top']\n",
    "#X_train, X_test, y_train, y_test = train_test_split(X, y, test_size=0.3, random_state=100, stratify=y)"
   ]
  },
  {
   "cell_type": "code",
   "execution_count": 54,
   "metadata": {},
   "outputs": [
    {
     "data": {
      "text/plain": [
       "array([False, False, False, ..., False, False, False])"
      ]
     },
     "execution_count": 54,
     "metadata": {},
     "output_type": "execute_result"
    }
   ],
   "source": [
    "# encoding labels\n",
    "le = preprocessing.LabelEncoder()\n",
    "y_test_enc = ~le.fit_transform(test['genre_top']).astype('bool')\n",
    "y_test_enc"
   ]
  },
  {
   "cell_type": "code",
   "execution_count": 55,
   "metadata": {},
   "outputs": [
    {
     "data": {
      "text/plain": [
       "Rock    3729\n",
       "Jazz     217\n",
       "Name: genre_top, dtype: int64"
      ]
     },
     "execution_count": 55,
     "metadata": {},
     "output_type": "execute_result"
    }
   ],
   "source": [
    "df['genre_top'].value_counts()"
   ]
  },
  {
   "cell_type": "markdown",
   "metadata": {},
   "source": [
    "# RIPPER"
   ]
  },
  {
   "cell_type": "markdown",
   "metadata": {},
   "source": [
    "https://github.com/imoscovitz/wittgenstein"
   ]
  },
  {
   "cell_type": "code",
   "execution_count": 56,
   "metadata": {},
   "outputs": [],
   "source": [
    "import wittgenstein as lw"
   ]
  },
  {
   "cell_type": "code",
   "execution_count": 57,
   "metadata": {},
   "outputs": [
    {
     "name": "stdout",
     "output_type": "stream",
     "text": [
      "5 \n",
      "prune_size:  0.1\n",
      "              precision    recall  f1-score   support\n",
      "\n",
      "       False       0.96      0.98      0.97      1234\n",
      "        True       0.36      0.20      0.26        69\n",
      "\n",
      "    accuracy                           0.94      1303\n",
      "   macro avg       0.66      0.59      0.61      1303\n",
      "weighted avg       0.92      0.94      0.93      1303\n",
      "\n",
      "5 \n",
      "prune_size:  0.2\n",
      "              precision    recall  f1-score   support\n",
      "\n",
      "       False       0.96      0.99      0.97      1234\n",
      "        True       0.53      0.29      0.37        69\n",
      "\n",
      "    accuracy                           0.95      1303\n",
      "   macro avg       0.74      0.64      0.67      1303\n",
      "weighted avg       0.94      0.95      0.94      1303\n",
      "\n",
      "5 \n",
      "prune_size:  0.3\n",
      "              precision    recall  f1-score   support\n",
      "\n",
      "       False       0.95      0.99      0.97      1234\n",
      "        True       0.50      0.16      0.24        69\n",
      "\n",
      "    accuracy                           0.95      1303\n",
      "   macro avg       0.73      0.58      0.61      1303\n",
      "weighted avg       0.93      0.95      0.93      1303\n",
      "\n",
      "5 \n",
      "prune_size:  0.4\n",
      "              precision    recall  f1-score   support\n",
      "\n",
      "       False       0.96      0.98      0.97      1234\n",
      "        True       0.36      0.17      0.24        69\n",
      "\n",
      "    accuracy                           0.94      1303\n",
      "   macro avg       0.66      0.58      0.60      1303\n",
      "weighted avg       0.92      0.94      0.93      1303\n",
      "\n",
      "5 \n",
      "prune_size:  0.5\n",
      "              precision    recall  f1-score   support\n",
      "\n",
      "       False       0.95      0.99      0.97      1234\n",
      "        True       0.48      0.16      0.24        69\n",
      "\n",
      "    accuracy                           0.95      1303\n",
      "   macro avg       0.72      0.57      0.61      1303\n",
      "weighted avg       0.93      0.95      0.93      1303\n",
      "\n",
      "5 \n",
      "prune_size:  0.6\n",
      "              precision    recall  f1-score   support\n",
      "\n",
      "       False       0.95      0.99      0.97      1234\n",
      "        True       0.61      0.16      0.25        69\n",
      "\n",
      "    accuracy                           0.95      1303\n",
      "   macro avg       0.78      0.58      0.61      1303\n",
      "weighted avg       0.94      0.95      0.94      1303\n",
      "\n",
      "5 \n",
      "prune_size:  0.7\n",
      "              precision    recall  f1-score   support\n",
      "\n",
      "       False       0.95      0.99      0.97      1234\n",
      "        True       0.55      0.16      0.25        69\n",
      "\n",
      "    accuracy                           0.95      1303\n",
      "   macro avg       0.75      0.58      0.61      1303\n",
      "weighted avg       0.93      0.95      0.93      1303\n",
      "\n",
      "5 \n",
      "prune_size:  0.8\n",
      "              precision    recall  f1-score   support\n",
      "\n",
      "       False       0.96      0.98      0.97      1234\n",
      "        True       0.40      0.25      0.30        69\n",
      "\n",
      "    accuracy                           0.94      1303\n",
      "   macro avg       0.68      0.61      0.64      1303\n",
      "weighted avg       0.93      0.94      0.93      1303\n",
      "\n",
      "5 \n",
      "prune_size:  0.9\n",
      "              precision    recall  f1-score   support\n",
      "\n",
      "       False       0.95      0.99      0.97      1234\n",
      "        True       0.36      0.14      0.21        69\n",
      "\n",
      "    accuracy                           0.94      1303\n",
      "   macro avg       0.66      0.57      0.59      1303\n",
      "weighted avg       0.92      0.94      0.93      1303\n",
      "\n",
      "5 \n",
      "prune_size:  1\n",
      "              precision    recall  f1-score   support\n",
      "\n",
      "       False       0.95      1.00      0.97      1234\n",
      "        True       0.00      0.00      0.00        69\n",
      "\n",
      "    accuracy                           0.95      1303\n",
      "   macro avg       0.47      0.50      0.49      1303\n",
      "weighted avg       0.90      0.95      0.92      1303\n",
      "\n"
     ]
    },
    {
     "name": "stderr",
     "output_type": "stream",
     "text": [
      "ripper.py: .fit | base.py: ._check_allpos_allneg: RuntimeWarning: \n",
      "Ruleset is empty. All predictions it makes with method .predict will be negative. It may be untrained or was trained on a dataset split lacking positive examples.\n",
      "\n",
      "base.py: .predict | base.py: ._check_allpos_allneg: RuntimeWarning: \n",
      "Ruleset is empty. All predictions it makes with method .predict will be negative. It may be untrained or was trained on a dataset split lacking positive examples.\n",
      "\n",
      "/Users/samuele/opt/anaconda3/lib/python3.8/site-packages/sklearn/metrics/_classification.py:1245: UndefinedMetricWarning: Precision and F-score are ill-defined and being set to 0.0 in labels with no predicted samples. Use `zero_division` parameter to control this behavior.\n",
      "  _warn_prf(average, modifier, msg_start, len(result))\n",
      "/Users/samuele/opt/anaconda3/lib/python3.8/site-packages/sklearn/metrics/_classification.py:1245: UndefinedMetricWarning: Precision and F-score are ill-defined and being set to 0.0 in labels with no predicted samples. Use `zero_division` parameter to control this behavior.\n",
      "  _warn_prf(average, modifier, msg_start, len(result))\n",
      "/Users/samuele/opt/anaconda3/lib/python3.8/site-packages/sklearn/metrics/_classification.py:1245: UndefinedMetricWarning: Precision and F-score are ill-defined and being set to 0.0 in labels with no predicted samples. Use `zero_division` parameter to control this behavior.\n",
      "  _warn_prf(average, modifier, msg_start, len(result))\n"
     ]
    }
   ],
   "source": [
    "for pr in [0.1, 0.2, 0.3, 0.4, 0.5, 0.6, 0.7, 0.8, 0.9, 1]: \n",
    "        clf = lw.RIPPER(random_state=42, prune_size=pr)\n",
    "        clf.fit(train, class_feat='genre_top', pos_class='Jazz')\n",
    "        y_predicted = clf.predict(test)\n",
    "        print(ks, \"\\nprune_size: \", pr)\n",
    "        print(classification_report(y_test_enc, y_predicted))"
   ]
  },
  {
   "cell_type": "code",
   "execution_count": 58,
   "metadata": {},
   "outputs": [],
   "source": [
    "clf = lw.RIPPER(random_state=42, prune_size=0.2)\n",
    "clf.fit(train, class_feat='genre_top', pos_class='Jazz')"
   ]
  },
  {
   "cell_type": "code",
   "execution_count": 59,
   "metadata": {},
   "outputs": [
    {
     "name": "stdout",
     "output_type": "stream",
     "text": [
      "              precision    recall  f1-score   support\n",
      "\n",
      "       False       0.96      0.99      0.97      1234\n",
      "        True       0.53      0.29      0.37        69\n",
      "\n",
      "    accuracy                           0.95      1303\n",
      "   macro avg       0.74      0.64      0.67      1303\n",
      "weighted avg       0.94      0.95      0.94      1303\n",
      "\n"
     ]
    }
   ],
   "source": [
    "y_predicted = clf.predict(test)\n",
    "print(classification_report(y_test_enc, y_predicted))"
   ]
  },
  {
   "cell_type": "code",
   "execution_count": 60,
   "metadata": {},
   "outputs": [
    {
     "name": "stdout",
     "output_type": "stream",
     "text": [
      "[[energy=0.0-0.25 ^ bit_rate=256-320 ^ acousticness=0.97-1.0 ^ track_id=33459-42428] V\n",
      "[energy=0.0-0.25 ^ duration=309-394 ^ valence=0.07-0.15] V\n",
      "[energy=0.0-0.25 ^ danceability=0.29-0.34 ^ bit_rate=256-320 ^ acousticness=0.97-1.0] V\n",
      "[energy=0.0-0.25 ^ instrumentalness=0.89-0.91 ^ acousticness=0.85-0.92] V\n",
      "[track_id=23072-33459 ^ tempo=29.09-85.84 ^ duration=309-394] V\n",
      "[track_id=23072-33459 ^ tempo=29.09-85.84 ^ liveness=0.14-0.18] V\n",
      "[energy=0.0-0.25 ^ acousticness=0.92-0.97 ^ duration=394-1052] V\n",
      "[energy=0.0-0.25 ^ acousticness=0.92-0.97 ^ track_id=50291-71490] V\n",
      "[duration=394-1052 ^ liveness=0.03-0.08] V\n",
      "[bit_rate=256-320 ^ acousticness=0.97-1.0 ^ track_id=9174-16699] V\n",
      "[bit_rate=256-320 ^ track_id=16699-23072 ^ liveness=0.1-0.11] V\n",
      "[energy=0.0-0.25 ^ track_id=9174-16699 ^ bit_rate=163-192] V\n",
      "[valence=0.68-0.81 ^ duration=309-394 ^ speechiness=0.03-0.04] V\n",
      "[speechiness=0.07-0.1 ^ energy=0.25-0.39 ^ liveness=0.08-0.1]]\n"
     ]
    }
   ],
   "source": [
    "clf.out_model()"
   ]
  },
  {
   "cell_type": "code",
   "execution_count": 61,
   "metadata": {},
   "outputs": [
    {
     "name": "stderr",
     "output_type": "stream",
     "text": [
      "base.py: .predict_proba: RuntimeWarning: \n",
      "Some examples lacked any rule with sufficient sample size to predict_proba: [1, 1328, 2095, 2129, 2130, 2141, 2323, 2512, 2514, 2516, 2683, 2684, 2685, 2686, 2687, 2688, 2689, 2766, 3053, 3428]\n",
      " Consider running recalibrate_proba with smaller param min_samples, or set require_min_samples=False\n",
      "\n"
     ]
    },
    {
     "data": {
      "image/png": "[encoded data removed]",
      "text/plain": [
       "<Figure size 576x360 with 1 Axes>"
      ]
     },
     "metadata": {
      "needs_background": "light"
     },
     "output_type": "display_data"
    }
   ],
   "source": [
    "plt.figure(figsize=(8,5))\n",
    "\n",
    "# y_score0 --> scores of decision tree without PCA\n",
    "# fpr0, tpr0 ---> false positive and true positive of decision tree without PCA\n",
    "y_score0 = clf.predict_proba(X_test)\n",
    "fpr0, tpr0, _ = roc_curve(y_test, y_score0[:, 1], pos_label='Jazz')\n",
    "\n",
    "# roc_auc0 --> ROC/AUC of decision tree without PCA\n",
    "roc_auc0 = auc(fpr0, tpr0)\n",
    "\n",
    "plt.plot(fpr0, tpr0, color='red', lw=2, label='Decision Tree$\\;$(AUC = %.3f)' % roc_auc0)\n",
    "\n",
    "plt.plot([0, 1], [0, 1], color='black', lw=2, linestyle='--')\n",
    "plt.xlim([0.0, 1.0])\n",
    "plt.ylim([0.0, 1.05])\n",
    "plt.xlabel('False Positive Rate', fontsize=16)\n",
    "plt.ylabel('True Positive Rate', fontsize=16)\n",
    "plt.title('ROC curve - without PCA', fontsize=16)\n",
    "plt.legend(loc=\"lower right\", fontsize=14, frameon=False)\n",
    "plt.tick_params(axis='both', which='major', labelsize=16)\n",
    "plt.show()"
   ]
  },
  {
   "cell_type": "code",
   "execution_count": 62,
   "metadata": {},
   "outputs": [
    {
     "name": "stdout",
     "output_type": "stream",
     "text": [
      "Legend:\n",
      "True: Jazz\n",
      "False: Rock\n",
      "[[1216   18]\n",
      " [  49   20]]\n"
     ]
    },
    {
     "data": {
      "image/png": "[encoded data removed]",
      "text/plain": [
       "<Figure size 432x288 with 2 Axes>"
      ]
     },
     "metadata": {
      "needs_background": "light"
     },
     "output_type": "display_data"
    }
   ],
   "source": [
    "print(\"Legend:\\nTrue: Jazz\"\n",
    "      \"\\nFalse: Rock\")\n",
    "cm = plot_confusion_matrix(clf,test,y_test_enc,\n",
    "                            cmap = plt.cm.Blues)\n",
    "cm.ax_.set_title('Confusion Matrix - Decision tree (without PCA)')\n",
    "print(cm.confusion_matrix)\n",
    "plt.show()"
   ]
  },
  {
   "cell_type": "markdown",
   "metadata": {},
   "source": [
    "# IREP"
   ]
  },
  {
   "cell_type": "code",
   "execution_count": 63,
   "metadata": {},
   "outputs": [
    {
     "name": "stdout",
     "output_type": "stream",
     "text": [
      "5 \n",
      "prune_size:  0.1\n",
      "              precision    recall  f1-score   support\n",
      "\n",
      "       False       0.95      1.00      0.97      1234\n",
      "        True       0.70      0.10      0.18        69\n",
      "\n",
      "    accuracy                           0.95      1303\n",
      "   macro avg       0.83      0.55      0.58      1303\n",
      "weighted avg       0.94      0.95      0.93      1303\n",
      "\n"
     ]
    },
    {
     "name": "stderr",
     "output_type": "stream",
     "text": [
      "irep.py: .fit | base.py: ._check_allpos_allneg: RuntimeWarning: \n",
      "Ruleset is empty. All predictions it makes with method .predict will be negative. It may be untrained or was trained on a dataset split lacking positive examples.\n",
      "\n",
      "base.py: .predict | base.py: ._check_allpos_allneg: RuntimeWarning: \n",
      "Ruleset is empty. All predictions it makes with method .predict will be negative. It may be untrained or was trained on a dataset split lacking positive examples.\n",
      "\n",
      "/Users/samuele/opt/anaconda3/lib/python3.8/site-packages/sklearn/metrics/_classification.py:1245: UndefinedMetricWarning: Precision and F-score are ill-defined and being set to 0.0 in labels with no predicted samples. Use `zero_division` parameter to control this behavior.\n",
      "  _warn_prf(average, modifier, msg_start, len(result))\n",
      "/Users/samuele/opt/anaconda3/lib/python3.8/site-packages/sklearn/metrics/_classification.py:1245: UndefinedMetricWarning: Precision and F-score are ill-defined and being set to 0.0 in labels with no predicted samples. Use `zero_division` parameter to control this behavior.\n",
      "  _warn_prf(average, modifier, msg_start, len(result))\n",
      "/Users/samuele/opt/anaconda3/lib/python3.8/site-packages/sklearn/metrics/_classification.py:1245: UndefinedMetricWarning: Precision and F-score are ill-defined and being set to 0.0 in labels with no predicted samples. Use `zero_division` parameter to control this behavior.\n",
      "  _warn_prf(average, modifier, msg_start, len(result))\n"
     ]
    },
    {
     "name": "stdout",
     "output_type": "stream",
     "text": [
      "5 \n",
      "prune_size:  0.2\n",
      "              precision    recall  f1-score   support\n",
      "\n",
      "       False       0.95      1.00      0.97      1234\n",
      "        True       0.00      0.00      0.00        69\n",
      "\n",
      "    accuracy                           0.95      1303\n",
      "   macro avg       0.47      0.50      0.49      1303\n",
      "weighted avg       0.90      0.95      0.92      1303\n",
      "\n"
     ]
    },
    {
     "name": "stderr",
     "output_type": "stream",
     "text": [
      "irep.py: .fit | base.py: ._check_allpos_allneg: RuntimeWarning: \n",
      "Ruleset is empty. All predictions it makes with method .predict will be negative. It may be untrained or was trained on a dataset split lacking positive examples.\n",
      "\n",
      "base.py: .predict | base.py: ._check_allpos_allneg: RuntimeWarning: \n",
      "Ruleset is empty. All predictions it makes with method .predict will be negative. It may be untrained or was trained on a dataset split lacking positive examples.\n",
      "\n",
      "/Users/samuele/opt/anaconda3/lib/python3.8/site-packages/sklearn/metrics/_classification.py:1245: UndefinedMetricWarning: Precision and F-score are ill-defined and being set to 0.0 in labels with no predicted samples. Use `zero_division` parameter to control this behavior.\n",
      "  _warn_prf(average, modifier, msg_start, len(result))\n",
      "/Users/samuele/opt/anaconda3/lib/python3.8/site-packages/sklearn/metrics/_classification.py:1245: UndefinedMetricWarning: Precision and F-score are ill-defined and being set to 0.0 in labels with no predicted samples. Use `zero_division` parameter to control this behavior.\n",
      "  _warn_prf(average, modifier, msg_start, len(result))\n",
      "/Users/samuele/opt/anaconda3/lib/python3.8/site-packages/sklearn/metrics/_classification.py:1245: UndefinedMetricWarning: Precision and F-score are ill-defined and being set to 0.0 in labels with no predicted samples. Use `zero_division` parameter to control this behavior.\n",
      "  _warn_prf(average, modifier, msg_start, len(result))\n"
     ]
    },
    {
     "name": "stdout",
     "output_type": "stream",
     "text": [
      "5 \n",
      "prune_size:  0.3\n",
      "              precision    recall  f1-score   support\n",
      "\n",
      "       False       0.95      1.00      0.97      1234\n",
      "        True       0.00      0.00      0.00        69\n",
      "\n",
      "    accuracy                           0.95      1303\n",
      "   macro avg       0.47      0.50      0.49      1303\n",
      "weighted avg       0.90      0.95      0.92      1303\n",
      "\n",
      "5 \n",
      "prune_size:  0.4\n",
      "              precision    recall  f1-score   support\n",
      "\n",
      "       False       0.95      1.00      0.97      1234\n",
      "        True       1.00      0.06      0.11        69\n",
      "\n",
      "    accuracy                           0.95      1303\n",
      "   macro avg       0.97      0.53      0.54      1303\n",
      "weighted avg       0.95      0.95      0.93      1303\n",
      "\n",
      "5 \n",
      "prune_size:  0.5\n",
      "              precision    recall  f1-score   support\n",
      "\n",
      "       False       0.95      0.99      0.97      1234\n",
      "        True       0.43      0.09      0.14        69\n",
      "\n",
      "    accuracy                           0.95      1303\n",
      "   macro avg       0.69      0.54      0.56      1303\n",
      "weighted avg       0.92      0.95      0.93      1303\n",
      "\n",
      "5 \n",
      "prune_size:  0.6\n",
      "              precision    recall  f1-score   support\n",
      "\n",
      "       False       0.95      1.00      0.97      1234\n",
      "        True       1.00      0.03      0.06        69\n",
      "\n",
      "    accuracy                           0.95      1303\n",
      "   macro avg       0.97      0.51      0.51      1303\n",
      "weighted avg       0.95      0.95      0.92      1303\n",
      "\n",
      "5 \n",
      "prune_size:  0.7\n",
      "              precision    recall  f1-score   support\n",
      "\n",
      "       False       0.95      1.00      0.97      1234\n",
      "        True       0.56      0.07      0.13        69\n",
      "\n",
      "    accuracy                           0.95      1303\n",
      "   macro avg       0.75      0.53      0.55      1303\n",
      "weighted avg       0.93      0.95      0.93      1303\n",
      "\n",
      "5 \n",
      "prune_size:  0.8\n",
      "              precision    recall  f1-score   support\n",
      "\n",
      "       False       0.95      1.00      0.97      1234\n",
      "        True       1.00      0.06      0.11        69\n",
      "\n",
      "    accuracy                           0.95      1303\n",
      "   macro avg       0.97      0.53      0.54      1303\n",
      "weighted avg       0.95      0.95      0.93      1303\n",
      "\n",
      "5 \n",
      "prune_size:  0.9\n",
      "              precision    recall  f1-score   support\n",
      "\n",
      "       False       0.95      1.00      0.97      1234\n",
      "        True       0.86      0.09      0.16        69\n",
      "\n",
      "    accuracy                           0.95      1303\n",
      "   macro avg       0.90      0.54      0.57      1303\n",
      "weighted avg       0.95      0.95      0.93      1303\n",
      "\n",
      "5 \n",
      "prune_size:  1\n",
      "              precision    recall  f1-score   support\n",
      "\n",
      "       False       0.95      1.00      0.97      1234\n",
      "        True       0.00      0.00      0.00        69\n",
      "\n",
      "    accuracy                           0.95      1303\n",
      "   macro avg       0.47      0.50      0.49      1303\n",
      "weighted avg       0.90      0.95      0.92      1303\n",
      "\n"
     ]
    },
    {
     "name": "stderr",
     "output_type": "stream",
     "text": [
      "irep.py: .fit | base.py: ._check_allpos_allneg: RuntimeWarning: \n",
      "Ruleset is empty. All predictions it makes with method .predict will be negative. It may be untrained or was trained on a dataset split lacking positive examples.\n",
      "\n",
      "base.py: .predict | base.py: ._check_allpos_allneg: RuntimeWarning: \n",
      "Ruleset is empty. All predictions it makes with method .predict will be negative. It may be untrained or was trained on a dataset split lacking positive examples.\n",
      "\n",
      "/Users/samuele/opt/anaconda3/lib/python3.8/site-packages/sklearn/metrics/_classification.py:1245: UndefinedMetricWarning: Precision and F-score are ill-defined and being set to 0.0 in labels with no predicted samples. Use `zero_division` parameter to control this behavior.\n",
      "  _warn_prf(average, modifier, msg_start, len(result))\n",
      "/Users/samuele/opt/anaconda3/lib/python3.8/site-packages/sklearn/metrics/_classification.py:1245: UndefinedMetricWarning: Precision and F-score are ill-defined and being set to 0.0 in labels with no predicted samples. Use `zero_division` parameter to control this behavior.\n",
      "  _warn_prf(average, modifier, msg_start, len(result))\n",
      "/Users/samuele/opt/anaconda3/lib/python3.8/site-packages/sklearn/metrics/_classification.py:1245: UndefinedMetricWarning: Precision and F-score are ill-defined and being set to 0.0 in labels with no predicted samples. Use `zero_division` parameter to control this behavior.\n",
      "  _warn_prf(average, modifier, msg_start, len(result))\n"
     ]
    }
   ],
   "source": [
    "for pr in [0.1, 0.2, 0.3, 0.4, 0.5, 0.6, 0.7, 0.8, 0.9, 1]: \n",
    "        irep_clf = lw.IREP(random_state=42, prune_size=pr)\n",
    "        irep_clf.fit(train, class_feat='genre_top', pos_class='Jazz')\n",
    "        y_predicted = irep_clf.predict(test)\n",
    "        print(ks, \"\\nprune_size: \", pr)\n",
    "        print(classification_report(y_test_enc, y_predicted))"
   ]
  },
  {
   "cell_type": "code",
   "execution_count": 64,
   "metadata": {},
   "outputs": [],
   "source": [
    "irep_clf = lw.IREP(random_state=42, prune_size=0.1)\n",
    "irep_clf.fit(train, class_feat='genre_top', pos_class='Jazz')"
   ]
  },
  {
   "cell_type": "code",
   "execution_count": 65,
   "metadata": {},
   "outputs": [],
   "source": [
    "y_predicted = irep_clf.predict(test)"
   ]
  },
  {
   "cell_type": "code",
   "execution_count": 66,
   "metadata": {},
   "outputs": [
    {
     "name": "stdout",
     "output_type": "stream",
     "text": [
      "              precision    recall  f1-score   support\n",
      "\n",
      "       False       0.95      1.00      0.97      1234\n",
      "        True       0.70      0.10      0.18        69\n",
      "\n",
      "    accuracy                           0.95      1303\n",
      "   macro avg       0.83      0.55      0.58      1303\n",
      "weighted avg       0.94      0.95      0.93      1303\n",
      "\n"
     ]
    }
   ],
   "source": [
    "print(classification_report(y_test_enc, y_predicted))"
   ]
  },
  {
   "cell_type": "code",
   "execution_count": 67,
   "metadata": {},
   "outputs": [
    {
     "name": "stdout",
     "output_type": "stream",
     "text": [
      "[[energy=0.0-0.25 ^ instrumentalness=0.89-0.91 ^ bit_rate=256-320] V\n",
      "[energy=0.0-0.25 ^ bit_rate=256-320 ^ danceability=0.29-0.34]]\n"
     ]
    }
   ],
   "source": [
    "irep_clf.out_model()"
   ]
  },
  {
   "cell_type": "code",
   "execution_count": 68,
   "metadata": {},
   "outputs": [
    {
     "data": {
      "image/png": "[encoded data removed]",
      "text/plain": [
       "<Figure size 576x360 with 1 Axes>"
      ]
     },
     "metadata": {
      "needs_background": "light"
     },
     "output_type": "display_data"
    }
   ],
   "source": [
    "plt.figure(figsize=(8,5))\n",
    "\n",
    "# y_score0 --> scores of decision tree without PCA\n",
    "# fpr0, tpr0 ---> false positive and true positive of decision tree without PCA\n",
    "y_score0 = irep_clf.predict_proba(X_test)\n",
    "fpr0, tpr0, _ = roc_curve(y_test, y_score0[:, 1], pos_label='Jazz')\n",
    "\n",
    "# roc_auc0 --> ROC/AUC of decision tree without PCA\n",
    "roc_auc0 = auc(fpr0, tpr0)\n",
    "\n",
    "plt.plot(fpr0, tpr0, color='red', lw=2, label='Decision Tree$\\;$(AUC = %.3f)' % roc_auc0)\n",
    "\n",
    "plt.plot([0, 1], [0, 1], color='black', lw=2, linestyle='--')\n",
    "plt.xlim([0.0, 1.0])\n",
    "plt.ylim([0.0, 1.05])\n",
    "plt.xlabel('False Positive Rate', fontsize=16)\n",
    "plt.ylabel('True Positive Rate', fontsize=16)\n",
    "plt.title('ROC curve - without PCA', fontsize=16)\n",
    "plt.legend(loc=\"lower right\", fontsize=14, frameon=False)\n",
    "plt.tick_params(axis='both', which='major', labelsize=16)\n",
    "plt.show()"
   ]
  },
  {
   "cell_type": "code",
   "execution_count": 69,
   "metadata": {},
   "outputs": [
    {
     "name": "stdout",
     "output_type": "stream",
     "text": [
      "Legend:\n",
      "True: Jazz\n",
      "False: Rock\n",
      "[[1231    3]\n",
      " [  62    7]]\n"
     ]
    },
    {
     "data": {
      "image/png": "[encoded data removed]",
      "text/plain": [
       "<Figure size 432x288 with 2 Axes>"
      ]
     },
     "metadata": {
      "needs_background": "light"
     },
     "output_type": "display_data"
    }
   ],
   "source": [
    "print(\"Legend:\\nTrue: Jazz\"\n",
    "      \"\\nFalse: Rock\")\n",
    "cm = plot_confusion_matrix(irep_clf,test,y_test_enc,\n",
    "                            cmap = plt.cm.Blues)\n",
    "cm.ax_.set_title('Confusion Matrix - Decision tree (without PCA)')\n",
    "print(cm.confusion_matrix)\n",
    "plt.show()"
   ]
  }
 ],
 "metadata": {
  "kernelspec": {
   "display_name": "Python 3",
   "language": "python",
   "name": "python3"
  },
  "language_info": {
   "codemirror_mode": {
    "name": "ipython",
    "version": 3
   },
   "file_extension": ".py",
   "mimetype": "text/x-python",
   "name": "python",
   "nbconvert_exporter": "python",
   "pygments_lexer": "ipython3",
   "version": "3.8.5"
  }
 },
 "nbformat": 4,
 "nbformat_minor": 2
}
