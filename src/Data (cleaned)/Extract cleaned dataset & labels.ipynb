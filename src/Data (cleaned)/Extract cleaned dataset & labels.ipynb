{
 "cells": [
  {
   "cell_type": "code",
   "execution_count": 1,
   "outputs": [],
   "source": [
    "%matplotlib inline\n",
    "\n",
    "import pandas as pd\n",
    "import numpy as np\n",
    "import matplotlib.pyplot as plt\n",
    "import sys\n",
    "sys.path.insert(1, './fma_metadata/')\n",
    "from fma_metadata import utils\n",
    "import warnings\n",
    "warnings.filterwarnings('ignore')"
   ],
   "metadata": {
    "collapsed": false,
    "pycharm": {
     "name": "#%%\n"
    }
   }
  },
  {
   "cell_type": "code",
   "execution_count": 2,
   "outputs": [
    {
     "data": {
      "text/plain": "'with open(\"genre_labels.csv\",\"w\") as new_label:\\n    new_label.write(genres_labels.to_csv(index=True))'"
     },
     "execution_count": 2,
     "metadata": {},
     "output_type": "execute_result"
    }
   ],
   "source": [
    "# extract labels for genres\n",
    "tracks = utils.load('/Users/gaetanoantonicchio/Desktop/dataset_DM2/fma_metadata/tracks.csv')\n",
    "genres_labels = tracks['track'][['genre_top']]\n",
    "genres_labels.dropna(inplace=True)\n",
    "#genres_labels.head()\n",
    "# exporting labels: song_popularity\n",
    "'''with open(\"genre_labels.csv\",\"w\") as new_label:\n",
    "    new_label.write(genres_labels.to_csv(index=True))'''"
   ],
   "metadata": {
    "collapsed": false,
    "pycharm": {
     "name": "#%%\n"
    }
   }
  },
  {
   "cell_type": "code",
   "execution_count": 3,
   "outputs": [
    {
     "data": {
      "text/plain": "'with open(\"song_popularity_labels.csv\",\"w\") as new_label:\\n    new_label.write(song_popularity_labels.to_csv(index=True))'"
     },
     "execution_count": 3,
     "metadata": {},
     "output_type": "execute_result"
    }
   ],
   "source": [
    "# extract labels for song popularity\n",
    "echonest = utils.load('/Users/gaetanoantonicchio/Desktop/dataset_DM2/fma_metadata/echonest.csv')\n",
    "social_features_dataset= echonest['echonest','social_features']\n",
    "social_features_dataset['song_popularity'] = np.where( ( (social_features_dataset['song_hotttnesss'] >= 0.15)\\\n",
    "                                                         & (social_features_dataset['artist_hotttnesss'] >= 0.4 ) ),\n",
    "                                                       'popular', 'not popular')\n",
    "\n",
    "song_popularity_labels = social_features_dataset[['song_popularity']]\n",
    "#song_popularity_labels.head()\n",
    "# exporting labels: song_popularity\n",
    "'''with open(\"song_popularity_labels.csv\",\"w\") as new_label:\n",
    "    new_label.write(song_popularity_labels.to_csv(index=True))'''"
   ],
   "metadata": {
    "collapsed": false,
    "pycharm": {
     "name": "#%%\n"
    }
   }
  },
  {
   "cell_type": "code",
   "execution_count": 4,
   "outputs": [
    {
     "data": {
      "text/plain": "'with open(\"dataset_song_popularity.csv\",\"w\") as new_label:\\n    new_label.write(dataset_song_popularity.to_csv(index=True))'"
     },
     "execution_count": 4,
     "metadata": {},
     "output_type": "execute_result"
    }
   ],
   "source": [
    "# extract dataset_song_popularity.csv\n",
    "dataset_song_popularity = echonest['echonest','audio_features'].merge(tracks['track'][['listens','bit_rate']], on='track_id')\n",
    "\n",
    "'''with open(\"dataset_song_popularity.csv\",\"w\") as new_label:\n",
    "    new_label.write(dataset_song_popularity.to_csv(index=True))'''"
   ],
   "metadata": {
    "collapsed": false,
    "pycharm": {
     "name": "#%%\n"
    }
   }
  },
  {
   "cell_type": "code",
   "execution_count": 5,
   "outputs": [],
   "source": [
    "# extract labels for years_of_rock\n",
    "\n",
    "rock_genre = tracks['track'][['genre_top']][tracks['track']['genre_top'] == 'Hip-Hop']\n",
    "# filtered echonest_audio_features by rock genres\n",
    "rock_df = echonest['echonest','audio_features'].merge(rock_genre,on='track_id')"
   ],
   "metadata": {
    "collapsed": false,
    "pycharm": {
     "name": "#%%\n"
    }
   }
  },
  {
   "cell_type": "code",
   "execution_count": 6,
   "outputs": [
    {
     "data": {
      "text/plain": "(910, 9)"
     },
     "execution_count": 6,
     "metadata": {},
     "output_type": "execute_result"
    }
   ],
   "source": [
    "rock_df.shape"
   ],
   "metadata": {
    "collapsed": false,
    "pycharm": {
     "name": "#%%\n"
    }
   }
  },
  {
   "cell_type": "code",
   "execution_count": 7,
   "outputs": [
    {
     "data": {
      "text/plain": "Index(['active_year_begin', 'active_year_end', 'associated_labels', 'bio',\n       'comments', 'date_created', 'favorites', 'id', 'latitude', 'location',\n       'longitude', 'members', 'name', 'related_projects', 'tags', 'website',\n       'wikipedia_page'],\n      dtype='object')"
     },
     "execution_count": 7,
     "metadata": {},
     "output_type": "execute_result"
    }
   ],
   "source": [
    "tracks['artist'].columns"
   ],
   "metadata": {
    "collapsed": false,
    "pycharm": {
     "name": "#%%\n"
    }
   }
  },
  {
   "cell_type": "code",
   "execution_count": 14,
   "outputs": [],
   "source": [
    "# extract year from date_created --> to new col: year_created in track\n",
    "rock_df = echonest['echonest','audio_features'].merge(tracks['track'][['genre_top','listens','duration','bit_rate','comments']],on='track_id')\n",
    "rock_df['bit_rate'] = rock_df['bit_rate']//1000\n",
    "\n",
    "rock_df = rock_df[rock_df['genre_top'] == 'Rock']\n",
    "\n",
    "tracks['track','year'] = pd.DatetimeIndex(tracks['track','date_created']).year\n",
    "years = tracks['track'][['year']]\n",
    "rock_df = rock_df.merge(years, on='track_id')\n",
    "rock_df = rock_df.merge(echonest['echonest','social_features'][['song_hotttnesss','artist_hotttnesss','artist_familiarity']], on ='track_id')\n",
    "rock_df = rock_df.merge(tracks['artist'][['name']],on='track_id')\n",
    "\n",
    "\n",
    "with open(\"rock_year_df.csv\",\"w\") as new_label:\n",
    "    new_label.write(rock_df.to_csv(index=True))"
   ],
   "metadata": {
    "collapsed": false,
    "pycharm": {
     "name": "#%%\n"
    }
   }
  },
  {
   "cell_type": "code",
   "execution_count": 15,
   "outputs": [],
   "source": [
    "# extract dataset for classification using echonest dataset\n",
    "echonest_feat = echonest['echonest','audio_features'].merge(tracks['track'][['genre_top','listens','duration','bit_rate','comments']],on='track_id')\n",
    "\n",
    "# bit_rate is bit_rate(kbit/s) convert it to seconds (dividing by 1000)\n",
    "echonest_feat['bit_rate'] = echonest_feat['bit_rate']//1000\n",
    "echonest_feat.head()\n",
    "\n",
    "with open(\"echo_features.csv\",\"w\") as new_label:\n",
    "    new_label.write(echonest_feat.to_csv(index=True))"
   ],
   "metadata": {
    "collapsed": false,
    "pycharm": {
     "name": "#%%\n"
    }
   }
  }
 ],
 "metadata": {
  "kernelspec": {
   "display_name": "Python 3",
   "language": "python",
   "name": "python3"
  },
  "language_info": {
   "codemirror_mode": {
    "name": "ipython",
    "version": 2
   },
   "file_extension": ".py",
   "mimetype": "text/x-python",
   "name": "python",
   "nbconvert_exporter": "python",
   "pygments_lexer": "ipython2",
   "version": "2.7.6"
  }
 },
 "nbformat": 4,
 "nbformat_minor": 0
}