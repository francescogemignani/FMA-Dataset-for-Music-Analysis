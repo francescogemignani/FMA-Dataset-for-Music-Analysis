{
 "cells": [
  {
   "cell_type": "code",
   "execution_count": 21,
   "outputs": [],
   "source": [
    "%matplotlib inline\n",
    "\n",
    "import pandas as pd\n",
    "import numpy as np\n",
    "import matplotlib.pyplot as plt\n",
    "import sys\n",
    "sys.path.insert(1, './fma_metadata/')\n",
    "from fma_metadata import utils\n",
    "import warnings\n",
    "warnings.filterwarnings('ignore')"
   ],
   "metadata": {
    "collapsed": false,
    "pycharm": {
     "name": "#%%\n"
    }
   }
  },
  {
   "cell_type": "code",
   "execution_count": 22,
   "outputs": [],
   "source": [
    "# extract labels for genres\n",
    "tracks = utils.load('/Users/gaetanoantonicchio/Desktop/dataset_DM2/fma_metadata/tracks.csv')\n",
    "genres_labels = tracks['track'][['genre_top']]\n",
    "genres_labels.dropna(inplace=True)\n",
    "#genres_labels.head()\n",
    "# exporting labels: song_popularity\n",
    "with open(\"genre_labels.csv\",\"w\") as new_label:\n",
    "    new_label.write(genres_labels.to_csv(index=True))"
   ],
   "metadata": {
    "collapsed": false,
    "pycharm": {
     "name": "#%%\n"
    }
   }
  },
  {
   "cell_type": "code",
   "execution_count": 23,
   "outputs": [],
   "source": [
    "# extract labels for song popularity\n",
    "echonest = utils.load('/Users/gaetanoantonicchio/Desktop/dataset_DM2/fma_metadata/echonest.csv')\n",
    "social_features_dataset= echonest['echonest','social_features']\n",
    "social_features_dataset['song_popularity'] = np.where( ( (social_features_dataset['song_hotttnesss'] >= 0.15)\\\n",
    "                                                         & (social_features_dataset['artist_hotttnesss'] >= 0.4 ) ),\n",
    "                                                       'popular', 'not popular')\n",
    "\n",
    "song_popularity_labels = social_features_dataset[['song_popularity']]\n",
    "#song_popularity_labels.head()\n",
    "# exporting labels: song_popularity\n",
    "with open(\"song_popularity_labels.csv\",\"w\") as new_label:\n",
    "    new_label.write(song_popularity_labels.to_csv(index=True))"
   ],
   "metadata": {
    "collapsed": false,
    "pycharm": {
     "name": "#%%\n"
    }
   }
  },
  {
   "cell_type": "code",
   "execution_count": 24,
   "outputs": [],
   "source": [
    "# extract dataset_song_popularity.csv\n",
    "dataset_song_popularity = echonest['echonest','audio_features'].merge(tracks['track'][['listens','bit_rate']], on='track_id')\n",
    "\n",
    "with open(\"dataset_song_popularity.csv\",\"w\") as new_label:\n",
    "    new_label.write(dataset_song_popularity.to_csv(index=True))"
   ],
   "metadata": {
    "collapsed": false,
    "pycharm": {
     "name": "#%%\n"
    }
   }
  },
  {
   "cell_type": "code",
   "execution_count": 25,
   "outputs": [],
   "source": [
    "# extract labels for years_of_rock\n",
    "\n",
    "rock_genre = tracks['track'][['genre_top']][tracks['track']['genre_top'] == 'Hip-Hop']\n",
    "# filtered echonest_audio_features by rock genres\n",
    "rock_df = echonest['echonest','audio_features'].merge(rock_genre,on='track_id')"
   ],
   "metadata": {
    "collapsed": false,
    "pycharm": {
     "name": "#%%\n"
    }
   }
  },
  {
   "cell_type": "code",
   "execution_count": 26,
   "outputs": [
    {
     "data": {
      "text/plain": "(910, 9)"
     },
     "execution_count": 26,
     "metadata": {},
     "output_type": "execute_result"
    }
   ],
   "source": [
    "rock_df.shape"
   ],
   "metadata": {
    "collapsed": false,
    "pycharm": {
     "name": "#%%\n"
    }
   }
  },
  {
   "cell_type": "code",
   "execution_count": 31,
   "outputs": [
    {
     "data": {
      "text/plain": "Index(['active_year_begin', 'active_year_end', 'associated_labels', 'bio',\n       'comments', 'date_created', 'favorites', 'id', 'latitude', 'location',\n       'longitude', 'members', 'name', 'related_projects', 'tags', 'website',\n       'wikipedia_page'],\n      dtype='object')"
     },
     "execution_count": 31,
     "metadata": {},
     "output_type": "execute_result"
    }
   ],
   "source": [
    "tracks['artist'].columns"
   ],
   "metadata": {
    "collapsed": false,
    "pycharm": {
     "name": "#%%\n"
    }
   }
  },
  {
   "cell_type": "code",
   "execution_count": 40,
   "outputs": [],
   "source": [
    "# extract year from date_created --> to new col: year_created in track\n",
    "rock_df = echonest['echonest','audio_features'].merge(tracks['track'][['genre_top','listens','duration','bit_rate','comments']],on='track_id')\n",
    "rock_df = rock_df[rock_df['genre_top'] == 'Rock']\n",
    "\n",
    "tracks['track','year'] = pd.DatetimeIndex(tracks['track','date_created']).year\n",
    "years = tracks['track'][['year']]\n",
    "rock_df = rock_df.merge(years, on='track_id')\n",
    "rock_df = rock_df.merge(echonest['echonest','social_features'][['song_hotttnesss','artist_hotttnesss','artist_familiarity']], on ='track_id')\n",
    "rock_df = rock_df.merge(tracks['artist'][['name']],on='track_id')"
   ],
   "metadata": {
    "collapsed": false,
    "pycharm": {
     "name": "#%%\n"
    }
   }
  },
  {
   "cell_type": "code",
   "execution_count": 41,
   "outputs": [
    {
     "data": {
      "text/plain": "          acousticness  danceability    energy  instrumentalness  liveness  \\\ntrack_id                                                                     \n153           0.988306      0.255661  0.979774          0.973006  0.121342   \n154           0.970135      0.352946  0.023852          0.957113  0.113261   \n155           0.981657      0.142249  0.912122          0.967294  0.363510   \n169           0.989141      0.225978  0.722835          0.263076  0.092371   \n170           0.886660      0.298518  0.744333          0.920950  0.139587   \n\n          speechiness   tempo   valence genre_top  listens  duration  \\\ntrack_id                                                               \n153          0.051740  90.241  0.034018      Rock      424       405   \n154          0.032177  53.758  0.035632      Rock      205       319   \n155          0.087527  91.912  0.034325      Rock      197       756   \n169          0.053406  94.322  0.028347      Rock      270       144   \n170          0.088781  97.880  0.073548      Rock      122       181   \n\n          bit_rate  comments  year  song_hotttnesss  artist_hotttnesss  \\\ntrack_id                                                                 \n153         256000         0  2008         0.044300           0.274455   \n154         256000         0  2008         0.070213           0.274455   \n155         192000         0  2008         0.000000           0.274455   \n169         192000         0  2008         0.039431           0.287989   \n170         192000         0  2008         0.000000           0.287989   \n\n          artist_familiarity            name  \ntrack_id                                      \n153                 0.173315  Arc and Sender  \n154                 0.173315  Arc and Sender  \n155                 0.173315  Arc and Sender  \n169                 0.162622      Argumentix  \n170                 0.162622      Argumentix  ",
      "text/html": "<div>\n<style scoped>\n    .dataframe tbody tr th:only-of-type {\n        vertical-align: middle;\n    }\n\n    .dataframe tbody tr th {\n        vertical-align: top;\n    }\n\n    .dataframe thead th {\n        text-align: right;\n    }\n</style>\n<table border=\"1\" class=\"dataframe\">\n  <thead>\n    <tr style=\"text-align: right;\">\n      <th></th>\n      <th>acousticness</th>\n      <th>danceability</th>\n      <th>energy</th>\n      <th>instrumentalness</th>\n      <th>liveness</th>\n      <th>speechiness</th>\n      <th>tempo</th>\n      <th>valence</th>\n      <th>genre_top</th>\n      <th>listens</th>\n      <th>duration</th>\n      <th>bit_rate</th>\n      <th>comments</th>\n      <th>year</th>\n      <th>song_hotttnesss</th>\n      <th>artist_hotttnesss</th>\n      <th>artist_familiarity</th>\n      <th>name</th>\n    </tr>\n    <tr>\n      <th>track_id</th>\n      <th></th>\n      <th></th>\n      <th></th>\n      <th></th>\n      <th></th>\n      <th></th>\n      <th></th>\n      <th></th>\n      <th></th>\n      <th></th>\n      <th></th>\n      <th></th>\n      <th></th>\n      <th></th>\n      <th></th>\n      <th></th>\n      <th></th>\n      <th></th>\n    </tr>\n  </thead>\n  <tbody>\n    <tr>\n      <th>153</th>\n      <td>0.988306</td>\n      <td>0.255661</td>\n      <td>0.979774</td>\n      <td>0.973006</td>\n      <td>0.121342</td>\n      <td>0.051740</td>\n      <td>90.241</td>\n      <td>0.034018</td>\n      <td>Rock</td>\n      <td>424</td>\n      <td>405</td>\n      <td>256000</td>\n      <td>0</td>\n      <td>2008</td>\n      <td>0.044300</td>\n      <td>0.274455</td>\n      <td>0.173315</td>\n      <td>Arc and Sender</td>\n    </tr>\n    <tr>\n      <th>154</th>\n      <td>0.970135</td>\n      <td>0.352946</td>\n      <td>0.023852</td>\n      <td>0.957113</td>\n      <td>0.113261</td>\n      <td>0.032177</td>\n      <td>53.758</td>\n      <td>0.035632</td>\n      <td>Rock</td>\n      <td>205</td>\n      <td>319</td>\n      <td>256000</td>\n      <td>0</td>\n      <td>2008</td>\n      <td>0.070213</td>\n      <td>0.274455</td>\n      <td>0.173315</td>\n      <td>Arc and Sender</td>\n    </tr>\n    <tr>\n      <th>155</th>\n      <td>0.981657</td>\n      <td>0.142249</td>\n      <td>0.912122</td>\n      <td>0.967294</td>\n      <td>0.363510</td>\n      <td>0.087527</td>\n      <td>91.912</td>\n      <td>0.034325</td>\n      <td>Rock</td>\n      <td>197</td>\n      <td>756</td>\n      <td>192000</td>\n      <td>0</td>\n      <td>2008</td>\n      <td>0.000000</td>\n      <td>0.274455</td>\n      <td>0.173315</td>\n      <td>Arc and Sender</td>\n    </tr>\n    <tr>\n      <th>169</th>\n      <td>0.989141</td>\n      <td>0.225978</td>\n      <td>0.722835</td>\n      <td>0.263076</td>\n      <td>0.092371</td>\n      <td>0.053406</td>\n      <td>94.322</td>\n      <td>0.028347</td>\n      <td>Rock</td>\n      <td>270</td>\n      <td>144</td>\n      <td>192000</td>\n      <td>0</td>\n      <td>2008</td>\n      <td>0.039431</td>\n      <td>0.287989</td>\n      <td>0.162622</td>\n      <td>Argumentix</td>\n    </tr>\n    <tr>\n      <th>170</th>\n      <td>0.886660</td>\n      <td>0.298518</td>\n      <td>0.744333</td>\n      <td>0.920950</td>\n      <td>0.139587</td>\n      <td>0.088781</td>\n      <td>97.880</td>\n      <td>0.073548</td>\n      <td>Rock</td>\n      <td>122</td>\n      <td>181</td>\n      <td>192000</td>\n      <td>0</td>\n      <td>2008</td>\n      <td>0.000000</td>\n      <td>0.287989</td>\n      <td>0.162622</td>\n      <td>Argumentix</td>\n    </tr>\n  </tbody>\n</table>\n</div>"
     },
     "execution_count": 41,
     "metadata": {},
     "output_type": "execute_result"
    }
   ],
   "source": [
    "rock_df.head()"
   ],
   "metadata": {
    "collapsed": false,
    "pycharm": {
     "name": "#%%\n"
    }
   }
  },
  {
   "cell_type": "code",
   "execution_count": 42,
   "outputs": [],
   "source": [
    "with open(\"rock_year_df.csv\",\"w\") as new_label:\n",
    "    new_label.write(rock_df.to_csv(index=True))"
   ],
   "metadata": {
    "collapsed": false,
    "pycharm": {
     "name": "#%%\n"
    }
   }
  }
 ],
 "metadata": {
  "kernelspec": {
   "display_name": "Python 3",
   "language": "python",
   "name": "python3"
  },
  "language_info": {
   "codemirror_mode": {
    "name": "ipython",
    "version": 2
   },
   "file_extension": ".py",
   "mimetype": "text/x-python",
   "name": "python",
   "nbconvert_exporter": "python",
   "pygments_lexer": "ipython2",
   "version": "2.7.6"
  }
 },
 "nbformat": 4,
 "nbformat_minor": 0
}