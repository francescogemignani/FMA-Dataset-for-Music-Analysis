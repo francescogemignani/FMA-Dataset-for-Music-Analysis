{
 "cells": [
  {
   "cell_type": "code",
   "execution_count": 15,
   "outputs": [],
   "source": [
    "%matplotlib inline\n",
    "\n",
    "import pandas as pd\n",
    "import numpy as np\n",
    "import matplotlib.pyplot as plt\n",
    "import sys\n",
    "sys.path.insert(1, './fma_metadata/')\n",
    "from fma_metadata import utils\n",
    "import warnings\n",
    "warnings.filterwarnings('ignore')"
   ],
   "metadata": {
    "collapsed": false,
    "pycharm": {
     "name": "#%%\n"
    }
   }
  },
  {
   "cell_type": "code",
   "execution_count": 10,
   "outputs": [],
   "source": [
    "# extract labels for genres\n",
    "tracks = utils.load('/Users/gaetanoantonicchio/Desktop/dataset_DM2/fma_metadata/tracks.csv')\n",
    "genres_labels = tracks['track'][['genre_top']]\n",
    "genres_labels.dropna(inplace=True)\n",
    "#genres_labels.head()\n",
    "# exporting labels: song_popularity\n",
    "with open(\"genre_labels.csv\",\"w\") as new_label:\n",
    "    new_label.write(genres_labels.to_csv(index=True))"
   ],
   "metadata": {
    "collapsed": false,
    "pycharm": {
     "name": "#%%\n"
    }
   }
  },
  {
   "cell_type": "code",
   "execution_count": 11,
   "outputs": [],
   "source": [
    "# extract labels for song popularity\n",
    "echonest = utils.load('/Users/gaetanoantonicchio/Desktop/dataset_DM2/fma_metadata/echonest.csv')\n",
    "social_features_dataset= echonest['echonest','social_features']\n",
    "social_features_dataset['song_popularity'] = np.where( ( (social_features_dataset['song_hotttnesss'] >= 0.15)\\\n",
    "                                                         & (social_features_dataset['artist_hotttnesss'] >= 0.4 ) ),\n",
    "                                                       'popular', 'not popular')\n",
    "\n",
    "song_popularity_labels = social_features_dataset[['song_popularity']]\n",
    "#song_popularity_labels.head()\n",
    "# exporting labels: song_popularity\n",
    "with open(\"song_popularity_labels.csv\",\"w\") as new_label:\n",
    "    new_label.write(song_popularity_labels.to_csv(index=True))"
   ],
   "metadata": {
    "collapsed": false,
    "pycharm": {
     "name": "#%%\n"
    }
   }
  },
  {
   "cell_type": "code",
   "execution_count": 14,
   "outputs": [],
   "source": [
    "# extract dataset_song_popularity.csv\n",
    "dataset_song_popularity = echonest['echonest','audio_features'].merge(tracks['track'][['listens','bit_rate']], on='track_id')\n",
    "\n",
    "with open(\"dataset_song_popularity.csv\",\"w\") as new_label:\n",
    "    new_label.write(dataset_song_popularity.to_csv(index=True))"
   ],
   "metadata": {
    "collapsed": false,
    "pycharm": {
     "name": "#%%\n"
    }
   }
  },
  {
   "cell_type": "code",
   "execution_count": null,
   "outputs": [],
   "source": [
    "# extract labels for years_of_rock\n",
    "\n",
    "rock_genre = tracks['track'][['genre_top']][tracks['track']['genre_top'] == 'Hip-Hop']\n",
    "# filtered echonest_audio_features by rock genres\n",
    "rock_df = echonest['echonest','audio_features'].merge(rock_genre,on='track_id')"
   ],
   "metadata": {
    "collapsed": false,
    "pycharm": {
     "name": "#%%\n"
    }
   }
  },
  {
   "cell_type": "code",
   "execution_count": null,
   "outputs": [],
   "source": [
    "rock_df.shape"
   ],
   "metadata": {
    "collapsed": false,
    "pycharm": {
     "name": "#%%\n"
    }
   }
  },
  {
   "cell_type": "code",
   "execution_count": 20,
   "outputs": [],
   "source": [
    "# extract year from date_created --> to new col: year_created in track\n",
    "rock_df = echonest['echonest','audio_features'].merge(tracks['track'][['genre_top','listens','duration','bit_rate','comments']],on='track_id')\n",
    "rock_df = rock_df[rock_df['genre_top'] == 'Rock']\n",
    "\n",
    "tracks['track','year'] = pd.DatetimeIndex(tracks['track','date_created']).year\n",
    "years = tracks['track'][['year']]\n",
    "rock_df = rock_df.merge(years, on='track_id')\n",
    "#rock_df.head()\n",
    "\n",
    "with open(\"rock_year_df.csv\",\"w\") as new_label:\n",
    "    new_label.write(rock_df.to_csv(index=True))"
   ],
   "metadata": {
    "collapsed": false,
    "pycharm": {
     "name": "#%%\n"
    }
   }
  }
 ],
 "metadata": {
  "kernelspec": {
   "display_name": "Python 3",
   "language": "python",
   "name": "python3"
  },
  "language_info": {
   "codemirror_mode": {
    "name": "ipython",
    "version": 2
   },
   "file_extension": ".py",
   "mimetype": "text/x-python",
   "name": "python",
   "nbconvert_exporter": "python",
   "pygments_lexer": "ipython2",
   "version": "2.7.6"
  }
 },
 "nbformat": 4,
 "nbformat_minor": 0
}