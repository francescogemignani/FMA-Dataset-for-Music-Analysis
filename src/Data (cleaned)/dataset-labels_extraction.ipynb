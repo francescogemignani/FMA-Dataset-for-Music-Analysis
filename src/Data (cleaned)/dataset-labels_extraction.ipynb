{
 "cells": [
  {
   "cell_type": "code",
   "execution_count": 2,
   "metadata": {
    "pycharm": {
     "name": "#%%\n"
    }
   },
   "outputs": [],
   "source": [
    "%matplotlib inline\n",
    "PATH = '/Users/gaetanoantonicchio/Documents/GitHub/DataMining-2'\n",
    "sys.path.insert(0, PATH)\n",
    "import sys\n",
    "\n",
    "import pandas as pd\n",
    "import numpy as np\n",
    "import matplotlib.pyplot as plt\n",
    "import sys\n",
    "sys.path.insert(1, './fma_metadata/')\n",
    "from fma_metadata import utils\n",
    "import warnings\n",
    "warnings.filterwarnings('ignore')"
   ]
  },
  {
   "cell_type": "code",
   "execution_count": 2,
   "metadata": {
    "pycharm": {
     "name": "#%%\n"
    }
   },
   "outputs": [
    {
     "data": {
      "text/plain": [
       "'with open(\"genre_labels.csv\",\"w\") as new_label:\\n    new_label.write(genres_labels.to_csv(index=True))'"
      ]
     },
     "execution_count": 2,
     "metadata": {},
     "output_type": "execute_result"
    }
   ],
   "source": [
    "# extract labels for genres\n",
    "tracks = utils.load('/Users/gaetanoantonicchio/Desktop/dataset_DM2/fma_metadata/tracks.csv')\n",
    "genres_labels = tracks['track'][['genre_top']]\n",
    "genres_labels.dropna(inplace=True)\n",
    "#genres_labels.head()\n",
    "# exporting labels: song_popularity\n",
    "'''with open(\"genre_labels.csv\",\"w\") as new_label:\n",
    "    new_label.write(genres_labels.to_csv(index=True))'''"
   ]
  },
  {
   "cell_type": "code",
   "execution_count": 3,
   "metadata": {
    "pycharm": {
     "name": "#%%\n"
    }
   },
   "outputs": [
    {
     "data": {
      "text/plain": [
       "'with open(\"song_popularity_labels.csv\",\"w\") as new_label:\\n    new_label.write(song_popularity_labels.to_csv(index=True))'"
      ]
     },
     "execution_count": 3,
     "metadata": {},
     "output_type": "execute_result"
    }
   ],
   "source": [
    "# extract labels for song popularity\n",
    "echonest = utils.load('/Users/gaetanoantonicchio/Desktop/dataset_DM2/fma_metadata/echonest.csv')\n",
    "social_features_dataset= echonest['echonest','social_features']\n",
    "social_features_dataset['song_popularity'] = np.where( ( (social_features_dataset['song_hotttnesss'] >= 0.15)\\\n",
    "                                                         & (social_features_dataset['artist_hotttnesss'] >= 0.4 ) ),\n",
    "                                                       'popular', 'not popular')\n",
    "\n",
    "song_popularity_labels = social_features_dataset[['song_popularity']]\n",
    "#song_popularity_labels.head()\n",
    "# exporting labels: song_popularity\n",
    "'''with open(\"song_popularity_labels.csv\",\"w\") as new_label:\n",
    "    new_label.write(song_popularity_labels.to_csv(index=True))'''"
   ]
  },
  {
   "cell_type": "code",
   "execution_count": 4,
   "metadata": {
    "pycharm": {
     "name": "#%%\n"
    }
   },
   "outputs": [
    {
     "data": {
      "text/plain": [
       "'with open(\"dataset_song_popularity.csv\",\"w\") as new_label:\\n    new_label.write(dataset_song_popularity.to_csv(index=True))'"
      ]
     },
     "execution_count": 4,
     "metadata": {},
     "output_type": "execute_result"
    }
   ],
   "source": [
    "# extract dataset_song_popularity.csv\n",
    "dataset_song_popularity = echonest['echonest','audio_features'].merge(tracks['track'][['listens','bit_rate']], on='track_id')\n",
    "\n",
    "'''with open(\"dataset_song_popularity.csv\",\"w\") as new_label:\n",
    "    new_label.write(dataset_song_popularity.to_csv(index=True))'''"
   ]
  },
  {
   "cell_type": "code",
   "execution_count": 5,
   "metadata": {
    "pycharm": {
     "name": "#%%\n"
    }
   },
   "outputs": [],
   "source": [
    "# extract labels for years_of_rock\n",
    "\n",
    "rock_genre = tracks['track'][['genre_top']][tracks['track']['genre_top'] == 'Hip-Hop']\n",
    "# filtered echonest_audio_features by rock genres\n",
    "rock_df = echonest['echonest','audio_features'].merge(rock_genre,on='track_id')"
   ]
  },
  {
   "cell_type": "code",
   "execution_count": 6,
   "metadata": {
    "pycharm": {
     "name": "#%%\n"
    }
   },
   "outputs": [
    {
     "data": {
      "text/plain": [
       "(910, 9)"
      ]
     },
     "execution_count": 6,
     "metadata": {},
     "output_type": "execute_result"
    }
   ],
   "source": [
    "rock_df.shape"
   ]
  },
  {
   "cell_type": "code",
   "execution_count": 7,
   "metadata": {
    "pycharm": {
     "name": "#%%\n"
    }
   },
   "outputs": [
    {
     "data": {
      "text/plain": [
       "Index(['active_year_begin', 'active_year_end', 'associated_labels', 'bio',\n",
       "       'comments', 'date_created', 'favorites', 'id', 'latitude', 'location',\n",
       "       'longitude', 'members', 'name', 'related_projects', 'tags', 'website',\n",
       "       'wikipedia_page'],\n",
       "      dtype='object')"
      ]
     },
     "execution_count": 7,
     "metadata": {},
     "output_type": "execute_result"
    }
   ],
   "source": [
    "tracks['artist'].columns"
   ]
  },
  {
   "cell_type": "code",
   "execution_count": 14,
   "metadata": {
    "pycharm": {
     "name": "#%%\n"
    }
   },
   "outputs": [],
   "source": [
    "# extract year from date_created --> to new col: year_created in track\n",
    "rock_df = echonest['echonest','audio_features'].merge(tracks['track'][['genre_top','listens','duration','bit_rate','comments']],on='track_id')\n",
    "rock_df['bit_rate'] = rock_df['bit_rate']//1000\n",
    "\n",
    "rock_df = rock_df[rock_df['genre_top'] == 'Rock']\n",
    "\n",
    "tracks['track','year'] = pd.DatetimeIndex(tracks['track','date_created']).year\n",
    "years = tracks['track'][['year']]\n",
    "rock_df = rock_df.merge(years, on='track_id')\n",
    "rock_df = rock_df.merge(echonest['echonest','social_features'][['song_hotttnesss','artist_hotttnesss','artist_familiarity']], on ='track_id')\n",
    "rock_df = rock_df.merge(tracks['artist'][['name']],on='track_id')\n",
    "\n",
    "\n",
    "with open(\"rock_year_df.csv\",\"w\") as new_label:\n",
    "    new_label.write(rock_df.to_csv(index=True))"
   ]
  },
  {
   "cell_type": "code",
   "execution_count": 15,
   "metadata": {
    "pycharm": {
     "name": "#%%\n"
    }
   },
   "outputs": [],
   "source": [
    "# extract dataset for classification using echonest dataset\n",
    "echonest_feat = echonest['echonest','audio_features'].merge(tracks['track'][['genre_top','listens','duration','bit_rate','comments']],on='track_id')\n",
    "\n",
    "# bit_rate is bit_rate(kbit/s) convert it to seconds (dividing by 1000)\n",
    "echonest_feat['bit_rate'] = echonest_feat['bit_rate']//1000\n",
    "echonest_feat.head()\n",
    "\n",
    "with open(\"echo_features.csv\",\"w\") as new_label:\n",
    "    new_label.write(echonest_feat.to_csv(index=True))"
   ]
  },
  {
   "cell_type": "code",
   "execution_count": 3,
   "metadata": {},
   "outputs": [],
   "source": [
    "echo = utils.load('/Users/gaetanoantonicchio/Desktop/dataset_DM2/fma_metadata/echonest.csv')"
   ]
  },
  {
   "cell_type": "code",
   "execution_count": 5,
   "metadata": {},
   "outputs": [],
   "source": [
    "echo=echo['echonest','audio_features']"
   ]
  },
  {
   "cell_type": "code",
   "execution_count": 7,
   "metadata": {},
   "outputs": [
    {
     "data": {
      "text/plain": [
       "<matplotlib.axes._subplots.AxesSubplot at 0x7fb4c7564590>"
      ]
     },
     "execution_count": 7,
     "metadata": {},
     "output_type": "execute_result"
    },
    {
     "data": {
      "image/png": "[encoded data removed]",
      "text/plain": [
       "<Figure size 432x288 with 1 Axes>"
      ]
     },
     "metadata": {
      "needs_background": "light"
     },
     "output_type": "display_data"
    }
   ],
   "source": [
    "echo['valence'].hist()"
   ]
  },
  {
   "cell_type": "code",
   "execution_count": 11,
   "metadata": {},
   "outputs": [
    {
     "data": {
      "text/plain": [
       "array([[<matplotlib.axes._subplots.AxesSubplot object at 0x7fb4c7f1ee50>]],\n",
       "      dtype=object)"
      ]
     },
     "execution_count": 11,
     "metadata": {},
     "output_type": "execute_result"
    },
    {
     "data": {
      "image/png": "[encoded data removed]",
      "text/plain": [
       "<Figure size 432x288 with 1 Axes>"
      ]
     },
     "metadata": {
      "needs_background": "light"
     },
     "output_type": "display_data"
    }
   ],
   "source": [
    "echo[['valence']][echo['valence']>0.5].hist()"
   ]
  },
  {
   "cell_type": "code",
   "execution_count": 12,
   "metadata": {},
   "outputs": [
    {
     "data": {
      "text/plain": [
       "array([[<matplotlib.axes._subplots.AxesSubplot object at 0x7fb4c79550d0>]],\n",
       "      dtype=object)"
      ]
     },
     "execution_count": 12,
     "metadata": {},
     "output_type": "execute_result"
    },
    {
     "data": {
      "image/png": "[encoded data removed]",
      "text/plain": [
       "<Figure size 432x288 with 1 Axes>"
      ]
     },
     "metadata": {
      "needs_background": "light"
     },
     "output_type": "display_data"
    }
   ],
   "source": [
    "echo[['valence']][echo['valence']<=0.5].hist()"
   ]
  },
  {
   "cell_type": "code",
   "execution_count": null,
   "metadata": {},
   "outputs": [],
   "source": [
    "song_happiness = echo[['valence']].apply(lambda x: 'sad' if x )"
   ]
  }
 ],
 "metadata": {
  "kernelspec": {
   "display_name": "Python 3",
   "language": "python",
   "name": "python3"
  },
  "language_info": {
   "codemirror_mode": {
    "name": "ipython",
    "version": 3
   },
   "file_extension": ".py",
   "mimetype": "text/x-python",
   "name": "python",
   "nbconvert_exporter": "python",
   "pygments_lexer": "ipython3",
   "version": "3.7.4"
  }
 },
 "nbformat": 4,
 "nbformat_minor": 1
}
