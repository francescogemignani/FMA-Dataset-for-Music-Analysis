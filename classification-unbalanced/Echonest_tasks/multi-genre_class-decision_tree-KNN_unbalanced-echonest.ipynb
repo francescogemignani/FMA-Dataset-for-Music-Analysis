{
 "cells": [
  {
   "cell_type": "code",
   "execution_count": 58,
   "outputs": [],
   "source": [
    "%matplotlib inline\n",
    "\n",
    "import pandas as pd\n",
    "import numpy as np\n",
    "from utility_functions import report\n",
    "# sklearn modules\n",
    "from sklearn import preprocessing\n",
    "from sklearn.model_selection import train_test_split, GridSearchCV\n",
    "from sklearn.tree import DecisionTreeClassifier\n",
    "from sklearn.model_selection import StratifiedKFold\n",
    "from sklearn.preprocessing import StandardScaler, label_binarize\n",
    "from sklearn.model_selection import cross_val_score\n",
    "from sklearn.metrics import classification_report\n",
    "from sklearn.metrics import accuracy_score, f1_score, classification_report\n",
    "from sklearn.metrics import roc_curve, auc, roc_auc_score\n",
    "from sklearn.metrics import plot_confusion_matrix\n",
    "from sklearn.neighbors import KNeighborsClassifier\n",
    "\n",
    "from sklearn.decomposition import PCA\n",
    "import seaborn as sns\n",
    "import matplotlib.pyplot as plt\n",
    "import plotly.express as px\n",
    "from tqdm import tqdm\n",
    "import warnings\n",
    "warnings.filterwarnings('ignore')"
   ],
   "metadata": {
    "collapsed": false,
    "pycharm": {
     "name": "#%%\n"
    }
   }
  },
  {
   "cell_type": "code",
   "execution_count": null,
   "outputs": [],
   "source": [
    "echo_genres = pd.read_csv('//Users/gaetanoantonicchio/Documents/GitHub/DataMining-2/clean_datasets/echo_genres.csv')\n",
    "echo_genres.set_index('track_id', inplace=True)\n",
    "echo_genres.head()"
   ],
   "metadata": {
    "collapsed": false,
    "pycharm": {
     "name": "#%%\n"
    }
   }
  },
  {
   "cell_type": "code",
   "execution_count": null,
   "outputs": [],
   "source": [
    "echo_genres.genre_top.value_counts()"
   ],
   "metadata": {
    "collapsed": false,
    "pycharm": {
     "name": "#%%\n"
    }
   }
  },
  {
   "cell_type": "markdown",
   "source": [
    "# Multiclass classification : 8 genres"
   ],
   "metadata": {
    "collapsed": false
   }
  },
  {
   "cell_type": "code",
   "execution_count": null,
   "outputs": [],
   "source": [
    "genres_subset = ['Rock','Electronic','Hip-Hop','Folk','Old-Time / Historic','Pop',\n",
    "          'Classical','Jazz']\n",
    "# generating dataset for multiclass classification task\n",
    "echo_gen = echo_genres[echo_genres['genre_top'].isin(genres_subset)]\n",
    "echo_gen.head()"
   ],
   "metadata": {
    "collapsed": false,
    "pycharm": {
     "name": "#%%\n"
    }
   }
  },
  {
   "cell_type": "code",
   "execution_count": null,
   "outputs": [],
   "source": [
    "echo_gen.shape"
   ],
   "metadata": {
    "collapsed": false,
    "pycharm": {
     "name": "#%%\n"
    }
   }
  },
  {
   "cell_type": "code",
   "execution_count": null,
   "outputs": [],
   "source": [
    "echo_gen.genre_top.value_counts()"
   ],
   "metadata": {
    "collapsed": false,
    "pycharm": {
     "name": "#%%\n"
    }
   }
  },
  {
   "cell_type": "code",
   "execution_count": null,
   "outputs": [],
   "source": [
    "# encoding labels\n",
    "le = preprocessing.LabelEncoder()\n",
    "echo_gen['genre_top'] = le.fit_transform(echo_gen['genre_top'])\n",
    "print('Legend:\\n0: Classical\\n1: Electronic\\n2: Folk\\n3: Hip-Hop\\n4: Jazz\\n5: Old-Time / Historic\\n6: Pop\\n7: Rock')\n",
    "echo_gen.genre_top.value_counts()"
   ],
   "metadata": {
    "collapsed": false,
    "pycharm": {
     "name": "#%%\n"
    }
   }
  },
  {
   "cell_type": "code",
   "execution_count": null,
   "outputs": [],
   "source": [
    "# detach target col\n",
    "labels = echo_gen[['genre_top']]\n",
    "labels.reset_index(drop=True, inplace=True)\n",
    "labels = labels['genre_top']"
   ],
   "metadata": {
    "collapsed": false,
    "pycharm": {
     "name": "#%%\n"
    }
   }
  },
  {
   "cell_type": "code",
   "execution_count": null,
   "outputs": [],
   "source": [
    "echo_gen.drop('genre_top', axis=1, inplace=True)"
   ],
   "metadata": {
    "collapsed": false,
    "pycharm": {
     "name": "#%%\n"
    }
   }
  },
  {
   "cell_type": "code",
   "execution_count": null,
   "outputs": [],
   "source": [
    "# normalize the data\n",
    "scaler = StandardScaler()\n",
    "scaled_features = scaler.fit_transform(echo_gen)"
   ],
   "metadata": {
    "collapsed": false,
    "pycharm": {
     "name": "#%%\n"
    }
   }
  },
  {
   "cell_type": "markdown",
   "source": [
    "# 1. PCA on scaled data\n",
    "### 1.1 scree-plot"
   ],
   "metadata": {
    "collapsed": false
   }
  },
  {
   "cell_type": "code",
   "execution_count": null,
   "outputs": [],
   "source": [
    "pca = PCA()\n",
    "pca.fit(scaled_features)\n",
    "# get explained variance ratios from PCA using all features\n",
    "exp_variance = pca.explained_variance_ratio_\n",
    "# plot explained variance\n",
    "fig, ax= plt.subplots()\n",
    "ax.bar(range(pca.n_components_),exp_variance)\n",
    "ax.set_xlabel('Principal Component #')"
   ],
   "metadata": {
    "collapsed": false,
    "pycharm": {
     "name": "#%%\n"
    }
   }
  },
  {
   "cell_type": "markdown",
   "source": [
    "### 1.2 cumulative explained variance plot"
   ],
   "metadata": {
    "collapsed": false
   }
  },
  {
   "cell_type": "code",
   "execution_count": null,
   "outputs": [],
   "source": [
    "# calculate the cumulative explained variance\n",
    "cum_exp_var = np.cumsum(exp_variance)\n",
    "\n",
    "# plot the cumulative explained variance and draw a dashed line at 0.9\\\n",
    "# This line indicates how much variance (information) we want to retain\n",
    "fig, ax= plt.subplots()\n",
    "ax.plot(cum_exp_var)\n",
    "ax.axhline(y=0.9, linestyle='--')\n",
    "\n",
    "# find index where cum_exp_var exceeds 0.9 and adding 1 to that index to get the num of components\n",
    "n_components = ((np.where(cum_exp_var > 0.9))[0][0])\n",
    "print(f\"Optimal number of components: {n_components}\")\n",
    "print(f\"Explained variation per principal component:\\n{pca.explained_variance_ratio_}\")\n",
    "# perform PCA with the chosen number of components and project data onto components\n",
    "pca = PCA(n_components,random_state=10)\n",
    "pca.fit(scaled_features)\n",
    "pca_proj = pca.transform(scaled_features)"
   ],
   "metadata": {
    "collapsed": false,
    "pycharm": {
     "name": "#%%\n"
    }
   }
  },
  {
   "cell_type": "code",
   "execution_count": null,
   "outputs": [],
   "source": [],
   "metadata": {
    "collapsed": false,
    "pycharm": {
     "name": "#%%\n"
    }
   }
  },
  {
   "cell_type": "markdown",
   "source": [
    "### 1.3 plot PCA in 2D"
   ],
   "metadata": {
    "collapsed": false
   }
  },
  {
   "cell_type": "code",
   "execution_count": null,
   "outputs": [],
   "source": [
    "# generating df for plotting PCA\n",
    "df = pd.DataFrame()\n",
    "df['pca1'] = pca_proj[:,0]\n",
    "df['pca2'] = pca_proj[:,1]\n",
    "df['pca3'] = pca_proj[:,2]\n",
    "df['genres'] = le.inverse_transform(labels)\n",
    "\n",
    "# plot scatter of PCA\n",
    "plt.figure(figsize=(10,7))\n",
    "sns.scatterplot(\n",
    "    x=\"pca1\", y=\"pca2\",\n",
    "    hue='genres',\n",
    "    data=df,\n",
    "    legend=\"full\",\n",
    "    alpha=0.9\n",
    ")\n",
    "plt.title(\"PCA in 2D\", fontsize= 15)\n",
    "plt.show()"
   ],
   "metadata": {
    "collapsed": false,
    "pycharm": {
     "name": "#%%\n"
    }
   }
  },
  {
   "cell_type": "markdown",
   "source": [
    "Rock, Classic and Hip-Hop are well separated from the others.\n",
    "Jazz instead, is very close to classical (probably due to instrumentality of the two genres), in fact\n",
    "is located on the leftmost side of the graph."
   ],
   "metadata": {
    "collapsed": false
   }
  },
  {
   "cell_type": "code",
   "execution_count": null,
   "outputs": [],
   "source": [],
   "metadata": {
    "collapsed": false,
    "pycharm": {
     "name": "#%%\n"
    }
   }
  },
  {
   "cell_type": "markdown",
   "source": [
    "# 1.4 plot PCA in 3D"
   ],
   "metadata": {
    "collapsed": false
   }
  },
  {
   "cell_type": "code",
   "execution_count": null,
   "outputs": [],
   "source": [
    "# 3D PCA\n",
    "#total_var = pca.explained_variance_ratio_.sum() * 100\n",
    "\n",
    "fig = px.scatter_3d(\n",
    "    df, x='pca1', y='pca2', z='pca3', color='genres',\n",
    "    #title=f'Total Explained Variance: {total_var:.2f}%',\n",
    "    #labels={'0': 'PC 1', '1': 'PC 2', '2': 'PC 3'}\n",
    ")\n",
    "fig.update_layout(legend=dict(\n",
    "    orientation=\"v\",\n",
    "    yanchor=\"bottom\",\n",
    "    y=1,\n",
    "    xanchor=\"right\",\n",
    "    x=0.6\n",
    "))\n",
    "fig.show()"
   ],
   "metadata": {
    "collapsed": false,
    "pycharm": {
     "name": "#%%\n"
    }
   }
  },
  {
   "cell_type": "code",
   "execution_count": null,
   "outputs": [],
   "source": [],
   "metadata": {
    "collapsed": false,
    "pycharm": {
     "name": "#%%\n"
    }
   }
  },
  {
   "cell_type": "markdown",
   "source": [
    "# 2. Model selection"
   ],
   "metadata": {
    "collapsed": false
   }
  },
  {
   "cell_type": "code",
   "execution_count": null,
   "outputs": [],
   "source": [
    "# shuffle and split into development set and internal test set:\n",
    "# (PCA)\n",
    "Xpca_develop, Xpca_test, y_develop_pca, y_test_pca = train_test_split(\n",
    "pca_proj, labels, test_size=0.30, random_state=10)\n",
    "\n",
    "# (no PCA)\n",
    "X_develop, X_test, y_develop, y_test = train_test_split(\n",
    "scaled_features, labels, test_size=0.30, random_state=10)"
   ],
   "metadata": {
    "collapsed": false,
    "pycharm": {
     "name": "#%%\n"
    }
   }
  },
  {
   "cell_type": "code",
   "execution_count": null,
   "outputs": [],
   "source": [
    "# check partitions\n",
    "print(f\"____Legend_____\\n0: Classical\\n1: Electronic\\n2: Folk\\n3: Hip-Hop\\n4: Jazz\\n5: Old-Time / Historic\\n6: Pop\\\n",
    "\\n7: Rock'\\n\\n***PCA***\\nDevelopment set:\\n{y_develop_pca.value_counts()}\\n\\nInternal Test:\\\n",
    "\\n{y_test_pca.value_counts()}\\n\\n\\-----------------\\n\\***No-PCA***\\nDevelopment set:\\n{y_develop.value_counts()}\\n\\nInternal Test:\\n{y_test.value_counts()}\")"
   ],
   "metadata": {
    "collapsed": false,
    "pycharm": {
     "name": "#%%\n"
    }
   }
  },
  {
   "cell_type": "markdown",
   "source": [
    "## Model Selection"
   ],
   "metadata": {
    "collapsed": false
   }
  },
  {
   "cell_type": "markdown",
   "source": [
    "# 2.1 Decision Tree -  Unbalanced - without PCA\n",
    "### 2.1.1 10 fold cross validation - grid search"
   ],
   "metadata": {
    "collapsed": false
   }
  },
  {
   "cell_type": "code",
   "execution_count": 34,
   "outputs": [
    {
     "name": "stdout",
     "output_type": "stream",
     "text": [
      "Fitting 10 folds for each of 200 candidates, totalling 2000 fits\n",
      "Model with rank: 1\n",
      "Mean validation score: 0.624 (std: 0.014)\n",
      "Parameters: {'criterion': 'gini', 'max_depth': 8, 'min_samples_leaf': 45}\n",
      "\n",
      "Model with rank: 2\n",
      "Mean validation score: 0.624 (std: 0.016)\n",
      "Parameters: {'criterion': 'entropy', 'max_depth': 8, 'min_samples_leaf': 25}\n",
      "\n",
      "Model with rank: 3\n",
      "Mean validation score: 0.623 (std: 0.014)\n",
      "Parameters: {'criterion': 'gini', 'max_depth': 7, 'min_samples_leaf': 45}\n",
      "\n",
      "Model with rank: 4\n",
      "Mean validation score: 0.622 (std: 0.012)\n",
      "Parameters: {'criterion': 'entropy', 'max_depth': 10, 'min_samples_leaf': 25}\n",
      "\n",
      "Model with rank: 5\n",
      "Mean validation score: 0.621 (std: 0.015)\n",
      "Parameters: {'criterion': 'gini', 'max_depth': 10, 'min_samples_leaf': 45}\n",
      "\n",
      "Model with rank: 5\n",
      "Mean validation score: 0.621 (std: 0.015)\n",
      "Parameters: {'criterion': 'gini', 'max_depth': None, 'min_samples_leaf': 45}\n",
      "\n",
      "Model with rank: 7\n",
      "Mean validation score: 0.621 (std: 0.011)\n",
      "Parameters: {'criterion': 'entropy', 'max_depth': None, 'min_samples_leaf': 25}\n",
      "\n",
      "Model with rank: 8\n",
      "Mean validation score: 0.621 (std: 0.016)\n",
      "Parameters: {'criterion': 'entropy', 'max_depth': 10, 'min_samples_leaf': 35}\n",
      "\n",
      "Model with rank: 8\n",
      "Mean validation score: 0.621 (std: 0.016)\n",
      "Parameters: {'criterion': 'entropy', 'max_depth': None, 'min_samples_leaf': 35}\n",
      "\n",
      "Model with rank: 10\n",
      "Mean validation score: 0.621 (std: 0.015)\n",
      "Parameters: {'criterion': 'gini', 'max_depth': 9, 'min_samples_leaf': 45}\n",
      "\n"
     ]
    }
   ],
   "source": [
    "param_grid = {\n",
    "               \"max_depth\": [2,3,4,5,6,7,8,9,10, None],\n",
    "               \"min_samples_leaf\": [25,35,45,55,75,100,150,250,300,None],\n",
    "               \"criterion\": [\"gini\", \"entropy\"]\n",
    "             }\n",
    "# model\n",
    "dtc = DecisionTreeClassifier()\n",
    "stratified_cv = StratifiedKFold(n_splits=10, shuffle=True, random_state=42)\n",
    "random_search = GridSearchCV(dtc, cv =stratified_cv , param_grid=param_grid, n_jobs=2, verbose=True)\n",
    "\n",
    "random_search.fit(X_develop, y_develop)\n",
    "dtc=random_search.best_estimator_\n",
    "report(random_search.cv_results_, n_top=10)"
   ],
   "metadata": {
    "collapsed": false,
    "pycharm": {
     "name": "#%%\n"
    }
   }
  },
  {
   "cell_type": "markdown",
   "source": [
    "### 2.1.2 5 fold cross validation - grid search"
   ],
   "metadata": {
    "collapsed": false
   }
  },
  {
   "cell_type": "code",
   "execution_count": null,
   "outputs": [],
   "source": [
    "stratified_cv = StratifiedKFold(n_splits=5, shuffle=True, random_state=42)\n",
    "random_search = GridSearchCV(dtc, cv =stratified_cv , param_grid=param_grid, n_jobs=2, verbose=True)\n",
    "random_search.fit(X_develop, y_develop)\n",
    "dtc=random_search.best_estimator_\n",
    "report(random_search.cv_results_, n_top=10)"
   ],
   "metadata": {
    "collapsed": false,
    "pycharm": {
     "name": "#%%\n"
    }
   }
  },
  {
   "cell_type": "markdown",
   "source": [
    "### 2.1.3 Retrain on full development set and prediction"
   ],
   "metadata": {
    "collapsed": false
   }
  },
  {
   "cell_type": "code",
   "execution_count": 45,
   "outputs": [
    {
     "name": "stdout",
     "output_type": "stream",
     "text": [
      "Accuracy 0.6139124033860875\n",
      "F1-score [0.59649123 0.576      0.40973631 0.53877551 0.         0.75799087\n",
      " 0.04580153 0.71767406]\n",
      "              precision    recall  f1-score   support\n",
      "\n",
      "           0       0.57      0.63      0.60        81\n",
      "           1       0.59      0.57      0.58       635\n",
      "           2       0.48      0.36      0.41       283\n",
      "           3       0.59      0.50      0.54       266\n",
      "           4       0.00      0.00      0.00        66\n",
      "           5       0.78      0.73      0.76       113\n",
      "           6       0.15      0.03      0.05       111\n",
      "           7       0.65      0.81      0.72      1162\n",
      "\n",
      "    accuracy                           0.61      2717\n",
      "   macro avg       0.48      0.45      0.46      2717\n",
      "weighted avg       0.58      0.61      0.59      2717\n",
      "\n"
     ]
    },
    {
     "data": {
      "text/plain": "' \\n# y_score0 --> scores of decision tree without PCA\\n# fpr0, tpr0 ---> false positive and true positive of decision tree without PCA\\ny_score0 = dtc.predict_proba(X_test)\\nfpr0, tpr0, _ = roc_curve(y_test, y_score0[:, 1])\\n\\n# roc_auc0 --> ROC/AUC of decision tree without PCA\\nroc_auc0 = auc(fpr0, tpr0)\\n\\nplt.plot(fpr0, tpr0, color=\\'red\\', lw=3, label=\\'$AUC_{without PCA}$ = %.3f\\' % roc_auc0)\\n\\nplt.plot([0, 1], [0, 1], color=\\'black\\', lw=2, linestyle=\\'--\\')\\nplt.xlim([0.0, 1.0])\\nplt.ylim([0.0, 1.05])\\nplt.xlabel(\\'False Positive Rate\\', fontsize=16)\\nplt.ylabel(\\'True Positive Rate\\', fontsize=16)\\nplt.title(\\'ROC curve - without PCA\\', fontsize=16)\\nplt.legend(loc=\"lower right\", fontsize=14, frameon=False)\\nplt.tick_params(axis=\\'both\\', which=\\'major\\', labelsize=16)\\nplt.show()'"
     },
     "execution_count": 45,
     "metadata": {},
     "output_type": "execute_result"
    }
   ],
   "source": [
    "dtc = DecisionTreeClassifier(criterion= 'gini',max_depth=8, min_samples_leaf= 45)\n",
    "dtc.fit(X_develop,y_develop)\n",
    "\n",
    "y_pred_dtc = dtc.predict(X_test)\n",
    "\n",
    "print('Accuracy %s' % accuracy_score(y_test, y_pred_dtc))\n",
    "print('F1-score %s' % f1_score(y_test, y_pred_dtc, average=None))\n",
    "print(classification_report(y_test, y_pred_dtc))\n",
    "\n",
    "'''\n",
    "# y_score0 --> scores of decision tree without PCA\n",
    "# fpr0, tpr0 ---> false positive and true positive of decision tree without PCA\n",
    "y_score0 = dtc.predict_proba(X_test)\n",
    "fpr0, tpr0, _ = roc_curve(y_test, y_score0[:, 1])\n",
    "\n",
    "# roc_auc0 --> ROC/AUC of decision tree without PCA\n",
    "roc_auc0 = auc(fpr0, tpr0)\n",
    "\n",
    "plt.plot(fpr0, tpr0, color='red', lw=3, label='$AUC_{without PCA}$ = %.3f' % roc_auc0)\n",
    "\n",
    "plt.plot([0, 1], [0, 1], color='black', lw=2, linestyle='--')\n",
    "plt.xlim([0.0, 1.0])\n",
    "plt.ylim([0.0, 1.05])\n",
    "plt.xlabel('False Positive Rate', fontsize=16)\n",
    "plt.ylabel('True Positive Rate', fontsize=16)\n",
    "plt.title('ROC curve - without PCA', fontsize=16)\n",
    "plt.legend(loc=\"lower right\", fontsize=14, frameon=False)\n",
    "plt.tick_params(axis='both', which='major', labelsize=16)\n",
    "plt.show()'''"
   ],
   "metadata": {
    "collapsed": false,
    "pycharm": {
     "name": "#%%\n"
    }
   }
  },
  {
   "cell_type": "code",
   "execution_count": 49,
   "outputs": [
    {
     "name": "stdout",
     "output_type": "stream",
     "text": [
      "Legend:\n",
      "0: Classical\n",
      "1: Electronic\n",
      "2: Folk\n",
      "3: Hip-Hop\n",
      "4: Jazz\n",
      "5: Old-Time / Historic\n",
      "6: Pop\n",
      "7: Rock\n",
      "\n",
      "[[ 51   0  18   0   0   8   0   4]\n",
      " [  3 360  12  35   0   2   3 220]\n",
      " [ 12  22 101   9   0   5   3 131]\n",
      " [  0  79   2 132   0   1   0  52]\n",
      " [  6   4  10   6   0   0   0  40]\n",
      " [ 10   1   9   3   0  83   1   6]\n",
      " [  2  23  14   7   0   1   3  61]\n",
      " [  6 126  44  32   0   6  10 938]]\n"
     ]
    },
    {
     "data": {
      "text/plain": "<Figure size 432x288 with 2 Axes>",
      "image/png": "[encoded data removed]"
     },
     "metadata": {
      "needs_background": "light"
     },
     "output_type": "display_data"
    }
   ],
   "source": [
    "# confusion matrix - Internal Test\n",
    "print('Legend:\\n0: Classical\\n1: Electronic\\n2: Folk\\n3: Hip-Hop\\n4: Jazz\\n5: Old-Time / Historic\\n6: Pop\\n7: Rock\\n')\n",
    "cm = plot_confusion_matrix(dtc,X_test,y_test,\n",
    "                            cmap = plt.cm.Blues)\n",
    "cm.ax_.set_title('Confusion Matrix - Decision tree (without PCA)')\n",
    "print(cm.confusion_matrix)\n",
    "plt.show()"
   ],
   "metadata": {
    "collapsed": false,
    "pycharm": {
     "name": "#%%\n"
    }
   }
  },
  {
   "cell_type": "markdown",
   "source": [
    "# 2.2 Decision Tree -  Unbalanced - with PCA\n",
    "### 2.2.1 10 fold cross validation - grid search"
   ],
   "metadata": {
    "collapsed": false
   }
  },
  {
   "cell_type": "code",
   "execution_count": 50,
   "outputs": [
    {
     "name": "stdout",
     "output_type": "stream",
     "text": [
      "Fitting 10 folds for each of 200 candidates, totalling 2000 fits\n",
      "Model with rank: 1\n",
      "Mean validation score: 0.586 (std: 0.011)\n",
      "Parameters: {'criterion': 'entropy', 'max_depth': 10, 'min_samples_leaf': 35}\n",
      "\n",
      "Model with rank: 1\n",
      "Mean validation score: 0.586 (std: 0.011)\n",
      "Parameters: {'criterion': 'entropy', 'max_depth': None, 'min_samples_leaf': 35}\n",
      "\n",
      "Model with rank: 3\n",
      "Mean validation score: 0.585 (std: 0.011)\n",
      "Parameters: {'criterion': 'entropy', 'max_depth': 9, 'min_samples_leaf': 35}\n",
      "\n",
      "Model with rank: 4\n",
      "Mean validation score: 0.584 (std: 0.012)\n",
      "Parameters: {'criterion': 'entropy', 'max_depth': 8, 'min_samples_leaf': 35}\n",
      "\n",
      "Model with rank: 5\n",
      "Mean validation score: 0.584 (std: 0.019)\n",
      "Parameters: {'criterion': 'gini', 'max_depth': 7, 'min_samples_leaf': 25}\n",
      "\n",
      "Model with rank: 6\n",
      "Mean validation score: 0.584 (std: 0.019)\n",
      "Parameters: {'criterion': 'gini', 'max_depth': 8, 'min_samples_leaf': 25}\n",
      "\n",
      "Model with rank: 7\n",
      "Mean validation score: 0.583 (std: 0.013)\n",
      "Parameters: {'criterion': 'entropy', 'max_depth': 8, 'min_samples_leaf': 25}\n",
      "\n",
      "Model with rank: 8\n",
      "Mean validation score: 0.583 (std: 0.019)\n",
      "Parameters: {'criterion': 'gini', 'max_depth': 9, 'min_samples_leaf': 45}\n",
      "\n",
      "Model with rank: 9\n",
      "Mean validation score: 0.583 (std: 0.010)\n",
      "Parameters: {'criterion': 'entropy', 'max_depth': None, 'min_samples_leaf': 25}\n",
      "\n",
      "Model with rank: 10\n",
      "Mean validation score: 0.583 (std: 0.018)\n",
      "Parameters: {'criterion': 'gini', 'max_depth': 8, 'min_samples_leaf': 45}\n",
      "\n"
     ]
    }
   ],
   "source": [
    "# model\n",
    "dtc_pca = DecisionTreeClassifier()\n",
    "stratified_cv = StratifiedKFold(n_splits=10, shuffle=True, random_state=42)\n",
    "random_search_pca = GridSearchCV(dtc, cv =stratified_cv , param_grid=param_grid, n_jobs=2, verbose=True)\n",
    "\n",
    "random_search_pca.fit(Xpca_develop, y_develop_pca)\n",
    "dtc_pca=random_search_pca.best_estimator_\n",
    "report(random_search_pca.cv_results_, n_top=10)"
   ],
   "metadata": {
    "collapsed": false,
    "pycharm": {
     "name": "#%%\n"
    }
   }
  },
  {
   "cell_type": "markdown",
   "source": [
    "### 2.2.2 5 fold cross validation - grid search"
   ],
   "metadata": {
    "collapsed": false
   }
  },
  {
   "cell_type": "code",
   "execution_count": null,
   "outputs": [],
   "source": [
    "dtc_pca = DecisionTreeClassifier()\n",
    "stratified_cv = StratifiedKFold(n_splits=5, shuffle=True, random_state=42)\n",
    "random_search_pca = GridSearchCV(dtc, cv =stratified_cv , param_grid=param_grid, n_jobs=2, verbose=True)\n",
    "\n",
    "random_search_pca.fit(Xpca_develop, y_develop_pca)\n",
    "dtc_pca=random_search_pca.best_estimator_\n",
    "report(random_search_pca.cv_results_, n_top=10)"
   ],
   "metadata": {
    "collapsed": false,
    "pycharm": {
     "name": "#%%\n"
    }
   }
  },
  {
   "cell_type": "markdown",
   "source": [
    "### 2.2.3 Retrain on full development set and prediction"
   ],
   "metadata": {
    "collapsed": false
   }
  },
  {
   "cell_type": "code",
   "execution_count": 51,
   "outputs": [
    {
     "name": "stdout",
     "output_type": "stream",
     "text": [
      "Accuracy 0.5852042694147958\n",
      "F1-score [0.44848485 0.55565294 0.35081374 0.55335968 0.         0.51879699\n",
      " 0.         0.7083016 ]\n",
      "              precision    recall  f1-score   support\n",
      "\n",
      "           0       0.44      0.46      0.45        81\n",
      "           1       0.63      0.50      0.56       635\n",
      "           2       0.36      0.34      0.35       283\n",
      "           3       0.58      0.53      0.55       266\n",
      "           4       0.00      0.00      0.00        66\n",
      "           5       0.45      0.61      0.52       113\n",
      "           6       0.00      0.00      0.00       111\n",
      "           7       0.64      0.80      0.71      1162\n",
      "\n",
      "    accuracy                           0.59      2717\n",
      "   macro avg       0.39      0.40      0.39      2717\n",
      "weighted avg       0.54      0.59      0.56      2717\n",
      "\n"
     ]
    },
    {
     "data": {
      "text/plain": "'\\n# y_score1 --> scores of decision tree with PCA\\n# fpr1, tpr1 ---> false positive and true positive of decision tree with PCA\\ny_score1 = dtc_pca.predict_proba(Xpca_test)\\nfpr1, tpr1, _ = roc_curve(y_test_pca, y_score1[:, 1])\\n\\n# roc_auc1 --> ROC/AUC of decision tree with PCA\\nroc_auc1 = auc(fpr1, tpr1)\\n\\nplt.plot(fpr1, tpr1, color=\\'blue\\', lw=3, label=\\'$AUC_{with PCA}$ = %.3f\\' % roc_auc1)\\n\\nplt.plot([0, 1], [0, 1], color=\\'black\\', lw=2, linestyle=\\'--\\')\\nplt.xlim([0.0, 1.0])\\nplt.ylim([0.0, 1.05])\\nplt.xlabel(\\'False Positive Rate\\', fontsize=16)\\nplt.ylabel(\\'True Positive Rate\\', fontsize=16)\\nplt.title(\\'ROC curve - with PCA\\', fontsize=16)\\nplt.legend(loc=\"lower right\", fontsize=14, frameon=False)\\nplt.tick_params(axis=\\'both\\', which=\\'major\\', labelsize=16)\\nplt.show() '"
     },
     "execution_count": 51,
     "metadata": {},
     "output_type": "execute_result"
    }
   ],
   "source": [
    "dtc_pca = DecisionTreeClassifier(criterion= 'entropy',max_depth=10, min_samples_leaf= 35)\n",
    "dtc_pca.fit(Xpca_develop,y_develop_pca)\n",
    "\n",
    "y_pred_dtc_pca = dtc_pca.predict(Xpca_test)\n",
    "\n",
    "print('Accuracy %s' % accuracy_score(y_test_pca, y_pred_dtc_pca))\n",
    "print('F1-score %s' % f1_score(y_test_pca, y_pred_dtc_pca, average=None))\n",
    "print(classification_report(y_test_pca, y_pred_dtc_pca))\n",
    "\n",
    "'''\n",
    "# y_score1 --> scores of decision tree with PCA\n",
    "# fpr1, tpr1 ---> false positive and true positive of decision tree with PCA\n",
    "y_score1 = dtc_pca.predict_proba(Xpca_test)\n",
    "fpr1, tpr1, _ = roc_curve(y_test_pca, y_score1[:, 1])\n",
    "\n",
    "# roc_auc1 --> ROC/AUC of decision tree with PCA\n",
    "roc_auc1 = auc(fpr1, tpr1)\n",
    "\n",
    "plt.plot(fpr1, tpr1, color='blue', lw=3, label='$AUC_{with PCA}$ = %.3f' % roc_auc1)\n",
    "\n",
    "plt.plot([0, 1], [0, 1], color='black', lw=2, linestyle='--')\n",
    "plt.xlim([0.0, 1.0])\n",
    "plt.ylim([0.0, 1.05])\n",
    "plt.xlabel('False Positive Rate', fontsize=16)\n",
    "plt.ylabel('True Positive Rate', fontsize=16)\n",
    "plt.title('ROC curve - with PCA', fontsize=16)\n",
    "plt.legend(loc=\"lower right\", fontsize=14, frameon=False)\n",
    "plt.tick_params(axis='both', which='major', labelsize=16)\n",
    "plt.show() '''"
   ],
   "metadata": {
    "collapsed": false,
    "pycharm": {
     "name": "#%%\n"
    }
   }
  },
  {
   "cell_type": "code",
   "execution_count": 52,
   "outputs": [
    {
     "name": "stdout",
     "output_type": "stream",
     "text": [
      "Legend:\n",
      "0: Classical\n",
      "1: Electronic\n",
      "2: Folk\n",
      "3: Hip-Hop\n",
      "4: Jazz\n",
      "5: Old-Time / Historic\n",
      "6: Pop\n",
      "7: Rock\n",
      "\n",
      "[[ 37   0  25   0   0  15   0   4]\n",
      " [  5 317  26  34   0  10   0 243]\n",
      " [ 19  10  97  12   0  21   0 124]\n",
      " [  0  63   3 140   0   9   0  51]\n",
      " [  6   3  22   3   0   3   0  29]\n",
      " [  6   2  25   2   0  69   0   9]\n",
      " [  2  10  12  11   0   2   0  74]\n",
      " [  9 101  60  38   0  24   0 930]]\n"
     ]
    },
    {
     "data": {
      "text/plain": "<Figure size 432x288 with 2 Axes>",
      "image/png": "[encoded data removed]"
     },
     "metadata": {
      "needs_background": "light"
     },
     "output_type": "display_data"
    }
   ],
   "source": [
    "# confusion matrix Decision tree with PCA\n",
    "print('Legend:\\n0: Classical\\n1: Electronic\\n2: Folk\\n3: Hip-Hop\\n4: Jazz\\n5: Old-Time / Historic\\n6: Pop\\n7: Rock\\n')\n",
    "cm_pca = plot_confusion_matrix(dtc_pca,Xpca_test,y_test_pca,\n",
    "                            cmap = plt.cm.Blues)\n",
    "cm_pca.ax_.set_title('Confusion Matrix - Decision tree with PCA')\n",
    "print(cm_pca.confusion_matrix)\n",
    "plt.show()"
   ],
   "metadata": {
    "collapsed": false,
    "pycharm": {
     "name": "#%%\n"
    }
   }
  },
  {
   "cell_type": "markdown",
   "source": [
    "# 2.3 Comparing ROC Decision tree (unbalanced) with and without PCA"
   ],
   "metadata": {
    "collapsed": false
   }
  },
  {
   "cell_type": "code",
   "execution_count": null,
   "outputs": [],
   "source": [
    "'''\n",
    "plt.plot(fpr0, tpr0, color='red', lw=3, label='$AUC_{without PCA}$ = %.3f' % roc_auc0)\n",
    "plt.plot(fpr1, tpr1, color='blue', lw=3, label='$AUC_{with PCA}$ = %.3f' % roc_auc1)\n",
    "\n",
    "plt.plot([0, 1], [0, 1], color='black', lw=2, linestyle='--')\n",
    "plt.xlim([0.0, 1.0])\n",
    "plt.ylim([0.0, 1.05])\n",
    "plt.xlabel('False Positive Rate', fontsize=16)\n",
    "plt.ylabel('True Positive Rate', fontsize=16)\n",
    "plt.title('ROC curve', fontsize=16)\n",
    "plt.legend(loc=\"lower right\", fontsize=14, frameon=False)\n",
    "plt.tick_params(axis='both', which='major', labelsize=16)\n",
    "plt.show()'''"
   ],
   "metadata": {
    "collapsed": false,
    "pycharm": {
     "name": "#%%\n"
    }
   }
  },
  {
   "cell_type": "markdown",
   "source": [
    "# 3.1 KNN binary class - Unbalanced (without PCA)"
   ],
   "metadata": {
    "collapsed": false
   }
  },
  {
   "cell_type": "markdown",
   "source": [
    "### 3.1.1 10 fold cross validation - grid search"
   ],
   "metadata": {
    "collapsed": false
   }
  },
  {
   "cell_type": "code",
   "execution_count": 60,
   "outputs": [
    {
     "name": "stderr",
     "output_type": "stream",
     "text": [
      "100%|██████████| 39/39 [00:26<00:00,  1.47it/s]\n"
     ]
    },
    {
     "name": "stdout",
     "output_type": "stream",
     "text": [
      "[0.5455980484498733, 0.5121468546453969, 0.5799948669646817, 0.5968778188088368, 0.6014509545950633, 0.6113856205241676, 0.6175430203178494, 0.6247982916461096, 0.6266927803609074, 0.6292201773139773, 0.6307957201449211, 0.6304807610846154, 0.6311091841463962, 0.6360012658164765, 0.6337928147472603, 0.6348971648701043, 0.6331621490972337, 0.6317418432081969, 0.6314276316773065, 0.6333218712156323, 0.6323754989758846, 0.6339522876891872, 0.6348989091054066, 0.634901650046596, 0.6334798490987288, 0.6345841992215726, 0.633797299923752, 0.6344289622796657, 0.6372683281753804, 0.6358482714628153, 0.6353735902841111, 0.6339550286303766, 0.6339540319244895, 0.6330081580376854, 0.6328489342722303, 0.6296948584926816, 0.6293791519029608, 0.6298520888463628, 0.6304830036728613]\n",
      "maximum score: 0.6372683281753804 for k = 29\n"
     ]
    }
   ],
   "source": [
    "# range of k to try - find a good range of k\n",
    "k_range = range(1, 40)\n",
    "# empty list to store scores\n",
    "k_scores = []\n",
    "\n",
    "for k in tqdm(k_range):\n",
    "    # run KNeighborsClassifier with k neighbours\n",
    "    knn = KNeighborsClassifier(n_neighbors=k)\n",
    "    # obtain cross_val_score for KNeighborsClassifier with k neighbours\n",
    "    scores = cross_val_score(knn, X_develop, y_develop, cv=10, scoring='accuracy')\n",
    "    # append mean of scores for k neighbors to k_scores list\n",
    "    k_scores.append(scores.mean())\n",
    "\n",
    "print(k_scores)\n",
    "print(f\"maximum score: {max(k_scores)} for k = {k_scores.index(max(k_scores))+1}\")"
   ],
   "metadata": {
    "collapsed": false,
    "pycharm": {
     "name": "#%%\n"
    }
   }
  },
  {
   "cell_type": "code",
   "execution_count": 61,
   "outputs": [
    {
     "data": {
      "text/plain": "Text(0, 0.5, 'Cross-validated accuracy')"
     },
     "execution_count": 61,
     "metadata": {},
     "output_type": "execute_result"
    },
    {
     "data": {
      "text/plain": "<Figure size 432x288 with 1 Axes>",
      "image/png": "[encoded data removed]"
     },
     "metadata": {
      "needs_background": "light"
     },
     "output_type": "display_data"
    }
   ],
   "source": [
    "# plot the value of K for KNN (x-axis) versus the cross-validated accuracy (y-axis)\n",
    "plt.plot(k_range, k_scores)\n",
    "plt.xlabel('K ')\n",
    "plt.ylabel('Cross-validated accuracy')"
   ],
   "metadata": {
    "collapsed": false,
    "pycharm": {
     "name": "#%%\n"
    }
   }
  },
  {
   "cell_type": "markdown",
   "source": [
    "## 3.1.2 Prediction on Internal test set (KNN - without PCA)"
   ],
   "metadata": {
    "collapsed": false
   }
  },
  {
   "cell_type": "code",
   "execution_count": null,
   "outputs": [],
   "source": [
    "X_test.shape, y_test.shape"
   ],
   "metadata": {
    "collapsed": false,
    "pycharm": {
     "name": "#%%\n"
    }
   }
  },
  {
   "cell_type": "code",
   "execution_count": 62,
   "outputs": [
    {
     "name": "stdout",
     "output_type": "stream",
     "text": [
      "              precision    recall  f1-score   support\n",
      "\n",
      "           0       0.53      0.69      0.60        81\n",
      "           1       0.66      0.56      0.61       635\n",
      "           2       0.42      0.41      0.41       283\n",
      "           3       0.63      0.52      0.57       266\n",
      "           4       0.00      0.00      0.00        66\n",
      "           5       0.80      0.65      0.72       113\n",
      "           6       0.33      0.01      0.02       111\n",
      "           7       0.66      0.83      0.74      1162\n",
      "\n",
      "    accuracy                           0.63      2717\n",
      "   macro avg       0.50      0.46      0.46      2717\n",
      "weighted avg       0.60      0.63      0.60      2717\n",
      "\n",
      "legend:\n",
      "0: Hip-Hop\n",
      "1: Rock\n"
     ]
    },
    {
     "data": {
      "text/plain": "'\\n# plot ROC curve -KNN\\ny_score_knn0 = knn_classifier.predict_proba(X_test)\\nfpr_knn0, tpr_knn0, _ = roc_curve(y_test, y_score_knn0[:, 1])\\nroc_auc_knn0 = auc(fpr_knn0, tpr_knn0)\\n\\nplt.plot(fpr_knn0, tpr_knn0, color=\\'red\\', lw=3, label=\\'$AUC_{KNN}$ = %.3f\\' % roc_auc_knn0)\\n\\nplt.plot([0, 1], [0, 1], color=\\'black\\', lw=2, linestyle=\\'--\\')\\nplt.xlim([0.0, 1.0])\\nplt.ylim([0.0, 1.05])\\nplt.xlabel(\\'False Positive Rate\\', fontsize=16)\\nplt.ylabel(\\'True Positive Rate\\', fontsize=16)\\nplt.title(\\'ROC curve - without PCA\\', fontsize=16)\\nplt.legend(loc=\"lower right\", fontsize=14, frameon=False)\\nplt.tick_params(axis=\\'both\\', which=\\'major\\', labelsize=16)\\nplt.show()'"
     },
     "execution_count": 62,
     "metadata": {},
     "output_type": "execute_result"
    }
   ],
   "source": [
    "knn_classifier =  KNeighborsClassifier(n_neighbors = 29)\n",
    "\n",
    "# retrain knn on the whole development set\n",
    "knn_classifier.fit(X_develop, y_develop)\n",
    "# predict target variable\n",
    "y_pred_knn0 = knn_classifier.predict(X_test)\n",
    "# display classification report\n",
    "print(classification_report(y_test, y_pred_knn0))\n",
    "print('legend:\\n0: Hip-Hop\\n1: Rock')\n",
    "\n",
    "'''\n",
    "# plot ROC curve -KNN\n",
    "y_score_knn0 = knn_classifier.predict_proba(X_test)\n",
    "fpr_knn0, tpr_knn0, _ = roc_curve(y_test, y_score_knn0[:, 1])\n",
    "roc_auc_knn0 = auc(fpr_knn0, tpr_knn0)\n",
    "\n",
    "plt.plot(fpr_knn0, tpr_knn0, color='red', lw=3, label='$AUC_{KNN}$ = %.3f' % roc_auc_knn0)\n",
    "\n",
    "plt.plot([0, 1], [0, 1], color='black', lw=2, linestyle='--')\n",
    "plt.xlim([0.0, 1.0])\n",
    "plt.ylim([0.0, 1.05])\n",
    "plt.xlabel('False Positive Rate', fontsize=16)\n",
    "plt.ylabel('True Positive Rate', fontsize=16)\n",
    "plt.title('ROC curve - without PCA', fontsize=16)\n",
    "plt.legend(loc=\"lower right\", fontsize=14, frameon=False)\n",
    "plt.tick_params(axis='both', which='major', labelsize=16)\n",
    "plt.show()'''"
   ],
   "metadata": {
    "collapsed": false,
    "pycharm": {
     "name": "#%%\n"
    }
   }
  },
  {
   "cell_type": "code",
   "execution_count": 63,
   "outputs": [
    {
     "name": "stdout",
     "output_type": "stream",
     "text": [
      "Legend:\n",
      "0: Classical\n",
      "1: Electronic\n",
      "2: Folk\n",
      "3: Hip-Hop\n",
      "4: Jazz\n",
      "5: Old-Time / Historic\n",
      "6: Pop\n",
      "7: Rock\n",
      "\n",
      "[[ 56   0  21   0   0   1   0   3]\n",
      " [  7 356  27  31   0   5   1 208]\n",
      " [ 15  13 116  10   0   2   0 127]\n",
      " [  0  61   2 139   0   2   0  62]\n",
      " [  8   2  18   3   0   3   0  32]\n",
      " [ 10   3  15   2   0  74   0   9]\n",
      " [  0  17  21   6   0   0   1  66]\n",
      " [  9  89  58  29   0   6   1 970]]\n"
     ]
    },
    {
     "data": {
      "text/plain": "<Figure size 432x288 with 2 Axes>",
      "image/png": "[encoded data removed]"
     },
     "metadata": {
      "needs_background": "light"
     },
     "output_type": "display_data"
    }
   ],
   "source": [
    "# confusion matrix KNN - Internal test\n",
    "print('Legend:\\n0: Classical\\n1: Electronic\\n2: Folk\\n3: Hip-Hop\\n4: Jazz\\n5: Old-Time / Historic\\n6: Pop\\n7: Rock\\n')\n",
    "cm_knn = plot_confusion_matrix(knn_classifier,X_test,y_test,\n",
    "                            cmap = plt.cm.Blues)\n",
    "cm_knn.ax_.set_title('Confusion Matrix - KNN without PCA')\n",
    "print(cm_knn.confusion_matrix)\n",
    "plt.show()"
   ],
   "metadata": {
    "collapsed": false,
    "pycharm": {
     "name": "#%%\n"
    }
   }
  },
  {
   "cell_type": "markdown",
   "source": [
    "# 3.2 KNN binary class - Unbalanced (with PCA)\n",
    "### 3.2.1 10 fold cross validation - grid search"
   ],
   "metadata": {
    "collapsed": false
   }
  },
  {
   "cell_type": "code",
   "execution_count": 64,
   "outputs": [
    {
     "name": "stderr",
     "output_type": "stream",
     "text": [
      "100%|██████████| 39/39 [00:21<00:00,  1.81it/s]\n"
     ]
    },
    {
     "name": "stdout",
     "output_type": "stream",
     "text": [
      "[0.5260339577695716, 0.48863655618181906, 0.5668959090206867, 0.5815671705014924, 0.5986098444640464, 0.6022373555399405, 0.606338551088652, 0.6113866172300547, 0.614229471596374, 0.6180162064377233, 0.6162809414883809, 0.6177012473774176, 0.6233827201100364, 0.6274831681293326, 0.6224343544585147, 0.6230657676379565, 0.6238536636416643, 0.6222773732813053, 0.6199114426819363, 0.6230675118732589, 0.6203848779782818, 0.6191227991488132, 0.6192812753848531, 0.6203853763312254, 0.621492218218787, 0.6238581488181559, 0.6225968175181027, 0.6225963191651592, 0.6232272339916577, 0.621648451866581, 0.6216479535136374, 0.623225738932827, 0.6232252405798835, 0.6229095339901626, 0.6200696697415043, 0.6218064297496774, 0.6216474551606939, 0.6208585624510992, 0.6211742690408202]\n",
      "maximum score: 0.6274831681293326 for k = 14\n"
     ]
    }
   ],
   "source": [
    "# range of k to try - find a good range of k\n",
    "k_range = range(1, 40)\n",
    "# empty list to store scores\n",
    "k_scores = []\n",
    "\n",
    "for k in tqdm(k_range):\n",
    "    # run KNeighborsClassifier with k neighbours\n",
    "    knn_pca = KNeighborsClassifier(n_neighbors=k)\n",
    "    # obtain cross_val_score for KNeighborsClassifier with k neighbours\n",
    "    scores = cross_val_score(knn_pca, Xpca_develop, y_develop_pca, cv=10, scoring='accuracy')\n",
    "    # append mean of scores for k neighbors to k_scores list\n",
    "    k_scores.append(scores.mean())\n",
    "\n",
    "print(k_scores)\n",
    "print(f\"maximum score: {max(k_scores)} for k = {k_scores.index(max(k_scores))+1}\")"
   ],
   "metadata": {
    "collapsed": false,
    "pycharm": {
     "name": "#%%\n"
    }
   }
  },
  {
   "cell_type": "code",
   "execution_count": 65,
   "outputs": [
    {
     "data": {
      "text/plain": "Text(0, 0.5, 'Cross-validated accuracy')"
     },
     "execution_count": 65,
     "metadata": {},
     "output_type": "execute_result"
    },
    {
     "data": {
      "text/plain": "<Figure size 432x288 with 1 Axes>",
      "image/png": "[encoded data removed]"
     },
     "metadata": {
      "needs_background": "light"
     },
     "output_type": "display_data"
    }
   ],
   "source": [
    "# plot the value of K for KNN (x-axis) versus the cross-validated accuracy (y-axis)\n",
    "plt.plot(k_range, k_scores)\n",
    "plt.xlabel('K ')\n",
    "plt.ylabel('Cross-validated accuracy')"
   ],
   "metadata": {
    "collapsed": false,
    "pycharm": {
     "name": "#%%\n"
    }
   }
  },
  {
   "cell_type": "markdown",
   "source": [
    "## 3.1.2 Prediction on Internal test set (KNN - with PCA)"
   ],
   "metadata": {
    "collapsed": false
   }
  },
  {
   "cell_type": "code",
   "execution_count": 67,
   "outputs": [
    {
     "name": "stdout",
     "output_type": "stream",
     "text": [
      "              precision    recall  f1-score   support\n",
      "\n",
      "           0       0.52      0.67      0.59        81\n",
      "           1       0.63      0.54      0.58       635\n",
      "           2       0.42      0.38      0.40       283\n",
      "           3       0.62      0.55      0.59       266\n",
      "           4       0.25      0.02      0.03        66\n",
      "           5       0.77      0.70      0.73       113\n",
      "           6       0.00      0.00      0.00       111\n",
      "           7       0.65      0.82      0.72      1162\n",
      "\n",
      "    accuracy                           0.62      2717\n",
      "   macro avg       0.48      0.46      0.45      2717\n",
      "weighted avg       0.58      0.62      0.59      2717\n",
      "\n",
      "legend:\n",
      "0: Hip-Hop\n",
      "1: Rock\n"
     ]
    },
    {
     "data": {
      "text/plain": "'\\n# plot ROC curve -KNN\\ny_score_knn1 = knn_classifier_pca.predict_proba(Xpca_test)\\nfpr_knn1, tpr_knn1, _ = roc_curve(y_test_pca, y_score_knn1[:, 1])\\nroc_auc_knn1 = auc(fpr_knn1, tpr_knn1)\\n\\nplt.plot(fpr_knn1, tpr_knn1, color=\\'blue\\', lw=3, label=\\'$AUC_{knnPCA}$ = %.3f\\' % roc_auc_knn1)\\n\\nplt.plot([0, 1], [0, 1], color=\\'black\\', lw=2, linestyle=\\'--\\')\\nplt.xlim([0.0, 1.0])\\nplt.ylim([0.0, 1.05])\\nplt.xlabel(\\'False Positive Rate\\', fontsize=16)\\nplt.ylabel(\\'True Positive Rate\\', fontsize=16)\\nplt.title(\\'ROC curve\\', fontsize=16)\\nplt.legend(loc=\"lower right\", fontsize=14, frameon=False)\\nplt.tick_params(axis=\\'both\\', which=\\'major\\', labelsize=16)\\nplt.show()'"
     },
     "execution_count": 67,
     "metadata": {},
     "output_type": "execute_result"
    }
   ],
   "source": [
    "knn_classifier_pca =  KNeighborsClassifier(n_neighbors = 14)\n",
    "# retrain knn on the whole development set\n",
    "knn_classifier_pca.fit(Xpca_develop, y_develop_pca)\n",
    "# predict target variable\n",
    "y_pred_knn1 = knn_classifier_pca.predict(Xpca_test)\n",
    "# display classification report\n",
    "print(classification_report(y_test_pca, y_pred_knn1))\n",
    "print('legend:\\n0: Hip-Hop\\n1: Rock')\n",
    "'''\n",
    "# plot ROC curve -KNN\n",
    "y_score_knn1 = knn_classifier_pca.predict_proba(Xpca_test)\n",
    "fpr_knn1, tpr_knn1, _ = roc_curve(y_test_pca, y_score_knn1[:, 1])\n",
    "roc_auc_knn1 = auc(fpr_knn1, tpr_knn1)\n",
    "\n",
    "plt.plot(fpr_knn1, tpr_knn1, color='blue', lw=3, label='$AUC_{knnPCA}$ = %.3f' % roc_auc_knn1)\n",
    "\n",
    "plt.plot([0, 1], [0, 1], color='black', lw=2, linestyle='--')\n",
    "plt.xlim([0.0, 1.0])\n",
    "plt.ylim([0.0, 1.05])\n",
    "plt.xlabel('False Positive Rate', fontsize=16)\n",
    "plt.ylabel('True Positive Rate', fontsize=16)\n",
    "plt.title('ROC curve', fontsize=16)\n",
    "plt.legend(loc=\"lower right\", fontsize=14, frameon=False)\n",
    "plt.tick_params(axis='both', which='major', labelsize=16)\n",
    "plt.show()'''"
   ],
   "metadata": {
    "collapsed": false,
    "pycharm": {
     "name": "#%%\n"
    }
   }
  },
  {
   "cell_type": "markdown",
   "source": [
    "# Compare KNN ROC with and without PCA"
   ],
   "metadata": {
    "collapsed": false
   }
  },
  {
   "cell_type": "code",
   "execution_count": null,
   "outputs": [],
   "source": [
    "'''\n",
    "plt.plot(fpr_knn0, tpr_knn0, color='red', lw=3, label='$AUC_{knn}$ = %.3f' % roc_auc_knn0)\n",
    "plt.plot(fpr_knn1, tpr_knn1, color='blue', lw=3, label='$AUC_{knnPCA}$ = %.3f' % roc_auc_knn1)\n",
    "\n",
    "plt.plot([0, 1], [0, 1], color='black', lw=2, linestyle='--')\n",
    "plt.xlim([0.0, 1.0])\n",
    "plt.ylim([0.0, 1.05])\n",
    "plt.xlabel('False Positive Rate', fontsize=16)\n",
    "plt.ylabel('True Positive Rate', fontsize=16)\n",
    "plt.title('ROC curve with PCA', fontsize=16)\n",
    "plt.legend(loc=\"lower right\", fontsize=14, frameon=False)\n",
    "plt.tick_params(axis='both', which='major', labelsize=16)\n",
    "plt.show()\n",
    "'''"
   ],
   "metadata": {
    "collapsed": false,
    "pycharm": {
     "name": "#%%\n"
    }
   }
  },
  {
   "cell_type": "markdown",
   "source": [
    "# Compare Decision tree and KNN (best scores)"
   ],
   "metadata": {
    "collapsed": false
   }
  },
  {
   "cell_type": "code",
   "execution_count": null,
   "outputs": [],
   "source": [
    "plt.plot(fpr_knn0, tpr_knn0, color='orange', lw=3, label='$AUC_{KNN}$ = %.3f' % roc_auc_knn0)\n",
    "plt.plot(fpr0, tpr0, color='black', lw=3, label='$AUC_{DecisionTree}$ = %.3f' % roc_auc0)\n",
    "\n",
    "plt.plot([0, 1], [0, 1], color='black', lw=2, linestyle='--')\n",
    "plt.xlim([0.0, 1.0])\n",
    "plt.ylim([0.0, 1.05])\n",
    "plt.xlabel('False Positive Rate', fontsize=16)\n",
    "plt.ylabel('True Positive Rate', fontsize=16)\n",
    "plt.title('ROC curve', fontsize=16)\n",
    "plt.legend(loc=\"lower right\", fontsize=14, frameon=False)\n",
    "plt.tick_params(axis='both', which='major', labelsize=16)\n",
    "plt.show()"
   ],
   "metadata": {
    "collapsed": false,
    "pycharm": {
     "name": "#%%\n"
    }
   }
  }
 ],
 "metadata": {
  "kernelspec": {
   "display_name": "Python 3",
   "language": "python",
   "name": "python3"
  },
  "language_info": {
   "codemirror_mode": {
    "name": "ipython",
    "version": 2
   },
   "file_extension": ".py",
   "mimetype": "text/x-python",
   "name": "python",
   "nbconvert_exporter": "python",
   "pygments_lexer": "ipython2",
   "version": "2.7.6"
  }
 },
 "nbformat": 4,
 "nbformat_minor": 0
}