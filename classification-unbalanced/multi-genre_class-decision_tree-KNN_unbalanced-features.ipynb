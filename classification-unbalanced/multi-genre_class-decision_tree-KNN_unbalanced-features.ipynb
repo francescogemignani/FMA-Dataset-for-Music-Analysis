{
 "cells": [
  {
   "cell_type": "code",
   "execution_count": 2,
   "metadata": {
    "collapsed": true
   },
   "outputs": [],
   "source": [
    "%matplotlib inline\n",
    "\n",
    "import pandas as pd\n",
    "import numpy as np\n",
    "from utility_functions import report\n",
    "# sklearn modules\n",
    "from sklearn import preprocessing\n",
    "from sklearn.model_selection import train_test_split, GridSearchCV\n",
    "from sklearn.tree import DecisionTreeClassifier\n",
    "from sklearn.model_selection import StratifiedKFold\n",
    "from sklearn.preprocessing import StandardScaler\n",
    "from sklearn.model_selection import RandomizedSearchCV\n",
    "from sklearn.model_selection import cross_val_score\n",
    "from sklearn.metrics import classification_report\n",
    "from sklearn.metrics import accuracy_score, f1_score, classification_report\n",
    "from sklearn.metrics import roc_curve, auc, roc_auc_score\n",
    "from sklearn.metrics import plot_confusion_matrix\n",
    "from mlxtend.feature_selection import SequentialFeatureSelector as SFS\n",
    "from sklearn.decomposition import PCA\n",
    "import seaborn as sns\n",
    "from sklearn.neighbors import KNeighborsClassifier\n",
    "\n",
    "import plotly.express as px\n",
    "from statistics import mean\n",
    "import matplotlib.pyplot as plt\n",
    "from random import randint\n",
    "from tqdm import tqdm\n",
    "from fma_metadata import utils\n",
    "\n",
    "import warnings\n",
    "warnings.filterwarnings('ignore')"
   ]
  },
  {
   "cell_type": "code",
   "execution_count": 3,
   "outputs": [
    {
     "data": {
      "text/plain": "feature    chroma_cens                                                    \\\nstatistics    kurtosis                                                     \nnumber              01        02        03        04        05        06   \ntrack_id                                                                   \n2             7.180653  5.230309  0.249321  1.347620  1.482478  0.531371   \n3             1.888963  0.760539  0.345297  2.295201  1.654031  0.067592   \n5             0.527563 -0.077654 -0.279610  0.685883  1.937570  0.880839   \n10            3.702245 -0.291193  2.196742 -0.234449  1.367364  0.998411   \n20           -0.193837 -0.198527  0.201546  0.258556  0.775204  0.084794   \n\nfeature                                             ...   tonnetz            \\\nstatistics                                          ...       std             \nnumber            07        08        09        10  ...        04        05   \ntrack_id                                            ...                       \n2           1.481593  2.691455  0.866868  1.341231  ...  0.054125  0.012226   \n3           1.366848  1.054094  0.108103  0.619185  ...  0.063831  0.014212   \n5          -0.923192 -0.927232  0.666617  1.038546  ...  0.040730  0.012691   \n10          1.770694  1.604566  0.521217  1.982386  ...  0.074358  0.017952   \n20         -0.289294 -0.816410  0.043851 -0.804761  ...  0.095003  0.022492   \n\nfeature                     zcr                                          \\\nstatistics             kurtosis       max      mean    median       min   \nnumber            06         01        01        01        01        01   \ntrack_id                                                                  \n2           0.012111   5.758890  0.459473  0.085629  0.071289  0.000000   \n3           0.017740   2.824694  0.466309  0.084578  0.063965  0.000000   \n5           0.014759   6.808415  0.375000  0.053114  0.041504  0.000000   \n10          0.013921  21.434212  0.452148  0.077515  0.071777  0.000000   \n20          0.021355  16.669037  0.469727  0.047225  0.040039  0.000977   \n\nfeature                         \nstatistics      skew       std  \nnumber            01        01  \ntrack_id                        \n2           2.089872  0.061448  \n3           1.716724  0.069330  \n5           2.193303  0.044861  \n10          3.542325  0.040800  \n20          3.189831  0.030993  \n\n[5 rows x 518 columns]",
      "text/html": "<div>\n<style scoped>\n    .dataframe tbody tr th:only-of-type {\n        vertical-align: middle;\n    }\n\n    .dataframe tbody tr th {\n        vertical-align: top;\n    }\n\n    .dataframe thead tr th {\n        text-align: left;\n    }\n\n    .dataframe thead tr:last-of-type th {\n        text-align: right;\n    }\n</style>\n<table border=\"1\" class=\"dataframe\">\n  <thead>\n    <tr>\n      <th>feature</th>\n      <th colspan=\"10\" halign=\"left\">chroma_cens</th>\n      <th>...</th>\n      <th colspan=\"3\" halign=\"left\">tonnetz</th>\n      <th colspan=\"7\" halign=\"left\">zcr</th>\n    </tr>\n    <tr>\n      <th>statistics</th>\n      <th colspan=\"10\" halign=\"left\">kurtosis</th>\n      <th>...</th>\n      <th colspan=\"3\" halign=\"left\">std</th>\n      <th>kurtosis</th>\n      <th>max</th>\n      <th>mean</th>\n      <th>median</th>\n      <th>min</th>\n      <th>skew</th>\n      <th>std</th>\n    </tr>\n    <tr>\n      <th>number</th>\n      <th>01</th>\n      <th>02</th>\n      <th>03</th>\n      <th>04</th>\n      <th>05</th>\n      <th>06</th>\n      <th>07</th>\n      <th>08</th>\n      <th>09</th>\n      <th>10</th>\n      <th>...</th>\n      <th>04</th>\n      <th>05</th>\n      <th>06</th>\n      <th>01</th>\n      <th>01</th>\n      <th>01</th>\n      <th>01</th>\n      <th>01</th>\n      <th>01</th>\n      <th>01</th>\n    </tr>\n    <tr>\n      <th>track_id</th>\n      <th></th>\n      <th></th>\n      <th></th>\n      <th></th>\n      <th></th>\n      <th></th>\n      <th></th>\n      <th></th>\n      <th></th>\n      <th></th>\n      <th></th>\n      <th></th>\n      <th></th>\n      <th></th>\n      <th></th>\n      <th></th>\n      <th></th>\n      <th></th>\n      <th></th>\n      <th></th>\n      <th></th>\n    </tr>\n  </thead>\n  <tbody>\n    <tr>\n      <th>2</th>\n      <td>7.180653</td>\n      <td>5.230309</td>\n      <td>0.249321</td>\n      <td>1.347620</td>\n      <td>1.482478</td>\n      <td>0.531371</td>\n      <td>1.481593</td>\n      <td>2.691455</td>\n      <td>0.866868</td>\n      <td>1.341231</td>\n      <td>...</td>\n      <td>0.054125</td>\n      <td>0.012226</td>\n      <td>0.012111</td>\n      <td>5.758890</td>\n      <td>0.459473</td>\n      <td>0.085629</td>\n      <td>0.071289</td>\n      <td>0.000000</td>\n      <td>2.089872</td>\n      <td>0.061448</td>\n    </tr>\n    <tr>\n      <th>3</th>\n      <td>1.888963</td>\n      <td>0.760539</td>\n      <td>0.345297</td>\n      <td>2.295201</td>\n      <td>1.654031</td>\n      <td>0.067592</td>\n      <td>1.366848</td>\n      <td>1.054094</td>\n      <td>0.108103</td>\n      <td>0.619185</td>\n      <td>...</td>\n      <td>0.063831</td>\n      <td>0.014212</td>\n      <td>0.017740</td>\n      <td>2.824694</td>\n      <td>0.466309</td>\n      <td>0.084578</td>\n      <td>0.063965</td>\n      <td>0.000000</td>\n      <td>1.716724</td>\n      <td>0.069330</td>\n    </tr>\n    <tr>\n      <th>5</th>\n      <td>0.527563</td>\n      <td>-0.077654</td>\n      <td>-0.279610</td>\n      <td>0.685883</td>\n      <td>1.937570</td>\n      <td>0.880839</td>\n      <td>-0.923192</td>\n      <td>-0.927232</td>\n      <td>0.666617</td>\n      <td>1.038546</td>\n      <td>...</td>\n      <td>0.040730</td>\n      <td>0.012691</td>\n      <td>0.014759</td>\n      <td>6.808415</td>\n      <td>0.375000</td>\n      <td>0.053114</td>\n      <td>0.041504</td>\n      <td>0.000000</td>\n      <td>2.193303</td>\n      <td>0.044861</td>\n    </tr>\n    <tr>\n      <th>10</th>\n      <td>3.702245</td>\n      <td>-0.291193</td>\n      <td>2.196742</td>\n      <td>-0.234449</td>\n      <td>1.367364</td>\n      <td>0.998411</td>\n      <td>1.770694</td>\n      <td>1.604566</td>\n      <td>0.521217</td>\n      <td>1.982386</td>\n      <td>...</td>\n      <td>0.074358</td>\n      <td>0.017952</td>\n      <td>0.013921</td>\n      <td>21.434212</td>\n      <td>0.452148</td>\n      <td>0.077515</td>\n      <td>0.071777</td>\n      <td>0.000000</td>\n      <td>3.542325</td>\n      <td>0.040800</td>\n    </tr>\n    <tr>\n      <th>20</th>\n      <td>-0.193837</td>\n      <td>-0.198527</td>\n      <td>0.201546</td>\n      <td>0.258556</td>\n      <td>0.775204</td>\n      <td>0.084794</td>\n      <td>-0.289294</td>\n      <td>-0.816410</td>\n      <td>0.043851</td>\n      <td>-0.804761</td>\n      <td>...</td>\n      <td>0.095003</td>\n      <td>0.022492</td>\n      <td>0.021355</td>\n      <td>16.669037</td>\n      <td>0.469727</td>\n      <td>0.047225</td>\n      <td>0.040039</td>\n      <td>0.000977</td>\n      <td>3.189831</td>\n      <td>0.030993</td>\n    </tr>\n  </tbody>\n</table>\n<p>5 rows × 518 columns</p>\n</div>"
     },
     "execution_count": 3,
     "metadata": {},
     "output_type": "execute_result"
    }
   ],
   "source": [
    "features = utils.load('/Users/gaetanoantonicchio/Desktop/dataset_DM2/fma_metadata/features.csv')\n",
    "features.head()"
   ],
   "metadata": {
    "collapsed": false,
    "pycharm": {
     "name": "#%%\n"
    }
   }
  },
  {
   "cell_type": "code",
   "execution_count": 8,
   "outputs": [
    {
     "data": {
      "text/plain": "         genre_top\ntrack_id          \n2          Hip-Hop\n3          Hip-Hop\n5          Hip-Hop\n10             Pop\n20             NaN",
      "text/html": "<div>\n<style scoped>\n    .dataframe tbody tr th:only-of-type {\n        vertical-align: middle;\n    }\n\n    .dataframe tbody tr th {\n        vertical-align: top;\n    }\n\n    .dataframe thead th {\n        text-align: right;\n    }\n</style>\n<table border=\"1\" class=\"dataframe\">\n  <thead>\n    <tr style=\"text-align: right;\">\n      <th></th>\n      <th>genre_top</th>\n    </tr>\n    <tr>\n      <th>track_id</th>\n      <th></th>\n    </tr>\n  </thead>\n  <tbody>\n    <tr>\n      <th>2</th>\n      <td>Hip-Hop</td>\n    </tr>\n    <tr>\n      <th>3</th>\n      <td>Hip-Hop</td>\n    </tr>\n    <tr>\n      <th>5</th>\n      <td>Hip-Hop</td>\n    </tr>\n    <tr>\n      <th>10</th>\n      <td>Pop</td>\n    </tr>\n    <tr>\n      <th>20</th>\n      <td>NaN</td>\n    </tr>\n  </tbody>\n</table>\n</div>"
     },
     "execution_count": 8,
     "metadata": {},
     "output_type": "execute_result"
    }
   ],
   "source": [
    "labels = pd.read_csv('/Users/gaetanoantonicchio/Documents/GitHub/DataMining-2/clean_datasets/labels/gr_top_lbl.csv')\n",
    "labels=labels.set_index('track_id')\n",
    "labels.head()"
   ],
   "metadata": {
    "collapsed": false,
    "pycharm": {
     "name": "#%%\n"
    }
   }
  },
  {
   "cell_type": "code",
   "execution_count": 9,
   "outputs": [
    {
     "data": {
      "text/plain": "          (chroma_cens, kurtosis, 01)  (chroma_cens, kurtosis, 02)  \\\ntrack_id                                                             \n2                            7.180653                     5.230309   \n3                            1.888963                     0.760539   \n5                            0.527563                    -0.077654   \n10                           3.702245                    -0.291193   \n20                          -0.193837                    -0.198527   \n\n          (chroma_cens, kurtosis, 03)  (chroma_cens, kurtosis, 04)  \\\ntrack_id                                                             \n2                            0.249321                     1.347620   \n3                            0.345297                     2.295201   \n5                           -0.279610                     0.685883   \n10                           2.196742                    -0.234449   \n20                           0.201546                     0.258556   \n\n          (chroma_cens, kurtosis, 05)  (chroma_cens, kurtosis, 06)  \\\ntrack_id                                                             \n2                            1.482478                     0.531371   \n3                            1.654031                     0.067592   \n5                            1.937570                     0.880839   \n10                           1.367364                     0.998411   \n20                           0.775204                     0.084794   \n\n          (chroma_cens, kurtosis, 07)  (chroma_cens, kurtosis, 08)  \\\ntrack_id                                                             \n2                            1.481593                     2.691455   \n3                            1.366848                     1.054094   \n5                           -0.923192                    -0.927232   \n10                           1.770694                     1.604566   \n20                          -0.289294                    -0.816410   \n\n          (chroma_cens, kurtosis, 09)  (chroma_cens, kurtosis, 10)  ...  \\\ntrack_id                                                            ...   \n2                            0.866868                     1.341231  ...   \n3                            0.108103                     0.619185  ...   \n5                            0.666617                     1.038546  ...   \n10                           0.521217                     1.982386  ...   \n20                           0.043851                    -0.804761  ...   \n\n          (tonnetz, std, 05)  (tonnetz, std, 06)  (zcr, kurtosis, 01)  \\\ntrack_id                                                                \n2                   0.012226            0.012111             5.758890   \n3                   0.014212            0.017740             2.824694   \n5                   0.012691            0.014759             6.808415   \n10                  0.017952            0.013921            21.434212   \n20                  0.022492            0.021355            16.669037   \n\n          (zcr, max, 01)  (zcr, mean, 01)  (zcr, median, 01)  (zcr, min, 01)  \\\ntrack_id                                                                       \n2               0.459473         0.085629           0.071289        0.000000   \n3               0.466309         0.084578           0.063965        0.000000   \n5               0.375000         0.053114           0.041504        0.000000   \n10              0.452148         0.077515           0.071777        0.000000   \n20              0.469727         0.047225           0.040039        0.000977   \n\n          (zcr, skew, 01)  (zcr, std, 01)  genre_top  \ntrack_id                                              \n2                2.089872        0.061448    Hip-Hop  \n3                1.716724        0.069330    Hip-Hop  \n5                2.193303        0.044861    Hip-Hop  \n10               3.542325        0.040800        Pop  \n20               3.189831        0.030993        NaN  \n\n[5 rows x 519 columns]",
      "text/html": "<div>\n<style scoped>\n    .dataframe tbody tr th:only-of-type {\n        vertical-align: middle;\n    }\n\n    .dataframe tbody tr th {\n        vertical-align: top;\n    }\n\n    .dataframe thead th {\n        text-align: right;\n    }\n</style>\n<table border=\"1\" class=\"dataframe\">\n  <thead>\n    <tr style=\"text-align: right;\">\n      <th></th>\n      <th>(chroma_cens, kurtosis, 01)</th>\n      <th>(chroma_cens, kurtosis, 02)</th>\n      <th>(chroma_cens, kurtosis, 03)</th>\n      <th>(chroma_cens, kurtosis, 04)</th>\n      <th>(chroma_cens, kurtosis, 05)</th>\n      <th>(chroma_cens, kurtosis, 06)</th>\n      <th>(chroma_cens, kurtosis, 07)</th>\n      <th>(chroma_cens, kurtosis, 08)</th>\n      <th>(chroma_cens, kurtosis, 09)</th>\n      <th>(chroma_cens, kurtosis, 10)</th>\n      <th>...</th>\n      <th>(tonnetz, std, 05)</th>\n      <th>(tonnetz, std, 06)</th>\n      <th>(zcr, kurtosis, 01)</th>\n      <th>(zcr, max, 01)</th>\n      <th>(zcr, mean, 01)</th>\n      <th>(zcr, median, 01)</th>\n      <th>(zcr, min, 01)</th>\n      <th>(zcr, skew, 01)</th>\n      <th>(zcr, std, 01)</th>\n      <th>genre_top</th>\n    </tr>\n    <tr>\n      <th>track_id</th>\n      <th></th>\n      <th></th>\n      <th></th>\n      <th></th>\n      <th></th>\n      <th></th>\n      <th></th>\n      <th></th>\n      <th></th>\n      <th></th>\n      <th></th>\n      <th></th>\n      <th></th>\n      <th></th>\n      <th></th>\n      <th></th>\n      <th></th>\n      <th></th>\n      <th></th>\n      <th></th>\n      <th></th>\n    </tr>\n  </thead>\n  <tbody>\n    <tr>\n      <th>2</th>\n      <td>7.180653</td>\n      <td>5.230309</td>\n      <td>0.249321</td>\n      <td>1.347620</td>\n      <td>1.482478</td>\n      <td>0.531371</td>\n      <td>1.481593</td>\n      <td>2.691455</td>\n      <td>0.866868</td>\n      <td>1.341231</td>\n      <td>...</td>\n      <td>0.012226</td>\n      <td>0.012111</td>\n      <td>5.758890</td>\n      <td>0.459473</td>\n      <td>0.085629</td>\n      <td>0.071289</td>\n      <td>0.000000</td>\n      <td>2.089872</td>\n      <td>0.061448</td>\n      <td>Hip-Hop</td>\n    </tr>\n    <tr>\n      <th>3</th>\n      <td>1.888963</td>\n      <td>0.760539</td>\n      <td>0.345297</td>\n      <td>2.295201</td>\n      <td>1.654031</td>\n      <td>0.067592</td>\n      <td>1.366848</td>\n      <td>1.054094</td>\n      <td>0.108103</td>\n      <td>0.619185</td>\n      <td>...</td>\n      <td>0.014212</td>\n      <td>0.017740</td>\n      <td>2.824694</td>\n      <td>0.466309</td>\n      <td>0.084578</td>\n      <td>0.063965</td>\n      <td>0.000000</td>\n      <td>1.716724</td>\n      <td>0.069330</td>\n      <td>Hip-Hop</td>\n    </tr>\n    <tr>\n      <th>5</th>\n      <td>0.527563</td>\n      <td>-0.077654</td>\n      <td>-0.279610</td>\n      <td>0.685883</td>\n      <td>1.937570</td>\n      <td>0.880839</td>\n      <td>-0.923192</td>\n      <td>-0.927232</td>\n      <td>0.666617</td>\n      <td>1.038546</td>\n      <td>...</td>\n      <td>0.012691</td>\n      <td>0.014759</td>\n      <td>6.808415</td>\n      <td>0.375000</td>\n      <td>0.053114</td>\n      <td>0.041504</td>\n      <td>0.000000</td>\n      <td>2.193303</td>\n      <td>0.044861</td>\n      <td>Hip-Hop</td>\n    </tr>\n    <tr>\n      <th>10</th>\n      <td>3.702245</td>\n      <td>-0.291193</td>\n      <td>2.196742</td>\n      <td>-0.234449</td>\n      <td>1.367364</td>\n      <td>0.998411</td>\n      <td>1.770694</td>\n      <td>1.604566</td>\n      <td>0.521217</td>\n      <td>1.982386</td>\n      <td>...</td>\n      <td>0.017952</td>\n      <td>0.013921</td>\n      <td>21.434212</td>\n      <td>0.452148</td>\n      <td>0.077515</td>\n      <td>0.071777</td>\n      <td>0.000000</td>\n      <td>3.542325</td>\n      <td>0.040800</td>\n      <td>Pop</td>\n    </tr>\n    <tr>\n      <th>20</th>\n      <td>-0.193837</td>\n      <td>-0.198527</td>\n      <td>0.201546</td>\n      <td>0.258556</td>\n      <td>0.775204</td>\n      <td>0.084794</td>\n      <td>-0.289294</td>\n      <td>-0.816410</td>\n      <td>0.043851</td>\n      <td>-0.804761</td>\n      <td>...</td>\n      <td>0.022492</td>\n      <td>0.021355</td>\n      <td>16.669037</td>\n      <td>0.469727</td>\n      <td>0.047225</td>\n      <td>0.040039</td>\n      <td>0.000977</td>\n      <td>3.189831</td>\n      <td>0.030993</td>\n      <td>NaN</td>\n    </tr>\n  </tbody>\n</table>\n<p>5 rows × 519 columns</p>\n</div>"
     },
     "execution_count": 9,
     "metadata": {},
     "output_type": "execute_result"
    }
   ],
   "source": [
    "features = features.merge(labels, on='track_id')\n",
    "features.head()"
   ],
   "metadata": {
    "collapsed": false,
    "pycharm": {
     "name": "#%%\n"
    }
   }
  },
  {
   "cell_type": "code",
   "execution_count": 10,
   "outputs": [
    {
     "data": {
      "text/plain": "          (chroma_cens, kurtosis, 01)  (chroma_cens, kurtosis, 02)  \\\ntrack_id                                                             \n2                            7.180653                     5.230309   \n3                            1.888963                     0.760539   \n5                            0.527563                    -0.077654   \n10                           3.702245                    -0.291193   \n134                          0.918445                     0.674147   \n\n          (chroma_cens, kurtosis, 03)  (chroma_cens, kurtosis, 04)  \\\ntrack_id                                                             \n2                            0.249321                     1.347620   \n3                            0.345297                     2.295201   \n5                           -0.279610                     0.685883   \n10                           2.196742                    -0.234449   \n134                          0.577818                     1.281117   \n\n          (chroma_cens, kurtosis, 05)  (chroma_cens, kurtosis, 06)  \\\ntrack_id                                                             \n2                            1.482478                     0.531371   \n3                            1.654031                     0.067592   \n5                            1.937570                     0.880839   \n10                           1.367364                     0.998411   \n134                          0.933746                     0.078177   \n\n          (chroma_cens, kurtosis, 07)  (chroma_cens, kurtosis, 08)  \\\ntrack_id                                                             \n2                            1.481593                     2.691455   \n3                            1.366848                     1.054094   \n5                           -0.923192                    -0.927232   \n10                           1.770694                     1.604566   \n134                          1.199204                    -0.175223   \n\n          (chroma_cens, kurtosis, 09)  (chroma_cens, kurtosis, 10)  ...  \\\ntrack_id                                                            ...   \n2                            0.866868                     1.341231  ...   \n3                            0.108103                     0.619185  ...   \n5                            0.666617                     1.038546  ...   \n10                           0.521217                     1.982386  ...   \n134                          0.925482                     1.438509  ...   \n\n          (tonnetz, std, 05)  (tonnetz, std, 06)  (zcr, kurtosis, 01)  \\\ntrack_id                                                                \n2                   0.012226            0.012111             5.758890   \n3                   0.014212            0.017740             2.824694   \n5                   0.012691            0.014759             6.808415   \n10                  0.017952            0.013921            21.434212   \n134                 0.016322            0.015819             4.731087   \n\n          (zcr, max, 01)  (zcr, mean, 01)  (zcr, median, 01)  (zcr, min, 01)  \\\ntrack_id                                                                       \n2               0.459473         0.085629           0.071289             0.0   \n3               0.466309         0.084578           0.063965             0.0   \n5               0.375000         0.053114           0.041504             0.0   \n10              0.452148         0.077515           0.071777             0.0   \n134             0.419434         0.064370           0.050781             0.0   \n\n          (zcr, skew, 01)  (zcr, std, 01)  genre_top  \ntrack_id                                              \n2                2.089872        0.061448    Hip-Hop  \n3                1.716724        0.069330    Hip-Hop  \n5                2.193303        0.044861    Hip-Hop  \n10               3.542325        0.040800        Pop  \n134              1.806106        0.054623    Hip-Hop  \n\n[5 rows x 519 columns]",
      "text/html": "<div>\n<style scoped>\n    .dataframe tbody tr th:only-of-type {\n        vertical-align: middle;\n    }\n\n    .dataframe tbody tr th {\n        vertical-align: top;\n    }\n\n    .dataframe thead th {\n        text-align: right;\n    }\n</style>\n<table border=\"1\" class=\"dataframe\">\n  <thead>\n    <tr style=\"text-align: right;\">\n      <th></th>\n      <th>(chroma_cens, kurtosis, 01)</th>\n      <th>(chroma_cens, kurtosis, 02)</th>\n      <th>(chroma_cens, kurtosis, 03)</th>\n      <th>(chroma_cens, kurtosis, 04)</th>\n      <th>(chroma_cens, kurtosis, 05)</th>\n      <th>(chroma_cens, kurtosis, 06)</th>\n      <th>(chroma_cens, kurtosis, 07)</th>\n      <th>(chroma_cens, kurtosis, 08)</th>\n      <th>(chroma_cens, kurtosis, 09)</th>\n      <th>(chroma_cens, kurtosis, 10)</th>\n      <th>...</th>\n      <th>(tonnetz, std, 05)</th>\n      <th>(tonnetz, std, 06)</th>\n      <th>(zcr, kurtosis, 01)</th>\n      <th>(zcr, max, 01)</th>\n      <th>(zcr, mean, 01)</th>\n      <th>(zcr, median, 01)</th>\n      <th>(zcr, min, 01)</th>\n      <th>(zcr, skew, 01)</th>\n      <th>(zcr, std, 01)</th>\n      <th>genre_top</th>\n    </tr>\n    <tr>\n      <th>track_id</th>\n      <th></th>\n      <th></th>\n      <th></th>\n      <th></th>\n      <th></th>\n      <th></th>\n      <th></th>\n      <th></th>\n      <th></th>\n      <th></th>\n      <th></th>\n      <th></th>\n      <th></th>\n      <th></th>\n      <th></th>\n      <th></th>\n      <th></th>\n      <th></th>\n      <th></th>\n      <th></th>\n      <th></th>\n    </tr>\n  </thead>\n  <tbody>\n    <tr>\n      <th>2</th>\n      <td>7.180653</td>\n      <td>5.230309</td>\n      <td>0.249321</td>\n      <td>1.347620</td>\n      <td>1.482478</td>\n      <td>0.531371</td>\n      <td>1.481593</td>\n      <td>2.691455</td>\n      <td>0.866868</td>\n      <td>1.341231</td>\n      <td>...</td>\n      <td>0.012226</td>\n      <td>0.012111</td>\n      <td>5.758890</td>\n      <td>0.459473</td>\n      <td>0.085629</td>\n      <td>0.071289</td>\n      <td>0.0</td>\n      <td>2.089872</td>\n      <td>0.061448</td>\n      <td>Hip-Hop</td>\n    </tr>\n    <tr>\n      <th>3</th>\n      <td>1.888963</td>\n      <td>0.760539</td>\n      <td>0.345297</td>\n      <td>2.295201</td>\n      <td>1.654031</td>\n      <td>0.067592</td>\n      <td>1.366848</td>\n      <td>1.054094</td>\n      <td>0.108103</td>\n      <td>0.619185</td>\n      <td>...</td>\n      <td>0.014212</td>\n      <td>0.017740</td>\n      <td>2.824694</td>\n      <td>0.466309</td>\n      <td>0.084578</td>\n      <td>0.063965</td>\n      <td>0.0</td>\n      <td>1.716724</td>\n      <td>0.069330</td>\n      <td>Hip-Hop</td>\n    </tr>\n    <tr>\n      <th>5</th>\n      <td>0.527563</td>\n      <td>-0.077654</td>\n      <td>-0.279610</td>\n      <td>0.685883</td>\n      <td>1.937570</td>\n      <td>0.880839</td>\n      <td>-0.923192</td>\n      <td>-0.927232</td>\n      <td>0.666617</td>\n      <td>1.038546</td>\n      <td>...</td>\n      <td>0.012691</td>\n      <td>0.014759</td>\n      <td>6.808415</td>\n      <td>0.375000</td>\n      <td>0.053114</td>\n      <td>0.041504</td>\n      <td>0.0</td>\n      <td>2.193303</td>\n      <td>0.044861</td>\n      <td>Hip-Hop</td>\n    </tr>\n    <tr>\n      <th>10</th>\n      <td>3.702245</td>\n      <td>-0.291193</td>\n      <td>2.196742</td>\n      <td>-0.234449</td>\n      <td>1.367364</td>\n      <td>0.998411</td>\n      <td>1.770694</td>\n      <td>1.604566</td>\n      <td>0.521217</td>\n      <td>1.982386</td>\n      <td>...</td>\n      <td>0.017952</td>\n      <td>0.013921</td>\n      <td>21.434212</td>\n      <td>0.452148</td>\n      <td>0.077515</td>\n      <td>0.071777</td>\n      <td>0.0</td>\n      <td>3.542325</td>\n      <td>0.040800</td>\n      <td>Pop</td>\n    </tr>\n    <tr>\n      <th>134</th>\n      <td>0.918445</td>\n      <td>0.674147</td>\n      <td>0.577818</td>\n      <td>1.281117</td>\n      <td>0.933746</td>\n      <td>0.078177</td>\n      <td>1.199204</td>\n      <td>-0.175223</td>\n      <td>0.925482</td>\n      <td>1.438509</td>\n      <td>...</td>\n      <td>0.016322</td>\n      <td>0.015819</td>\n      <td>4.731087</td>\n      <td>0.419434</td>\n      <td>0.064370</td>\n      <td>0.050781</td>\n      <td>0.0</td>\n      <td>1.806106</td>\n      <td>0.054623</td>\n      <td>Hip-Hop</td>\n    </tr>\n  </tbody>\n</table>\n<p>5 rows × 519 columns</p>\n</div>"
     },
     "execution_count": 10,
     "metadata": {},
     "output_type": "execute_result"
    }
   ],
   "source": [
    "# drop NaN\n",
    "features.dropna(inplace=True)\n",
    "features.head()"
   ],
   "metadata": {
    "collapsed": false,
    "pycharm": {
     "name": "#%%\n"
    }
   }
  },
  {
   "cell_type": "code",
   "execution_count": 12,
   "outputs": [
    {
     "data": {
      "text/plain": "(chroma_cens, kurtosis, 01)    0\n(chroma_cens, kurtosis, 02)    0\n(chroma_cens, kurtosis, 03)    0\n(chroma_cens, kurtosis, 04)    0\n(chroma_cens, kurtosis, 05)    0\n                              ..\n(zcr, median, 01)              0\n(zcr, min, 01)                 0\n(zcr, skew, 01)                0\n(zcr, std, 01)                 0\ngenre_top                      0\nLength: 519, dtype: int64"
     },
     "execution_count": 12,
     "metadata": {},
     "output_type": "execute_result"
    }
   ],
   "source": [
    "features.isnull().sum()"
   ],
   "metadata": {
    "collapsed": false,
    "pycharm": {
     "name": "#%%\n"
    }
   }
  }
 ],
 "metadata": {
  "kernelspec": {
   "display_name": "Python 3",
   "language": "python",
   "name": "python3"
  },
  "language_info": {
   "codemirror_mode": {
    "name": "ipython",
    "version": 2
   },
   "file_extension": ".py",
   "mimetype": "text/x-python",
   "name": "python",
   "nbconvert_exporter": "python",
   "pygments_lexer": "ipython2",
   "version": "2.7.6"
  }
 },
 "nbformat": 4,
 "nbformat_minor": 0
}