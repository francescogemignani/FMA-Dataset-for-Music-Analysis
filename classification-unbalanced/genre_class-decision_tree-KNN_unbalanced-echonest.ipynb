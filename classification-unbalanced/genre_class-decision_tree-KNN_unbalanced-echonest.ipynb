{
 "cells": [
  {
   "cell_type": "code",
   "execution_count": 2,
   "metadata": {
    "collapsed": true
   },
   "outputs": [],
   "source": [
    "%matplotlib inline\n",
    "\n",
    "import pandas as pd\n",
    "import numpy as np\n",
    "\n",
    "# sklearn modules\n",
    "from sklearn import preprocessing\n",
    "from sklearn.model_selection import train_test_split, GridSearchCV\n",
    "from sklearn.tree import DecisionTreeClassifier\n",
    "from sklearn.model_selection import StratifiedKFold\n",
    "from sklearn.preprocessing import StandardScaler\n",
    "from sklearn.model_selection import RandomizedSearchCV\n",
    "from sklearn.model_selection import cross_val_score\n",
    "from sklearn.metrics import classification_report\n",
    "from sklearn.metrics import accuracy_score, f1_score, classification_report\n",
    "from sklearn.metrics import roc_curve, auc, roc_auc_score\n",
    "from sklearn.metrics import plot_confusion_matrix\n",
    "from mlxtend.feature_selection import SequentialFeatureSelector as SFS\n",
    "from sklearn.decomposition import PCA\n",
    "\n",
    "from sklearn.neighbors import KNeighborsClassifier\n",
    "\n",
    "import plotly.express as px\n",
    "from statistics import mean\n",
    "import matplotlib.pyplot as plt\n",
    "from random import randint\n",
    "from tqdm import tqdm\n",
    "\n",
    "import warnings\n",
    "warnings.filterwarnings('ignore')"
   ]
  },
  {
   "cell_type": "code",
   "execution_count": 3,
   "outputs": [
    {
     "data": {
      "text/plain": "          acousticness  danceability    energy  instrumentalness  liveness  \\\ntrack_id                                                                     \n2             0.416675      0.675894  0.634476          0.010628  0.177647   \n3             0.374408      0.528643  0.817461          0.001851  0.105880   \n5             0.043567      0.745566  0.701470          0.000697  0.373143   \n10            0.951670      0.658179  0.924525          0.965427  0.115474   \n134           0.452217      0.513238  0.560410          0.019443  0.096567   \n\n          speechiness    tempo   valence genre_top  \ntrack_id                                            \n2            0.159310  165.922  0.576661   Hip-Hop  \n3            0.461818  126.957  0.269240   Hip-Hop  \n5            0.124595  100.260  0.621661   Hip-Hop  \n10           0.032985  111.562  0.963590       Pop  \n134          0.525519  114.290  0.894072   Hip-Hop  ",
      "text/html": "<div>\n<style scoped>\n    .dataframe tbody tr th:only-of-type {\n        vertical-align: middle;\n    }\n\n    .dataframe tbody tr th {\n        vertical-align: top;\n    }\n\n    .dataframe thead th {\n        text-align: right;\n    }\n</style>\n<table border=\"1\" class=\"dataframe\">\n  <thead>\n    <tr style=\"text-align: right;\">\n      <th></th>\n      <th>acousticness</th>\n      <th>danceability</th>\n      <th>energy</th>\n      <th>instrumentalness</th>\n      <th>liveness</th>\n      <th>speechiness</th>\n      <th>tempo</th>\n      <th>valence</th>\n      <th>genre_top</th>\n    </tr>\n    <tr>\n      <th>track_id</th>\n      <th></th>\n      <th></th>\n      <th></th>\n      <th></th>\n      <th></th>\n      <th></th>\n      <th></th>\n      <th></th>\n      <th></th>\n    </tr>\n  </thead>\n  <tbody>\n    <tr>\n      <th>2</th>\n      <td>0.416675</td>\n      <td>0.675894</td>\n      <td>0.634476</td>\n      <td>0.010628</td>\n      <td>0.177647</td>\n      <td>0.159310</td>\n      <td>165.922</td>\n      <td>0.576661</td>\n      <td>Hip-Hop</td>\n    </tr>\n    <tr>\n      <th>3</th>\n      <td>0.374408</td>\n      <td>0.528643</td>\n      <td>0.817461</td>\n      <td>0.001851</td>\n      <td>0.105880</td>\n      <td>0.461818</td>\n      <td>126.957</td>\n      <td>0.269240</td>\n      <td>Hip-Hop</td>\n    </tr>\n    <tr>\n      <th>5</th>\n      <td>0.043567</td>\n      <td>0.745566</td>\n      <td>0.701470</td>\n      <td>0.000697</td>\n      <td>0.373143</td>\n      <td>0.124595</td>\n      <td>100.260</td>\n      <td>0.621661</td>\n      <td>Hip-Hop</td>\n    </tr>\n    <tr>\n      <th>10</th>\n      <td>0.951670</td>\n      <td>0.658179</td>\n      <td>0.924525</td>\n      <td>0.965427</td>\n      <td>0.115474</td>\n      <td>0.032985</td>\n      <td>111.562</td>\n      <td>0.963590</td>\n      <td>Pop</td>\n    </tr>\n    <tr>\n      <th>134</th>\n      <td>0.452217</td>\n      <td>0.513238</td>\n      <td>0.560410</td>\n      <td>0.019443</td>\n      <td>0.096567</td>\n      <td>0.525519</td>\n      <td>114.290</td>\n      <td>0.894072</td>\n      <td>Hip-Hop</td>\n    </tr>\n  </tbody>\n</table>\n</div>"
     },
     "execution_count": 3,
     "metadata": {},
     "output_type": "execute_result"
    }
   ],
   "source": [
    "echo_genres = pd.read_csv('//Users/gaetanoantonicchio/Documents/GitHub/DataMining-2/clean_datasets/echo_genres.csv')\n",
    "echo_genres.set_index('track_id', inplace=True)\n",
    "echo_genres.head()"
   ],
   "metadata": {
    "collapsed": false,
    "pycharm": {
     "name": "#%%\n"
    }
   }
  },
  {
   "cell_type": "markdown",
   "source": [
    "## Binary Classification Rock - Pop"
   ],
   "metadata": {
    "collapsed": false,
    "pycharm": {
     "name": "#%% md\n"
    }
   }
  },
  {
   "cell_type": "code",
   "execution_count": 29,
   "outputs": [
    {
     "data": {
      "text/plain": "          acousticness  danceability    energy  instrumentalness  liveness  \\\ntrack_id                                                                     \n2             0.416675      0.675894  0.634476          0.010628  0.177647   \n3             0.374408      0.528643  0.817461          0.001851  0.105880   \n5             0.043567      0.745566  0.701470          0.000697  0.373143   \n10            0.951670      0.658179  0.924525          0.965427  0.115474   \n134           0.452217      0.513238  0.560410          0.019443  0.096567   \n\n          speechiness    tempo   valence genre_top  \ntrack_id                                            \n2            0.159310  165.922  0.576661   Hip-Hop  \n3            0.461818  126.957  0.269240   Hip-Hop  \n5            0.124595  100.260  0.621661   Hip-Hop  \n10           0.032985  111.562  0.963590       Pop  \n134          0.525519  114.290  0.894072   Hip-Hop  ",
      "text/html": "<div>\n<style scoped>\n    .dataframe tbody tr th:only-of-type {\n        vertical-align: middle;\n    }\n\n    .dataframe tbody tr th {\n        vertical-align: top;\n    }\n\n    .dataframe thead th {\n        text-align: right;\n    }\n</style>\n<table border=\"1\" class=\"dataframe\">\n  <thead>\n    <tr style=\"text-align: right;\">\n      <th></th>\n      <th>acousticness</th>\n      <th>danceability</th>\n      <th>energy</th>\n      <th>instrumentalness</th>\n      <th>liveness</th>\n      <th>speechiness</th>\n      <th>tempo</th>\n      <th>valence</th>\n      <th>genre_top</th>\n    </tr>\n    <tr>\n      <th>track_id</th>\n      <th></th>\n      <th></th>\n      <th></th>\n      <th></th>\n      <th></th>\n      <th></th>\n      <th></th>\n      <th></th>\n      <th></th>\n    </tr>\n  </thead>\n  <tbody>\n    <tr>\n      <th>2</th>\n      <td>0.416675</td>\n      <td>0.675894</td>\n      <td>0.634476</td>\n      <td>0.010628</td>\n      <td>0.177647</td>\n      <td>0.159310</td>\n      <td>165.922</td>\n      <td>0.576661</td>\n      <td>Hip-Hop</td>\n    </tr>\n    <tr>\n      <th>3</th>\n      <td>0.374408</td>\n      <td>0.528643</td>\n      <td>0.817461</td>\n      <td>0.001851</td>\n      <td>0.105880</td>\n      <td>0.461818</td>\n      <td>126.957</td>\n      <td>0.269240</td>\n      <td>Hip-Hop</td>\n    </tr>\n    <tr>\n      <th>5</th>\n      <td>0.043567</td>\n      <td>0.745566</td>\n      <td>0.701470</td>\n      <td>0.000697</td>\n      <td>0.373143</td>\n      <td>0.124595</td>\n      <td>100.260</td>\n      <td>0.621661</td>\n      <td>Hip-Hop</td>\n    </tr>\n    <tr>\n      <th>10</th>\n      <td>0.951670</td>\n      <td>0.658179</td>\n      <td>0.924525</td>\n      <td>0.965427</td>\n      <td>0.115474</td>\n      <td>0.032985</td>\n      <td>111.562</td>\n      <td>0.963590</td>\n      <td>Pop</td>\n    </tr>\n    <tr>\n      <th>134</th>\n      <td>0.452217</td>\n      <td>0.513238</td>\n      <td>0.560410</td>\n      <td>0.019443</td>\n      <td>0.096567</td>\n      <td>0.525519</td>\n      <td>114.290</td>\n      <td>0.894072</td>\n      <td>Hip-Hop</td>\n    </tr>\n  </tbody>\n</table>\n</div>"
     },
     "execution_count": 29,
     "metadata": {},
     "output_type": "execute_result"
    }
   ],
   "source": [
    "rock_pop = echo_genres[echo_genres['genre_top'].isin(['Hip-Hop','Pop'])]\n",
    "rock_pop.head()"
   ],
   "metadata": {
    "collapsed": false,
    "pycharm": {
     "name": "#%%\n"
    }
   }
  },
  {
   "cell_type": "code",
   "execution_count": 30,
   "outputs": [
    {
     "data": {
      "text/plain": "(1256, 9)"
     },
     "execution_count": 30,
     "metadata": {},
     "output_type": "execute_result"
    }
   ],
   "source": [
    "# check shape\n",
    "rock_pop.shape"
   ],
   "metadata": {
    "collapsed": false,
    "pycharm": {
     "name": "#%%\n"
    }
   }
  },
  {
   "cell_type": "code",
   "execution_count": 31,
   "outputs": [
    {
     "data": {
      "text/plain": "Hip-Hop    910\nPop        346\nName: genre_top, dtype: int64"
     },
     "execution_count": 31,
     "metadata": {},
     "output_type": "execute_result"
    }
   ],
   "source": [
    "rock_pop.genre_top.value_counts()"
   ],
   "metadata": {
    "collapsed": false,
    "pycharm": {
     "name": "#%%\n"
    }
   }
  },
  {
   "cell_type": "code",
   "execution_count": 32,
   "outputs": [],
   "source": [
    "# encoding labels: 0 --> not popular,  1 --> popular\n",
    "le = preprocessing.LabelEncoder()\n",
    "rock_pop['genre_top'] = le.fit_transform(rock_pop['genre_top'])"
   ],
   "metadata": {
    "collapsed": false,
    "pycharm": {
     "name": "#%%\n"
    }
   }
  },
  {
   "cell_type": "code",
   "execution_count": 34,
   "outputs": [
    {
     "name": "stdout",
     "output_type": "stream",
     "text": [
      "legend:\n",
      "0: Rock\n",
      "1: Pop\n"
     ]
    },
    {
     "data": {
      "text/plain": "0    910\n1    346\nName: genre_top, dtype: int64"
     },
     "execution_count": 34,
     "metadata": {},
     "output_type": "execute_result"
    }
   ],
   "source": [
    "print('legend:\\n0: Rock\\n1: Pop')\n",
    "rock_pop.genre_top.value_counts()"
   ],
   "metadata": {
    "collapsed": false,
    "pycharm": {
     "name": "#%%\n"
    }
   }
  },
  {
   "cell_type": "code",
   "execution_count": 35,
   "outputs": [],
   "source": [
    "genre_labels = rock_pop['genre_top']\n",
    "rock_pop.drop('genre_top', axis=1, inplace=True)"
   ],
   "metadata": {
    "collapsed": false,
    "pycharm": {
     "name": "#%%\n"
    }
   }
  },
  {
   "cell_type": "code",
   "execution_count": 36,
   "outputs": [],
   "source": [
    "# shuffle and split into development set and internal test set\n",
    "X_develop, X_test, y_develop, y_test = train_test_split(\n",
    "rock_pop, genre_labels, test_size=0.30, random_state=42)"
   ],
   "metadata": {
    "collapsed": false,
    "pycharm": {
     "name": "#%%\n"
    }
   }
  },
  {
   "cell_type": "code",
   "execution_count": 37,
   "outputs": [
    {
     "name": "stdout",
     "output_type": "stream",
     "text": [
      "____Legend____\n",
      "0: Rock\n",
      "1: Pop\n",
      "\n",
      "Development set:\n",
      "0    645\n",
      "1    234\n",
      "Name: genre_top, dtype: int64\n",
      "\n",
      "Internal Test:\n",
      "0    265\n",
      "1    112\n",
      "Name: genre_top, dtype: int64\n"
     ]
    }
   ],
   "source": [
    "# check partition\n",
    "print(f\"____Legend____\\n0: Rock\\n1: Pop\\n\\nDevelopment set:\\\n",
    "\\n{y_develop.value_counts()}\\n\\nInternal Test:\\n{y_test.value_counts()}\")"
   ],
   "metadata": {
    "collapsed": false,
    "pycharm": {
     "name": "#%%\n"
    }
   }
  }
 ],
 "metadata": {
  "kernelspec": {
   "display_name": "Python 3",
   "language": "python",
   "name": "python3"
  },
  "language_info": {
   "codemirror_mode": {
    "name": "ipython",
    "version": 2
   },
   "file_extension": ".py",
   "mimetype": "text/x-python",
   "name": "python",
   "nbconvert_exporter": "python",
   "pygments_lexer": "ipython2",
   "version": "2.7.6"
  }
 },
 "nbformat": 4,
 "nbformat_minor": 0
}